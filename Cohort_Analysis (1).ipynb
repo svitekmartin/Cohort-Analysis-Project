{
 "cells": [
  {
   "cell_type": "markdown",
   "metadata": {
    "application/vnd.databricks.v1+cell": {
     "cellMetadata": {
      "byteLimit": 2048000,
      "rowLimit": 10000
     },
     "inputWidgets": {},
     "nuid": "e2fbd93e-d2d0-4160-b760-beecc797dea9",
     "showTitle": false,
     "tableResultSettingsMap": {},
     "title": ""
    }
   },
   "source": []
  },
  {
   "cell_type": "markdown",
   "metadata": {
    "application/vnd.databricks.v1+cell": {
     "cellMetadata": {
      "byteLimit": 2048000,
      "rowLimit": 10000
     },
     "inputWidgets": {},
     "nuid": "6f8f4ccc-b141-4207-bcb9-bbaa7de3ddcf",
     "showTitle": false,
     "tableResultSettingsMap": {},
     "title": ""
    }
   },
   "source": []
  },
  {
   "cell_type": "code",
   "execution_count": 0,
   "metadata": {
    "application/vnd.databricks.v1+cell": {
     "cellMetadata": {
      "byteLimit": 2048000,
      "rowLimit": 10000
     },
     "inputWidgets": {},
     "nuid": "4ff0ed4b-f460-46b7-ba78-613faf9d8884",
     "showTitle": false,
     "tableResultSettingsMap": {},
     "title": ""
    }
   },
   "outputs": [
    {
     "output_type": "execute_result",
     "data": {
      "text/plain": [
       "DataFrame[]"
      ]
     },
     "execution_count": 2,
     "metadata": {},
     "output_type": "execute_result"
    }
   ],
   "source": [
    "from pyspark.sql.functions import col, lower, round, avg, count, sum, max, min, mean, countDistinct\n",
    "\n",
    "spark.sql(\"USE CATALOG workspace\")\n",
    "spark.sql(\"USE SCHEMA default_cohort_db\")\n"
   ]
  },
  {
   "cell_type": "code",
   "execution_count": 0,
   "metadata": {
    "application/vnd.databricks.v1+cell": {
     "cellMetadata": {
      "byteLimit": 2048000,
      "implicitDf": true,
      "rowLimit": 10000
     },
     "collapsed": true,
     "inputWidgets": {},
     "nuid": "4b1fa1b5-6f26-4a80-83e0-a6febac738e0",
     "showTitle": false,
     "tableResultSettingsMap": {
      "0": {
       "dataGridStateBlob": "{\"version\":1,\"tableState\":{\"columnPinning\":{\"left\":[\"#row_number#\"],\"right\":[]},\"columnSizing\":{},\"columnVisibility\":{}},\"settings\":{\"columns\":{}},\"syncTimestamp\":1752262751323}",
       "filterBlob": null,
       "queryPlanFiltersBlob": null,
       "tableResultIndex": 0
      }
     },
     "title": ""
    }
   },
   "outputs": [
    {
     "output_type": "display_data",
     "data": {
      "text/html": [
       "<style scoped>\n",
       "  .table-result-container {\n",
       "    max-height: 300px;\n",
       "    overflow: auto;\n",
       "  }\n",
       "  table, th, td {\n",
       "    border: 1px solid black;\n",
       "    border-collapse: collapse;\n",
       "  }\n",
       "  th, td {\n",
       "    padding: 5px;\n",
       "  }\n",
       "  th {\n",
       "    text-align: left;\n",
       "  }\n",
       "</style><div class='table-result-container'><table class='table-result'><thead style='background-color: white'><tr><th>_fivetran_id</th><th>order_date</th><th>sales</th><th>row_id</th><th>customer_id</th><th>order_id</th><th>_fivetran_deleted</th><th>_fivetran_synced</th></tr></thead><tbody><tr><td>1FS46Z4iTYt4beJHHl8BA0cIM2Q=</td><td>2024-07-15</td><td>221.68</td><td>765</td><td>CUST157</td><td>ORD1764</td><td>false</td><td>2025-07-11T12:48:46.713Z</td></tr><tr><td>+tZqj9WHsSAL7g9dSOVQLcHovwI=</td><td>2024-07-13</td><td>120.93</td><td>498</td><td>CUST183</td><td>ORD1497</td><td>false</td><td>2025-07-11T12:48:46.715Z</td></tr><tr><td>LQyBZfO2hmqdWmzU7hdQNgJ3fzs=</td><td>2024-08-05</td><td>39.56</td><td>666</td><td>CUST093</td><td>ORD1665</td><td>false</td><td>2025-07-11T12:48:46.703Z</td></tr><tr><td>UBdNvZSR0SOHC9VUTQbtC0GkYV4=</td><td>2024-06-06</td><td>10.83</td><td>123</td><td>CUST049</td><td>ORD1122</td><td>false</td><td>2025-07-11T12:48:46.689Z</td></tr><tr><td>cyVYFlz3eQvnQoeHHygd2ik3i4U=</td><td>2024-02-04</td><td>148.01</td><td>439</td><td>CUST163</td><td>ORD1438</td><td>false</td><td>2025-07-11T12:48:46.713Z</td></tr><tr><td>2DMUzMuQB7tnNv2uwbN4Uz3wn14=</td><td>2024-03-21</td><td>73.74</td><td>60</td><td>CUST027</td><td>ORD1059</td><td>false</td><td>2025-07-11T12:48:46.679Z</td></tr><tr><td>/mFYj/TBxfbhRGPPyCiIqJPOJzE=</td><td>2024-03-19</td><td>124.26</td><td>294</td><td>CUST112</td><td>ORD1293</td><td>false</td><td>2025-07-11T12:48:46.707Z</td></tr><tr><td>G6dX4pZqI3f7YRY3uniBwLhgQoU=</td><td>2024-07-28</td><td>196.03</td><td>64</td><td>CUST028</td><td>ORD1063</td><td>false</td><td>2025-07-11T12:48:46.680Z</td></tr><tr><td>FjGUfhS0oIfLsQzqnYpK231s9C4=</td><td>2024-06-15</td><td>21.1</td><td>469</td><td>CUST172</td><td>ORD1468</td><td>false</td><td>2025-07-11T12:48:46.714Z</td></tr><tr><td>qEZexeWQvdPvdlvZcYR7WNaosYA=</td><td>2024-02-03</td><td>254.36</td><td>445</td><td>CUST165</td><td>ORD1444</td><td>false</td><td>2025-07-11T12:48:46.713Z</td></tr><tr><td>RPL6xdMyypNh0IFZ9XDuRwV2yvs=</td><td>2024-12-01</td><td>275.32</td><td>955</td><td>CUST192</td><td>ORD1954</td><td>false</td><td>2025-07-11T12:48:46.716Z</td></tr><tr><td>NTjYJNNnfeILdlBof1IeKxxEf60=</td><td>2024-08-01</td><td>114.35</td><td>51</td><td>CUST022</td><td>ORD1050</td><td>false</td><td>2025-07-11T12:48:46.677Z</td></tr><tr><td>nUQaq+/sw3+FzffHdKL7aD9R2L4=</td><td>2024-07-03</td><td>161.65</td><td>969</td><td>CUST179</td><td>ORD1968</td><td>false</td><td>2025-07-11T12:48:46.715Z</td></tr><tr><td>JWP86Ki/APBCZkRQNoONmb521Ls=</td><td>2024-10-30</td><td>294.95</td><td>852</td><td>CUST024</td><td>ORD1851</td><td>false</td><td>2025-07-11T12:48:46.678Z</td></tr><tr><td>KqkM6G1bbtmpEAPby/FLlN3Ehg4=</td><td>2024-06-19</td><td>282.7</td><td>329</td><td>CUST125</td><td>ORD1328</td><td>false</td><td>2025-07-11T12:48:46.709Z</td></tr><tr><td>2TALB1jxnsQzbcqSUOpn+WjNIt8=</td><td>2024-10-11</td><td>200.46</td><td>888</td><td>CUST107</td><td>ORD1887</td><td>false</td><td>2025-07-11T12:48:46.706Z</td></tr><tr><td>nt73GWxBDOHzhSX8YBe0dH3c0H8=</td><td>2024-07-13</td><td>55.3</td><td>78</td><td>CUST033</td><td>ORD1077</td><td>false</td><td>2025-07-11T12:48:46.682Z</td></tr><tr><td>eLnvHHaUo1H0T4z9UmWHlHw/zHE=</td><td>2024-02-21</td><td>16.83</td><td>559</td><td>CUST186</td><td>ORD1558</td><td>false</td><td>2025-07-11T12:48:46.715Z</td></tr><tr><td>55NTxJXCqSGk8UVqtSYM490OHJw=</td><td>2024-03-04</td><td>190.24</td><td>807</td><td>CUST170</td><td>ORD1806</td><td>false</td><td>2025-07-11T12:48:46.714Z</td></tr><tr><td>CaSIKwuOUk8aG+H+exHtye+o9yU=</td><td>2024-07-16</td><td>74.22</td><td>898</td><td>CUST142</td><td>ORD1897</td><td>false</td><td>2025-07-11T12:48:46.711Z</td></tr><tr><td>HMUovrLwILxpGWAIYDSABibdXzo=</td><td>2024-10-25</td><td>18.33</td><td>653</td><td>CUST013</td><td>ORD1652</td><td>false</td><td>2025-07-11T12:48:46.671Z</td></tr><tr><td>+1RF78CbI4a2tvSlTf6osq83MbQ=</td><td>2024-06-21</td><td>118.35</td><td>981</td><td>CUST032</td><td>ORD1980</td><td>false</td><td>2025-07-11T12:48:46.682Z</td></tr><tr><td>qPxwPUs7PEg1PE7FHhQWWN9crhc=</td><td>2024-02-23</td><td>131.33</td><td>651</td><td>CUST105</td><td>ORD1650</td><td>false</td><td>2025-07-11T12:48:46.706Z</td></tr><tr><td>7qx0/rEBfZiEluQNdHoLkFJew8A=</td><td>2024-10-17</td><td>206.42</td><td>707</td><td>CUST135</td><td>ORD1706</td><td>false</td><td>2025-07-11T12:48:46.711Z</td></tr><tr><td>NxVINlcvdbR7Y93hOornSN95eP4=</td><td>2024-05-20</td><td>22.25</td><td>827</td><td>CUST082</td><td>ORD1826</td><td>false</td><td>2025-07-11T12:48:46.701Z</td></tr><tr><td>aiWtsDROSeUbGGHg1R5Inhqy2sM=</td><td>2024-03-21</td><td>89.58</td><td>71</td><td>CUST030</td><td>ORD1070</td><td>false</td><td>2025-07-11T12:48:46.681Z</td></tr><tr><td>RU7FMobAL5bM2kJQqNI/vfJAZWs=</td><td>2024-04-18</td><td>72.28</td><td>360</td><td>CUST133</td><td>ORD1359</td><td>false</td><td>2025-07-11T12:48:46.710Z</td></tr><tr><td>fL6ej2f4m3d9umUWmrJHiSelmIE=</td><td>2024-07-31</td><td>63.14</td><td>999</td><td>CUST036</td><td>ORD1998</td><td>false</td><td>2025-07-11T12:48:46.684Z</td></tr><tr><td>8/7SsVDtIQysiGZstNLMZipYAqM=</td><td>2024-11-12</td><td>199.59</td><td>929</td><td>CUST058</td><td>ORD1928</td><td>false</td><td>2025-07-11T12:48:46.694Z</td></tr><tr><td>dfXG64+ZUNYoPtM0s25VFxfMT14=</td><td>2024-05-07</td><td>179.11</td><td>962</td><td>CUST025</td><td>ORD1961</td><td>false</td><td>2025-07-11T12:48:46.679Z</td></tr><tr><td>1xbi1baddiCXplDKaOKfvvvdvlE=</td><td>2024-07-26</td><td>251.35</td><td>2</td><td>CUST001</td><td>ORD1001</td><td>false</td><td>2025-07-11T12:48:46.662Z</td></tr><tr><td>ZdoT9XoBywTZDdoEoYDQHlWdDyk=</td><td>2024-08-23</td><td>137.77</td><td>436</td><td>CUST161</td><td>ORD1435</td><td>false</td><td>2025-07-11T12:48:46.713Z</td></tr><tr><td>hGGgFW0jr+YrHfG0mUZz4tap/Uo=</td><td>2024-06-07</td><td>156.85</td><td>412</td><td>CUST152</td><td>ORD1411</td><td>false</td><td>2025-07-11T12:48:46.712Z</td></tr><tr><td>af4Qd1+vcBtEWHZNoVsn7AMj3P0=</td><td>2024-05-19</td><td>152.46</td><td>894</td><td>CUST052</td><td>ORD1893</td><td>false</td><td>2025-07-11T12:48:46.691Z</td></tr><tr><td>tx1JO9kL7cQGBZ0k75PTy0hrhww=</td><td>2024-05-12</td><td>30.1</td><td>950</td><td>CUST185</td><td>ORD1949</td><td>false</td><td>2025-07-11T12:48:46.715Z</td></tr><tr><td>vtY2jpMd9zNK+pANTNdNPywWrGk=</td><td>2024-11-18</td><td>163.42</td><td>904</td><td>CUST029</td><td>ORD1903</td><td>false</td><td>2025-07-11T12:48:46.681Z</td></tr><tr><td>82QlkpWC3TRuiBrcbnkZTM8F5uc=</td><td>2024-03-15</td><td>19.43</td><td>217</td><td>CUST081</td><td>ORD1216</td><td>false</td><td>2025-07-11T12:48:46.700Z</td></tr><tr><td>uX5V3E/v8uDdgyJsKnQTNBS/ZvY=</td><td>2024-02-10</td><td>230.02</td><td>949</td><td>CUST147</td><td>ORD1948</td><td>false</td><td>2025-07-11T12:48:46.712Z</td></tr><tr><td>MG4E03MeHp7NmM79avGdLUlAhzo=</td><td>2024-01-10</td><td>118.6</td><td>935</td><td>CUST101</td><td>ORD1934</td><td>false</td><td>2025-07-11T12:48:46.704Z</td></tr><tr><td>zHT9hycCDR7MG9/KM7b4eTOW5Ww=</td><td>2024-04-14</td><td>197.33</td><td>410</td><td>CUST151</td><td>ORD1409</td><td>false</td><td>2025-07-11T12:48:46.712Z</td></tr><tr><td>5q4kcWODrIVH+1ZKw8i6ih3v+sQ=</td><td>2024-07-30</td><td>184.55</td><td>691</td><td>CUST143</td><td>ORD1690</td><td>false</td><td>2025-07-11T12:48:46.711Z</td></tr><tr><td>Km9cOtKnfn8mGpAFZbXaIzKgEuI=</td><td>2024-07-29</td><td>59.75</td><td>569</td><td>CUST019</td><td>ORD1568</td><td>false</td><td>2025-07-11T12:48:46.675Z</td></tr><tr><td>4UBZQiEGypMNXzDVZWqyGSKfMk4=</td><td>2024-06-22</td><td>178.71</td><td>56</td><td>CUST025</td><td>ORD1055</td><td>false</td><td>2025-07-11T12:48:46.678Z</td></tr><tr><td>uZjzfnJtkCAV4XOZb0ocNg+CAnM=</td><td>2024-10-24</td><td>150.89</td><td>635</td><td>CUST014</td><td>ORD1634</td><td>false</td><td>2025-07-11T12:48:46.672Z</td></tr><tr><td>adSZpHggRoIKFXVRKzdJOPvSCGE=</td><td>2024-06-06</td><td>298.76</td><td>279</td><td>CUST105</td><td>ORD1278</td><td>false</td><td>2025-07-11T12:48:46.705Z</td></tr><tr><td>Y43w8W3bLlGMGF5f8fyVDFADu4I=</td><td>2024-08-30</td><td>244.37</td><td>376</td><td>CUST138</td><td>ORD1375</td><td>false</td><td>2025-07-11T12:48:46.711Z</td></tr><tr><td>ADKpRTEAoRH3kvkPDRq3koiodnk=</td><td>2024-01-21</td><td>107.44</td><td>398</td><td>CUST146</td><td>ORD1397</td><td>false</td><td>2025-07-11T12:48:46.712Z</td></tr><tr><td>kj/ni/dfGeoff798NuUoDyyIS5I=</td><td>2024-07-24</td><td>12.6</td><td>104</td><td>CUST042</td><td>ORD1103</td><td>false</td><td>2025-07-11T12:48:46.687Z</td></tr><tr><td>WAAnDt0fhjs3efmsZhmxO1UlhJM=</td><td>2024-02-02</td><td>204.97</td><td>179</td><td>CUST068</td><td>ORD1178</td><td>false</td><td>2025-07-11T12:48:46.696Z</td></tr><tr><td>SbEl0AENpM2WAaG7shfBW5zQrE0=</td><td>2024-04-08</td><td>291.21</td><td>130</td><td>CUST051</td><td>ORD1129</td><td>false</td><td>2025-07-11T12:48:46.690Z</td></tr><tr><td>HaEw7TP216555jbOlpIaX2ywEgs=</td><td>2024-10-03</td><td>255.15</td><td>712</td><td>CUST139</td><td>ORD1711</td><td>false</td><td>2025-07-11T12:48:46.711Z</td></tr><tr><td>v2dFWlrspqQc84H/Em4CzKODEAI=</td><td>2024-06-08</td><td>277.85</td><td>166</td><td>CUST064</td><td>ORD1165</td><td>false</td><td>2025-07-11T12:48:46.695Z</td></tr><tr><td>/yBCZeNXDC3uo77wY5FbzEeDjE8=</td><td>2024-05-26</td><td>149.05</td><td>146</td><td>CUST057</td><td>ORD1145</td><td>false</td><td>2025-07-11T12:48:46.693Z</td></tr><tr><td>Zd51M17qApwImNPd0BwJkJDbfJg=</td><td>2024-09-23</td><td>133.08</td><td>826</td><td>CUST197</td><td>ORD1825</td><td>false</td><td>2025-07-11T12:48:46.716Z</td></tr><tr><td>A7r4OlMUmixK9u2D1278eEEo5F4=</td><td>2024-04-21</td><td>261.47</td><td>531</td><td>CUST194</td><td>ORD1530</td><td>false</td><td>2025-07-11T12:48:46.716Z</td></tr><tr><td>PYEx8/BquBV3FQrZ/5yRQnQgcOw=</td><td>2024-06-15</td><td>291.08</td><td>356</td><td>CUST132</td><td>ORD1355</td><td>false</td><td>2025-07-11T12:48:46.710Z</td></tr><tr><td>yU4P5s/Uk28BheOKBPZG1x7RW80=</td><td>2024-02-28</td><td>54.39</td><td>39</td><td>CUST017</td><td>ORD1038</td><td>false</td><td>2025-07-11T12:48:46.673Z</td></tr><tr><td>pDpksCmQOCzkjL+xVy+Njww0QN4=</td><td>2024-06-01</td><td>196.19</td><td>68</td><td>CUST029</td><td>ORD1067</td><td>false</td><td>2025-07-11T12:48:46.680Z</td></tr><tr><td>jNDTqJZW8H5Z0UaDNl9lDXg2XmI=</td><td>2024-07-01</td><td>273.79</td><td>731</td><td>CUST059</td><td>ORD1730</td><td>false</td><td>2025-07-11T12:48:46.694Z</td></tr><tr><td>R8YNe1Ds2y+QItnEL2MpRIdWZK0=</td><td>2024-04-21</td><td>165.22</td><td>112</td><td>CUST045</td><td>ORD1111</td><td>false</td><td>2025-07-11T12:48:46.688Z</td></tr><tr><td>4v6YeX4ZgJVcCQHSl5PeNI5H6KI=</td><td>2024-02-06</td><td>168.54</td><td>726</td><td>CUST190</td><td>ORD1725</td><td>false</td><td>2025-07-11T12:48:46.716Z</td></tr><tr><td>l8L6p8r6dGXnC3e8o3SZ60QfiHU=</td><td>2024-01-24</td><td>189.39</td><td>993</td><td>CUST150</td><td>ORD1992</td><td>false</td><td>2025-07-11T12:48:46.712Z</td></tr><tr><td>qKxZ5BXVcq62BKCFVr7dIMbTK0U=</td><td>2024-05-14</td><td>162.14</td><td>89</td><td>CUST037</td><td>ORD1088</td><td>false</td><td>2025-07-11T12:48:46.684Z</td></tr><tr><td>uSywuoT+Lrrd97MG3IKq6kKtHQY=</td><td>2024-04-08</td><td>130.66</td><td>206</td><td>CUST078</td><td>ORD1205</td><td>false</td><td>2025-07-11T12:48:46.699Z</td></tr><tr><td>kT8l8eu/gHhLtzVrIC4Jzg6jeaE=</td><td>2024-07-17</td><td>30.76</td><td>163</td><td>CUST063</td><td>ORD1162</td><td>false</td><td>2025-07-11T12:48:46.695Z</td></tr><tr><td>IgM7Vn5wQwHLNaEBq3SZyAlIZ8s=</td><td>2024-07-23</td><td>159.2</td><td>150</td><td>CUST058</td><td>ORD1149</td><td>false</td><td>2025-07-11T12:48:46.694Z</td></tr><tr><td>DjyNeoaDAFxA5nR5LLS9sfnEz38=</td><td>2024-07-30</td><td>162.81</td><td>344</td><td>CUST128</td><td>ORD1343</td><td>false</td><td>2025-07-11T12:48:46.710Z</td></tr><tr><td>+i3F03SpFpwC+9rlb1wR4YxSe8M=</td><td>2024-08-12</td><td>170.0</td><td>432</td><td>CUST159</td><td>ORD1431</td><td>false</td><td>2025-07-11T12:48:46.713Z</td></tr><tr><td>YiRLQXW5NGLHIjIagJSIvW2/WzY=</td><td>2024-09-30</td><td>138.52</td><td>998</td><td>CUST004</td><td>ORD1997</td><td>false</td><td>2025-07-11T12:48:46.665Z</td></tr><tr><td>oaRoBRS6oF7KXpVYzBKzzlSpfsI=</td><td>2024-03-30</td><td>245.42</td><td>116</td><td>CUST046</td><td>ORD1115</td><td>false</td><td>2025-07-11T12:48:46.689Z</td></tr><tr><td>lNvqWCmvKfZ+IpgPO/29Tt2uUkQ=</td><td>2024-06-01</td><td>258.36</td><td>365</td><td>CUST135</td><td>ORD1364</td><td>false</td><td>2025-07-11T12:48:46.710Z</td></tr><tr><td>Z0MXxYV2MH1wJ638hxmCfQxP9Yo=</td><td>2024-03-27</td><td>123.25</td><td>694</td><td>CUST106</td><td>ORD1693</td><td>false</td><td>2025-07-11T12:48:46.706Z</td></tr><tr><td>jXONcnyHnlwg4mmD4GAEzgLzIfk=</td><td>2024-02-21</td><td>35.69</td><td>301</td><td>CUST114</td><td>ORD1300</td><td>false</td><td>2025-07-11T12:48:46.708Z</td></tr><tr><td>ZFZSy432e/rPBTIyAo6S3qUtK4Y=</td><td>2024-01-14</td><td>108.68</td><td>665</td><td>CUST003</td><td>ORD1664</td><td>false</td><td>2025-07-11T12:48:46.664Z</td></tr><tr><td>9xBSwOMwAZQTn340yuzafU49ChQ=</td><td>2024-08-18</td><td>16.99</td><td>697</td><td>CUST187</td><td>ORD1696</td><td>false</td><td>2025-07-11T12:48:46.715Z</td></tr><tr><td>/drmtQrB/XEXoGUsXC3f02oKoo0=</td><td>2024-04-15</td><td>114.87</td><td>32</td><td>CUST015</td><td>ORD1031</td><td>false</td><td>2025-07-11T12:48:46.672Z</td></tr><tr><td>6IAQht3IpMgNC1eqUo4TneLmHD8=</td><td>2024-06-20</td><td>252.59</td><td>88</td><td>CUST036</td><td>ORD1087</td><td>false</td><td>2025-07-11T12:48:46.684Z</td></tr><tr><td>Rgn8tgRCnutWynfxOKMz39w7sCs=</td><td>2024-01-26</td><td>89.23</td><td>629</td><td>CUST143</td><td>ORD1628</td><td>false</td><td>2025-07-11T12:48:46.711Z</td></tr><tr><td>/fFJDY3XXUfIGtEY23lRTlxKRqY=</td><td>2024-05-28</td><td>11.75</td><td>508</td><td>CUST187</td><td>ORD1507</td><td>false</td><td>2025-07-11T12:48:46.715Z</td></tr><tr><td>OCicA9VTJhY4MGdNIedHBpdd8YU=</td><td>2024-07-18</td><td>289.54</td><td>62</td><td>CUST027</td><td>ORD1061</td><td>false</td><td>2025-07-11T12:48:46.679Z</td></tr><tr><td>lIj7iUn6VTIxl4tw6tvBwAAB2rw=</td><td>2024-02-18</td><td>197.47</td><td>767</td><td>CUST062</td><td>ORD1766</td><td>false</td><td>2025-07-11T12:48:46.695Z</td></tr><tr><td>y6EmN92Mvli+zy0yer8uskAVx9E=</td><td>2024-10-26</td><td>284.45</td><td>845</td><td>CUST056</td><td>ORD1844</td><td>false</td><td>2025-07-11T12:48:46.693Z</td></tr><tr><td>2YKDF6gOKMc59vmsDX293m7GIIo=</td><td>2024-09-17</td><td>174.36</td><td>510</td><td>CUST187</td><td>ORD1509</td><td>false</td><td>2025-07-11T12:48:46.715Z</td></tr><tr><td>ihvSjc4q95Q6l+XJJDO31GA/MFA=</td><td>2024-06-24</td><td>100.94</td><td>90</td><td>CUST037</td><td>ORD1089</td><td>false</td><td>2025-07-11T12:48:46.684Z</td></tr><tr><td>12n7SEdQLVkgr7V5qs7TAAma8ao=</td><td>2024-05-24</td><td>194.63</td><td>118</td><td>CUST047</td><td>ORD1117</td><td>false</td><td>2025-07-11T12:48:46.689Z</td></tr><tr><td>8dASy4/6/vl2rgICXBw3R8dlEy0=</td><td>2024-01-18</td><td>60.25</td><td>591</td><td>CUST006</td><td>ORD1590</td><td>false</td><td>2025-07-11T12:48:46.666Z</td></tr><tr><td>XFq6z/8OsdTEugH1SmwxHmIf1eI=</td><td>2024-10-17</td><td>133.93</td><td>615</td><td>CUST182</td><td>ORD1614</td><td>false</td><td>2025-07-11T12:48:46.715Z</td></tr><tr><td>7bkP5ADWrsOgCiWLNUnVLHp4IQI=</td><td>2024-07-24</td><td>193.65</td><td>170</td><td>CUST065</td><td>ORD1169</td><td>false</td><td>2025-07-11T12:48:46.695Z</td></tr><tr><td>GInLhzYH/Xuobwe0ACLpnUEaMRs=</td><td>2024-01-03</td><td>294.96</td><td>974</td><td>CUST065</td><td>ORD1973</td><td>false</td><td>2025-07-11T12:48:46.696Z</td></tr><tr><td>0CPYENHmkRZZJuJiDZC9pzoq7yM=</td><td>2024-05-29</td><td>225.77</td><td>588</td><td>CUST089</td><td>ORD1587</td><td>false</td><td>2025-07-11T12:48:46.702Z</td></tr><tr><td>8s76/cHNb6j8OZF72eVgCai4QYM=</td><td>2024-02-08</td><td>194.87</td><td>230</td><td>CUST086</td><td>ORD1229</td><td>false</td><td>2025-07-11T12:48:46.701Z</td></tr><tr><td>lCccO9hu+kBv9WWAdtjZNc/NGpc=</td><td>2024-02-02</td><td>24.14</td><td>947</td><td>CUST007</td><td>ORD1946</td><td>false</td><td>2025-07-11T12:48:46.667Z</td></tr><tr><td>HwIMW5SvFVA638glh01Xk/R0BJc=</td><td>2024-08-13</td><td>93.45</td><td>293</td><td>CUST111</td><td>ORD1292</td><td>false</td><td>2025-07-11T12:48:46.707Z</td></tr><tr><td>uitq+e1UbgcW2mDeJG3goMFcJ44=</td><td>2024-01-25</td><td>275.26</td><td>604</td><td>CUST182</td><td>ORD1603</td><td>false</td><td>2025-07-11T12:48:46.715Z</td></tr><tr><td>T3Gefr4O2aRBD3hUAo5CCfeDMmk=</td><td>2024-04-11</td><td>217.41</td><td>4</td><td>CUST002</td><td>ORD1003</td><td>false</td><td>2025-07-11T12:48:46.663Z</td></tr><tr><td>dSMLFIG89P0lfPs1alKgwbx3vJ0=</td><td>2024-11-29</td><td>59.84</td><td>936</td><td>CUST069</td><td>ORD1935</td><td>false</td><td>2025-07-11T12:48:46.697Z</td></tr><tr><td>yiFE2rfkaxUM+jE/vDrKvObA4zo=</td><td>2024-05-15</td><td>266.76</td><td>663</td><td>CUST168</td><td>ORD1662</td><td>false</td><td>2025-07-11T12:48:46.714Z</td></tr><tr><td>/9/6hF845nc71OMR0YlqqgA0ph8=</td><td>2024-02-03</td><td>99.78</td><td>24</td><td>CUST011</td><td>ORD1023</td><td>false</td><td>2025-07-11T12:48:46.669Z</td></tr><tr><td>ZXD96lJgxp7X8NIcFUjFPTYxWBc=</td><td>2024-05-18</td><td>52.42</td><td>495</td><td>CUST182</td><td>ORD1494</td><td>false</td><td>2025-07-11T12:48:46.715Z</td></tr><tr><td>r2OBU8dVfn3tyzTuqx45JTXCVpU=</td><td>2024-09-27</td><td>81.95</td><td>817</td><td>CUST114</td><td>ORD1816</td><td>false</td><td>2025-07-11T12:48:46.708Z</td></tr><tr><td>uSxPaDzPfwwmqQJTQG3QwGpUqjI=</td><td>2024-04-09</td><td>160.0</td><td>187</td><td>CUST071</td><td>ORD1186</td><td>false</td><td>2025-07-11T12:48:46.697Z</td></tr><tr><td>/lchXtLLEcIJzAaYaLZTfFl8ZYA=</td><td>2024-06-01</td><td>245.6</td><td>275</td><td>CUST104</td><td>ORD1274</td><td>false</td><td>2025-07-11T12:48:46.705Z</td></tr><tr><td>tA5UKHDC4eTjf/s+WCzuuUp6VUM=</td><td>2024-12-09</td><td>109.67</td><td>743</td><td>CUST121</td><td>ORD1742</td><td>false</td><td>2025-07-11T12:48:46.709Z</td></tr><tr><td>KXlA6VCzPTnTKmaNPEQsatVQQhU=</td><td>2024-07-17</td><td>141.22</td><td>216</td><td>CUST080</td><td>ORD1215</td><td>false</td><td>2025-07-11T12:48:46.700Z</td></tr><tr><td>FE06XDmHDaPvDl/gJgQ1X7kGf6Y=</td><td>2024-05-20</td><td>11.87</td><td>324</td><td>CUST123</td><td>ORD1323</td><td>false</td><td>2025-07-11T12:48:46.709Z</td></tr><tr><td>PNIoGD7ebbmAf7Phwd5UQBwsn1g=</td><td>2024-12-19</td><td>145.83</td><td>337</td><td>CUST126</td><td>ORD1336</td><td>false</td><td>2025-07-11T12:48:46.710Z</td></tr><tr><td>s6FXwJCsVRS1yJErDT3H2Z7cB+k=</td><td>2024-05-14</td><td>49.66</td><td>991</td><td>CUST157</td><td>ORD1990</td><td>false</td><td>2025-07-11T12:48:46.713Z</td></tr><tr><td>4ejIWfVH6408LYP8GiTTXz7IOLg=</td><td>2024-09-09</td><td>28.26</td><td>864</td><td>CUST082</td><td>ORD1863</td><td>false</td><td>2025-07-11T12:48:46.701Z</td></tr><tr><td>IJmjSVqxvfTYRoc4NJD//jA0SYc=</td><td>2024-08-15</td><td>111.69</td><td>584</td><td>CUST068</td><td>ORD1583</td><td>false</td><td>2025-07-11T12:48:46.696Z</td></tr><tr><td>9Ice98pT0j6bMIrVD+acRAlZmwU=</td><td>2024-05-23</td><td>11.21</td><td>652</td><td>CUST119</td><td>ORD1651</td><td>false</td><td>2025-07-11T12:48:46.708Z</td></tr><tr><td>tbUprYZnQ5KuDPvqeR9QCb7OXUM=</td><td>2024-02-25</td><td>86.73</td><td>626</td><td>CUST145</td><td>ORD1625</td><td>false</td><td>2025-07-11T12:48:46.712Z</td></tr><tr><td>1WVubv3N0q+LQivbMZxiKBEXqT8=</td><td>2024-05-28</td><td>17.36</td><td>407</td><td>CUST149</td><td>ORD1406</td><td>false</td><td>2025-07-11T12:48:46.712Z</td></tr><tr><td>5p07nbkusIqlVCUL+5//dkkVU3Y=</td><td>2024-08-04</td><td>137.08</td><td>669</td><td>CUST092</td><td>ORD1668</td><td>false</td><td>2025-07-11T12:48:46.702Z</td></tr><tr><td>/LbwDtbZmxQctESUxyZWnHPkqpQ=</td><td>2024-03-24</td><td>168.75</td><td>243</td><td>CUST091</td><td>ORD1242</td><td>false</td><td>2025-07-11T12:48:46.702Z</td></tr><tr><td>G+u0AfSpIJhrKblSCUy9b3msy2c=</td><td>2024-11-17</td><td>141.22</td><td>530</td><td>CUST193</td><td>ORD1529</td><td>false</td><td>2025-07-11T12:48:46.716Z</td></tr><tr><td>VVb9mZ8zBttGuvWQHNSfVrufxdQ=</td><td>2024-02-29</td><td>281.14</td><td>252</td><td>CUST096</td><td>ORD1251</td><td>false</td><td>2025-07-11T12:48:46.703Z</td></tr><tr><td>gy2lCV/Iqe7ueMIJMeBD/iajHr4=</td><td>2024-05-26</td><td>58.44</td><td>346</td><td>CUST129</td><td>ORD1345</td><td>false</td><td>2025-07-11T12:48:46.710Z</td></tr><tr><td>xFW++PVvgmaguOxtHys6CTdoTnk=</td><td>2024-02-29</td><td>61.21</td><td>203</td><td>CUST076</td><td>ORD1202</td><td>false</td><td>2025-07-11T12:48:46.699Z</td></tr><tr><td>QOTXunbeg1hZmILifuh4q+puHuY=</td><td>2024-04-30</td><td>205.67</td><td>122</td><td>CUST049</td><td>ORD1121</td><td>false</td><td>2025-07-11T12:48:46.689Z</td></tr><tr><td>aaru5RPFmMS8E9xhoZhJLuRVzpw=</td><td>2024-01-25</td><td>172.91</td><td>906</td><td>CUST174</td><td>ORD1905</td><td>false</td><td>2025-07-11T12:48:46.714Z</td></tr><tr><td>/dp+BfcmkzS/is4FJr0oVke81v8=</td><td>2024-04-07</td><td>281.56</td><td>843</td><td>CUST181</td><td>ORD1842</td><td>false</td><td>2025-07-11T12:48:46.715Z</td></tr><tr><td>torctrYqtu+1gZuohSw4jF1ON00=</td><td>2024-04-24</td><td>20.74</td><td>13</td><td>CUST006</td><td>ORD1012</td><td>false</td><td>2025-07-11T12:48:46.666Z</td></tr><tr><td>rui6RRppAyZ94jNfQGjOaUl0KDw=</td><td>2024-07-31</td><td>292.08</td><td>715</td><td>CUST089</td><td>ORD1714</td><td>false</td><td>2025-07-11T12:48:46.702Z</td></tr><tr><td>TX2GZirkEkbrXhyC1V5a/ri8d0g=</td><td>2024-12-29</td><td>79.65</td><td>922</td><td>CUST124</td><td>ORD1921</td><td>false</td><td>2025-07-11T12:48:46.709Z</td></tr><tr><td>PGz9/7NTxn1jwFcCHgq92w7drXY=</td><td>2024-02-04</td><td>89.21</td><td>297</td><td>CUST113</td><td>ORD1296</td><td>false</td><td>2025-07-11T12:48:46.707Z</td></tr><tr><td>luvri2tl7AUOM28Dl1k36j9xb9U=</td><td>2024-04-04</td><td>99.9</td><td>503</td><td>CUST185</td><td>ORD1502</td><td>false</td><td>2025-07-11T12:48:46.715Z</td></tr><tr><td>Mx97QOoGJu7SdfArjT+orqQ62FA=</td><td>2024-04-30</td><td>138.53</td><td>884</td><td>CUST045</td><td>ORD1883</td><td>false</td><td>2025-07-11T12:48:46.688Z</td></tr><tr><td>kH7htWVQv4B7wh+A8UxJopcueRw=</td><td>2024-10-04</td><td>43.07</td><td>541</td><td>CUST196</td><td>ORD1540</td><td>false</td><td>2025-07-11T12:48:46.716Z</td></tr><tr><td>pfaXLdmTmwEU48lN6W+ss6uDleQ=</td><td>2024-07-05</td><td>239.84</td><td>225</td><td>CUST084</td><td>ORD1224</td><td>false</td><td>2025-07-11T12:48:46.701Z</td></tr><tr><td>/HXCUvDu96LZWebws9rG8DZoaCw=</td><td>2024-01-06</td><td>264.08</td><td>454</td><td>CUST167</td><td>ORD1453</td><td>false</td><td>2025-07-11T12:48:46.713Z</td></tr><tr><td>xdlSjtFrUppEw15sSmTmja84V6o=</td><td>2024-07-17</td><td>237.19</td><td>548</td><td>CUST199</td><td>ORD1547</td><td>false</td><td>2025-07-11T12:48:46.717Z</td></tr><tr><td>rBHwJ87F36+E5JCm5WmrUdpCCIg=</td><td>2024-07-31</td><td>15.95</td><td>975</td><td>CUST153</td><td>ORD1974</td><td>false</td><td>2025-07-11T12:48:46.712Z</td></tr><tr><td>7q1cL6186gMgCYVezTYrpLJ6L0g=</td><td>2024-08-22</td><td>134.16</td><td>125</td><td>CUST049</td><td>ORD1124</td><td>false</td><td>2025-07-11T12:48:46.690Z</td></tr><tr><td>5HLg8ULDYiLxls0QdWZeUSXf2nU=</td><td>2024-04-02</td><td>203.18</td><td>383</td><td>CUST141</td><td>ORD1382</td><td>false</td><td>2025-07-11T12:48:46.711Z</td></tr><tr><td>woPDNSv72/R0VIlsAszyKwRPyws=</td><td>2024-12-31</td><td>76.52</td><td>692</td><td>CUST143</td><td>ORD1691</td><td>false</td><td>2025-07-11T12:48:46.711Z</td></tr><tr><td>JWTWYsJooU1a29Z1BxgcZoFetZM=</td><td>2024-02-12</td><td>151.71</td><td>425</td><td>CUST157</td><td>ORD1424</td><td>false</td><td>2025-07-11T12:48:46.713Z</td></tr><tr><td>rpx8jkSQz3Y8I/g0CJkCnr8556w=</td><td>2024-02-06</td><td>221.66</td><td>97</td><td>CUST040</td><td>ORD1096</td><td>false</td><td>2025-07-11T12:48:46.685Z</td></tr><tr><td>Bha3x8RYB4V+MsWuksKucKL32Y8=</td><td>2024-01-25</td><td>75.4</td><td>553</td><td>CUST041</td><td>ORD1552</td><td>false</td><td>2025-07-11T12:48:46.686Z</td></tr><tr><td>8Gt1qXQlNTSp3w3rNP6n5se/C2w=</td><td>2024-07-17</td><td>244.35</td><td>673</td><td>CUST044</td><td>ORD1672</td><td>false</td><td>2025-07-11T12:48:46.687Z</td></tr><tr><td>raThT3ozZDo5pwv8e53DtC8SiaM=</td><td>2024-07-23</td><td>36.55</td><td>444</td><td>CUST164</td><td>ORD1443</td><td>false</td><td>2025-07-11T12:48:46.713Z</td></tr><tr><td>Gd42uq414HcI4S0ZscX6M3xBg78=</td><td>2024-07-10</td><td>255.99</td><td>357</td><td>CUST132</td><td>ORD1356</td><td>false</td><td>2025-07-11T12:48:46.710Z</td></tr><tr><td>R2lRO5ec6thQkXlTbA+xnjLtnhs=</td><td>2024-07-22</td><td>164.06</td><td>226</td><td>CUST084</td><td>ORD1225</td><td>false</td><td>2025-07-11T12:48:46.701Z</td></tr><tr><td>hSHbaIGUhf8vtcaO9kMjGn0+hBg=</td><td>2024-01-31</td><td>14.8</td><td>853</td><td>CUST126</td><td>ORD1852</td><td>false</td><td>2025-07-11T12:48:46.710Z</td></tr><tr><td>oYeb/K9sAPHSF+HgMvQgKJLC9es=</td><td>2024-05-10</td><td>202.06</td><td>345</td><td>CUST129</td><td>ORD1344</td><td>false</td><td>2025-07-11T12:48:46.710Z</td></tr><tr><td>ibWhlX2g8VavDndSAo8dylAVBfg=</td><td>2024-10-27</td><td>105.98</td><td>620</td><td>CUST151</td><td>ORD1619</td><td>false</td><td>2025-07-11T12:48:46.712Z</td></tr><tr><td>A5PAp8oL/1mtzdFpH6MC27W3LG0=</td><td>2024-11-05</td><td>158.9</td><td>825</td><td>CUST149</td><td>ORD1824</td><td>false</td><td>2025-07-11T12:48:46.712Z</td></tr><tr><td>2EGJrmZRB3iiip6x+2g39C5UIEk=</td><td>2024-05-07</td><td>132.97</td><td>521</td><td>CUST191</td><td>ORD1520</td><td>false</td><td>2025-07-11T12:48:46.716Z</td></tr><tr><td>K8Df/FrHFbDfoLYxKPyeNS9iFOU=</td><td>2024-06-26</td><td>149.58</td><td>347</td><td>CUST129</td><td>ORD1346</td><td>false</td><td>2025-07-11T12:48:46.710Z</td></tr><tr><td>XbUGc4lVG1DD4JnZadUIFI5W5n0=</td><td>2024-06-02</td><td>109.31</td><td>322</td><td>CUST122</td><td>ORD1321</td><td>false</td><td>2025-07-11T12:48:46.709Z</td></tr><tr><td>61phSx/vNeN6PphOa/BftilCjmg=</td><td>2024-02-25</td><td>79.09</td><td>379</td><td>CUST140</td><td>ORD1378</td><td>false</td><td>2025-07-11T12:48:46.711Z</td></tr><tr><td>IAOkqDgkFQHSEZw0TcYjLocR62I=</td><td>2024-10-13</td><td>23.48</td><td>590</td><td>CUST123</td><td>ORD1589</td><td>false</td><td>2025-07-11T12:48:46.709Z</td></tr><tr><td>s1dNRaPh93cAHTeEcLQDEdDGIqo=</td><td>2024-08-19</td><td>198.59</td><td>748</td><td>CUST190</td><td>ORD1747</td><td>false</td><td>2025-07-11T12:48:46.716Z</td></tr><tr><td>prtV4HRizkePByjKJx28VU9PpjA=</td><td>2024-03-31</td><td>151.41</td><td>240</td><td>CUST090</td><td>ORD1239</td><td>false</td><td>2025-07-11T12:48:46.702Z</td></tr><tr><td>ZAYjc7Q9qDAmE4jfZQ5Q+BUoWoI=</td><td>2024-11-04</td><td>85.92</td><td>596</td><td>CUST102</td><td>ORD1595</td><td>false</td><td>2025-07-11T12:48:46.704Z</td></tr><tr><td>78PYRazcfl1d6zix8vEri5p0r7g=</td><td>2024-08-06</td><td>249.55</td><td>967</td><td>CUST181</td><td>ORD1966</td><td>false</td><td>2025-07-11T12:48:46.715Z</td></tr><tr><td>EqfHrgoO8pscz+u4kKqBMk2rOlw=</td><td>2024-07-03</td><td>204.31</td><td>674</td><td>CUST193</td><td>ORD1673</td><td>false</td><td>2025-07-11T12:48:46.716Z</td></tr><tr><td>34GRyiSGTuNOtQC1ZXs8mMWewU4=</td><td>2024-09-13</td><td>292.75</td><td>594</td><td>CUST086</td><td>ORD1593</td><td>false</td><td>2025-07-11T12:48:46.701Z</td></tr><tr><td>K9dvj4TixO4uE4rC+IICfe/FFsE=</td><td>2024-06-28</td><td>189.97</td><td>465</td><td>CUST171</td><td>ORD1464</td><td>false</td><td>2025-07-11T12:48:46.714Z</td></tr><tr><td>FyUHkMPpcLTr7tnxy5ueYj1TJS8=</td><td>2024-02-06</td><td>205.4</td><td>636</td><td>CUST019</td><td>ORD1635</td><td>false</td><td>2025-07-11T12:48:46.675Z</td></tr><tr><td>kWxKo1TNmmFGoXsttB9dpX9/JJI=</td><td>2024-03-07</td><td>60.75</td><td>634</td><td>CUST053</td><td>ORD1633</td><td>false</td><td>2025-07-11T12:48:46.691Z</td></tr><tr><td>+R8sPLtSL5mhgnCJ9vJ+kVfmDbU=</td><td>2024-05-14</td><td>248.11</td><td>450</td><td>CUST166</td><td>ORD1449</td><td>false</td><td>2025-07-11T12:48:46.713Z</td></tr><tr><td>XrjyXh5DHa5BulC+gIvbWFunCU4=</td><td>2024-06-11</td><td>103.44</td><td>504</td><td>CUST185</td><td>ORD1503</td><td>false</td><td>2025-07-11T12:48:46.715Z</td></tr><tr><td>gY8Tj4RoG9XJPFnOE+nk+oRfLks=</td><td>2024-01-19</td><td>157.52</td><td>250</td><td>CUST095</td><td>ORD1249</td><td>false</td><td>2025-07-11T12:48:46.703Z</td></tr><tr><td>K7BGE8nI/b1Fxdqt+CGjgcIlzzs=</td><td>2024-03-20</td><td>272.57</td><td>311</td><td>CUST119</td><td>ORD1310</td><td>false</td><td>2025-07-11T12:48:46.708Z</td></tr><tr><td>bEjmnnA09Crc5YXX379fTZZW9xg=</td><td>2024-03-24</td><td>191.04</td><td>156</td><td>CUST060</td><td>ORD1155</td><td>false</td><td>2025-07-11T12:48:46.694Z</td></tr><tr><td>4zgRGK6k0AXVa2aXg+GaFXnBPa8=</td><td>2024-01-27</td><td>181.47</td><td>749</td><td>CUST061</td><td>ORD1748</td><td>false</td><td>2025-07-11T12:48:46.695Z</td></tr><tr><td>d7rHQm2Es9PMyvwvCDSR7kWFEEM=</td><td>2024-10-10</td><td>181.49</td><td>199</td><td>CUST075</td><td>ORD1198</td><td>false</td><td>2025-07-11T12:48:46.698Z</td></tr><tr><td>ZAITNCCmYP0uap+0TApr/cb/UK0=</td><td>2024-04-13</td><td>113.88</td><td>213</td><td>CUST080</td><td>ORD1212</td><td>false</td><td>2025-07-11T12:48:46.700Z</td></tr><tr><td>W6xd1cXQ53QgdtRNszlALhMFWUc=</td><td>2024-03-11</td><td>220.21</td><td>989</td><td>CUST133</td><td>ORD1988</td><td>false</td><td>2025-07-11T12:48:46.710Z</td></tr><tr><td>BjIMeceBhrydWWu126nUmeaB3/4=</td><td>2024-06-18</td><td>214.67</td><td>983</td><td>CUST186</td><td>ORD1982</td><td>false</td><td>2025-07-11T12:48:46.715Z</td></tr><tr><td>MvA0a6f+3ntXovVRaWv5ydYH26Q=</td><td>2024-08-20</td><td>87.4</td><td>687</td><td>CUST167</td><td>ORD1686</td><td>false</td><td>2025-07-11T12:48:46.713Z</td></tr><tr><td>b6Ipmecn0D+tJI3A1W6VLA441aU=</td><td>2024-05-02</td><td>170.76</td><td>871</td><td>CUST170</td><td>ORD1870</td><td>false</td><td>2025-07-11T12:48:46.714Z</td></tr><tr><td>JHanRiWoVSvblOXeWdApuROxkMc=</td><td>2024-09-09</td><td>230.68</td><td>781</td><td>CUST061</td><td>ORD1780</td><td>false</td><td>2025-07-11T12:48:46.695Z</td></tr><tr><td>EIBtdZX/Vx5Ol+pbhEvFRU4zH9c=</td><td>2024-03-03</td><td>244.62</td><td>915</td><td>CUST151</td><td>ORD1914</td><td>false</td><td>2025-07-11T12:48:46.712Z</td></tr><tr><td>xMkj88fhILmWWZmNvCphJSqPtlg=</td><td>2024-11-15</td><td>274.45</td><td>685</td><td>CUST041</td><td>ORD1684</td><td>false</td><td>2025-07-11T12:48:46.686Z</td></tr><tr><td>eLf4669CxR/rDtJ6eOJIttt2LgA=</td><td>2024-02-17</td><td>46.08</td><td>867</td><td>CUST039</td><td>ORD1866</td><td>false</td><td>2025-07-11T12:48:46.685Z</td></tr><tr><td>GnK3bLQ7gE+k6+QGogDMd0HX1Js=</td><td>2024-03-15</td><td>138.03</td><td>542</td><td>CUST197</td><td>ORD1541</td><td>false</td><td>2025-07-11T12:48:46.716Z</td></tr><tr><td>0/sRxGtGbQiyeYbj9ivPnvqW4nE=</td><td>2024-05-07</td><td>45.88</td><td>94</td><td>CUST038</td><td>ORD1093</td><td>false</td><td>2025-07-11T12:48:46.685Z</td></tr><tr><td>hOm0MLfwMPMAAasysfVpSk7y/oU=</td><td>2024-08-18</td><td>240.76</td><td>918</td><td>CUST034</td><td>ORD1917</td><td>false</td><td>2025-07-11T12:48:46.683Z</td></tr><tr><td>YivXwHUajquhp8bbITJuLFsd1hw=</td><td>2024-06-25</td><td>129.43</td><td>300</td><td>CUST113</td><td>ORD1299</td><td>false</td><td>2025-07-11T12:48:46.707Z</td></tr><tr><td>EZ513HNPVyDAX7udCBrMTrBBjdk=</td><td>2024-03-23</td><td>72.23</td><td>472</td><td>CUST173</td><td>ORD1471</td><td>false</td><td>2025-07-11T12:48:46.714Z</td></tr><tr><td>FzbZ1S9U9I3YGm+QpcpXjhjTgnI=</td><td>2024-02-08</td><td>241.42</td><td>318</td><td>CUST121</td><td>ORD1317</td><td>false</td><td>2025-07-11T12:48:46.709Z</td></tr><tr><td>h3QGYc3NIrjlcaRuBY7vyYQx7uk=</td><td>2024-02-07</td><td>73.98</td><td>189</td><td>CUST072</td><td>ORD1188</td><td>false</td><td>2025-07-11T12:48:46.698Z</td></tr><tr><td>f7BMeDhjRyDaa4D2AUFBHy2y8Ow=</td><td>2024-12-11</td><td>276.26</td><td>577</td><td>CUST111</td><td>ORD1576</td><td>false</td><td>2025-07-11T12:48:46.707Z</td></tr><tr><td>lO7qFXhlsXiCFV5MDas22dLgo6I=</td><td>2024-04-11</td><td>277.27</td><td>255</td><td>CUST097</td><td>ORD1254</td><td>false</td><td>2025-07-11T12:48:46.703Z</td></tr><tr><td>idvh5rZstWBnWfYfGpAb7SaVm4U=</td><td>2024-10-01</td><td>133.31</td><td>971</td><td>CUST103</td><td>ORD1970</td><td>false</td><td>2025-07-11T12:48:46.705Z</td></tr><tr><td>CYt0ea644dP6pQJFRYZzQHG8fhM=</td><td>2024-06-23</td><td>267.46</td><td>622</td><td>CUST168</td><td>ORD1621</td><td>false</td><td>2025-07-11T12:48:46.714Z</td></tr><tr><td>/79zN48L2hbK9cAdgyRfRUpd5xc=</td><td>2024-11-03</td><td>145.61</td><td>534</td><td>CUST194</td><td>ORD1533</td><td>false</td><td>2025-07-11T12:48:46.716Z</td></tr><tr><td>nZsrcRU0OWuVeVhYoe096Orgkvo=</td><td>2024-04-03</td><td>88.67</td><td>782</td><td>CUST191</td><td>ORD1781</td><td>false</td><td>2025-07-11T12:48:46.716Z</td></tr><tr><td>48qHw3wKU8adltmuKRarGil+3yc=</td><td>2024-01-02</td><td>217.68</td><td>371</td><td>CUST137</td><td>ORD1370</td><td>false</td><td>2025-07-11T12:48:46.711Z</td></tr><tr><td>eyCyXaMdcrKlNgdlHXK5R0PPHb4=</td><td>2024-11-09</td><td>216.81</td><td>564</td><td>CUST179</td><td>ORD1563</td><td>false</td><td>2025-07-11T12:48:46.714Z</td></tr><tr><td>vQH03JDibFfNURZvqcc068N/QJ0=</td><td>2024-04-21</td><td>95.88</td><td>786</td><td>CUST161</td><td>ORD1785</td><td>false</td><td>2025-07-11T12:48:46.713Z</td></tr><tr><td>HydWgGbtIxwYRk771tgPrk4j+qc=</td><td>2024-01-09</td><td>256.77</td><td>245</td><td>CUST092</td><td>ORD1244</td><td>false</td><td>2025-07-11T12:48:46.702Z</td></tr><tr><td>upEQrFdFKoitTl4/rhJadCC1AkI=</td><td>2024-05-15</td><td>134.85</td><td>921</td><td>CUST164</td><td>ORD1920</td><td>false</td><td>2025-07-11T12:48:46.713Z</td></tr><tr><td>cw+GCKl+N6NEJ1YKgUceAdQD+jE=</td><td>2024-01-16</td><td>230.15</td><td>96</td><td>CUST039</td><td>ORD1095</td><td>false</td><td>2025-07-11T12:48:46.685Z</td></tr><tr><td>w2W7PKoSaJgNa+WIJXDJGHR9Ap0=</td><td>2024-05-04</td><td>154.04</td><td>307</td><td>CUST116</td><td>ORD1306</td><td>false</td><td>2025-07-11T12:48:46.708Z</td></tr><tr><td>a1X6QaH+7OjIfPL839+NJSU1xY0=</td><td>2024-01-13</td><td>219.58</td><td>266</td><td>CUST101</td><td>ORD1265</td><td>false</td><td>2025-07-11T12:48:46.704Z</td></tr><tr><td>J/4lFxBAEcZZ496mxM27Fmj4eHY=</td><td>2024-09-11</td><td>89.37</td><td>582</td><td>CUST072</td><td>ORD1581</td><td>false</td><td>2025-07-11T12:48:46.698Z</td></tr><tr><td>33X4n+SGaCfSb5XetcmVr+DTv4Q=</td><td>2024-08-08</td><td>235.84</td><td>331</td><td>CUST125</td><td>ORD1330</td><td>false</td><td>2025-07-11T12:48:46.709Z</td></tr><tr><td>7Cip24+ELCCCw6Qe5E77C/+hGgc=</td><td>2024-04-30</td><td>138.85</td><td>667</td><td>CUST018</td><td>ORD1666</td><td>false</td><td>2025-07-11T12:48:46.674Z</td></tr><tr><td>QaQo083iZyzjhnbMdZuD9iXdb64=</td><td>2024-10-30</td><td>238.34</td><td>485</td><td>CUST178</td><td>ORD1484</td><td>false</td><td>2025-07-11T12:48:46.714Z</td></tr><tr><td>AkxmiYoSf6d7g9HMdRzJLcyJZBg=</td><td>2024-04-12</td><td>204.21</td><td>111</td><td>CUST045</td><td>ORD1110</td><td>false</td><td>2025-07-11T12:48:46.688Z</td></tr><tr><td>JT+PVJczBJuUcy8iVn5azyJRmQ8=</td><td>2024-07-10</td><td>213.72</td><td>247</td><td>CUST093</td><td>ORD1246</td><td>false</td><td>2025-07-11T12:48:46.702Z</td></tr><tr><td>j+ikZ8SrMLMgwhKMagATKos3rUw=</td><td>2024-11-15</td><td>15.89</td><td>797</td><td>CUST001</td><td>ORD1796</td><td>false</td><td>2025-07-11T12:48:46.663Z</td></tr><tr><td>QoKEhCwDyLvdyNerhiP3wlwbAII=</td><td>2024-11-03</td><td>49.11</td><td>600</td><td>CUST114</td><td>ORD1599</td><td>false</td><td>2025-07-11T12:48:46.708Z</td></tr><tr><td>9xVfhfNt+eHbIgzjSiKuuF91yfw=</td><td>2024-05-29</td><td>109.18</td><td>95</td><td>CUST038</td><td>ORD1094</td><td>false</td><td>2025-07-11T12:48:46.685Z</td></tr><tr><td>ai3STETuISd/amlcMseO/6qcTVU=</td><td>2024-01-25</td><td>15.67</td><td>467</td><td>CUST172</td><td>ORD1466</td><td>false</td><td>2025-07-11T12:48:46.714Z</td></tr><tr><td>l4a+a/QAQLDxS4HRjJxElfdZV3g=</td><td>2024-08-17</td><td>264.96</td><td>315</td><td>CUST120</td><td>ORD1314</td><td>false</td><td>2025-07-11T12:48:46.709Z</td></tr><tr><td>U7gFw9gfmJp5hc2bAaLH030q8sM=</td><td>2024-07-01</td><td>63.92</td><td>713</td><td>CUST052</td><td>ORD1712</td><td>false</td><td>2025-07-11T12:48:46.691Z</td></tr><tr><td>4I6cDsAe2FvhcN8D/XsWmepfalc=</td><td>2024-06-23</td><td>147.91</td><td>268</td><td>CUST102</td><td>ORD1267</td><td>false</td><td>2025-07-11T12:48:46.704Z</td></tr><tr><td>5o2F3AsizHiFxYSeJSEN9YmU1H4=</td><td>2024-03-25</td><td>254.59</td><td>10</td><td>CUST005</td><td>ORD1009</td><td>false</td><td>2025-07-11T12:48:46.665Z</td></tr><tr><td>XC7cKigNtdu91py3RQX9TgZXRVU=</td><td>2024-06-17</td><td>170.55</td><td>427</td><td>CUST157</td><td>ORD1426</td><td>false</td><td>2025-07-11T12:48:46.713Z</td></tr><tr><td>07ZL+SXgyrozUtzn87XsbqD0qyM=</td><td>2024-06-13</td><td>37.18</td><td>308</td><td>CUST117</td><td>ORD1307</td><td>false</td><td>2025-07-11T12:48:46.708Z</td></tr><tr><td>z5BC5KF1GJ4OA+IZowzG6HW9b0c=</td><td>2024-07-06</td><td>287.07</td><td>849</td><td>CUST146</td><td>ORD1848</td><td>false</td><td>2025-07-11T12:48:46.712Z</td></tr><tr><td>ZpXgDe+b+8JrlKbyVhJF/pwDmgo=</td><td>2024-06-23</td><td>299.55</td><td>257</td><td>CUST097</td><td>ORD1256</td><td>false</td><td>2025-07-11T12:48:46.703Z</td></tr><tr><td>VttZ81pqi7/FUuHBd0EPY2cRlR4=</td><td>2024-06-10</td><td>95.64</td><td>851</td><td>CUST175</td><td>ORD1850</td><td>false</td><td>2025-07-11T12:48:46.714Z</td></tr><tr><td>rzbpD5YMLm6qk9eJmFi93zNI0gg=</td><td>2024-05-18</td><td>213.53</td><td>319</td><td>CUST121</td><td>ORD1318</td><td>false</td><td>2025-07-11T12:48:46.709Z</td></tr><tr><td>NT5f+WJ5bAALlB0S3tseFo4nbmw=</td><td>2024-03-21</td><td>52.87</td><td>291</td><td>CUST111</td><td>ORD1290</td><td>false</td><td>2025-07-11T12:48:46.707Z</td></tr><tr><td>wR96JoB7Q+w7zW0QDBeHawJXSrA=</td><td>2024-04-07</td><td>40.56</td><td>406</td><td>CUST149</td><td>ORD1405</td><td>false</td><td>2025-07-11T12:48:46.712Z</td></tr><tr><td>dTYBfuspPqWA3OoiCkNXRF9HkMc=</td><td>2024-04-12</td><td>295.76</td><td>973</td><td>CUST001</td><td>ORD1972</td><td>false</td><td>2025-07-11T12:48:46.663Z</td></tr><tr><td>mEcVTvOMc4kVEpSxOb80xkZLgIs=</td><td>2024-07-08</td><td>195.34</td><td>728</td><td>CUST133</td><td>ORD1727</td><td>false</td><td>2025-07-11T12:48:46.710Z</td></tr><tr><td>cvyTYqnT5FtM2K1jYvLFW8M62vg=</td><td>2024-08-14</td><td>229.34</td><td>996</td><td>CUST039</td><td>ORD1995</td><td>false</td><td>2025-07-11T12:48:46.685Z</td></tr><tr><td>ZxmVq8CgbV2ajyGvE2A1WAiR0EI=</td><td>2024-09-25</td><td>294.59</td><td>793</td><td>CUST138</td><td>ORD1792</td><td>false</td><td>2025-07-11T12:48:46.711Z</td></tr><tr><td>QhRiN4TYnifbIPTHrvls42r+sLc=</td><td>2024-07-03</td><td>98.58</td><td>409</td><td>CUST150</td><td>ORD1408</td><td>false</td><td>2025-07-11T12:48:46.712Z</td></tr><tr><td>KEw8DIh4F7Rov5U1wBcj9VgYtaw=</td><td>2024-02-09</td><td>66.09</td><td>251</td><td>CUST095</td><td>ORD1250</td><td>false</td><td>2025-07-11T12:48:46.703Z</td></tr><tr><td>5/xAG7F8J5vqAR+XULHuN1UjWW4=</td><td>2024-07-03</td><td>287.3</td><td>416</td><td>CUST153</td><td>ORD1415</td><td>false</td><td>2025-07-11T12:48:46.712Z</td></tr><tr><td>iSFGT7uhzW2hWiXCNxuW0PamHXo=</td><td>2024-02-15</td><td>291.02</td><td>320</td><td>CUST122</td><td>ORD1319</td><td>false</td><td>2025-07-11T12:48:46.709Z</td></tr><tr><td>ENs0iCFeX6O9AUy7p1/kk+O3iTI=</td><td>2024-05-08</td><td>245.67</td><td>290</td><td>CUST110</td><td>ORD1289</td><td>false</td><td>2025-07-11T12:48:46.707Z</td></tr><tr><td>zTUtE2I/wGB5FaAngkrdh58WVps=</td><td>2024-10-11</td><td>72.65</td><td>654</td><td>CUST037</td><td>ORD1653</td><td>false</td><td>2025-07-11T12:48:46.685Z</td></tr><tr><td>V1SNZHb0R0fDcvY40cyeuMEEGnA=</td><td>2024-04-24</td><td>274.03</td><td>131</td><td>CUST051</td><td>ORD1130</td><td>false</td><td>2025-07-11T12:48:46.690Z</td></tr><tr><td>vvzOGMXRDqFCtSXtnJqivP5lpCs=</td><td>2024-03-29</td><td>16.13</td><td>374</td><td>CUST138</td><td>ORD1373</td><td>false</td><td>2025-07-11T12:48:46.711Z</td></tr><tr><td>E2m6Z0KyOHAjIqoI8pnzT8dbMDQ=</td><td>2024-08-08</td><td>128.97</td><td>741</td><td>CUST171</td><td>ORD1740</td><td>false</td><td>2025-07-11T12:48:46.714Z</td></tr><tr><td>C7PBSY2ygBZ2pbdbfxsfnOgZMMs=</td><td>2024-09-27</td><td>221.0</td><td>164</td><td>CUST063</td><td>ORD1163</td><td>false</td><td>2025-07-11T12:48:46.695Z</td></tr><tr><td>TVOOFNCcCulghyioo6WJxDymPFo=</td><td>2024-06-04</td><td>193.35</td><td>220</td><td>CUST082</td><td>ORD1219</td><td>false</td><td>2025-07-11T12:48:46.700Z</td></tr><tr><td>eIOv9ejAvx3WwidMJvFq0hejxPg=</td><td>2024-02-01</td><td>158.22</td><td>196</td><td>CUST074</td><td>ORD1195</td><td>false</td><td>2025-07-11T12:48:46.698Z</td></tr><tr><td>f48msmvNbSG4smk7B33UfxFgqwE=</td><td>2024-06-21</td><td>221.05</td><td>442</td><td>CUST164</td><td>ORD1441</td><td>false</td><td>2025-07-11T12:48:46.713Z</td></tr><tr><td>9CMrv3SPtemgOxUslFOLQ7uCO8A=</td><td>2024-09-07</td><td>218.56</td><td>940</td><td>CUST044</td><td>ORD1939</td><td>false</td><td>2025-07-11T12:48:46.687Z</td></tr><tr><td>iGnREIBvi19oJEPRO0rTTeYvV8w=</td><td>2024-06-17</td><td>291.68</td><td>841</td><td>CUST043</td><td>ORD1840</td><td>false</td><td>2025-07-11T12:48:46.687Z</td></tr><tr><td>TB+/u19LySPb/gdtt+SQSZv8GMU=</td><td>2024-03-02</td><td>137.86</td><td>756</td><td>CUST069</td><td>ORD1755</td><td>false</td><td>2025-07-11T12:48:46.697Z</td></tr><tr><td>NUj8G9Kp+G+qXnPSosWk6ZvCJ5o=</td><td>2024-03-25</td><td>76.04</td><td>177</td><td>CUST067</td><td>ORD1176</td><td>false</td><td>2025-07-11T12:48:46.696Z</td></tr><tr><td>DkeenH7PGTgrKjNmly5+S6wiA5s=</td><td>2024-03-14</td><td>191.72</td><td>937</td><td>CUST031</td><td>ORD1936</td><td>false</td><td>2025-07-11T12:48:46.681Z</td></tr><tr><td>f5BmrbwDZwh3pExTLkx/RqMhGFk=</td><td>2024-12-28</td><td>167.75</td><td>954</td><td>CUST079</td><td>ORD1953</td><td>false</td><td>2025-07-11T12:48:46.700Z</td></tr><tr><td>+aiaQ7gcbA9+WeiPjeP/wYC0tUg=</td><td>2024-09-15</td><td>287.86</td><td>943</td><td>CUST023</td><td>ORD1942</td><td>false</td><td>2025-07-11T12:48:46.678Z</td></tr><tr><td>6sBJUXsscD9dDDXsPj/ohRM0WCM=</td><td>2024-10-08</td><td>118.21</td><td>902</td><td>CUST019</td><td>ORD1901</td><td>false</td><td>2025-07-11T12:48:46.676Z</td></tr><tr><td>YNNsz3u68hrrbmyEqP9nbWegP5I=</td><td>2024-11-17</td><td>213.08</td><td>717</td><td>CUST022</td><td>ORD1716</td><td>false</td><td>2025-07-11T12:48:46.677Z</td></tr><tr><td>D84AAJB6KR1ViDuMu2eaDczF6qQ=</td><td>2024-05-27</td><td>299.21</td><td>102</td><td>CUST042</td><td>ORD1101</td><td>false</td><td>2025-07-11T12:48:46.686Z</td></tr><tr><td>CmCTFhRMR/CRNI+YHcnwbQYGzB4=</td><td>2024-11-23</td><td>172.05</td><td>780</td><td>CUST103</td><td>ORD1779</td><td>false</td><td>2025-07-11T12:48:46.705Z</td></tr><tr><td>ZyBewbr3vpjS/p+Sd6kwV0ShJs8=</td><td>2024-03-04</td><td>187.22</td><td>325</td><td>CUST124</td><td>ORD1324</td><td>false</td><td>2025-07-11T12:48:46.709Z</td></tr><tr><td>F2UxS3ikmKiZp8RVqpU09rOrtsg=</td><td>2024-07-07</td><td>270.82</td><td>233</td><td>CUST087</td><td>ORD1232</td><td>false</td><td>2025-07-11T12:48:46.702Z</td></tr><tr><td>PnTXSDW2u7wV7bIpzHfA6XFY9Wg=</td><td>2024-08-31</td><td>126.97</td><td>518</td><td>CUST189</td><td>ORD1517</td><td>false</td><td>2025-07-11T12:48:46.716Z</td></tr><tr><td>GCUuq9en9tNaSdLRy57eIWov97k=</td><td>2024-06-05</td><td>207.77</td><td>33</td><td>CUST015</td><td>ORD1032</td><td>false</td><td>2025-07-11T12:48:46.672Z</td></tr><tr><td>83+lvWae4+Jlyre1pUdbTOUT1oA=</td><td>2024-09-11</td><td>166.27</td><td>984</td><td>CUST035</td><td>ORD1983</td><td>false</td><td>2025-07-11T12:48:46.684Z</td></tr><tr><td>0OomAPp2ZX17D6cFFMzzmdQ5Xoc=</td><td>2024-02-27</td><td>64.72</td><td>305</td><td>CUST115</td><td>ORD1304</td><td>false</td><td>2025-07-11T12:48:46.708Z</td></tr><tr><td>IotYw3xiQLhcuPlINAS2EkD20tQ=</td><td>2024-07-01</td><td>42.21</td><td>330</td><td>CUST125</td><td>ORD1329</td><td>false</td><td>2025-07-11T12:48:46.709Z</td></tr><tr><td>9wgHscNDkRSrpAVRud4BdI5CYH8=</td><td>2024-08-16</td><td>244.95</td><td>690</td><td>CUST030</td><td>ORD1689</td><td>false</td><td>2025-07-11T12:48:46.681Z</td></tr><tr><td>Y5hjrN258+RkZDXZSit/nqsjjLc=</td><td>2024-10-21</td><td>19.52</td><td>617</td><td>CUST065</td><td>ORD1616</td><td>false</td><td>2025-07-11T12:48:46.696Z</td></tr><tr><td>q0efN0wMSAeqdhvTrVyohd2TFmg=</td><td>2024-04-20</td><td>249.51</td><td>23</td><td>CUST010</td><td>ORD1022</td><td>false</td><td>2025-07-11T12:48:46.669Z</td></tr><tr><td>BmNvLxo7Zj8tvbYiKcfg92Ga9X4=</td><td>2024-02-04</td><td>126.63</td><td>424</td><td>CUST157</td><td>ORD1423</td><td>false</td><td>2025-07-11T12:48:46.713Z</td></tr><tr><td>4xqDFUQg3tMPvxJ/rvUHG4RWH2s=</td><td>2024-06-20</td><td>171.4</td><td>260</td><td>CUST099</td><td>ORD1259</td><td>false</td><td>2025-07-11T12:48:46.704Z</td></tr><tr><td>hMgdqKiLlFvvVGUcFC4qdzYFCDE=</td><td>2024-02-25</td><td>58.57</td><td>433</td><td>CUST160</td><td>ORD1432</td><td>false</td><td>2025-07-11T12:48:46.713Z</td></tr><tr><td>5UutScF5VBBuW4ZolCYMy4pNts4=</td><td>2024-04-27</td><td>127.29</td><td>61</td><td>CUST027</td><td>ORD1060</td><td>false</td><td>2025-07-11T12:48:46.679Z</td></tr><tr><td>m3w/JJjrlXh03rmpQ32KpOhu/CM=</td><td>2024-08-14</td><td>133.2</td><td>672</td><td>CUST144</td><td>ORD1671</td><td>false</td><td>2025-07-11T12:48:46.711Z</td></tr><tr><td>CNNiiCOqQkk+fp+poz5e/pgiQ9c=</td><td>2024-12-13</td><td>183.23</td><td>792</td><td>CUST012</td><td>ORD1791</td><td>false</td><td>2025-07-11T12:48:46.671Z</td></tr><tr><td>rLIimQuxuqyJDG6RK3mlk3yfJWY=</td><td>2024-06-15</td><td>274.44</td><td>624</td><td>CUST199</td><td>ORD1623</td><td>false</td><td>2025-07-11T12:48:46.717Z</td></tr><tr><td>rHbnAO62EZdv6aKCzaDhCLaaZ8g=</td><td>2024-01-20</td><td>199.96</td><td>515</td><td>CUST189</td><td>ORD1514</td><td>false</td><td>2025-07-11T12:48:46.716Z</td></tr><tr><td>NtCRgaFpeZTK34iCA4leVaycuH4=</td><td>2024-11-17</td><td>241.42</td><td>573</td><td>CUST183</td><td>ORD1572</td><td>false</td><td>2025-07-11T12:48:46.715Z</td></tr><tr><td>kS+EE9EMi8WIcAFjZOPz76x0Ia8=</td><td>2024-07-16</td><td>107.84</td><td>540</td><td>CUST196</td><td>ORD1539</td><td>false</td><td>2025-07-11T12:48:46.716Z</td></tr><tr><td>B9DpTbyCRsoxBDdotRQxp9kxqpw=</td><td>2024-03-28</td><td>262.35</td><td>67</td><td>CUST029</td><td>ORD1066</td><td>false</td><td>2025-07-11T12:48:46.680Z</td></tr><tr><td>sWtFY5HXFzzMJxcJsGW+nU7kvEY=</td><td>2024-02-28</td><td>227.51</td><td>237</td><td>CUST089</td><td>ORD1236</td><td>false</td><td>2025-07-11T12:48:46.702Z</td></tr><tr><td>7lP/dw0zRLIfzxeU7GIrUX2y4E8=</td><td>2024-07-24</td><td>208.93</td><td>145</td><td>CUST056</td><td>ORD1144</td><td>false</td><td>2025-07-11T12:48:46.693Z</td></tr><tr><td>X8lxPNRcYgEUBO9xE1hN/L70jHY=</td><td>2024-02-27</td><td>185.71</td><td>140</td><td>CUST055</td><td>ORD1139</td><td>false</td><td>2025-07-11T12:48:46.692Z</td></tr><tr><td>oMGaP95kDjK+pyK3oJT9Msl9/KI=</td><td>2024-11-01</td><td>165.73</td><td>647</td><td>CUST023</td><td>ORD1646</td><td>false</td><td>2025-07-11T12:48:46.678Z</td></tr><tr><td>jATxFnV9uKv8dBqistKBYFlsMFQ=</td><td>2024-05-15</td><td>93.45</td><td>352</td><td>CUST131</td><td>ORD1351</td><td>false</td><td>2025-07-11T12:48:46.710Z</td></tr><tr><td>sL02hNyRSjxbpLTPoSkUOXGsLQs=</td><td>2024-08-31</td><td>97.27</td><td>593</td><td>CUST113</td><td>ORD1592</td><td>false</td><td>2025-07-11T12:48:46.707Z</td></tr><tr><td>wrLKDWP1UiyRbjezDuSDLT8CBSk=</td><td>2024-05-19</td><td>175.63</td><td>11</td><td>CUST005</td><td>ORD1010</td><td>false</td><td>2025-07-11T12:48:46.665Z</td></tr><tr><td>eRR0v7fHkagUr5rnNolkdLMpUQI=</td><td>2024-01-14</td><td>25.53</td><td>837</td><td>CUST102</td><td>ORD1836</td><td>false</td><td>2025-07-11T12:48:46.704Z</td></tr><tr><td>Zq06u+56QH0ml8MCZu+jyxTnboE=</td><td>2024-12-05</td><td>284.14</td><td>610</td><td>CUST183</td><td>ORD1609</td><td>false</td><td>2025-07-11T12:48:46.715Z</td></tr><tr><td>NcQZ5nB20+9BL/JjgLbp2lVZ30w=</td><td>2024-04-21</td><td>152.16</td><td>99</td><td>CUST040</td><td>ORD1098</td><td>false</td><td>2025-07-11T12:48:46.686Z</td></tr><tr><td>gBwOz+W8Hb09vVoRLwVgNa7x9xA=</td><td>2024-03-30</td><td>152.38</td><td>544</td><td>CUST198</td><td>ORD1543</td><td>false</td><td>2025-07-11T12:48:46.716Z</td></tr><tr><td>QdHPa/oYeKK3JXVcpNUz+DNG13s=</td><td>2024-06-21</td><td>134.89</td><td>276</td><td>CUST104</td><td>ORD1275</td><td>false</td><td>2025-07-11T12:48:46.705Z</td></tr><tr><td>/NXfb+y7l1F1A729u1cguKgo14g=</td><td>2024-03-04</td><td>237.37</td><td>656</td><td>CUST185</td><td>ORD1655</td><td>false</td><td>2025-07-11T12:48:46.715Z</td></tr><tr><td>6ThOvMqEL/Ir4dvgcHlbnoMTcUI=</td><td>2024-02-03</td><td>79.51</td><td>139</td><td>CUST055</td><td>ORD1138</td><td>false</td><td>2025-07-11T12:48:46.692Z</td></tr><tr><td>Hq6W9bb3D+TumCMSBLpqeV0oC0I=</td><td>2024-03-12</td><td>72.49</td><td>882</td><td>CUST059</td><td>ORD1881</td><td>false</td><td>2025-07-11T12:48:46.694Z</td></tr><tr><td>LB69AIj1iytwDEEMBUXMRS2pnkY=</td><td>2024-05-21</td><td>57.28</td><td>934</td><td>CUST125</td><td>ORD1933</td><td>false</td><td>2025-07-11T12:48:46.709Z</td></tr><tr><td>OJ9h+B+EEfCQCivxvuKoUlmbaLw=</td><td>2024-01-04</td><td>143.51</td><td>272</td><td>CUST104</td><td>ORD1271</td><td>false</td><td>2025-07-11T12:48:46.705Z</td></tr><tr><td>KIHmpLGfnJEFKLS1Qxhr/fZvcN4=</td><td>2024-06-29</td><td>244.03</td><td>384</td><td>CUST141</td><td>ORD1383</td><td>false</td><td>2025-07-11T12:48:46.711Z</td></tr><tr><td>syxxlGMf4qVKRRHiaS1bP9+jFPY=</td><td>2024-11-08</td><td>274.68</td><td>839</td><td>CUST028</td><td>ORD1838</td><td>false</td><td>2025-07-11T12:48:46.680Z</td></tr><tr><td>o5WNYqVadztg4ED0dqChFrVaOuI=</td><td>2024-07-17</td><td>282.28</td><td>167</td><td>CUST064</td><td>ORD1166</td><td>false</td><td>2025-07-11T12:48:46.695Z</td></tr><tr><td>5cug0CXCMiRdsdSuheCb8/bUewk=</td><td>2024-08-07</td><td>281.17</td><td>859</td><td>CUST018</td><td>ORD1858</td><td>false</td><td>2025-07-11T12:48:46.674Z</td></tr><tr><td>aMhWy/xFNftDWqt4OsFfHDktylY=</td><td>2024-06-20</td><td>294.61</td><td>212</td><td>CUST079</td><td>ORD1211</td><td>false</td><td>2025-07-11T12:48:46.700Z</td></tr><tr><td>AR57Aum/d8dKZBJUUA+JekeWu4U=</td><td>2024-03-13</td><td>296.94</td><td>323</td><td>CUST123</td><td>ORD1322</td><td>false</td><td>2025-07-11T12:48:46.709Z</td></tr><tr><td>aGxAVkowWPt6b2i8qcg3ASsGWW0=</td><td>2024-10-23</td><td>150.53</td><td>348</td><td>CUST129</td><td>ORD1347</td><td>false</td><td>2025-07-11T12:48:46.710Z</td></tr><tr><td>IaOXy7zMhjUdhC/k/XBKCGTUDhU=</td><td>2024-06-07</td><td>89.06</td><td>933</td><td>CUST123</td><td>ORD1932</td><td>false</td><td>2025-07-11T12:48:46.709Z</td></tr><tr><td>3jtKAI8Y97rya2AUshvGqWH4bq8=</td><td>2024-04-21</td><td>55.56</td><td>292</td><td>CUST111</td><td>ORD1291</td><td>false</td><td>2025-07-11T12:48:46.707Z</td></tr><tr><td>5pLmbAw0KNpuDSS/QSnIofuMH5g=</td><td>2024-12-18</td><td>234.34</td><td>643</td><td>CUST045</td><td>ORD1642</td><td>false</td><td>2025-07-11T12:48:46.688Z</td></tr><tr><td>9xhaxC9923ljbgP8Mh2QRF/6VTE=</td><td>2024-02-16</td><td>232.58</td><td>269</td><td>CUST103</td><td>ORD1268</td><td>false</td><td>2025-07-11T12:48:46.704Z</td></tr><tr><td>655tn/2mWNiZCGkuMdicuk5dwyk=</td><td>2024-02-04</td><td>57.7</td><td>683</td><td>CUST019</td><td>ORD1682</td><td>false</td><td>2025-07-11T12:48:46.675Z</td></tr><tr><td>eEwQJkralGdnpCXA1FXXn1MrmBM=</td><td>2024-06-03</td><td>254.52</td><td>327</td><td>CUST124</td><td>ORD1326</td><td>false</td><td>2025-07-11T12:48:46.709Z</td></tr><tr><td>hfpbqczkaLecBgC5VQWJezaki8w=</td><td>2024-06-15</td><td>86.75</td><td>41</td><td>CUST018</td><td>ORD1040</td><td>false</td><td>2025-07-11T12:48:46.674Z</td></tr><tr><td>4kqh599y+6+X9cP6nkjNLPtzRYs=</td><td>2024-12-18</td><td>286.9</td><td>737</td><td>CUST099</td><td>ORD1736</td><td>false</td><td>2025-07-11T12:48:46.704Z</td></tr><tr><td>XWoWvP3Z1tTx9USi2a3gAMZSvq0=</td><td>2024-09-21</td><td>48.43</td><td>86</td><td>CUST035</td><td>ORD1085</td><td>false</td><td>2025-07-11T12:48:46.683Z</td></tr><tr><td>r/3wnRTpRF+TfEmdfRRPZmmNMco=</td><td>2024-06-13</td><td>35.8</td><td>941</td><td>CUST197</td><td>ORD1940</td><td>false</td><td>2025-07-11T12:48:46.716Z</td></tr><tr><td>ik15k12Dkz49ISzeDWfi1gNUyZE=</td><td>2024-01-10</td><td>74.3</td><td>631</td><td>CUST060</td><td>ORD1630</td><td>false</td><td>2025-07-11T12:48:46.694Z</td></tr><tr><td>Q5DwgumIrk5DEFFUzQeS3sZieIo=</td><td>2024-05-15</td><td>155.75</td><td>137</td><td>CUST054</td><td>ORD1136</td><td>false</td><td>2025-07-11T12:48:46.692Z</td></tr><tr><td>wMjg93VrCdQ9bLNavg7uT0OFwWg=</td><td>2024-12-14</td><td>29.42</td><td>638</td><td>CUST023</td><td>ORD1637</td><td>false</td><td>2025-07-11T12:48:46.678Z</td></tr><tr><td>7X1ftU7kadeRkLPqecj02KNlZJE=</td><td>2024-08-13</td><td>157.37</td><td>612</td><td>CUST165</td><td>ORD1611</td><td>false</td><td>2025-07-11T12:48:46.713Z</td></tr><tr><td>Zwjhgw50AT7+21v3BgZxuMuI0As=</td><td>2024-04-24</td><td>109.37</td><td>447</td><td>CUST165</td><td>ORD1446</td><td>false</td><td>2025-07-11T12:48:46.713Z</td></tr><tr><td>AlxjtLvaBV62iPLEeKz0CWl4NV4=</td><td>2024-04-03</td><td>255.53</td><td>474</td><td>CUST174</td><td>ORD1473</td><td>false</td><td>2025-07-11T12:48:46.714Z</td></tr><tr><td>ZVS2WulDwO0hrhQ3YvGVtfjhz8A=</td><td>2024-05-19</td><td>274.27</td><td>778</td><td>CUST108</td><td>ORD1777</td><td>false</td><td>2025-07-11T12:48:46.707Z</td></tr><tr><td>bGI5wnTw4ZhjFoYerVPgTQbZRRs=</td><td>2024-06-05</td><td>188.31</td><td>128</td><td>CUST050</td><td>ORD1127</td><td>false</td><td>2025-07-11T12:48:46.690Z</td></tr><tr><td>Ej2F290OE+UAXOhenHM+3f73HeE=</td><td>2024-04-15</td><td>237.36</td><td>362</td><td>CUST134</td><td>ORD1361</td><td>false</td><td>2025-07-11T12:48:46.710Z</td></tr><tr><td>UYY1jOO8q4i0gBxLDSwCmwW2b1Q=</td><td>2024-07-22</td><td>263.41</td><td>124</td><td>CUST049</td><td>ORD1123</td><td>false</td><td>2025-07-11T12:48:46.689Z</td></tr><tr><td>c6IsBxmyUZ+a2JXB+CCmOnxoNDY=</td><td>2024-06-22</td><td>248.5</td><td>892</td><td>CUST113</td><td>ORD1891</td><td>false</td><td>2025-07-11T12:48:46.708Z</td></tr><tr><td>thcq8XPVEH3tZK3Ho+zBGI5cqxE=</td><td>2024-08-04</td><td>187.37</td><td>174</td><td>CUST066</td><td>ORD1173</td><td>false</td><td>2025-07-11T12:48:46.696Z</td></tr><tr><td>rfDg37/My+LUQzs8hn3tZSiuvi0=</td><td>2024-12-20</td><td>87.54</td><td>718</td><td>CUST057</td><td>ORD1717</td><td>false</td><td>2025-07-11T12:48:46.693Z</td></tr><tr><td>gF7ms9OFxN1YzNgVK6ktBdDJPzg=</td><td>2024-04-01</td><td>44.82</td><td>805</td><td>CUST018</td><td>ORD1804</td><td>false</td><td>2025-07-11T12:48:46.674Z</td></tr><tr><td>qScnWvEACnX+tKk7fa2hvG9DfKw=</td><td>2024-08-22</td><td>160.58</td><td>682</td><td>CUST145</td><td>ORD1681</td><td>false</td><td>2025-07-11T12:48:46.712Z</td></tr><tr><td>2hct6u5Jw/Emnimj6dGeQ7e0KX8=</td><td>2024-12-14</td><td>61.15</td><td>913</td><td>CUST052</td><td>ORD1912</td><td>false</td><td>2025-07-11T12:48:46.691Z</td></tr><tr><td>0/gDLb6nFbM1byvf3M5sYq7FQJI=</td><td>2024-05-10</td><td>159.53</td><td>758</td><td>CUST154</td><td>ORD1757</td><td>false</td><td>2025-07-11T12:48:46.712Z</td></tr><tr><td>RoAMvGxoenoGQnlQET7LBGVkEnA=</td><td>2024-06-05</td><td>215.68</td><td>50</td><td>CUST022</td><td>ORD1049</td><td>false</td><td>2025-07-11T12:48:46.677Z</td></tr><tr><td>oMWOaSU2N9y9+Y1EVqTsOzyeJPY=</td><td>2024-10-16</td><td>133.41</td><td>195</td><td>CUST073</td><td>ORD1194</td><td>false</td><td>2025-07-11T12:48:46.698Z</td></tr><tr><td>EUc0uUTboJZfO3tfjtsC14YDfBk=</td><td>2024-02-15</td><td>44.49</td><td>129</td><td>CUST051</td><td>ORD1128</td><td>false</td><td>2025-07-11T12:48:46.690Z</td></tr><tr><td>+vQybdPeWE4eH5OltEeuZW95ssM=</td><td>2024-06-14</td><td>167.96</td><td>511</td><td>CUST188</td><td>ORD1510</td><td>false</td><td>2025-07-11T12:48:46.715Z</td></tr><tr><td>CnrNgOnYuW2mDq4/VqZtKqR3I+o=</td><td>2024-03-23</td><td>204.94</td><td>944</td><td>CUST147</td><td>ORD1943</td><td>false</td><td>2025-07-11T12:48:46.712Z</td></tr><tr><td>NTw6eveHWA+LvF7Ebe8TFH3RCVE=</td><td>2024-04-17</td><td>249.5</td><td>431</td><td>CUST159</td><td>ORD1430</td><td>false</td><td>2025-07-11T12:48:46.713Z</td></tr><tr><td>QHHlJs9tQwK5mYI1Wj62qHoEPog=</td><td>2024-12-18</td><td>132.53</td><td>437</td><td>CUST161</td><td>ORD1436</td><td>false</td><td>2025-07-11T12:48:46.713Z</td></tr><tr><td>qdivwNOMDEJNW9+7E4arz5NxiZE=</td><td>2024-06-08</td><td>171.73</td><td>155</td><td>CUST059</td><td>ORD1154</td><td>false</td><td>2025-07-11T12:48:46.694Z</td></tr><tr><td>GKn0htUiAWfoPHIlP5s9OEGPlnM=</td><td>2024-03-10</td><td>225.92</td><td>779</td><td>CUST101</td><td>ORD1778</td><td>false</td><td>2025-07-11T12:48:46.704Z</td></tr><tr><td>sbgpxuXgj0QHCjF+So/TZKOjbLM=</td><td>2024-05-04</td><td>289.2</td><td>188</td><td>CUST071</td><td>ORD1187</td><td>false</td><td>2025-07-11T12:48:46.697Z</td></tr><tr><td>7E95QH3IbL0uzkrrMPUJWr0qzAw=</td><td>2024-01-31</td><td>175.42</td><td>8</td><td>CUST004</td><td>ORD1007</td><td>false</td><td>2025-07-11T12:48:46.665Z</td></tr><tr><td>39Q07B39CXZKaver9wJKDm/q+J8=</td><td>2024-08-23</td><td>288.96</td><td>366</td><td>CUST135</td><td>ORD1365</td><td>false</td><td>2025-07-11T12:48:46.710Z</td></tr><tr><td>yFqgPnk5FtjnY0h5RGZbpq8B4XI=</td><td>2024-06-30</td><td>121.11</td><td>144</td><td>CUST056</td><td>ORD1143</td><td>false</td><td>2025-07-11T12:48:46.692Z</td></tr><tr><td>cUsMMFB1evHbxEP6n/p5vKSzKnE=</td><td>2024-01-23</td><td>118.2</td><td>657</td><td>CUST069</td><td>ORD1656</td><td>false</td><td>2025-07-11T12:48:46.697Z</td></tr><tr><td>OwrPjzMeceKelZJCRkDlX15pfnw=</td><td>2024-03-31</td><td>96.06</td><td>754</td><td>CUST006</td><td>ORD1753</td><td>false</td><td>2025-07-11T12:48:46.666Z</td></tr><tr><td>xmAEcwRI9mfcqu9iQYOfvLXdzb8=</td><td>2024-05-08</td><td>65.95</td><td>271</td><td>CUST103</td><td>ORD1270</td><td>false</td><td>2025-07-11T12:48:46.705Z</td></tr><tr><td>sbBc3d9+pLqRcB7+1dEtxM/AOWQ=</td><td>2024-12-06</td><td>277.6</td><td>679</td><td>CUST196</td><td>ORD1678</td><td>false</td><td>2025-07-11T12:48:46.716Z</td></tr><tr><td>uH0fVmbOHGbRpNzUspTGzg94tmk=</td><td>2024-06-02</td><td>13.69</td><td>340</td><td>CUST127</td><td>ORD1339</td><td>false</td><td>2025-07-11T12:48:46.710Z</td></tr><tr><td>d2m03Qjk8zvGvgdD5qDPshWx8PI=</td><td>2024-01-11</td><td>103.17</td><td>38</td><td>CUST017</td><td>ORD1037</td><td>false</td><td>2025-07-11T12:48:46.673Z</td></tr><tr><td>Yzo0SaGDpQ9m6Mx8fbEjTDVMfeI=</td><td>2024-04-29</td><td>60.15</td><td>274</td><td>CUST104</td><td>ORD1273</td><td>false</td><td>2025-07-11T12:48:46.705Z</td></tr><tr><td>GJWPr/9ubnB+sv3DGqEnQCYnpOE=</td><td>2024-07-14</td><td>189.34</td><td>484</td><td>CUST178</td><td>ORD1483</td><td>false</td><td>2025-07-11T12:48:46.714Z</td></tr><tr><td>3fFW7HAjubwJVzGPIKseAqkwW+Q=</td><td>2024-06-18</td><td>265.21</td><td>538</td><td>CUST195</td><td>ORD1537</td><td>false</td><td>2025-07-11T12:48:46.716Z</td></tr><tr><td>1+LhFeMyulCDoXkp2WkAeqfAG8c=</td><td>2024-12-04</td><td>291.24</td><td>722</td><td>CUST098</td><td>ORD1721</td><td>false</td><td>2025-07-11T12:48:46.703Z</td></tr><tr><td>hKTF60oX59+MzrM7OEmcSESHTi0=</td><td>2024-06-10</td><td>245.76</td><td>82</td><td>CUST034</td><td>ORD1081</td><td>false</td><td>2025-07-11T12:48:46.683Z</td></tr><tr><td>9PAxM6dI6WZrCawwxdY/eA1ol+w=</td><td>2024-05-27</td><td>185.94</td><td>821</td><td>CUST097</td><td>ORD1820</td><td>false</td><td>2025-07-11T12:48:46.703Z</td></tr><tr><td>7B2JoAtuMqxgEUlJ2DyOp/Q0vH4=</td><td>2024-05-24</td><td>264.52</td><td>287</td><td>CUST109</td><td>ORD1286</td><td>false</td><td>2025-07-11T12:48:46.707Z</td></tr><tr><td>YSQ+LpjSKNakyDSsibvWX+ZXgt0=</td><td>2024-05-01</td><td>165.6</td><td>796</td><td>CUST057</td><td>ORD1795</td><td>false</td><td>2025-07-11T12:48:46.693Z</td></tr><tr><td>UIEo8oiJjP/3FO2dET0ehUywYAU=</td><td>2024-09-23</td><td>42.63</td><td>872</td><td>CUST006</td><td>ORD1871</td><td>false</td><td>2025-07-11T12:48:46.667Z</td></tr><tr><td>F+ap/+wZAgp1hLQntB35/rd3wnM=</td><td>2024-02-25</td><td>213.92</td><td>500</td><td>CUST184</td><td>ORD1499</td><td>false</td><td>2025-07-11T12:48:46.715Z</td></tr><tr><td>+KOJD07V3jSH8q433ZaCqiTfQsw=</td><td>2024-03-26</td><td>247.96</td><td>339</td><td>CUST127</td><td>ORD1338</td><td>false</td><td>2025-07-11T12:48:46.710Z</td></tr><tr><td>cAfZRG1B6nWvP7LWLdZ8zfkLurs=</td><td>2024-12-04</td><td>178.74</td><td>650</td><td>CUST154</td><td>ORD1649</td><td>false</td><td>2025-07-11T12:48:46.712Z</td></tr><tr><td>fVAJ5q6w/yu6y3MrMVq1QslLZ20=</td><td>2024-02-02</td><td>279.39</td><td>856</td><td>CUST032</td><td>ORD1855</td><td>false</td><td>2025-07-11T12:48:46.682Z</td></tr><tr><td>yR2IhN0+lSNRug/ArO4E9qkskxo=</td><td>2024-03-16</td><td>191.85</td><td>725</td><td>CUST021</td><td>ORD1724</td><td>false</td><td>2025-07-11T12:48:46.677Z</td></tr><tr><td>C43B0SGosv4pEN/x7G3jpIFov/E=</td><td>2024-01-23</td><td>256.07</td><td>221</td><td>CUST083</td><td>ORD1220</td><td>false</td><td>2025-07-11T12:48:46.701Z</td></tr><tr><td>fSGPWvcgRiqbMvzu6UUQk3Vdw2U=</td><td>2024-06-06</td><td>23.91</td><td>244</td><td>CUST091</td><td>ORD1243</td><td>false</td><td>2025-07-11T12:48:46.702Z</td></tr><tr><td>ooLQs1TGkHFQCxBQGx+84TtmyvE=</td><td>2024-06-20</td><td>131.91</td><td>84</td><td>CUST035</td><td>ORD1083</td><td>false</td><td>2025-07-11T12:48:46.683Z</td></tr><tr><td>r/DTjLL1ok2zxG4IJyCAg2ijktk=</td><td>2024-08-03</td><td>79.57</td><td>355</td><td>CUST131</td><td>ORD1354</td><td>false</td><td>2025-07-11T12:48:46.710Z</td></tr><tr><td>QN4UatWQfuzCUq3XoXBEmrdZaPQ=</td><td>2024-12-21</td><td>241.23</td><td>599</td><td>CUST108</td><td>ORD1598</td><td>false</td><td>2025-07-11T12:48:46.706Z</td></tr><tr><td>moJOiWFhon16ifPYm2T7sEJ7lgI=</td><td>2024-05-01</td><td>12.47</td><td>309</td><td>CUST118</td><td>ORD1308</td><td>false</td><td>2025-07-11T12:48:46.708Z</td></tr><tr><td>AozYY6+Il8m5nvaU56GPpC4reV8=</td><td>2024-09-12</td><td>167.7</td><td>557</td><td>CUST051</td><td>ORD1556</td><td>false</td><td>2025-07-11T12:48:46.690Z</td></tr><tr><td>/AHW/rFhZdljhhIDeLbNULZeBDE=</td><td>2024-04-29</td><td>39.0</td><td>239</td><td>CUST089</td><td>ORD1238</td><td>false</td><td>2025-07-11T12:48:46.702Z</td></tr><tr><td>BkizP0gSPHXy+GQVEWyI5vf/MRw=</td><td>2024-01-20</td><td>189.31</td><td>803</td><td>CUST131</td><td>ORD1802</td><td>false</td><td>2025-07-11T12:48:46.710Z</td></tr><tr><td>wKZO0QMCZ8KmHKrDovwwmmMyt0o=</td><td>2024-05-03</td><td>192.11</td><td>668</td><td>CUST017</td><td>ORD1667</td><td>false</td><td>2025-07-11T12:48:46.673Z</td></tr><tr><td>kCSypsPLGkiLAhwsTbxXtYBl5C4=</td><td>2024-03-27</td><td>236.88</td><td>152</td><td>CUST059</td><td>ORD1151</td><td>false</td><td>2025-07-11T12:48:46.694Z</td></tr><tr><td>x3oDFG2g2770gyo5gmvB6YggSF0=</td><td>2024-09-14</td><td>252.35</td><td>960</td><td>CUST115</td><td>ORD1959</td><td>false</td><td>2025-07-11T12:48:46.708Z</td></tr><tr><td>vVmwe2cW7YXNMa1ALjpBFH7tFxw=</td><td>2024-05-26</td><td>48.23</td><td>563</td><td>CUST182</td><td>ORD1562</td><td>false</td><td>2025-07-11T12:48:46.715Z</td></tr><tr><td>xTKK8UqbL/GB0iyBAtZ2GMD0x5Q=</td><td>2024-04-05</td><td>38.57</td><td>44</td><td>CUST019</td><td>ORD1043</td><td>false</td><td>2025-07-11T12:48:46.674Z</td></tr><tr><td>6YEt+fG/Ipp9vYCGbcafIRJYyjM=</td><td>2024-07-23</td><td>18.76</td><td>358</td><td>CUST132</td><td>ORD1357</td><td>false</td><td>2025-07-11T12:48:46.710Z</td></tr><tr><td>D3kScUXfIfLexLPmFrtopDPlL4s=</td><td>2024-09-13</td><td>43.83</td><td>759</td><td>CUST141</td><td>ORD1758</td><td>false</td><td>2025-07-11T12:48:46.711Z</td></tr><tr><td>Ur/douAMZEVVqtYaLwDyh/h6pWY=</td><td>2024-12-19</td><td>250.99</td><td>571</td><td>CUST171</td><td>ORD1570</td><td>false</td><td>2025-07-11T12:48:46.714Z</td></tr><tr><td>JIGyu+AlNOHxsN10Nj1o0kROaX4=</td><td>2024-05-04</td><td>38.66</td><td>740</td><td>CUST020</td><td>ORD1739</td><td>false</td><td>2025-07-11T12:48:46.676Z</td></tr><tr><td>hjPRPeA4EfPHJULtGwfABwZAz78=</td><td>2024-02-18</td><td>132.83</td><td>795</td><td>CUST066</td><td>ORD1794</td><td>false</td><td>2025-07-11T12:48:46.696Z</td></tr><tr><td>YdEVtlOaFZo0rNj+ecB0zfpA+tk=</td><td>2024-07-16</td><td>29.57</td><td>21</td><td>CUST009</td><td>ORD1020</td><td>false</td><td>2025-07-11T12:48:46.668Z</td></tr><tr><td>6ZoV18bok2Lkj7do0XuLM1H35ic=</td><td>2024-08-14</td><td>248.72</td><td>57</td><td>CUST025</td><td>ORD1056</td><td>false</td><td>2025-07-11T12:48:46.678Z</td></tr><tr><td>kaXovQ4CSB+m3q5oukAKAV8Q8uw=</td><td>2024-04-21</td><td>267.19</td><td>389</td><td>CUST143</td><td>ORD1388</td><td>false</td><td>2025-07-11T12:48:46.711Z</td></tr><tr><td>c804k8oTfMNZPKz77oeeaLPAS8g=</td><td>2024-06-15</td><td>159.49</td><td>162</td><td>CUST063</td><td>ORD1161</td><td>false</td><td>2025-07-11T12:48:46.695Z</td></tr><tr><td>jojV+Lh+waEwomBmdNu2R5pwZYw=</td><td>2024-04-18</td><td>82.0</td><td>15</td><td>CUST007</td><td>ORD1014</td><td>false</td><td>2025-07-11T12:48:46.667Z</td></tr><tr><td>Fuzo+RmdC+Cb+yPpGRIoWD9sERk=</td><td>2024-03-25</td><td>295.47</td><td>468</td><td>CUST172</td><td>ORD1467</td><td>false</td><td>2025-07-11T12:48:46.714Z</td></tr><tr><td>hURcj1jaJYkrf48pAhCsDo2llHU=</td><td>2024-08-30</td><td>248.26</td><td>909</td><td>CUST181</td><td>ORD1908</td><td>false</td><td>2025-07-11T12:48:46.715Z</td></tr><tr><td>jbQKrlckarN6oIEHPltnA+873lQ=</td><td>2024-03-01</td><td>205.13</td><td>98</td><td>CUST040</td><td>ORD1097</td><td>false</td><td>2025-07-11T12:48:46.686Z</td></tr><tr><td>j9/LN8/ltEi8nStepOIZ+JtN/2Q=</td><td>2024-05-11</td><td>225.6</td><td>527</td><td>CUST193</td><td>ORD1526</td><td>false</td><td>2025-07-11T12:48:46.716Z</td></tr><tr><td>0uyKUfXP3pyUJM2z8n6GS03vwK0=</td><td>2024-06-02</td><td>186.64</td><td>877</td><td>CUST006</td><td>ORD1876</td><td>false</td><td>2025-07-11T12:48:46.667Z</td></tr><tr><td>Am3XK0RCW7gSdBIzMU/BkYaONqg=</td><td>2024-04-05</td><td>46.55</td><td>477</td><td>CUST176</td><td>ORD1476</td><td>false</td><td>2025-07-11T12:48:46.714Z</td></tr><tr><td>30QM/iSYQHskYwO0uOr8SPGp9FU=</td><td>2024-07-24</td><td>221.17</td><td>261</td><td>CUST099</td><td>ORD1260</td><td>false</td><td>2025-07-11T12:48:46.704Z</td></tr><tr><td>Ru9zQYoZPsuN1dHx+9HYr48gqjA=</td><td>2024-04-27</td><td>106.85</td><td>105</td><td>CUST043</td><td>ORD1104</td><td>false</td><td>2025-07-11T12:48:46.687Z</td></tr><tr><td>NKzL/n2AYUjp3vfpNCSNspQDfkE=</td><td>2024-07-20</td><td>252.21</td><td>448</td><td>CUST165</td><td>ORD1447</td><td>false</td><td>2025-07-11T12:48:46.713Z</td></tr><tr><td>LidrYyRKxyoGUDCrS6mU25TIcu0=</td><td>2024-08-21</td><td>155.96</td><td>65</td><td>CUST028</td><td>ORD1064</td><td>false</td><td>2025-07-11T12:48:46.680Z</td></tr><tr><td>Ifg9RJMuH3JAlDbJglhXkgOxeEM=</td><td>2024-11-01</td><td>196.7</td><td>824</td><td>CUST060</td><td>ORD1823</td><td>false</td><td>2025-07-11T12:48:46.694Z</td></tr><tr><td>hEYIEDHZSp7s5dIQBsVAbtlnKg4=</td><td>2024-06-23</td><td>82.74</td><td>953</td><td>CUST180</td><td>ORD1952</td><td>false</td><td>2025-07-11T12:48:46.715Z</td></tr><tr><td>gvEoMk7TB7ucNHJhZd/Mdjmk7iI=</td><td>2024-12-29</td><td>201.25</td><td>706</td><td>CUST152</td><td>ORD1705</td><td>false</td><td>2025-07-11T12:48:46.712Z</td></tr><tr><td>PGaZ2aH9jm+gG4hqVHvL8sD8ziI=</td><td>2024-02-13</td><td>95.05</td><td>134</td><td>CUST053</td><td>ORD1133</td><td>false</td><td>2025-07-11T12:48:46.691Z</td></tr><tr><td>GicIVEifgKeU0FKf9ZHBN/3GaVU=</td><td>2024-08-11</td><td>28.05</td><td>916</td><td>CUST161</td><td>ORD1915</td><td>false</td><td>2025-07-11T12:48:46.713Z</td></tr><tr><td>kT1gG19Qh+cEhgofNU1TXmb6d2E=</td><td>2024-04-19</td><td>206.52</td><td>977</td><td>CUST063</td><td>ORD1976</td><td>false</td><td>2025-07-11T12:48:46.695Z</td></tr><tr><td>rvBowFtfXvQIj4sQHCdz9SR4i0E=</td><td>2024-06-12</td><td>193.29</td><td>391</td><td>CUST143</td><td>ORD1390</td><td>false</td><td>2025-07-11T12:48:46.711Z</td></tr><tr><td>G0NBByIc9IDKKdh1vB6itDAJ1n8=</td><td>2024-01-18</td><td>206.55</td><td>317</td><td>CUST121</td><td>ORD1316</td><td>false</td><td>2025-07-11T12:48:46.709Z</td></tr><tr><td>/YcWr2yBm2E/8aMQf0vWqQO/7JY=</td><td>2024-04-18</td><td>97.27</td><td>623</td><td>CUST115</td><td>ORD1622</td><td>false</td><td>2025-07-11T12:48:46.708Z</td></tr><tr><td>k2ibS+mCXTGA2AMnTy3oSwQD+9w=</td><td>2024-06-23</td><td>182.52</td><td>280</td><td>CUST106</td><td>ORD1279</td><td>false</td><td>2025-07-11T12:48:46.706Z</td></tr><tr><td>RSBxyDa3FV7gMvs+GrxlAXONzfE=</td><td>2024-05-31</td><td>176.64</td><td>719</td><td>CUST068</td><td>ORD1718</td><td>false</td><td>2025-07-11T12:48:46.696Z</td></tr><tr><td>3jmEsQS25vVnh9Nosf8jGRxechM=</td><td>2024-06-01</td><td>126.02</td><td>769</td><td>CUST072</td><td>ORD1768</td><td>false</td><td>2025-07-11T12:48:46.698Z</td></tr><tr><td>R5jma6leWZk4jQ+uFOx78lj5EdA=</td><td>2024-01-03</td><td>234.6</td><td>490</td><td>CUST181</td><td>ORD1489</td><td>false</td><td>2025-07-11T12:48:46.715Z</td></tr><tr><td>bhQzx2JNmNGtM6gakVQU4uI8NV0=</td><td>2024-06-20</td><td>96.76</td><td>149</td><td>CUST058</td><td>ORD1148</td><td>false</td><td>2025-07-11T12:48:46.693Z</td></tr><tr><td>ZEGaYhK5gCa5JBjvzCbfQG3peh8=</td><td>2024-11-24</td><td>275.33</td><td>814</td><td>CUST135</td><td>ORD1813</td><td>false</td><td>2025-07-11T12:48:46.711Z</td></tr><tr><td>k5nNCAYMa0C1XJiAlxajGzNE2es=</td><td>2024-08-29</td><td>146.92</td><td>336</td><td>CUST126</td><td>ORD1335</td><td>false</td><td>2025-07-11T12:48:46.709Z</td></tr><tr><td>YxIJvPAgNmyHmtzghDoC7VnBgQg=</td><td>2024-07-27</td><td>123.87</td><td>107</td><td>CUST043</td><td>ORD1106</td><td>false</td><td>2025-07-11T12:48:46.687Z</td></tr><tr><td>sPYyjoOH3vmM1MRwgDg/nR9FMa4=</td><td>2024-12-02</td><td>252.72</td><td>751</td><td>CUST015</td><td>ORD1750</td><td>false</td><td>2025-07-11T12:48:46.672Z</td></tr><tr><td>vd4aIijNaq1LkxI7/VaEnelVgzY=</td><td>2024-02-29</td><td>60.79</td><td>742</td><td>CUST025</td><td>ORD1741</td><td>false</td><td>2025-07-11T12:48:46.679Z</td></tr><tr><td>TNSyAkxLLTGub1Erm4fhTCn2reE=</td><td>2024-08-02</td><td>266.13</td><td>574</td><td>CUST019</td><td>ORD1573</td><td>false</td><td>2025-07-11T12:48:46.675Z</td></tr><tr><td>E/TWwQC3jB9wBBrks+CfN6dTRFU=</td><td>2024-09-10</td><td>178.93</td><td>351</td><td>CUST130</td><td>ORD1350</td><td>false</td><td>2025-07-11T12:48:46.710Z</td></tr><tr><td>kszj6WMzRmB7Z0tQuus41vi6dDM=</td><td>2024-05-07</td><td>215.55</td><td>968</td><td>CUST157</td><td>ORD1967</td><td>false</td><td>2025-07-11T12:48:46.713Z</td></tr><tr><td>ASI9DRzQPZS3Oc75R6AH6ZWcYhs=</td><td>2024-03-25</td><td>160.23</td><td>505</td><td>CUST186</td><td>ORD1504</td><td>false</td><td>2025-07-11T12:48:46.715Z</td></tr><tr><td>DPJFbH4FL8iifjQKePBs0aLd+z0=</td><td>2024-04-27</td><td>68.12</td><td>394</td><td>CUST145</td><td>ORD1393</td><td>false</td><td>2025-07-11T12:48:46.712Z</td></tr><tr><td>SvGdoYrrnJn5C4lpZQrawNp9M+s=</td><td>2024-04-22</td><td>140.59</td><td>547</td><td>CUST199</td><td>ORD1546</td><td>false</td><td>2025-07-11T12:48:46.717Z</td></tr><tr><td>Sm+EqLgrDWeuYbPLh/cyjGiiBPI=</td><td>2024-01-01</td><td>198.83</td><td>69</td><td>CUST030</td><td>ORD1068</td><td>false</td><td>2025-07-11T12:48:46.681Z</td></tr><tr><td>PMbdSoPd5zqdiMnlOUEt4PyM1Xc=</td><td>2024-05-17</td><td>155.04</td><td>390</td><td>CUST143</td><td>ORD1389</td><td>false</td><td>2025-07-11T12:48:46.711Z</td></tr><tr><td>CkEb4v87fvsp3kOjXvYCplETdRg=</td><td>2024-06-22</td><td>87.64</td><td>418</td><td>CUST154</td><td>ORD1417</td><td>false</td><td>2025-07-11T12:48:46.712Z</td></tr><tr><td>Rw/u6x4BXofjmKaVhMCvEKt1jgE=</td><td>2024-11-14</td><td>200.52</td><td>630</td><td>CUST114</td><td>ORD1629</td><td>false</td><td>2025-07-11T12:48:46.708Z</td></tr><tr><td>D4nU+UH4cEdAaQSlNrEl89opJqk=</td><td>2024-05-24</td><td>162.6</td><td>178</td><td>CUST067</td><td>ORD1177</td><td>false</td><td>2025-07-11T12:48:46.696Z</td></tr><tr><td>XauJYNWg7clfs6x/PkMxVhFYoko=</td><td>2024-05-01</td><td>88.89</td><td>670</td><td>CUST056</td><td>ORD1669</td><td>false</td><td>2025-07-11T12:48:46.693Z</td></tr><tr><td>d7NdPfoiLu2r35tG1PrBzWlo+lk=</td><td>2024-09-17</td><td>240.83</td><td>595</td><td>CUST149</td><td>ORD1594</td><td>false</td><td>2025-07-11T12:48:46.712Z</td></tr><tr><td>YzvBQaU28O4A/qUtG55PWcHaxQg=</td><td>2024-07-13</td><td>35.35</td><td>265</td><td>CUST100</td><td>ORD1264</td><td>false</td><td>2025-07-11T12:48:46.704Z</td></tr><tr><td>6gLNA+2jpyeMI2Sm9v8w5OM+ZXY=</td><td>2024-08-13</td><td>155.27</td><td>601</td><td>CUST014</td><td>ORD1600</td><td>false</td><td>2025-07-11T12:48:46.671Z</td></tr><tr><td>qTYq/sYLLI3Qy1EPDQ07tXb3zj4=</td><td>2024-03-07</td><td>100.81</td><td>238</td><td>CUST089</td><td>ORD1237</td><td>false</td><td>2025-07-11T12:48:46.702Z</td></tr><tr><td>5e2wIoAioXsA4zXyQUedjPM5tjg=</td><td>2024-06-26</td><td>81.45</td><td>649</td><td>CUST041</td><td>ORD1648</td><td>false</td><td>2025-07-11T12:48:46.686Z</td></tr><tr><td>I9Z89KP1CGzp5cdgA4krXbloZu0=</td><td>2024-05-28</td><td>23.09</td><td>6</td><td>CUST003</td><td>ORD1005</td><td>false</td><td>2025-07-11T12:48:46.664Z</td></tr><tr><td>Nib/GTQq1tUL9HVXh3GIcQYbm8w=</td><td>2024-06-19</td><td>256.37</td><td>113</td><td>CUST045</td><td>ORD1112</td><td>false</td><td>2025-07-11T12:48:46.688Z</td></tr><tr><td>PtV4eAZpFh7Q8PuIq/VlCG3UrXE=</td><td>2024-04-29</td><td>127.06</td><td>210</td><td>CUST079</td><td>ORD1209</td><td>false</td><td>2025-07-11T12:48:46.700Z</td></tr><tr><td>JeEUCzceXNu5Qvg8k7qX2AJKwi8=</td><td>2024-05-03</td><td>243.03</td><td>207</td><td>CUST078</td><td>ORD1206</td><td>false</td><td>2025-07-11T12:48:46.699Z</td></tr><tr><td>w4hHCwM4g2I8yRehgVzVXH/+b6E=</td><td>2024-12-31</td><td>29.71</td><td>702</td><td>CUST109</td><td>ORD1701</td><td>false</td><td>2025-07-11T12:48:46.707Z</td></tr><tr><td>fm0bPZkfR0z72Yxuupb4mJp7Gbc=</td><td>2024-04-27</td><td>11.31</td><td>908</td><td>CUST055</td><td>ORD1907</td><td>false</td><td>2025-07-11T12:48:46.692Z</td></tr><tr><td>0CFuIUjej7+kEiGZDRR+QUROHB4=</td><td>2024-06-18</td><td>259.98</td><td>232</td><td>CUST087</td><td>ORD1231</td><td>false</td><td>2025-07-11T12:48:46.702Z</td></tr><tr><td>LEoIfM+v07phAjtpoY0P5Kz7UV0=</td><td>2024-09-11</td><td>209.42</td><td>746</td><td>CUST019</td><td>ORD1745</td><td>false</td><td>2025-07-11T12:48:46.675Z</td></tr><tr><td>Sw+NzHIsbFu9vgMwnwQNbydFBpM=</td><td>2024-07-07</td><td>177.33</td><td>169</td><td>CUST065</td><td>ORD1168</td><td>false</td><td>2025-07-11T12:48:46.695Z</td></tr><tr><td>IS1w/qHSHzlyCL91lC62PFB6d/0=</td><td>2024-05-02</td><td>61.58</td><td>192</td><td>CUST073</td><td>ORD1191</td><td>false</td><td>2025-07-11T12:48:46.698Z</td></tr><tr><td>8vLikeSEc0mK1yvRk6n5gTZTKo4=</td><td>2024-01-02</td><td>101.94</td><td>524</td><td>CUST192</td><td>ORD1523</td><td>false</td><td>2025-07-11T12:48:46.716Z</td></tr><tr><td>Yaj8N8LB8vOtr5vafsUcA6y1Q+o=</td><td>2024-02-15</td><td>261.6</td><td>53</td><td>CUST023</td><td>ORD1052</td><td>false</td><td>2025-07-11T12:48:46.678Z</td></tr><tr><td>SK42YWznwB3RZYARSgGYs3NgGm0=</td><td>2024-01-24</td><td>124.36</td><td>791</td><td>CUST008</td><td>ORD1790</td><td>false</td><td>2025-07-11T12:48:46.668Z</td></tr><tr><td>a1n5CBFuDRXcM1aJh/XCasFBwLI=</td><td>2024-04-26</td><td>156.09</td><td>897</td><td>CUST122</td><td>ORD1896</td><td>false</td><td>2025-07-11T12:48:46.709Z</td></tr><tr><td>IdMFghWL/C0tf+CjiD87IkNDPLQ=</td><td>2024-03-13</td><td>212.59</td><td>79</td><td>CUST034</td><td>ORD1078</td><td>false</td><td>2025-07-11T12:48:46.682Z</td></tr><tr><td>g46EevvbpnexjAvL//JVsyrXTN0=</td><td>2024-04-10</td><td>149.91</td><td>493</td><td>CUST181</td><td>ORD1492</td><td>false</td><td>2025-07-11T12:48:46.715Z</td></tr><tr><td>BmejLiII5bA4iW7A9s+Pzo39nME=</td><td>2024-06-23</td><td>57.54</td><td>183</td><td>CUST069</td><td>ORD1182</td><td>false</td><td>2025-07-11T12:48:46.697Z</td></tr><tr><td>EVDwB4oABsn9Aq5RpIr778t+27k=</td><td>2024-04-29</td><td>81.46</td><td>361</td><td>CUST133</td><td>ORD1360</td><td>false</td><td>2025-07-11T12:48:46.710Z</td></tr><tr><td>/rzLKYCzsLLrqrVgXFx7k12+Vrc=</td><td>2024-05-20</td><td>114.99</td><td>31</td><td>CUST014</td><td>ORD1030</td><td>false</td><td>2025-07-11T12:48:46.671Z</td></tr><tr><td>TtyLM7gKgQcsmn57nNRDjRLr06k=</td><td>2024-04-04</td><td>187.63</td><td>732</td><td>CUST005</td><td>ORD1731</td><td>false</td><td>2025-07-11T12:48:46.666Z</td></tr><tr><td>EO6g+j18YSACE69jQ5IjAxaxJas=</td><td>2024-09-11</td><td>288.81</td><td>449</td><td>CUST165</td><td>ORD1448</td><td>false</td><td>2025-07-11T12:48:46.713Z</td></tr><tr><td>6EQ/p2u+sVSnNigK0rl0Bbbc0t8=</td><td>2024-12-31</td><td>89.13</td><td>927</td><td>CUST104</td><td>ORD1926</td><td>false</td><td>2025-07-11T12:48:46.705Z</td></tr><tr><td>A9iexPBDr1sskGuMDgRigu7UxLc=</td><td>2024-09-13</td><td>171.09</td><td>813</td><td>CUST016</td><td>ORD1812</td><td>false</td><td>2025-07-11T12:48:46.673Z</td></tr><tr><td>UA5zKjHtbE8VtlSyUb8CEWRQBz4=</td><td>2024-02-24</td><td>102.83</td><td>270</td><td>CUST103</td><td>ORD1269</td><td>false</td><td>2025-07-11T12:48:46.704Z</td></tr><tr><td>eyUFNN+Nrnz2rIZUow1D8Riwe8A=</td><td>2024-05-14</td><td>210.78</td><td>334</td><td>CUST126</td><td>ORD1333</td><td>false</td><td>2025-07-11T12:48:46.709Z</td></tr><tr><td>3xQ0EEl44tAbj9Ce2yJdufUmTR8=</td><td>2024-08-16</td><td>36.24</td><td>847</td><td>CUST166</td><td>ORD1846</td><td>false</td><td>2025-07-11T12:48:46.713Z</td></tr><tr><td>TT5e2G+NfKFrrOsmx/1OGkN4Xss=</td><td>2024-06-25</td><td>154.24</td><td>132</td><td>CUST052</td><td>ORD1131</td><td>false</td><td>2025-07-11T12:48:46.691Z</td></tr><tr><td>pRJcRXqUWKPbzorxeJEh5KXDGXM=</td><td>2024-06-05</td><td>255.17</td><td>335</td><td>CUST126</td><td>ORD1334</td><td>false</td><td>2025-07-11T12:48:46.709Z</td></tr><tr><td>2sl0WLF2NQ3kyUhbuL8MhEkNiBE=</td><td>2024-04-02</td><td>187.73</td><td>501</td><td>CUST184</td><td>ORD1500</td><td>false</td><td>2025-07-11T12:48:46.715Z</td></tr><tr><td>QNKQKLW4JglO/AG9X9YJxDA+RL8=</td><td>2024-07-12</td><td>269.52</td><td>681</td><td>CUST125</td><td>ORD1680</td><td>false</td><td>2025-07-11T12:48:46.709Z</td></tr><tr><td>x3VCHaU105/F920kY2DQl6eq8po=</td><td>2024-03-19</td><td>189.82</td><td>546</td><td>CUST199</td><td>ORD1545</td><td>false</td><td>2025-07-11T12:48:46.717Z</td></tr><tr><td>uMgmXCdaSTk6LQ2Cm4/xP4YXVI0=</td><td>2024-01-01</td><td>183.15</td><td>863</td><td>CUST038</td><td>ORD1862</td><td>false</td><td>2025-07-11T12:48:46.685Z</td></tr><tr><td>Xj+X0jme9x9Glkh31Q/9JywYbyQ=</td><td>2024-03-23</td><td>255.61</td><td>298</td><td>CUST113</td><td>ORD1297</td><td>false</td><td>2025-07-11T12:48:46.707Z</td></tr><tr><td>ZcBP1E6gUs66JIX1bhV/orT7doY=</td><td>2024-12-18</td><td>140.97</td><td>846</td><td>CUST093</td><td>ORD1845</td><td>false</td><td>2025-07-11T12:48:46.703Z</td></tr><tr><td>o2i3f4i2NcJl8rPfEGVtc3alrE4=</td><td>2024-11-19</td><td>209.25</td><td>644</td><td>CUST045</td><td>ORD1643</td><td>false</td><td>2025-07-11T12:48:46.688Z</td></tr><tr><td>EjSOITLfgD3vKMcEbz6bsG5ZiXM=</td><td>2024-08-12</td><td>32.8</td><td>378</td><td>CUST139</td><td>ORD1377</td><td>false</td><td>2025-07-11T12:48:46.711Z</td></tr><tr><td>TFghvJ/9+7RB2LbPD0CHw+Zk0ao=</td><td>2024-04-24</td><td>160.06</td><td>494</td><td>CUST182</td><td>ORD1493</td><td>false</td><td>2025-07-11T12:48:46.715Z</td></tr><tr><td>PQXLzFdnWa9nthh3ez9qqKGPUiE=</td><td>2024-06-27</td><td>229.41</td><td>193</td><td>CUST073</td><td>ORD1192</td><td>false</td><td>2025-07-11T12:48:46.698Z</td></tr><tr><td>v0M/DVWU5LY0qR27Dkf39Qr2QcE=</td><td>2024-10-28</td><td>255.34</td><td>995</td><td>CUST071</td><td>ORD1994</td><td>false</td><td>2025-07-11T12:48:46.698Z</td></tr><tr><td>Yazg2qNFj1j3FhxBaVU2olf5Cbc=</td><td>2024-06-29</td><td>132.79</td><td>891</td><td>CUST065</td><td>ORD1890</td><td>false</td><td>2025-07-11T12:48:46.696Z</td></tr><tr><td>CGXexN3pYhgyy18iPHNdtbCFdPU=</td><td>2024-01-14</td><td>35.53</td><td>554</td><td>CUST034</td><td>ORD1553</td><td>false</td><td>2025-07-11T12:48:46.683Z</td></tr><tr><td>2vku00091j2M+Gcbl8piFD6LeZo=</td><td>2024-04-26</td><td>242.6</td><td>286</td><td>CUST109</td><td>ORD1285</td><td>false</td><td>2025-07-11T12:48:46.707Z</td></tr><tr><td>PzRh/ceioAY04f3WZNAbb9tJCJM=</td><td>2024-05-22</td><td>255.12</td><td>616</td><td>CUST110</td><td>ORD1615</td><td>false</td><td>2025-07-11T12:48:46.707Z</td></tr><tr><td>4L+SK+xUJxjXnZSnv61LFr2TV3Q=</td><td>2024-11-16</td><td>70.98</td><td>175</td><td>CUST066</td><td>ORD1174</td><td>false</td><td>2025-07-11T12:48:46.696Z</td></tr><tr><td>2EVxQQ1L+ZP7Ax5hTXqKNFpQeAQ=</td><td>2024-09-19</td><td>165.93</td><td>816</td><td>CUST172</td><td>ORD1815</td><td>false</td><td>2025-07-11T12:48:46.714Z</td></tr><tr><td>nAHEGK9fevzoj3tJozpaYthDkLg=</td><td>2024-05-02</td><td>104.81</td><td>456</td><td>CUST168</td><td>ORD1455</td><td>false</td><td>2025-07-11T12:48:46.713Z</td></tr><tr><td>bbAsI4INMnvK3DejVh7atIQe19Y=</td><td>2024-05-20</td><td>72.77</td><td>158</td><td>CUST061</td><td>ORD1157</td><td>false</td><td>2025-07-11T12:48:46.694Z</td></tr><tr><td>oJEFqH7KJ7O7d0OV0pdoMLuCaHg=</td><td>2024-02-14</td><td>144.59</td><td>598</td><td>CUST091</td><td>ORD1597</td><td>false</td><td>2025-07-11T12:48:46.702Z</td></tr><tr><td>jVzgrWVQgZxR8iFvDA2MNZwSbBE=</td><td>2024-09-29</td><td>239.59</td><td>642</td><td>CUST153</td><td>ORD1641</td><td>false</td><td>2025-07-11T12:48:46.712Z</td></tr><tr><td>NNRSMnx4GhEpGMKZenZHDAiAE3A=</td><td>2024-03-20</td><td>103.35</td><td>428</td><td>CUST158</td><td>ORD1427</td><td>false</td><td>2025-07-11T12:48:46.713Z</td></tr><tr><td>7/TjSlR6UB8wgI3YucnpcQW1YT0=</td><td>2024-03-16</td><td>143.68</td><td>745</td><td>CUST085</td><td>ORD1744</td><td>false</td><td>2025-07-11T12:48:46.701Z</td></tr><tr><td>6apcjstfTCiC+nMytzLKOkTxP3E=</td><td>2024-01-07</td><td>184.31</td><td>899</td><td>CUST011</td><td>ORD1898</td><td>false</td><td>2025-07-11T12:48:46.670Z</td></tr><tr><td>ZlrZa/mMVu9uNfDKlz0EoSNp5MU=</td><td>2024-02-14</td><td>228.05</td><td>686</td><td>CUST152</td><td>ORD1685</td><td>false</td><td>2025-07-11T12:48:46.712Z</td></tr><tr><td>12LsoTpvYCBIM285+259Yi2ueJA=</td><td>2024-09-04</td><td>26.47</td><td>91</td><td>CUST037</td><td>ORD1090</td><td>false</td><td>2025-07-11T12:48:46.684Z</td></tr><tr><td>NwSOpwUlDARoLIWhFkqagUxKsvg=</td><td>2024-02-14</td><td>150.74</td><td>59</td><td>CUST026</td><td>ORD1058</td><td>false</td><td>2025-07-11T12:48:46.679Z</td></tr><tr><td>tHGljRW87Ktt8fJY0p3YDk/97tg=</td><td>2024-02-21</td><td>244.3</td><td>956</td><td>CUST071</td><td>ORD1955</td><td>false</td><td>2025-07-11T12:48:46.697Z</td></tr><tr><td>bYdQW2BiJbwVJih8I9lHPMnPNT4=</td><td>2024-12-05</td><td>80.55</td><td>917</td><td>CUST075</td><td>ORD1916</td><td>false</td><td>2025-07-11T12:48:46.698Z</td></tr><tr><td>9Rj16JgIBf0J2suNXJwjp/rRzqw=</td><td>2024-04-13</td><td>272.6</td><td>77</td><td>CUST033</td><td>ORD1076</td><td>false</td><td>2025-07-11T12:48:46.682Z</td></tr><tr><td>vYhT5W4JvrAM3Ds7zihfm0n+024=</td><td>2024-05-08</td><td>182.86</td><td>395</td><td>CUST145</td><td>ORD1394</td><td>false</td><td>2025-07-11T12:48:46.712Z</td></tr><tr><td>kQFqVdRH3ZWNbXLKclCFkTi+miU=</td><td>2024-04-30</td><td>52.12</td><td>461</td><td>CUST169</td><td>ORD1460</td><td>false</td><td>2025-07-11T12:48:46.714Z</td></tr><tr><td>Rts4j68zIQSG4mgsSbCgAiCvLY4=</td><td>2024-07-01</td><td>55.3</td><td>47</td><td>CUST020</td><td>ORD1046</td><td>false</td><td>2025-07-11T12:48:46.676Z</td></tr><tr><td>x0kmaO7cnRmIGhjQ5+NRSlP+IAM=</td><td>2024-08-20</td><td>85.74</td><td>328</td><td>CUST124</td><td>ORD1327</td><td>false</td><td>2025-07-11T12:48:46.709Z</td></tr><tr><td>88ABGbAivSV/o6qlaeOE4VncMOE=</td><td>2024-04-13</td><td>161.46</td><td>278</td><td>CUST105</td><td>ORD1277</td><td>false</td><td>2025-07-11T12:48:46.705Z</td></tr><tr><td>HhufBaIgEcJI9qJAxPkwTOk/Zwg=</td><td>2024-09-10</td><td>291.73</td><td>171</td><td>CUST065</td><td>ORD1170</td><td>false</td><td>2025-07-11T12:48:46.696Z</td></tr><tr><td>IfrwygHL6/Ty2G1Moz5TajLHedw=</td><td>2024-10-22</td><td>154.92</td><td>861</td><td>CUST074</td><td>ORD1860</td><td>false</td><td>2025-07-11T12:48:46.698Z</td></tr><tr><td>i6kXkKQqa02fxod6EFuTcoAu8dE=</td><td>2024-10-03</td><td>184.36</td><td>607</td><td>CUST100</td><td>ORD1606</td><td>false</td><td>2025-07-11T12:48:46.704Z</td></tr><tr><td>G0Z8eOpR7PxWkXHjxHiU2EmJhEc=</td><td>2024-10-19</td><td>198.78</td><td>333</td><td>CUST125</td><td>ORD1332</td><td>false</td><td>2025-07-11T12:48:46.709Z</td></tr><tr><td>LBgMrnLqd9K8u2b6z4m1+sjKQQ4=</td><td>2024-10-27</td><td>206.48</td><td>914</td><td>CUST198</td><td>ORD1913</td><td>false</td><td>2025-07-11T12:48:46.716Z</td></tr><tr><td>qj7Exwq6aVhP0olzqkOioqGfDsc=</td><td>2024-11-23</td><td>145.37</td><td>689</td><td>CUST018</td><td>ORD1688</td><td>false</td><td>2025-07-11T12:48:46.674Z</td></tr><tr><td>804DWkui4M0cn+ROclOBFLzvciA=</td><td>2024-08-19</td><td>266.22</td><td>397</td><td>CUST145</td><td>ORD1396</td><td>false</td><td>2025-07-11T12:48:46.712Z</td></tr><tr><td>678nqrmrn2U6vqPmiJ06EZAFCtE=</td><td>2024-09-08</td><td>170.68</td><td>19</td><td>CUST008</td><td>ORD1018</td><td>false</td><td>2025-07-11T12:48:46.668Z</td></tr><tr><td>k8ZlBSKll2nbLWSLmHXpNHA00hs=</td><td>2024-03-06</td><td>90.63</td><td>516</td><td>CUST189</td><td>ORD1515</td><td>false</td><td>2025-07-11T12:48:46.716Z</td></tr><tr><td>lPAvXlIO7HRdPqBKkO0+hcHLiTI=</td><td>2024-05-02</td><td>165.89</td><td>227</td><td>CUST085</td><td>ORD1226</td><td>false</td><td>2025-07-11T12:48:46.701Z</td></tr><tr><td>O85+BbfcR7UD4fu7RaAFHTnzTwI=</td><td>2024-05-18</td><td>152.19</td><td>368</td><td>CUST136</td><td>ORD1367</td><td>false</td><td>2025-07-11T12:48:46.711Z</td></tr><tr><td>83qyKUijwqKq39BVB4M5LK9divY=</td><td>2024-01-20</td><td>92.93</td><td>43</td><td>CUST019</td><td>ORD1042</td><td>false</td><td>2025-07-11T12:48:46.674Z</td></tr><tr><td>isylU3yHd+F+dhrHmJZyd6iZtVs=</td><td>2024-05-07</td><td>28.65</td><td>16</td><td>CUST007</td><td>ORD1015</td><td>false</td><td>2025-07-11T12:48:46.667Z</td></tr><tr><td>tw+j1Zk1QL9XW1htNOrUXcqjMhY=</td><td>2024-02-16</td><td>299.11</td><td>809</td><td>CUST130</td><td>ORD1808</td><td>false</td><td>2025-07-11T12:48:46.710Z</td></tr><tr><td>8hUiho2SxoO9w/NkO+2MmplCg0o=</td><td>2024-10-28</td><td>116.28</td><td>907</td><td>CUST120</td><td>ORD1906</td><td>false</td><td>2025-07-11T12:48:46.709Z</td></tr><tr><td>CiT9RuxxJ1UZCSKSQHEvzHoUhgc=</td><td>2024-12-19</td><td>270.49</td><td>986</td><td>CUST031</td><td>ORD1985</td><td>false</td><td>2025-07-11T12:48:46.681Z</td></tr><tr><td>sHOGiRycKapCdX4Q6dQTjZiPz7c=</td><td>2024-07-22</td><td>272.75</td><td>887</td><td>CUST002</td><td>ORD1886</td><td>false</td><td>2025-07-11T12:48:46.664Z</td></tr><tr><td>A9Azp3VL8BtZGQ7MMb+JqBXDCSM=</td><td>2024-04-20</td><td>68.21</td><td>219</td><td>CUST082</td><td>ORD1218</td><td>false</td><td>2025-07-11T12:48:46.700Z</td></tr><tr><td>mVkF+JuTqsRa8Yic58uyVq3H6eg=</td><td>2024-05-18</td><td>24.01</td><td>537</td><td>CUST195</td><td>ORD1536</td><td>false</td><td>2025-07-11T12:48:46.716Z</td></tr><tr><td>pcsafcMROJiU2XEFsEWScEn17RU=</td><td>2024-05-15</td><td>32.14</td><td>141</td><td>CUST055</td><td>ORD1140</td><td>false</td><td>2025-07-11T12:48:46.692Z</td></tr><tr><td>EGzJGKXTSnfjVJUwPd1aOdinnmc=</td><td>2024-12-05</td><td>66.06</td><td>799</td><td>CUST170</td><td>ORD1798</td><td>false</td><td>2025-07-11T12:48:46.714Z</td></tr><tr><td>3HtiVK3nomK7EBM/hLh3FSq+KDg=</td><td>2024-03-02</td><td>79.44</td><td>784</td><td>CUST196</td><td>ORD1783</td><td>false</td><td>2025-07-11T12:48:46.716Z</td></tr><tr><td>CcHys4xLbFqtAvLkcvGdxNdsG24=</td><td>2024-06-27</td><td>105.2</td><td>570</td><td>CUST124</td><td>ORD1569</td><td>false</td><td>2025-07-11T12:48:46.709Z</td></tr><tr><td>wTmqOi26Gfe7EsbmvUULUjrOg/s=</td><td>2024-03-25</td><td>159.33</td><td>729</td><td>CUST061</td><td>ORD1728</td><td>false</td><td>2025-07-11T12:48:46.695Z</td></tr><tr><td>9B9/y/0XFvsrytHIC/gvujKzUVo=</td><td>2024-05-28</td><td>80.06</td><td>848</td><td>CUST103</td><td>ORD1847</td><td>false</td><td>2025-07-11T12:48:46.705Z</td></tr><tr><td>q2uA1kyZ24fknF33Rle6eGVNkNE=</td><td>2024-07-10</td><td>235.43</td><td>341</td><td>CUST127</td><td>ORD1340</td><td>false</td><td>2025-07-11T12:48:46.710Z</td></tr><tr><td>gxHPLIUewAoGyBTE79Q7/0Su5JY=</td><td>2024-03-21</td><td>30.11</td><td>875</td><td>CUST131</td><td>ORD1874</td><td>false</td><td>2025-07-11T12:48:46.710Z</td></tr><tr><td>4+ZfYaAhjDmvJBiDti1gNON81JI=</td><td>2024-02-13</td><td>10.49</td><td>627</td><td>CUST161</td><td>ORD1626</td><td>false</td><td>2025-07-11T12:48:46.713Z</td></tr><tr><td>93EdjnljmUMzs0YUnbZUYGYBgM0=</td><td>2024-06-28</td><td>85.97</td><td>802</td><td>CUST189</td><td>ORD1801</td><td>false</td><td>2025-07-11T12:48:46.716Z</td></tr><tr><td>xwtZJxvNnguxg4EwijMJe1xSu70=</td><td>2024-10-07</td><td>18.99</td><td>730</td><td>CUST101</td><td>ORD1729</td><td>false</td><td>2025-07-11T12:48:46.704Z</td></tr><tr><td>VeuOBiEHEU50VBmwvKBUNb+Hl4k=</td><td>2024-05-05</td><td>51.26</td><td>475</td><td>CUST175</td><td>ORD1474</td><td>false</td><td>2025-07-11T12:48:46.714Z</td></tr><tr><td>XIG7IoEWSk/LOVOVeCR+f5C1LEg=</td><td>2024-01-31</td><td>239.42</td><td>763</td><td>CUST149</td><td>ORD1762</td><td>false</td><td>2025-07-11T12:48:46.712Z</td></tr><tr><td>7c9tHXoI+k/yLX4Alk4TwbF2wuM=</td><td>2024-12-15</td><td>161.0</td><td>606</td><td>CUST121</td><td>ORD1605</td><td>false</td><td>2025-07-11T12:48:46.709Z</td></tr><tr><td>dLG/A3M4Vm82wZgme9RQRhDvmpI=</td><td>2024-08-24</td><td>83.77</td><td>568</td><td>CUST019</td><td>ORD1567</td><td>false</td><td>2025-07-11T12:48:46.675Z</td></tr><tr><td>4ksuHhYaPPtqymDsvQ6pdMHn1Dk=</td><td>2024-05-18</td><td>184.59</td><td>54</td><td>CUST024</td><td>ORD1053</td><td>false</td><td>2025-07-11T12:48:46.678Z</td></tr><tr><td>yBkaCIMEpfC43LF2ZrbLApQABH4=</td><td>2024-08-06</td><td>253.33</td><td>159</td><td>CUST061</td><td>ORD1158</td><td>false</td><td>2025-07-11T12:48:46.694Z</td></tr><tr><td>dqbGqokXxlFSKo8l7ACKM/kNL+0=</td><td>2024-03-27</td><td>77.49</td><td>392</td><td>CUST144</td><td>ORD1391</td><td>false</td><td>2025-07-11T12:48:46.711Z</td></tr><tr><td>ndUDuAcneu4wxU+cZeVhJJMVzF0=</td><td>2024-01-22</td><td>152.75</td><td>35</td><td>CUST016</td><td>ORD1034</td><td>false</td><td>2025-07-11T12:48:46.672Z</td></tr><tr><td>KakhPrjtG5HgosDeVQzTunxYhGo=</td><td>2024-06-08</td><td>162.31</td><td>267</td><td>CUST102</td><td>ORD1266</td><td>false</td><td>2025-07-11T12:48:46.704Z</td></tr><tr><td>/RG/pruztfp8m8DhKPbd/7EbPqQ=</td><td>2024-11-22</td><td>89.59</td><td>602</td><td>CUST164</td><td>ORD1601</td><td>false</td><td>2025-07-11T12:48:46.713Z</td></tr><tr><td>26olv4KNc5n8oUseM2c3Bearol8=</td><td>2024-06-29</td><td>123.84</td><td>648</td><td>CUST153</td><td>ORD1647</td><td>false</td><td>2025-07-11T12:48:46.712Z</td></tr><tr><td>QDTtMFysKltTxBjkDgAPQMhY9LU=</td><td>2024-09-07</td><td>160.6</td><td>605</td><td>CUST172</td><td>ORD1604</td><td>false</td><td>2025-07-11T12:48:46.714Z</td></tr><tr><td>/Lf1gQqcIvZGMTNwQvLoUOgDWyg=</td><td>2024-06-25</td><td>129.36</td><td>205</td><td>CUST077</td><td>ORD1204</td><td>false</td><td>2025-07-11T12:48:46.699Z</td></tr><tr><td>XAHAEbqWqLOHfQDFWnnWAxugICI=</td><td>2024-08-04</td><td>216.52</td><td>470</td><td>CUST172</td><td>ORD1469</td><td>false</td><td>2025-07-11T12:48:46.714Z</td></tr><tr><td>KFoYgED+D83QJuZdrBcZrYRxmv0=</td><td>2024-02-26</td><td>68.35</td><td>373</td><td>CUST137</td><td>ORD1372</td><td>false</td><td>2025-07-11T12:48:46.711Z</td></tr><tr><td>zzeHaZZ2tv4rWTMEyEM4SK8RG5U=</td><td>2024-03-23</td><td>167.9</td><td>403</td><td>CUST148</td><td>ORD1402</td><td>false</td><td>2025-07-11T12:48:46.712Z</td></tr><tr><td>z1wLnTcFnAmzQn1luzSzIGxnWXM=</td><td>2024-05-01</td><td>99.27</td><td>246</td><td>CUST093</td><td>ORD1245</td><td>false</td><td>2025-07-11T12:48:46.702Z</td></tr><tr><td>nLn55gbP1ENlPf54+B84WEbEmKI=</td><td>2024-04-12</td><td>218.42</td><td>180</td><td>CUST068</td><td>ORD1179</td><td>false</td><td>2025-07-11T12:48:46.696Z</td></tr><tr><td>FWdrPwoIXKtWU8cVWgx8We+g6wo=</td><td>2024-06-23</td><td>215.25</td><td>762</td><td>CUST140</td><td>ORD1761</td><td>false</td><td>2025-07-11T12:48:46.711Z</td></tr><tr><td>InQQsMBUCTCBvE6U5oGWmALnuxE=</td><td>2024-07-28</td><td>274.12</td><td>640</td><td>CUST096</td><td>ORD1639</td><td>false</td><td>2025-07-11T12:48:46.703Z</td></tr><tr><td>JW0w3E3BmQgeP24KaaOfAlIj6jE=</td><td>2024-06-17</td><td>84.29</td><td>103</td><td>CUST042</td><td>ORD1102</td><td>false</td><td>2025-07-11T12:48:46.686Z</td></tr><tr><td>b5epZOPoBEhDSEt6rHwwYCuQC9A=</td><td>2024-01-06</td><td>176.61</td><td>303</td><td>CUST115</td><td>ORD1302</td><td>false</td><td>2025-07-11T12:48:46.708Z</td></tr><tr><td>5A/ixGOibwlFSCIz3yZ1FhN7gko=</td><td>2024-05-06</td><td>113.76</td><td>46</td><td>CUST020</td><td>ORD1045</td><td>false</td><td>2025-07-11T12:48:46.676Z</td></tr><tr><td>qsgpfk/rfWEzaXyQUZsM6BR+QaQ=</td><td>2024-07-06</td><td>294.78</td><td>788</td><td>CUST124</td><td>ORD1787</td><td>false</td><td>2025-07-11T12:48:46.709Z</td></tr><tr><td>ENke1zDjoPnaGEOM497wCSaHEbM=</td><td>2024-01-10</td><td>152.11</td><td>764</td><td>CUST108</td><td>ORD1763</td><td>false</td><td>2025-07-11T12:48:46.706Z</td></tr><tr><td>ziPfeyYw0G6ABMOdywDaA1STKOY=</td><td>2024-07-06</td><td>281.18</td><td>350</td><td>CUST130</td><td>ORD1349</td><td>false</td><td>2025-07-11T12:48:46.710Z</td></tr><tr><td>V4tXPw+o2bGksflhn2+Ip251CGk=</td><td>2024-03-09</td><td>59.54</td><td>810</td><td>CUST019</td><td>ORD1809</td><td>false</td><td>2025-07-11T12:48:46.676Z</td></tr><tr><td>/wWWfGSEheqQVwrW/WZSZ7/YMrQ=</td><td>2024-05-03</td><td>71.89</td><td>29</td><td>CUST012</td><td>ORD1028</td><td>false</td><td>2025-07-11T12:48:46.671Z</td></tr><tr><td>cd8PDBtS7C8bsYkbI2V+8gUeg24=</td><td>2024-07-21</td><td>83.87</td><td>404</td><td>CUST148</td><td>ORD1403</td><td>false</td><td>2025-07-11T12:48:46.712Z</td></tr><tr><td>X/ttR1U1VzWvblQKQnN3EwzyDBE=</td><td>2024-08-21</td><td>294.68</td><td>776</td><td>CUST196</td><td>ORD1775</td><td>false</td><td>2025-07-11T12:48:46.716Z</td></tr><tr><td>dSeZDgxWuvJ3pnKfBzZnC1K/RGk=</td><td>2024-06-05</td><td>223.46</td><td>396</td><td>CUST145</td><td>ORD1395</td><td>false</td><td>2025-07-11T12:48:46.712Z</td></tr><tr><td>wfrFOevgBDgYKnCX5Z+cZY3kNRo=</td><td>2024-08-26</td><td>105.29</td><td>385</td><td>CUST141</td><td>ORD1384</td><td>false</td><td>2025-07-11T12:48:46.711Z</td></tr><tr><td>DCi9MkU3JAzKk1pfpkQUUnKo71Q=</td><td>2024-07-03</td><td>168.28</td><td>34</td><td>CUST015</td><td>ORD1033</td><td>false</td><td>2025-07-11T12:48:46.672Z</td></tr><tr><td>cb6SBp2kRmjnbyjNJp+3Ft2L4pc=</td><td>2024-06-07</td><td>246.94</td><td>401</td><td>CUST147</td><td>ORD1400</td><td>false</td><td>2025-07-11T12:48:46.712Z</td></tr><tr><td>OjHztEo7D8nd8AlRuUjy9dWm4iU=</td><td>2024-03-04</td><td>246.06</td><td>14</td><td>CUST007</td><td>ORD1013</td><td>false</td><td>2025-07-11T12:48:46.667Z</td></tr><tr><td>/BOzhmLHbfeyGIt2DwmjIxsQFtg=</td><td>2024-04-05</td><td>136.12</td><td>869</td><td>CUST106</td><td>ORD1868</td><td>false</td><td>2025-07-11T12:48:46.706Z</td></tr><tr><td>cGLV/OidAnnRWEfS+GAmmkM7EKw=</td><td>2024-07-15</td><td>133.69</td><td>18</td><td>CUST008</td><td>ORD1017</td><td>false</td><td>2025-07-11T12:48:46.668Z</td></tr><tr><td>3PTtGv+Al/jvLf0SM6BdkxTXmG0=</td><td>2024-01-29</td><td>156.8</td><td>109</td><td>CUST045</td><td>ORD1108</td><td>false</td><td>2025-07-11T12:48:46.688Z</td></tr><tr><td>luPkABwx9yLkJARzERmksEDs7vQ=</td><td>2024-06-28</td><td>265.94</td><td>566</td><td>CUST071</td><td>ORD1565</td><td>false</td><td>2025-07-11T12:48:46.697Z</td></tr><tr><td>sMxIA3WShx9/A2PbZlBjZrB+Doc=</td><td>2024-05-28</td><td>34.42</td><td>766</td><td>CUST139</td><td>ORD1765</td><td>false</td><td>2025-07-11T12:48:46.711Z</td></tr><tr><td>JaZRMY6U2e8ZnSkMqOO4dqVd7Ug=</td><td>2024-03-18</td><td>294.44</td><td>481</td><td>CUST177</td><td>ORD1480</td><td>false</td><td>2025-07-11T12:48:46.714Z</td></tr><tr><td>IPrvPQ+MFVEG1NoWSuD8PKRY+Qg=</td><td>2024-06-20</td><td>224.37</td><td>63</td><td>CUST028</td><td>ORD1062</td><td>false</td><td>2025-07-11T12:48:46.679Z</td></tr><tr><td>2A1k30R48bVgiAXIDQd1rIzxTTk=</td><td>2024-12-07</td><td>188.39</td><td>561</td><td>CUST083</td><td>ORD1560</td><td>false</td><td>2025-07-11T12:48:46.701Z</td></tr><tr><td>w4d9YwTlRf7Pi+M43VbMbKfy97E=</td><td>2024-09-05</td><td>92.91</td><td>831</td><td>CUST070</td><td>ORD1830</td><td>false</td><td>2025-07-11T12:48:46.697Z</td></tr><tr><td>ZihCaDqa2FAf4Uo05kph4G4DitQ=</td><td>2024-07-10</td><td>251.42</td><td>48</td><td>CUST020</td><td>ORD1047</td><td>false</td><td>2025-07-11T12:48:46.676Z</td></tr><tr><td>4RVUGXvFIwCPFXpGShPGdlqjqos=</td><td>2024-06-20</td><td>19.39</td><td>646</td><td>CUST019</td><td>ORD1645</td><td>false</td><td>2025-07-11T12:48:46.675Z</td></tr><tr><td>iWiOpiJUpoTV2o0zgN497WlzNlI=</td><td>2024-04-25</td><td>243.62</td><td>377</td><td>CUST139</td><td>ORD1376</td><td>false</td><td>2025-07-11T12:48:46.711Z</td></tr><tr><td>pUxVcbbZYXIOXTCjKVHg5Dv66DY=</td><td>2024-05-09</td><td>151.28</td><td>435</td><td>CUST161</td><td>ORD1434</td><td>false</td><td>2025-07-11T12:48:46.713Z</td></tr><tr><td>xlNp3iV2x5bCxo4XQqdTrIHHGC4=</td><td>2024-06-13</td><td>25.73</td><td>801</td><td>CUST149</td><td>ORD1800</td><td>false</td><td>2025-07-11T12:48:46.712Z</td></tr><tr><td>TsGz2zwNNf/bLj/kuh5GKLQCLPQ=</td><td>2024-06-22</td><td>220.03</td><td>197</td><td>CUST075</td><td>ORD1196</td><td>false</td><td>2025-07-11T12:48:46.698Z</td></tr><tr><td>L0O3BwasavsotIoi3uM5+/Shbrw=</td><td>2024-09-05</td><td>25.27</td><td>549</td><td>CUST199</td><td>ORD1548</td><td>false</td><td>2025-07-11T12:48:46.717Z</td></tr><tr><td>h4qs6PMLDK2F5ZuJYmSQjTbdoYc=</td><td>2024-08-07</td><td>181.34</td><td>720</td><td>CUST196</td><td>ORD1719</td><td>false</td><td>2025-07-11T12:48:46.716Z</td></tr><tr><td>t43JpVLShkP1ncLqPL5/Mx20VTo=</td><td>2024-06-20</td><td>121.4</td><td>519</td><td>CUST190</td><td>ORD1518</td><td>false</td><td>2025-07-11T12:48:46.716Z</td></tr><tr><td>xadeIrTI7/U8k5BnMuMfmCFYzVg=</td><td>2024-05-30</td><td>130.35</td><td>476</td><td>CUST175</td><td>ORD1475</td><td>false</td><td>2025-07-11T12:48:46.714Z</td></tr><tr><td>LF38RAEpyfBiaw+5/jBpnEti4fE=</td><td>2024-06-05</td><td>226.69</td><td>119</td><td>CUST047</td><td>ORD1118</td><td>false</td><td>2025-07-11T12:48:46.689Z</td></tr><tr><td>oau6umhZOh60Cv/cX7z5UqnI+yI=</td><td>2024-08-15</td><td>193.43</td><td>895</td><td>CUST145</td><td>ORD1894</td><td>false</td><td>2025-07-11T12:48:46.712Z</td></tr><tr><td>8U3fjcnF/O68UzTqWzQFm3XhKFI=</td><td>2024-07-09</td><td>55.91</td><td>313</td><td>CUST119</td><td>ORD1312</td><td>false</td><td>2025-07-11T12:48:46.708Z</td></tr><tr><td>pCnEd8V0VMbx2EShfV0PUzx8+5o=</td><td>2024-11-06</td><td>256.61</td><td>708</td><td>CUST147</td><td>ORD1707</td><td>false</td><td>2025-07-11T12:48:46.712Z</td></tr><tr><td>aAoPb0B1DScaPYJ+I39/5I2+l5M=</td><td>2024-06-08</td><td>64.11</td><td>900</td><td>CUST043</td><td>ORD1899</td><td>false</td><td>2025-07-11T12:48:46.687Z</td></tr><tr><td>4XczjBRMndtmCDj31tUoW9ZV85Y=</td><td>2024-01-21</td><td>39.09</td><td>775</td><td>CUST069</td><td>ORD1774</td><td>false</td><td>2025-07-11T12:48:46.697Z</td></tr><tr><td>rRQ5vBwUKaeDREh0jAX21w71qLo=</td><td>2024-05-24</td><td>228.71</td><td>985</td><td>CUST049</td><td>ORD1984</td><td>false</td><td>2025-07-11T12:48:46.690Z</td></tr><tr><td>ERzjbAed57AUEfl1pditS3uhjPo=</td><td>2024-06-28</td><td>249.18</td><td>413</td><td>CUST152</td><td>ORD1412</td><td>false</td><td>2025-07-11T12:48:46.712Z</td></tr><tr><td>4DK5wgyHYH9481rycRU2MNiki80=</td><td>2024-05-30</td><td>135.81</td><td>387</td><td>CUST142</td><td>ORD1386</td><td>false</td><td>2025-07-11T12:48:46.711Z</td></tr><tr><td>bKZ+wPkHlzrNrTpjR/EbrNkX6lg=</td><td>2024-03-12</td><td>182.92</td><td>952</td><td>CUST109</td><td>ORD1951</td><td>false</td><td>2025-07-11T12:48:46.707Z</td></tr><tr><td>fL5vQCH9EMBDp1OPDEVP/h9mTnA=</td><td>2024-07-03</td><td>255.17</td><td>229</td><td>CUST085</td><td>ORD1228</td><td>false</td><td>2025-07-11T12:48:46.701Z</td></tr><tr><td>xCYisn27OQht6MjOvPDXT0hFyh8=</td><td>2024-03-28</td><td>94.9</td><td>386</td><td>CUST142</td><td>ORD1385</td><td>false</td><td>2025-07-11T12:48:46.711Z</td></tr><tr><td>rhxRHHa8T8k/c0s1QUDzZSWxsoU=</td><td>2024-06-21</td><td>187.96</td><td>838</td><td>CUST062</td><td>ORD1837</td><td>false</td><td>2025-07-11T12:48:46.695Z</td></tr><tr><td>Te9RQic3LVvkp2tVnf7xPoR+q3k=</td><td>2024-11-20</td><td>84.8</td><td>58</td><td>CUST025</td><td>ORD1057</td><td>false</td><td>2025-07-11T12:48:46.679Z</td></tr><tr><td>qg+cQmQTOMo2+1JGsnWkg+2hgBM=</td><td>2024-01-30</td><td>255.71</td><td>822</td><td>CUST098</td><td>ORD1821</td><td>false</td><td>2025-07-11T12:48:46.704Z</td></tr><tr><td>FEOixzgY3wZCksslSiqarMTNEA8=</td><td>2024-07-01</td><td>192.94</td><td>443</td><td>CUST164</td><td>ORD1442</td><td>false</td><td>2025-07-11T12:48:46.713Z</td></tr><tr><td>1Xpj24XJrybhcFDrI8ICfO2oy1w=</td><td>2024-05-11</td><td>75.59</td><td>597</td><td>CUST188</td><td>ORD1596</td><td>false</td><td>2025-07-11T12:48:46.716Z</td></tr><tr><td>ZpCe47PrbD4v3e+CWSbHkj/ul5M=</td><td>2024-07-18</td><td>134.71</td><td>7</td><td>CUST003</td><td>ORD1006</td><td>false</td><td>2025-07-11T12:48:46.664Z</td></tr><tr><td>3dh2UFPVg2Rp2+wJOnUPfpNX1e8=</td><td>2024-01-15</td><td>142.91</td><td>628</td><td>CUST090</td><td>ORD1627</td><td>false</td><td>2025-07-11T12:48:46.702Z</td></tr><tr><td>+pfG5l2vPYYwuQCDKejWVfNPuz8=</td><td>2024-06-25</td><td>292.05</td><td>771</td><td>CUST085</td><td>ORD1770</td><td>false</td><td>2025-07-11T12:48:46.701Z</td></tr><tr><td>TNyzLHwZOCwtJ6N6nDhkTneS0+0=</td><td>2024-03-26</td><td>71.1</td><td>502</td><td>CUST185</td><td>ORD1501</td><td>false</td><td>2025-07-11T12:48:46.715Z</td></tr><tr><td>fRF2QGhltIJQWDiQXuLxoYS4BsA=</td><td>2024-08-09</td><td>260.93</td><td>453</td><td>CUST166</td><td>ORD1452</td><td>false</td><td>2025-07-11T12:48:46.713Z</td></tr><tr><td>vcN+dIsqlB0qnisdPa2o4kdx014=</td><td>2024-05-22</td><td>175.49</td><td>353</td><td>CUST131</td><td>ORD1352</td><td>false</td><td>2025-07-11T12:48:46.710Z</td></tr><tr><td>wtMrF7IDG+7W6uvvbYii6qC28aY=</td><td>2024-06-22</td><td>19.89</td><td>528</td><td>CUST193</td><td>ORD1527</td><td>false</td><td>2025-07-11T12:48:46.716Z</td></tr><tr><td>SKT450+XjAfK0ns3cjMk3/a6Wrg=</td><td>2024-02-18</td><td>39.5</td><td>372</td><td>CUST137</td><td>ORD1371</td><td>false</td><td>2025-07-11T12:48:46.711Z</td></tr><tr><td>4mw67/pKyW/qlesMH6JzbWQgnck=</td><td>2024-06-02</td><td>76.93</td><td>1</td><td>CUST001</td><td>ORD1000</td><td>false</td><td>2025-07-11T12:48:46.658Z</td></tr><tr><td>ELeU51HpM0DZv6HnSIgXTQOMEcQ=</td><td>2024-05-02</td><td>144.95</td><td>191</td><td>CUST072</td><td>ORD1190</td><td>false</td><td>2025-07-11T12:48:46.698Z</td></tr><tr><td>+psk+s24nV2DgtnvsbKlOrywbWo=</td><td>2024-05-23</td><td>75.65</td><td>215</td><td>CUST080</td><td>ORD1214</td><td>false</td><td>2025-07-11T12:48:46.700Z</td></tr><tr><td>h5wWhy0HhGCz0t1gitOeRuNSvX8=</td><td>2024-02-15</td><td>190.1</td><td>26</td><td>CUST012</td><td>ORD1025</td><td>false</td><td>2025-07-11T12:48:46.670Z</td></tr><tr><td>a6Q19Ey5aHJn01ZcLHVGAuSDdek=</td><td>2024-05-14</td><td>18.5</td><td>259</td><td>CUST098</td><td>ORD1258</td><td>false</td><td>2025-07-11T12:48:46.703Z</td></tr><tr><td>DxqSz3fiaOfO8H/KrzjfWTiIAzs=</td><td>2024-04-13</td><td>118.11</td><td>727</td><td>CUST112</td><td>ORD1726</td><td>false</td><td>2025-07-11T12:48:46.707Z</td></tr><tr><td>1rCupPO+GxsW97RklzxTcsp9+Mw=</td><td>2024-10-28</td><td>93.35</td><td>165</td><td>CUST063</td><td>ORD1164</td><td>false</td><td>2025-07-11T12:48:46.695Z</td></tr><tr><td>sKvdrcM37i69Re4XX93MFXxeED4=</td><td>2024-09-02</td><td>284.87</td><td>678</td><td>CUST035</td><td>ORD1677</td><td>false</td><td>2025-07-11T12:48:46.684Z</td></tr><tr><td>2J4Ihu7ojmvdgG95uUVahvpSoKo=</td><td>2024-03-16</td><td>115.67</td><td>231</td><td>CUST086</td><td>ORD1230</td><td>false</td><td>2025-07-11T12:48:46.701Z</td></tr><tr><td>N5YGuE/kR9bJ1XgCRqzzwxgDFYo=</td><td>2024-07-06</td><td>193.43</td><td>194</td><td>CUST073</td><td>ORD1193</td><td>false</td><td>2025-07-11T12:48:46.698Z</td></tr><tr><td>XZgZxxb6CKMvkDpagK4iFXRqjRA=</td><td>2024-03-24</td><td>190.85</td><td>774</td><td>CUST055</td><td>ORD1773</td><td>false</td><td>2025-07-11T12:48:46.692Z</td></tr><tr><td>IM2At/0jAbrBDle+8eNLPFBox7s=</td><td>2024-06-17</td><td>299.68</td><td>228</td><td>CUST085</td><td>ORD1227</td><td>false</td><td>2025-07-11T12:48:46.701Z</td></tr><tr><td>pLYDd18SNcpJH/MFVyrQGyFh0Xw=</td><td>2024-03-04</td><td>225.1</td><td>857</td><td>CUST097</td><td>ORD1856</td><td>false</td><td>2025-07-11T12:48:46.703Z</td></tr><tr><td>zs3R80w94mGOpWR5GLzVAIXH9Z8=</td><td>2024-04-22</td><td>179.43</td><td>282</td><td>CUST107</td><td>ORD1281</td><td>false</td><td>2025-07-11T12:48:46.706Z</td></tr><tr><td>HIxHnDJH/d6bf52yPpxWkwdHdKE=</td><td>2024-06-29</td><td>240.51</td><td>429</td><td>CUST158</td><td>ORD1428</td><td>false</td><td>2025-07-11T12:48:46.713Z</td></tr><tr><td>o+fTaOlr68b/OODj5Gbe3vhn3Cw=</td><td>2024-02-05</td><td>249.52</td><td>459</td><td>CUST169</td><td>ORD1458</td><td>false</td><td>2025-07-11T12:48:46.714Z</td></tr><tr><td>QLcS5gZodO40QJ9f2adxL6elCT8=</td><td>2024-12-05</td><td>257.36</td><td>750</td><td>CUST090</td><td>ORD1749</td><td>false</td><td>2025-07-11T12:48:46.702Z</td></tr><tr><td>ad9FetGwe/50xpwJkiOmSDqTC2k=</td><td>2024-03-07</td><td>76.54</td><td>338</td><td>CUST127</td><td>ORD1337</td><td>false</td><td>2025-07-11T12:48:46.710Z</td></tr><tr><td>gXABfB2wL5oKRpG53+05m3U03Tw=</td><td>2024-02-18</td><td>235.4</td><td>115</td><td>CUST046</td><td>ORD1114</td><td>false</td><td>2025-07-11T12:48:46.688Z</td></tr><tr><td>OqTXuiKfjOxjjDAJnlCWr4+no2Y=</td><td>2024-02-21</td><td>258.18</td><td>586</td><td>CUST059</td><td>ORD1585</td><td>false</td><td>2025-07-11T12:48:46.694Z</td></tr><tr><td>0W8r0haM3Yl058GXuK+AiW8yZL8=</td><td>2024-04-01</td><td>136.25</td><td>254</td><td>CUST096</td><td>ORD1253</td><td>false</td><td>2025-07-11T12:48:46.703Z</td></tr><tr><td>DAG+kxBC0cB+Eao7iBFaCZ2xOkQ=</td><td>2024-01-16</td><td>253.23</td><td>659</td><td>CUST057</td><td>ORD1658</td><td>false</td><td>2025-07-11T12:48:46.693Z</td></tr><tr><td>aYuj++us2TYmnT5G/OStEVQggIM=</td><td>2024-07-16</td><td>271.96</td><td>874</td><td>CUST039</td><td>ORD1873</td><td>false</td><td>2025-07-11T12:48:46.685Z</td></tr><tr><td>b1WecXp2hqtJAsDr40ghk28NCYA=</td><td>2024-08-08</td><td>205.87</td><td>529</td><td>CUST193</td><td>ORD1528</td><td>false</td><td>2025-07-11T12:48:46.716Z</td></tr><tr><td>0fsNbb0wPvGV0n+gSNEzNansVJA=</td><td>2024-02-14</td><td>210.2</td><td>304</td><td>CUST115</td><td>ORD1303</td><td>false</td><td>2025-07-11T12:48:46.708Z</td></tr><tr><td>e9b7J6vvJJblTTDl06yunCxzxfk=</td><td>2024-03-08</td><td>88.73</td><td>430</td><td>CUST159</td><td>ORD1429</td><td>false</td><td>2025-07-11T12:48:46.713Z</td></tr><tr><td>x5yjR/UvwJUQltEU3W9BulmUXZg=</td><td>2024-07-17</td><td>113.4</td><td>948</td><td>CUST008</td><td>ORD1947</td><td>false</td><td>2025-07-11T12:48:46.668Z</td></tr><tr><td>z5qROc4wudu0k1S6oQXYt0jWQ64=</td><td>2024-07-25</td><td>62.55</td><td>452</td><td>CUST166</td><td>ORD1451</td><td>false</td><td>2025-07-11T12:48:46.713Z</td></tr><tr><td>pZewKWQODnLcZk+mBQPjL9izmMU=</td><td>2024-08-28</td><td>166.57</td><td>800</td><td>CUST175</td><td>ORD1799</td><td>false</td><td>2025-07-11T12:48:46.714Z</td></tr><tr><td>T4PJwDEPhgiqG1AqD5V4KThD9vc=</td><td>2024-02-01</td><td>205.78</td><td>608</td><td>CUST115</td><td>ORD1607</td><td>false</td><td>2025-07-11T12:48:46.708Z</td></tr><tr><td>urS3OqE3moMUCPbk3HmPp1lWP8A=</td><td>2024-05-08</td><td>242.78</td><td>117</td><td>CUST047</td><td>ORD1116</td><td>false</td><td>2025-07-11T12:48:46.689Z</td></tr><tr><td>Ukct6a+yXRimBCrEtn2J3JwnGYI=</td><td>2024-02-19</td><td>268.43</td><td>190</td><td>CUST072</td><td>ORD1189</td><td>false</td><td>2025-07-11T12:48:46.698Z</td></tr><tr><td>sGp2BL8yuM17m4ekTPVWw6lchBk=</td><td>2024-11-09</td><td>54.42</td><td>641</td><td>CUST033</td><td>ORD1640</td><td>false</td><td>2025-07-11T12:48:46.682Z</td></tr><tr><td>TfjKpzhAY9EQ4YZrwHSWmY7IiBA=</td><td>2024-12-24</td><td>230.92</td><td>603</td><td>CUST124</td><td>ORD1602</td><td>false</td><td>2025-07-11T12:48:46.709Z</td></tr><tr><td>Eq7tvaQjpZBMnkSKHOKNprNGsC4=</td><td>2024-04-29</td><td>131.84</td><td>326</td><td>CUST124</td><td>ORD1325</td><td>false</td><td>2025-07-11T12:48:46.709Z</td></tr><tr><td>OVSFMdd6Nycu+Odoe+R5kLd8pwM=</td><td>2024-09-15</td><td>174.23</td><td>752</td><td>CUST166</td><td>ORD1751</td><td>false</td><td>2025-07-11T12:48:46.713Z</td></tr><tr><td>EvlTgpvHH73sA1Wb0s/a95fA9cY=</td><td>2024-08-03</td><td>82.74</td><td>618</td><td>CUST139</td><td>ORD1617</td><td>false</td><td>2025-07-11T12:48:46.711Z</td></tr><tr><td>+I+HnoahWwVH1+WbE5W/fVGpp+Y=</td><td>2024-03-06</td><td>283.9</td><td>920</td><td>CUST180</td><td>ORD1919</td><td>false</td><td>2025-07-11T12:48:46.715Z</td></tr><tr><td>NmiwLoA3T4DldFXm/Bcw0/uAvL4=</td><td>2024-02-29</td><td>136.51</td><td>963</td><td>CUST198</td><td>ORD1962</td><td>false</td><td>2025-07-11T12:48:46.716Z</td></tr><tr><td>fi0Hwq9HQpb0/JxxHKEl/KZ1icM=</td><td>2024-04-13</td><td>31.27</td><td>157</td><td>CUST060</td><td>ORD1156</td><td>false</td><td>2025-07-11T12:48:46.694Z</td></tr><tr><td>RA1qFekoQN/fe7h6btBiSvIFnbw=</td><td>2024-11-03</td><td>172.5</td><td>316</td><td>CUST120</td><td>ORD1315</td><td>false</td><td>2025-07-11T12:48:46.709Z</td></tr><tr><td>kid/Loj3jSmuVZD4jImPB8NXRqU=</td><td>2024-01-31</td><td>55.92</td><td>242</td><td>CUST091</td><td>ORD1241</td><td>false</td><td>2025-07-11T12:48:46.702Z</td></tr><tr><td>PxQMh9Dr0sfI1kf5lZVBCtbbjDk=</td><td>2024-07-15</td><td>248.83</td><td>388</td><td>CUST142</td><td>ORD1387</td><td>false</td><td>2025-07-11T12:48:46.711Z</td></tr><tr><td>fHHr0pot8R7mq4Pzun7rl9Ezskk=</td><td>2024-05-20</td><td>114.36</td><td>545</td><td>CUST198</td><td>ORD1544</td><td>false</td><td>2025-07-11T12:48:46.716Z</td></tr><tr><td>SAwRKymjPqfFByBxMjhRdttwXjM=</td><td>2024-04-03</td><td>211.67</td><td>248</td><td>CUST094</td><td>ORD1247</td><td>false</td><td>2025-07-11T12:48:46.703Z</td></tr><tr><td>pawfozPo7uvsGgA/e85uOvOQyUE=</td><td>2024-11-25</td><td>227.61</td><td>910</td><td>CUST188</td><td>ORD1909</td><td>false</td><td>2025-07-11T12:48:46.716Z</td></tr><tr><td>b8HmuHt/Rd78z/zws9faNRIyPl4=</td><td>2024-03-03</td><td>186.85</td><td>976</td><td>CUST112</td><td>ORD1975</td><td>false</td><td>2025-07-11T12:48:46.707Z</td></tr><tr><td>+/EKwAhBj/A+iWleFOMXmTWyZls=</td><td>2024-06-30</td><td>74.53</td><td>369</td><td>CUST136</td><td>ORD1368</td><td>false</td><td>2025-07-11T12:48:46.711Z</td></tr><tr><td>JcEpWPr1wV/ZFCcfTxYdPwnYuCc=</td><td>2024-06-08</td><td>237.47</td><td>497</td><td>CUST183</td><td>ORD1496</td><td>false</td><td>2025-07-11T12:48:46.715Z</td></tr><tr><td>Bpa9W1wLEbJbR4904JvNfz246/c=</td><td>2024-06-26</td><td>91.59</td><td>72</td><td>CUST031</td><td>ORD1071</td><td>false</td><td>2025-07-11T12:48:46.681Z</td></tr><tr><td>xmMOOMwfNKKIBCKJcdcxZ1ojnzY=</td><td>2024-05-28</td><td>271.15</td><td>625</td><td>CUST163</td><td>ORD1624</td><td>false</td><td>2025-07-11T12:48:46.713Z</td></tr><tr><td>rjs2g15Cmr0sR2/gryConEZJadA=</td><td>2024-06-16</td><td>24.55</td><td>37</td><td>CUST016</td><td>ORD1036</td><td>false</td><td>2025-07-11T12:48:46.673Z</td></tr><tr><td>dv2KS89r9yDgEZCgMfc3Jo48yI4=</td><td>2024-07-31</td><td>95.31</td><td>693</td><td>CUST097</td><td>ORD1692</td><td>false</td><td>2025-07-11T12:48:46.703Z</td></tr><tr><td>4ofjX9681gtoq8/lJX9hF9Q/45I=</td><td>2024-11-29</td><td>185.44</td><td>961</td><td>CUST028</td><td>ORD1960</td><td>false</td><td>2025-07-11T12:48:46.680Z</td></tr><tr><td>kbUv4r7EaFg3bgBJnRXdbf+bizM=</td><td>2024-03-08</td><td>248.37</td><td>321</td><td>CUST122</td><td>ORD1320</td><td>false</td><td>2025-07-11T12:48:46.709Z</td></tr><tr><td>+Gp0OxZKW27jJMBynxBpVnzsd5U=</td><td>2024-05-21</td><td>153.16</td><td>880</td><td>CUST056</td><td>ORD1879</td><td>false</td><td>2025-07-11T12:48:46.693Z</td></tr><tr><td>F5iTjEmqof+me8wEjsJBuUQ3iFg=</td><td>2024-03-22</td><td>160.12</td><td>446</td><td>CUST165</td><td>ORD1445</td><td>false</td><td>2025-07-11T12:48:46.713Z</td></tr><tr><td>JHCYJlnO50G9yNfx5fkSHD5b2s4=</td><td>2024-04-18</td><td>227.0</td><td>912</td><td>CUST139</td><td>ORD1911</td><td>false</td><td>2025-07-11T12:48:46.711Z</td></tr><tr><td>b0cxpM8OSIwp11psda1QcdMGw/8=</td><td>2024-08-23</td><td>232.63</td><td>928</td><td>CUST121</td><td>ORD1927</td><td>false</td><td>2025-07-11T12:48:46.709Z</td></tr><tr><td>I79ZoyRHok4MgNhPkLEDJdE6J/k=</td><td>2024-03-27</td><td>232.39</td><td>93</td><td>CUST038</td><td>ORD1092</td><td>false</td><td>2025-07-11T12:48:46.685Z</td></tr><tr><td>jr1h6JL+k4mI8sslhQM3RYBXmwY=</td><td>2024-02-04</td><td>69.09</td><td>202</td><td>CUST076</td><td>ORD1201</td><td>false</td><td>2025-07-11T12:48:46.699Z</td></tr><tr><td>fEXtx0UESde85MRFKGImFhayzd8=</td><td>2024-09-23</td><td>229.86</td><td>632</td><td>CUST121</td><td>ORD1631</td><td>false</td><td>2025-07-11T12:48:46.709Z</td></tr><tr><td>+lmnHWzzsv5ozZStNDfxAC85bwY=</td><td>2024-02-05</td><td>22.79</td><td>757</td><td>CUST098</td><td>ORD1756</td><td>false</td><td>2025-07-11T12:48:46.704Z</td></tr><tr><td>dwhxu/EHBDMm0Q0oj0YjXpU9YzI=</td><td>2024-07-05</td><td>154.07</td><td>147</td><td>CUST057</td><td>ORD1146</td><td>false</td><td>2025-07-11T12:48:46.693Z</td></tr><tr><td>JXaKNNZsodb4OI4FISmXqycUk38=</td><td>2024-04-08</td><td>132.18</td><td>808</td><td>CUST151</td><td>ORD1807</td><td>false</td><td>2025-07-11T12:48:46.712Z</td></tr><tr><td>n0OltRWq+2iyG4IW6tNVsCJqPaE=</td><td>2024-06-18</td><td>167.3</td><td>451</td><td>CUST166</td><td>ORD1450</td><td>false</td><td>2025-07-11T12:48:46.713Z</td></tr><tr><td>tIHliNTnWRoFSPq3f8i985mtm1c=</td><td>2024-03-25</td><td>106.84</td><td>854</td><td>CUST135</td><td>ORD1853</td><td>false</td><td>2025-07-11T12:48:46.711Z</td></tr><tr><td>87eGOtai3vR3t+MpZoQeFO84ZJ4=</td><td>2024-10-19</td><td>86.24</td><td>513</td><td>CUST188</td><td>ORD1512</td><td>false</td><td>2025-07-11T12:48:46.716Z</td></tr><tr><td>HHfPR/V8Hlnngc/DDj8eBtlsbQY=</td><td>2024-05-05</td><td>243.56</td><td>464</td><td>CUST171</td><td>ORD1463</td><td>false</td><td>2025-07-11T12:48:46.714Z</td></tr><tr><td>N8DxTzqR/wScN8oATJq4h6Iur24=</td><td>2024-07-19</td><td>212.35</td><td>592</td><td>CUST011</td><td>ORD1591</td><td>false</td><td>2025-07-11T12:48:46.670Z</td></tr><tr><td>B12KFA+AeMG2CEgT3Qib9GzDSLA=</td><td>2024-07-31</td><td>202.53</td><td>735</td><td>CUST102</td><td>ORD1734</td><td>false</td><td>2025-07-11T12:48:46.704Z</td></tr><tr><td>aOww1XjrtyRJKF+QQcbjoIn5y9M=</td><td>2024-04-24</td><td>48.08</td><td>363</td><td>CUST134</td><td>ORD1362</td><td>false</td><td>2025-07-11T12:48:46.710Z</td></tr><tr><td>DEsQu4pqQzCnLm9Bn5NgiiZ9Ns4=</td><td>2024-04-23</td><td>274.01</td><td>289</td><td>CUST110</td><td>ORD1288</td><td>false</td><td>2025-07-11T12:48:46.707Z</td></tr><tr><td>8Y6QDMtIbmp/RZWdx/v1RlDBfo0=</td><td>2024-04-30</td><td>249.75</td><td>30</td><td>CUST013</td><td>ORD1029</td><td>false</td><td>2025-07-11T12:48:46.671Z</td></tr><tr><td>qbtuZxL7o0ncbTa7szKVP4WRP6Y=</td><td>2024-10-25</td><td>108.91</td><td>578</td><td>CUST122</td><td>ORD1577</td><td>false</td><td>2025-07-11T12:48:46.709Z</td></tr><tr><td>ZVJ0Xynqtgnh6/I3vP8SPoqgdWY=</td><td>2024-03-07</td><td>30.56</td><td>492</td><td>CUST181</td><td>ORD1491</td><td>false</td><td>2025-07-11T12:48:46.715Z</td></tr><tr><td>TBvzGvets/il9PH5woR8Nc1CZVg=</td><td>2024-12-19</td><td>150.92</td><td>959</td><td>CUST035</td><td>ORD1958</td><td>false</td><td>2025-07-11T12:48:46.684Z</td></tr><tr><td>KC3lpusSBtr2wH2vGraMz/+Fhp4=</td><td>2024-04-14</td><td>44.13</td><td>380</td><td>CUST140</td><td>ORD1379</td><td>false</td><td>2025-07-11T12:48:46.711Z</td></tr><tr><td>+EHk7O7ihAZzA2vsWzCZwA5fk6w=</td><td>2024-07-03</td><td>252.73</td><td>932</td><td>CUST011</td><td>ORD1931</td><td>false</td><td>2025-07-11T12:48:46.670Z</td></tr><tr><td>+O5h5VwlvsSQk/hZrsI+SPoxyL4=</td><td>2024-02-23</td><td>180.52</td><td>463</td><td>CUST170</td><td>ORD1462</td><td>false</td><td>2025-07-11T12:48:46.714Z</td></tr><tr><td>CQUBTPogodgQP7lcu3/SikVytII=</td><td>2024-02-28</td><td>147.39</td><td>970</td><td>CUST025</td><td>ORD1969</td><td>false</td><td>2025-07-11T12:48:46.679Z</td></tr><tr><td>X/Phayo/BnI6rzcg5u3YwMA/EI8=</td><td>2024-01-13</td><td>162.25</td><td>988</td><td>CUST109</td><td>ORD1987</td><td>false</td><td>2025-07-11T12:48:46.707Z</td></tr><tr><td>nSRiOiwXbcbqV4q7D7j05sloLsY=</td><td>2024-12-13</td><td>238.37</td><td>794</td><td>CUST179</td><td>ORD1793</td><td>false</td><td>2025-07-11T12:48:46.715Z</td></tr><tr><td>t6/azTG7kPZFeWXfZbDULtMnP2A=</td><td>2024-09-23</td><td>280.57</td><td>939</td><td>CUST178</td><td>ORD1938</td><td>false</td><td>2025-07-11T12:48:46.714Z</td></tr><tr><td>3wriUJztYplv0LJlU3MjwXZ0lBs=</td><td>2024-06-29</td><td>164.36</td><td>55</td><td>CUST024</td><td>ORD1054</td><td>false</td><td>2025-07-11T12:48:46.678Z</td></tr><tr><td>3TSf7CPYjY5OMC9B1KN7UBjKeoc=</td><td>2024-05-23</td><td>280.32</td><td>924</td><td>CUST143</td><td>ORD1923</td><td>false</td><td>2025-07-11T12:48:46.711Z</td></tr><tr><td>DcbcjOVL9DrNTILA6cFMqmWmbMo=</td><td>2024-08-27</td><td>51.61</td><td>709</td><td>CUST185</td><td>ORD1708</td><td>false</td><td>2025-07-11T12:48:46.715Z</td></tr><tr><td>tIcKFNikmxHZpUS97aORxSkxSeI=</td><td>2024-06-24</td><td>69.32</td><td>787</td><td>CUST170</td><td>ORD1786</td><td>false</td><td>2025-07-11T12:48:46.714Z</td></tr><tr><td>MhfjAO2Vr1NZMYtLlhz90YOiTyk=</td><td>2024-04-29</td><td>162.57</td><td>142</td><td>CUST056</td><td>ORD1141</td><td>false</td><td>2025-07-11T12:48:46.692Z</td></tr><tr><td>vManvqAepCbcaNqSKl927rN8SvU=</td><td>2024-07-27</td><td>131.58</td><td>520</td><td>CUST190</td><td>ORD1519</td><td>false</td><td>2025-07-11T12:48:46.716Z</td></tr><tr><td>KJbFqrE9WVs11gG7f5Jkp0nYU6Q=</td><td>2024-06-22</td><td>76.56</td><td>972</td><td>CUST170</td><td>ORD1971</td><td>false</td><td>2025-07-11T12:48:46.714Z</td></tr><tr><td>42ZJ1F3So4TjxUTgpJDuk+9Ri6w=</td><td>2024-01-30</td><td>147.8</td><td>664</td><td>CUST099</td><td>ORD1663</td><td>false</td><td>2025-07-11T12:48:46.704Z</td></tr><tr><td>sRSzPAa/FuSU7nBlOjeWDuc0JwE=</td><td>2024-03-14</td><td>37.92</td><td>253</td><td>CUST096</td><td>ORD1252</td><td>false</td><td>2025-07-11T12:48:46.703Z</td></tr><tr><td>gI10sydi6Q+CDWJLApD+NJ5xneQ=</td><td>2024-03-06</td><td>288.93</td><td>994</td><td>CUST029</td><td>ORD1993</td><td>false</td><td>2025-07-11T12:48:46.681Z</td></tr><tr><td>ASysNbLiy0AeoDRAnW5cj9UIDeI=</td><td>2024-08-14</td><td>177.56</td><td>637</td><td>CUST166</td><td>ORD1636</td><td>false</td><td>2025-07-11T12:48:46.713Z</td></tr><tr><td>CYjjhOnpbI8ky4lVfIsfS8YWoX4=</td><td>2024-09-29</td><td>261.48</td><td>458</td><td>CUST168</td><td>ORD1457</td><td>false</td><td>2025-07-11T12:48:46.713Z</td></tr><tr><td>LygLOeM47XwQL9cVrC9+H47RL2w=</td><td>2024-05-22</td><td>196.45</td><td>364</td><td>CUST135</td><td>ORD1363</td><td>false</td><td>2025-07-11T12:48:46.710Z</td></tr><tr><td>c3moZf3oE2xCln946c2I4Y22gNI=</td><td>2024-06-25</td><td>118.04</td><td>876</td><td>CUST011</td><td>ORD1875</td><td>false</td><td>2025-07-11T12:48:46.670Z</td></tr><tr><td>bzI7A2DH2rbc9Sd3W0wTYYwg68s=</td><td>2024-12-05</td><td>199.85</td><td>92</td><td>CUST037</td><td>ORD1091</td><td>false</td><td>2025-07-11T12:48:46.684Z</td></tr><tr><td>dl5HaYiCmvU7snEOL3ROiFYSKIQ=</td><td>2024-04-19</td><td>116.12</td><td>482</td><td>CUST177</td><td>ORD1481</td><td>false</td><td>2025-07-11T12:48:46.714Z</td></tr><tr><td>D/I9YFGdXa/DHYKz6oOewcSZolo=</td><td>2024-05-31</td><td>41.72</td><td>560</td><td>CUST077</td><td>ORD1559</td><td>false</td><td>2025-07-11T12:48:46.699Z</td></tr><tr><td>p/2FqFuhJpcWRrMlgVM46A/P0Ns=</td><td>2024-02-17</td><td>118.02</td><td>382</td><td>CUST141</td><td>ORD1381</td><td>false</td><td>2025-07-11T12:48:46.711Z</td></tr><tr><td>wmhG/jOMM0C0qPIX/iQLdZBqGkM=</td><td>2024-06-13</td><td>239.84</td><td>532</td><td>CUST194</td><td>ORD1531</td><td>false</td><td>2025-07-11T12:48:46.716Z</td></tr><tr><td>uM/mo8cPUruznx18a0+q5J6wp+g=</td><td>2024-07-22</td><td>231.81</td><td>441</td><td>CUST163</td><td>ORD1440</td><td>false</td><td>2025-07-11T12:48:46.713Z</td></tr><tr><td>hA2eOCMfo4OW5gwGZ0ReIgwFELg=</td><td>2024-04-17</td><td>139.29</td><td>393</td><td>CUST144</td><td>ORD1392</td><td>false</td><td>2025-07-11T12:48:46.711Z</td></tr><tr><td>Qy1xrKOIUKu+H+kXfJ9ArK2Wkmc=</td><td>2024-06-02</td><td>249.83</td><td>517</td><td>CUST189</td><td>ORD1516</td><td>false</td><td>2025-07-11T12:48:46.716Z</td></tr><tr><td>SnzawjjPq1lSDB/q1U8es5sH3Uw=</td><td>2024-03-24</td><td>111.01</td><td>222</td><td>CUST083</td><td>ORD1221</td><td>false</td><td>2025-07-11T12:48:46.701Z</td></tr><tr><td>rgHVAd/XkSS/jQNxuglbeMUmn0E=</td><td>2024-01-07</td><td>60.01</td><td>249</td><td>CUST095</td><td>ORD1248</td><td>false</td><td>2025-07-11T12:48:46.703Z</td></tr><tr><td>B91F/TqLe2/V78HZaASj1aI0vGM=</td><td>2024-01-31</td><td>212.17</td><td>405</td><td>CUST149</td><td>ORD1404</td><td>false</td><td>2025-07-11T12:48:46.712Z</td></tr><tr><td>53IfFEJC3KqSYdIg56pvKkyR2wA=</td><td>2024-02-14</td><td>41.99</td><td>550</td><td>CUST200</td><td>ORD1549</td><td>false</td><td>2025-07-11T12:48:46.717Z</td></tr><tr><td>ZsRwCQbJWFDtjP0r1875hUYSYEw=</td><td>2024-06-05</td><td>92.52</td><td>208</td><td>CUST078</td><td>ORD1207</td><td>false</td><td>2025-07-11T12:48:46.699Z</td></tr><tr><td>Y0WQ5FerFCzRnp1J5ln4JfbGLQU=</td><td>2024-06-04</td><td>34.76</td><td>688</td><td>CUST113</td><td>ORD1687</td><td>false</td><td>2025-07-11T12:48:46.708Z</td></tr><tr><td>Y2z5I87h7jbtgIchK1U2N4PUZVA=</td><td>2024-07-19</td><td>29.53</td><td>733</td><td>CUST171</td><td>ORD1732</td><td>false</td><td>2025-07-11T12:48:46.714Z</td></tr><tr><td>EDHneuojagRCWv8oVS0eNB6T44M=</td><td>2024-06-08</td><td>141.3</td><td>415</td><td>CUST153</td><td>ORD1414</td><td>false</td><td>2025-07-11T12:48:46.712Z</td></tr><tr><td>zxu5IO5pcEfkt3adXrTLht1oZR4=</td><td>2024-04-23</td><td>248.56</td><td>422</td><td>CUST156</td><td>ORD1421</td><td>false</td><td>2025-07-11T12:48:46.713Z</td></tr><tr><td>bmURtFQzo5hcT4J9sV3TaPAqLYM=</td><td>2024-04-30</td><td>102.44</td><td>951</td><td>CUST075</td><td>ORD1950</td><td>false</td><td>2025-07-11T12:48:46.699Z</td></tr><tr><td>r97U74ovfq/c3JQjpK5AjhfjTxI=</td><td>2024-08-08</td><td>126.15</td><td>567</td><td>CUST084</td><td>ORD1566</td><td>false</td><td>2025-07-11T12:48:46.701Z</td></tr><tr><td>1GulwHy6GbzJSxMOdACDvEdB7v8=</td><td>2024-03-24</td><td>295.53</td><td>896</td><td>CUST072</td><td>ORD1895</td><td>false</td><td>2025-07-11T12:48:46.698Z</td></tr><tr><td>fbJt/geS6TmaeaFQ5k+MIt6VJyU=</td><td>2024-01-18</td><td>38.5</td><td>980</td><td>CUST179</td><td>ORD1979</td><td>false</td><td>2025-07-11T12:48:46.715Z</td></tr><tr><td>REsyWzKqZjy/elaa97OGn2FgFZE=</td><td>2024-04-07</td><td>202.12</td><td>997</td><td>CUST042</td><td>ORD1996</td><td>false</td><td>2025-07-11T12:48:46.687Z</td></tr><tr><td>xTfTbKXzShTRV4IoO68sDRQivZQ=</td><td>2024-09-07</td><td>239.33</td><td>945</td><td>CUST093</td><td>ORD1944</td><td>false</td><td>2025-07-11T12:48:46.703Z</td></tr><tr><td>Jm3CkcL4cDSKEouAbnGxjNzmuko=</td><td>2024-01-29</td><td>261.34</td><td>613</td><td>CUST200</td><td>ORD1612</td><td>false</td><td>2025-07-11T12:48:46.717Z</td></tr><tr><td>DovB0Mui0nfquy5TWPbcXcY4ahc=</td><td>2024-06-21</td><td>196.55</td><td>558</td><td>CUST062</td><td>ORD1557</td><td>false</td><td>2025-07-11T12:48:46.695Z</td></tr><tr><td>6/s7/YuoZgs0nwyC8K4XsjMzb2s=</td><td>2024-12-12</td><td>70.8</td><td>773</td><td>CUST051</td><td>ORD1772</td><td>false</td><td>2025-07-11T12:48:46.690Z</td></tr><tr><td>TGGWp1g6GhfhZw/7GgJirXdwY+I=</td><td>2024-04-20</td><td>33.01</td><td>256</td><td>CUST097</td><td>ORD1255</td><td>false</td><td>2025-07-11T12:48:46.703Z</td></tr><tr><td>ReeV1J3vSZaWv+smmr/GBJgGzxo=</td><td>2024-04-23</td><td>102.71</td><td>536</td><td>CUST195</td><td>ORD1535</td><td>false</td><td>2025-07-11T12:48:46.716Z</td></tr><tr><td>OQrEgRQo/JWZYJcxkyv7oXeLZ6w=</td><td>2024-08-04</td><td>172.49</td><td>804</td><td>CUST111</td><td>ORD1803</td><td>false</td><td>2025-07-11T12:48:46.707Z</td></tr><tr><td>zcS0xGr+y3ZOgaWfD42LmYqDnkg=</td><td>2024-01-19</td><td>213.86</td><td>982</td><td>CUST121</td><td>ORD1981</td><td>false</td><td>2025-07-11T12:48:46.709Z</td></tr><tr><td>lPkApkqofUFtG5Ebjxgr0v+4jIk=</td><td>2024-05-30</td><td>239.4</td><td>168</td><td>CUST065</td><td>ORD1167</td><td>false</td><td>2025-07-11T12:48:46.695Z</td></tr><tr><td>5deCIyW8O4xlrc6CKAVdlZb5mw0=</td><td>2024-03-28</td><td>27.47</td><td>400</td><td>CUST147</td><td>ORD1399</td><td>false</td><td>2025-07-11T12:48:46.712Z</td></tr><tr><td>b5NlTCuHpYjQhD3ozb4xnZ4YWJE=</td><td>2024-07-17</td><td>20.1</td><td>284</td><td>CUST108</td><td>ORD1283</td><td>false</td><td>2025-07-11T12:48:46.706Z</td></tr><tr><td>B602KgGDqHwdo6duEzaFQbv3u10=</td><td>2024-08-16</td><td>15.87</td><td>332</td><td>CUST125</td><td>ORD1331</td><td>false</td><td>2025-07-11T12:48:46.709Z</td></tr><tr><td>6Qb+mZkbhP67qZuY1uBZKNTIGJA=</td><td>2024-03-05</td><td>123.62</td><td>234</td><td>CUST088</td><td>ORD1233</td><td>false</td><td>2025-07-11T12:48:46.702Z</td></tr><tr><td>UZ0YOg70VTjJ6T+CgDCg0JqTgsI=</td><td>2024-04-17</td><td>42.51</td><td>241</td><td>CUST090</td><td>ORD1240</td><td>false</td><td>2025-07-11T12:48:46.702Z</td></tr><tr><td>bZBoFMDq0k8P/7HK3cIu9uWOpwQ=</td><td>2024-09-26</td><td>79.95</td><td>736</td><td>CUST194</td><td>ORD1735</td><td>false</td><td>2025-07-11T12:48:46.716Z</td></tr><tr><td>Mba18oPimBIj7PL1ycbnUPXupPw=</td><td>2024-07-07</td><td>271.29</td><td>343</td><td>CUST128</td><td>ORD1342</td><td>false</td><td>2025-07-11T12:48:46.710Z</td></tr><tr><td>Hr7nmz+WHbI2kjGbeQJYTvJAQJg=</td><td>2024-05-31</td><td>162.18</td><td>676</td><td>CUST035</td><td>ORD1675</td><td>false</td><td>2025-07-11T12:48:46.683Z</td></tr><tr><td>hFqnqjl8pjUEzZV87tgWkD9JbbM=</td><td>2024-03-02</td><td>126.87</td><td>551</td><td>CUST200</td><td>ORD1550</td><td>false</td><td>2025-07-11T12:48:46.717Z</td></tr><tr><td>270lHhOe0B6GcG4FgX13KM9gYIE=</td><td>2024-09-08</td><td>47.85</td><td>886</td><td>CUST147</td><td>ORD1885</td><td>false</td><td>2025-07-11T12:48:46.712Z</td></tr><tr><td>MVuPxwDroWMoUcT2KahBXgRY8lQ=</td><td>2024-11-08</td><td>285.79</td><td>704</td><td>CUST028</td><td>ORD1703</td><td>false</td><td>2025-07-11T12:48:46.680Z</td></tr><tr><td>YL0SPiCOsHetr7Ac4s7saJf3q7w=</td><td>2024-08-04</td><td>202.47</td><td>370</td><td>CUST136</td><td>ORD1369</td><td>false</td><td>2025-07-11T12:48:46.711Z</td></tr><tr><td>/lJoSvoexU0QKSg1w6WvV+rfonA=</td><td>2024-02-11</td><td>157.58</td><td>110</td><td>CUST045</td><td>ORD1109</td><td>false</td><td>2025-07-11T12:48:46.688Z</td></tr><tr><td>9OqrqUBINr9dQ+zjOsfUGG13uz8=</td><td>2024-08-11</td><td>183.5</td><td>12</td><td>CUST005</td><td>ORD1011</td><td>false</td><td>2025-07-11T12:48:46.666Z</td></tr><tr><td>Zo5e8sBPUEobge3/nnDJTLrMjNY=</td><td>2024-05-24</td><td>291.87</td><td>5</td><td>CUST002</td><td>ORD1004</td><td>false</td><td>2025-07-11T12:48:46.664Z</td></tr><tr><td>z+Lsp/YtiME6KPk6tKmfH9PmQo4=</td><td>2024-08-12</td><td>230.38</td><td>533</td><td>CUST194</td><td>ORD1532</td><td>false</td><td>2025-07-11T12:48:46.716Z</td></tr><tr><td>LGja4ksTvaXZp+1HAY7g3D/a3QY=</td><td>2024-07-16</td><td>245.47</td><td>75</td><td>CUST032</td><td>ORD1074</td><td>false</td><td>2025-07-11T12:48:46.681Z</td></tr><tr><td>RUWmWeZGpj7iDQBl5u02r211gzA=</td><td>2024-02-21</td><td>174.27</td><td>273</td><td>CUST104</td><td>ORD1272</td><td>false</td><td>2025-07-11T12:48:46.705Z</td></tr><tr><td>XcLlnRP1zstMdm5T3DcAT2Gkok8=</td><td>2024-05-21</td><td>74.03</td><td>855</td><td>CUST136</td><td>ORD1854</td><td>false</td><td>2025-07-11T12:48:46.711Z</td></tr><tr><td>AFeHWhI79RsIEubAOHcGrGgqV/I=</td><td>2024-12-09</td><td>220.77</td><td>833</td><td>CUST051</td><td>ORD1832</td><td>false</td><td>2025-07-11T12:48:46.691Z</td></tr><tr><td>KiMHkQfnUKi0Fu05kzRn8bm9tcs=</td><td>2024-02-19</td><td>289.28</td><td>471</td><td>CUST173</td><td>ORD1470</td><td>false</td><td>2025-07-11T12:48:46.714Z</td></tr><tr><td>HOfuZFVmWWuluVtAcd8Q8cyI/Z0=</td><td>2024-05-08</td><td>285.88</td><td>106</td><td>CUST043</td><td>ORD1105</td><td>false</td><td>2025-07-11T12:48:46.687Z</td></tr><tr><td>Yc3ZmtJT+0ztrygxYl3SwpzBpYk=</td><td>2024-11-20</td><td>141.42</td><td>660</td><td>CUST032</td><td>ORD1659</td><td>false</td><td>2025-07-11T12:48:46.682Z</td></tr><tr><td>a1KNGCs5SYIj1owZe2Pmy6ZC0uA=</td><td>2024-04-24</td><td>13.56</td><td>223</td><td>CUST084</td><td>ORD1222</td><td>false</td><td>2025-07-11T12:48:46.701Z</td></tr><tr><td>PiJkbwP4IunnaVrEaV1jlJGwl1g=</td><td>2024-06-26</td><td>252.2</td><td>172</td><td>CUST066</td><td>ORD1171</td><td>false</td><td>2025-07-11T12:48:46.696Z</td></tr><tr><td>MYbr4hTS3OCkYBIG/C6og0I4NAg=</td><td>2024-01-25</td><td>172.45</td><td>721</td><td>CUST146</td><td>ORD1720</td><td>false</td><td>2025-07-11T12:48:46.712Z</td></tr><tr><td>GZdVhlcWU2vgPa6uimqw+ct059I=</td><td>2024-04-27</td><td>159.89</td><td>552</td><td>CUST200</td><td>ORD1551</td><td>false</td><td>2025-07-11T12:48:46.717Z</td></tr><tr><td>Np71acHBeSPYlZO0UqGeGMF/N8M=</td><td>2024-02-07</td><td>186.26</td><td>66</td><td>CUST029</td><td>ORD1065</td><td>false</td><td>2025-07-11T12:48:46.680Z</td></tr><tr><td>pHuyIfMftsNNwr28JsQtaKfBwzU=</td><td>2024-06-28</td><td>121.12</td><td>120</td><td>CUST048</td><td>ORD1119</td><td>false</td><td>2025-07-11T12:48:46.689Z</td></tr><tr><td>WfcN7R6G6owkc4GHAQX2GNtiDKI=</td><td>2024-06-30</td><td>280.66</td><td>858</td><td>CUST065</td><td>ORD1857</td><td>false</td><td>2025-07-11T12:48:46.696Z</td></tr><tr><td>JowvtY/r0z9m4ei+XQf7pdjOr4s=</td><td>2024-01-28</td><td>170.98</td><td>114</td><td>CUST046</td><td>ORD1113</td><td>false</td><td>2025-07-11T12:48:46.688Z</td></tr><tr><td>AtxBPxAKvUSjB0kMpAOGWJnjTgE=</td><td>2024-02-20</td><td>236.12</td><td>455</td><td>CUST167</td><td>ORD1454</td><td>false</td><td>2025-07-11T12:48:46.713Z</td></tr><tr><td>Vlq4uiC+DhPHrOBpUz0lTjD4DAA=</td><td>2024-12-30</td><td>206.41</td><td>925</td><td>CUST016</td><td>ORD1924</td><td>false</td><td>2025-07-11T12:48:46.673Z</td></tr><tr><td>/l2zxXt22p66Avg2DvfrzHqxTcc=</td><td>2024-11-07</td><td>31.87</td><td>514</td><td>CUST188</td><td>ORD1513</td><td>false</td><td>2025-07-11T12:48:46.716Z</td></tr><tr><td>uhNRzD/ySSPSUsQW99hJe8IP1FU=</td><td>2024-07-03</td><td>116.0</td><td>83</td><td>CUST034</td><td>ORD1082</td><td>false</td><td>2025-07-11T12:48:46.683Z</td></tr><tr><td>8cm2TQu06XCrxCAlhARgzDzvS1s=</td><td>2024-10-06</td><td>206.88</td><td>901</td><td>CUST146</td><td>ORD1900</td><td>false</td><td>2025-07-11T12:48:46.712Z</td></tr><tr><td>xwXq7T03erNpcNTb87qQ1+k5+eA=</td><td>2024-05-26</td><td>136.15</td><td>138</td><td>CUST054</td><td>ORD1137</td><td>false</td><td>2025-07-11T12:48:46.692Z</td></tr><tr><td>NN7pw5P9aZcA2H1KkKnXaI5SKc0=</td><td>2024-02-11</td><td>61.95</td><td>491</td><td>CUST181</td><td>ORD1490</td><td>false</td><td>2025-07-11T12:48:46.715Z</td></tr><tr><td>O5m+1bnu0JS5NxdevfvcFosZ+70=</td><td>2024-03-13</td><td>145.96</td><td>526</td><td>CUST192</td><td>ORD1525</td><td>false</td><td>2025-07-11T12:48:46.716Z</td></tr><tr><td>4+lsJ/C8Dl5u8M8lyWuzuvKvSf8=</td><td>2024-05-18</td><td>31.07</td><td>224</td><td>CUST084</td><td>ORD1223</td><td>false</td><td>2025-07-11T12:48:46.701Z</td></tr><tr><td>vueOYyZGXwblQr0sOjkA750i/4k=</td><td>2024-03-12</td><td>234.99</td><td>836</td><td>CUST049</td><td>ORD1835</td><td>false</td><td>2025-07-11T12:48:46.690Z</td></tr><tr><td>gGAQEiibAA9g1qVlRgvJvIZXJaE=</td><td>2024-11-13</td><td>132.79</td><td>701</td><td>CUST158</td><td>ORD1700</td><td>false</td><td>2025-07-11T12:48:46.713Z</td></tr><tr><td>viVeQFQFxAYJXhAXAOXaOOYRBXM=</td><td>2024-10-13</td><td>177.87</td><td>978</td><td>CUST181</td><td>ORD1977</td><td>false</td><td>2025-07-11T12:48:46.715Z</td></tr><tr><td>hRAFYp1p+pyMYDKT3SB+5CwUozs=</td><td>2024-03-27</td><td>197.65</td><td>487</td><td>CUST179</td><td>ORD1486</td><td>false</td><td>2025-07-11T12:48:46.714Z</td></tr><tr><td>uy9ZIGWudfiOOAq50EaKsNf7ArQ=</td><td>2024-03-04</td><td>32.55</td><td>27</td><td>CUST012</td><td>ORD1026</td><td>false</td><td>2025-07-11T12:48:46.670Z</td></tr><tr><td>3ELX7p3BYHwqg8OYZzVE/57tgkE=</td><td>2024-07-12</td><td>83.76</td><td>930</td><td>CUST077</td><td>ORD1929</td><td>false</td><td>2025-07-11T12:48:46.699Z</td></tr><tr><td>jWvVVW6r+qK3gJ+jGltBtIoNkfo=</td><td>2024-09-05</td><td>79.3</td><td>658</td><td>CUST110</td><td>ORD1657</td><td>false</td><td>2025-07-11T12:48:46.707Z</td></tr><tr><td>jVvXbz+Ddwpsm6AwjWmw+sBhwEU=</td><td>2024-06-18</td><td>255.94</td><td>483</td><td>CUST178</td><td>ORD1482</td><td>false</td><td>2025-07-11T12:48:46.714Z</td></tr><tr><td>aC1fg5Fb59GhnbzuxTECl9nDjp0=</td><td>2024-10-06</td><td>228.82</td><td>285</td><td>CUST108</td><td>ORD1284</td><td>false</td><td>2025-07-11T12:48:46.706Z</td></tr><tr><td>ma+Mb4hGaXiFCw0xhJNo6b0bkc8=</td><td>2024-08-04</td><td>25.64</td><td>281</td><td>CUST106</td><td>ORD1280</td><td>false</td><td>2025-07-11T12:48:46.706Z</td></tr><tr><td>+jV5ifD3PDFa5g7pu7f5NYI0yek=</td><td>2024-01-19</td><td>90.31</td><td>744</td><td>CUST091</td><td>ORD1743</td><td>false</td><td>2025-07-11T12:48:46.702Z</td></tr><tr><td>4CsvLybDQksifeDDt9x1niXpA1s=</td><td>2024-12-08</td><td>208.43</td><td>879</td><td>CUST033</td><td>ORD1878</td><td>false</td><td>2025-07-11T12:48:46.682Z</td></tr><tr><td>cW3V1c9fw/Re5Ntavlz14Acyw/M=</td><td>2024-01-09</td><td>254.15</td><td>777</td><td>CUST116</td><td>ORD1776</td><td>false</td><td>2025-07-11T12:48:46.708Z</td></tr><tr><td>PFn/2bMdkrar4U9V0tCLJO/g6kQ=</td><td>2024-09-03</td><td>247.38</td><td>639</td><td>CUST115</td><td>ORD1638</td><td>false</td><td>2025-07-11T12:48:46.708Z</td></tr><tr><td>Q5QbTaQZMd7EyF0FWwBkkjkEmLI=</td><td>2024-04-10</td><td>44.18</td><td>878</td><td>CUST194</td><td>ORD1877</td><td>false</td><td>2025-07-11T12:48:46.716Z</td></tr><tr><td>bIXlqsmrJHzQOlXxiWhG1g7imKI=</td><td>2024-04-01</td><td>84.38</td><td>160</td><td>CUST062</td><td>ORD1159</td><td>false</td><td>2025-07-11T12:48:46.695Z</td></tr><tr><td>0BQ+d2Q5wzMLAF71efqWn7MQW04=</td><td>2024-11-22</td><td>200.46</td><td>581</td><td>CUST051</td><td>ORD1580</td><td>false</td><td>2025-07-11T12:48:46.690Z</td></tr><tr><td>Ug4SSYMS7eJrHEM9eA1A0S4FEQ8=</td><td>2024-01-13</td><td>27.79</td><td>873</td><td>CUST020</td><td>ORD1872</td><td>false</td><td>2025-07-11T12:48:46.676Z</td></tr><tr><td>yPAxvdhSuiqxlGIvprGYmLT4LoE=</td><td>2024-04-22</td><td>128.43</td><td>306</td><td>CUST116</td><td>ORD1305</td><td>false</td><td>2025-07-11T12:48:46.708Z</td></tr><tr><td>sLgr94voACWRkChvIeXwTebSZN0=</td><td>2024-05-21</td><td>64.67</td><td>575</td><td>CUST195</td><td>ORD1574</td><td>false</td><td>2025-07-11T12:48:46.716Z</td></tr><tr><td>qQokuxXduE8r28YajROBiQC0DwY=</td><td>2024-02-18</td><td>145.58</td><td>614</td><td>CUST093</td><td>ORD1613</td><td>false</td><td>2025-07-11T12:48:46.703Z</td></tr><tr><td>a9k3tbgCWUHZ44KCkn1H0MJo/7Y=</td><td>2024-04-14</td><td>260.82</td><td>28</td><td>CUST012</td><td>ORD1027</td><td>false</td><td>2025-07-11T12:48:46.670Z</td></tr><tr><td>M29dA07I2W3wWSIOAvxsXvvkQo4=</td><td>2024-01-09</td><td>52.64</td><td>811</td><td>CUST054</td><td>ORD1810</td><td>false</td><td>2025-07-11T12:48:46.692Z</td></tr><tr><td>0vZpucDcx4orc7JHBYDzTydXK+U=</td><td>2024-06-24</td><td>86.09</td><td>349</td><td>CUST130</td><td>ORD1348</td><td>false</td><td>2025-07-11T12:48:46.710Z</td></tr><tr><td>On7FDcPcfSH1F8vXT9YhHnF6b58=</td><td>2024-05-06</td><td>226.59</td><td>579</td><td>CUST149</td><td>ORD1578</td><td>false</td><td>2025-07-11T12:48:46.712Z</td></tr><tr><td>g3eKra2YhPQu8m0T79fMAIHcJCY=</td><td>2024-04-11</td><td>293.54</td><td>990</td><td>CUST076</td><td>ORD1989</td><td>false</td><td>2025-07-11T12:48:46.699Z</td></tr><tr><td>ScChCHXuhqFQotpixrO9ZgXw+0w=</td><td>2024-06-01</td><td>130.27</td><td>20</td><td>CUST009</td><td>ORD1019</td><td>false</td><td>2025-07-11T12:48:46.668Z</td></tr><tr><td>Ys7yJh55xWAKhl7tSXm5NThif28=</td><td>2024-07-19</td><td>271.96</td><td>507</td><td>CUST186</td><td>ORD1506</td><td>false</td><td>2025-07-11T12:48:46.715Z</td></tr><tr><td>GQw6vyj41mHUbijQaYm4i1b1SaY=</td><td>2024-05-31</td><td>143.88</td><td>17</td><td>CUST008</td><td>ORD1016</td><td>false</td><td>2025-07-11T12:48:46.668Z</td></tr><tr><td>e2RRJ+nwjV3XRK8q3Fsd0GJuguo=</td><td>2024-07-18</td><td>19.91</td><td>402</td><td>CUST147</td><td>ORD1401</td><td>false</td><td>2025-07-11T12:48:46.712Z</td></tr><tr><td>mBMLTEPk8o6M4pT/ZlhiTwlnJgU=</td><td>2024-03-26</td><td>264.24</td><td>868</td><td>CUST073</td><td>ORD1867</td><td>false</td><td>2025-07-11T12:48:46.698Z</td></tr><tr><td>eSkFkWLKTtgkj1yL+FImx+JBm5k=</td><td>2024-07-07</td><td>68.25</td><td>556</td><td>CUST010</td><td>ORD1555</td><td>false</td><td>2025-07-11T12:48:46.669Z</td></tr><tr><td>cQJ44YcxHYhxA703NP+/ZapdOQ4=</td><td>2024-02-05</td><td>207.68</td><td>946</td><td>CUST170</td><td>ORD1945</td><td>false</td><td>2025-07-11T12:48:46.714Z</td></tr><tr><td>jNOUb5HDKLfcp2GtqtFv5y+hgF4=</td><td>2024-01-20</td><td>247.43</td><td>893</td><td>CUST098</td><td>ORD1892</td><td>false</td><td>2025-07-11T12:48:46.704Z</td></tr><tr><td>jkWygBAMUCIPXTma6oeVDTLX+Nw=</td><td>2024-02-13</td><td>49.92</td><td>76</td><td>CUST033</td><td>ORD1075</td><td>false</td><td>2025-07-11T12:48:46.682Z</td></tr><tr><td>l7TP55kSYbSnxe/Lmoxa2LbzfG0=</td><td>2024-08-09</td><td>197.74</td><td>747</td><td>CUST105</td><td>ORD1746</td><td>false</td><td>2025-07-11T12:48:46.706Z</td></tr><tr><td>QGZ13dRBwnIIT3E9mxNOO2A40OY=</td><td>2024-11-25</td><td>57.95</td><td>716</td><td>CUST192</td><td>ORD1715</td><td>false</td><td>2025-07-11T12:48:46.716Z</td></tr><tr><td>UCEnw3L9aFEhYBSOYWrVUbYKzXM=</td><td>2024-04-28</td><td>56.03</td><td>218</td><td>CUST081</td><td>ORD1217</td><td>false</td><td>2025-07-11T12:48:46.700Z</td></tr><tr><td>3gZiw7uhXdcNQK9Hqb8eYbzSrn0=</td><td>2024-02-08</td><td>272.2</td><td>703</td><td>CUST110</td><td>ORD1702</td><td>false</td><td>2025-07-11T12:48:46.707Z</td></tr><tr><td>jH+u/lac5igr2u+WJKppYAOYabk=</td><td>2024-06-05</td><td>153.12</td><td>204</td><td>CUST077</td><td>ORD1203</td><td>false</td><td>2025-07-11T12:48:46.699Z</td></tr><tr><td>RlNZhex4/fKcsc3kPWFbw6Pc9A4=</td><td>2024-03-12</td><td>173.1</td><td>434</td><td>CUST160</td><td>ORD1433</td><td>false</td><td>2025-07-11T12:48:46.713Z</td></tr><tr><td>4J9jCXakORyTOfiZXQvzqGIgKcg=</td><td>2024-08-12</td><td>182.29</td><td>73</td><td>CUST031</td><td>ORD1072</td><td>false</td><td>2025-07-11T12:48:46.681Z</td></tr><tr><td>HmUpBkHou0UaAkUbXDYPGVFF8wA=</td><td>2024-05-05</td><td>23.52</td><td>798</td><td>CUST116</td><td>ORD1797</td><td>false</td><td>2025-07-11T12:48:46.708Z</td></tr><tr><td>dtRXm8Tg1kZ4ZuUqP2MdHplZi/8=</td><td>2024-04-08</td><td>77.52</td><td>829</td><td>CUST159</td><td>ORD1828</td><td>false</td><td>2025-07-11T12:48:46.713Z</td></tr><tr><td>pjKLJgeD1Y5Z6+MdP5LA1ldMgFk=</td><td>2024-10-14</td><td>184.83</td><td>957</td><td>CUST032</td><td>ORD1956</td><td>false</td><td>2025-07-11T12:48:46.682Z</td></tr><tr><td>hX3W2NADNg1ZonETY1QdrSWTRE4=</td><td>2024-10-12</td><td>135.91</td><td>3</td><td>CUST001</td><td>ORD1002</td><td>false</td><td>2025-07-11T12:48:46.662Z</td></tr><tr><td>HdPSsa1wprruwWE86fWXbuEX6S0=</td><td>2024-04-17</td><td>152.53</td><td>235</td><td>CUST088</td><td>ORD1234</td><td>false</td><td>2025-07-11T12:48:46.702Z</td></tr><tr><td>X8dwCeQ3xoNnovQlwmlSzNjU0Mw=</td><td>2024-04-25</td><td>208.42</td><td>621</td><td>CUST138</td><td>ORD1620</td><td>false</td><td>2025-07-11T12:48:46.711Z</td></tr><tr><td>Uu9p6zJt+GOnwdca93ACym/oiaI=</td><td>2024-05-12</td><td>89.6</td><td>543</td><td>CUST197</td><td>ORD1542</td><td>false</td><td>2025-07-11T12:48:46.716Z</td></tr><tr><td>pqIRWDNO5u3lZqkB54t0MgbldL8=</td><td>2024-08-02</td><td>63.78</td><td>296</td><td>CUST112</td><td>ORD1295</td><td>false</td><td>2025-07-11T12:48:46.707Z</td></tr><tr><td>6Uk0Nbkt6t2vC3ysGpNpn4zDcr0=</td><td>2024-01-02</td><td>205.79</td><td>844</td><td>CUST072</td><td>ORD1843</td><td>false</td><td>2025-07-11T12:48:46.698Z</td></tr><tr><td>3djb6YXK4Lvb28JgbUYmtoeA3Yg=</td><td>2024-03-11</td><td>59.85</td><td>49</td><td>CUST021</td><td>ORD1048</td><td>false</td><td>2025-07-11T12:48:46.677Z</td></tr><tr><td>/H6HDuEAotZ52tONrMMdsElK7M4=</td><td>2024-10-02</td><td>275.5</td><td>812</td><td>CUST069</td><td>ORD1811</td><td>false</td><td>2025-07-11T12:48:46.697Z</td></tr><tr><td>yBIOBP1fuSxh7/wWZVfEgfsAiZg=</td><td>2024-06-29</td><td>74.24</td><td>828</td><td>CUST176</td><td>ORD1827</td><td>false</td><td>2025-07-11T12:48:46.714Z</td></tr><tr><td>yIxEqNwA8b1JxxWEiW/uMGOmMuc=</td><td>2024-05-12</td><td>151.78</td><td>723</td><td>CUST180</td><td>ORD1722</td><td>false</td><td>2025-07-11T12:48:46.715Z</td></tr><tr><td>IS3B0FsmTeTlcrwmr7weNIoSMq0=</td><td>2024-04-16</td><td>87.47</td><td>823</td><td>CUST126</td><td>ORD1822</td><td>false</td><td>2025-07-11T12:48:46.710Z</td></tr><tr><td>kQ9CVLhGVs2pWJ4VprCBa1LTpDw=</td><td>2024-09-03</td><td>217.99</td><td>964</td><td>CUST050</td><td>ORD1963</td><td>false</td><td>2025-07-11T12:48:46.690Z</td></tr><tr><td>HSrSkf//YIqNAK5XFGel07g9XE8=</td><td>2024-03-29</td><td>296.32</td><td>135</td><td>CUST053</td><td>ORD1134</td><td>false</td><td>2025-07-11T12:48:46.691Z</td></tr><tr><td>wS20cF197Fr2mnwppUKBnpdZSX4=</td><td>2024-11-01</td><td>50.52</td><td>911</td><td>CUST177</td><td>ORD1910</td><td>false</td><td>2025-07-11T12:48:46.714Z</td></tr><tr><td>MrrJrB4i1pmEWxEbK1csN4x2f94=</td><td>2024-05-06</td><td>175.6</td><td>419</td><td>CUST155</td><td>ORD1418</td><td>false</td><td>2025-07-11T12:48:46.712Z</td></tr><tr><td>jns2gS2+GAiRgTCFBVugqg4K51Q=</td><td>2024-05-23</td><td>105.98</td><td>580</td><td>CUST179</td><td>ORD1579</td><td>false</td><td>2025-07-11T12:48:46.714Z</td></tr><tr><td>6jLL1HbtD2v2PBoZiXXwOrKAp4k=</td><td>2024-03-13</td><td>249.52</td><td>842</td><td>CUST187</td><td>ORD1841</td><td>false</td><td>2025-07-11T12:48:46.715Z</td></tr><tr><td>B851IZPKCTV4pIHdgXaWX9GtRas=</td><td>2024-03-21</td><td>241.55</td><td>819</td><td>CUST098</td><td>ORD1818</td><td>false</td><td>2025-07-11T12:48:46.704Z</td></tr><tr><td>M0Kefy1rfa/EuSYQWln4ahAFdLA=</td><td>2024-07-24</td><td>69.32</td><td>414</td><td>CUST152</td><td>ORD1413</td><td>false</td><td>2025-07-11T12:48:46.712Z</td></tr><tr><td>/eDJqxvfaHF0fqK5guj0qxZYbts=</td><td>2024-04-27</td><td>78.0</td><td>881</td><td>CUST093</td><td>ORD1880</td><td>false</td><td>2025-07-11T12:48:46.703Z</td></tr><tr><td>kxhpZQA+rbMv1hB1X8PkzXZYdPs=</td><td>2024-07-29</td><td>117.26</td><td>421</td><td>CUST155</td><td>ORD1420</td><td>false</td><td>2025-07-11T12:48:46.712Z</td></tr><tr><td>WmPox+ML7CQXm1C3cYC6tOEJo4k=</td><td>2024-05-26</td><td>74.15</td><td>931</td><td>CUST126</td><td>ORD1930</td><td>false</td><td>2025-07-11T12:48:46.710Z</td></tr><tr><td>1vGG+Jy6jJ3fwJRbjOZVcnxxmi8=</td><td>2024-10-18</td><td>195.46</td><td>684</td><td>CUST080</td><td>ORD1683</td><td>false</td><td>2025-07-11T12:48:46.700Z</td></tr><tr><td>QX0lRrEGyTtrebO2dFLlJ1K4Cj0=</td><td>2024-03-20</td><td>117.6</td><td>772</td><td>CUST116</td><td>ORD1771</td><td>false</td><td>2025-07-11T12:48:46.708Z</td></tr><tr><td>xTGj8OR7r9qFc7bqLmM+8HrGRbU=</td><td>2024-09-20</td><td>262.15</td><td>806</td><td>CUST058</td><td>ORD1805</td><td>false</td><td>2025-07-11T12:48:46.694Z</td></tr><tr><td>FK80WGux+tioUm01vLE4e5dP//o=</td><td>2024-02-09</td><td>257.25</td><td>760</td><td>CUST110</td><td>ORD1759</td><td>false</td><td>2025-07-11T12:48:46.707Z</td></tr><tr><td>2qNp71s22SAsYMFhxLHDbdHbOII=</td><td>2024-02-24</td><td>240.12</td><td>9</td><td>CUST004</td><td>ORD1008</td><td>false</td><td>2025-07-11T12:48:46.665Z</td></tr><tr><td>erLuvAEKcVDYie4YX0wBT5fvgw0=</td><td>2024-04-10</td><td>167.9</td><td>295</td><td>CUST112</td><td>ORD1294</td><td>false</td><td>2025-07-11T12:48:46.707Z</td></tr><tr><td>2ozuX2nYJpEJVMPz1SQ8wykmUN0=</td><td>2024-06-19</td><td>45.76</td><td>489</td><td>CUST180</td><td>ORD1488</td><td>false</td><td>2025-07-11T12:48:46.715Z</td></tr><tr><td>97T/6ehRSNK489CpZDn58e1Ym+o=</td><td>2024-01-23</td><td>224.92</td><td>923</td><td>CUST104</td><td>ORD1922</td><td>false</td><td>2025-07-11T12:48:46.705Z</td></tr><tr><td>cBexY2E+9z6/eYnSSX2MncSjXf8=</td><td>2024-11-23</td><td>128.21</td><td>661</td><td>CUST131</td><td>ORD1660</td><td>false</td><td>2025-07-11T12:48:46.710Z</td></tr><tr><td>FgTY9dHSk8TMJloacRKfJ63h3iI=</td><td>2024-07-13</td><td>297.22</td><td>585</td><td>CUST119</td><td>ORD1584</td><td>false</td><td>2025-07-11T12:48:46.708Z</td></tr><tr><td>3oBBcT3OQmEJQZ1j9SiDfst45XU=</td><td>2024-01-31</td><td>67.23</td><td>310</td><td>CUST119</td><td>ORD1309</td><td>false</td><td>2025-07-11T12:48:46.708Z</td></tr><tr><td>9rfN+CbxVUwnYEYo5fd3PVB655E=</td><td>2024-08-25</td><td>62.89</td><td>714</td><td>CUST078</td><td>ORD1713</td><td>false</td><td>2025-07-11T12:48:46.699Z</td></tr><tr><td>za68lV7MBn6I60nr0kx3Da2pLRI=</td><td>2024-03-07</td><td>64.81</td><td>942</td><td>CUST024</td><td>ORD1941</td><td>false</td><td>2025-07-11T12:48:46.678Z</td></tr><tr><td>CkNeymIr+f2dz3FxioB5P6M0/sQ=</td><td>2024-04-27</td><td>55.19</td><td>966</td><td>CUST191</td><td>ORD1965</td><td>false</td><td>2025-07-11T12:48:46.716Z</td></tr><tr><td>2qDALppG6+jLP9F2MK9HQVTOSas=</td><td>2024-01-15</td><td>183.17</td><td>992</td><td>CUST063</td><td>ORD1991</td><td>false</td><td>2025-07-11T12:48:46.695Z</td></tr><tr><td>TsKTsS76MKSDq69YSRaaDswaeh4=</td><td>2024-05-25</td><td>80.48</td><td>411</td><td>CUST151</td><td>ORD1410</td><td>false</td><td>2025-07-11T12:48:46.712Z</td></tr><tr><td>C5VPsSit6jEUTMPEmgCGZIAPd8I=</td><td>2024-06-12</td><td>83.34</td><td>522</td><td>CUST191</td><td>ORD1521</td><td>false</td><td>2025-07-11T12:48:46.716Z</td></tr><tr><td>05T7Kstq2q47wcBmW+vTXLUtk/c=</td><td>2024-05-24</td><td>229.96</td><td>832</td><td>CUST078</td><td>ORD1831</td><td>false</td><td>2025-07-11T12:48:46.699Z</td></tr><tr><td>ydHn+64kadwbNZVrd2alKLy/DrI=</td><td>2024-06-15</td><td>285.24</td><td>420</td><td>CUST155</td><td>ORD1419</td><td>false</td><td>2025-07-11T12:48:46.712Z</td></tr><tr><td>AEz6WTVCChpfeVflLFhiA7sgLUQ=</td><td>2024-10-19</td><td>156.49</td><td>862</td><td>CUST062</td><td>ORD1861</td><td>false</td><td>2025-07-11T12:48:46.695Z</td></tr><tr><td>IJMsWVcTMRMBjbiQ/He7ep8n95E=</td><td>2024-05-24</td><td>43.98</td><td>488</td><td>CUST180</td><td>ORD1487</td><td>false</td><td>2025-07-11T12:48:46.715Z</td></tr><tr><td>PtUvx0N8Jh56tpjfAb99sp0fbps=</td><td>2024-04-26</td><td>201.22</td><td>153</td><td>CUST059</td><td>ORD1152</td><td>false</td><td>2025-07-11T12:48:46.694Z</td></tr><tr><td>kGWUQYVcBkqf4DA9hdmzMbo39DA=</td><td>2024-10-18</td><td>151.61</td><td>200</td><td>CUST075</td><td>ORD1199</td><td>false</td><td>2025-07-11T12:48:46.698Z</td></tr><tr><td>X7Aw0vlhomWqJJWI5vd7v6UoIkQ=</td><td>2024-07-08</td><td>59.7</td><td>903</td><td>CUST019</td><td>ORD1902</td><td>false</td><td>2025-07-11T12:48:46.676Z</td></tr><tr><td>9vNKxdrvKyn5EHj86k13uFiJBUw=</td><td>2024-06-16</td><td>13.27</td><td>100</td><td>CUST041</td><td>ORD1099</td><td>false</td><td>2025-07-11T12:48:46.686Z</td></tr><tr><td>Lyq9qn8zoB8m83K4KzPhAeSWMDw=</td><td>2024-05-08</td><td>152.34</td><td>154</td><td>CUST059</td><td>ORD1153</td><td>false</td><td>2025-07-11T12:48:46.694Z</td></tr><tr><td>hxZ3k1nb8v19sRjvStVR8yALcEY=</td><td>2024-08-30</td><td>292.28</td><td>783</td><td>CUST044</td><td>ORD1782</td><td>false</td><td>2025-07-11T12:48:46.687Z</td></tr><tr><td>VDTIHzMMZCD/HSizto5v9hK5RM0=</td><td>2024-04-20</td><td>97.96</td><td>965</td><td>CUST048</td><td>ORD1964</td><td>false</td><td>2025-07-11T12:48:46.689Z</td></tr><tr><td>ew5eKC7KuEtMK/6NxRyCunV/q3g=</td><td>2024-10-12</td><td>87.83</td><td>633</td><td>CUST157</td><td>ORD1632</td><td>false</td><td>2025-07-11T12:48:46.713Z</td></tr><tr><td>mMWetvFRTdeiRD7rklG9FEjwm64=</td><td>2024-07-15</td><td>187.71</td><td>121</td><td>CUST048</td><td>ORD1120</td><td>false</td><td>2025-07-11T12:48:46.689Z</td></tr><tr><td>b2ao8G5UyUxximjhj+Hx/+JsPmk=</td><td>2024-05-02</td><td>105.17</td><td>40</td><td>CUST018</td><td>ORD1039</td><td>false</td><td>2025-07-11T12:48:46.673Z</td></tr><tr><td>pWzA+faOq0qlua1IdVEtw5sU/vY=</td><td>2024-03-16</td><td>220.56</td><td>619</td><td>CUST005</td><td>ORD1618</td><td>false</td><td>2025-07-11T12:48:46.666Z</td></tr><tr><td>/p1zUlfwO6oBkTIKo8vq8GQC97U=</td><td>2024-06-06</td><td>271.88</td><td>890</td><td>CUST057</td><td>ORD1889</td><td>false</td><td>2025-07-11T12:48:46.693Z</td></tr><tr><td>AXLCX7/kcE3YMxK1xDEns3Nt2AQ=</td><td>2024-10-20</td><td>127.13</td><td>587</td><td>CUST048</td><td>ORD1586</td><td>false</td><td>2025-07-11T12:48:46.689Z</td></tr><tr><td>1YLdNHRLngBjbyBs58sBA4Ue+wk=</td><td>2024-05-04</td><td>63.69</td><td>299</td><td>CUST113</td><td>ORD1298</td><td>false</td><td>2025-07-11T12:48:46.707Z</td></tr><tr><td>Dt2d1EjMUElUntqx7WQiJjU9BT8=</td><td>2024-08-16</td><td>295.3</td><td>523</td><td>CUST191</td><td>ORD1522</td><td>false</td><td>2025-07-11T12:48:46.716Z</td></tr><tr><td>YHFOplkmbCpLPT31MeB+iXFqXXQ=</td><td>2024-02-07</td><td>41.84</td><td>905</td><td>CUST189</td><td>ORD1904</td><td>false</td><td>2025-07-11T12:48:46.716Z</td></tr><tr><td>dj8sWbEkA6GOS+Kp/tgLhlTbq2A=</td><td>2024-08-08</td><td>220.15</td><td>85</td><td>CUST035</td><td>ORD1084</td><td>false</td><td>2025-07-11T12:48:46.683Z</td></tr><tr><td>nm9YKn4ofduRk/8GFVA6tlJgBa4=</td><td>2024-04-30</td><td>47.28</td><td>440</td><td>CUST163</td><td>ORD1439</td><td>false</td><td>2025-07-11T12:48:46.713Z</td></tr><tr><td>cnCtMul2WPG3TCCGnJ5lb45GpZ0=</td><td>2024-06-03</td><td>147.85</td><td>457</td><td>CUST168</td><td>ORD1456</td><td>false</td><td>2025-07-11T12:48:46.713Z</td></tr><tr><td>u1U3MaT6BpyEJWNlZbQVQXCJKfw=</td><td>2024-07-13</td><td>218.79</td><td>724</td><td>CUST041</td><td>ORD1723</td><td>false</td><td>2025-07-11T12:48:46.686Z</td></tr><tr><td>rQZrh3JDXQrEUfjCqlJ1vREoEZ0=</td><td>2024-08-31</td><td>122.12</td><td>209</td><td>CUST078</td><td>ORD1208</td><td>false</td><td>2025-07-11T12:48:46.699Z</td></tr><tr><td>x/bt9NOM7t5aP5XFDAPGaPvKsh0=</td><td>2024-08-12</td><td>121.28</td><td>151</td><td>CUST058</td><td>ORD1150</td><td>false</td><td>2025-07-11T12:48:46.694Z</td></tr><tr><td>Fx2uWVJa59iT0ZMU/f8/zkkC/lk=</td><td>2024-07-30</td><td>241.74</td><td>710</td><td>CUST147</td><td>ORD1709</td><td>false</td><td>2025-07-11T12:48:46.712Z</td></tr><tr><td>TIokd/YyX2FOUpo9PFVEIzQn7NQ=</td><td>2024-03-31</td><td>237.31</td><td>785</td><td>CUST004</td><td>ORD1784</td><td>false</td><td>2025-07-11T12:48:46.665Z</td></tr><tr><td>exEMCDneKw1ptNBm2nwi/dgtIGs=</td><td>2024-03-09</td><td>273.78</td><td>987</td><td>CUST055</td><td>ORD1986</td><td>false</td><td>2025-07-11T12:48:46.692Z</td></tr><tr><td>b3ZkH8tO46h0Hrhj+TPYWlN6CD8=</td><td>2024-01-14</td><td>140.0</td><td>201</td><td>CUST076</td><td>ORD1200</td><td>false</td><td>2025-07-11T12:48:46.699Z</td></tr><tr><td>fS6ybrJJkM1Od13LeOECMTaje+s=</td><td>2024-07-25</td><td>92.71</td><td>883</td><td>CUST114</td><td>ORD1882</td><td>false</td><td>2025-07-11T12:48:46.708Z</td></tr><tr><td>pu8kuzgOuSuDDPL3xdhrNG2pqLk=</td><td>2024-09-30</td><td>283.5</td><td>815</td><td>CUST199</td><td>ORD1814</td><td>false</td><td>2025-07-11T12:48:46.717Z</td></tr><tr><td>BlbW6q4VfCwg2tIG7FZPYbh6ubY=</td><td>2024-01-06</td><td>267.01</td><td>830</td><td>CUST188</td><td>ORD1829</td><td>false</td><td>2025-07-11T12:48:46.716Z</td></tr><tr><td>dOvbXITrAjrw4EjElCFGu8wFLic=</td><td>2024-06-14</td><td>44.11</td><td>562</td><td>CUST037</td><td>ORD1561</td><td>false</td><td>2025-07-11T12:48:46.684Z</td></tr><tr><td>98rF5gul25GTC+qAJDNjMmEFuhM=</td><td>2024-05-16</td><td>78.77</td><td>143</td><td>CUST056</td><td>ORD1142</td><td>false</td><td>2025-07-11T12:48:46.692Z</td></tr><tr><td>fclritQM9mj43w3BWYQReuI/X2A=</td><td>2024-04-08</td><td>10.52</td><td>535</td><td>CUST195</td><td>ORD1534</td><td>false</td><td>2025-07-11T12:48:46.716Z</td></tr><tr><td>xNCNjAxoApzpO1kFWkkzQDG8pow=</td><td>2024-07-10</td><td>236.43</td><td>675</td><td>CUST076</td><td>ORD1674</td><td>false</td><td>2025-07-11T12:48:46.699Z</td></tr><tr><td>Zz6/hONRdeFgx17JlcJpgpNjPBs=</td><td>2024-06-23</td><td>24.51</td><td>770</td><td>CUST027</td><td>ORD1769</td><td>false</td><td>2025-07-11T12:48:46.679Z</td></tr><tr><td>D38dJBUeWdBR9HYViBnRlinOLzY=</td><td>2024-06-29</td><td>154.28</td><td>860</td><td>CUST056</td><td>ORD1859</td><td>false</td><td>2025-07-11T12:48:46.693Z</td></tr><tr><td>ZqNG2EZSZqXbJ/q19CxFQ7XidOw=</td><td>2024-10-11</td><td>100.65</td><td>52</td><td>CUST022</td><td>ORD1051</td><td>false</td><td>2025-07-11T12:48:46.677Z</td></tr><tr><td>mfzfQhFn+a7AmYDgm1xuDPmbsFI=</td><td>2024-01-07</td><td>123.25</td><td>438</td><td>CUST162</td><td>ORD1437</td><td>false</td><td>2025-07-11T12:48:46.713Z</td></tr><tr><td>EDQbJ1unef3vjOQo11vDOGYgwoY=</td><td>2024-09-16</td><td>88.62</td><td>133</td><td>CUST052</td><td>ORD1132</td><td>false</td><td>2025-07-11T12:48:46.691Z</td></tr><tr><td>xi/cZVBEP8auY+aqqiLHYy1nWaY=</td><td>2024-07-24</td><td>123.67</td><td>611</td><td>CUST178</td><td>ORD1610</td><td>false</td><td>2025-07-11T12:48:46.714Z</td></tr><tr><td>xXDLA1Kx5LY3Ll8t3N+FFCqZ1ek=</td><td>2024-01-27</td><td>93.1</td><td>70</td><td>CUST030</td><td>ORD1069</td><td>false</td><td>2025-07-11T12:48:46.681Z</td></tr><tr><td>YTE9w7VgN53RzXtLIScHZCU8Gns=</td><td>2024-04-24</td><td>266.81</td><td>181</td><td>CUST068</td><td>ORD1180</td><td>false</td><td>2025-07-11T12:48:46.696Z</td></tr><tr><td>9ctO4D7dzLDpDGfB9ktZaA6K2j4=</td><td>2024-04-04</td><td>50.81</td><td>184</td><td>CUST070</td><td>ORD1183</td><td>false</td><td>2025-07-11T12:48:46.697Z</td></tr><tr><td>Gm5zvXrmWjdoGZPKmNU39EteFSc=</td><td>2024-05-26</td><td>222.63</td><td>979</td><td>CUST161</td><td>ORD1978</td><td>false</td><td>2025-07-11T12:48:46.713Z</td></tr><tr><td>pBLTJ9m36PCNzQmgUjFjXC22980=</td><td>2024-03-16</td><td>274.07</td><td>22</td><td>CUST010</td><td>ORD1021</td><td>false</td><td>2025-07-11T12:48:46.669Z</td></tr><tr><td>Wr+GAzeoLEWkEpOaaBqbri1ixB4=</td><td>2024-02-05</td><td>66.87</td><td>473</td><td>CUST174</td><td>ORD1472</td><td>false</td><td>2025-07-11T12:48:46.714Z</td></tr><tr><td>5eTHUD76YuEwNibn9b5AYOqnczU=</td><td>2024-01-21</td><td>218.22</td><td>761</td><td>CUST198</td><td>ORD1760</td><td>false</td><td>2025-07-11T12:48:46.716Z</td></tr><tr><td>RkPeKS4vdDabmHDA+zH4UDE8cuQ=</td><td>2024-01-03</td><td>223.47</td><td>236</td><td>CUST089</td><td>ORD1235</td><td>false</td><td>2025-07-11T12:48:46.702Z</td></tr><tr><td>S79sxIsIoH7cOkw/VL4hta+2wSg=</td><td>2024-08-24</td><td>79.48</td><td>919</td><td>CUST097</td><td>ORD1918</td><td>false</td><td>2025-07-11T12:48:46.703Z</td></tr><tr><td>61InHgmkXVRCZQ+t83oOGxFfB9w=</td><td>2024-08-06</td><td>11.85</td><td>42</td><td>CUST018</td><td>ORD1041</td><td>false</td><td>2025-07-11T12:48:46.674Z</td></tr><tr><td>p/o/SQ37mZ/bkwg9ciyRiH4/CmQ=</td><td>2024-06-02</td><td>249.66</td><td>108</td><td>CUST044</td><td>ORD1107</td><td>false</td><td>2025-07-11T12:48:46.687Z</td></tr><tr><td>UYpuj4yadB+KAbtvE/pQn9ZX51I=</td><td>2024-04-18</td><td>293.15</td><td>80</td><td>CUST034</td><td>ORD1079</td><td>false</td><td>2025-07-11T12:48:46.683Z</td></tr><tr><td>ZPHK7n8QTyikQ1ngb4Vpx2oPX6U=</td><td>2024-07-21</td><td>160.21</td><td>173</td><td>CUST066</td><td>ORD1172</td><td>false</td><td>2025-07-11T12:48:46.696Z</td></tr><tr><td>vHz9nUUkUuRrx1aqcItZPEKx13U=</td><td>2024-09-11</td><td>133.46</td><td>262</td><td>CUST099</td><td>ORD1261</td><td>false</td><td>2025-07-11T12:48:46.704Z</td></tr><tr><td>NTLFJ0bU0SQVipRztYFdprzoR9s=</td><td>2024-06-23</td><td>19.1</td><td>655</td><td>CUST013</td><td>ORD1654</td><td>false</td><td>2025-07-11T12:48:46.671Z</td></tr><tr><td>2Zi5SoJy0howYqRY3BNY5Pre/Jo=</td><td>2024-06-16</td><td>259.66</td><td>283</td><td>CUST108</td><td>ORD1282</td><td>false</td><td>2025-07-11T12:48:46.706Z</td></tr><tr><td>13/Ov52gwmxcigzJrDP7Xt7r70A=</td><td>2024-05-03</td><td>143.94</td><td>885</td><td>CUST092</td><td>ORD1884</td><td>false</td><td>2025-07-11T12:48:46.702Z</td></tr><tr><td>3dnIdObwyM0rn2G9CITgn3VaPS0=</td><td>2024-06-21</td><td>232.12</td><td>314</td><td>CUST120</td><td>ORD1313</td><td>false</td><td>2025-07-11T12:48:46.708Z</td></tr><tr><td>BufKPTRE0vW9Nfq6Y7LJpkmVJQ4=</td><td>2024-03-20</td><td>23.93</td><td>263</td><td>CUST100</td><td>ORD1262</td><td>false</td><td>2025-07-11T12:48:46.704Z</td></tr><tr><td>2T7KNGAQqvF8pRZ08pOwc6N+ROc=</td><td>2024-03-25</td><td>89.6</td><td>583</td><td>CUST144</td><td>ORD1582</td><td>false</td><td>2025-07-11T12:48:46.711Z</td></tr><tr><td>17NAg/YA91ByK0j5YimpHw29vCc=</td><td>2024-05-23</td><td>247.06</td><td>478</td><td>CUST176</td><td>ORD1477</td><td>false</td><td>2025-07-11T12:48:46.714Z</td></tr><tr><td>05oH99B0P7oq7QJLauJ7aKe+c5U=</td><td>2024-04-07</td><td>243.53</td><td>790</td><td>CUST083</td><td>ORD1789</td><td>false</td><td>2025-07-11T12:48:46.701Z</td></tr><tr><td>8GkpZhxsFQ5BAEUQJEw3DLnkua0=</td><td>2024-06-03</td><td>226.29</td><td>182</td><td>CUST069</td><td>ORD1181</td><td>false</td><td>2025-07-11T12:48:46.697Z</td></tr><tr><td>xIunm2y+ZPsmLSheFhDv7EMXwQ4=</td><td>2024-08-15</td><td>205.4</td><td>198</td><td>CUST075</td><td>ORD1197</td><td>false</td><td>2025-07-11T12:48:46.698Z</td></tr><tr><td>AhBQ5wlGdvxC2kC+IjS/2qznX0I=</td><td>2024-05-26</td><td>162.7</td><td>211</td><td>CUST079</td><td>ORD1210</td><td>false</td><td>2025-07-11T12:48:46.700Z</td></tr><tr><td>iaMXDefGYUysWpGLCZFKzmlkLr0=</td><td>2024-02-22</td><td>45.49</td><td>818</td><td>CUST111</td><td>ORD1817</td><td>false</td><td>2025-07-11T12:48:46.707Z</td></tr><tr><td>RC6NOokur8bax2wGK/1nL/AlJMY=</td><td>2024-07-03</td><td>136.58</td><td>186</td><td>CUST070</td><td>ORD1185</td><td>false</td><td>2025-07-11T12:48:46.697Z</td></tr><tr><td>agC0bEz6ljqGNZg/AMXWvpwdgcA=</td><td>2024-04-21</td><td>66.56</td><td>417</td><td>CUST154</td><td>ORD1416</td><td>false</td><td>2025-07-11T12:48:46.712Z</td></tr><tr><td>1WtUFCPL4mpc1F61ddDnj5pPRX8=</td><td>2024-01-21</td><td>53.07</td><td>462</td><td>CUST170</td><td>ORD1461</td><td>false</td><td>2025-07-11T12:48:46.714Z</td></tr><tr><td>1nz6ZYcIKRYpSzKI6YntM4atnbQ=</td><td>2024-02-03</td><td>258.96</td><td>870</td><td>CUST186</td><td>ORD1869</td><td>false</td><td>2025-07-11T12:48:46.715Z</td></tr><tr><td>u0Jl2r/5x6LUBzDMtImj7bHFwEM=</td><td>2024-01-24</td><td>225.34</td><td>525</td><td>CUST192</td><td>ORD1524</td><td>false</td><td>2025-07-11T12:48:46.716Z</td></tr><tr><td>6oyVS8/YfaNcSu8NnVDEKa0YABs=</td><td>2024-05-03</td><td>287.19</td><td>696</td><td>CUST132</td><td>ORD1695</td><td>false</td><td>2025-07-11T12:48:46.710Z</td></tr><tr><td>DUWWUCfFKg2rT8JoeGCL0rj5aFA=</td><td>2024-02-20</td><td>84.06</td><td>480</td><td>CUST177</td><td>ORD1479</td><td>false</td><td>2025-07-11T12:48:46.714Z</td></tr><tr><td>1aY9eCjy+/ZQ0YXHWlHlEIhb8N8=</td><td>2024-03-11</td><td>187.96</td><td>36</td><td>CUST016</td><td>ORD1035</td><td>false</td><td>2025-07-11T12:48:46.673Z</td></tr><tr><td>vUOmjLf7Ycwg86vLVgIUJnEdkCg=</td><td>2024-10-13</td><td>45.76</td><td>698</td><td>CUST184</td><td>ORD1697</td><td>false</td><td>2025-07-11T12:48:46.715Z</td></tr><tr><td>2MNE+c687e7Fdc/i6ovcOVQ2xxM=</td><td>2024-08-25</td><td>254.53</td><td>512</td><td>CUST188</td><td>ORD1511</td><td>false</td><td>2025-07-11T12:48:46.715Z</td></tr><tr><td>z0rKbPoXinkGDNI+j5P+1SBc3aY=</td><td>2024-05-15</td><td>143.74</td><td>81</td><td>CUST034</td><td>ORD1080</td><td>false</td><td>2025-07-11T12:48:46.683Z</td></tr><tr><td>juKJvnAXxI/P42+3HhQrrHYvK1M=</td><td>2024-02-06</td><td>160.82</td><td>126</td><td>CUST050</td><td>ORD1125</td><td>false</td><td>2025-07-11T12:48:46.690Z</td></tr><tr><td>jq5S+TRBKRo5YUa25wVKA0aFBeE=</td><td>2024-05-02</td><td>15.53</td><td>87</td><td>CUST036</td><td>ORD1086</td><td>false</td><td>2025-07-11T12:48:46.684Z</td></tr><tr><td>Rmb+B8Inpug8ASqKm7RWaupeLdo=</td><td>2024-08-14</td><td>15.25</td><td>479</td><td>CUST176</td><td>ORD1478</td><td>false</td><td>2025-07-11T12:48:46.714Z</td></tr><tr><td>AtJacO6KrZ64rVkuuQRCx87SqR4=</td><td>2024-02-04</td><td>110.39</td><td>486</td><td>CUST179</td><td>ORD1485</td><td>false</td><td>2025-07-11T12:48:46.714Z</td></tr><tr><td>CmcKbVZ3dQa/hM3AjO1RC+KrwBA=</td><td>2024-06-26</td><td>162.05</td><td>408</td><td>CUST150</td><td>ORD1407</td><td>false</td><td>2025-07-11T12:48:46.712Z</td></tr><tr><td>y0un7IIoBOVmppvZRylW3mHM/0c=</td><td>2024-12-08</td><td>224.51</td><td>738</td><td>CUST050</td><td>ORD1737</td><td>false</td><td>2025-07-11T12:48:46.690Z</td></tr><tr><td>yK71nLqhg317nUXGrC0pIuzd3BE=</td><td>2024-07-17</td><td>295.35</td><td>101</td><td>CUST041</td><td>ORD1100</td><td>false</td><td>2025-07-11T12:48:46.686Z</td></tr><tr><td>CD71MsZnqaV0zHCyoT/0fvdLrMc=</td><td>2024-05-12</td><td>80.89</td><td>45</td><td>CUST019</td><td>ORD1044</td><td>false</td><td>2025-07-11T12:48:46.675Z</td></tr><tr><td>c0LtdpHJzEOkxKmW8QMqm+TwruA=</td><td>2024-06-20</td><td>128.25</td><td>423</td><td>CUST156</td><td>ORD1422</td><td>false</td><td>2025-07-11T12:48:46.713Z</td></tr><tr><td>AHDsgoN/AUGNSNmJdp4pOYoi4Hs=</td><td>2024-10-07</td><td>171.87</td><td>711</td><td>CUST108</td><td>ORD1710</td><td>false</td><td>2025-07-11T12:48:46.706Z</td></tr><tr><td>E0PyHK0ZVxEmKXJ6Z9ihXTz8X9s=</td><td>2024-03-09</td><td>204.11</td><td>576</td><td>CUST162</td><td>ORD1575</td><td>false</td><td>2025-07-11T12:48:46.713Z</td></tr><tr><td>BpjZ2pUl1eIrDQVzoYMRVOxtepA=</td><td>2024-03-09</td><td>257.82</td><td>662</td><td>CUST098</td><td>ORD1661</td><td>false</td><td>2025-07-11T12:48:46.703Z</td></tr><tr><td>/tVJwoklOG9M7amjM6XK00+KsL4=</td><td>2024-07-11</td><td>75.49</td><td>677</td><td>CUST039</td><td>ORD1676</td><td>false</td><td>2025-07-11T12:48:46.685Z</td></tr><tr><td>cjbR5yg12zFF0WFn8n6yi5q1XyE=</td><td>2024-06-26</td><td>94.89</td><td>74</td><td>CUST032</td><td>ORD1073</td><td>false</td><td>2025-07-11T12:48:46.681Z</td></tr><tr><td>w7amHP/bhRJRQKBAEVCA05A/wy0=</td><td>2024-03-30</td><td>92.32</td><td>302</td><td>CUST114</td><td>ORD1301</td><td>false</td><td>2025-07-11T12:48:46.708Z</td></tr><tr><td>w09BzfHC5tDYadZ7wa4z0+DHmdc=</td><td>2024-07-11</td><td>25.57</td><td>734</td><td>CUST160</td><td>ORD1733</td><td>false</td><td>2025-07-11T12:48:46.713Z</td></tr><tr><td>ODMQRYgcFmP2i+ht54+Pzbvnbxs=</td><td>2024-04-15</td><td>34.28</td><td>185</td><td>CUST070</td><td>ORD1184</td><td>false</td><td>2025-07-11T12:48:46.697Z</td></tr><tr><td>FNCKXhpyAmOmHBdMyf7WJIYy6Dc=</td><td>2024-02-01</td><td>207.91</td><td>609</td><td>CUST150</td><td>ORD1608</td><td>false</td><td>2025-07-11T12:48:46.712Z</td></tr><tr><td>/34brLFVgk4kV7WO8ZYtDI8HgvY=</td><td>2024-05-12</td><td>270.76</td><td>214</td><td>CUST080</td><td>ORD1213</td><td>false</td><td>2025-07-11T12:48:46.700Z</td></tr><tr><td>WkTv6TviLlO/mSi3hHWLz7NAVvo=</td><td>2024-09-28</td><td>64.16</td><td>499</td><td>CUST183</td><td>ORD1498</td><td>false</td><td>2025-07-11T12:48:46.715Z</td></tr><tr><td>yLzuD+m5MtJNMQDPeS4L+w11vAs=</td><td>2024-04-29</td><td>124.6</td><td>426</td><td>CUST157</td><td>ORD1425</td><td>false</td><td>2025-07-11T12:48:46.713Z</td></tr><tr><td>58d+vdHW2xjH/ZAtMDkZOwHaiWU=</td><td>2024-05-13</td><td>44.98</td><td>671</td><td>CUST032</td><td>ORD1670</td><td>false</td><td>2025-07-11T12:48:46.682Z</td></tr><tr><td>b56gvtsSlXXQfwvYHCvq9lvKwow=</td><td>2024-01-03</td><td>247.17</td><td>739</td><td>CUST157</td><td>ORD1738</td><td>false</td><td>2025-07-11T12:48:46.713Z</td></tr><tr><td>o7GN5ziP2TfJ3q9Y2LO6qsNY2T8=</td><td>2024-02-27</td><td>163.78</td><td>127</td><td>CUST050</td><td>ORD1126</td><td>false</td><td>2025-07-11T12:48:46.690Z</td></tr><tr><td>UHy1GlYe9+HQ7OvuBxXTXNyVtZs=</td><td>2024-04-01</td><td>231.73</td><td>820</td><td>CUST182</td><td>ORD1819</td><td>false</td><td>2025-07-11T12:48:46.715Z</td></tr><tr><td>ouRAPmrCm43AkDavFW0xDDVr2gA=</td><td>2024-06-29</td><td>64.94</td><td>509</td><td>CUST187</td><td>ORD1508</td><td>false</td><td>2025-07-11T12:48:46.715Z</td></tr><tr><td>PGici6xfO1sXEqn/VWv8ThsEPJU=</td><td>2024-08-27</td><td>49.49</td><td>753</td><td>CUST103</td><td>ORD1752</td><td>false</td><td>2025-07-11T12:48:46.705Z</td></tr><tr><td>LMFDF6roCpuGtHjXVZcW2laoeyw=</td><td>2024-02-06</td><td>113.42</td><td>755</td><td>CUST153</td><td>ORD1754</td><td>false</td><td>2025-07-11T12:48:46.712Z</td></tr><tr><td>XcvWV/+qgjdIKRxJX5poxChXWu4=</td><td>2024-11-23</td><td>49.65</td><td>589</td><td>CUST125</td><td>ORD1588</td><td>false</td><td>2025-07-11T12:48:46.709Z</td></tr><tr><td>/6dAy07agio2wCMSiqIDllUfpOM=</td><td>2024-04-03</td><td>34.27</td><td>25</td><td>CUST011</td><td>ORD1024</td><td>false</td><td>2025-07-11T12:48:46.669Z</td></tr><tr><td>ZHihCWHheKDzL2i3MSTeI2hjSH4=</td><td>2024-06-22</td><td>262.11</td><td>342</td><td>CUST128</td><td>ORD1341</td><td>false</td><td>2025-07-11T12:48:46.710Z</td></tr><tr><td>KQgkXL8d4PkOKPe2Kuhl+cmwy20=</td><td>2024-05-05</td><td>228.97</td><td>264</td><td>CUST100</td><td>ORD1263</td><td>false</td><td>2025-07-11T12:48:46.704Z</td></tr><tr><td>NryS7D2a2H/g6MISc8WgCw4mzX8=</td><td>2024-04-23</td><td>27.49</td><td>496</td><td>CUST183</td><td>ORD1495</td><td>false</td><td>2025-07-11T12:48:46.715Z</td></tr><tr><td>6bqcioztBWQm4y6WHMb/lr75kIM=</td><td>2024-12-06</td><td>150.57</td><td>850</td><td>CUST077</td><td>ORD1849</td><td>false</td><td>2025-07-11T12:48:46.699Z</td></tr><tr><td>bNTEWJobTKIaETpDicHGl5u34TA=</td><td>2024-06-05</td><td>292.35</td><td>375</td><td>CUST138</td><td>ORD1374</td><td>false</td><td>2025-07-11T12:48:46.711Z</td></tr><tr><td>m1Mr7Sy158zdExDEWs5kmyy+U/o=</td><td>2024-08-30</td><td>58.78</td><td>700</td><td>CUST048</td><td>ORD1699</td><td>false</td><td>2025-07-11T12:48:46.689Z</td></tr><tr><td>7jaY9TYYzOkQWqPl3DoV3IEAoLQ=</td><td>2024-01-25</td><td>286.14</td><td>695</td><td>CUST087</td><td>ORD1694</td><td>false</td><td>2025-07-11T12:48:46.702Z</td></tr><tr><td>CHOkhUM+aZXH2953WOdPEHNdkmU=</td><td>2024-05-03</td><td>73.11</td><td>161</td><td>CUST062</td><td>ORD1160</td><td>false</td><td>2025-07-11T12:48:46.695Z</td></tr><tr><td>KOkMz3WIi6La6KskoRw6f0hfnGo=</td><td>2024-07-10</td><td>237.89</td><td>699</td><td>CUST021</td><td>ORD1698</td><td>false</td><td>2025-07-11T12:48:46.677Z</td></tr><tr><td>fVIT8loD9SnP0Cys8dTYNAuqok0=</td><td>2024-05-27</td><td>12.17</td><td>312</td><td>CUST119</td><td>ORD1311</td><td>false</td><td>2025-07-11T12:48:46.708Z</td></tr><tr><td>y62pH9Xt1lgTTpkVRdodTXOyn1c=</td><td>2024-07-12</td><td>290.51</td><td>705</td><td>CUST117</td><td>ORD1704</td><td>false</td><td>2025-07-11T12:48:46.708Z</td></tr><tr><td>YNOz61Iu4qiF91mYrsg4RvrSmwY=</td><td>2024-10-24</td><td>273.89</td><td>789</td><td>CUST177</td><td>ORD1788</td><td>false</td><td>2025-07-11T12:48:46.714Z</td></tr><tr><td>3YCihFmhmfIexkbJLhpGzJoBWnc=</td><td>2024-04-14</td><td>92.91</td><td>506</td><td>CUST186</td><td>ORD1505</td><td>false</td><td>2025-07-11T12:48:46.715Z</td></tr><tr><td>anKUP5i6FaUkNR1mpcPP8xvlyFw=</td><td>2024-08-05</td><td>252.53</td><td>466</td><td>CUST171</td><td>ORD1465</td><td>false</td><td>2025-07-11T12:48:46.714Z</td></tr><tr><td>WV7LA08xy41B61GWjepOz4ot4rM=</td><td>2024-02-03</td><td>226.29</td><td>840</td><td>CUST166</td><td>ORD1839</td><td>false</td><td>2025-07-11T12:48:46.713Z</td></tr><tr><td>nAkx7cxdTF75zM0V96kRAXt8+no=</td><td>2024-01-26</td><td>238.28</td><td>926</td><td>CUST077</td><td>ORD1925</td><td>false</td><td>2025-07-11T12:48:46.699Z</td></tr><tr><td>IiTbXjVEJfgBmL0H+JPRiwZg2Mg=</td><td>2024-06-29</td><td>184.3</td><td>354</td><td>CUST131</td><td>ORD1353</td><td>false</td><td>2025-07-11T12:48:46.710Z</td></tr><tr><td>in3DSSjWNLQtPPR0PGwwbPBi1tc=</td><td>2024-07-26</td><td>233.84</td><td>866</td><td>CUST186</td><td>ORD1865</td><td>false</td><td>2025-07-11T12:48:46.715Z</td></tr><tr><td>82xjP6u6Ly9bE5DAsxlvDU3m/xA=</td><td>2024-05-06</td><td>229.55</td><td>680</td><td>CUST100</td><td>ORD1679</td><td>false</td><td>2025-07-11T12:48:46.704Z</td></tr><tr><td>bSQpI3fWA+UXoKo7F18Lbud96gk=</td><td>2024-05-02</td><td>116.84</td><td>768</td><td>CUST173</td><td>ORD1767</td><td>false</td><td>2025-07-11T12:48:46.714Z</td></tr><tr><td>p/+I2Bwn/vP3UvL8KFD2fyIBQRw=</td><td>2024-03-14</td><td>84.93</td><td>460</td><td>CUST169</td><td>ORD1459</td><td>false</td><td>2025-07-11T12:48:46.714Z</td></tr><tr><td>tHe+Tstml9TvHPce1TcvcukOhBw=</td><td>2024-08-02</td><td>296.43</td><td>889</td><td>CUST020</td><td>ORD1888</td><td>false</td><td>2025-07-11T12:48:46.676Z</td></tr><tr><td>zdp+o8pFr6LHu/8Xahst07JMuYg=</td><td>2024-02-06</td><td>152.45</td><td>1000</td><td>CUST043</td><td>ORD1999</td><td>false</td><td>2025-07-11T12:48:46.687Z</td></tr><tr><td>WpFwozMZ3RT8IImJE4u9kKRHyDY=</td><td>2024-08-20</td><td>105.61</td><td>555</td><td>CUST193</td><td>ORD1554</td><td>false</td><td>2025-07-11T12:48:46.716Z</td></tr><tr><td>JQlcKXnV+GNh1GkB3RBoSMkJ4kU=</td><td>2024-03-12</td><td>68.89</td><td>359</td><td>CUST133</td><td>ORD1358</td><td>false</td><td>2025-07-11T12:48:46.710Z</td></tr><tr><td>t0IFbVXIudm4us5lUbQLpxBTxCE=</td><td>2024-11-22</td><td>142.86</td><td>565</td><td>CUST081</td><td>ORD1564</td><td>false</td><td>2025-07-11T12:48:46.700Z</td></tr><tr><td>ZIRs7xepwFtrPNkpAM8cdydMksg=</td><td>2024-12-27</td><td>83.24</td><td>645</td><td>CUST099</td><td>ORD1644</td><td>false</td><td>2025-07-11T12:48:46.704Z</td></tr><tr><td>nCJ5PhXdjpgGEbXalSNFxdaVIs8=</td><td>2024-07-20</td><td>290.98</td><td>835</td><td>CUST057</td><td>ORD1834</td><td>false</td><td>2025-07-11T12:48:46.693Z</td></tr><tr><td>U0By04VRuZjzbctkZdT4Eo3/PW8=</td><td>2024-06-24</td><td>75.81</td><td>539</td><td>CUST196</td><td>ORD1538</td><td>false</td><td>2025-07-11T12:48:46.716Z</td></tr><tr><td>wMoQ6SpONp3rOA7vx2+6L+Ust40=</td><td>2024-02-09</td><td>149.59</td><td>176</td><td>CUST067</td><td>ORD1175</td><td>false</td><td>2025-07-11T12:48:46.696Z</td></tr><tr><td>yKhp1B2ZlJ6qQoO9dAnkfVOtfcU=</td><td>2024-07-10</td><td>256.21</td><td>288</td><td>CUST109</td><td>ORD1287</td><td>false</td><td>2025-07-11T12:48:46.707Z</td></tr><tr><td>JKzpZycD+9U3GtXcV4GfAN3iNB0=</td><td>2024-05-13</td><td>216.65</td><td>958</td><td>CUST118</td><td>ORD1957</td><td>false</td><td>2025-07-11T12:48:46.708Z</td></tr><tr><td>7Xgnt5nDoi/8qS/BR13vRhI7Ov0=</td><td>2024-06-26</td><td>16.79</td><td>136</td><td>CUST053</td><td>ORD1135</td><td>false</td><td>2025-07-11T12:48:46.691Z</td></tr><tr><td>0k2i+su0MD2ti7wl9PRJeEPRNo0=</td><td>2024-12-01</td><td>54.05</td><td>367</td><td>CUST135</td><td>ORD1366</td><td>false</td><td>2025-07-11T12:48:46.710Z</td></tr><tr><td>J9PhseRTBmAsNfClgkbQci9VGUM=</td><td>2024-04-17</td><td>61.11</td><td>258</td><td>CUST098</td><td>ORD1257</td><td>false</td><td>2025-07-11T12:48:46.703Z</td></tr><tr><td>jjUh1Dhd++/RnG/26dVspcUBv/w=</td><td>2024-02-14</td><td>260.81</td><td>399</td><td>CUST146</td><td>ORD1398</td><td>false</td><td>2025-07-11T12:48:46.712Z</td></tr><tr><td>Hs37cMEfKsi3zKUGg8ODqpkRdSY=</td><td>2024-03-13</td><td>206.44</td><td>277</td><td>CUST105</td><td>ORD1276</td><td>false</td><td>2025-07-11T12:48:46.705Z</td></tr><tr><td>fVeyrrdIDKKbO3TbCdzUu5plAcE=</td><td>2024-01-22</td><td>234.73</td><td>865</td><td>CUST062</td><td>ORD1864</td><td>false</td><td>2025-07-11T12:48:46.695Z</td></tr><tr><td>s5tuU3t+NaI96yECRYDfmvPXjQI=</td><td>2024-03-27</td><td>148.52</td><td>938</td><td>CUST135</td><td>ORD1937</td><td>false</td><td>2025-07-11T12:48:46.711Z</td></tr><tr><td>HOWPsS+z/dCXGiJkPi+gDSBhOmg=</td><td>2024-05-02</td><td>169.31</td><td>381</td><td>CUST140</td><td>ORD1380</td><td>false</td><td>2025-07-11T12:48:46.711Z</td></tr><tr><td>g1iFXj66t1eeS7vzqvqZHdQBFps=</td><td>2024-08-27</td><td>234.24</td><td>148</td><td>CUST057</td><td>ORD1147</td><td>false</td><td>2025-07-11T12:48:46.693Z</td></tr><tr><td>WFI22hjs10ATLHag8w6YGUn32oM=</td><td>2024-02-17</td><td>111.04</td><td>834</td><td>CUST083</td><td>ORD1833</td><td>false</td><td>2025-07-11T12:48:46.701Z</td></tr><tr><td>frnv4MEyEjxMWxT7wwuMVx5xc4c=</td><td>2024-04-02</td><td>131.13</td><td>572</td><td>CUST052</td><td>ORD1571</td><td>false</td><td>2025-07-11T12:48:46.691Z</td></tr></tbody></table></div>"
      ]
     },
     "metadata": {
      "application/vnd.databricks.v1+output": {
       "addedWidgets": {},
       "aggData": [],
       "aggError": "",
       "aggOverflow": false,
       "aggSchema": [],
       "aggSeriesLimitReached": false,
       "aggType": "",
       "arguments": {},
       "columnCustomDisplayInfos": {},
       "data": [
        [
         "1FS46Z4iTYt4beJHHl8BA0cIM2Q=",
         "2024-07-15",
         221.68,
         765,
         "CUST157",
         "ORD1764",
         false,
         "2025-07-11T12:48:46.713Z"
        ],
        [
         "+tZqj9WHsSAL7g9dSOVQLcHovwI=",
         "2024-07-13",
         120.93,
         498,
         "CUST183",
         "ORD1497",
         false,
         "2025-07-11T12:48:46.715Z"
        ],
        [
         "LQyBZfO2hmqdWmzU7hdQNgJ3fzs=",
         "2024-08-05",
         39.56,
         666,
         "CUST093",
         "ORD1665",
         false,
         "2025-07-11T12:48:46.703Z"
        ],
        [
         "UBdNvZSR0SOHC9VUTQbtC0GkYV4=",
         "2024-06-06",
         10.83,
         123,
         "CUST049",
         "ORD1122",
         false,
         "2025-07-11T12:48:46.689Z"
        ],
        [
         "cyVYFlz3eQvnQoeHHygd2ik3i4U=",
         "2024-02-04",
         148.01,
         439,
         "CUST163",
         "ORD1438",
         false,
         "2025-07-11T12:48:46.713Z"
        ],
        [
         "2DMUzMuQB7tnNv2uwbN4Uz3wn14=",
         "2024-03-21",
         73.74,
         60,
         "CUST027",
         "ORD1059",
         false,
         "2025-07-11T12:48:46.679Z"
        ],
        [
         "/mFYj/TBxfbhRGPPyCiIqJPOJzE=",
         "2024-03-19",
         124.26,
         294,
         "CUST112",
         "ORD1293",
         false,
         "2025-07-11T12:48:46.707Z"
        ],
        [
         "G6dX4pZqI3f7YRY3uniBwLhgQoU=",
         "2024-07-28",
         196.03,
         64,
         "CUST028",
         "ORD1063",
         false,
         "2025-07-11T12:48:46.680Z"
        ],
        [
         "FjGUfhS0oIfLsQzqnYpK231s9C4=",
         "2024-06-15",
         21.1,
         469,
         "CUST172",
         "ORD1468",
         false,
         "2025-07-11T12:48:46.714Z"
        ],
        [
         "qEZexeWQvdPvdlvZcYR7WNaosYA=",
         "2024-02-03",
         254.36,
         445,
         "CUST165",
         "ORD1444",
         false,
         "2025-07-11T12:48:46.713Z"
        ],
        [
         "RPL6xdMyypNh0IFZ9XDuRwV2yvs=",
         "2024-12-01",
         275.32,
         955,
         "CUST192",
         "ORD1954",
         false,
         "2025-07-11T12:48:46.716Z"
        ],
        [
         "NTjYJNNnfeILdlBof1IeKxxEf60=",
         "2024-08-01",
         114.35,
         51,
         "CUST022",
         "ORD1050",
         false,
         "2025-07-11T12:48:46.677Z"
        ],
        [
         "nUQaq+/sw3+FzffHdKL7aD9R2L4=",
         "2024-07-03",
         161.65,
         969,
         "CUST179",
         "ORD1968",
         false,
         "2025-07-11T12:48:46.715Z"
        ],
        [
         "JWP86Ki/APBCZkRQNoONmb521Ls=",
         "2024-10-30",
         294.95,
         852,
         "CUST024",
         "ORD1851",
         false,
         "2025-07-11T12:48:46.678Z"
        ],
        [
         "KqkM6G1bbtmpEAPby/FLlN3Ehg4=",
         "2024-06-19",
         282.7,
         329,
         "CUST125",
         "ORD1328",
         false,
         "2025-07-11T12:48:46.709Z"
        ],
        [
         "2TALB1jxnsQzbcqSUOpn+WjNIt8=",
         "2024-10-11",
         200.46,
         888,
         "CUST107",
         "ORD1887",
         false,
         "2025-07-11T12:48:46.706Z"
        ],
        [
         "nt73GWxBDOHzhSX8YBe0dH3c0H8=",
         "2024-07-13",
         55.3,
         78,
         "CUST033",
         "ORD1077",
         false,
         "2025-07-11T12:48:46.682Z"
        ],
        [
         "eLnvHHaUo1H0T4z9UmWHlHw/zHE=",
         "2024-02-21",
         16.83,
         559,
         "CUST186",
         "ORD1558",
         false,
         "2025-07-11T12:48:46.715Z"
        ],
        [
         "55NTxJXCqSGk8UVqtSYM490OHJw=",
         "2024-03-04",
         190.24,
         807,
         "CUST170",
         "ORD1806",
         false,
         "2025-07-11T12:48:46.714Z"
        ],
        [
         "CaSIKwuOUk8aG+H+exHtye+o9yU=",
         "2024-07-16",
         74.22,
         898,
         "CUST142",
         "ORD1897",
         false,
         "2025-07-11T12:48:46.711Z"
        ],
        [
         "HMUovrLwILxpGWAIYDSABibdXzo=",
         "2024-10-25",
         18.33,
         653,
         "CUST013",
         "ORD1652",
         false,
         "2025-07-11T12:48:46.671Z"
        ],
        [
         "+1RF78CbI4a2tvSlTf6osq83MbQ=",
         "2024-06-21",
         118.35,
         981,
         "CUST032",
         "ORD1980",
         false,
         "2025-07-11T12:48:46.682Z"
        ],
        [
         "qPxwPUs7PEg1PE7FHhQWWN9crhc=",
         "2024-02-23",
         131.33,
         651,
         "CUST105",
         "ORD1650",
         false,
         "2025-07-11T12:48:46.706Z"
        ],
        [
         "7qx0/rEBfZiEluQNdHoLkFJew8A=",
         "2024-10-17",
         206.42,
         707,
         "CUST135",
         "ORD1706",
         false,
         "2025-07-11T12:48:46.711Z"
        ],
        [
         "NxVINlcvdbR7Y93hOornSN95eP4=",
         "2024-05-20",
         22.25,
         827,
         "CUST082",
         "ORD1826",
         false,
         "2025-07-11T12:48:46.701Z"
        ],
        [
         "aiWtsDROSeUbGGHg1R5Inhqy2sM=",
         "2024-03-21",
         89.58,
         71,
         "CUST030",
         "ORD1070",
         false,
         "2025-07-11T12:48:46.681Z"
        ],
        [
         "RU7FMobAL5bM2kJQqNI/vfJAZWs=",
         "2024-04-18",
         72.28,
         360,
         "CUST133",
         "ORD1359",
         false,
         "2025-07-11T12:48:46.710Z"
        ],
        [
         "fL6ej2f4m3d9umUWmrJHiSelmIE=",
         "2024-07-31",
         63.14,
         999,
         "CUST036",
         "ORD1998",
         false,
         "2025-07-11T12:48:46.684Z"
        ],
        [
         "8/7SsVDtIQysiGZstNLMZipYAqM=",
         "2024-11-12",
         199.59,
         929,
         "CUST058",
         "ORD1928",
         false,
         "2025-07-11T12:48:46.694Z"
        ],
        [
         "dfXG64+ZUNYoPtM0s25VFxfMT14=",
         "2024-05-07",
         179.11,
         962,
         "CUST025",
         "ORD1961",
         false,
         "2025-07-11T12:48:46.679Z"
        ],
        [
         "1xbi1baddiCXplDKaOKfvvvdvlE=",
         "2024-07-26",
         251.35,
         2,
         "CUST001",
         "ORD1001",
         false,
         "2025-07-11T12:48:46.662Z"
        ],
        [
         "ZdoT9XoBywTZDdoEoYDQHlWdDyk=",
         "2024-08-23",
         137.77,
         436,
         "CUST161",
         "ORD1435",
         false,
         "2025-07-11T12:48:46.713Z"
        ],
        [
         "hGGgFW0jr+YrHfG0mUZz4tap/Uo=",
         "2024-06-07",
         156.85,
         412,
         "CUST152",
         "ORD1411",
         false,
         "2025-07-11T12:48:46.712Z"
        ],
        [
         "af4Qd1+vcBtEWHZNoVsn7AMj3P0=",
         "2024-05-19",
         152.46,
         894,
         "CUST052",
         "ORD1893",
         false,
         "2025-07-11T12:48:46.691Z"
        ],
        [
         "tx1JO9kL7cQGBZ0k75PTy0hrhww=",
         "2024-05-12",
         30.1,
         950,
         "CUST185",
         "ORD1949",
         false,
         "2025-07-11T12:48:46.715Z"
        ],
        [
         "vtY2jpMd9zNK+pANTNdNPywWrGk=",
         "2024-11-18",
         163.42,
         904,
         "CUST029",
         "ORD1903",
         false,
         "2025-07-11T12:48:46.681Z"
        ],
        [
         "82QlkpWC3TRuiBrcbnkZTM8F5uc=",
         "2024-03-15",
         19.43,
         217,
         "CUST081",
         "ORD1216",
         false,
         "2025-07-11T12:48:46.700Z"
        ],
        [
         "uX5V3E/v8uDdgyJsKnQTNBS/ZvY=",
         "2024-02-10",
         230.02,
         949,
         "CUST147",
         "ORD1948",
         false,
         "2025-07-11T12:48:46.712Z"
        ],
        [
         "MG4E03MeHp7NmM79avGdLUlAhzo=",
         "2024-01-10",
         118.6,
         935,
         "CUST101",
         "ORD1934",
         false,
         "2025-07-11T12:48:46.704Z"
        ],
        [
         "zHT9hycCDR7MG9/KM7b4eTOW5Ww=",
         "2024-04-14",
         197.33,
         410,
         "CUST151",
         "ORD1409",
         false,
         "2025-07-11T12:48:46.712Z"
        ],
        [
         "5q4kcWODrIVH+1ZKw8i6ih3v+sQ=",
         "2024-07-30",
         184.55,
         691,
         "CUST143",
         "ORD1690",
         false,
         "2025-07-11T12:48:46.711Z"
        ],
        [
         "Km9cOtKnfn8mGpAFZbXaIzKgEuI=",
         "2024-07-29",
         59.75,
         569,
         "CUST019",
         "ORD1568",
         false,
         "2025-07-11T12:48:46.675Z"
        ],
        [
         "4UBZQiEGypMNXzDVZWqyGSKfMk4=",
         "2024-06-22",
         178.71,
         56,
         "CUST025",
         "ORD1055",
         false,
         "2025-07-11T12:48:46.678Z"
        ],
        [
         "uZjzfnJtkCAV4XOZb0ocNg+CAnM=",
         "2024-10-24",
         150.89,
         635,
         "CUST014",
         "ORD1634",
         false,
         "2025-07-11T12:48:46.672Z"
        ],
        [
         "adSZpHggRoIKFXVRKzdJOPvSCGE=",
         "2024-06-06",
         298.76,
         279,
         "CUST105",
         "ORD1278",
         false,
         "2025-07-11T12:48:46.705Z"
        ],
        [
         "Y43w8W3bLlGMGF5f8fyVDFADu4I=",
         "2024-08-30",
         244.37,
         376,
         "CUST138",
         "ORD1375",
         false,
         "2025-07-11T12:48:46.711Z"
        ],
        [
         "ADKpRTEAoRH3kvkPDRq3koiodnk=",
         "2024-01-21",
         107.44,
         398,
         "CUST146",
         "ORD1397",
         false,
         "2025-07-11T12:48:46.712Z"
        ],
        [
         "kj/ni/dfGeoff798NuUoDyyIS5I=",
         "2024-07-24",
         12.6,
         104,
         "CUST042",
         "ORD1103",
         false,
         "2025-07-11T12:48:46.687Z"
        ],
        [
         "WAAnDt0fhjs3efmsZhmxO1UlhJM=",
         "2024-02-02",
         204.97,
         179,
         "CUST068",
         "ORD1178",
         false,
         "2025-07-11T12:48:46.696Z"
        ],
        [
         "SbEl0AENpM2WAaG7shfBW5zQrE0=",
         "2024-04-08",
         291.21,
         130,
         "CUST051",
         "ORD1129",
         false,
         "2025-07-11T12:48:46.690Z"
        ],
        [
         "HaEw7TP216555jbOlpIaX2ywEgs=",
         "2024-10-03",
         255.15,
         712,
         "CUST139",
         "ORD1711",
         false,
         "2025-07-11T12:48:46.711Z"
        ],
        [
         "v2dFWlrspqQc84H/Em4CzKODEAI=",
         "2024-06-08",
         277.85,
         166,
         "CUST064",
         "ORD1165",
         false,
         "2025-07-11T12:48:46.695Z"
        ],
        [
         "/yBCZeNXDC3uo77wY5FbzEeDjE8=",
         "2024-05-26",
         149.05,
         146,
         "CUST057",
         "ORD1145",
         false,
         "2025-07-11T12:48:46.693Z"
        ],
        [
         "Zd51M17qApwImNPd0BwJkJDbfJg=",
         "2024-09-23",
         133.08,
         826,
         "CUST197",
         "ORD1825",
         false,
         "2025-07-11T12:48:46.716Z"
        ],
        [
         "A7r4OlMUmixK9u2D1278eEEo5F4=",
         "2024-04-21",
         261.47,
         531,
         "CUST194",
         "ORD1530",
         false,
         "2025-07-11T12:48:46.716Z"
        ],
        [
         "PYEx8/BquBV3FQrZ/5yRQnQgcOw=",
         "2024-06-15",
         291.08,
         356,
         "CUST132",
         "ORD1355",
         false,
         "2025-07-11T12:48:46.710Z"
        ],
        [
         "yU4P5s/Uk28BheOKBPZG1x7RW80=",
         "2024-02-28",
         54.39,
         39,
         "CUST017",
         "ORD1038",
         false,
         "2025-07-11T12:48:46.673Z"
        ],
        [
         "pDpksCmQOCzkjL+xVy+Njww0QN4=",
         "2024-06-01",
         196.19,
         68,
         "CUST029",
         "ORD1067",
         false,
         "2025-07-11T12:48:46.680Z"
        ],
        [
         "jNDTqJZW8H5Z0UaDNl9lDXg2XmI=",
         "2024-07-01",
         273.79,
         731,
         "CUST059",
         "ORD1730",
         false,
         "2025-07-11T12:48:46.694Z"
        ],
        [
         "R8YNe1Ds2y+QItnEL2MpRIdWZK0=",
         "2024-04-21",
         165.22,
         112,
         "CUST045",
         "ORD1111",
         false,
         "2025-07-11T12:48:46.688Z"
        ],
        [
         "4v6YeX4ZgJVcCQHSl5PeNI5H6KI=",
         "2024-02-06",
         168.54,
         726,
         "CUST190",
         "ORD1725",
         false,
         "2025-07-11T12:48:46.716Z"
        ],
        [
         "l8L6p8r6dGXnC3e8o3SZ60QfiHU=",
         "2024-01-24",
         189.39,
         993,
         "CUST150",
         "ORD1992",
         false,
         "2025-07-11T12:48:46.712Z"
        ],
        [
         "qKxZ5BXVcq62BKCFVr7dIMbTK0U=",
         "2024-05-14",
         162.14,
         89,
         "CUST037",
         "ORD1088",
         false,
         "2025-07-11T12:48:46.684Z"
        ],
        [
         "uSywuoT+Lrrd97MG3IKq6kKtHQY=",
         "2024-04-08",
         130.66,
         206,
         "CUST078",
         "ORD1205",
         false,
         "2025-07-11T12:48:46.699Z"
        ],
        [
         "kT8l8eu/gHhLtzVrIC4Jzg6jeaE=",
         "2024-07-17",
         30.76,
         163,
         "CUST063",
         "ORD1162",
         false,
         "2025-07-11T12:48:46.695Z"
        ],
        [
         "IgM7Vn5wQwHLNaEBq3SZyAlIZ8s=",
         "2024-07-23",
         159.2,
         150,
         "CUST058",
         "ORD1149",
         false,
         "2025-07-11T12:48:46.694Z"
        ],
        [
         "DjyNeoaDAFxA5nR5LLS9sfnEz38=",
         "2024-07-30",
         162.81,
         344,
         "CUST128",
         "ORD1343",
         false,
         "2025-07-11T12:48:46.710Z"
        ],
        [
         "+i3F03SpFpwC+9rlb1wR4YxSe8M=",
         "2024-08-12",
         170.0,
         432,
         "CUST159",
         "ORD1431",
         false,
         "2025-07-11T12:48:46.713Z"
        ],
        [
         "YiRLQXW5NGLHIjIagJSIvW2/WzY=",
         "2024-09-30",
         138.52,
         998,
         "CUST004",
         "ORD1997",
         false,
         "2025-07-11T12:48:46.665Z"
        ],
        [
         "oaRoBRS6oF7KXpVYzBKzzlSpfsI=",
         "2024-03-30",
         245.42,
         116,
         "CUST046",
         "ORD1115",
         false,
         "2025-07-11T12:48:46.689Z"
        ],
        [
         "lNvqWCmvKfZ+IpgPO/29Tt2uUkQ=",
         "2024-06-01",
         258.36,
         365,
         "CUST135",
         "ORD1364",
         false,
         "2025-07-11T12:48:46.710Z"
        ],
        [
         "Z0MXxYV2MH1wJ638hxmCfQxP9Yo=",
         "2024-03-27",
         123.25,
         694,
         "CUST106",
         "ORD1693",
         false,
         "2025-07-11T12:48:46.706Z"
        ],
        [
         "jXONcnyHnlwg4mmD4GAEzgLzIfk=",
         "2024-02-21",
         35.69,
         301,
         "CUST114",
         "ORD1300",
         false,
         "2025-07-11T12:48:46.708Z"
        ],
        [
         "ZFZSy432e/rPBTIyAo6S3qUtK4Y=",
         "2024-01-14",
         108.68,
         665,
         "CUST003",
         "ORD1664",
         false,
         "2025-07-11T12:48:46.664Z"
        ],
        [
         "9xBSwOMwAZQTn340yuzafU49ChQ=",
         "2024-08-18",
         16.99,
         697,
         "CUST187",
         "ORD1696",
         false,
         "2025-07-11T12:48:46.715Z"
        ],
        [
         "/drmtQrB/XEXoGUsXC3f02oKoo0=",
         "2024-04-15",
         114.87,
         32,
         "CUST015",
         "ORD1031",
         false,
         "2025-07-11T12:48:46.672Z"
        ],
        [
         "6IAQht3IpMgNC1eqUo4TneLmHD8=",
         "2024-06-20",
         252.59,
         88,
         "CUST036",
         "ORD1087",
         false,
         "2025-07-11T12:48:46.684Z"
        ],
        [
         "Rgn8tgRCnutWynfxOKMz39w7sCs=",
         "2024-01-26",
         89.23,
         629,
         "CUST143",
         "ORD1628",
         false,
         "2025-07-11T12:48:46.711Z"
        ],
        [
         "/fFJDY3XXUfIGtEY23lRTlxKRqY=",
         "2024-05-28",
         11.75,
         508,
         "CUST187",
         "ORD1507",
         false,
         "2025-07-11T12:48:46.715Z"
        ],
        [
         "OCicA9VTJhY4MGdNIedHBpdd8YU=",
         "2024-07-18",
         289.54,
         62,
         "CUST027",
         "ORD1061",
         false,
         "2025-07-11T12:48:46.679Z"
        ],
        [
         "lIj7iUn6VTIxl4tw6tvBwAAB2rw=",
         "2024-02-18",
         197.47,
         767,
         "CUST062",
         "ORD1766",
         false,
         "2025-07-11T12:48:46.695Z"
        ],
        [
         "y6EmN92Mvli+zy0yer8uskAVx9E=",
         "2024-10-26",
         284.45,
         845,
         "CUST056",
         "ORD1844",
         false,
         "2025-07-11T12:48:46.693Z"
        ],
        [
         "2YKDF6gOKMc59vmsDX293m7GIIo=",
         "2024-09-17",
         174.36,
         510,
         "CUST187",
         "ORD1509",
         false,
         "2025-07-11T12:48:46.715Z"
        ],
        [
         "ihvSjc4q95Q6l+XJJDO31GA/MFA=",
         "2024-06-24",
         100.94,
         90,
         "CUST037",
         "ORD1089",
         false,
         "2025-07-11T12:48:46.684Z"
        ],
        [
         "12n7SEdQLVkgr7V5qs7TAAma8ao=",
         "2024-05-24",
         194.63,
         118,
         "CUST047",
         "ORD1117",
         false,
         "2025-07-11T12:48:46.689Z"
        ],
        [
         "8dASy4/6/vl2rgICXBw3R8dlEy0=",
         "2024-01-18",
         60.25,
         591,
         "CUST006",
         "ORD1590",
         false,
         "2025-07-11T12:48:46.666Z"
        ],
        [
         "XFq6z/8OsdTEugH1SmwxHmIf1eI=",
         "2024-10-17",
         133.93,
         615,
         "CUST182",
         "ORD1614",
         false,
         "2025-07-11T12:48:46.715Z"
        ],
        [
         "7bkP5ADWrsOgCiWLNUnVLHp4IQI=",
         "2024-07-24",
         193.65,
         170,
         "CUST065",
         "ORD1169",
         false,
         "2025-07-11T12:48:46.695Z"
        ],
        [
         "GInLhzYH/Xuobwe0ACLpnUEaMRs=",
         "2024-01-03",
         294.96,
         974,
         "CUST065",
         "ORD1973",
         false,
         "2025-07-11T12:48:46.696Z"
        ],
        [
         "0CPYENHmkRZZJuJiDZC9pzoq7yM=",
         "2024-05-29",
         225.77,
         588,
         "CUST089",
         "ORD1587",
         false,
         "2025-07-11T12:48:46.702Z"
        ],
        [
         "8s76/cHNb6j8OZF72eVgCai4QYM=",
         "2024-02-08",
         194.87,
         230,
         "CUST086",
         "ORD1229",
         false,
         "2025-07-11T12:48:46.701Z"
        ],
        [
         "lCccO9hu+kBv9WWAdtjZNc/NGpc=",
         "2024-02-02",
         24.14,
         947,
         "CUST007",
         "ORD1946",
         false,
         "2025-07-11T12:48:46.667Z"
        ],
        [
         "HwIMW5SvFVA638glh01Xk/R0BJc=",
         "2024-08-13",
         93.45,
         293,
         "CUST111",
         "ORD1292",
         false,
         "2025-07-11T12:48:46.707Z"
        ],
        [
         "uitq+e1UbgcW2mDeJG3goMFcJ44=",
         "2024-01-25",
         275.26,
         604,
         "CUST182",
         "ORD1603",
         false,
         "2025-07-11T12:48:46.715Z"
        ],
        [
         "T3Gefr4O2aRBD3hUAo5CCfeDMmk=",
         "2024-04-11",
         217.41,
         4,
         "CUST002",
         "ORD1003",
         false,
         "2025-07-11T12:48:46.663Z"
        ],
        [
         "dSMLFIG89P0lfPs1alKgwbx3vJ0=",
         "2024-11-29",
         59.84,
         936,
         "CUST069",
         "ORD1935",
         false,
         "2025-07-11T12:48:46.697Z"
        ],
        [
         "yiFE2rfkaxUM+jE/vDrKvObA4zo=",
         "2024-05-15",
         266.76,
         663,
         "CUST168",
         "ORD1662",
         false,
         "2025-07-11T12:48:46.714Z"
        ],
        [
         "/9/6hF845nc71OMR0YlqqgA0ph8=",
         "2024-02-03",
         99.78,
         24,
         "CUST011",
         "ORD1023",
         false,
         "2025-07-11T12:48:46.669Z"
        ],
        [
         "ZXD96lJgxp7X8NIcFUjFPTYxWBc=",
         "2024-05-18",
         52.42,
         495,
         "CUST182",
         "ORD1494",
         false,
         "2025-07-11T12:48:46.715Z"
        ],
        [
         "r2OBU8dVfn3tyzTuqx45JTXCVpU=",
         "2024-09-27",
         81.95,
         817,
         "CUST114",
         "ORD1816",
         false,
         "2025-07-11T12:48:46.708Z"
        ],
        [
         "uSxPaDzPfwwmqQJTQG3QwGpUqjI=",
         "2024-04-09",
         160.0,
         187,
         "CUST071",
         "ORD1186",
         false,
         "2025-07-11T12:48:46.697Z"
        ],
        [
         "/lchXtLLEcIJzAaYaLZTfFl8ZYA=",
         "2024-06-01",
         245.6,
         275,
         "CUST104",
         "ORD1274",
         false,
         "2025-07-11T12:48:46.705Z"
        ],
        [
         "tA5UKHDC4eTjf/s+WCzuuUp6VUM=",
         "2024-12-09",
         109.67,
         743,
         "CUST121",
         "ORD1742",
         false,
         "2025-07-11T12:48:46.709Z"
        ],
        [
         "KXlA6VCzPTnTKmaNPEQsatVQQhU=",
         "2024-07-17",
         141.22,
         216,
         "CUST080",
         "ORD1215",
         false,
         "2025-07-11T12:48:46.700Z"
        ],
        [
         "FE06XDmHDaPvDl/gJgQ1X7kGf6Y=",
         "2024-05-20",
         11.87,
         324,
         "CUST123",
         "ORD1323",
         false,
         "2025-07-11T12:48:46.709Z"
        ],
        [
         "PNIoGD7ebbmAf7Phwd5UQBwsn1g=",
         "2024-12-19",
         145.83,
         337,
         "CUST126",
         "ORD1336",
         false,
         "2025-07-11T12:48:46.710Z"
        ],
        [
         "s6FXwJCsVRS1yJErDT3H2Z7cB+k=",
         "2024-05-14",
         49.66,
         991,
         "CUST157",
         "ORD1990",
         false,
         "2025-07-11T12:48:46.713Z"
        ],
        [
         "4ejIWfVH6408LYP8GiTTXz7IOLg=",
         "2024-09-09",
         28.26,
         864,
         "CUST082",
         "ORD1863",
         false,
         "2025-07-11T12:48:46.701Z"
        ],
        [
         "IJmjSVqxvfTYRoc4NJD//jA0SYc=",
         "2024-08-15",
         111.69,
         584,
         "CUST068",
         "ORD1583",
         false,
         "2025-07-11T12:48:46.696Z"
        ],
        [
         "9Ice98pT0j6bMIrVD+acRAlZmwU=",
         "2024-05-23",
         11.21,
         652,
         "CUST119",
         "ORD1651",
         false,
         "2025-07-11T12:48:46.708Z"
        ],
        [
         "tbUprYZnQ5KuDPvqeR9QCb7OXUM=",
         "2024-02-25",
         86.73,
         626,
         "CUST145",
         "ORD1625",
         false,
         "2025-07-11T12:48:46.712Z"
        ],
        [
         "1WVubv3N0q+LQivbMZxiKBEXqT8=",
         "2024-05-28",
         17.36,
         407,
         "CUST149",
         "ORD1406",
         false,
         "2025-07-11T12:48:46.712Z"
        ],
        [
         "5p07nbkusIqlVCUL+5//dkkVU3Y=",
         "2024-08-04",
         137.08,
         669,
         "CUST092",
         "ORD1668",
         false,
         "2025-07-11T12:48:46.702Z"
        ],
        [
         "/LbwDtbZmxQctESUxyZWnHPkqpQ=",
         "2024-03-24",
         168.75,
         243,
         "CUST091",
         "ORD1242",
         false,
         "2025-07-11T12:48:46.702Z"
        ],
        [
         "G+u0AfSpIJhrKblSCUy9b3msy2c=",
         "2024-11-17",
         141.22,
         530,
         "CUST193",
         "ORD1529",
         false,
         "2025-07-11T12:48:46.716Z"
        ],
        [
         "VVb9mZ8zBttGuvWQHNSfVrufxdQ=",
         "2024-02-29",
         281.14,
         252,
         "CUST096",
         "ORD1251",
         false,
         "2025-07-11T12:48:46.703Z"
        ],
        [
         "gy2lCV/Iqe7ueMIJMeBD/iajHr4=",
         "2024-05-26",
         58.44,
         346,
         "CUST129",
         "ORD1345",
         false,
         "2025-07-11T12:48:46.710Z"
        ],
        [
         "xFW++PVvgmaguOxtHys6CTdoTnk=",
         "2024-02-29",
         61.21,
         203,
         "CUST076",
         "ORD1202",
         false,
         "2025-07-11T12:48:46.699Z"
        ],
        [
         "QOTXunbeg1hZmILifuh4q+puHuY=",
         "2024-04-30",
         205.67,
         122,
         "CUST049",
         "ORD1121",
         false,
         "2025-07-11T12:48:46.689Z"
        ],
        [
         "aaru5RPFmMS8E9xhoZhJLuRVzpw=",
         "2024-01-25",
         172.91,
         906,
         "CUST174",
         "ORD1905",
         false,
         "2025-07-11T12:48:46.714Z"
        ],
        [
         "/dp+BfcmkzS/is4FJr0oVke81v8=",
         "2024-04-07",
         281.56,
         843,
         "CUST181",
         "ORD1842",
         false,
         "2025-07-11T12:48:46.715Z"
        ],
        [
         "torctrYqtu+1gZuohSw4jF1ON00=",
         "2024-04-24",
         20.74,
         13,
         "CUST006",
         "ORD1012",
         false,
         "2025-07-11T12:48:46.666Z"
        ],
        [
         "rui6RRppAyZ94jNfQGjOaUl0KDw=",
         "2024-07-31",
         292.08,
         715,
         "CUST089",
         "ORD1714",
         false,
         "2025-07-11T12:48:46.702Z"
        ],
        [
         "TX2GZirkEkbrXhyC1V5a/ri8d0g=",
         "2024-12-29",
         79.65,
         922,
         "CUST124",
         "ORD1921",
         false,
         "2025-07-11T12:48:46.709Z"
        ],
        [
         "PGz9/7NTxn1jwFcCHgq92w7drXY=",
         "2024-02-04",
         89.21,
         297,
         "CUST113",
         "ORD1296",
         false,
         "2025-07-11T12:48:46.707Z"
        ],
        [
         "luvri2tl7AUOM28Dl1k36j9xb9U=",
         "2024-04-04",
         99.9,
         503,
         "CUST185",
         "ORD1502",
         false,
         "2025-07-11T12:48:46.715Z"
        ],
        [
         "Mx97QOoGJu7SdfArjT+orqQ62FA=",
         "2024-04-30",
         138.53,
         884,
         "CUST045",
         "ORD1883",
         false,
         "2025-07-11T12:48:46.688Z"
        ],
        [
         "kH7htWVQv4B7wh+A8UxJopcueRw=",
         "2024-10-04",
         43.07,
         541,
         "CUST196",
         "ORD1540",
         false,
         "2025-07-11T12:48:46.716Z"
        ],
        [
         "pfaXLdmTmwEU48lN6W+ss6uDleQ=",
         "2024-07-05",
         239.84,
         225,
         "CUST084",
         "ORD1224",
         false,
         "2025-07-11T12:48:46.701Z"
        ],
        [
         "/HXCUvDu96LZWebws9rG8DZoaCw=",
         "2024-01-06",
         264.08,
         454,
         "CUST167",
         "ORD1453",
         false,
         "2025-07-11T12:48:46.713Z"
        ],
        [
         "xdlSjtFrUppEw15sSmTmja84V6o=",
         "2024-07-17",
         237.19,
         548,
         "CUST199",
         "ORD1547",
         false,
         "2025-07-11T12:48:46.717Z"
        ],
        [
         "rBHwJ87F36+E5JCm5WmrUdpCCIg=",
         "2024-07-31",
         15.95,
         975,
         "CUST153",
         "ORD1974",
         false,
         "2025-07-11T12:48:46.712Z"
        ],
        [
         "7q1cL6186gMgCYVezTYrpLJ6L0g=",
         "2024-08-22",
         134.16,
         125,
         "CUST049",
         "ORD1124",
         false,
         "2025-07-11T12:48:46.690Z"
        ],
        [
         "5HLg8ULDYiLxls0QdWZeUSXf2nU=",
         "2024-04-02",
         203.18,
         383,
         "CUST141",
         "ORD1382",
         false,
         "2025-07-11T12:48:46.711Z"
        ],
        [
         "woPDNSv72/R0VIlsAszyKwRPyws=",
         "2024-12-31",
         76.52,
         692,
         "CUST143",
         "ORD1691",
         false,
         "2025-07-11T12:48:46.711Z"
        ],
        [
         "JWTWYsJooU1a29Z1BxgcZoFetZM=",
         "2024-02-12",
         151.71,
         425,
         "CUST157",
         "ORD1424",
         false,
         "2025-07-11T12:48:46.713Z"
        ],
        [
         "rpx8jkSQz3Y8I/g0CJkCnr8556w=",
         "2024-02-06",
         221.66,
         97,
         "CUST040",
         "ORD1096",
         false,
         "2025-07-11T12:48:46.685Z"
        ],
        [
         "Bha3x8RYB4V+MsWuksKucKL32Y8=",
         "2024-01-25",
         75.4,
         553,
         "CUST041",
         "ORD1552",
         false,
         "2025-07-11T12:48:46.686Z"
        ],
        [
         "8Gt1qXQlNTSp3w3rNP6n5se/C2w=",
         "2024-07-17",
         244.35,
         673,
         "CUST044",
         "ORD1672",
         false,
         "2025-07-11T12:48:46.687Z"
        ],
        [
         "raThT3ozZDo5pwv8e53DtC8SiaM=",
         "2024-07-23",
         36.55,
         444,
         "CUST164",
         "ORD1443",
         false,
         "2025-07-11T12:48:46.713Z"
        ],
        [
         "Gd42uq414HcI4S0ZscX6M3xBg78=",
         "2024-07-10",
         255.99,
         357,
         "CUST132",
         "ORD1356",
         false,
         "2025-07-11T12:48:46.710Z"
        ],
        [
         "R2lRO5ec6thQkXlTbA+xnjLtnhs=",
         "2024-07-22",
         164.06,
         226,
         "CUST084",
         "ORD1225",
         false,
         "2025-07-11T12:48:46.701Z"
        ],
        [
         "hSHbaIGUhf8vtcaO9kMjGn0+hBg=",
         "2024-01-31",
         14.8,
         853,
         "CUST126",
         "ORD1852",
         false,
         "2025-07-11T12:48:46.710Z"
        ],
        [
         "oYeb/K9sAPHSF+HgMvQgKJLC9es=",
         "2024-05-10",
         202.06,
         345,
         "CUST129",
         "ORD1344",
         false,
         "2025-07-11T12:48:46.710Z"
        ],
        [
         "ibWhlX2g8VavDndSAo8dylAVBfg=",
         "2024-10-27",
         105.98,
         620,
         "CUST151",
         "ORD1619",
         false,
         "2025-07-11T12:48:46.712Z"
        ],
        [
         "A5PAp8oL/1mtzdFpH6MC27W3LG0=",
         "2024-11-05",
         158.9,
         825,
         "CUST149",
         "ORD1824",
         false,
         "2025-07-11T12:48:46.712Z"
        ],
        [
         "2EGJrmZRB3iiip6x+2g39C5UIEk=",
         "2024-05-07",
         132.97,
         521,
         "CUST191",
         "ORD1520",
         false,
         "2025-07-11T12:48:46.716Z"
        ],
        [
         "K8Df/FrHFbDfoLYxKPyeNS9iFOU=",
         "2024-06-26",
         149.58,
         347,
         "CUST129",
         "ORD1346",
         false,
         "2025-07-11T12:48:46.710Z"
        ],
        [
         "XbUGc4lVG1DD4JnZadUIFI5W5n0=",
         "2024-06-02",
         109.31,
         322,
         "CUST122",
         "ORD1321",
         false,
         "2025-07-11T12:48:46.709Z"
        ],
        [
         "61phSx/vNeN6PphOa/BftilCjmg=",
         "2024-02-25",
         79.09,
         379,
         "CUST140",
         "ORD1378",
         false,
         "2025-07-11T12:48:46.711Z"
        ],
        [
         "IAOkqDgkFQHSEZw0TcYjLocR62I=",
         "2024-10-13",
         23.48,
         590,
         "CUST123",
         "ORD1589",
         false,
         "2025-07-11T12:48:46.709Z"
        ],
        [
         "s1dNRaPh93cAHTeEcLQDEdDGIqo=",
         "2024-08-19",
         198.59,
         748,
         "CUST190",
         "ORD1747",
         false,
         "2025-07-11T12:48:46.716Z"
        ],
        [
         "prtV4HRizkePByjKJx28VU9PpjA=",
         "2024-03-31",
         151.41,
         240,
         "CUST090",
         "ORD1239",
         false,
         "2025-07-11T12:48:46.702Z"
        ],
        [
         "ZAYjc7Q9qDAmE4jfZQ5Q+BUoWoI=",
         "2024-11-04",
         85.92,
         596,
         "CUST102",
         "ORD1595",
         false,
         "2025-07-11T12:48:46.704Z"
        ],
        [
         "78PYRazcfl1d6zix8vEri5p0r7g=",
         "2024-08-06",
         249.55,
         967,
         "CUST181",
         "ORD1966",
         false,
         "2025-07-11T12:48:46.715Z"
        ],
        [
         "EqfHrgoO8pscz+u4kKqBMk2rOlw=",
         "2024-07-03",
         204.31,
         674,
         "CUST193",
         "ORD1673",
         false,
         "2025-07-11T12:48:46.716Z"
        ],
        [
         "34GRyiSGTuNOtQC1ZXs8mMWewU4=",
         "2024-09-13",
         292.75,
         594,
         "CUST086",
         "ORD1593",
         false,
         "2025-07-11T12:48:46.701Z"
        ],
        [
         "K9dvj4TixO4uE4rC+IICfe/FFsE=",
         "2024-06-28",
         189.97,
         465,
         "CUST171",
         "ORD1464",
         false,
         "2025-07-11T12:48:46.714Z"
        ],
        [
         "FyUHkMPpcLTr7tnxy5ueYj1TJS8=",
         "2024-02-06",
         205.4,
         636,
         "CUST019",
         "ORD1635",
         false,
         "2025-07-11T12:48:46.675Z"
        ],
        [
         "kWxKo1TNmmFGoXsttB9dpX9/JJI=",
         "2024-03-07",
         60.75,
         634,
         "CUST053",
         "ORD1633",
         false,
         "2025-07-11T12:48:46.691Z"
        ],
        [
         "+R8sPLtSL5mhgnCJ9vJ+kVfmDbU=",
         "2024-05-14",
         248.11,
         450,
         "CUST166",
         "ORD1449",
         false,
         "2025-07-11T12:48:46.713Z"
        ],
        [
         "XrjyXh5DHa5BulC+gIvbWFunCU4=",
         "2024-06-11",
         103.44,
         504,
         "CUST185",
         "ORD1503",
         false,
         "2025-07-11T12:48:46.715Z"
        ],
        [
         "gY8Tj4RoG9XJPFnOE+nk+oRfLks=",
         "2024-01-19",
         157.52,
         250,
         "CUST095",
         "ORD1249",
         false,
         "2025-07-11T12:48:46.703Z"
        ],
        [
         "K7BGE8nI/b1Fxdqt+CGjgcIlzzs=",
         "2024-03-20",
         272.57,
         311,
         "CUST119",
         "ORD1310",
         false,
         "2025-07-11T12:48:46.708Z"
        ],
        [
         "bEjmnnA09Crc5YXX379fTZZW9xg=",
         "2024-03-24",
         191.04,
         156,
         "CUST060",
         "ORD1155",
         false,
         "2025-07-11T12:48:46.694Z"
        ],
        [
         "4zgRGK6k0AXVa2aXg+GaFXnBPa8=",
         "2024-01-27",
         181.47,
         749,
         "CUST061",
         "ORD1748",
         false,
         "2025-07-11T12:48:46.695Z"
        ],
        [
         "d7rHQm2Es9PMyvwvCDSR7kWFEEM=",
         "2024-10-10",
         181.49,
         199,
         "CUST075",
         "ORD1198",
         false,
         "2025-07-11T12:48:46.698Z"
        ],
        [
         "ZAITNCCmYP0uap+0TApr/cb/UK0=",
         "2024-04-13",
         113.88,
         213,
         "CUST080",
         "ORD1212",
         false,
         "2025-07-11T12:48:46.700Z"
        ],
        [
         "W6xd1cXQ53QgdtRNszlALhMFWUc=",
         "2024-03-11",
         220.21,
         989,
         "CUST133",
         "ORD1988",
         false,
         "2025-07-11T12:48:46.710Z"
        ],
        [
         "BjIMeceBhrydWWu126nUmeaB3/4=",
         "2024-06-18",
         214.67,
         983,
         "CUST186",
         "ORD1982",
         false,
         "2025-07-11T12:48:46.715Z"
        ],
        [
         "MvA0a6f+3ntXovVRaWv5ydYH26Q=",
         "2024-08-20",
         87.4,
         687,
         "CUST167",
         "ORD1686",
         false,
         "2025-07-11T12:48:46.713Z"
        ],
        [
         "b6Ipmecn0D+tJI3A1W6VLA441aU=",
         "2024-05-02",
         170.76,
         871,
         "CUST170",
         "ORD1870",
         false,
         "2025-07-11T12:48:46.714Z"
        ],
        [
         "JHanRiWoVSvblOXeWdApuROxkMc=",
         "2024-09-09",
         230.68,
         781,
         "CUST061",
         "ORD1780",
         false,
         "2025-07-11T12:48:46.695Z"
        ],
        [
         "EIBtdZX/Vx5Ol+pbhEvFRU4zH9c=",
         "2024-03-03",
         244.62,
         915,
         "CUST151",
         "ORD1914",
         false,
         "2025-07-11T12:48:46.712Z"
        ],
        [
         "xMkj88fhILmWWZmNvCphJSqPtlg=",
         "2024-11-15",
         274.45,
         685,
         "CUST041",
         "ORD1684",
         false,
         "2025-07-11T12:48:46.686Z"
        ],
        [
         "eLf4669CxR/rDtJ6eOJIttt2LgA=",
         "2024-02-17",
         46.08,
         867,
         "CUST039",
         "ORD1866",
         false,
         "2025-07-11T12:48:46.685Z"
        ],
        [
         "GnK3bLQ7gE+k6+QGogDMd0HX1Js=",
         "2024-03-15",
         138.03,
         542,
         "CUST197",
         "ORD1541",
         false,
         "2025-07-11T12:48:46.716Z"
        ],
        [
         "0/sRxGtGbQiyeYbj9ivPnvqW4nE=",
         "2024-05-07",
         45.88,
         94,
         "CUST038",
         "ORD1093",
         false,
         "2025-07-11T12:48:46.685Z"
        ],
        [
         "hOm0MLfwMPMAAasysfVpSk7y/oU=",
         "2024-08-18",
         240.76,
         918,
         "CUST034",
         "ORD1917",
         false,
         "2025-07-11T12:48:46.683Z"
        ],
        [
         "YivXwHUajquhp8bbITJuLFsd1hw=",
         "2024-06-25",
         129.43,
         300,
         "CUST113",
         "ORD1299",
         false,
         "2025-07-11T12:48:46.707Z"
        ],
        [
         "EZ513HNPVyDAX7udCBrMTrBBjdk=",
         "2024-03-23",
         72.23,
         472,
         "CUST173",
         "ORD1471",
         false,
         "2025-07-11T12:48:46.714Z"
        ],
        [
         "FzbZ1S9U9I3YGm+QpcpXjhjTgnI=",
         "2024-02-08",
         241.42,
         318,
         "CUST121",
         "ORD1317",
         false,
         "2025-07-11T12:48:46.709Z"
        ],
        [
         "h3QGYc3NIrjlcaRuBY7vyYQx7uk=",
         "2024-02-07",
         73.98,
         189,
         "CUST072",
         "ORD1188",
         false,
         "2025-07-11T12:48:46.698Z"
        ],
        [
         "f7BMeDhjRyDaa4D2AUFBHy2y8Ow=",
         "2024-12-11",
         276.26,
         577,
         "CUST111",
         "ORD1576",
         false,
         "2025-07-11T12:48:46.707Z"
        ],
        [
         "lO7qFXhlsXiCFV5MDas22dLgo6I=",
         "2024-04-11",
         277.27,
         255,
         "CUST097",
         "ORD1254",
         false,
         "2025-07-11T12:48:46.703Z"
        ],
        [
         "idvh5rZstWBnWfYfGpAb7SaVm4U=",
         "2024-10-01",
         133.31,
         971,
         "CUST103",
         "ORD1970",
         false,
         "2025-07-11T12:48:46.705Z"
        ],
        [
         "CYt0ea644dP6pQJFRYZzQHG8fhM=",
         "2024-06-23",
         267.46,
         622,
         "CUST168",
         "ORD1621",
         false,
         "2025-07-11T12:48:46.714Z"
        ],
        [
         "/79zN48L2hbK9cAdgyRfRUpd5xc=",
         "2024-11-03",
         145.61,
         534,
         "CUST194",
         "ORD1533",
         false,
         "2025-07-11T12:48:46.716Z"
        ],
        [
         "nZsrcRU0OWuVeVhYoe096Orgkvo=",
         "2024-04-03",
         88.67,
         782,
         "CUST191",
         "ORD1781",
         false,
         "2025-07-11T12:48:46.716Z"
        ],
        [
         "48qHw3wKU8adltmuKRarGil+3yc=",
         "2024-01-02",
         217.68,
         371,
         "CUST137",
         "ORD1370",
         false,
         "2025-07-11T12:48:46.711Z"
        ],
        [
         "eyCyXaMdcrKlNgdlHXK5R0PPHb4=",
         "2024-11-09",
         216.81,
         564,
         "CUST179",
         "ORD1563",
         false,
         "2025-07-11T12:48:46.714Z"
        ],
        [
         "vQH03JDibFfNURZvqcc068N/QJ0=",
         "2024-04-21",
         95.88,
         786,
         "CUST161",
         "ORD1785",
         false,
         "2025-07-11T12:48:46.713Z"
        ],
        [
         "HydWgGbtIxwYRk771tgPrk4j+qc=",
         "2024-01-09",
         256.77,
         245,
         "CUST092",
         "ORD1244",
         false,
         "2025-07-11T12:48:46.702Z"
        ],
        [
         "upEQrFdFKoitTl4/rhJadCC1AkI=",
         "2024-05-15",
         134.85,
         921,
         "CUST164",
         "ORD1920",
         false,
         "2025-07-11T12:48:46.713Z"
        ],
        [
         "cw+GCKl+N6NEJ1YKgUceAdQD+jE=",
         "2024-01-16",
         230.15,
         96,
         "CUST039",
         "ORD1095",
         false,
         "2025-07-11T12:48:46.685Z"
        ],
        [
         "w2W7PKoSaJgNa+WIJXDJGHR9Ap0=",
         "2024-05-04",
         154.04,
         307,
         "CUST116",
         "ORD1306",
         false,
         "2025-07-11T12:48:46.708Z"
        ],
        [
         "a1X6QaH+7OjIfPL839+NJSU1xY0=",
         "2024-01-13",
         219.58,
         266,
         "CUST101",
         "ORD1265",
         false,
         "2025-07-11T12:48:46.704Z"
        ],
        [
         "J/4lFxBAEcZZ496mxM27Fmj4eHY=",
         "2024-09-11",
         89.37,
         582,
         "CUST072",
         "ORD1581",
         false,
         "2025-07-11T12:48:46.698Z"
        ],
        [
         "33X4n+SGaCfSb5XetcmVr+DTv4Q=",
         "2024-08-08",
         235.84,
         331,
         "CUST125",
         "ORD1330",
         false,
         "2025-07-11T12:48:46.709Z"
        ],
        [
         "7Cip24+ELCCCw6Qe5E77C/+hGgc=",
         "2024-04-30",
         138.85,
         667,
         "CUST018",
         "ORD1666",
         false,
         "2025-07-11T12:48:46.674Z"
        ],
        [
         "QaQo083iZyzjhnbMdZuD9iXdb64=",
         "2024-10-30",
         238.34,
         485,
         "CUST178",
         "ORD1484",
         false,
         "2025-07-11T12:48:46.714Z"
        ],
        [
         "AkxmiYoSf6d7g9HMdRzJLcyJZBg=",
         "2024-04-12",
         204.21,
         111,
         "CUST045",
         "ORD1110",
         false,
         "2025-07-11T12:48:46.688Z"
        ],
        [
         "JT+PVJczBJuUcy8iVn5azyJRmQ8=",
         "2024-07-10",
         213.72,
         247,
         "CUST093",
         "ORD1246",
         false,
         "2025-07-11T12:48:46.702Z"
        ],
        [
         "j+ikZ8SrMLMgwhKMagATKos3rUw=",
         "2024-11-15",
         15.89,
         797,
         "CUST001",
         "ORD1796",
         false,
         "2025-07-11T12:48:46.663Z"
        ],
        [
         "QoKEhCwDyLvdyNerhiP3wlwbAII=",
         "2024-11-03",
         49.11,
         600,
         "CUST114",
         "ORD1599",
         false,
         "2025-07-11T12:48:46.708Z"
        ],
        [
         "9xVfhfNt+eHbIgzjSiKuuF91yfw=",
         "2024-05-29",
         109.18,
         95,
         "CUST038",
         "ORD1094",
         false,
         "2025-07-11T12:48:46.685Z"
        ],
        [
         "ai3STETuISd/amlcMseO/6qcTVU=",
         "2024-01-25",
         15.67,
         467,
         "CUST172",
         "ORD1466",
         false,
         "2025-07-11T12:48:46.714Z"
        ],
        [
         "l4a+a/QAQLDxS4HRjJxElfdZV3g=",
         "2024-08-17",
         264.96,
         315,
         "CUST120",
         "ORD1314",
         false,
         "2025-07-11T12:48:46.709Z"
        ],
        [
         "U7gFw9gfmJp5hc2bAaLH030q8sM=",
         "2024-07-01",
         63.92,
         713,
         "CUST052",
         "ORD1712",
         false,
         "2025-07-11T12:48:46.691Z"
        ],
        [
         "4I6cDsAe2FvhcN8D/XsWmepfalc=",
         "2024-06-23",
         147.91,
         268,
         "CUST102",
         "ORD1267",
         false,
         "2025-07-11T12:48:46.704Z"
        ],
        [
         "5o2F3AsizHiFxYSeJSEN9YmU1H4=",
         "2024-03-25",
         254.59,
         10,
         "CUST005",
         "ORD1009",
         false,
         "2025-07-11T12:48:46.665Z"
        ],
        [
         "XC7cKigNtdu91py3RQX9TgZXRVU=",
         "2024-06-17",
         170.55,
         427,
         "CUST157",
         "ORD1426",
         false,
         "2025-07-11T12:48:46.713Z"
        ],
        [
         "07ZL+SXgyrozUtzn87XsbqD0qyM=",
         "2024-06-13",
         37.18,
         308,
         "CUST117",
         "ORD1307",
         false,
         "2025-07-11T12:48:46.708Z"
        ],
        [
         "z5BC5KF1GJ4OA+IZowzG6HW9b0c=",
         "2024-07-06",
         287.07,
         849,
         "CUST146",
         "ORD1848",
         false,
         "2025-07-11T12:48:46.712Z"
        ],
        [
         "ZpXgDe+b+8JrlKbyVhJF/pwDmgo=",
         "2024-06-23",
         299.55,
         257,
         "CUST097",
         "ORD1256",
         false,
         "2025-07-11T12:48:46.703Z"
        ],
        [
         "VttZ81pqi7/FUuHBd0EPY2cRlR4=",
         "2024-06-10",
         95.64,
         851,
         "CUST175",
         "ORD1850",
         false,
         "2025-07-11T12:48:46.714Z"
        ],
        [
         "rzbpD5YMLm6qk9eJmFi93zNI0gg=",
         "2024-05-18",
         213.53,
         319,
         "CUST121",
         "ORD1318",
         false,
         "2025-07-11T12:48:46.709Z"
        ],
        [
         "NT5f+WJ5bAALlB0S3tseFo4nbmw=",
         "2024-03-21",
         52.87,
         291,
         "CUST111",
         "ORD1290",
         false,
         "2025-07-11T12:48:46.707Z"
        ],
        [
         "wR96JoB7Q+w7zW0QDBeHawJXSrA=",
         "2024-04-07",
         40.56,
         406,
         "CUST149",
         "ORD1405",
         false,
         "2025-07-11T12:48:46.712Z"
        ],
        [
         "dTYBfuspPqWA3OoiCkNXRF9HkMc=",
         "2024-04-12",
         295.76,
         973,
         "CUST001",
         "ORD1972",
         false,
         "2025-07-11T12:48:46.663Z"
        ],
        [
         "mEcVTvOMc4kVEpSxOb80xkZLgIs=",
         "2024-07-08",
         195.34,
         728,
         "CUST133",
         "ORD1727",
         false,
         "2025-07-11T12:48:46.710Z"
        ],
        [
         "cvyTYqnT5FtM2K1jYvLFW8M62vg=",
         "2024-08-14",
         229.34,
         996,
         "CUST039",
         "ORD1995",
         false,
         "2025-07-11T12:48:46.685Z"
        ],
        [
         "ZxmVq8CgbV2ajyGvE2A1WAiR0EI=",
         "2024-09-25",
         294.59,
         793,
         "CUST138",
         "ORD1792",
         false,
         "2025-07-11T12:48:46.711Z"
        ],
        [
         "QhRiN4TYnifbIPTHrvls42r+sLc=",
         "2024-07-03",
         98.58,
         409,
         "CUST150",
         "ORD1408",
         false,
         "2025-07-11T12:48:46.712Z"
        ],
        [
         "KEw8DIh4F7Rov5U1wBcj9VgYtaw=",
         "2024-02-09",
         66.09,
         251,
         "CUST095",
         "ORD1250",
         false,
         "2025-07-11T12:48:46.703Z"
        ],
        [
         "5/xAG7F8J5vqAR+XULHuN1UjWW4=",
         "2024-07-03",
         287.3,
         416,
         "CUST153",
         "ORD1415",
         false,
         "2025-07-11T12:48:46.712Z"
        ],
        [
         "iSFGT7uhzW2hWiXCNxuW0PamHXo=",
         "2024-02-15",
         291.02,
         320,
         "CUST122",
         "ORD1319",
         false,
         "2025-07-11T12:48:46.709Z"
        ],
        [
         "ENs0iCFeX6O9AUy7p1/kk+O3iTI=",
         "2024-05-08",
         245.67,
         290,
         "CUST110",
         "ORD1289",
         false,
         "2025-07-11T12:48:46.707Z"
        ],
        [
         "zTUtE2I/wGB5FaAngkrdh58WVps=",
         "2024-10-11",
         72.65,
         654,
         "CUST037",
         "ORD1653",
         false,
         "2025-07-11T12:48:46.685Z"
        ],
        [
         "V1SNZHb0R0fDcvY40cyeuMEEGnA=",
         "2024-04-24",
         274.03,
         131,
         "CUST051",
         "ORD1130",
         false,
         "2025-07-11T12:48:46.690Z"
        ],
        [
         "vvzOGMXRDqFCtSXtnJqivP5lpCs=",
         "2024-03-29",
         16.13,
         374,
         "CUST138",
         "ORD1373",
         false,
         "2025-07-11T12:48:46.711Z"
        ],
        [
         "E2m6Z0KyOHAjIqoI8pnzT8dbMDQ=",
         "2024-08-08",
         128.97,
         741,
         "CUST171",
         "ORD1740",
         false,
         "2025-07-11T12:48:46.714Z"
        ],
        [
         "C7PBSY2ygBZ2pbdbfxsfnOgZMMs=",
         "2024-09-27",
         221.0,
         164,
         "CUST063",
         "ORD1163",
         false,
         "2025-07-11T12:48:46.695Z"
        ],
        [
         "TVOOFNCcCulghyioo6WJxDymPFo=",
         "2024-06-04",
         193.35,
         220,
         "CUST082",
         "ORD1219",
         false,
         "2025-07-11T12:48:46.700Z"
        ],
        [
         "eIOv9ejAvx3WwidMJvFq0hejxPg=",
         "2024-02-01",
         158.22,
         196,
         "CUST074",
         "ORD1195",
         false,
         "2025-07-11T12:48:46.698Z"
        ],
        [
         "f48msmvNbSG4smk7B33UfxFgqwE=",
         "2024-06-21",
         221.05,
         442,
         "CUST164",
         "ORD1441",
         false,
         "2025-07-11T12:48:46.713Z"
        ],
        [
         "9CMrv3SPtemgOxUslFOLQ7uCO8A=",
         "2024-09-07",
         218.56,
         940,
         "CUST044",
         "ORD1939",
         false,
         "2025-07-11T12:48:46.687Z"
        ],
        [
         "iGnREIBvi19oJEPRO0rTTeYvV8w=",
         "2024-06-17",
         291.68,
         841,
         "CUST043",
         "ORD1840",
         false,
         "2025-07-11T12:48:46.687Z"
        ],
        [
         "TB+/u19LySPb/gdtt+SQSZv8GMU=",
         "2024-03-02",
         137.86,
         756,
         "CUST069",
         "ORD1755",
         false,
         "2025-07-11T12:48:46.697Z"
        ],
        [
         "NUj8G9Kp+G+qXnPSosWk6ZvCJ5o=",
         "2024-03-25",
         76.04,
         177,
         "CUST067",
         "ORD1176",
         false,
         "2025-07-11T12:48:46.696Z"
        ],
        [
         "DkeenH7PGTgrKjNmly5+S6wiA5s=",
         "2024-03-14",
         191.72,
         937,
         "CUST031",
         "ORD1936",
         false,
         "2025-07-11T12:48:46.681Z"
        ],
        [
         "f5BmrbwDZwh3pExTLkx/RqMhGFk=",
         "2024-12-28",
         167.75,
         954,
         "CUST079",
         "ORD1953",
         false,
         "2025-07-11T12:48:46.700Z"
        ],
        [
         "+aiaQ7gcbA9+WeiPjeP/wYC0tUg=",
         "2024-09-15",
         287.86,
         943,
         "CUST023",
         "ORD1942",
         false,
         "2025-07-11T12:48:46.678Z"
        ],
        [
         "6sBJUXsscD9dDDXsPj/ohRM0WCM=",
         "2024-10-08",
         118.21,
         902,
         "CUST019",
         "ORD1901",
         false,
         "2025-07-11T12:48:46.676Z"
        ],
        [
         "YNNsz3u68hrrbmyEqP9nbWegP5I=",
         "2024-11-17",
         213.08,
         717,
         "CUST022",
         "ORD1716",
         false,
         "2025-07-11T12:48:46.677Z"
        ],
        [
         "D84AAJB6KR1ViDuMu2eaDczF6qQ=",
         "2024-05-27",
         299.21,
         102,
         "CUST042",
         "ORD1101",
         false,
         "2025-07-11T12:48:46.686Z"
        ],
        [
         "CmCTFhRMR/CRNI+YHcnwbQYGzB4=",
         "2024-11-23",
         172.05,
         780,
         "CUST103",
         "ORD1779",
         false,
         "2025-07-11T12:48:46.705Z"
        ],
        [
         "ZyBewbr3vpjS/p+Sd6kwV0ShJs8=",
         "2024-03-04",
         187.22,
         325,
         "CUST124",
         "ORD1324",
         false,
         "2025-07-11T12:48:46.709Z"
        ],
        [
         "F2UxS3ikmKiZp8RVqpU09rOrtsg=",
         "2024-07-07",
         270.82,
         233,
         "CUST087",
         "ORD1232",
         false,
         "2025-07-11T12:48:46.702Z"
        ],
        [
         "PnTXSDW2u7wV7bIpzHfA6XFY9Wg=",
         "2024-08-31",
         126.97,
         518,
         "CUST189",
         "ORD1517",
         false,
         "2025-07-11T12:48:46.716Z"
        ],
        [
         "GCUuq9en9tNaSdLRy57eIWov97k=",
         "2024-06-05",
         207.77,
         33,
         "CUST015",
         "ORD1032",
         false,
         "2025-07-11T12:48:46.672Z"
        ],
        [
         "83+lvWae4+Jlyre1pUdbTOUT1oA=",
         "2024-09-11",
         166.27,
         984,
         "CUST035",
         "ORD1983",
         false,
         "2025-07-11T12:48:46.684Z"
        ],
        [
         "0OomAPp2ZX17D6cFFMzzmdQ5Xoc=",
         "2024-02-27",
         64.72,
         305,
         "CUST115",
         "ORD1304",
         false,
         "2025-07-11T12:48:46.708Z"
        ],
        [
         "IotYw3xiQLhcuPlINAS2EkD20tQ=",
         "2024-07-01",
         42.21,
         330,
         "CUST125",
         "ORD1329",
         false,
         "2025-07-11T12:48:46.709Z"
        ],
        [
         "9wgHscNDkRSrpAVRud4BdI5CYH8=",
         "2024-08-16",
         244.95,
         690,
         "CUST030",
         "ORD1689",
         false,
         "2025-07-11T12:48:46.681Z"
        ],
        [
         "Y5hjrN258+RkZDXZSit/nqsjjLc=",
         "2024-10-21",
         19.52,
         617,
         "CUST065",
         "ORD1616",
         false,
         "2025-07-11T12:48:46.696Z"
        ],
        [
         "q0efN0wMSAeqdhvTrVyohd2TFmg=",
         "2024-04-20",
         249.51,
         23,
         "CUST010",
         "ORD1022",
         false,
         "2025-07-11T12:48:46.669Z"
        ],
        [
         "BmNvLxo7Zj8tvbYiKcfg92Ga9X4=",
         "2024-02-04",
         126.63,
         424,
         "CUST157",
         "ORD1423",
         false,
         "2025-07-11T12:48:46.713Z"
        ],
        [
         "4xqDFUQg3tMPvxJ/rvUHG4RWH2s=",
         "2024-06-20",
         171.4,
         260,
         "CUST099",
         "ORD1259",
         false,
         "2025-07-11T12:48:46.704Z"
        ],
        [
         "hMgdqKiLlFvvVGUcFC4qdzYFCDE=",
         "2024-02-25",
         58.57,
         433,
         "CUST160",
         "ORD1432",
         false,
         "2025-07-11T12:48:46.713Z"
        ],
        [
         "5UutScF5VBBuW4ZolCYMy4pNts4=",
         "2024-04-27",
         127.29,
         61,
         "CUST027",
         "ORD1060",
         false,
         "2025-07-11T12:48:46.679Z"
        ],
        [
         "m3w/JJjrlXh03rmpQ32KpOhu/CM=",
         "2024-08-14",
         133.2,
         672,
         "CUST144",
         "ORD1671",
         false,
         "2025-07-11T12:48:46.711Z"
        ],
        [
         "CNNiiCOqQkk+fp+poz5e/pgiQ9c=",
         "2024-12-13",
         183.23,
         792,
         "CUST012",
         "ORD1791",
         false,
         "2025-07-11T12:48:46.671Z"
        ],
        [
         "rLIimQuxuqyJDG6RK3mlk3yfJWY=",
         "2024-06-15",
         274.44,
         624,
         "CUST199",
         "ORD1623",
         false,
         "2025-07-11T12:48:46.717Z"
        ],
        [
         "rHbnAO62EZdv6aKCzaDhCLaaZ8g=",
         "2024-01-20",
         199.96,
         515,
         "CUST189",
         "ORD1514",
         false,
         "2025-07-11T12:48:46.716Z"
        ],
        [
         "NtCRgaFpeZTK34iCA4leVaycuH4=",
         "2024-11-17",
         241.42,
         573,
         "CUST183",
         "ORD1572",
         false,
         "2025-07-11T12:48:46.715Z"
        ],
        [
         "kS+EE9EMi8WIcAFjZOPz76x0Ia8=",
         "2024-07-16",
         107.84,
         540,
         "CUST196",
         "ORD1539",
         false,
         "2025-07-11T12:48:46.716Z"
        ],
        [
         "B9DpTbyCRsoxBDdotRQxp9kxqpw=",
         "2024-03-28",
         262.35,
         67,
         "CUST029",
         "ORD1066",
         false,
         "2025-07-11T12:48:46.680Z"
        ],
        [
         "sWtFY5HXFzzMJxcJsGW+nU7kvEY=",
         "2024-02-28",
         227.51,
         237,
         "CUST089",
         "ORD1236",
         false,
         "2025-07-11T12:48:46.702Z"
        ],
        [
         "7lP/dw0zRLIfzxeU7GIrUX2y4E8=",
         "2024-07-24",
         208.93,
         145,
         "CUST056",
         "ORD1144",
         false,
         "2025-07-11T12:48:46.693Z"
        ],
        [
         "X8lxPNRcYgEUBO9xE1hN/L70jHY=",
         "2024-02-27",
         185.71,
         140,
         "CUST055",
         "ORD1139",
         false,
         "2025-07-11T12:48:46.692Z"
        ],
        [
         "oMGaP95kDjK+pyK3oJT9Msl9/KI=",
         "2024-11-01",
         165.73,
         647,
         "CUST023",
         "ORD1646",
         false,
         "2025-07-11T12:48:46.678Z"
        ],
        [
         "jATxFnV9uKv8dBqistKBYFlsMFQ=",
         "2024-05-15",
         93.45,
         352,
         "CUST131",
         "ORD1351",
         false,
         "2025-07-11T12:48:46.710Z"
        ],
        [
         "sL02hNyRSjxbpLTPoSkUOXGsLQs=",
         "2024-08-31",
         97.27,
         593,
         "CUST113",
         "ORD1592",
         false,
         "2025-07-11T12:48:46.707Z"
        ],
        [
         "wrLKDWP1UiyRbjezDuSDLT8CBSk=",
         "2024-05-19",
         175.63,
         11,
         "CUST005",
         "ORD1010",
         false,
         "2025-07-11T12:48:46.665Z"
        ],
        [
         "eRR0v7fHkagUr5rnNolkdLMpUQI=",
         "2024-01-14",
         25.53,
         837,
         "CUST102",
         "ORD1836",
         false,
         "2025-07-11T12:48:46.704Z"
        ],
        [
         "Zq06u+56QH0ml8MCZu+jyxTnboE=",
         "2024-12-05",
         284.14,
         610,
         "CUST183",
         "ORD1609",
         false,
         "2025-07-11T12:48:46.715Z"
        ],
        [
         "NcQZ5nB20+9BL/JjgLbp2lVZ30w=",
         "2024-04-21",
         152.16,
         99,
         "CUST040",
         "ORD1098",
         false,
         "2025-07-11T12:48:46.686Z"
        ],
        [
         "gBwOz+W8Hb09vVoRLwVgNa7x9xA=",
         "2024-03-30",
         152.38,
         544,
         "CUST198",
         "ORD1543",
         false,
         "2025-07-11T12:48:46.716Z"
        ],
        [
         "QdHPa/oYeKK3JXVcpNUz+DNG13s=",
         "2024-06-21",
         134.89,
         276,
         "CUST104",
         "ORD1275",
         false,
         "2025-07-11T12:48:46.705Z"
        ],
        [
         "/NXfb+y7l1F1A729u1cguKgo14g=",
         "2024-03-04",
         237.37,
         656,
         "CUST185",
         "ORD1655",
         false,
         "2025-07-11T12:48:46.715Z"
        ],
        [
         "6ThOvMqEL/Ir4dvgcHlbnoMTcUI=",
         "2024-02-03",
         79.51,
         139,
         "CUST055",
         "ORD1138",
         false,
         "2025-07-11T12:48:46.692Z"
        ],
        [
         "Hq6W9bb3D+TumCMSBLpqeV0oC0I=",
         "2024-03-12",
         72.49,
         882,
         "CUST059",
         "ORD1881",
         false,
         "2025-07-11T12:48:46.694Z"
        ],
        [
         "LB69AIj1iytwDEEMBUXMRS2pnkY=",
         "2024-05-21",
         57.28,
         934,
         "CUST125",
         "ORD1933",
         false,
         "2025-07-11T12:48:46.709Z"
        ],
        [
         "OJ9h+B+EEfCQCivxvuKoUlmbaLw=",
         "2024-01-04",
         143.51,
         272,
         "CUST104",
         "ORD1271",
         false,
         "2025-07-11T12:48:46.705Z"
        ],
        [
         "KIHmpLGfnJEFKLS1Qxhr/fZvcN4=",
         "2024-06-29",
         244.03,
         384,
         "CUST141",
         "ORD1383",
         false,
         "2025-07-11T12:48:46.711Z"
        ],
        [
         "syxxlGMf4qVKRRHiaS1bP9+jFPY=",
         "2024-11-08",
         274.68,
         839,
         "CUST028",
         "ORD1838",
         false,
         "2025-07-11T12:48:46.680Z"
        ],
        [
         "o5WNYqVadztg4ED0dqChFrVaOuI=",
         "2024-07-17",
         282.28,
         167,
         "CUST064",
         "ORD1166",
         false,
         "2025-07-11T12:48:46.695Z"
        ],
        [
         "5cug0CXCMiRdsdSuheCb8/bUewk=",
         "2024-08-07",
         281.17,
         859,
         "CUST018",
         "ORD1858",
         false,
         "2025-07-11T12:48:46.674Z"
        ],
        [
         "aMhWy/xFNftDWqt4OsFfHDktylY=",
         "2024-06-20",
         294.61,
         212,
         "CUST079",
         "ORD1211",
         false,
         "2025-07-11T12:48:46.700Z"
        ],
        [
         "AR57Aum/d8dKZBJUUA+JekeWu4U=",
         "2024-03-13",
         296.94,
         323,
         "CUST123",
         "ORD1322",
         false,
         "2025-07-11T12:48:46.709Z"
        ],
        [
         "aGxAVkowWPt6b2i8qcg3ASsGWW0=",
         "2024-10-23",
         150.53,
         348,
         "CUST129",
         "ORD1347",
         false,
         "2025-07-11T12:48:46.710Z"
        ],
        [
         "IaOXy7zMhjUdhC/k/XBKCGTUDhU=",
         "2024-06-07",
         89.06,
         933,
         "CUST123",
         "ORD1932",
         false,
         "2025-07-11T12:48:46.709Z"
        ],
        [
         "3jtKAI8Y97rya2AUshvGqWH4bq8=",
         "2024-04-21",
         55.56,
         292,
         "CUST111",
         "ORD1291",
         false,
         "2025-07-11T12:48:46.707Z"
        ],
        [
         "5pLmbAw0KNpuDSS/QSnIofuMH5g=",
         "2024-12-18",
         234.34,
         643,
         "CUST045",
         "ORD1642",
         false,
         "2025-07-11T12:48:46.688Z"
        ],
        [
         "9xhaxC9923ljbgP8Mh2QRF/6VTE=",
         "2024-02-16",
         232.58,
         269,
         "CUST103",
         "ORD1268",
         false,
         "2025-07-11T12:48:46.704Z"
        ],
        [
         "655tn/2mWNiZCGkuMdicuk5dwyk=",
         "2024-02-04",
         57.7,
         683,
         "CUST019",
         "ORD1682",
         false,
         "2025-07-11T12:48:46.675Z"
        ],
        [
         "eEwQJkralGdnpCXA1FXXn1MrmBM=",
         "2024-06-03",
         254.52,
         327,
         "CUST124",
         "ORD1326",
         false,
         "2025-07-11T12:48:46.709Z"
        ],
        [
         "hfpbqczkaLecBgC5VQWJezaki8w=",
         "2024-06-15",
         86.75,
         41,
         "CUST018",
         "ORD1040",
         false,
         "2025-07-11T12:48:46.674Z"
        ],
        [
         "4kqh599y+6+X9cP6nkjNLPtzRYs=",
         "2024-12-18",
         286.9,
         737,
         "CUST099",
         "ORD1736",
         false,
         "2025-07-11T12:48:46.704Z"
        ],
        [
         "XWoWvP3Z1tTx9USi2a3gAMZSvq0=",
         "2024-09-21",
         48.43,
         86,
         "CUST035",
         "ORD1085",
         false,
         "2025-07-11T12:48:46.683Z"
        ],
        [
         "r/3wnRTpRF+TfEmdfRRPZmmNMco=",
         "2024-06-13",
         35.8,
         941,
         "CUST197",
         "ORD1940",
         false,
         "2025-07-11T12:48:46.716Z"
        ],
        [
         "ik15k12Dkz49ISzeDWfi1gNUyZE=",
         "2024-01-10",
         74.3,
         631,
         "CUST060",
         "ORD1630",
         false,
         "2025-07-11T12:48:46.694Z"
        ],
        [
         "Q5DwgumIrk5DEFFUzQeS3sZieIo=",
         "2024-05-15",
         155.75,
         137,
         "CUST054",
         "ORD1136",
         false,
         "2025-07-11T12:48:46.692Z"
        ],
        [
         "wMjg93VrCdQ9bLNavg7uT0OFwWg=",
         "2024-12-14",
         29.42,
         638,
         "CUST023",
         "ORD1637",
         false,
         "2025-07-11T12:48:46.678Z"
        ],
        [
         "7X1ftU7kadeRkLPqecj02KNlZJE=",
         "2024-08-13",
         157.37,
         612,
         "CUST165",
         "ORD1611",
         false,
         "2025-07-11T12:48:46.713Z"
        ],
        [
         "Zwjhgw50AT7+21v3BgZxuMuI0As=",
         "2024-04-24",
         109.37,
         447,
         "CUST165",
         "ORD1446",
         false,
         "2025-07-11T12:48:46.713Z"
        ],
        [
         "AlxjtLvaBV62iPLEeKz0CWl4NV4=",
         "2024-04-03",
         255.53,
         474,
         "CUST174",
         "ORD1473",
         false,
         "2025-07-11T12:48:46.714Z"
        ],
        [
         "ZVS2WulDwO0hrhQ3YvGVtfjhz8A=",
         "2024-05-19",
         274.27,
         778,
         "CUST108",
         "ORD1777",
         false,
         "2025-07-11T12:48:46.707Z"
        ],
        [
         "bGI5wnTw4ZhjFoYerVPgTQbZRRs=",
         "2024-06-05",
         188.31,
         128,
         "CUST050",
         "ORD1127",
         false,
         "2025-07-11T12:48:46.690Z"
        ],
        [
         "Ej2F290OE+UAXOhenHM+3f73HeE=",
         "2024-04-15",
         237.36,
         362,
         "CUST134",
         "ORD1361",
         false,
         "2025-07-11T12:48:46.710Z"
        ],
        [
         "UYY1jOO8q4i0gBxLDSwCmwW2b1Q=",
         "2024-07-22",
         263.41,
         124,
         "CUST049",
         "ORD1123",
         false,
         "2025-07-11T12:48:46.689Z"
        ],
        [
         "c6IsBxmyUZ+a2JXB+CCmOnxoNDY=",
         "2024-06-22",
         248.5,
         892,
         "CUST113",
         "ORD1891",
         false,
         "2025-07-11T12:48:46.708Z"
        ],
        [
         "thcq8XPVEH3tZK3Ho+zBGI5cqxE=",
         "2024-08-04",
         187.37,
         174,
         "CUST066",
         "ORD1173",
         false,
         "2025-07-11T12:48:46.696Z"
        ],
        [
         "rfDg37/My+LUQzs8hn3tZSiuvi0=",
         "2024-12-20",
         87.54,
         718,
         "CUST057",
         "ORD1717",
         false,
         "2025-07-11T12:48:46.693Z"
        ],
        [
         "gF7ms9OFxN1YzNgVK6ktBdDJPzg=",
         "2024-04-01",
         44.82,
         805,
         "CUST018",
         "ORD1804",
         false,
         "2025-07-11T12:48:46.674Z"
        ],
        [
         "qScnWvEACnX+tKk7fa2hvG9DfKw=",
         "2024-08-22",
         160.58,
         682,
         "CUST145",
         "ORD1681",
         false,
         "2025-07-11T12:48:46.712Z"
        ],
        [
         "2hct6u5Jw/Emnimj6dGeQ7e0KX8=",
         "2024-12-14",
         61.15,
         913,
         "CUST052",
         "ORD1912",
         false,
         "2025-07-11T12:48:46.691Z"
        ],
        [
         "0/gDLb6nFbM1byvf3M5sYq7FQJI=",
         "2024-05-10",
         159.53,
         758,
         "CUST154",
         "ORD1757",
         false,
         "2025-07-11T12:48:46.712Z"
        ],
        [
         "RoAMvGxoenoGQnlQET7LBGVkEnA=",
         "2024-06-05",
         215.68,
         50,
         "CUST022",
         "ORD1049",
         false,
         "2025-07-11T12:48:46.677Z"
        ],
        [
         "oMWOaSU2N9y9+Y1EVqTsOzyeJPY=",
         "2024-10-16",
         133.41,
         195,
         "CUST073",
         "ORD1194",
         false,
         "2025-07-11T12:48:46.698Z"
        ],
        [
         "EUc0uUTboJZfO3tfjtsC14YDfBk=",
         "2024-02-15",
         44.49,
         129,
         "CUST051",
         "ORD1128",
         false,
         "2025-07-11T12:48:46.690Z"
        ],
        [
         "+vQybdPeWE4eH5OltEeuZW95ssM=",
         "2024-06-14",
         167.96,
         511,
         "CUST188",
         "ORD1510",
         false,
         "2025-07-11T12:48:46.715Z"
        ],
        [
         "CnrNgOnYuW2mDq4/VqZtKqR3I+o=",
         "2024-03-23",
         204.94,
         944,
         "CUST147",
         "ORD1943",
         false,
         "2025-07-11T12:48:46.712Z"
        ],
        [
         "NTw6eveHWA+LvF7Ebe8TFH3RCVE=",
         "2024-04-17",
         249.5,
         431,
         "CUST159",
         "ORD1430",
         false,
         "2025-07-11T12:48:46.713Z"
        ],
        [
         "QHHlJs9tQwK5mYI1Wj62qHoEPog=",
         "2024-12-18",
         132.53,
         437,
         "CUST161",
         "ORD1436",
         false,
         "2025-07-11T12:48:46.713Z"
        ],
        [
         "qdivwNOMDEJNW9+7E4arz5NxiZE=",
         "2024-06-08",
         171.73,
         155,
         "CUST059",
         "ORD1154",
         false,
         "2025-07-11T12:48:46.694Z"
        ],
        [
         "GKn0htUiAWfoPHIlP5s9OEGPlnM=",
         "2024-03-10",
         225.92,
         779,
         "CUST101",
         "ORD1778",
         false,
         "2025-07-11T12:48:46.704Z"
        ],
        [
         "sbgpxuXgj0QHCjF+So/TZKOjbLM=",
         "2024-05-04",
         289.2,
         188,
         "CUST071",
         "ORD1187",
         false,
         "2025-07-11T12:48:46.697Z"
        ],
        [
         "7E95QH3IbL0uzkrrMPUJWr0qzAw=",
         "2024-01-31",
         175.42,
         8,
         "CUST004",
         "ORD1007",
         false,
         "2025-07-11T12:48:46.665Z"
        ],
        [
         "39Q07B39CXZKaver9wJKDm/q+J8=",
         "2024-08-23",
         288.96,
         366,
         "CUST135",
         "ORD1365",
         false,
         "2025-07-11T12:48:46.710Z"
        ],
        [
         "yFqgPnk5FtjnY0h5RGZbpq8B4XI=",
         "2024-06-30",
         121.11,
         144,
         "CUST056",
         "ORD1143",
         false,
         "2025-07-11T12:48:46.692Z"
        ],
        [
         "cUsMMFB1evHbxEP6n/p5vKSzKnE=",
         "2024-01-23",
         118.2,
         657,
         "CUST069",
         "ORD1656",
         false,
         "2025-07-11T12:48:46.697Z"
        ],
        [
         "OwrPjzMeceKelZJCRkDlX15pfnw=",
         "2024-03-31",
         96.06,
         754,
         "CUST006",
         "ORD1753",
         false,
         "2025-07-11T12:48:46.666Z"
        ],
        [
         "xmAEcwRI9mfcqu9iQYOfvLXdzb8=",
         "2024-05-08",
         65.95,
         271,
         "CUST103",
         "ORD1270",
         false,
         "2025-07-11T12:48:46.705Z"
        ],
        [
         "sbBc3d9+pLqRcB7+1dEtxM/AOWQ=",
         "2024-12-06",
         277.6,
         679,
         "CUST196",
         "ORD1678",
         false,
         "2025-07-11T12:48:46.716Z"
        ],
        [
         "uH0fVmbOHGbRpNzUspTGzg94tmk=",
         "2024-06-02",
         13.69,
         340,
         "CUST127",
         "ORD1339",
         false,
         "2025-07-11T12:48:46.710Z"
        ],
        [
         "d2m03Qjk8zvGvgdD5qDPshWx8PI=",
         "2024-01-11",
         103.17,
         38,
         "CUST017",
         "ORD1037",
         false,
         "2025-07-11T12:48:46.673Z"
        ],
        [
         "Yzo0SaGDpQ9m6Mx8fbEjTDVMfeI=",
         "2024-04-29",
         60.15,
         274,
         "CUST104",
         "ORD1273",
         false,
         "2025-07-11T12:48:46.705Z"
        ],
        [
         "GJWPr/9ubnB+sv3DGqEnQCYnpOE=",
         "2024-07-14",
         189.34,
         484,
         "CUST178",
         "ORD1483",
         false,
         "2025-07-11T12:48:46.714Z"
        ],
        [
         "3fFW7HAjubwJVzGPIKseAqkwW+Q=",
         "2024-06-18",
         265.21,
         538,
         "CUST195",
         "ORD1537",
         false,
         "2025-07-11T12:48:46.716Z"
        ],
        [
         "1+LhFeMyulCDoXkp2WkAeqfAG8c=",
         "2024-12-04",
         291.24,
         722,
         "CUST098",
         "ORD1721",
         false,
         "2025-07-11T12:48:46.703Z"
        ],
        [
         "hKTF60oX59+MzrM7OEmcSESHTi0=",
         "2024-06-10",
         245.76,
         82,
         "CUST034",
         "ORD1081",
         false,
         "2025-07-11T12:48:46.683Z"
        ],
        [
         "9PAxM6dI6WZrCawwxdY/eA1ol+w=",
         "2024-05-27",
         185.94,
         821,
         "CUST097",
         "ORD1820",
         false,
         "2025-07-11T12:48:46.703Z"
        ],
        [
         "7B2JoAtuMqxgEUlJ2DyOp/Q0vH4=",
         "2024-05-24",
         264.52,
         287,
         "CUST109",
         "ORD1286",
         false,
         "2025-07-11T12:48:46.707Z"
        ],
        [
         "YSQ+LpjSKNakyDSsibvWX+ZXgt0=",
         "2024-05-01",
         165.6,
         796,
         "CUST057",
         "ORD1795",
         false,
         "2025-07-11T12:48:46.693Z"
        ],
        [
         "UIEo8oiJjP/3FO2dET0ehUywYAU=",
         "2024-09-23",
         42.63,
         872,
         "CUST006",
         "ORD1871",
         false,
         "2025-07-11T12:48:46.667Z"
        ],
        [
         "F+ap/+wZAgp1hLQntB35/rd3wnM=",
         "2024-02-25",
         213.92,
         500,
         "CUST184",
         "ORD1499",
         false,
         "2025-07-11T12:48:46.715Z"
        ],
        [
         "+KOJD07V3jSH8q433ZaCqiTfQsw=",
         "2024-03-26",
         247.96,
         339,
         "CUST127",
         "ORD1338",
         false,
         "2025-07-11T12:48:46.710Z"
        ],
        [
         "cAfZRG1B6nWvP7LWLdZ8zfkLurs=",
         "2024-12-04",
         178.74,
         650,
         "CUST154",
         "ORD1649",
         false,
         "2025-07-11T12:48:46.712Z"
        ],
        [
         "fVAJ5q6w/yu6y3MrMVq1QslLZ20=",
         "2024-02-02",
         279.39,
         856,
         "CUST032",
         "ORD1855",
         false,
         "2025-07-11T12:48:46.682Z"
        ],
        [
         "yR2IhN0+lSNRug/ArO4E9qkskxo=",
         "2024-03-16",
         191.85,
         725,
         "CUST021",
         "ORD1724",
         false,
         "2025-07-11T12:48:46.677Z"
        ],
        [
         "C43B0SGosv4pEN/x7G3jpIFov/E=",
         "2024-01-23",
         256.07,
         221,
         "CUST083",
         "ORD1220",
         false,
         "2025-07-11T12:48:46.701Z"
        ],
        [
         "fSGPWvcgRiqbMvzu6UUQk3Vdw2U=",
         "2024-06-06",
         23.91,
         244,
         "CUST091",
         "ORD1243",
         false,
         "2025-07-11T12:48:46.702Z"
        ],
        [
         "ooLQs1TGkHFQCxBQGx+84TtmyvE=",
         "2024-06-20",
         131.91,
         84,
         "CUST035",
         "ORD1083",
         false,
         "2025-07-11T12:48:46.683Z"
        ],
        [
         "r/DTjLL1ok2zxG4IJyCAg2ijktk=",
         "2024-08-03",
         79.57,
         355,
         "CUST131",
         "ORD1354",
         false,
         "2025-07-11T12:48:46.710Z"
        ],
        [
         "QN4UatWQfuzCUq3XoXBEmrdZaPQ=",
         "2024-12-21",
         241.23,
         599,
         "CUST108",
         "ORD1598",
         false,
         "2025-07-11T12:48:46.706Z"
        ],
        [
         "moJOiWFhon16ifPYm2T7sEJ7lgI=",
         "2024-05-01",
         12.47,
         309,
         "CUST118",
         "ORD1308",
         false,
         "2025-07-11T12:48:46.708Z"
        ],
        [
         "AozYY6+Il8m5nvaU56GPpC4reV8=",
         "2024-09-12",
         167.7,
         557,
         "CUST051",
         "ORD1556",
         false,
         "2025-07-11T12:48:46.690Z"
        ],
        [
         "/AHW/rFhZdljhhIDeLbNULZeBDE=",
         "2024-04-29",
         39.0,
         239,
         "CUST089",
         "ORD1238",
         false,
         "2025-07-11T12:48:46.702Z"
        ],
        [
         "BkizP0gSPHXy+GQVEWyI5vf/MRw=",
         "2024-01-20",
         189.31,
         803,
         "CUST131",
         "ORD1802",
         false,
         "2025-07-11T12:48:46.710Z"
        ],
        [
         "wKZO0QMCZ8KmHKrDovwwmmMyt0o=",
         "2024-05-03",
         192.11,
         668,
         "CUST017",
         "ORD1667",
         false,
         "2025-07-11T12:48:46.673Z"
        ],
        [
         "kCSypsPLGkiLAhwsTbxXtYBl5C4=",
         "2024-03-27",
         236.88,
         152,
         "CUST059",
         "ORD1151",
         false,
         "2025-07-11T12:48:46.694Z"
        ],
        [
         "x3oDFG2g2770gyo5gmvB6YggSF0=",
         "2024-09-14",
         252.35,
         960,
         "CUST115",
         "ORD1959",
         false,
         "2025-07-11T12:48:46.708Z"
        ],
        [
         "vVmwe2cW7YXNMa1ALjpBFH7tFxw=",
         "2024-05-26",
         48.23,
         563,
         "CUST182",
         "ORD1562",
         false,
         "2025-07-11T12:48:46.715Z"
        ],
        [
         "xTKK8UqbL/GB0iyBAtZ2GMD0x5Q=",
         "2024-04-05",
         38.57,
         44,
         "CUST019",
         "ORD1043",
         false,
         "2025-07-11T12:48:46.674Z"
        ],
        [
         "6YEt+fG/Ipp9vYCGbcafIRJYyjM=",
         "2024-07-23",
         18.76,
         358,
         "CUST132",
         "ORD1357",
         false,
         "2025-07-11T12:48:46.710Z"
        ],
        [
         "D3kScUXfIfLexLPmFrtopDPlL4s=",
         "2024-09-13",
         43.83,
         759,
         "CUST141",
         "ORD1758",
         false,
         "2025-07-11T12:48:46.711Z"
        ],
        [
         "Ur/douAMZEVVqtYaLwDyh/h6pWY=",
         "2024-12-19",
         250.99,
         571,
         "CUST171",
         "ORD1570",
         false,
         "2025-07-11T12:48:46.714Z"
        ],
        [
         "JIGyu+AlNOHxsN10Nj1o0kROaX4=",
         "2024-05-04",
         38.66,
         740,
         "CUST020",
         "ORD1739",
         false,
         "2025-07-11T12:48:46.676Z"
        ],
        [
         "hjPRPeA4EfPHJULtGwfABwZAz78=",
         "2024-02-18",
         132.83,
         795,
         "CUST066",
         "ORD1794",
         false,
         "2025-07-11T12:48:46.696Z"
        ],
        [
         "YdEVtlOaFZo0rNj+ecB0zfpA+tk=",
         "2024-07-16",
         29.57,
         21,
         "CUST009",
         "ORD1020",
         false,
         "2025-07-11T12:48:46.668Z"
        ],
        [
         "6ZoV18bok2Lkj7do0XuLM1H35ic=",
         "2024-08-14",
         248.72,
         57,
         "CUST025",
         "ORD1056",
         false,
         "2025-07-11T12:48:46.678Z"
        ],
        [
         "kaXovQ4CSB+m3q5oukAKAV8Q8uw=",
         "2024-04-21",
         267.19,
         389,
         "CUST143",
         "ORD1388",
         false,
         "2025-07-11T12:48:46.711Z"
        ],
        [
         "c804k8oTfMNZPKz77oeeaLPAS8g=",
         "2024-06-15",
         159.49,
         162,
         "CUST063",
         "ORD1161",
         false,
         "2025-07-11T12:48:46.695Z"
        ],
        [
         "jojV+Lh+waEwomBmdNu2R5pwZYw=",
         "2024-04-18",
         82.0,
         15,
         "CUST007",
         "ORD1014",
         false,
         "2025-07-11T12:48:46.667Z"
        ],
        [
         "Fuzo+RmdC+Cb+yPpGRIoWD9sERk=",
         "2024-03-25",
         295.47,
         468,
         "CUST172",
         "ORD1467",
         false,
         "2025-07-11T12:48:46.714Z"
        ],
        [
         "hURcj1jaJYkrf48pAhCsDo2llHU=",
         "2024-08-30",
         248.26,
         909,
         "CUST181",
         "ORD1908",
         false,
         "2025-07-11T12:48:46.715Z"
        ],
        [
         "jbQKrlckarN6oIEHPltnA+873lQ=",
         "2024-03-01",
         205.13,
         98,
         "CUST040",
         "ORD1097",
         false,
         "2025-07-11T12:48:46.686Z"
        ],
        [
         "j9/LN8/ltEi8nStepOIZ+JtN/2Q=",
         "2024-05-11",
         225.6,
         527,
         "CUST193",
         "ORD1526",
         false,
         "2025-07-11T12:48:46.716Z"
        ],
        [
         "0uyKUfXP3pyUJM2z8n6GS03vwK0=",
         "2024-06-02",
         186.64,
         877,
         "CUST006",
         "ORD1876",
         false,
         "2025-07-11T12:48:46.667Z"
        ],
        [
         "Am3XK0RCW7gSdBIzMU/BkYaONqg=",
         "2024-04-05",
         46.55,
         477,
         "CUST176",
         "ORD1476",
         false,
         "2025-07-11T12:48:46.714Z"
        ],
        [
         "30QM/iSYQHskYwO0uOr8SPGp9FU=",
         "2024-07-24",
         221.17,
         261,
         "CUST099",
         "ORD1260",
         false,
         "2025-07-11T12:48:46.704Z"
        ],
        [
         "Ru9zQYoZPsuN1dHx+9HYr48gqjA=",
         "2024-04-27",
         106.85,
         105,
         "CUST043",
         "ORD1104",
         false,
         "2025-07-11T12:48:46.687Z"
        ],
        [
         "NKzL/n2AYUjp3vfpNCSNspQDfkE=",
         "2024-07-20",
         252.21,
         448,
         "CUST165",
         "ORD1447",
         false,
         "2025-07-11T12:48:46.713Z"
        ],
        [
         "LidrYyRKxyoGUDCrS6mU25TIcu0=",
         "2024-08-21",
         155.96,
         65,
         "CUST028",
         "ORD1064",
         false,
         "2025-07-11T12:48:46.680Z"
        ],
        [
         "Ifg9RJMuH3JAlDbJglhXkgOxeEM=",
         "2024-11-01",
         196.7,
         824,
         "CUST060",
         "ORD1823",
         false,
         "2025-07-11T12:48:46.694Z"
        ],
        [
         "hEYIEDHZSp7s5dIQBsVAbtlnKg4=",
         "2024-06-23",
         82.74,
         953,
         "CUST180",
         "ORD1952",
         false,
         "2025-07-11T12:48:46.715Z"
        ],
        [
         "gvEoMk7TB7ucNHJhZd/Mdjmk7iI=",
         "2024-12-29",
         201.25,
         706,
         "CUST152",
         "ORD1705",
         false,
         "2025-07-11T12:48:46.712Z"
        ],
        [
         "PGaZ2aH9jm+gG4hqVHvL8sD8ziI=",
         "2024-02-13",
         95.05,
         134,
         "CUST053",
         "ORD1133",
         false,
         "2025-07-11T12:48:46.691Z"
        ],
        [
         "GicIVEifgKeU0FKf9ZHBN/3GaVU=",
         "2024-08-11",
         28.05,
         916,
         "CUST161",
         "ORD1915",
         false,
         "2025-07-11T12:48:46.713Z"
        ],
        [
         "kT1gG19Qh+cEhgofNU1TXmb6d2E=",
         "2024-04-19",
         206.52,
         977,
         "CUST063",
         "ORD1976",
         false,
         "2025-07-11T12:48:46.695Z"
        ],
        [
         "rvBowFtfXvQIj4sQHCdz9SR4i0E=",
         "2024-06-12",
         193.29,
         391,
         "CUST143",
         "ORD1390",
         false,
         "2025-07-11T12:48:46.711Z"
        ],
        [
         "G0NBByIc9IDKKdh1vB6itDAJ1n8=",
         "2024-01-18",
         206.55,
         317,
         "CUST121",
         "ORD1316",
         false,
         "2025-07-11T12:48:46.709Z"
        ],
        [
         "/YcWr2yBm2E/8aMQf0vWqQO/7JY=",
         "2024-04-18",
         97.27,
         623,
         "CUST115",
         "ORD1622",
         false,
         "2025-07-11T12:48:46.708Z"
        ],
        [
         "k2ibS+mCXTGA2AMnTy3oSwQD+9w=",
         "2024-06-23",
         182.52,
         280,
         "CUST106",
         "ORD1279",
         false,
         "2025-07-11T12:48:46.706Z"
        ],
        [
         "RSBxyDa3FV7gMvs+GrxlAXONzfE=",
         "2024-05-31",
         176.64,
         719,
         "CUST068",
         "ORD1718",
         false,
         "2025-07-11T12:48:46.696Z"
        ],
        [
         "3jmEsQS25vVnh9Nosf8jGRxechM=",
         "2024-06-01",
         126.02,
         769,
         "CUST072",
         "ORD1768",
         false,
         "2025-07-11T12:48:46.698Z"
        ],
        [
         "R5jma6leWZk4jQ+uFOx78lj5EdA=",
         "2024-01-03",
         234.6,
         490,
         "CUST181",
         "ORD1489",
         false,
         "2025-07-11T12:48:46.715Z"
        ],
        [
         "bhQzx2JNmNGtM6gakVQU4uI8NV0=",
         "2024-06-20",
         96.76,
         149,
         "CUST058",
         "ORD1148",
         false,
         "2025-07-11T12:48:46.693Z"
        ],
        [
         "ZEGaYhK5gCa5JBjvzCbfQG3peh8=",
         "2024-11-24",
         275.33,
         814,
         "CUST135",
         "ORD1813",
         false,
         "2025-07-11T12:48:46.711Z"
        ],
        [
         "k5nNCAYMa0C1XJiAlxajGzNE2es=",
         "2024-08-29",
         146.92,
         336,
         "CUST126",
         "ORD1335",
         false,
         "2025-07-11T12:48:46.709Z"
        ],
        [
         "YxIJvPAgNmyHmtzghDoC7VnBgQg=",
         "2024-07-27",
         123.87,
         107,
         "CUST043",
         "ORD1106",
         false,
         "2025-07-11T12:48:46.687Z"
        ],
        [
         "sPYyjoOH3vmM1MRwgDg/nR9FMa4=",
         "2024-12-02",
         252.72,
         751,
         "CUST015",
         "ORD1750",
         false,
         "2025-07-11T12:48:46.672Z"
        ],
        [
         "vd4aIijNaq1LkxI7/VaEnelVgzY=",
         "2024-02-29",
         60.79,
         742,
         "CUST025",
         "ORD1741",
         false,
         "2025-07-11T12:48:46.679Z"
        ],
        [
         "TNSyAkxLLTGub1Erm4fhTCn2reE=",
         "2024-08-02",
         266.13,
         574,
         "CUST019",
         "ORD1573",
         false,
         "2025-07-11T12:48:46.675Z"
        ],
        [
         "E/TWwQC3jB9wBBrks+CfN6dTRFU=",
         "2024-09-10",
         178.93,
         351,
         "CUST130",
         "ORD1350",
         false,
         "2025-07-11T12:48:46.710Z"
        ],
        [
         "kszj6WMzRmB7Z0tQuus41vi6dDM=",
         "2024-05-07",
         215.55,
         968,
         "CUST157",
         "ORD1967",
         false,
         "2025-07-11T12:48:46.713Z"
        ],
        [
         "ASI9DRzQPZS3Oc75R6AH6ZWcYhs=",
         "2024-03-25",
         160.23,
         505,
         "CUST186",
         "ORD1504",
         false,
         "2025-07-11T12:48:46.715Z"
        ],
        [
         "DPJFbH4FL8iifjQKePBs0aLd+z0=",
         "2024-04-27",
         68.12,
         394,
         "CUST145",
         "ORD1393",
         false,
         "2025-07-11T12:48:46.712Z"
        ],
        [
         "SvGdoYrrnJn5C4lpZQrawNp9M+s=",
         "2024-04-22",
         140.59,
         547,
         "CUST199",
         "ORD1546",
         false,
         "2025-07-11T12:48:46.717Z"
        ],
        [
         "Sm+EqLgrDWeuYbPLh/cyjGiiBPI=",
         "2024-01-01",
         198.83,
         69,
         "CUST030",
         "ORD1068",
         false,
         "2025-07-11T12:48:46.681Z"
        ],
        [
         "PMbdSoPd5zqdiMnlOUEt4PyM1Xc=",
         "2024-05-17",
         155.04,
         390,
         "CUST143",
         "ORD1389",
         false,
         "2025-07-11T12:48:46.711Z"
        ],
        [
         "CkEb4v87fvsp3kOjXvYCplETdRg=",
         "2024-06-22",
         87.64,
         418,
         "CUST154",
         "ORD1417",
         false,
         "2025-07-11T12:48:46.712Z"
        ],
        [
         "Rw/u6x4BXofjmKaVhMCvEKt1jgE=",
         "2024-11-14",
         200.52,
         630,
         "CUST114",
         "ORD1629",
         false,
         "2025-07-11T12:48:46.708Z"
        ],
        [
         "D4nU+UH4cEdAaQSlNrEl89opJqk=",
         "2024-05-24",
         162.6,
         178,
         "CUST067",
         "ORD1177",
         false,
         "2025-07-11T12:48:46.696Z"
        ],
        [
         "XauJYNWg7clfs6x/PkMxVhFYoko=",
         "2024-05-01",
         88.89,
         670,
         "CUST056",
         "ORD1669",
         false,
         "2025-07-11T12:48:46.693Z"
        ],
        [
         "d7NdPfoiLu2r35tG1PrBzWlo+lk=",
         "2024-09-17",
         240.83,
         595,
         "CUST149",
         "ORD1594",
         false,
         "2025-07-11T12:48:46.712Z"
        ],
        [
         "YzvBQaU28O4A/qUtG55PWcHaxQg=",
         "2024-07-13",
         35.35,
         265,
         "CUST100",
         "ORD1264",
         false,
         "2025-07-11T12:48:46.704Z"
        ],
        [
         "6gLNA+2jpyeMI2Sm9v8w5OM+ZXY=",
         "2024-08-13",
         155.27,
         601,
         "CUST014",
         "ORD1600",
         false,
         "2025-07-11T12:48:46.671Z"
        ],
        [
         "qTYq/sYLLI3Qy1EPDQ07tXb3zj4=",
         "2024-03-07",
         100.81,
         238,
         "CUST089",
         "ORD1237",
         false,
         "2025-07-11T12:48:46.702Z"
        ],
        [
         "5e2wIoAioXsA4zXyQUedjPM5tjg=",
         "2024-06-26",
         81.45,
         649,
         "CUST041",
         "ORD1648",
         false,
         "2025-07-11T12:48:46.686Z"
        ],
        [
         "I9Z89KP1CGzp5cdgA4krXbloZu0=",
         "2024-05-28",
         23.09,
         6,
         "CUST003",
         "ORD1005",
         false,
         "2025-07-11T12:48:46.664Z"
        ],
        [
         "Nib/GTQq1tUL9HVXh3GIcQYbm8w=",
         "2024-06-19",
         256.37,
         113,
         "CUST045",
         "ORD1112",
         false,
         "2025-07-11T12:48:46.688Z"
        ],
        [
         "PtV4eAZpFh7Q8PuIq/VlCG3UrXE=",
         "2024-04-29",
         127.06,
         210,
         "CUST079",
         "ORD1209",
         false,
         "2025-07-11T12:48:46.700Z"
        ],
        [
         "JeEUCzceXNu5Qvg8k7qX2AJKwi8=",
         "2024-05-03",
         243.03,
         207,
         "CUST078",
         "ORD1206",
         false,
         "2025-07-11T12:48:46.699Z"
        ],
        [
         "w4hHCwM4g2I8yRehgVzVXH/+b6E=",
         "2024-12-31",
         29.71,
         702,
         "CUST109",
         "ORD1701",
         false,
         "2025-07-11T12:48:46.707Z"
        ],
        [
         "fm0bPZkfR0z72Yxuupb4mJp7Gbc=",
         "2024-04-27",
         11.31,
         908,
         "CUST055",
         "ORD1907",
         false,
         "2025-07-11T12:48:46.692Z"
        ],
        [
         "0CFuIUjej7+kEiGZDRR+QUROHB4=",
         "2024-06-18",
         259.98,
         232,
         "CUST087",
         "ORD1231",
         false,
         "2025-07-11T12:48:46.702Z"
        ],
        [
         "LEoIfM+v07phAjtpoY0P5Kz7UV0=",
         "2024-09-11",
         209.42,
         746,
         "CUST019",
         "ORD1745",
         false,
         "2025-07-11T12:48:46.675Z"
        ],
        [
         "Sw+NzHIsbFu9vgMwnwQNbydFBpM=",
         "2024-07-07",
         177.33,
         169,
         "CUST065",
         "ORD1168",
         false,
         "2025-07-11T12:48:46.695Z"
        ],
        [
         "IS1w/qHSHzlyCL91lC62PFB6d/0=",
         "2024-05-02",
         61.58,
         192,
         "CUST073",
         "ORD1191",
         false,
         "2025-07-11T12:48:46.698Z"
        ],
        [
         "8vLikeSEc0mK1yvRk6n5gTZTKo4=",
         "2024-01-02",
         101.94,
         524,
         "CUST192",
         "ORD1523",
         false,
         "2025-07-11T12:48:46.716Z"
        ],
        [
         "Yaj8N8LB8vOtr5vafsUcA6y1Q+o=",
         "2024-02-15",
         261.6,
         53,
         "CUST023",
         "ORD1052",
         false,
         "2025-07-11T12:48:46.678Z"
        ],
        [
         "SK42YWznwB3RZYARSgGYs3NgGm0=",
         "2024-01-24",
         124.36,
         791,
         "CUST008",
         "ORD1790",
         false,
         "2025-07-11T12:48:46.668Z"
        ],
        [
         "a1n5CBFuDRXcM1aJh/XCasFBwLI=",
         "2024-04-26",
         156.09,
         897,
         "CUST122",
         "ORD1896",
         false,
         "2025-07-11T12:48:46.709Z"
        ],
        [
         "IdMFghWL/C0tf+CjiD87IkNDPLQ=",
         "2024-03-13",
         212.59,
         79,
         "CUST034",
         "ORD1078",
         false,
         "2025-07-11T12:48:46.682Z"
        ],
        [
         "g46EevvbpnexjAvL//JVsyrXTN0=",
         "2024-04-10",
         149.91,
         493,
         "CUST181",
         "ORD1492",
         false,
         "2025-07-11T12:48:46.715Z"
        ],
        [
         "BmejLiII5bA4iW7A9s+Pzo39nME=",
         "2024-06-23",
         57.54,
         183,
         "CUST069",
         "ORD1182",
         false,
         "2025-07-11T12:48:46.697Z"
        ],
        [
         "EVDwB4oABsn9Aq5RpIr778t+27k=",
         "2024-04-29",
         81.46,
         361,
         "CUST133",
         "ORD1360",
         false,
         "2025-07-11T12:48:46.710Z"
        ],
        [
         "/rzLKYCzsLLrqrVgXFx7k12+Vrc=",
         "2024-05-20",
         114.99,
         31,
         "CUST014",
         "ORD1030",
         false,
         "2025-07-11T12:48:46.671Z"
        ],
        [
         "TtyLM7gKgQcsmn57nNRDjRLr06k=",
         "2024-04-04",
         187.63,
         732,
         "CUST005",
         "ORD1731",
         false,
         "2025-07-11T12:48:46.666Z"
        ],
        [
         "EO6g+j18YSACE69jQ5IjAxaxJas=",
         "2024-09-11",
         288.81,
         449,
         "CUST165",
         "ORD1448",
         false,
         "2025-07-11T12:48:46.713Z"
        ],
        [
         "6EQ/p2u+sVSnNigK0rl0Bbbc0t8=",
         "2024-12-31",
         89.13,
         927,
         "CUST104",
         "ORD1926",
         false,
         "2025-07-11T12:48:46.705Z"
        ],
        [
         "A9iexPBDr1sskGuMDgRigu7UxLc=",
         "2024-09-13",
         171.09,
         813,
         "CUST016",
         "ORD1812",
         false,
         "2025-07-11T12:48:46.673Z"
        ],
        [
         "UA5zKjHtbE8VtlSyUb8CEWRQBz4=",
         "2024-02-24",
         102.83,
         270,
         "CUST103",
         "ORD1269",
         false,
         "2025-07-11T12:48:46.704Z"
        ],
        [
         "eyUFNN+Nrnz2rIZUow1D8Riwe8A=",
         "2024-05-14",
         210.78,
         334,
         "CUST126",
         "ORD1333",
         false,
         "2025-07-11T12:48:46.709Z"
        ],
        [
         "3xQ0EEl44tAbj9Ce2yJdufUmTR8=",
         "2024-08-16",
         36.24,
         847,
         "CUST166",
         "ORD1846",
         false,
         "2025-07-11T12:48:46.713Z"
        ],
        [
         "TT5e2G+NfKFrrOsmx/1OGkN4Xss=",
         "2024-06-25",
         154.24,
         132,
         "CUST052",
         "ORD1131",
         false,
         "2025-07-11T12:48:46.691Z"
        ],
        [
         "pRJcRXqUWKPbzorxeJEh5KXDGXM=",
         "2024-06-05",
         255.17,
         335,
         "CUST126",
         "ORD1334",
         false,
         "2025-07-11T12:48:46.709Z"
        ],
        [
         "2sl0WLF2NQ3kyUhbuL8MhEkNiBE=",
         "2024-04-02",
         187.73,
         501,
         "CUST184",
         "ORD1500",
         false,
         "2025-07-11T12:48:46.715Z"
        ],
        [
         "QNKQKLW4JglO/AG9X9YJxDA+RL8=",
         "2024-07-12",
         269.52,
         681,
         "CUST125",
         "ORD1680",
         false,
         "2025-07-11T12:48:46.709Z"
        ],
        [
         "x3VCHaU105/F920kY2DQl6eq8po=",
         "2024-03-19",
         189.82,
         546,
         "CUST199",
         "ORD1545",
         false,
         "2025-07-11T12:48:46.717Z"
        ],
        [
         "uMgmXCdaSTk6LQ2Cm4/xP4YXVI0=",
         "2024-01-01",
         183.15,
         863,
         "CUST038",
         "ORD1862",
         false,
         "2025-07-11T12:48:46.685Z"
        ],
        [
         "Xj+X0jme9x9Glkh31Q/9JywYbyQ=",
         "2024-03-23",
         255.61,
         298,
         "CUST113",
         "ORD1297",
         false,
         "2025-07-11T12:48:46.707Z"
        ],
        [
         "ZcBP1E6gUs66JIX1bhV/orT7doY=",
         "2024-12-18",
         140.97,
         846,
         "CUST093",
         "ORD1845",
         false,
         "2025-07-11T12:48:46.703Z"
        ],
        [
         "o2i3f4i2NcJl8rPfEGVtc3alrE4=",
         "2024-11-19",
         209.25,
         644,
         "CUST045",
         "ORD1643",
         false,
         "2025-07-11T12:48:46.688Z"
        ],
        [
         "EjSOITLfgD3vKMcEbz6bsG5ZiXM=",
         "2024-08-12",
         32.8,
         378,
         "CUST139",
         "ORD1377",
         false,
         "2025-07-11T12:48:46.711Z"
        ],
        [
         "TFghvJ/9+7RB2LbPD0CHw+Zk0ao=",
         "2024-04-24",
         160.06,
         494,
         "CUST182",
         "ORD1493",
         false,
         "2025-07-11T12:48:46.715Z"
        ],
        [
         "PQXLzFdnWa9nthh3ez9qqKGPUiE=",
         "2024-06-27",
         229.41,
         193,
         "CUST073",
         "ORD1192",
         false,
         "2025-07-11T12:48:46.698Z"
        ],
        [
         "v0M/DVWU5LY0qR27Dkf39Qr2QcE=",
         "2024-10-28",
         255.34,
         995,
         "CUST071",
         "ORD1994",
         false,
         "2025-07-11T12:48:46.698Z"
        ],
        [
         "Yazg2qNFj1j3FhxBaVU2olf5Cbc=",
         "2024-06-29",
         132.79,
         891,
         "CUST065",
         "ORD1890",
         false,
         "2025-07-11T12:48:46.696Z"
        ],
        [
         "CGXexN3pYhgyy18iPHNdtbCFdPU=",
         "2024-01-14",
         35.53,
         554,
         "CUST034",
         "ORD1553",
         false,
         "2025-07-11T12:48:46.683Z"
        ],
        [
         "2vku00091j2M+Gcbl8piFD6LeZo=",
         "2024-04-26",
         242.6,
         286,
         "CUST109",
         "ORD1285",
         false,
         "2025-07-11T12:48:46.707Z"
        ],
        [
         "PzRh/ceioAY04f3WZNAbb9tJCJM=",
         "2024-05-22",
         255.12,
         616,
         "CUST110",
         "ORD1615",
         false,
         "2025-07-11T12:48:46.707Z"
        ],
        [
         "4L+SK+xUJxjXnZSnv61LFr2TV3Q=",
         "2024-11-16",
         70.98,
         175,
         "CUST066",
         "ORD1174",
         false,
         "2025-07-11T12:48:46.696Z"
        ],
        [
         "2EVxQQ1L+ZP7Ax5hTXqKNFpQeAQ=",
         "2024-09-19",
         165.93,
         816,
         "CUST172",
         "ORD1815",
         false,
         "2025-07-11T12:48:46.714Z"
        ],
        [
         "nAHEGK9fevzoj3tJozpaYthDkLg=",
         "2024-05-02",
         104.81,
         456,
         "CUST168",
         "ORD1455",
         false,
         "2025-07-11T12:48:46.713Z"
        ],
        [
         "bbAsI4INMnvK3DejVh7atIQe19Y=",
         "2024-05-20",
         72.77,
         158,
         "CUST061",
         "ORD1157",
         false,
         "2025-07-11T12:48:46.694Z"
        ],
        [
         "oJEFqH7KJ7O7d0OV0pdoMLuCaHg=",
         "2024-02-14",
         144.59,
         598,
         "CUST091",
         "ORD1597",
         false,
         "2025-07-11T12:48:46.702Z"
        ],
        [
         "jVzgrWVQgZxR8iFvDA2MNZwSbBE=",
         "2024-09-29",
         239.59,
         642,
         "CUST153",
         "ORD1641",
         false,
         "2025-07-11T12:48:46.712Z"
        ],
        [
         "NNRSMnx4GhEpGMKZenZHDAiAE3A=",
         "2024-03-20",
         103.35,
         428,
         "CUST158",
         "ORD1427",
         false,
         "2025-07-11T12:48:46.713Z"
        ],
        [
         "7/TjSlR6UB8wgI3YucnpcQW1YT0=",
         "2024-03-16",
         143.68,
         745,
         "CUST085",
         "ORD1744",
         false,
         "2025-07-11T12:48:46.701Z"
        ],
        [
         "6apcjstfTCiC+nMytzLKOkTxP3E=",
         "2024-01-07",
         184.31,
         899,
         "CUST011",
         "ORD1898",
         false,
         "2025-07-11T12:48:46.670Z"
        ],
        [
         "ZlrZa/mMVu9uNfDKlz0EoSNp5MU=",
         "2024-02-14",
         228.05,
         686,
         "CUST152",
         "ORD1685",
         false,
         "2025-07-11T12:48:46.712Z"
        ],
        [
         "12LsoTpvYCBIM285+259Yi2ueJA=",
         "2024-09-04",
         26.47,
         91,
         "CUST037",
         "ORD1090",
         false,
         "2025-07-11T12:48:46.684Z"
        ],
        [
         "NwSOpwUlDARoLIWhFkqagUxKsvg=",
         "2024-02-14",
         150.74,
         59,
         "CUST026",
         "ORD1058",
         false,
         "2025-07-11T12:48:46.679Z"
        ],
        [
         "tHGljRW87Ktt8fJY0p3YDk/97tg=",
         "2024-02-21",
         244.3,
         956,
         "CUST071",
         "ORD1955",
         false,
         "2025-07-11T12:48:46.697Z"
        ],
        [
         "bYdQW2BiJbwVJih8I9lHPMnPNT4=",
         "2024-12-05",
         80.55,
         917,
         "CUST075",
         "ORD1916",
         false,
         "2025-07-11T12:48:46.698Z"
        ],
        [
         "9Rj16JgIBf0J2suNXJwjp/rRzqw=",
         "2024-04-13",
         272.6,
         77,
         "CUST033",
         "ORD1076",
         false,
         "2025-07-11T12:48:46.682Z"
        ],
        [
         "vYhT5W4JvrAM3Ds7zihfm0n+024=",
         "2024-05-08",
         182.86,
         395,
         "CUST145",
         "ORD1394",
         false,
         "2025-07-11T12:48:46.712Z"
        ],
        [
         "kQFqVdRH3ZWNbXLKclCFkTi+miU=",
         "2024-04-30",
         52.12,
         461,
         "CUST169",
         "ORD1460",
         false,
         "2025-07-11T12:48:46.714Z"
        ],
        [
         "Rts4j68zIQSG4mgsSbCgAiCvLY4=",
         "2024-07-01",
         55.3,
         47,
         "CUST020",
         "ORD1046",
         false,
         "2025-07-11T12:48:46.676Z"
        ],
        [
         "x0kmaO7cnRmIGhjQ5+NRSlP+IAM=",
         "2024-08-20",
         85.74,
         328,
         "CUST124",
         "ORD1327",
         false,
         "2025-07-11T12:48:46.709Z"
        ],
        [
         "88ABGbAivSV/o6qlaeOE4VncMOE=",
         "2024-04-13",
         161.46,
         278,
         "CUST105",
         "ORD1277",
         false,
         "2025-07-11T12:48:46.705Z"
        ],
        [
         "HhufBaIgEcJI9qJAxPkwTOk/Zwg=",
         "2024-09-10",
         291.73,
         171,
         "CUST065",
         "ORD1170",
         false,
         "2025-07-11T12:48:46.696Z"
        ],
        [
         "IfrwygHL6/Ty2G1Moz5TajLHedw=",
         "2024-10-22",
         154.92,
         861,
         "CUST074",
         "ORD1860",
         false,
         "2025-07-11T12:48:46.698Z"
        ],
        [
         "i6kXkKQqa02fxod6EFuTcoAu8dE=",
         "2024-10-03",
         184.36,
         607,
         "CUST100",
         "ORD1606",
         false,
         "2025-07-11T12:48:46.704Z"
        ],
        [
         "G0Z8eOpR7PxWkXHjxHiU2EmJhEc=",
         "2024-10-19",
         198.78,
         333,
         "CUST125",
         "ORD1332",
         false,
         "2025-07-11T12:48:46.709Z"
        ],
        [
         "LBgMrnLqd9K8u2b6z4m1+sjKQQ4=",
         "2024-10-27",
         206.48,
         914,
         "CUST198",
         "ORD1913",
         false,
         "2025-07-11T12:48:46.716Z"
        ],
        [
         "qj7Exwq6aVhP0olzqkOioqGfDsc=",
         "2024-11-23",
         145.37,
         689,
         "CUST018",
         "ORD1688",
         false,
         "2025-07-11T12:48:46.674Z"
        ],
        [
         "804DWkui4M0cn+ROclOBFLzvciA=",
         "2024-08-19",
         266.22,
         397,
         "CUST145",
         "ORD1396",
         false,
         "2025-07-11T12:48:46.712Z"
        ],
        [
         "678nqrmrn2U6vqPmiJ06EZAFCtE=",
         "2024-09-08",
         170.68,
         19,
         "CUST008",
         "ORD1018",
         false,
         "2025-07-11T12:48:46.668Z"
        ],
        [
         "k8ZlBSKll2nbLWSLmHXpNHA00hs=",
         "2024-03-06",
         90.63,
         516,
         "CUST189",
         "ORD1515",
         false,
         "2025-07-11T12:48:46.716Z"
        ],
        [
         "lPAvXlIO7HRdPqBKkO0+hcHLiTI=",
         "2024-05-02",
         165.89,
         227,
         "CUST085",
         "ORD1226",
         false,
         "2025-07-11T12:48:46.701Z"
        ],
        [
         "O85+BbfcR7UD4fu7RaAFHTnzTwI=",
         "2024-05-18",
         152.19,
         368,
         "CUST136",
         "ORD1367",
         false,
         "2025-07-11T12:48:46.711Z"
        ],
        [
         "83qyKUijwqKq39BVB4M5LK9divY=",
         "2024-01-20",
         92.93,
         43,
         "CUST019",
         "ORD1042",
         false,
         "2025-07-11T12:48:46.674Z"
        ],
        [
         "isylU3yHd+F+dhrHmJZyd6iZtVs=",
         "2024-05-07",
         28.65,
         16,
         "CUST007",
         "ORD1015",
         false,
         "2025-07-11T12:48:46.667Z"
        ],
        [
         "tw+j1Zk1QL9XW1htNOrUXcqjMhY=",
         "2024-02-16",
         299.11,
         809,
         "CUST130",
         "ORD1808",
         false,
         "2025-07-11T12:48:46.710Z"
        ],
        [
         "8hUiho2SxoO9w/NkO+2MmplCg0o=",
         "2024-10-28",
         116.28,
         907,
         "CUST120",
         "ORD1906",
         false,
         "2025-07-11T12:48:46.709Z"
        ],
        [
         "CiT9RuxxJ1UZCSKSQHEvzHoUhgc=",
         "2024-12-19",
         270.49,
         986,
         "CUST031",
         "ORD1985",
         false,
         "2025-07-11T12:48:46.681Z"
        ],
        [
         "sHOGiRycKapCdX4Q6dQTjZiPz7c=",
         "2024-07-22",
         272.75,
         887,
         "CUST002",
         "ORD1886",
         false,
         "2025-07-11T12:48:46.664Z"
        ],
        [
         "A9Azp3VL8BtZGQ7MMb+JqBXDCSM=",
         "2024-04-20",
         68.21,
         219,
         "CUST082",
         "ORD1218",
         false,
         "2025-07-11T12:48:46.700Z"
        ],
        [
         "mVkF+JuTqsRa8Yic58uyVq3H6eg=",
         "2024-05-18",
         24.01,
         537,
         "CUST195",
         "ORD1536",
         false,
         "2025-07-11T12:48:46.716Z"
        ],
        [
         "pcsafcMROJiU2XEFsEWScEn17RU=",
         "2024-05-15",
         32.14,
         141,
         "CUST055",
         "ORD1140",
         false,
         "2025-07-11T12:48:46.692Z"
        ],
        [
         "EGzJGKXTSnfjVJUwPd1aOdinnmc=",
         "2024-12-05",
         66.06,
         799,
         "CUST170",
         "ORD1798",
         false,
         "2025-07-11T12:48:46.714Z"
        ],
        [
         "3HtiVK3nomK7EBM/hLh3FSq+KDg=",
         "2024-03-02",
         79.44,
         784,
         "CUST196",
         "ORD1783",
         false,
         "2025-07-11T12:48:46.716Z"
        ],
        [
         "CcHys4xLbFqtAvLkcvGdxNdsG24=",
         "2024-06-27",
         105.2,
         570,
         "CUST124",
         "ORD1569",
         false,
         "2025-07-11T12:48:46.709Z"
        ],
        [
         "wTmqOi26Gfe7EsbmvUULUjrOg/s=",
         "2024-03-25",
         159.33,
         729,
         "CUST061",
         "ORD1728",
         false,
         "2025-07-11T12:48:46.695Z"
        ],
        [
         "9B9/y/0XFvsrytHIC/gvujKzUVo=",
         "2024-05-28",
         80.06,
         848,
         "CUST103",
         "ORD1847",
         false,
         "2025-07-11T12:48:46.705Z"
        ],
        [
         "q2uA1kyZ24fknF33Rle6eGVNkNE=",
         "2024-07-10",
         235.43,
         341,
         "CUST127",
         "ORD1340",
         false,
         "2025-07-11T12:48:46.710Z"
        ],
        [
         "gxHPLIUewAoGyBTE79Q7/0Su5JY=",
         "2024-03-21",
         30.11,
         875,
         "CUST131",
         "ORD1874",
         false,
         "2025-07-11T12:48:46.710Z"
        ],
        [
         "4+ZfYaAhjDmvJBiDti1gNON81JI=",
         "2024-02-13",
         10.49,
         627,
         "CUST161",
         "ORD1626",
         false,
         "2025-07-11T12:48:46.713Z"
        ],
        [
         "93EdjnljmUMzs0YUnbZUYGYBgM0=",
         "2024-06-28",
         85.97,
         802,
         "CUST189",
         "ORD1801",
         false,
         "2025-07-11T12:48:46.716Z"
        ],
        [
         "xwtZJxvNnguxg4EwijMJe1xSu70=",
         "2024-10-07",
         18.99,
         730,
         "CUST101",
         "ORD1729",
         false,
         "2025-07-11T12:48:46.704Z"
        ],
        [
         "VeuOBiEHEU50VBmwvKBUNb+Hl4k=",
         "2024-05-05",
         51.26,
         475,
         "CUST175",
         "ORD1474",
         false,
         "2025-07-11T12:48:46.714Z"
        ],
        [
         "XIG7IoEWSk/LOVOVeCR+f5C1LEg=",
         "2024-01-31",
         239.42,
         763,
         "CUST149",
         "ORD1762",
         false,
         "2025-07-11T12:48:46.712Z"
        ],
        [
         "7c9tHXoI+k/yLX4Alk4TwbF2wuM=",
         "2024-12-15",
         161.0,
         606,
         "CUST121",
         "ORD1605",
         false,
         "2025-07-11T12:48:46.709Z"
        ],
        [
         "dLG/A3M4Vm82wZgme9RQRhDvmpI=",
         "2024-08-24",
         83.77,
         568,
         "CUST019",
         "ORD1567",
         false,
         "2025-07-11T12:48:46.675Z"
        ],
        [
         "4ksuHhYaPPtqymDsvQ6pdMHn1Dk=",
         "2024-05-18",
         184.59,
         54,
         "CUST024",
         "ORD1053",
         false,
         "2025-07-11T12:48:46.678Z"
        ],
        [
         "yBkaCIMEpfC43LF2ZrbLApQABH4=",
         "2024-08-06",
         253.33,
         159,
         "CUST061",
         "ORD1158",
         false,
         "2025-07-11T12:48:46.694Z"
        ],
        [
         "dqbGqokXxlFSKo8l7ACKM/kNL+0=",
         "2024-03-27",
         77.49,
         392,
         "CUST144",
         "ORD1391",
         false,
         "2025-07-11T12:48:46.711Z"
        ],
        [
         "ndUDuAcneu4wxU+cZeVhJJMVzF0=",
         "2024-01-22",
         152.75,
         35,
         "CUST016",
         "ORD1034",
         false,
         "2025-07-11T12:48:46.672Z"
        ],
        [
         "KakhPrjtG5HgosDeVQzTunxYhGo=",
         "2024-06-08",
         162.31,
         267,
         "CUST102",
         "ORD1266",
         false,
         "2025-07-11T12:48:46.704Z"
        ],
        [
         "/RG/pruztfp8m8DhKPbd/7EbPqQ=",
         "2024-11-22",
         89.59,
         602,
         "CUST164",
         "ORD1601",
         false,
         "2025-07-11T12:48:46.713Z"
        ],
        [
         "26olv4KNc5n8oUseM2c3Bearol8=",
         "2024-06-29",
         123.84,
         648,
         "CUST153",
         "ORD1647",
         false,
         "2025-07-11T12:48:46.712Z"
        ],
        [
         "QDTtMFysKltTxBjkDgAPQMhY9LU=",
         "2024-09-07",
         160.6,
         605,
         "CUST172",
         "ORD1604",
         false,
         "2025-07-11T12:48:46.714Z"
        ],
        [
         "/Lf1gQqcIvZGMTNwQvLoUOgDWyg=",
         "2024-06-25",
         129.36,
         205,
         "CUST077",
         "ORD1204",
         false,
         "2025-07-11T12:48:46.699Z"
        ],
        [
         "XAHAEbqWqLOHfQDFWnnWAxugICI=",
         "2024-08-04",
         216.52,
         470,
         "CUST172",
         "ORD1469",
         false,
         "2025-07-11T12:48:46.714Z"
        ],
        [
         "KFoYgED+D83QJuZdrBcZrYRxmv0=",
         "2024-02-26",
         68.35,
         373,
         "CUST137",
         "ORD1372",
         false,
         "2025-07-11T12:48:46.711Z"
        ],
        [
         "zzeHaZZ2tv4rWTMEyEM4SK8RG5U=",
         "2024-03-23",
         167.9,
         403,
         "CUST148",
         "ORD1402",
         false,
         "2025-07-11T12:48:46.712Z"
        ],
        [
         "z1wLnTcFnAmzQn1luzSzIGxnWXM=",
         "2024-05-01",
         99.27,
         246,
         "CUST093",
         "ORD1245",
         false,
         "2025-07-11T12:48:46.702Z"
        ],
        [
         "nLn55gbP1ENlPf54+B84WEbEmKI=",
         "2024-04-12",
         218.42,
         180,
         "CUST068",
         "ORD1179",
         false,
         "2025-07-11T12:48:46.696Z"
        ],
        [
         "FWdrPwoIXKtWU8cVWgx8We+g6wo=",
         "2024-06-23",
         215.25,
         762,
         "CUST140",
         "ORD1761",
         false,
         "2025-07-11T12:48:46.711Z"
        ],
        [
         "InQQsMBUCTCBvE6U5oGWmALnuxE=",
         "2024-07-28",
         274.12,
         640,
         "CUST096",
         "ORD1639",
         false,
         "2025-07-11T12:48:46.703Z"
        ],
        [
         "JW0w3E3BmQgeP24KaaOfAlIj6jE=",
         "2024-06-17",
         84.29,
         103,
         "CUST042",
         "ORD1102",
         false,
         "2025-07-11T12:48:46.686Z"
        ],
        [
         "b5epZOPoBEhDSEt6rHwwYCuQC9A=",
         "2024-01-06",
         176.61,
         303,
         "CUST115",
         "ORD1302",
         false,
         "2025-07-11T12:48:46.708Z"
        ],
        [
         "5A/ixGOibwlFSCIz3yZ1FhN7gko=",
         "2024-05-06",
         113.76,
         46,
         "CUST020",
         "ORD1045",
         false,
         "2025-07-11T12:48:46.676Z"
        ],
        [
         "qsgpfk/rfWEzaXyQUZsM6BR+QaQ=",
         "2024-07-06",
         294.78,
         788,
         "CUST124",
         "ORD1787",
         false,
         "2025-07-11T12:48:46.709Z"
        ],
        [
         "ENke1zDjoPnaGEOM497wCSaHEbM=",
         "2024-01-10",
         152.11,
         764,
         "CUST108",
         "ORD1763",
         false,
         "2025-07-11T12:48:46.706Z"
        ],
        [
         "ziPfeyYw0G6ABMOdywDaA1STKOY=",
         "2024-07-06",
         281.18,
         350,
         "CUST130",
         "ORD1349",
         false,
         "2025-07-11T12:48:46.710Z"
        ],
        [
         "V4tXPw+o2bGksflhn2+Ip251CGk=",
         "2024-03-09",
         59.54,
         810,
         "CUST019",
         "ORD1809",
         false,
         "2025-07-11T12:48:46.676Z"
        ],
        [
         "/wWWfGSEheqQVwrW/WZSZ7/YMrQ=",
         "2024-05-03",
         71.89,
         29,
         "CUST012",
         "ORD1028",
         false,
         "2025-07-11T12:48:46.671Z"
        ],
        [
         "cd8PDBtS7C8bsYkbI2V+8gUeg24=",
         "2024-07-21",
         83.87,
         404,
         "CUST148",
         "ORD1403",
         false,
         "2025-07-11T12:48:46.712Z"
        ],
        [
         "X/ttR1U1VzWvblQKQnN3EwzyDBE=",
         "2024-08-21",
         294.68,
         776,
         "CUST196",
         "ORD1775",
         false,
         "2025-07-11T12:48:46.716Z"
        ],
        [
         "dSeZDgxWuvJ3pnKfBzZnC1K/RGk=",
         "2024-06-05",
         223.46,
         396,
         "CUST145",
         "ORD1395",
         false,
         "2025-07-11T12:48:46.712Z"
        ],
        [
         "wfrFOevgBDgYKnCX5Z+cZY3kNRo=",
         "2024-08-26",
         105.29,
         385,
         "CUST141",
         "ORD1384",
         false,
         "2025-07-11T12:48:46.711Z"
        ],
        [
         "DCi9MkU3JAzKk1pfpkQUUnKo71Q=",
         "2024-07-03",
         168.28,
         34,
         "CUST015",
         "ORD1033",
         false,
         "2025-07-11T12:48:46.672Z"
        ],
        [
         "cb6SBp2kRmjnbyjNJp+3Ft2L4pc=",
         "2024-06-07",
         246.94,
         401,
         "CUST147",
         "ORD1400",
         false,
         "2025-07-11T12:48:46.712Z"
        ],
        [
         "OjHztEo7D8nd8AlRuUjy9dWm4iU=",
         "2024-03-04",
         246.06,
         14,
         "CUST007",
         "ORD1013",
         false,
         "2025-07-11T12:48:46.667Z"
        ],
        [
         "/BOzhmLHbfeyGIt2DwmjIxsQFtg=",
         "2024-04-05",
         136.12,
         869,
         "CUST106",
         "ORD1868",
         false,
         "2025-07-11T12:48:46.706Z"
        ],
        [
         "cGLV/OidAnnRWEfS+GAmmkM7EKw=",
         "2024-07-15",
         133.69,
         18,
         "CUST008",
         "ORD1017",
         false,
         "2025-07-11T12:48:46.668Z"
        ],
        [
         "3PTtGv+Al/jvLf0SM6BdkxTXmG0=",
         "2024-01-29",
         156.8,
         109,
         "CUST045",
         "ORD1108",
         false,
         "2025-07-11T12:48:46.688Z"
        ],
        [
         "luPkABwx9yLkJARzERmksEDs7vQ=",
         "2024-06-28",
         265.94,
         566,
         "CUST071",
         "ORD1565",
         false,
         "2025-07-11T12:48:46.697Z"
        ],
        [
         "sMxIA3WShx9/A2PbZlBjZrB+Doc=",
         "2024-05-28",
         34.42,
         766,
         "CUST139",
         "ORD1765",
         false,
         "2025-07-11T12:48:46.711Z"
        ],
        [
         "JaZRMY6U2e8ZnSkMqOO4dqVd7Ug=",
         "2024-03-18",
         294.44,
         481,
         "CUST177",
         "ORD1480",
         false,
         "2025-07-11T12:48:46.714Z"
        ],
        [
         "IPrvPQ+MFVEG1NoWSuD8PKRY+Qg=",
         "2024-06-20",
         224.37,
         63,
         "CUST028",
         "ORD1062",
         false,
         "2025-07-11T12:48:46.679Z"
        ],
        [
         "2A1k30R48bVgiAXIDQd1rIzxTTk=",
         "2024-12-07",
         188.39,
         561,
         "CUST083",
         "ORD1560",
         false,
         "2025-07-11T12:48:46.701Z"
        ],
        [
         "w4d9YwTlRf7Pi+M43VbMbKfy97E=",
         "2024-09-05",
         92.91,
         831,
         "CUST070",
         "ORD1830",
         false,
         "2025-07-11T12:48:46.697Z"
        ],
        [
         "ZihCaDqa2FAf4Uo05kph4G4DitQ=",
         "2024-07-10",
         251.42,
         48,
         "CUST020",
         "ORD1047",
         false,
         "2025-07-11T12:48:46.676Z"
        ],
        [
         "4RVUGXvFIwCPFXpGShPGdlqjqos=",
         "2024-06-20",
         19.39,
         646,
         "CUST019",
         "ORD1645",
         false,
         "2025-07-11T12:48:46.675Z"
        ],
        [
         "iWiOpiJUpoTV2o0zgN497WlzNlI=",
         "2024-04-25",
         243.62,
         377,
         "CUST139",
         "ORD1376",
         false,
         "2025-07-11T12:48:46.711Z"
        ],
        [
         "pUxVcbbZYXIOXTCjKVHg5Dv66DY=",
         "2024-05-09",
         151.28,
         435,
         "CUST161",
         "ORD1434",
         false,
         "2025-07-11T12:48:46.713Z"
        ],
        [
         "xlNp3iV2x5bCxo4XQqdTrIHHGC4=",
         "2024-06-13",
         25.73,
         801,
         "CUST149",
         "ORD1800",
         false,
         "2025-07-11T12:48:46.712Z"
        ],
        [
         "TsGz2zwNNf/bLj/kuh5GKLQCLPQ=",
         "2024-06-22",
         220.03,
         197,
         "CUST075",
         "ORD1196",
         false,
         "2025-07-11T12:48:46.698Z"
        ],
        [
         "L0O3BwasavsotIoi3uM5+/Shbrw=",
         "2024-09-05",
         25.27,
         549,
         "CUST199",
         "ORD1548",
         false,
         "2025-07-11T12:48:46.717Z"
        ],
        [
         "h4qs6PMLDK2F5ZuJYmSQjTbdoYc=",
         "2024-08-07",
         181.34,
         720,
         "CUST196",
         "ORD1719",
         false,
         "2025-07-11T12:48:46.716Z"
        ],
        [
         "t43JpVLShkP1ncLqPL5/Mx20VTo=",
         "2024-06-20",
         121.4,
         519,
         "CUST190",
         "ORD1518",
         false,
         "2025-07-11T12:48:46.716Z"
        ],
        [
         "xadeIrTI7/U8k5BnMuMfmCFYzVg=",
         "2024-05-30",
         130.35,
         476,
         "CUST175",
         "ORD1475",
         false,
         "2025-07-11T12:48:46.714Z"
        ],
        [
         "LF38RAEpyfBiaw+5/jBpnEti4fE=",
         "2024-06-05",
         226.69,
         119,
         "CUST047",
         "ORD1118",
         false,
         "2025-07-11T12:48:46.689Z"
        ],
        [
         "oau6umhZOh60Cv/cX7z5UqnI+yI=",
         "2024-08-15",
         193.43,
         895,
         "CUST145",
         "ORD1894",
         false,
         "2025-07-11T12:48:46.712Z"
        ],
        [
         "8U3fjcnF/O68UzTqWzQFm3XhKFI=",
         "2024-07-09",
         55.91,
         313,
         "CUST119",
         "ORD1312",
         false,
         "2025-07-11T12:48:46.708Z"
        ],
        [
         "pCnEd8V0VMbx2EShfV0PUzx8+5o=",
         "2024-11-06",
         256.61,
         708,
         "CUST147",
         "ORD1707",
         false,
         "2025-07-11T12:48:46.712Z"
        ],
        [
         "aAoPb0B1DScaPYJ+I39/5I2+l5M=",
         "2024-06-08",
         64.11,
         900,
         "CUST043",
         "ORD1899",
         false,
         "2025-07-11T12:48:46.687Z"
        ],
        [
         "4XczjBRMndtmCDj31tUoW9ZV85Y=",
         "2024-01-21",
         39.09,
         775,
         "CUST069",
         "ORD1774",
         false,
         "2025-07-11T12:48:46.697Z"
        ],
        [
         "rRQ5vBwUKaeDREh0jAX21w71qLo=",
         "2024-05-24",
         228.71,
         985,
         "CUST049",
         "ORD1984",
         false,
         "2025-07-11T12:48:46.690Z"
        ],
        [
         "ERzjbAed57AUEfl1pditS3uhjPo=",
         "2024-06-28",
         249.18,
         413,
         "CUST152",
         "ORD1412",
         false,
         "2025-07-11T12:48:46.712Z"
        ],
        [
         "4DK5wgyHYH9481rycRU2MNiki80=",
         "2024-05-30",
         135.81,
         387,
         "CUST142",
         "ORD1386",
         false,
         "2025-07-11T12:48:46.711Z"
        ],
        [
         "bKZ+wPkHlzrNrTpjR/EbrNkX6lg=",
         "2024-03-12",
         182.92,
         952,
         "CUST109",
         "ORD1951",
         false,
         "2025-07-11T12:48:46.707Z"
        ],
        [
         "fL5vQCH9EMBDp1OPDEVP/h9mTnA=",
         "2024-07-03",
         255.17,
         229,
         "CUST085",
         "ORD1228",
         false,
         "2025-07-11T12:48:46.701Z"
        ],
        [
         "xCYisn27OQht6MjOvPDXT0hFyh8=",
         "2024-03-28",
         94.9,
         386,
         "CUST142",
         "ORD1385",
         false,
         "2025-07-11T12:48:46.711Z"
        ],
        [
         "rhxRHHa8T8k/c0s1QUDzZSWxsoU=",
         "2024-06-21",
         187.96,
         838,
         "CUST062",
         "ORD1837",
         false,
         "2025-07-11T12:48:46.695Z"
        ],
        [
         "Te9RQic3LVvkp2tVnf7xPoR+q3k=",
         "2024-11-20",
         84.8,
         58,
         "CUST025",
         "ORD1057",
         false,
         "2025-07-11T12:48:46.679Z"
        ],
        [
         "qg+cQmQTOMo2+1JGsnWkg+2hgBM=",
         "2024-01-30",
         255.71,
         822,
         "CUST098",
         "ORD1821",
         false,
         "2025-07-11T12:48:46.704Z"
        ],
        [
         "FEOixzgY3wZCksslSiqarMTNEA8=",
         "2024-07-01",
         192.94,
         443,
         "CUST164",
         "ORD1442",
         false,
         "2025-07-11T12:48:46.713Z"
        ],
        [
         "1Xpj24XJrybhcFDrI8ICfO2oy1w=",
         "2024-05-11",
         75.59,
         597,
         "CUST188",
         "ORD1596",
         false,
         "2025-07-11T12:48:46.716Z"
        ],
        [
         "ZpCe47PrbD4v3e+CWSbHkj/ul5M=",
         "2024-07-18",
         134.71,
         7,
         "CUST003",
         "ORD1006",
         false,
         "2025-07-11T12:48:46.664Z"
        ],
        [
         "3dh2UFPVg2Rp2+wJOnUPfpNX1e8=",
         "2024-01-15",
         142.91,
         628,
         "CUST090",
         "ORD1627",
         false,
         "2025-07-11T12:48:46.702Z"
        ],
        [
         "+pfG5l2vPYYwuQCDKejWVfNPuz8=",
         "2024-06-25",
         292.05,
         771,
         "CUST085",
         "ORD1770",
         false,
         "2025-07-11T12:48:46.701Z"
        ],
        [
         "TNyzLHwZOCwtJ6N6nDhkTneS0+0=",
         "2024-03-26",
         71.1,
         502,
         "CUST185",
         "ORD1501",
         false,
         "2025-07-11T12:48:46.715Z"
        ],
        [
         "fRF2QGhltIJQWDiQXuLxoYS4BsA=",
         "2024-08-09",
         260.93,
         453,
         "CUST166",
         "ORD1452",
         false,
         "2025-07-11T12:48:46.713Z"
        ],
        [
         "vcN+dIsqlB0qnisdPa2o4kdx014=",
         "2024-05-22",
         175.49,
         353,
         "CUST131",
         "ORD1352",
         false,
         "2025-07-11T12:48:46.710Z"
        ],
        [
         "wtMrF7IDG+7W6uvvbYii6qC28aY=",
         "2024-06-22",
         19.89,
         528,
         "CUST193",
         "ORD1527",
         false,
         "2025-07-11T12:48:46.716Z"
        ],
        [
         "SKT450+XjAfK0ns3cjMk3/a6Wrg=",
         "2024-02-18",
         39.5,
         372,
         "CUST137",
         "ORD1371",
         false,
         "2025-07-11T12:48:46.711Z"
        ],
        [
         "4mw67/pKyW/qlesMH6JzbWQgnck=",
         "2024-06-02",
         76.93,
         1,
         "CUST001",
         "ORD1000",
         false,
         "2025-07-11T12:48:46.658Z"
        ],
        [
         "ELeU51HpM0DZv6HnSIgXTQOMEcQ=",
         "2024-05-02",
         144.95,
         191,
         "CUST072",
         "ORD1190",
         false,
         "2025-07-11T12:48:46.698Z"
        ],
        [
         "+psk+s24nV2DgtnvsbKlOrywbWo=",
         "2024-05-23",
         75.65,
         215,
         "CUST080",
         "ORD1214",
         false,
         "2025-07-11T12:48:46.700Z"
        ],
        [
         "h5wWhy0HhGCz0t1gitOeRuNSvX8=",
         "2024-02-15",
         190.1,
         26,
         "CUST012",
         "ORD1025",
         false,
         "2025-07-11T12:48:46.670Z"
        ],
        [
         "a6Q19Ey5aHJn01ZcLHVGAuSDdek=",
         "2024-05-14",
         18.5,
         259,
         "CUST098",
         "ORD1258",
         false,
         "2025-07-11T12:48:46.703Z"
        ],
        [
         "DxqSz3fiaOfO8H/KrzjfWTiIAzs=",
         "2024-04-13",
         118.11,
         727,
         "CUST112",
         "ORD1726",
         false,
         "2025-07-11T12:48:46.707Z"
        ],
        [
         "1rCupPO+GxsW97RklzxTcsp9+Mw=",
         "2024-10-28",
         93.35,
         165,
         "CUST063",
         "ORD1164",
         false,
         "2025-07-11T12:48:46.695Z"
        ],
        [
         "sKvdrcM37i69Re4XX93MFXxeED4=",
         "2024-09-02",
         284.87,
         678,
         "CUST035",
         "ORD1677",
         false,
         "2025-07-11T12:48:46.684Z"
        ],
        [
         "2J4Ihu7ojmvdgG95uUVahvpSoKo=",
         "2024-03-16",
         115.67,
         231,
         "CUST086",
         "ORD1230",
         false,
         "2025-07-11T12:48:46.701Z"
        ],
        [
         "N5YGuE/kR9bJ1XgCRqzzwxgDFYo=",
         "2024-07-06",
         193.43,
         194,
         "CUST073",
         "ORD1193",
         false,
         "2025-07-11T12:48:46.698Z"
        ],
        [
         "XZgZxxb6CKMvkDpagK4iFXRqjRA=",
         "2024-03-24",
         190.85,
         774,
         "CUST055",
         "ORD1773",
         false,
         "2025-07-11T12:48:46.692Z"
        ],
        [
         "IM2At/0jAbrBDle+8eNLPFBox7s=",
         "2024-06-17",
         299.68,
         228,
         "CUST085",
         "ORD1227",
         false,
         "2025-07-11T12:48:46.701Z"
        ],
        [
         "pLYDd18SNcpJH/MFVyrQGyFh0Xw=",
         "2024-03-04",
         225.1,
         857,
         "CUST097",
         "ORD1856",
         false,
         "2025-07-11T12:48:46.703Z"
        ],
        [
         "zs3R80w94mGOpWR5GLzVAIXH9Z8=",
         "2024-04-22",
         179.43,
         282,
         "CUST107",
         "ORD1281",
         false,
         "2025-07-11T12:48:46.706Z"
        ],
        [
         "HIxHnDJH/d6bf52yPpxWkwdHdKE=",
         "2024-06-29",
         240.51,
         429,
         "CUST158",
         "ORD1428",
         false,
         "2025-07-11T12:48:46.713Z"
        ],
        [
         "o+fTaOlr68b/OODj5Gbe3vhn3Cw=",
         "2024-02-05",
         249.52,
         459,
         "CUST169",
         "ORD1458",
         false,
         "2025-07-11T12:48:46.714Z"
        ],
        [
         "QLcS5gZodO40QJ9f2adxL6elCT8=",
         "2024-12-05",
         257.36,
         750,
         "CUST090",
         "ORD1749",
         false,
         "2025-07-11T12:48:46.702Z"
        ],
        [
         "ad9FetGwe/50xpwJkiOmSDqTC2k=",
         "2024-03-07",
         76.54,
         338,
         "CUST127",
         "ORD1337",
         false,
         "2025-07-11T12:48:46.710Z"
        ],
        [
         "gXABfB2wL5oKRpG53+05m3U03Tw=",
         "2024-02-18",
         235.4,
         115,
         "CUST046",
         "ORD1114",
         false,
         "2025-07-11T12:48:46.688Z"
        ],
        [
         "OqTXuiKfjOxjjDAJnlCWr4+no2Y=",
         "2024-02-21",
         258.18,
         586,
         "CUST059",
         "ORD1585",
         false,
         "2025-07-11T12:48:46.694Z"
        ],
        [
         "0W8r0haM3Yl058GXuK+AiW8yZL8=",
         "2024-04-01",
         136.25,
         254,
         "CUST096",
         "ORD1253",
         false,
         "2025-07-11T12:48:46.703Z"
        ],
        [
         "DAG+kxBC0cB+Eao7iBFaCZ2xOkQ=",
         "2024-01-16",
         253.23,
         659,
         "CUST057",
         "ORD1658",
         false,
         "2025-07-11T12:48:46.693Z"
        ],
        [
         "aYuj++us2TYmnT5G/OStEVQggIM=",
         "2024-07-16",
         271.96,
         874,
         "CUST039",
         "ORD1873",
         false,
         "2025-07-11T12:48:46.685Z"
        ],
        [
         "b1WecXp2hqtJAsDr40ghk28NCYA=",
         "2024-08-08",
         205.87,
         529,
         "CUST193",
         "ORD1528",
         false,
         "2025-07-11T12:48:46.716Z"
        ],
        [
         "0fsNbb0wPvGV0n+gSNEzNansVJA=",
         "2024-02-14",
         210.2,
         304,
         "CUST115",
         "ORD1303",
         false,
         "2025-07-11T12:48:46.708Z"
        ],
        [
         "e9b7J6vvJJblTTDl06yunCxzxfk=",
         "2024-03-08",
         88.73,
         430,
         "CUST159",
         "ORD1429",
         false,
         "2025-07-11T12:48:46.713Z"
        ],
        [
         "x5yjR/UvwJUQltEU3W9BulmUXZg=",
         "2024-07-17",
         113.4,
         948,
         "CUST008",
         "ORD1947",
         false,
         "2025-07-11T12:48:46.668Z"
        ],
        [
         "z5qROc4wudu0k1S6oQXYt0jWQ64=",
         "2024-07-25",
         62.55,
         452,
         "CUST166",
         "ORD1451",
         false,
         "2025-07-11T12:48:46.713Z"
        ],
        [
         "pZewKWQODnLcZk+mBQPjL9izmMU=",
         "2024-08-28",
         166.57,
         800,
         "CUST175",
         "ORD1799",
         false,
         "2025-07-11T12:48:46.714Z"
        ],
        [
         "T4PJwDEPhgiqG1AqD5V4KThD9vc=",
         "2024-02-01",
         205.78,
         608,
         "CUST115",
         "ORD1607",
         false,
         "2025-07-11T12:48:46.708Z"
        ],
        [
         "urS3OqE3moMUCPbk3HmPp1lWP8A=",
         "2024-05-08",
         242.78,
         117,
         "CUST047",
         "ORD1116",
         false,
         "2025-07-11T12:48:46.689Z"
        ],
        [
         "Ukct6a+yXRimBCrEtn2J3JwnGYI=",
         "2024-02-19",
         268.43,
         190,
         "CUST072",
         "ORD1189",
         false,
         "2025-07-11T12:48:46.698Z"
        ],
        [
         "sGp2BL8yuM17m4ekTPVWw6lchBk=",
         "2024-11-09",
         54.42,
         641,
         "CUST033",
         "ORD1640",
         false,
         "2025-07-11T12:48:46.682Z"
        ],
        [
         "TfjKpzhAY9EQ4YZrwHSWmY7IiBA=",
         "2024-12-24",
         230.92,
         603,
         "CUST124",
         "ORD1602",
         false,
         "2025-07-11T12:48:46.709Z"
        ],
        [
         "Eq7tvaQjpZBMnkSKHOKNprNGsC4=",
         "2024-04-29",
         131.84,
         326,
         "CUST124",
         "ORD1325",
         false,
         "2025-07-11T12:48:46.709Z"
        ],
        [
         "OVSFMdd6Nycu+Odoe+R5kLd8pwM=",
         "2024-09-15",
         174.23,
         752,
         "CUST166",
         "ORD1751",
         false,
         "2025-07-11T12:48:46.713Z"
        ],
        [
         "EvlTgpvHH73sA1Wb0s/a95fA9cY=",
         "2024-08-03",
         82.74,
         618,
         "CUST139",
         "ORD1617",
         false,
         "2025-07-11T12:48:46.711Z"
        ],
        [
         "+I+HnoahWwVH1+WbE5W/fVGpp+Y=",
         "2024-03-06",
         283.9,
         920,
         "CUST180",
         "ORD1919",
         false,
         "2025-07-11T12:48:46.715Z"
        ],
        [
         "NmiwLoA3T4DldFXm/Bcw0/uAvL4=",
         "2024-02-29",
         136.51,
         963,
         "CUST198",
         "ORD1962",
         false,
         "2025-07-11T12:48:46.716Z"
        ],
        [
         "fi0Hwq9HQpb0/JxxHKEl/KZ1icM=",
         "2024-04-13",
         31.27,
         157,
         "CUST060",
         "ORD1156",
         false,
         "2025-07-11T12:48:46.694Z"
        ],
        [
         "RA1qFekoQN/fe7h6btBiSvIFnbw=",
         "2024-11-03",
         172.5,
         316,
         "CUST120",
         "ORD1315",
         false,
         "2025-07-11T12:48:46.709Z"
        ],
        [
         "kid/Loj3jSmuVZD4jImPB8NXRqU=",
         "2024-01-31",
         55.92,
         242,
         "CUST091",
         "ORD1241",
         false,
         "2025-07-11T12:48:46.702Z"
        ],
        [
         "PxQMh9Dr0sfI1kf5lZVBCtbbjDk=",
         "2024-07-15",
         248.83,
         388,
         "CUST142",
         "ORD1387",
         false,
         "2025-07-11T12:48:46.711Z"
        ],
        [
         "fHHr0pot8R7mq4Pzun7rl9Ezskk=",
         "2024-05-20",
         114.36,
         545,
         "CUST198",
         "ORD1544",
         false,
         "2025-07-11T12:48:46.716Z"
        ],
        [
         "SAwRKymjPqfFByBxMjhRdttwXjM=",
         "2024-04-03",
         211.67,
         248,
         "CUST094",
         "ORD1247",
         false,
         "2025-07-11T12:48:46.703Z"
        ],
        [
         "pawfozPo7uvsGgA/e85uOvOQyUE=",
         "2024-11-25",
         227.61,
         910,
         "CUST188",
         "ORD1909",
         false,
         "2025-07-11T12:48:46.716Z"
        ],
        [
         "b8HmuHt/Rd78z/zws9faNRIyPl4=",
         "2024-03-03",
         186.85,
         976,
         "CUST112",
         "ORD1975",
         false,
         "2025-07-11T12:48:46.707Z"
        ],
        [
         "+/EKwAhBj/A+iWleFOMXmTWyZls=",
         "2024-06-30",
         74.53,
         369,
         "CUST136",
         "ORD1368",
         false,
         "2025-07-11T12:48:46.711Z"
        ],
        [
         "JcEpWPr1wV/ZFCcfTxYdPwnYuCc=",
         "2024-06-08",
         237.47,
         497,
         "CUST183",
         "ORD1496",
         false,
         "2025-07-11T12:48:46.715Z"
        ],
        [
         "Bpa9W1wLEbJbR4904JvNfz246/c=",
         "2024-06-26",
         91.59,
         72,
         "CUST031",
         "ORD1071",
         false,
         "2025-07-11T12:48:46.681Z"
        ],
        [
         "xmMOOMwfNKKIBCKJcdcxZ1ojnzY=",
         "2024-05-28",
         271.15,
         625,
         "CUST163",
         "ORD1624",
         false,
         "2025-07-11T12:48:46.713Z"
        ],
        [
         "rjs2g15Cmr0sR2/gryConEZJadA=",
         "2024-06-16",
         24.55,
         37,
         "CUST016",
         "ORD1036",
         false,
         "2025-07-11T12:48:46.673Z"
        ],
        [
         "dv2KS89r9yDgEZCgMfc3Jo48yI4=",
         "2024-07-31",
         95.31,
         693,
         "CUST097",
         "ORD1692",
         false,
         "2025-07-11T12:48:46.703Z"
        ],
        [
         "4ofjX9681gtoq8/lJX9hF9Q/45I=",
         "2024-11-29",
         185.44,
         961,
         "CUST028",
         "ORD1960",
         false,
         "2025-07-11T12:48:46.680Z"
        ],
        [
         "kbUv4r7EaFg3bgBJnRXdbf+bizM=",
         "2024-03-08",
         248.37,
         321,
         "CUST122",
         "ORD1320",
         false,
         "2025-07-11T12:48:46.709Z"
        ],
        [
         "+Gp0OxZKW27jJMBynxBpVnzsd5U=",
         "2024-05-21",
         153.16,
         880,
         "CUST056",
         "ORD1879",
         false,
         "2025-07-11T12:48:46.693Z"
        ],
        [
         "F5iTjEmqof+me8wEjsJBuUQ3iFg=",
         "2024-03-22",
         160.12,
         446,
         "CUST165",
         "ORD1445",
         false,
         "2025-07-11T12:48:46.713Z"
        ],
        [
         "JHCYJlnO50G9yNfx5fkSHD5b2s4=",
         "2024-04-18",
         227.0,
         912,
         "CUST139",
         "ORD1911",
         false,
         "2025-07-11T12:48:46.711Z"
        ],
        [
         "b0cxpM8OSIwp11psda1QcdMGw/8=",
         "2024-08-23",
         232.63,
         928,
         "CUST121",
         "ORD1927",
         false,
         "2025-07-11T12:48:46.709Z"
        ],
        [
         "I79ZoyRHok4MgNhPkLEDJdE6J/k=",
         "2024-03-27",
         232.39,
         93,
         "CUST038",
         "ORD1092",
         false,
         "2025-07-11T12:48:46.685Z"
        ],
        [
         "jr1h6JL+k4mI8sslhQM3RYBXmwY=",
         "2024-02-04",
         69.09,
         202,
         "CUST076",
         "ORD1201",
         false,
         "2025-07-11T12:48:46.699Z"
        ],
        [
         "fEXtx0UESde85MRFKGImFhayzd8=",
         "2024-09-23",
         229.86,
         632,
         "CUST121",
         "ORD1631",
         false,
         "2025-07-11T12:48:46.709Z"
        ],
        [
         "+lmnHWzzsv5ozZStNDfxAC85bwY=",
         "2024-02-05",
         22.79,
         757,
         "CUST098",
         "ORD1756",
         false,
         "2025-07-11T12:48:46.704Z"
        ],
        [
         "dwhxu/EHBDMm0Q0oj0YjXpU9YzI=",
         "2024-07-05",
         154.07,
         147,
         "CUST057",
         "ORD1146",
         false,
         "2025-07-11T12:48:46.693Z"
        ],
        [
         "JXaKNNZsodb4OI4FISmXqycUk38=",
         "2024-04-08",
         132.18,
         808,
         "CUST151",
         "ORD1807",
         false,
         "2025-07-11T12:48:46.712Z"
        ],
        [
         "n0OltRWq+2iyG4IW6tNVsCJqPaE=",
         "2024-06-18",
         167.3,
         451,
         "CUST166",
         "ORD1450",
         false,
         "2025-07-11T12:48:46.713Z"
        ],
        [
         "tIHliNTnWRoFSPq3f8i985mtm1c=",
         "2024-03-25",
         106.84,
         854,
         "CUST135",
         "ORD1853",
         false,
         "2025-07-11T12:48:46.711Z"
        ],
        [
         "87eGOtai3vR3t+MpZoQeFO84ZJ4=",
         "2024-10-19",
         86.24,
         513,
         "CUST188",
         "ORD1512",
         false,
         "2025-07-11T12:48:46.716Z"
        ],
        [
         "HHfPR/V8Hlnngc/DDj8eBtlsbQY=",
         "2024-05-05",
         243.56,
         464,
         "CUST171",
         "ORD1463",
         false,
         "2025-07-11T12:48:46.714Z"
        ],
        [
         "N8DxTzqR/wScN8oATJq4h6Iur24=",
         "2024-07-19",
         212.35,
         592,
         "CUST011",
         "ORD1591",
         false,
         "2025-07-11T12:48:46.670Z"
        ],
        [
         "B12KFA+AeMG2CEgT3Qib9GzDSLA=",
         "2024-07-31",
         202.53,
         735,
         "CUST102",
         "ORD1734",
         false,
         "2025-07-11T12:48:46.704Z"
        ],
        [
         "aOww1XjrtyRJKF+QQcbjoIn5y9M=",
         "2024-04-24",
         48.08,
         363,
         "CUST134",
         "ORD1362",
         false,
         "2025-07-11T12:48:46.710Z"
        ],
        [
         "DEsQu4pqQzCnLm9Bn5NgiiZ9Ns4=",
         "2024-04-23",
         274.01,
         289,
         "CUST110",
         "ORD1288",
         false,
         "2025-07-11T12:48:46.707Z"
        ],
        [
         "8Y6QDMtIbmp/RZWdx/v1RlDBfo0=",
         "2024-04-30",
         249.75,
         30,
         "CUST013",
         "ORD1029",
         false,
         "2025-07-11T12:48:46.671Z"
        ],
        [
         "qbtuZxL7o0ncbTa7szKVP4WRP6Y=",
         "2024-10-25",
         108.91,
         578,
         "CUST122",
         "ORD1577",
         false,
         "2025-07-11T12:48:46.709Z"
        ],
        [
         "ZVJ0Xynqtgnh6/I3vP8SPoqgdWY=",
         "2024-03-07",
         30.56,
         492,
         "CUST181",
         "ORD1491",
         false,
         "2025-07-11T12:48:46.715Z"
        ],
        [
         "TBvzGvets/il9PH5woR8Nc1CZVg=",
         "2024-12-19",
         150.92,
         959,
         "CUST035",
         "ORD1958",
         false,
         "2025-07-11T12:48:46.684Z"
        ],
        [
         "KC3lpusSBtr2wH2vGraMz/+Fhp4=",
         "2024-04-14",
         44.13,
         380,
         "CUST140",
         "ORD1379",
         false,
         "2025-07-11T12:48:46.711Z"
        ],
        [
         "+EHk7O7ihAZzA2vsWzCZwA5fk6w=",
         "2024-07-03",
         252.73,
         932,
         "CUST011",
         "ORD1931",
         false,
         "2025-07-11T12:48:46.670Z"
        ],
        [
         "+O5h5VwlvsSQk/hZrsI+SPoxyL4=",
         "2024-02-23",
         180.52,
         463,
         "CUST170",
         "ORD1462",
         false,
         "2025-07-11T12:48:46.714Z"
        ],
        [
         "CQUBTPogodgQP7lcu3/SikVytII=",
         "2024-02-28",
         147.39,
         970,
         "CUST025",
         "ORD1969",
         false,
         "2025-07-11T12:48:46.679Z"
        ],
        [
         "X/Phayo/BnI6rzcg5u3YwMA/EI8=",
         "2024-01-13",
         162.25,
         988,
         "CUST109",
         "ORD1987",
         false,
         "2025-07-11T12:48:46.707Z"
        ],
        [
         "nSRiOiwXbcbqV4q7D7j05sloLsY=",
         "2024-12-13",
         238.37,
         794,
         "CUST179",
         "ORD1793",
         false,
         "2025-07-11T12:48:46.715Z"
        ],
        [
         "t6/azTG7kPZFeWXfZbDULtMnP2A=",
         "2024-09-23",
         280.57,
         939,
         "CUST178",
         "ORD1938",
         false,
         "2025-07-11T12:48:46.714Z"
        ],
        [
         "3wriUJztYplv0LJlU3MjwXZ0lBs=",
         "2024-06-29",
         164.36,
         55,
         "CUST024",
         "ORD1054",
         false,
         "2025-07-11T12:48:46.678Z"
        ],
        [
         "3TSf7CPYjY5OMC9B1KN7UBjKeoc=",
         "2024-05-23",
         280.32,
         924,
         "CUST143",
         "ORD1923",
         false,
         "2025-07-11T12:48:46.711Z"
        ],
        [
         "DcbcjOVL9DrNTILA6cFMqmWmbMo=",
         "2024-08-27",
         51.61,
         709,
         "CUST185",
         "ORD1708",
         false,
         "2025-07-11T12:48:46.715Z"
        ],
        [
         "tIcKFNikmxHZpUS97aORxSkxSeI=",
         "2024-06-24",
         69.32,
         787,
         "CUST170",
         "ORD1786",
         false,
         "2025-07-11T12:48:46.714Z"
        ],
        [
         "MhfjAO2Vr1NZMYtLlhz90YOiTyk=",
         "2024-04-29",
         162.57,
         142,
         "CUST056",
         "ORD1141",
         false,
         "2025-07-11T12:48:46.692Z"
        ],
        [
         "vManvqAepCbcaNqSKl927rN8SvU=",
         "2024-07-27",
         131.58,
         520,
         "CUST190",
         "ORD1519",
         false,
         "2025-07-11T12:48:46.716Z"
        ],
        [
         "KJbFqrE9WVs11gG7f5Jkp0nYU6Q=",
         "2024-06-22",
         76.56,
         972,
         "CUST170",
         "ORD1971",
         false,
         "2025-07-11T12:48:46.714Z"
        ],
        [
         "42ZJ1F3So4TjxUTgpJDuk+9Ri6w=",
         "2024-01-30",
         147.8,
         664,
         "CUST099",
         "ORD1663",
         false,
         "2025-07-11T12:48:46.704Z"
        ],
        [
         "sRSzPAa/FuSU7nBlOjeWDuc0JwE=",
         "2024-03-14",
         37.92,
         253,
         "CUST096",
         "ORD1252",
         false,
         "2025-07-11T12:48:46.703Z"
        ],
        [
         "gI10sydi6Q+CDWJLApD+NJ5xneQ=",
         "2024-03-06",
         288.93,
         994,
         "CUST029",
         "ORD1993",
         false,
         "2025-07-11T12:48:46.681Z"
        ],
        [
         "ASysNbLiy0AeoDRAnW5cj9UIDeI=",
         "2024-08-14",
         177.56,
         637,
         "CUST166",
         "ORD1636",
         false,
         "2025-07-11T12:48:46.713Z"
        ],
        [
         "CYjjhOnpbI8ky4lVfIsfS8YWoX4=",
         "2024-09-29",
         261.48,
         458,
         "CUST168",
         "ORD1457",
         false,
         "2025-07-11T12:48:46.713Z"
        ],
        [
         "LygLOeM47XwQL9cVrC9+H47RL2w=",
         "2024-05-22",
         196.45,
         364,
         "CUST135",
         "ORD1363",
         false,
         "2025-07-11T12:48:46.710Z"
        ],
        [
         "c3moZf3oE2xCln946c2I4Y22gNI=",
         "2024-06-25",
         118.04,
         876,
         "CUST011",
         "ORD1875",
         false,
         "2025-07-11T12:48:46.670Z"
        ],
        [
         "bzI7A2DH2rbc9Sd3W0wTYYwg68s=",
         "2024-12-05",
         199.85,
         92,
         "CUST037",
         "ORD1091",
         false,
         "2025-07-11T12:48:46.684Z"
        ],
        [
         "dl5HaYiCmvU7snEOL3ROiFYSKIQ=",
         "2024-04-19",
         116.12,
         482,
         "CUST177",
         "ORD1481",
         false,
         "2025-07-11T12:48:46.714Z"
        ],
        [
         "D/I9YFGdXa/DHYKz6oOewcSZolo=",
         "2024-05-31",
         41.72,
         560,
         "CUST077",
         "ORD1559",
         false,
         "2025-07-11T12:48:46.699Z"
        ],
        [
         "p/2FqFuhJpcWRrMlgVM46A/P0Ns=",
         "2024-02-17",
         118.02,
         382,
         "CUST141",
         "ORD1381",
         false,
         "2025-07-11T12:48:46.711Z"
        ],
        [
         "wmhG/jOMM0C0qPIX/iQLdZBqGkM=",
         "2024-06-13",
         239.84,
         532,
         "CUST194",
         "ORD1531",
         false,
         "2025-07-11T12:48:46.716Z"
        ],
        [
         "uM/mo8cPUruznx18a0+q5J6wp+g=",
         "2024-07-22",
         231.81,
         441,
         "CUST163",
         "ORD1440",
         false,
         "2025-07-11T12:48:46.713Z"
        ],
        [
         "hA2eOCMfo4OW5gwGZ0ReIgwFELg=",
         "2024-04-17",
         139.29,
         393,
         "CUST144",
         "ORD1392",
         false,
         "2025-07-11T12:48:46.711Z"
        ],
        [
         "Qy1xrKOIUKu+H+kXfJ9ArK2Wkmc=",
         "2024-06-02",
         249.83,
         517,
         "CUST189",
         "ORD1516",
         false,
         "2025-07-11T12:48:46.716Z"
        ],
        [
         "SnzawjjPq1lSDB/q1U8es5sH3Uw=",
         "2024-03-24",
         111.01,
         222,
         "CUST083",
         "ORD1221",
         false,
         "2025-07-11T12:48:46.701Z"
        ],
        [
         "rgHVAd/XkSS/jQNxuglbeMUmn0E=",
         "2024-01-07",
         60.01,
         249,
         "CUST095",
         "ORD1248",
         false,
         "2025-07-11T12:48:46.703Z"
        ],
        [
         "B91F/TqLe2/V78HZaASj1aI0vGM=",
         "2024-01-31",
         212.17,
         405,
         "CUST149",
         "ORD1404",
         false,
         "2025-07-11T12:48:46.712Z"
        ],
        [
         "53IfFEJC3KqSYdIg56pvKkyR2wA=",
         "2024-02-14",
         41.99,
         550,
         "CUST200",
         "ORD1549",
         false,
         "2025-07-11T12:48:46.717Z"
        ],
        [
         "ZsRwCQbJWFDtjP0r1875hUYSYEw=",
         "2024-06-05",
         92.52,
         208,
         "CUST078",
         "ORD1207",
         false,
         "2025-07-11T12:48:46.699Z"
        ],
        [
         "Y0WQ5FerFCzRnp1J5ln4JfbGLQU=",
         "2024-06-04",
         34.76,
         688,
         "CUST113",
         "ORD1687",
         false,
         "2025-07-11T12:48:46.708Z"
        ],
        [
         "Y2z5I87h7jbtgIchK1U2N4PUZVA=",
         "2024-07-19",
         29.53,
         733,
         "CUST171",
         "ORD1732",
         false,
         "2025-07-11T12:48:46.714Z"
        ],
        [
         "EDHneuojagRCWv8oVS0eNB6T44M=",
         "2024-06-08",
         141.3,
         415,
         "CUST153",
         "ORD1414",
         false,
         "2025-07-11T12:48:46.712Z"
        ],
        [
         "zxu5IO5pcEfkt3adXrTLht1oZR4=",
         "2024-04-23",
         248.56,
         422,
         "CUST156",
         "ORD1421",
         false,
         "2025-07-11T12:48:46.713Z"
        ],
        [
         "bmURtFQzo5hcT4J9sV3TaPAqLYM=",
         "2024-04-30",
         102.44,
         951,
         "CUST075",
         "ORD1950",
         false,
         "2025-07-11T12:48:46.699Z"
        ],
        [
         "r97U74ovfq/c3JQjpK5AjhfjTxI=",
         "2024-08-08",
         126.15,
         567,
         "CUST084",
         "ORD1566",
         false,
         "2025-07-11T12:48:46.701Z"
        ],
        [
         "1GulwHy6GbzJSxMOdACDvEdB7v8=",
         "2024-03-24",
         295.53,
         896,
         "CUST072",
         "ORD1895",
         false,
         "2025-07-11T12:48:46.698Z"
        ],
        [
         "fbJt/geS6TmaeaFQ5k+MIt6VJyU=",
         "2024-01-18",
         38.5,
         980,
         "CUST179",
         "ORD1979",
         false,
         "2025-07-11T12:48:46.715Z"
        ],
        [
         "REsyWzKqZjy/elaa97OGn2FgFZE=",
         "2024-04-07",
         202.12,
         997,
         "CUST042",
         "ORD1996",
         false,
         "2025-07-11T12:48:46.687Z"
        ],
        [
         "xTfTbKXzShTRV4IoO68sDRQivZQ=",
         "2024-09-07",
         239.33,
         945,
         "CUST093",
         "ORD1944",
         false,
         "2025-07-11T12:48:46.703Z"
        ],
        [
         "Jm3CkcL4cDSKEouAbnGxjNzmuko=",
         "2024-01-29",
         261.34,
         613,
         "CUST200",
         "ORD1612",
         false,
         "2025-07-11T12:48:46.717Z"
        ],
        [
         "DovB0Mui0nfquy5TWPbcXcY4ahc=",
         "2024-06-21",
         196.55,
         558,
         "CUST062",
         "ORD1557",
         false,
         "2025-07-11T12:48:46.695Z"
        ],
        [
         "6/s7/YuoZgs0nwyC8K4XsjMzb2s=",
         "2024-12-12",
         70.8,
         773,
         "CUST051",
         "ORD1772",
         false,
         "2025-07-11T12:48:46.690Z"
        ],
        [
         "TGGWp1g6GhfhZw/7GgJirXdwY+I=",
         "2024-04-20",
         33.01,
         256,
         "CUST097",
         "ORD1255",
         false,
         "2025-07-11T12:48:46.703Z"
        ],
        [
         "ReeV1J3vSZaWv+smmr/GBJgGzxo=",
         "2024-04-23",
         102.71,
         536,
         "CUST195",
         "ORD1535",
         false,
         "2025-07-11T12:48:46.716Z"
        ],
        [
         "OQrEgRQo/JWZYJcxkyv7oXeLZ6w=",
         "2024-08-04",
         172.49,
         804,
         "CUST111",
         "ORD1803",
         false,
         "2025-07-11T12:48:46.707Z"
        ],
        [
         "zcS0xGr+y3ZOgaWfD42LmYqDnkg=",
         "2024-01-19",
         213.86,
         982,
         "CUST121",
         "ORD1981",
         false,
         "2025-07-11T12:48:46.709Z"
        ],
        [
         "lPkApkqofUFtG5Ebjxgr0v+4jIk=",
         "2024-05-30",
         239.4,
         168,
         "CUST065",
         "ORD1167",
         false,
         "2025-07-11T12:48:46.695Z"
        ],
        [
         "5deCIyW8O4xlrc6CKAVdlZb5mw0=",
         "2024-03-28",
         27.47,
         400,
         "CUST147",
         "ORD1399",
         false,
         "2025-07-11T12:48:46.712Z"
        ],
        [
         "b5NlTCuHpYjQhD3ozb4xnZ4YWJE=",
         "2024-07-17",
         20.1,
         284,
         "CUST108",
         "ORD1283",
         false,
         "2025-07-11T12:48:46.706Z"
        ],
        [
         "B602KgGDqHwdo6duEzaFQbv3u10=",
         "2024-08-16",
         15.87,
         332,
         "CUST125",
         "ORD1331",
         false,
         "2025-07-11T12:48:46.709Z"
        ],
        [
         "6Qb+mZkbhP67qZuY1uBZKNTIGJA=",
         "2024-03-05",
         123.62,
         234,
         "CUST088",
         "ORD1233",
         false,
         "2025-07-11T12:48:46.702Z"
        ],
        [
         "UZ0YOg70VTjJ6T+CgDCg0JqTgsI=",
         "2024-04-17",
         42.51,
         241,
         "CUST090",
         "ORD1240",
         false,
         "2025-07-11T12:48:46.702Z"
        ],
        [
         "bZBoFMDq0k8P/7HK3cIu9uWOpwQ=",
         "2024-09-26",
         79.95,
         736,
         "CUST194",
         "ORD1735",
         false,
         "2025-07-11T12:48:46.716Z"
        ],
        [
         "Mba18oPimBIj7PL1ycbnUPXupPw=",
         "2024-07-07",
         271.29,
         343,
         "CUST128",
         "ORD1342",
         false,
         "2025-07-11T12:48:46.710Z"
        ],
        [
         "Hr7nmz+WHbI2kjGbeQJYTvJAQJg=",
         "2024-05-31",
         162.18,
         676,
         "CUST035",
         "ORD1675",
         false,
         "2025-07-11T12:48:46.683Z"
        ],
        [
         "hFqnqjl8pjUEzZV87tgWkD9JbbM=",
         "2024-03-02",
         126.87,
         551,
         "CUST200",
         "ORD1550",
         false,
         "2025-07-11T12:48:46.717Z"
        ],
        [
         "270lHhOe0B6GcG4FgX13KM9gYIE=",
         "2024-09-08",
         47.85,
         886,
         "CUST147",
         "ORD1885",
         false,
         "2025-07-11T12:48:46.712Z"
        ],
        [
         "MVuPxwDroWMoUcT2KahBXgRY8lQ=",
         "2024-11-08",
         285.79,
         704,
         "CUST028",
         "ORD1703",
         false,
         "2025-07-11T12:48:46.680Z"
        ],
        [
         "YL0SPiCOsHetr7Ac4s7saJf3q7w=",
         "2024-08-04",
         202.47,
         370,
         "CUST136",
         "ORD1369",
         false,
         "2025-07-11T12:48:46.711Z"
        ],
        [
         "/lJoSvoexU0QKSg1w6WvV+rfonA=",
         "2024-02-11",
         157.58,
         110,
         "CUST045",
         "ORD1109",
         false,
         "2025-07-11T12:48:46.688Z"
        ],
        [
         "9OqrqUBINr9dQ+zjOsfUGG13uz8=",
         "2024-08-11",
         183.5,
         12,
         "CUST005",
         "ORD1011",
         false,
         "2025-07-11T12:48:46.666Z"
        ],
        [
         "Zo5e8sBPUEobge3/nnDJTLrMjNY=",
         "2024-05-24",
         291.87,
         5,
         "CUST002",
         "ORD1004",
         false,
         "2025-07-11T12:48:46.664Z"
        ],
        [
         "z+Lsp/YtiME6KPk6tKmfH9PmQo4=",
         "2024-08-12",
         230.38,
         533,
         "CUST194",
         "ORD1532",
         false,
         "2025-07-11T12:48:46.716Z"
        ],
        [
         "LGja4ksTvaXZp+1HAY7g3D/a3QY=",
         "2024-07-16",
         245.47,
         75,
         "CUST032",
         "ORD1074",
         false,
         "2025-07-11T12:48:46.681Z"
        ],
        [
         "RUWmWeZGpj7iDQBl5u02r211gzA=",
         "2024-02-21",
         174.27,
         273,
         "CUST104",
         "ORD1272",
         false,
         "2025-07-11T12:48:46.705Z"
        ],
        [
         "XcLlnRP1zstMdm5T3DcAT2Gkok8=",
         "2024-05-21",
         74.03,
         855,
         "CUST136",
         "ORD1854",
         false,
         "2025-07-11T12:48:46.711Z"
        ],
        [
         "AFeHWhI79RsIEubAOHcGrGgqV/I=",
         "2024-12-09",
         220.77,
         833,
         "CUST051",
         "ORD1832",
         false,
         "2025-07-11T12:48:46.691Z"
        ],
        [
         "KiMHkQfnUKi0Fu05kzRn8bm9tcs=",
         "2024-02-19",
         289.28,
         471,
         "CUST173",
         "ORD1470",
         false,
         "2025-07-11T12:48:46.714Z"
        ],
        [
         "HOfuZFVmWWuluVtAcd8Q8cyI/Z0=",
         "2024-05-08",
         285.88,
         106,
         "CUST043",
         "ORD1105",
         false,
         "2025-07-11T12:48:46.687Z"
        ],
        [
         "Yc3ZmtJT+0ztrygxYl3SwpzBpYk=",
         "2024-11-20",
         141.42,
         660,
         "CUST032",
         "ORD1659",
         false,
         "2025-07-11T12:48:46.682Z"
        ],
        [
         "a1KNGCs5SYIj1owZe2Pmy6ZC0uA=",
         "2024-04-24",
         13.56,
         223,
         "CUST084",
         "ORD1222",
         false,
         "2025-07-11T12:48:46.701Z"
        ],
        [
         "PiJkbwP4IunnaVrEaV1jlJGwl1g=",
         "2024-06-26",
         252.2,
         172,
         "CUST066",
         "ORD1171",
         false,
         "2025-07-11T12:48:46.696Z"
        ],
        [
         "MYbr4hTS3OCkYBIG/C6og0I4NAg=",
         "2024-01-25",
         172.45,
         721,
         "CUST146",
         "ORD1720",
         false,
         "2025-07-11T12:48:46.712Z"
        ],
        [
         "GZdVhlcWU2vgPa6uimqw+ct059I=",
         "2024-04-27",
         159.89,
         552,
         "CUST200",
         "ORD1551",
         false,
         "2025-07-11T12:48:46.717Z"
        ],
        [
         "Np71acHBeSPYlZO0UqGeGMF/N8M=",
         "2024-02-07",
         186.26,
         66,
         "CUST029",
         "ORD1065",
         false,
         "2025-07-11T12:48:46.680Z"
        ],
        [
         "pHuyIfMftsNNwr28JsQtaKfBwzU=",
         "2024-06-28",
         121.12,
         120,
         "CUST048",
         "ORD1119",
         false,
         "2025-07-11T12:48:46.689Z"
        ],
        [
         "WfcN7R6G6owkc4GHAQX2GNtiDKI=",
         "2024-06-30",
         280.66,
         858,
         "CUST065",
         "ORD1857",
         false,
         "2025-07-11T12:48:46.696Z"
        ],
        [
         "JowvtY/r0z9m4ei+XQf7pdjOr4s=",
         "2024-01-28",
         170.98,
         114,
         "CUST046",
         "ORD1113",
         false,
         "2025-07-11T12:48:46.688Z"
        ],
        [
         "AtxBPxAKvUSjB0kMpAOGWJnjTgE=",
         "2024-02-20",
         236.12,
         455,
         "CUST167",
         "ORD1454",
         false,
         "2025-07-11T12:48:46.713Z"
        ],
        [
         "Vlq4uiC+DhPHrOBpUz0lTjD4DAA=",
         "2024-12-30",
         206.41,
         925,
         "CUST016",
         "ORD1924",
         false,
         "2025-07-11T12:48:46.673Z"
        ],
        [
         "/l2zxXt22p66Avg2DvfrzHqxTcc=",
         "2024-11-07",
         31.87,
         514,
         "CUST188",
         "ORD1513",
         false,
         "2025-07-11T12:48:46.716Z"
        ],
        [
         "uhNRzD/ySSPSUsQW99hJe8IP1FU=",
         "2024-07-03",
         116.0,
         83,
         "CUST034",
         "ORD1082",
         false,
         "2025-07-11T12:48:46.683Z"
        ],
        [
         "8cm2TQu06XCrxCAlhARgzDzvS1s=",
         "2024-10-06",
         206.88,
         901,
         "CUST146",
         "ORD1900",
         false,
         "2025-07-11T12:48:46.712Z"
        ],
        [
         "xwXq7T03erNpcNTb87qQ1+k5+eA=",
         "2024-05-26",
         136.15,
         138,
         "CUST054",
         "ORD1137",
         false,
         "2025-07-11T12:48:46.692Z"
        ],
        [
         "NN7pw5P9aZcA2H1KkKnXaI5SKc0=",
         "2024-02-11",
         61.95,
         491,
         "CUST181",
         "ORD1490",
         false,
         "2025-07-11T12:48:46.715Z"
        ],
        [
         "O5m+1bnu0JS5NxdevfvcFosZ+70=",
         "2024-03-13",
         145.96,
         526,
         "CUST192",
         "ORD1525",
         false,
         "2025-07-11T12:48:46.716Z"
        ],
        [
         "4+lsJ/C8Dl5u8M8lyWuzuvKvSf8=",
         "2024-05-18",
         31.07,
         224,
         "CUST084",
         "ORD1223",
         false,
         "2025-07-11T12:48:46.701Z"
        ],
        [
         "vueOYyZGXwblQr0sOjkA750i/4k=",
         "2024-03-12",
         234.99,
         836,
         "CUST049",
         "ORD1835",
         false,
         "2025-07-11T12:48:46.690Z"
        ],
        [
         "gGAQEiibAA9g1qVlRgvJvIZXJaE=",
         "2024-11-13",
         132.79,
         701,
         "CUST158",
         "ORD1700",
         false,
         "2025-07-11T12:48:46.713Z"
        ],
        [
         "viVeQFQFxAYJXhAXAOXaOOYRBXM=",
         "2024-10-13",
         177.87,
         978,
         "CUST181",
         "ORD1977",
         false,
         "2025-07-11T12:48:46.715Z"
        ],
        [
         "hRAFYp1p+pyMYDKT3SB+5CwUozs=",
         "2024-03-27",
         197.65,
         487,
         "CUST179",
         "ORD1486",
         false,
         "2025-07-11T12:48:46.714Z"
        ],
        [
         "uy9ZIGWudfiOOAq50EaKsNf7ArQ=",
         "2024-03-04",
         32.55,
         27,
         "CUST012",
         "ORD1026",
         false,
         "2025-07-11T12:48:46.670Z"
        ],
        [
         "3ELX7p3BYHwqg8OYZzVE/57tgkE=",
         "2024-07-12",
         83.76,
         930,
         "CUST077",
         "ORD1929",
         false,
         "2025-07-11T12:48:46.699Z"
        ],
        [
         "jWvVVW6r+qK3gJ+jGltBtIoNkfo=",
         "2024-09-05",
         79.3,
         658,
         "CUST110",
         "ORD1657",
         false,
         "2025-07-11T12:48:46.707Z"
        ],
        [
         "jVvXbz+Ddwpsm6AwjWmw+sBhwEU=",
         "2024-06-18",
         255.94,
         483,
         "CUST178",
         "ORD1482",
         false,
         "2025-07-11T12:48:46.714Z"
        ],
        [
         "aC1fg5Fb59GhnbzuxTECl9nDjp0=",
         "2024-10-06",
         228.82,
         285,
         "CUST108",
         "ORD1284",
         false,
         "2025-07-11T12:48:46.706Z"
        ],
        [
         "ma+Mb4hGaXiFCw0xhJNo6b0bkc8=",
         "2024-08-04",
         25.64,
         281,
         "CUST106",
         "ORD1280",
         false,
         "2025-07-11T12:48:46.706Z"
        ],
        [
         "+jV5ifD3PDFa5g7pu7f5NYI0yek=",
         "2024-01-19",
         90.31,
         744,
         "CUST091",
         "ORD1743",
         false,
         "2025-07-11T12:48:46.702Z"
        ],
        [
         "4CsvLybDQksifeDDt9x1niXpA1s=",
         "2024-12-08",
         208.43,
         879,
         "CUST033",
         "ORD1878",
         false,
         "2025-07-11T12:48:46.682Z"
        ],
        [
         "cW3V1c9fw/Re5Ntavlz14Acyw/M=",
         "2024-01-09",
         254.15,
         777,
         "CUST116",
         "ORD1776",
         false,
         "2025-07-11T12:48:46.708Z"
        ],
        [
         "PFn/2bMdkrar4U9V0tCLJO/g6kQ=",
         "2024-09-03",
         247.38,
         639,
         "CUST115",
         "ORD1638",
         false,
         "2025-07-11T12:48:46.708Z"
        ],
        [
         "Q5QbTaQZMd7EyF0FWwBkkjkEmLI=",
         "2024-04-10",
         44.18,
         878,
         "CUST194",
         "ORD1877",
         false,
         "2025-07-11T12:48:46.716Z"
        ],
        [
         "bIXlqsmrJHzQOlXxiWhG1g7imKI=",
         "2024-04-01",
         84.38,
         160,
         "CUST062",
         "ORD1159",
         false,
         "2025-07-11T12:48:46.695Z"
        ],
        [
         "0BQ+d2Q5wzMLAF71efqWn7MQW04=",
         "2024-11-22",
         200.46,
         581,
         "CUST051",
         "ORD1580",
         false,
         "2025-07-11T12:48:46.690Z"
        ],
        [
         "Ug4SSYMS7eJrHEM9eA1A0S4FEQ8=",
         "2024-01-13",
         27.79,
         873,
         "CUST020",
         "ORD1872",
         false,
         "2025-07-11T12:48:46.676Z"
        ],
        [
         "yPAxvdhSuiqxlGIvprGYmLT4LoE=",
         "2024-04-22",
         128.43,
         306,
         "CUST116",
         "ORD1305",
         false,
         "2025-07-11T12:48:46.708Z"
        ],
        [
         "sLgr94voACWRkChvIeXwTebSZN0=",
         "2024-05-21",
         64.67,
         575,
         "CUST195",
         "ORD1574",
         false,
         "2025-07-11T12:48:46.716Z"
        ],
        [
         "qQokuxXduE8r28YajROBiQC0DwY=",
         "2024-02-18",
         145.58,
         614,
         "CUST093",
         "ORD1613",
         false,
         "2025-07-11T12:48:46.703Z"
        ],
        [
         "a9k3tbgCWUHZ44KCkn1H0MJo/7Y=",
         "2024-04-14",
         260.82,
         28,
         "CUST012",
         "ORD1027",
         false,
         "2025-07-11T12:48:46.670Z"
        ],
        [
         "M29dA07I2W3wWSIOAvxsXvvkQo4=",
         "2024-01-09",
         52.64,
         811,
         "CUST054",
         "ORD1810",
         false,
         "2025-07-11T12:48:46.692Z"
        ],
        [
         "0vZpucDcx4orc7JHBYDzTydXK+U=",
         "2024-06-24",
         86.09,
         349,
         "CUST130",
         "ORD1348",
         false,
         "2025-07-11T12:48:46.710Z"
        ],
        [
         "On7FDcPcfSH1F8vXT9YhHnF6b58=",
         "2024-05-06",
         226.59,
         579,
         "CUST149",
         "ORD1578",
         false,
         "2025-07-11T12:48:46.712Z"
        ],
        [
         "g3eKra2YhPQu8m0T79fMAIHcJCY=",
         "2024-04-11",
         293.54,
         990,
         "CUST076",
         "ORD1989",
         false,
         "2025-07-11T12:48:46.699Z"
        ],
        [
         "ScChCHXuhqFQotpixrO9ZgXw+0w=",
         "2024-06-01",
         130.27,
         20,
         "CUST009",
         "ORD1019",
         false,
         "2025-07-11T12:48:46.668Z"
        ],
        [
         "Ys7yJh55xWAKhl7tSXm5NThif28=",
         "2024-07-19",
         271.96,
         507,
         "CUST186",
         "ORD1506",
         false,
         "2025-07-11T12:48:46.715Z"
        ],
        [
         "GQw6vyj41mHUbijQaYm4i1b1SaY=",
         "2024-05-31",
         143.88,
         17,
         "CUST008",
         "ORD1016",
         false,
         "2025-07-11T12:48:46.668Z"
        ],
        [
         "e2RRJ+nwjV3XRK8q3Fsd0GJuguo=",
         "2024-07-18",
         19.91,
         402,
         "CUST147",
         "ORD1401",
         false,
         "2025-07-11T12:48:46.712Z"
        ],
        [
         "mBMLTEPk8o6M4pT/ZlhiTwlnJgU=",
         "2024-03-26",
         264.24,
         868,
         "CUST073",
         "ORD1867",
         false,
         "2025-07-11T12:48:46.698Z"
        ],
        [
         "eSkFkWLKTtgkj1yL+FImx+JBm5k=",
         "2024-07-07",
         68.25,
         556,
         "CUST010",
         "ORD1555",
         false,
         "2025-07-11T12:48:46.669Z"
        ],
        [
         "cQJ44YcxHYhxA703NP+/ZapdOQ4=",
         "2024-02-05",
         207.68,
         946,
         "CUST170",
         "ORD1945",
         false,
         "2025-07-11T12:48:46.714Z"
        ],
        [
         "jNOUb5HDKLfcp2GtqtFv5y+hgF4=",
         "2024-01-20",
         247.43,
         893,
         "CUST098",
         "ORD1892",
         false,
         "2025-07-11T12:48:46.704Z"
        ],
        [
         "jkWygBAMUCIPXTma6oeVDTLX+Nw=",
         "2024-02-13",
         49.92,
         76,
         "CUST033",
         "ORD1075",
         false,
         "2025-07-11T12:48:46.682Z"
        ],
        [
         "l7TP55kSYbSnxe/Lmoxa2LbzfG0=",
         "2024-08-09",
         197.74,
         747,
         "CUST105",
         "ORD1746",
         false,
         "2025-07-11T12:48:46.706Z"
        ],
        [
         "QGZ13dRBwnIIT3E9mxNOO2A40OY=",
         "2024-11-25",
         57.95,
         716,
         "CUST192",
         "ORD1715",
         false,
         "2025-07-11T12:48:46.716Z"
        ],
        [
         "UCEnw3L9aFEhYBSOYWrVUbYKzXM=",
         "2024-04-28",
         56.03,
         218,
         "CUST081",
         "ORD1217",
         false,
         "2025-07-11T12:48:46.700Z"
        ],
        [
         "3gZiw7uhXdcNQK9Hqb8eYbzSrn0=",
         "2024-02-08",
         272.2,
         703,
         "CUST110",
         "ORD1702",
         false,
         "2025-07-11T12:48:46.707Z"
        ],
        [
         "jH+u/lac5igr2u+WJKppYAOYabk=",
         "2024-06-05",
         153.12,
         204,
         "CUST077",
         "ORD1203",
         false,
         "2025-07-11T12:48:46.699Z"
        ],
        [
         "RlNZhex4/fKcsc3kPWFbw6Pc9A4=",
         "2024-03-12",
         173.1,
         434,
         "CUST160",
         "ORD1433",
         false,
         "2025-07-11T12:48:46.713Z"
        ],
        [
         "4J9jCXakORyTOfiZXQvzqGIgKcg=",
         "2024-08-12",
         182.29,
         73,
         "CUST031",
         "ORD1072",
         false,
         "2025-07-11T12:48:46.681Z"
        ],
        [
         "HmUpBkHou0UaAkUbXDYPGVFF8wA=",
         "2024-05-05",
         23.52,
         798,
         "CUST116",
         "ORD1797",
         false,
         "2025-07-11T12:48:46.708Z"
        ],
        [
         "dtRXm8Tg1kZ4ZuUqP2MdHplZi/8=",
         "2024-04-08",
         77.52,
         829,
         "CUST159",
         "ORD1828",
         false,
         "2025-07-11T12:48:46.713Z"
        ],
        [
         "pjKLJgeD1Y5Z6+MdP5LA1ldMgFk=",
         "2024-10-14",
         184.83,
         957,
         "CUST032",
         "ORD1956",
         false,
         "2025-07-11T12:48:46.682Z"
        ],
        [
         "hX3W2NADNg1ZonETY1QdrSWTRE4=",
         "2024-10-12",
         135.91,
         3,
         "CUST001",
         "ORD1002",
         false,
         "2025-07-11T12:48:46.662Z"
        ],
        [
         "HdPSsa1wprruwWE86fWXbuEX6S0=",
         "2024-04-17",
         152.53,
         235,
         "CUST088",
         "ORD1234",
         false,
         "2025-07-11T12:48:46.702Z"
        ],
        [
         "X8dwCeQ3xoNnovQlwmlSzNjU0Mw=",
         "2024-04-25",
         208.42,
         621,
         "CUST138",
         "ORD1620",
         false,
         "2025-07-11T12:48:46.711Z"
        ],
        [
         "Uu9p6zJt+GOnwdca93ACym/oiaI=",
         "2024-05-12",
         89.6,
         543,
         "CUST197",
         "ORD1542",
         false,
         "2025-07-11T12:48:46.716Z"
        ],
        [
         "pqIRWDNO5u3lZqkB54t0MgbldL8=",
         "2024-08-02",
         63.78,
         296,
         "CUST112",
         "ORD1295",
         false,
         "2025-07-11T12:48:46.707Z"
        ],
        [
         "6Uk0Nbkt6t2vC3ysGpNpn4zDcr0=",
         "2024-01-02",
         205.79,
         844,
         "CUST072",
         "ORD1843",
         false,
         "2025-07-11T12:48:46.698Z"
        ],
        [
         "3djb6YXK4Lvb28JgbUYmtoeA3Yg=",
         "2024-03-11",
         59.85,
         49,
         "CUST021",
         "ORD1048",
         false,
         "2025-07-11T12:48:46.677Z"
        ],
        [
         "/H6HDuEAotZ52tONrMMdsElK7M4=",
         "2024-10-02",
         275.5,
         812,
         "CUST069",
         "ORD1811",
         false,
         "2025-07-11T12:48:46.697Z"
        ],
        [
         "yBIOBP1fuSxh7/wWZVfEgfsAiZg=",
         "2024-06-29",
         74.24,
         828,
         "CUST176",
         "ORD1827",
         false,
         "2025-07-11T12:48:46.714Z"
        ],
        [
         "yIxEqNwA8b1JxxWEiW/uMGOmMuc=",
         "2024-05-12",
         151.78,
         723,
         "CUST180",
         "ORD1722",
         false,
         "2025-07-11T12:48:46.715Z"
        ],
        [
         "IS3B0FsmTeTlcrwmr7weNIoSMq0=",
         "2024-04-16",
         87.47,
         823,
         "CUST126",
         "ORD1822",
         false,
         "2025-07-11T12:48:46.710Z"
        ],
        [
         "kQ9CVLhGVs2pWJ4VprCBa1LTpDw=",
         "2024-09-03",
         217.99,
         964,
         "CUST050",
         "ORD1963",
         false,
         "2025-07-11T12:48:46.690Z"
        ],
        [
         "HSrSkf//YIqNAK5XFGel07g9XE8=",
         "2024-03-29",
         296.32,
         135,
         "CUST053",
         "ORD1134",
         false,
         "2025-07-11T12:48:46.691Z"
        ],
        [
         "wS20cF197Fr2mnwppUKBnpdZSX4=",
         "2024-11-01",
         50.52,
         911,
         "CUST177",
         "ORD1910",
         false,
         "2025-07-11T12:48:46.714Z"
        ],
        [
         "MrrJrB4i1pmEWxEbK1csN4x2f94=",
         "2024-05-06",
         175.6,
         419,
         "CUST155",
         "ORD1418",
         false,
         "2025-07-11T12:48:46.712Z"
        ],
        [
         "jns2gS2+GAiRgTCFBVugqg4K51Q=",
         "2024-05-23",
         105.98,
         580,
         "CUST179",
         "ORD1579",
         false,
         "2025-07-11T12:48:46.714Z"
        ],
        [
         "6jLL1HbtD2v2PBoZiXXwOrKAp4k=",
         "2024-03-13",
         249.52,
         842,
         "CUST187",
         "ORD1841",
         false,
         "2025-07-11T12:48:46.715Z"
        ],
        [
         "B851IZPKCTV4pIHdgXaWX9GtRas=",
         "2024-03-21",
         241.55,
         819,
         "CUST098",
         "ORD1818",
         false,
         "2025-07-11T12:48:46.704Z"
        ],
        [
         "M0Kefy1rfa/EuSYQWln4ahAFdLA=",
         "2024-07-24",
         69.32,
         414,
         "CUST152",
         "ORD1413",
         false,
         "2025-07-11T12:48:46.712Z"
        ],
        [
         "/eDJqxvfaHF0fqK5guj0qxZYbts=",
         "2024-04-27",
         78.0,
         881,
         "CUST093",
         "ORD1880",
         false,
         "2025-07-11T12:48:46.703Z"
        ],
        [
         "kxhpZQA+rbMv1hB1X8PkzXZYdPs=",
         "2024-07-29",
         117.26,
         421,
         "CUST155",
         "ORD1420",
         false,
         "2025-07-11T12:48:46.712Z"
        ],
        [
         "WmPox+ML7CQXm1C3cYC6tOEJo4k=",
         "2024-05-26",
         74.15,
         931,
         "CUST126",
         "ORD1930",
         false,
         "2025-07-11T12:48:46.710Z"
        ],
        [
         "1vGG+Jy6jJ3fwJRbjOZVcnxxmi8=",
         "2024-10-18",
         195.46,
         684,
         "CUST080",
         "ORD1683",
         false,
         "2025-07-11T12:48:46.700Z"
        ],
        [
         "QX0lRrEGyTtrebO2dFLlJ1K4Cj0=",
         "2024-03-20",
         117.6,
         772,
         "CUST116",
         "ORD1771",
         false,
         "2025-07-11T12:48:46.708Z"
        ],
        [
         "xTGj8OR7r9qFc7bqLmM+8HrGRbU=",
         "2024-09-20",
         262.15,
         806,
         "CUST058",
         "ORD1805",
         false,
         "2025-07-11T12:48:46.694Z"
        ],
        [
         "FK80WGux+tioUm01vLE4e5dP//o=",
         "2024-02-09",
         257.25,
         760,
         "CUST110",
         "ORD1759",
         false,
         "2025-07-11T12:48:46.707Z"
        ],
        [
         "2qNp71s22SAsYMFhxLHDbdHbOII=",
         "2024-02-24",
         240.12,
         9,
         "CUST004",
         "ORD1008",
         false,
         "2025-07-11T12:48:46.665Z"
        ],
        [
         "erLuvAEKcVDYie4YX0wBT5fvgw0=",
         "2024-04-10",
         167.9,
         295,
         "CUST112",
         "ORD1294",
         false,
         "2025-07-11T12:48:46.707Z"
        ],
        [
         "2ozuX2nYJpEJVMPz1SQ8wykmUN0=",
         "2024-06-19",
         45.76,
         489,
         "CUST180",
         "ORD1488",
         false,
         "2025-07-11T12:48:46.715Z"
        ],
        [
         "97T/6ehRSNK489CpZDn58e1Ym+o=",
         "2024-01-23",
         224.92,
         923,
         "CUST104",
         "ORD1922",
         false,
         "2025-07-11T12:48:46.705Z"
        ],
        [
         "cBexY2E+9z6/eYnSSX2MncSjXf8=",
         "2024-11-23",
         128.21,
         661,
         "CUST131",
         "ORD1660",
         false,
         "2025-07-11T12:48:46.710Z"
        ],
        [
         "FgTY9dHSk8TMJloacRKfJ63h3iI=",
         "2024-07-13",
         297.22,
         585,
         "CUST119",
         "ORD1584",
         false,
         "2025-07-11T12:48:46.708Z"
        ],
        [
         "3oBBcT3OQmEJQZ1j9SiDfst45XU=",
         "2024-01-31",
         67.23,
         310,
         "CUST119",
         "ORD1309",
         false,
         "2025-07-11T12:48:46.708Z"
        ],
        [
         "9rfN+CbxVUwnYEYo5fd3PVB655E=",
         "2024-08-25",
         62.89,
         714,
         "CUST078",
         "ORD1713",
         false,
         "2025-07-11T12:48:46.699Z"
        ],
        [
         "za68lV7MBn6I60nr0kx3Da2pLRI=",
         "2024-03-07",
         64.81,
         942,
         "CUST024",
         "ORD1941",
         false,
         "2025-07-11T12:48:46.678Z"
        ],
        [
         "CkNeymIr+f2dz3FxioB5P6M0/sQ=",
         "2024-04-27",
         55.19,
         966,
         "CUST191",
         "ORD1965",
         false,
         "2025-07-11T12:48:46.716Z"
        ],
        [
         "2qDALppG6+jLP9F2MK9HQVTOSas=",
         "2024-01-15",
         183.17,
         992,
         "CUST063",
         "ORD1991",
         false,
         "2025-07-11T12:48:46.695Z"
        ],
        [
         "TsKTsS76MKSDq69YSRaaDswaeh4=",
         "2024-05-25",
         80.48,
         411,
         "CUST151",
         "ORD1410",
         false,
         "2025-07-11T12:48:46.712Z"
        ],
        [
         "C5VPsSit6jEUTMPEmgCGZIAPd8I=",
         "2024-06-12",
         83.34,
         522,
         "CUST191",
         "ORD1521",
         false,
         "2025-07-11T12:48:46.716Z"
        ],
        [
         "05T7Kstq2q47wcBmW+vTXLUtk/c=",
         "2024-05-24",
         229.96,
         832,
         "CUST078",
         "ORD1831",
         false,
         "2025-07-11T12:48:46.699Z"
        ],
        [
         "ydHn+64kadwbNZVrd2alKLy/DrI=",
         "2024-06-15",
         285.24,
         420,
         "CUST155",
         "ORD1419",
         false,
         "2025-07-11T12:48:46.712Z"
        ],
        [
         "AEz6WTVCChpfeVflLFhiA7sgLUQ=",
         "2024-10-19",
         156.49,
         862,
         "CUST062",
         "ORD1861",
         false,
         "2025-07-11T12:48:46.695Z"
        ],
        [
         "IJMsWVcTMRMBjbiQ/He7ep8n95E=",
         "2024-05-24",
         43.98,
         488,
         "CUST180",
         "ORD1487",
         false,
         "2025-07-11T12:48:46.715Z"
        ],
        [
         "PtUvx0N8Jh56tpjfAb99sp0fbps=",
         "2024-04-26",
         201.22,
         153,
         "CUST059",
         "ORD1152",
         false,
         "2025-07-11T12:48:46.694Z"
        ],
        [
         "kGWUQYVcBkqf4DA9hdmzMbo39DA=",
         "2024-10-18",
         151.61,
         200,
         "CUST075",
         "ORD1199",
         false,
         "2025-07-11T12:48:46.698Z"
        ],
        [
         "X7Aw0vlhomWqJJWI5vd7v6UoIkQ=",
         "2024-07-08",
         59.7,
         903,
         "CUST019",
         "ORD1902",
         false,
         "2025-07-11T12:48:46.676Z"
        ],
        [
         "9vNKxdrvKyn5EHj86k13uFiJBUw=",
         "2024-06-16",
         13.27,
         100,
         "CUST041",
         "ORD1099",
         false,
         "2025-07-11T12:48:46.686Z"
        ],
        [
         "Lyq9qn8zoB8m83K4KzPhAeSWMDw=",
         "2024-05-08",
         152.34,
         154,
         "CUST059",
         "ORD1153",
         false,
         "2025-07-11T12:48:46.694Z"
        ],
        [
         "hxZ3k1nb8v19sRjvStVR8yALcEY=",
         "2024-08-30",
         292.28,
         783,
         "CUST044",
         "ORD1782",
         false,
         "2025-07-11T12:48:46.687Z"
        ],
        [
         "VDTIHzMMZCD/HSizto5v9hK5RM0=",
         "2024-04-20",
         97.96,
         965,
         "CUST048",
         "ORD1964",
         false,
         "2025-07-11T12:48:46.689Z"
        ],
        [
         "ew5eKC7KuEtMK/6NxRyCunV/q3g=",
         "2024-10-12",
         87.83,
         633,
         "CUST157",
         "ORD1632",
         false,
         "2025-07-11T12:48:46.713Z"
        ],
        [
         "mMWetvFRTdeiRD7rklG9FEjwm64=",
         "2024-07-15",
         187.71,
         121,
         "CUST048",
         "ORD1120",
         false,
         "2025-07-11T12:48:46.689Z"
        ],
        [
         "b2ao8G5UyUxximjhj+Hx/+JsPmk=",
         "2024-05-02",
         105.17,
         40,
         "CUST018",
         "ORD1039",
         false,
         "2025-07-11T12:48:46.673Z"
        ],
        [
         "pWzA+faOq0qlua1IdVEtw5sU/vY=",
         "2024-03-16",
         220.56,
         619,
         "CUST005",
         "ORD1618",
         false,
         "2025-07-11T12:48:46.666Z"
        ],
        [
         "/p1zUlfwO6oBkTIKo8vq8GQC97U=",
         "2024-06-06",
         271.88,
         890,
         "CUST057",
         "ORD1889",
         false,
         "2025-07-11T12:48:46.693Z"
        ],
        [
         "AXLCX7/kcE3YMxK1xDEns3Nt2AQ=",
         "2024-10-20",
         127.13,
         587,
         "CUST048",
         "ORD1586",
         false,
         "2025-07-11T12:48:46.689Z"
        ],
        [
         "1YLdNHRLngBjbyBs58sBA4Ue+wk=",
         "2024-05-04",
         63.69,
         299,
         "CUST113",
         "ORD1298",
         false,
         "2025-07-11T12:48:46.707Z"
        ],
        [
         "Dt2d1EjMUElUntqx7WQiJjU9BT8=",
         "2024-08-16",
         295.3,
         523,
         "CUST191",
         "ORD1522",
         false,
         "2025-07-11T12:48:46.716Z"
        ],
        [
         "YHFOplkmbCpLPT31MeB+iXFqXXQ=",
         "2024-02-07",
         41.84,
         905,
         "CUST189",
         "ORD1904",
         false,
         "2025-07-11T12:48:46.716Z"
        ],
        [
         "dj8sWbEkA6GOS+Kp/tgLhlTbq2A=",
         "2024-08-08",
         220.15,
         85,
         "CUST035",
         "ORD1084",
         false,
         "2025-07-11T12:48:46.683Z"
        ],
        [
         "nm9YKn4ofduRk/8GFVA6tlJgBa4=",
         "2024-04-30",
         47.28,
         440,
         "CUST163",
         "ORD1439",
         false,
         "2025-07-11T12:48:46.713Z"
        ],
        [
         "cnCtMul2WPG3TCCGnJ5lb45GpZ0=",
         "2024-06-03",
         147.85,
         457,
         "CUST168",
         "ORD1456",
         false,
         "2025-07-11T12:48:46.713Z"
        ],
        [
         "u1U3MaT6BpyEJWNlZbQVQXCJKfw=",
         "2024-07-13",
         218.79,
         724,
         "CUST041",
         "ORD1723",
         false,
         "2025-07-11T12:48:46.686Z"
        ],
        [
         "rQZrh3JDXQrEUfjCqlJ1vREoEZ0=",
         "2024-08-31",
         122.12,
         209,
         "CUST078",
         "ORD1208",
         false,
         "2025-07-11T12:48:46.699Z"
        ],
        [
         "x/bt9NOM7t5aP5XFDAPGaPvKsh0=",
         "2024-08-12",
         121.28,
         151,
         "CUST058",
         "ORD1150",
         false,
         "2025-07-11T12:48:46.694Z"
        ],
        [
         "Fx2uWVJa59iT0ZMU/f8/zkkC/lk=",
         "2024-07-30",
         241.74,
         710,
         "CUST147",
         "ORD1709",
         false,
         "2025-07-11T12:48:46.712Z"
        ],
        [
         "TIokd/YyX2FOUpo9PFVEIzQn7NQ=",
         "2024-03-31",
         237.31,
         785,
         "CUST004",
         "ORD1784",
         false,
         "2025-07-11T12:48:46.665Z"
        ],
        [
         "exEMCDneKw1ptNBm2nwi/dgtIGs=",
         "2024-03-09",
         273.78,
         987,
         "CUST055",
         "ORD1986",
         false,
         "2025-07-11T12:48:46.692Z"
        ],
        [
         "b3ZkH8tO46h0Hrhj+TPYWlN6CD8=",
         "2024-01-14",
         140.0,
         201,
         "CUST076",
         "ORD1200",
         false,
         "2025-07-11T12:48:46.699Z"
        ],
        [
         "fS6ybrJJkM1Od13LeOECMTaje+s=",
         "2024-07-25",
         92.71,
         883,
         "CUST114",
         "ORD1882",
         false,
         "2025-07-11T12:48:46.708Z"
        ],
        [
         "pu8kuzgOuSuDDPL3xdhrNG2pqLk=",
         "2024-09-30",
         283.5,
         815,
         "CUST199",
         "ORD1814",
         false,
         "2025-07-11T12:48:46.717Z"
        ],
        [
         "BlbW6q4VfCwg2tIG7FZPYbh6ubY=",
         "2024-01-06",
         267.01,
         830,
         "CUST188",
         "ORD1829",
         false,
         "2025-07-11T12:48:46.716Z"
        ],
        [
         "dOvbXITrAjrw4EjElCFGu8wFLic=",
         "2024-06-14",
         44.11,
         562,
         "CUST037",
         "ORD1561",
         false,
         "2025-07-11T12:48:46.684Z"
        ],
        [
         "98rF5gul25GTC+qAJDNjMmEFuhM=",
         "2024-05-16",
         78.77,
         143,
         "CUST056",
         "ORD1142",
         false,
         "2025-07-11T12:48:46.692Z"
        ],
        [
         "fclritQM9mj43w3BWYQReuI/X2A=",
         "2024-04-08",
         10.52,
         535,
         "CUST195",
         "ORD1534",
         false,
         "2025-07-11T12:48:46.716Z"
        ],
        [
         "xNCNjAxoApzpO1kFWkkzQDG8pow=",
         "2024-07-10",
         236.43,
         675,
         "CUST076",
         "ORD1674",
         false,
         "2025-07-11T12:48:46.699Z"
        ],
        [
         "Zz6/hONRdeFgx17JlcJpgpNjPBs=",
         "2024-06-23",
         24.51,
         770,
         "CUST027",
         "ORD1769",
         false,
         "2025-07-11T12:48:46.679Z"
        ],
        [
         "D38dJBUeWdBR9HYViBnRlinOLzY=",
         "2024-06-29",
         154.28,
         860,
         "CUST056",
         "ORD1859",
         false,
         "2025-07-11T12:48:46.693Z"
        ],
        [
         "ZqNG2EZSZqXbJ/q19CxFQ7XidOw=",
         "2024-10-11",
         100.65,
         52,
         "CUST022",
         "ORD1051",
         false,
         "2025-07-11T12:48:46.677Z"
        ],
        [
         "mfzfQhFn+a7AmYDgm1xuDPmbsFI=",
         "2024-01-07",
         123.25,
         438,
         "CUST162",
         "ORD1437",
         false,
         "2025-07-11T12:48:46.713Z"
        ],
        [
         "EDQbJ1unef3vjOQo11vDOGYgwoY=",
         "2024-09-16",
         88.62,
         133,
         "CUST052",
         "ORD1132",
         false,
         "2025-07-11T12:48:46.691Z"
        ],
        [
         "xi/cZVBEP8auY+aqqiLHYy1nWaY=",
         "2024-07-24",
         123.67,
         611,
         "CUST178",
         "ORD1610",
         false,
         "2025-07-11T12:48:46.714Z"
        ],
        [
         "xXDLA1Kx5LY3Ll8t3N+FFCqZ1ek=",
         "2024-01-27",
         93.1,
         70,
         "CUST030",
         "ORD1069",
         false,
         "2025-07-11T12:48:46.681Z"
        ],
        [
         "YTE9w7VgN53RzXtLIScHZCU8Gns=",
         "2024-04-24",
         266.81,
         181,
         "CUST068",
         "ORD1180",
         false,
         "2025-07-11T12:48:46.696Z"
        ],
        [
         "9ctO4D7dzLDpDGfB9ktZaA6K2j4=",
         "2024-04-04",
         50.81,
         184,
         "CUST070",
         "ORD1183",
         false,
         "2025-07-11T12:48:46.697Z"
        ],
        [
         "Gm5zvXrmWjdoGZPKmNU39EteFSc=",
         "2024-05-26",
         222.63,
         979,
         "CUST161",
         "ORD1978",
         false,
         "2025-07-11T12:48:46.713Z"
        ],
        [
         "pBLTJ9m36PCNzQmgUjFjXC22980=",
         "2024-03-16",
         274.07,
         22,
         "CUST010",
         "ORD1021",
         false,
         "2025-07-11T12:48:46.669Z"
        ],
        [
         "Wr+GAzeoLEWkEpOaaBqbri1ixB4=",
         "2024-02-05",
         66.87,
         473,
         "CUST174",
         "ORD1472",
         false,
         "2025-07-11T12:48:46.714Z"
        ],
        [
         "5eTHUD76YuEwNibn9b5AYOqnczU=",
         "2024-01-21",
         218.22,
         761,
         "CUST198",
         "ORD1760",
         false,
         "2025-07-11T12:48:46.716Z"
        ],
        [
         "RkPeKS4vdDabmHDA+zH4UDE8cuQ=",
         "2024-01-03",
         223.47,
         236,
         "CUST089",
         "ORD1235",
         false,
         "2025-07-11T12:48:46.702Z"
        ],
        [
         "S79sxIsIoH7cOkw/VL4hta+2wSg=",
         "2024-08-24",
         79.48,
         919,
         "CUST097",
         "ORD1918",
         false,
         "2025-07-11T12:48:46.703Z"
        ],
        [
         "61InHgmkXVRCZQ+t83oOGxFfB9w=",
         "2024-08-06",
         11.85,
         42,
         "CUST018",
         "ORD1041",
         false,
         "2025-07-11T12:48:46.674Z"
        ],
        [
         "p/o/SQ37mZ/bkwg9ciyRiH4/CmQ=",
         "2024-06-02",
         249.66,
         108,
         "CUST044",
         "ORD1107",
         false,
         "2025-07-11T12:48:46.687Z"
        ],
        [
         "UYpuj4yadB+KAbtvE/pQn9ZX51I=",
         "2024-04-18",
         293.15,
         80,
         "CUST034",
         "ORD1079",
         false,
         "2025-07-11T12:48:46.683Z"
        ],
        [
         "ZPHK7n8QTyikQ1ngb4Vpx2oPX6U=",
         "2024-07-21",
         160.21,
         173,
         "CUST066",
         "ORD1172",
         false,
         "2025-07-11T12:48:46.696Z"
        ],
        [
         "vHz9nUUkUuRrx1aqcItZPEKx13U=",
         "2024-09-11",
         133.46,
         262,
         "CUST099",
         "ORD1261",
         false,
         "2025-07-11T12:48:46.704Z"
        ],
        [
         "NTLFJ0bU0SQVipRztYFdprzoR9s=",
         "2024-06-23",
         19.1,
         655,
         "CUST013",
         "ORD1654",
         false,
         "2025-07-11T12:48:46.671Z"
        ],
        [
         "2Zi5SoJy0howYqRY3BNY5Pre/Jo=",
         "2024-06-16",
         259.66,
         283,
         "CUST108",
         "ORD1282",
         false,
         "2025-07-11T12:48:46.706Z"
        ],
        [
         "13/Ov52gwmxcigzJrDP7Xt7r70A=",
         "2024-05-03",
         143.94,
         885,
         "CUST092",
         "ORD1884",
         false,
         "2025-07-11T12:48:46.702Z"
        ],
        [
         "3dnIdObwyM0rn2G9CITgn3VaPS0=",
         "2024-06-21",
         232.12,
         314,
         "CUST120",
         "ORD1313",
         false,
         "2025-07-11T12:48:46.708Z"
        ],
        [
         "BufKPTRE0vW9Nfq6Y7LJpkmVJQ4=",
         "2024-03-20",
         23.93,
         263,
         "CUST100",
         "ORD1262",
         false,
         "2025-07-11T12:48:46.704Z"
        ],
        [
         "2T7KNGAQqvF8pRZ08pOwc6N+ROc=",
         "2024-03-25",
         89.6,
         583,
         "CUST144",
         "ORD1582",
         false,
         "2025-07-11T12:48:46.711Z"
        ],
        [
         "17NAg/YA91ByK0j5YimpHw29vCc=",
         "2024-05-23",
         247.06,
         478,
         "CUST176",
         "ORD1477",
         false,
         "2025-07-11T12:48:46.714Z"
        ],
        [
         "05oH99B0P7oq7QJLauJ7aKe+c5U=",
         "2024-04-07",
         243.53,
         790,
         "CUST083",
         "ORD1789",
         false,
         "2025-07-11T12:48:46.701Z"
        ],
        [
         "8GkpZhxsFQ5BAEUQJEw3DLnkua0=",
         "2024-06-03",
         226.29,
         182,
         "CUST069",
         "ORD1181",
         false,
         "2025-07-11T12:48:46.697Z"
        ],
        [
         "xIunm2y+ZPsmLSheFhDv7EMXwQ4=",
         "2024-08-15",
         205.4,
         198,
         "CUST075",
         "ORD1197",
         false,
         "2025-07-11T12:48:46.698Z"
        ],
        [
         "AhBQ5wlGdvxC2kC+IjS/2qznX0I=",
         "2024-05-26",
         162.7,
         211,
         "CUST079",
         "ORD1210",
         false,
         "2025-07-11T12:48:46.700Z"
        ],
        [
         "iaMXDefGYUysWpGLCZFKzmlkLr0=",
         "2024-02-22",
         45.49,
         818,
         "CUST111",
         "ORD1817",
         false,
         "2025-07-11T12:48:46.707Z"
        ],
        [
         "RC6NOokur8bax2wGK/1nL/AlJMY=",
         "2024-07-03",
         136.58,
         186,
         "CUST070",
         "ORD1185",
         false,
         "2025-07-11T12:48:46.697Z"
        ],
        [
         "agC0bEz6ljqGNZg/AMXWvpwdgcA=",
         "2024-04-21",
         66.56,
         417,
         "CUST154",
         "ORD1416",
         false,
         "2025-07-11T12:48:46.712Z"
        ],
        [
         "1WtUFCPL4mpc1F61ddDnj5pPRX8=",
         "2024-01-21",
         53.07,
         462,
         "CUST170",
         "ORD1461",
         false,
         "2025-07-11T12:48:46.714Z"
        ],
        [
         "1nz6ZYcIKRYpSzKI6YntM4atnbQ=",
         "2024-02-03",
         258.96,
         870,
         "CUST186",
         "ORD1869",
         false,
         "2025-07-11T12:48:46.715Z"
        ],
        [
         "u0Jl2r/5x6LUBzDMtImj7bHFwEM=",
         "2024-01-24",
         225.34,
         525,
         "CUST192",
         "ORD1524",
         false,
         "2025-07-11T12:48:46.716Z"
        ],
        [
         "6oyVS8/YfaNcSu8NnVDEKa0YABs=",
         "2024-05-03",
         287.19,
         696,
         "CUST132",
         "ORD1695",
         false,
         "2025-07-11T12:48:46.710Z"
        ],
        [
         "DUWWUCfFKg2rT8JoeGCL0rj5aFA=",
         "2024-02-20",
         84.06,
         480,
         "CUST177",
         "ORD1479",
         false,
         "2025-07-11T12:48:46.714Z"
        ],
        [
         "1aY9eCjy+/ZQ0YXHWlHlEIhb8N8=",
         "2024-03-11",
         187.96,
         36,
         "CUST016",
         "ORD1035",
         false,
         "2025-07-11T12:48:46.673Z"
        ],
        [
         "vUOmjLf7Ycwg86vLVgIUJnEdkCg=",
         "2024-10-13",
         45.76,
         698,
         "CUST184",
         "ORD1697",
         false,
         "2025-07-11T12:48:46.715Z"
        ],
        [
         "2MNE+c687e7Fdc/i6ovcOVQ2xxM=",
         "2024-08-25",
         254.53,
         512,
         "CUST188",
         "ORD1511",
         false,
         "2025-07-11T12:48:46.715Z"
        ],
        [
         "z0rKbPoXinkGDNI+j5P+1SBc3aY=",
         "2024-05-15",
         143.74,
         81,
         "CUST034",
         "ORD1080",
         false,
         "2025-07-11T12:48:46.683Z"
        ],
        [
         "juKJvnAXxI/P42+3HhQrrHYvK1M=",
         "2024-02-06",
         160.82,
         126,
         "CUST050",
         "ORD1125",
         false,
         "2025-07-11T12:48:46.690Z"
        ],
        [
         "jq5S+TRBKRo5YUa25wVKA0aFBeE=",
         "2024-05-02",
         15.53,
         87,
         "CUST036",
         "ORD1086",
         false,
         "2025-07-11T12:48:46.684Z"
        ],
        [
         "Rmb+B8Inpug8ASqKm7RWaupeLdo=",
         "2024-08-14",
         15.25,
         479,
         "CUST176",
         "ORD1478",
         false,
         "2025-07-11T12:48:46.714Z"
        ],
        [
         "AtJacO6KrZ64rVkuuQRCx87SqR4=",
         "2024-02-04",
         110.39,
         486,
         "CUST179",
         "ORD1485",
         false,
         "2025-07-11T12:48:46.714Z"
        ],
        [
         "CmcKbVZ3dQa/hM3AjO1RC+KrwBA=",
         "2024-06-26",
         162.05,
         408,
         "CUST150",
         "ORD1407",
         false,
         "2025-07-11T12:48:46.712Z"
        ],
        [
         "y0un7IIoBOVmppvZRylW3mHM/0c=",
         "2024-12-08",
         224.51,
         738,
         "CUST050",
         "ORD1737",
         false,
         "2025-07-11T12:48:46.690Z"
        ],
        [
         "yK71nLqhg317nUXGrC0pIuzd3BE=",
         "2024-07-17",
         295.35,
         101,
         "CUST041",
         "ORD1100",
         false,
         "2025-07-11T12:48:46.686Z"
        ],
        [
         "CD71MsZnqaV0zHCyoT/0fvdLrMc=",
         "2024-05-12",
         80.89,
         45,
         "CUST019",
         "ORD1044",
         false,
         "2025-07-11T12:48:46.675Z"
        ],
        [
         "c0LtdpHJzEOkxKmW8QMqm+TwruA=",
         "2024-06-20",
         128.25,
         423,
         "CUST156",
         "ORD1422",
         false,
         "2025-07-11T12:48:46.713Z"
        ],
        [
         "AHDsgoN/AUGNSNmJdp4pOYoi4Hs=",
         "2024-10-07",
         171.87,
         711,
         "CUST108",
         "ORD1710",
         false,
         "2025-07-11T12:48:46.706Z"
        ],
        [
         "E0PyHK0ZVxEmKXJ6Z9ihXTz8X9s=",
         "2024-03-09",
         204.11,
         576,
         "CUST162",
         "ORD1575",
         false,
         "2025-07-11T12:48:46.713Z"
        ],
        [
         "BpjZ2pUl1eIrDQVzoYMRVOxtepA=",
         "2024-03-09",
         257.82,
         662,
         "CUST098",
         "ORD1661",
         false,
         "2025-07-11T12:48:46.703Z"
        ],
        [
         "/tVJwoklOG9M7amjM6XK00+KsL4=",
         "2024-07-11",
         75.49,
         677,
         "CUST039",
         "ORD1676",
         false,
         "2025-07-11T12:48:46.685Z"
        ],
        [
         "cjbR5yg12zFF0WFn8n6yi5q1XyE=",
         "2024-06-26",
         94.89,
         74,
         "CUST032",
         "ORD1073",
         false,
         "2025-07-11T12:48:46.681Z"
        ],
        [
         "w7amHP/bhRJRQKBAEVCA05A/wy0=",
         "2024-03-30",
         92.32,
         302,
         "CUST114",
         "ORD1301",
         false,
         "2025-07-11T12:48:46.708Z"
        ],
        [
         "w09BzfHC5tDYadZ7wa4z0+DHmdc=",
         "2024-07-11",
         25.57,
         734,
         "CUST160",
         "ORD1733",
         false,
         "2025-07-11T12:48:46.713Z"
        ],
        [
         "ODMQRYgcFmP2i+ht54+Pzbvnbxs=",
         "2024-04-15",
         34.28,
         185,
         "CUST070",
         "ORD1184",
         false,
         "2025-07-11T12:48:46.697Z"
        ],
        [
         "FNCKXhpyAmOmHBdMyf7WJIYy6Dc=",
         "2024-02-01",
         207.91,
         609,
         "CUST150",
         "ORD1608",
         false,
         "2025-07-11T12:48:46.712Z"
        ],
        [
         "/34brLFVgk4kV7WO8ZYtDI8HgvY=",
         "2024-05-12",
         270.76,
         214,
         "CUST080",
         "ORD1213",
         false,
         "2025-07-11T12:48:46.700Z"
        ],
        [
         "WkTv6TviLlO/mSi3hHWLz7NAVvo=",
         "2024-09-28",
         64.16,
         499,
         "CUST183",
         "ORD1498",
         false,
         "2025-07-11T12:48:46.715Z"
        ],
        [
         "yLzuD+m5MtJNMQDPeS4L+w11vAs=",
         "2024-04-29",
         124.6,
         426,
         "CUST157",
         "ORD1425",
         false,
         "2025-07-11T12:48:46.713Z"
        ],
        [
         "58d+vdHW2xjH/ZAtMDkZOwHaiWU=",
         "2024-05-13",
         44.98,
         671,
         "CUST032",
         "ORD1670",
         false,
         "2025-07-11T12:48:46.682Z"
        ],
        [
         "b56gvtsSlXXQfwvYHCvq9lvKwow=",
         "2024-01-03",
         247.17,
         739,
         "CUST157",
         "ORD1738",
         false,
         "2025-07-11T12:48:46.713Z"
        ],
        [
         "o7GN5ziP2TfJ3q9Y2LO6qsNY2T8=",
         "2024-02-27",
         163.78,
         127,
         "CUST050",
         "ORD1126",
         false,
         "2025-07-11T12:48:46.690Z"
        ],
        [
         "UHy1GlYe9+HQ7OvuBxXTXNyVtZs=",
         "2024-04-01",
         231.73,
         820,
         "CUST182",
         "ORD1819",
         false,
         "2025-07-11T12:48:46.715Z"
        ],
        [
         "ouRAPmrCm43AkDavFW0xDDVr2gA=",
         "2024-06-29",
         64.94,
         509,
         "CUST187",
         "ORD1508",
         false,
         "2025-07-11T12:48:46.715Z"
        ],
        [
         "PGici6xfO1sXEqn/VWv8ThsEPJU=",
         "2024-08-27",
         49.49,
         753,
         "CUST103",
         "ORD1752",
         false,
         "2025-07-11T12:48:46.705Z"
        ],
        [
         "LMFDF6roCpuGtHjXVZcW2laoeyw=",
         "2024-02-06",
         113.42,
         755,
         "CUST153",
         "ORD1754",
         false,
         "2025-07-11T12:48:46.712Z"
        ],
        [
         "XcvWV/+qgjdIKRxJX5poxChXWu4=",
         "2024-11-23",
         49.65,
         589,
         "CUST125",
         "ORD1588",
         false,
         "2025-07-11T12:48:46.709Z"
        ],
        [
         "/6dAy07agio2wCMSiqIDllUfpOM=",
         "2024-04-03",
         34.27,
         25,
         "CUST011",
         "ORD1024",
         false,
         "2025-07-11T12:48:46.669Z"
        ],
        [
         "ZHihCWHheKDzL2i3MSTeI2hjSH4=",
         "2024-06-22",
         262.11,
         342,
         "CUST128",
         "ORD1341",
         false,
         "2025-07-11T12:48:46.710Z"
        ],
        [
         "KQgkXL8d4PkOKPe2Kuhl+cmwy20=",
         "2024-05-05",
         228.97,
         264,
         "CUST100",
         "ORD1263",
         false,
         "2025-07-11T12:48:46.704Z"
        ],
        [
         "NryS7D2a2H/g6MISc8WgCw4mzX8=",
         "2024-04-23",
         27.49,
         496,
         "CUST183",
         "ORD1495",
         false,
         "2025-07-11T12:48:46.715Z"
        ],
        [
         "6bqcioztBWQm4y6WHMb/lr75kIM=",
         "2024-12-06",
         150.57,
         850,
         "CUST077",
         "ORD1849",
         false,
         "2025-07-11T12:48:46.699Z"
        ],
        [
         "bNTEWJobTKIaETpDicHGl5u34TA=",
         "2024-06-05",
         292.35,
         375,
         "CUST138",
         "ORD1374",
         false,
         "2025-07-11T12:48:46.711Z"
        ],
        [
         "m1Mr7Sy158zdExDEWs5kmyy+U/o=",
         "2024-08-30",
         58.78,
         700,
         "CUST048",
         "ORD1699",
         false,
         "2025-07-11T12:48:46.689Z"
        ],
        [
         "7jaY9TYYzOkQWqPl3DoV3IEAoLQ=",
         "2024-01-25",
         286.14,
         695,
         "CUST087",
         "ORD1694",
         false,
         "2025-07-11T12:48:46.702Z"
        ],
        [
         "CHOkhUM+aZXH2953WOdPEHNdkmU=",
         "2024-05-03",
         73.11,
         161,
         "CUST062",
         "ORD1160",
         false,
         "2025-07-11T12:48:46.695Z"
        ],
        [
         "KOkMz3WIi6La6KskoRw6f0hfnGo=",
         "2024-07-10",
         237.89,
         699,
         "CUST021",
         "ORD1698",
         false,
         "2025-07-11T12:48:46.677Z"
        ],
        [
         "fVIT8loD9SnP0Cys8dTYNAuqok0=",
         "2024-05-27",
         12.17,
         312,
         "CUST119",
         "ORD1311",
         false,
         "2025-07-11T12:48:46.708Z"
        ],
        [
         "y62pH9Xt1lgTTpkVRdodTXOyn1c=",
         "2024-07-12",
         290.51,
         705,
         "CUST117",
         "ORD1704",
         false,
         "2025-07-11T12:48:46.708Z"
        ],
        [
         "YNOz61Iu4qiF91mYrsg4RvrSmwY=",
         "2024-10-24",
         273.89,
         789,
         "CUST177",
         "ORD1788",
         false,
         "2025-07-11T12:48:46.714Z"
        ],
        [
         "3YCihFmhmfIexkbJLhpGzJoBWnc=",
         "2024-04-14",
         92.91,
         506,
         "CUST186",
         "ORD1505",
         false,
         "2025-07-11T12:48:46.715Z"
        ],
        [
         "anKUP5i6FaUkNR1mpcPP8xvlyFw=",
         "2024-08-05",
         252.53,
         466,
         "CUST171",
         "ORD1465",
         false,
         "2025-07-11T12:48:46.714Z"
        ],
        [
         "WV7LA08xy41B61GWjepOz4ot4rM=",
         "2024-02-03",
         226.29,
         840,
         "CUST166",
         "ORD1839",
         false,
         "2025-07-11T12:48:46.713Z"
        ],
        [
         "nAkx7cxdTF75zM0V96kRAXt8+no=",
         "2024-01-26",
         238.28,
         926,
         "CUST077",
         "ORD1925",
         false,
         "2025-07-11T12:48:46.699Z"
        ],
        [
         "IiTbXjVEJfgBmL0H+JPRiwZg2Mg=",
         "2024-06-29",
         184.3,
         354,
         "CUST131",
         "ORD1353",
         false,
         "2025-07-11T12:48:46.710Z"
        ],
        [
         "in3DSSjWNLQtPPR0PGwwbPBi1tc=",
         "2024-07-26",
         233.84,
         866,
         "CUST186",
         "ORD1865",
         false,
         "2025-07-11T12:48:46.715Z"
        ],
        [
         "82xjP6u6Ly9bE5DAsxlvDU3m/xA=",
         "2024-05-06",
         229.55,
         680,
         "CUST100",
         "ORD1679",
         false,
         "2025-07-11T12:48:46.704Z"
        ],
        [
         "bSQpI3fWA+UXoKo7F18Lbud96gk=",
         "2024-05-02",
         116.84,
         768,
         "CUST173",
         "ORD1767",
         false,
         "2025-07-11T12:48:46.714Z"
        ],
        [
         "p/+I2Bwn/vP3UvL8KFD2fyIBQRw=",
         "2024-03-14",
         84.93,
         460,
         "CUST169",
         "ORD1459",
         false,
         "2025-07-11T12:48:46.714Z"
        ],
        [
         "tHe+Tstml9TvHPce1TcvcukOhBw=",
         "2024-08-02",
         296.43,
         889,
         "CUST020",
         "ORD1888",
         false,
         "2025-07-11T12:48:46.676Z"
        ],
        [
         "zdp+o8pFr6LHu/8Xahst07JMuYg=",
         "2024-02-06",
         152.45,
         1000,
         "CUST043",
         "ORD1999",
         false,
         "2025-07-11T12:48:46.687Z"
        ],
        [
         "WpFwozMZ3RT8IImJE4u9kKRHyDY=",
         "2024-08-20",
         105.61,
         555,
         "CUST193",
         "ORD1554",
         false,
         "2025-07-11T12:48:46.716Z"
        ],
        [
         "JQlcKXnV+GNh1GkB3RBoSMkJ4kU=",
         "2024-03-12",
         68.89,
         359,
         "CUST133",
         "ORD1358",
         false,
         "2025-07-11T12:48:46.710Z"
        ],
        [
         "t0IFbVXIudm4us5lUbQLpxBTxCE=",
         "2024-11-22",
         142.86,
         565,
         "CUST081",
         "ORD1564",
         false,
         "2025-07-11T12:48:46.700Z"
        ],
        [
         "ZIRs7xepwFtrPNkpAM8cdydMksg=",
         "2024-12-27",
         83.24,
         645,
         "CUST099",
         "ORD1644",
         false,
         "2025-07-11T12:48:46.704Z"
        ],
        [
         "nCJ5PhXdjpgGEbXalSNFxdaVIs8=",
         "2024-07-20",
         290.98,
         835,
         "CUST057",
         "ORD1834",
         false,
         "2025-07-11T12:48:46.693Z"
        ],
        [
         "U0By04VRuZjzbctkZdT4Eo3/PW8=",
         "2024-06-24",
         75.81,
         539,
         "CUST196",
         "ORD1538",
         false,
         "2025-07-11T12:48:46.716Z"
        ],
        [
         "wMoQ6SpONp3rOA7vx2+6L+Ust40=",
         "2024-02-09",
         149.59,
         176,
         "CUST067",
         "ORD1175",
         false,
         "2025-07-11T12:48:46.696Z"
        ],
        [
         "yKhp1B2ZlJ6qQoO9dAnkfVOtfcU=",
         "2024-07-10",
         256.21,
         288,
         "CUST109",
         "ORD1287",
         false,
         "2025-07-11T12:48:46.707Z"
        ],
        [
         "JKzpZycD+9U3GtXcV4GfAN3iNB0=",
         "2024-05-13",
         216.65,
         958,
         "CUST118",
         "ORD1957",
         false,
         "2025-07-11T12:48:46.708Z"
        ],
        [
         "7Xgnt5nDoi/8qS/BR13vRhI7Ov0=",
         "2024-06-26",
         16.79,
         136,
         "CUST053",
         "ORD1135",
         false,
         "2025-07-11T12:48:46.691Z"
        ],
        [
         "0k2i+su0MD2ti7wl9PRJeEPRNo0=",
         "2024-12-01",
         54.05,
         367,
         "CUST135",
         "ORD1366",
         false,
         "2025-07-11T12:48:46.710Z"
        ],
        [
         "J9PhseRTBmAsNfClgkbQci9VGUM=",
         "2024-04-17",
         61.11,
         258,
         "CUST098",
         "ORD1257",
         false,
         "2025-07-11T12:48:46.703Z"
        ],
        [
         "jjUh1Dhd++/RnG/26dVspcUBv/w=",
         "2024-02-14",
         260.81,
         399,
         "CUST146",
         "ORD1398",
         false,
         "2025-07-11T12:48:46.712Z"
        ],
        [
         "Hs37cMEfKsi3zKUGg8ODqpkRdSY=",
         "2024-03-13",
         206.44,
         277,
         "CUST105",
         "ORD1276",
         false,
         "2025-07-11T12:48:46.705Z"
        ],
        [
         "fVeyrrdIDKKbO3TbCdzUu5plAcE=",
         "2024-01-22",
         234.73,
         865,
         "CUST062",
         "ORD1864",
         false,
         "2025-07-11T12:48:46.695Z"
        ],
        [
         "s5tuU3t+NaI96yECRYDfmvPXjQI=",
         "2024-03-27",
         148.52,
         938,
         "CUST135",
         "ORD1937",
         false,
         "2025-07-11T12:48:46.711Z"
        ],
        [
         "HOWPsS+z/dCXGiJkPi+gDSBhOmg=",
         "2024-05-02",
         169.31,
         381,
         "CUST140",
         "ORD1380",
         false,
         "2025-07-11T12:48:46.711Z"
        ],
        [
         "g1iFXj66t1eeS7vzqvqZHdQBFps=",
         "2024-08-27",
         234.24,
         148,
         "CUST057",
         "ORD1147",
         false,
         "2025-07-11T12:48:46.693Z"
        ],
        [
         "WFI22hjs10ATLHag8w6YGUn32oM=",
         "2024-02-17",
         111.04,
         834,
         "CUST083",
         "ORD1833",
         false,
         "2025-07-11T12:48:46.701Z"
        ],
        [
         "frnv4MEyEjxMWxT7wwuMVx5xc4c=",
         "2024-04-02",
         131.13,
         572,
         "CUST052",
         "ORD1571",
         false,
         "2025-07-11T12:48:46.691Z"
        ]
       ],
       "datasetInfos": [
        {
         "name": "_sqldf",
         "schema": {
          "fields": [
           {
            "metadata": {},
            "name": "_fivetran_id",
            "nullable": true,
            "type": "string"
           },
           {
            "metadata": {},
            "name": "order_date",
            "nullable": true,
            "type": "date"
           },
           {
            "metadata": {},
            "name": "sales",
            "nullable": true,
            "type": "double"
           },
           {
            "metadata": {},
            "name": "row_id",
            "nullable": true,
            "type": "long"
           },
           {
            "metadata": {},
            "name": "customer_id",
            "nullable": true,
            "type": "string"
           },
           {
            "metadata": {},
            "name": "order_id",
            "nullable": true,
            "type": "string"
           },
           {
            "metadata": {},
            "name": "_fivetran_deleted",
            "nullable": true,
            "type": "boolean"
           },
           {
            "metadata": {},
            "name": "_fivetran_synced",
            "nullable": true,
            "type": "timestamp"
           }
          ],
          "type": "struct"
         },
         "tableIdentifier": null,
         "typeStr": "pyspark.sql.connect.dataframe.DataFrame"
        }
       ],
       "dbfsResultPath": null,
       "isJsonSchema": true,
       "metadata": {
        "createTempViewForImplicitDf": true,
        "dataframeName": "_sqldf",
        "executionCount": 26
       },
       "overflow": false,
       "plotOptions": {
        "customPlotOptions": {},
        "displayType": "table",
        "pivotAggregation": null,
        "pivotColumns": null,
        "xColumns": null,
        "yColumns": null
       },
       "removedWidgets": [],
       "schema": [
        {
         "metadata": "{}",
         "name": "_fivetran_id",
         "type": "\"string\""
        },
        {
         "metadata": "{}",
         "name": "order_date",
         "type": "\"date\""
        },
        {
         "metadata": "{}",
         "name": "sales",
         "type": "\"double\""
        },
        {
         "metadata": "{}",
         "name": "row_id",
         "type": "\"long\""
        },
        {
         "metadata": "{}",
         "name": "customer_id",
         "type": "\"string\""
        },
        {
         "metadata": "{}",
         "name": "order_id",
         "type": "\"string\""
        },
        {
         "metadata": "{}",
         "name": "_fivetran_deleted",
         "type": "\"boolean\""
        },
        {
         "metadata": "{}",
         "name": "_fivetran_synced",
         "type": "\"timestamp\""
        }
       ],
       "type": "table"
      }
     },
     "output_type": "display_data"
    }
   ],
   "source": [
    "%sql\n",
    "SELECT *\n",
    "FROM ecom_orders\n"
   ]
  },
  {
   "cell_type": "code",
   "execution_count": 0,
   "metadata": {
    "application/vnd.databricks.v1+cell": {
     "cellMetadata": {
      "byteLimit": 2048000,
      "implicitDf": true,
      "rowLimit": 10000
     },
     "collapsed": true,
     "inputWidgets": {},
     "nuid": "4aca08f5-dca6-4fef-8335-e2033bae691a",
     "showTitle": false,
     "tableResultSettingsMap": {},
     "title": ""
    }
   },
   "outputs": [
    {
     "output_type": "display_data",
     "data": {
      "text/html": [
       "<style scoped>\n",
       "  .table-result-container {\n",
       "    max-height: 300px;\n",
       "    overflow: auto;\n",
       "  }\n",
       "  table, th, td {\n",
       "    border: 1px solid black;\n",
       "    border-collapse: collapse;\n",
       "  }\n",
       "  th, td {\n",
       "    padding: 5px;\n",
       "  }\n",
       "  th {\n",
       "    text-align: left;\n",
       "  }\n",
       "</style><div class='table-result-container'><table class='table-result'><thead style='background-color: white'><tr><th>row_id</th><th>COUNT(*)</th></tr></thead><tbody></tbody></table></div>"
      ]
     },
     "metadata": {
      "application/vnd.databricks.v1+output": {
       "addedWidgets": {},
       "aggData": [],
       "aggError": "",
       "aggOverflow": false,
       "aggSchema": [],
       "aggSeriesLimitReached": false,
       "aggType": "",
       "arguments": {},
       "columnCustomDisplayInfos": {},
       "data": [],
       "datasetInfos": [
        {
         "name": "_sqldf",
         "schema": {
          "fields": [
           {
            "metadata": {},
            "name": "row_id",
            "nullable": true,
            "type": "long"
           },
           {
            "metadata": {},
            "name": "COUNT(*)",
            "nullable": false,
            "type": "long"
           }
          ],
          "type": "struct"
         },
         "tableIdentifier": null,
         "typeStr": "pyspark.sql.connect.dataframe.DataFrame"
        }
       ],
       "dbfsResultPath": null,
       "isJsonSchema": true,
       "metadata": {
        "createTempViewForImplicitDf": true,
        "dataframeName": "_sqldf",
        "executionCount": 32
       },
       "overflow": false,
       "plotOptions": {
        "customPlotOptions": {},
        "displayType": "table",
        "pivotAggregation": null,
        "pivotColumns": null,
        "xColumns": null,
        "yColumns": null
       },
       "removedWidgets": [],
       "schema": [
        {
         "metadata": "{}",
         "name": "row_id",
         "type": "\"long\""
        },
        {
         "metadata": "{}",
         "name": "COUNT(*)",
         "type": "\"long\""
        }
       ],
       "type": "table"
      }
     },
     "output_type": "display_data"
    }
   ],
   "source": [
    "%sql\n",
    "--Uniqueness Check. Check if order_id or row_id is unique.\n",
    "SELECT row_id, COUNT(*) \n",
    "FROM ecom_orders\n",
    "GROUP BY row_id\n",
    "HAVING COUNT(*) > 1;\n"
   ]
  },
  {
   "cell_type": "code",
   "execution_count": 0,
   "metadata": {
    "application/vnd.databricks.v1+cell": {
     "cellMetadata": {
      "byteLimit": 2048000,
      "implicitDf": true,
      "rowLimit": 10000
     },
     "collapsed": true,
     "inputWidgets": {},
     "nuid": "5cd7a6f6-cc72-4845-bac6-aa9a6686822c",
     "showTitle": false,
     "tableResultSettingsMap": {},
     "title": ""
    }
   },
   "outputs": [
    {
     "output_type": "display_data",
     "data": {
      "text/html": [
       "<style scoped>\n",
       "  .table-result-container {\n",
       "    max-height: 300px;\n",
       "    overflow: auto;\n",
       "  }\n",
       "  table, th, td {\n",
       "    border: 1px solid black;\n",
       "    border-collapse: collapse;\n",
       "  }\n",
       "  th, td {\n",
       "    padding: 5px;\n",
       "  }\n",
       "  th {\n",
       "    text-align: left;\n",
       "  }\n",
       "</style><div class='table-result-container'><table class='table-result'><thead style='background-color: white'><tr><th>order_id</th><th>cnt</th></tr></thead><tbody></tbody></table></div>"
      ]
     },
     "metadata": {
      "application/vnd.databricks.v1+output": {
       "addedWidgets": {},
       "aggData": [],
       "aggError": "",
       "aggOverflow": false,
       "aggSchema": [],
       "aggSeriesLimitReached": false,
       "aggType": "",
       "arguments": {},
       "columnCustomDisplayInfos": {},
       "data": [],
       "datasetInfos": [
        {
         "name": "_sqldf",
         "schema": {
          "fields": [
           {
            "metadata": {},
            "name": "order_id",
            "nullable": true,
            "type": "string"
           },
           {
            "metadata": {},
            "name": "cnt",
            "nullable": false,
            "type": "long"
           }
          ],
          "type": "struct"
         },
         "tableIdentifier": null,
         "typeStr": "pyspark.sql.connect.dataframe.DataFrame"
        }
       ],
       "dbfsResultPath": null,
       "isJsonSchema": true,
       "metadata": {
        "createTempViewForImplicitDf": true,
        "dataframeName": "_sqldf",
        "executionCount": 31
       },
       "overflow": false,
       "plotOptions": {
        "customPlotOptions": {},
        "displayType": "table",
        "pivotAggregation": null,
        "pivotColumns": null,
        "xColumns": null,
        "yColumns": null
       },
       "removedWidgets": [],
       "schema": [
        {
         "metadata": "{}",
         "name": "order_id",
         "type": "\"string\""
        },
        {
         "metadata": "{}",
         "name": "cnt",
         "type": "\"long\""
        }
       ],
       "type": "table"
      }
     },
     "output_type": "display_data"
    }
   ],
   "source": [
    "%sql\n",
    "----Uniqueness Check. Check if order_id or rowid is unique.\n",
    "\n",
    "SELECT order_id, COUNT(*) AS cnt\n",
    "FROM ecom_orders\n",
    "GROUP BY order_id\n",
    "HAVING COUNT(*) > 1;"
   ]
  },
  {
   "cell_type": "code",
   "execution_count": 0,
   "metadata": {
    "application/vnd.databricks.v1+cell": {
     "cellMetadata": {
      "byteLimit": 2048000,
      "implicitDf": true,
      "rowLimit": 10000
     },
     "collapsed": true,
     "inputWidgets": {},
     "nuid": "d4b0329d-eb76-4660-bc4c-950668e5aadd",
     "showTitle": false,
     "tableResultSettingsMap": {},
     "title": ""
    }
   },
   "outputs": [
    {
     "output_type": "display_data",
     "data": {
      "text/html": [
       "<style scoped>\n",
       "  .table-result-container {\n",
       "    max-height: 300px;\n",
       "    overflow: auto;\n",
       "  }\n",
       "  table, th, td {\n",
       "    border: 1px solid black;\n",
       "    border-collapse: collapse;\n",
       "  }\n",
       "  th, td {\n",
       "    padding: 5px;\n",
       "  }\n",
       "  th {\n",
       "    text-align: left;\n",
       "  }\n",
       "</style><div class='table-result-container'><table class='table-result'><thead style='background-color: white'><tr><th>_fivetran_id</th><th>order_date</th><th>sales</th><th>row_id</th><th>customer_id</th><th>order_id</th><th>_fivetran_deleted</th><th>_fivetran_synced</th></tr></thead><tbody></tbody></table></div>"
      ]
     },
     "metadata": {
      "application/vnd.databricks.v1+output": {
       "addedWidgets": {},
       "aggData": [],
       "aggError": "",
       "aggOverflow": false,
       "aggSchema": [],
       "aggSeriesLimitReached": false,
       "aggType": "",
       "arguments": {},
       "columnCustomDisplayInfos": {},
       "data": [],
       "datasetInfos": [
        {
         "name": "_sqldf",
         "schema": {
          "fields": [
           {
            "metadata": {},
            "name": "_fivetran_id",
            "nullable": true,
            "type": "string"
           },
           {
            "metadata": {},
            "name": "order_date",
            "nullable": true,
            "type": "date"
           },
           {
            "metadata": {},
            "name": "sales",
            "nullable": true,
            "type": "double"
           },
           {
            "metadata": {},
            "name": "row_id",
            "nullable": true,
            "type": "long"
           },
           {
            "metadata": {},
            "name": "customer_id",
            "nullable": true,
            "type": "string"
           },
           {
            "metadata": {},
            "name": "order_id",
            "nullable": true,
            "type": "string"
           },
           {
            "metadata": {},
            "name": "_fivetran_deleted",
            "nullable": true,
            "type": "boolean"
           },
           {
            "metadata": {},
            "name": "_fivetran_synced",
            "nullable": true,
            "type": "timestamp"
           }
          ],
          "type": "struct"
         },
         "tableIdentifier": null,
         "typeStr": "pyspark.sql.connect.dataframe.DataFrame"
        }
       ],
       "dbfsResultPath": null,
       "isJsonSchema": true,
       "metadata": {
        "createTempViewForImplicitDf": true,
        "dataframeName": "_sqldf",
        "executionCount": 35
       },
       "overflow": false,
       "plotOptions": {
        "customPlotOptions": {},
        "displayType": "table",
        "pivotAggregation": null,
        "pivotColumns": null,
        "xColumns": null,
        "yColumns": null
       },
       "removedWidgets": [],
       "schema": [
        {
         "metadata": "{}",
         "name": "_fivetran_id",
         "type": "\"string\""
        },
        {
         "metadata": "{}",
         "name": "order_date",
         "type": "\"date\""
        },
        {
         "metadata": "{}",
         "name": "sales",
         "type": "\"double\""
        },
        {
         "metadata": "{}",
         "name": "row_id",
         "type": "\"long\""
        },
        {
         "metadata": "{}",
         "name": "customer_id",
         "type": "\"string\""
        },
        {
         "metadata": "{}",
         "name": "order_id",
         "type": "\"string\""
        },
        {
         "metadata": "{}",
         "name": "_fivetran_deleted",
         "type": "\"boolean\""
        },
        {
         "metadata": "{}",
         "name": "_fivetran_synced",
         "type": "\"timestamp\""
        }
       ],
       "type": "table"
      }
     },
     "output_type": "display_data"
    }
   ],
   "source": [
    "%sql\n",
    "--Check for negative or zero sales\n",
    "SELECT *\n",
    "FROM ecom_orders\n",
    "WHERE sales <= 0;"
   ]
  },
  {
   "cell_type": "code",
   "execution_count": 0,
   "metadata": {
    "application/vnd.databricks.v1+cell": {
     "cellMetadata": {
      "byteLimit": 2048000,
      "implicitDf": true,
      "rowLimit": 10000
     },
     "collapsed": true,
     "inputWidgets": {},
     "nuid": "e6822b33-bf12-4a36-ace6-8951fcebd79a",
     "showTitle": false,
     "tableResultSettingsMap": {},
     "title": ""
    }
   },
   "outputs": [
    {
     "output_type": "display_data",
     "data": {
      "text/html": [
       "<style scoped>\n",
       "  .table-result-container {\n",
       "    max-height: 300px;\n",
       "    overflow: auto;\n",
       "  }\n",
       "  table, th, td {\n",
       "    border: 1px solid black;\n",
       "    border-collapse: collapse;\n",
       "  }\n",
       "  th, td {\n",
       "    padding: 5px;\n",
       "  }\n",
       "  th {\n",
       "    text-align: left;\n",
       "  }\n",
       "</style><div class='table-result-container'><table class='table-result'><thead style='background-color: white'><tr><th>total_rows</th><th>unique_orders</th></tr></thead><tbody><tr><td>1000</td><td>1000</td></tr></tbody></table></div>"
      ]
     },
     "metadata": {
      "application/vnd.databricks.v1+output": {
       "addedWidgets": {},
       "aggData": [],
       "aggError": "",
       "aggOverflow": false,
       "aggSchema": [],
       "aggSeriesLimitReached": false,
       "aggType": "",
       "arguments": {},
       "columnCustomDisplayInfos": {},
       "data": [
        [
         1000,
         1000
        ]
       ],
       "datasetInfos": [
        {
         "name": "_sqldf",
         "schema": {
          "fields": [
           {
            "metadata": {},
            "name": "total_rows",
            "nullable": false,
            "type": "long"
           },
           {
            "metadata": {},
            "name": "unique_orders",
            "nullable": false,
            "type": "long"
           }
          ],
          "type": "struct"
         },
         "tableIdentifier": null,
         "typeStr": "pyspark.sql.connect.dataframe.DataFrame"
        }
       ],
       "dbfsResultPath": null,
       "isJsonSchema": true,
       "metadata": {
        "createTempViewForImplicitDf": true,
        "dataframeName": "_sqldf",
        "executionCount": 34
       },
       "overflow": false,
       "plotOptions": {
        "customPlotOptions": {},
        "displayType": "table",
        "pivotAggregation": null,
        "pivotColumns": null,
        "xColumns": null,
        "yColumns": null
       },
       "removedWidgets": [],
       "schema": [
        {
         "metadata": "{}",
         "name": "total_rows",
         "type": "\"long\""
        },
        {
         "metadata": "{}",
         "name": "unique_orders",
         "type": "\"long\""
        }
       ],
       "type": "table"
      }
     },
     "output_type": "display_data"
    }
   ],
   "source": [
    "%sql\n",
    "--Count Total Rows vs. Distinct Orders\n",
    "SELECT COUNT(*) AS total_rows, \n",
    "COUNT(DISTINCT order_id) AS unique_orders\n",
    "FROM ecom_orders;"
   ]
  },
  {
   "cell_type": "markdown",
   "metadata": {
    "application/vnd.databricks.v1+cell": {
     "cellMetadata": {
      "byteLimit": 2048000,
      "rowLimit": 10000
     },
     "inputWidgets": {},
     "nuid": "8737d251-0f11-4eeb-9b6f-c3a10f5d6be9",
     "showTitle": false,
     "tableResultSettingsMap": {},
     "title": ""
    }
   },
   "source": [
    "# Step 1: Calculating the First Purchase Date\n",
    "# "
   ]
  },
  {
   "cell_type": "code",
   "execution_count": 0,
   "metadata": {
    "application/vnd.databricks.v1+cell": {
     "cellMetadata": {
      "byteLimit": 2048000,
      "implicitDf": true,
      "rowLimit": 10000
     },
     "inputWidgets": {},
     "nuid": "ebe0d16e-eaa6-4d85-9689-9610f732bb5d",
     "showTitle": false,
     "tableResultSettingsMap": {},
     "title": ""
    }
   },
   "outputs": [
    {
     "output_type": "display_data",
     "data": {
      "text/html": [
       "<style scoped>\n",
       "  .table-result-container {\n",
       "    max-height: 300px;\n",
       "    overflow: auto;\n",
       "  }\n",
       "  table, th, td {\n",
       "    border: 1px solid black;\n",
       "    border-collapse: collapse;\n",
       "  }\n",
       "  th, td {\n",
       "    padding: 5px;\n",
       "  }\n",
       "  th {\n",
       "    text-align: left;\n",
       "  }\n",
       "</style><div class='table-result-container'><table class='table-result'><thead style='background-color: white'><tr><th>customer_id</th><th>first_purchase_date</th></tr></thead><tbody><tr><td>CUST157</td><td>2024-01-03</td></tr><tr><td>CUST013</td><td>2024-04-30</td></tr><tr><td>CUST181</td><td>2024-01-03</td></tr><tr><td>CUST185</td><td>2024-03-04</td></tr><tr><td>CUST028</td><td>2024-06-20</td></tr><tr><td>CUST175</td><td>2024-05-05</td></tr><tr><td>CUST012</td><td>2024-02-15</td></tr><tr><td>CUST169</td><td>2024-02-05</td></tr><tr><td>CUST059</td><td>2024-02-21</td></tr><tr><td>CUST006</td><td>2024-01-18</td></tr><tr><td>CUST057</td><td>2024-01-16</td></tr><tr><td>CUST085</td><td>2024-03-16</td></tr><tr><td>CUST103</td><td>2024-02-16</td></tr><tr><td>CUST142</td><td>2024-03-28</td></tr><tr><td>CUST139</td><td>2024-04-18</td></tr><tr><td>CUST034</td><td>2024-01-14</td></tr><tr><td>CUST001</td><td>2024-04-12</td></tr><tr><td>CUST065</td><td>2024-01-03</td></tr><tr><td>CUST180</td><td>2024-03-06</td></tr><tr><td>CUST035</td><td>2024-05-31</td></tr><tr><td>CUST117</td><td>2024-06-13</td></tr><tr><td>CUST005</td><td>2024-03-16</td></tr><tr><td>CUST041</td><td>2024-01-25</td></tr><tr><td>CUST146</td><td>2024-01-21</td></tr><tr><td>CUST102</td><td>2024-01-14</td></tr><tr><td>CUST131</td><td>2024-01-20</td></tr><tr><td>CUST138</td><td>2024-03-29</td></tr><tr><td>CUST141</td><td>2024-02-17</td></tr><tr><td>CUST136</td><td>2024-05-18</td></tr><tr><td>CUST066</td><td>2024-02-18</td></tr><tr><td>CUST149</td><td>2024-01-31</td></tr><tr><td>CUST054</td><td>2024-01-09</td></tr><tr><td>CUST119</td><td>2024-01-31</td></tr><tr><td>CUST040</td><td>2024-02-06</td></tr><tr><td>CUST031</td><td>2024-03-14</td></tr><tr><td>CUST025</td><td>2024-02-28</td></tr><tr><td>CUST167</td><td>2024-01-06</td></tr><tr><td>CUST097</td><td>2024-03-04</td></tr><tr><td>CUST143</td><td>2024-01-26</td></tr><tr><td>CUST076</td><td>2024-01-14</td></tr><tr><td>CUST015</td><td>2024-04-15</td></tr><tr><td>CUST030</td><td>2024-01-01</td></tr><tr><td>CUST009</td><td>2024-06-01</td></tr><tr><td>CUST168</td><td>2024-05-02</td></tr><tr><td>CUST082</td><td>2024-04-20</td></tr><tr><td>CUST086</td><td>2024-02-08</td></tr><tr><td>CUST092</td><td>2024-01-09</td></tr><tr><td>CUST125</td><td>2024-05-21</td></tr><tr><td>CUST156</td><td>2024-04-23</td></tr><tr><td>CUST153</td><td>2024-02-06</td></tr><tr><td>CUST116</td><td>2024-01-09</td></tr><tr><td>CUST074</td><td>2024-02-01</td></tr><tr><td>CUST078</td><td>2024-04-08</td></tr><tr><td>CUST079</td><td>2024-04-29</td></tr><tr><td>CUST158</td><td>2024-03-20</td></tr><tr><td>CUST193</td><td>2024-05-11</td></tr><tr><td>CUST200</td><td>2024-01-29</td></tr><tr><td>CUST064</td><td>2024-06-08</td></tr><tr><td>CUST069</td><td>2024-01-21</td></tr><tr><td>CUST126</td><td>2024-01-31</td></tr><tr><td>CUST120</td><td>2024-06-21</td></tr><tr><td>CUST094</td><td>2024-04-03</td></tr><tr><td>CUST071</td><td>2024-02-21</td></tr><tr><td>CUST190</td><td>2024-02-06</td></tr><tr><td>CUST075</td><td>2024-04-30</td></tr><tr><td>CUST199</td><td>2024-03-19</td></tr><tr><td>CUST060</td><td>2024-01-10</td></tr><tr><td>CUST145</td><td>2024-02-25</td></tr><tr><td>CUST058</td><td>2024-06-20</td></tr><tr><td>CUST135</td><td>2024-03-25</td></tr><tr><td>CUST173</td><td>2024-02-19</td></tr><tr><td>CUST073</td><td>2024-03-26</td></tr><tr><td>CUST152</td><td>2024-02-14</td></tr><tr><td>CUST183</td><td>2024-04-23</td></tr><tr><td>CUST166</td><td>2024-02-03</td></tr><tr><td>CUST112</td><td>2024-03-03</td></tr><tr><td>CUST045</td><td>2024-01-29</td></tr><tr><td>CUST070</td><td>2024-04-04</td></tr><tr><td>CUST008</td><td>2024-01-24</td></tr><tr><td>CUST154</td><td>2024-04-21</td></tr><tr><td>CUST194</td><td>2024-04-10</td></tr><tr><td>CUST067</td><td>2024-02-09</td></tr><tr><td>CUST104</td><td>2024-01-04</td></tr><tr><td>CUST091</td><td>2024-01-19</td></tr><tr><td>CUST046</td><td>2024-01-28</td></tr><tr><td>CUST189</td><td>2024-01-20</td></tr><tr><td>CUST088</td><td>2024-03-05</td></tr><tr><td>CUST188</td><td>2024-01-06</td></tr><tr><td>CUST123</td><td>2024-03-13</td></tr><tr><td>CUST107</td><td>2024-04-22</td></tr><tr><td>CUST033</td><td>2024-02-13</td></tr><tr><td>CUST108</td><td>2024-01-10</td></tr><tr><td>CUST110</td><td>2024-02-08</td></tr><tr><td>CUST068</td><td>2024-02-02</td></tr><tr><td>CUST027</td><td>2024-03-21</td></tr><tr><td>CUST122</td><td>2024-02-15</td></tr><tr><td>CUST047</td><td>2024-05-08</td></tr><tr><td>CUST038</td><td>2024-01-01</td></tr><tr><td>CUST162</td><td>2024-01-07</td></tr><tr><td>CUST014</td><td>2024-05-20</td></tr><tr><td>CUST191</td><td>2024-04-03</td></tr><tr><td>CUST129</td><td>2024-05-10</td></tr><tr><td>CUST016</td><td>2024-01-22</td></tr><tr><td>CUST161</td><td>2024-02-13</td></tr><tr><td>CUST140</td><td>2024-02-25</td></tr><tr><td>CUST022</td><td>2024-06-05</td></tr><tr><td>CUST048</td><td>2024-04-20</td></tr><tr><td>CUST160</td><td>2024-02-25</td></tr><tr><td>CUST101</td><td>2024-01-10</td></tr><tr><td>CUST178</td><td>2024-06-18</td></tr><tr><td>CUST164</td><td>2024-05-15</td></tr><tr><td>CUST039</td><td>2024-01-16</td></tr><tr><td>CUST044</td><td>2024-06-02</td></tr><tr><td>CUST072</td><td>2024-01-02</td></tr><tr><td>CUST052</td><td>2024-04-02</td></tr><tr><td>CUST159</td><td>2024-03-08</td></tr><tr><td>CUST124</td><td>2024-03-04</td></tr><tr><td>CUST011</td><td>2024-01-07</td></tr><tr><td>CUST195</td><td>2024-04-08</td></tr><tr><td>CUST197</td><td>2024-03-15</td></tr><tr><td>CUST055</td><td>2024-02-03</td></tr><tr><td>CUST134</td><td>2024-04-15</td></tr><tr><td>CUST128</td><td>2024-06-22</td></tr><tr><td>CUST098</td><td>2024-01-20</td></tr><tr><td>CUST096</td><td>2024-02-29</td></tr><tr><td>CUST130</td><td>2024-02-16</td></tr><tr><td>CUST007</td><td>2024-02-02</td></tr><tr><td>CUST144</td><td>2024-03-25</td></tr><tr><td>CUST049</td><td>2024-03-12</td></tr><tr><td>CUST182</td><td>2024-01-25</td></tr><tr><td>CUST099</td><td>2024-01-30</td></tr><tr><td>CUST174</td><td>2024-01-25</td></tr><tr><td>CUST148</td><td>2024-03-23</td></tr><tr><td>CUST002</td><td>2024-04-11</td></tr><tr><td>CUST083</td><td>2024-01-23</td></tr><tr><td>CUST118</td><td>2024-05-01</td></tr><tr><td>CUST179</td><td>2024-01-18</td></tr><tr><td>CUST151</td><td>2024-03-03</td></tr><tr><td>CUST062</td><td>2024-01-22</td></tr><tr><td>CUST133</td><td>2024-03-11</td></tr><tr><td>CUST026</td><td>2024-02-14</td></tr><tr><td>CUST004</td><td>2024-01-31</td></tr><tr><td>CUST111</td><td>2024-02-22</td></tr><tr><td>CUST198</td><td>2024-01-21</td></tr><tr><td>CUST084</td><td>2024-04-24</td></tr><tr><td>CUST165</td><td>2024-02-03</td></tr><tr><td>CUST024</td><td>2024-03-07</td></tr><tr><td>CUST021</td><td>2024-03-11</td></tr><tr><td>CUST121</td><td>2024-01-18</td></tr><tr><td>CUST170</td><td>2024-01-21</td></tr><tr><td>CUST061</td><td>2024-01-27</td></tr><tr><td>CUST184</td><td>2024-02-25</td></tr><tr><td>CUST003</td><td>2024-01-14</td></tr><tr><td>CUST100</td><td>2024-03-20</td></tr><tr><td>CUST089</td><td>2024-01-03</td></tr><tr><td>CUST106</td><td>2024-03-27</td></tr><tr><td>CUST019</td><td>2024-01-20</td></tr><tr><td>CUST150</td><td>2024-01-24</td></tr><tr><td>CUST177</td><td>2024-02-20</td></tr><tr><td>CUST147</td><td>2024-02-10</td></tr><tr><td>CUST176</td><td>2024-04-05</td></tr><tr><td>CUST109</td><td>2024-01-13</td></tr><tr><td>CUST087</td><td>2024-01-25</td></tr><tr><td>CUST187</td><td>2024-03-13</td></tr><tr><td>CUST132</td><td>2024-05-03</td></tr><tr><td>CUST037</td><td>2024-05-14</td></tr><tr><td>CUST137</td><td>2024-01-02</td></tr><tr><td>CUST023</td><td>2024-02-15</td></tr><tr><td>CUST113</td><td>2024-02-04</td></tr><tr><td>CUST127</td><td>2024-03-07</td></tr><tr><td>CUST186</td><td>2024-02-03</td></tr><tr><td>CUST053</td><td>2024-02-13</td></tr><tr><td>CUST080</td><td>2024-04-13</td></tr><tr><td>CUST115</td><td>2024-01-06</td></tr><tr><td>CUST163</td><td>2024-02-04</td></tr><tr><td>CUST077</td><td>2024-01-26</td></tr><tr><td>CUST093</td><td>2024-02-18</td></tr><tr><td>CUST018</td><td>2024-04-01</td></tr><tr><td>CUST105</td><td>2024-02-23</td></tr><tr><td>CUST036</td><td>2024-05-02</td></tr><tr><td>CUST032</td><td>2024-02-02</td></tr><tr><td>CUST020</td><td>2024-01-13</td></tr><tr><td>CUST155</td><td>2024-05-06</td></tr><tr><td>CUST063</td><td>2024-01-15</td></tr><tr><td>CUST095</td><td>2024-01-07</td></tr><tr><td>CUST050</td><td>2024-02-06</td></tr><tr><td>CUST042</td><td>2024-04-07</td></tr><tr><td>CUST171</td><td>2024-05-05</td></tr><tr><td>CUST056</td><td>2024-04-29</td></tr><tr><td>CUST114</td><td>2024-02-21</td></tr><tr><td>CUST090</td><td>2024-01-15</td></tr><tr><td>CUST081</td><td>2024-03-15</td></tr><tr><td>CUST051</td><td>2024-02-15</td></tr><tr><td>CUST029</td><td>2024-02-07</td></tr><tr><td>CUST172</td><td>2024-01-25</td></tr><tr><td>CUST010</td><td>2024-03-16</td></tr><tr><td>CUST043</td><td>2024-02-06</td></tr><tr><td>CUST196</td><td>2024-03-02</td></tr><tr><td>CUST192</td><td>2024-01-02</td></tr><tr><td>CUST017</td><td>2024-01-11</td></tr></tbody></table></div>"
      ]
     },
     "metadata": {
      "application/vnd.databricks.v1+output": {
       "addedWidgets": {},
       "aggData": [],
       "aggError": "",
       "aggOverflow": false,
       "aggSchema": [],
       "aggSeriesLimitReached": false,
       "aggType": "",
       "arguments": {},
       "columnCustomDisplayInfos": {},
       "data": [
        [
         "CUST157",
         "2024-01-03"
        ],
        [
         "CUST013",
         "2024-04-30"
        ],
        [
         "CUST181",
         "2024-01-03"
        ],
        [
         "CUST185",
         "2024-03-04"
        ],
        [
         "CUST028",
         "2024-06-20"
        ],
        [
         "CUST175",
         "2024-05-05"
        ],
        [
         "CUST012",
         "2024-02-15"
        ],
        [
         "CUST169",
         "2024-02-05"
        ],
        [
         "CUST059",
         "2024-02-21"
        ],
        [
         "CUST006",
         "2024-01-18"
        ],
        [
         "CUST057",
         "2024-01-16"
        ],
        [
         "CUST085",
         "2024-03-16"
        ],
        [
         "CUST103",
         "2024-02-16"
        ],
        [
         "CUST142",
         "2024-03-28"
        ],
        [
         "CUST139",
         "2024-04-18"
        ],
        [
         "CUST034",
         "2024-01-14"
        ],
        [
         "CUST001",
         "2024-04-12"
        ],
        [
         "CUST065",
         "2024-01-03"
        ],
        [
         "CUST180",
         "2024-03-06"
        ],
        [
         "CUST035",
         "2024-05-31"
        ],
        [
         "CUST117",
         "2024-06-13"
        ],
        [
         "CUST005",
         "2024-03-16"
        ],
        [
         "CUST041",
         "2024-01-25"
        ],
        [
         "CUST146",
         "2024-01-21"
        ],
        [
         "CUST102",
         "2024-01-14"
        ],
        [
         "CUST131",
         "2024-01-20"
        ],
        [
         "CUST138",
         "2024-03-29"
        ],
        [
         "CUST141",
         "2024-02-17"
        ],
        [
         "CUST136",
         "2024-05-18"
        ],
        [
         "CUST066",
         "2024-02-18"
        ],
        [
         "CUST149",
         "2024-01-31"
        ],
        [
         "CUST054",
         "2024-01-09"
        ],
        [
         "CUST119",
         "2024-01-31"
        ],
        [
         "CUST040",
         "2024-02-06"
        ],
        [
         "CUST031",
         "2024-03-14"
        ],
        [
         "CUST025",
         "2024-02-28"
        ],
        [
         "CUST167",
         "2024-01-06"
        ],
        [
         "CUST097",
         "2024-03-04"
        ],
        [
         "CUST143",
         "2024-01-26"
        ],
        [
         "CUST076",
         "2024-01-14"
        ],
        [
         "CUST015",
         "2024-04-15"
        ],
        [
         "CUST030",
         "2024-01-01"
        ],
        [
         "CUST009",
         "2024-06-01"
        ],
        [
         "CUST168",
         "2024-05-02"
        ],
        [
         "CUST082",
         "2024-04-20"
        ],
        [
         "CUST086",
         "2024-02-08"
        ],
        [
         "CUST092",
         "2024-01-09"
        ],
        [
         "CUST125",
         "2024-05-21"
        ],
        [
         "CUST156",
         "2024-04-23"
        ],
        [
         "CUST153",
         "2024-02-06"
        ],
        [
         "CUST116",
         "2024-01-09"
        ],
        [
         "CUST074",
         "2024-02-01"
        ],
        [
         "CUST078",
         "2024-04-08"
        ],
        [
         "CUST079",
         "2024-04-29"
        ],
        [
         "CUST158",
         "2024-03-20"
        ],
        [
         "CUST193",
         "2024-05-11"
        ],
        [
         "CUST200",
         "2024-01-29"
        ],
        [
         "CUST064",
         "2024-06-08"
        ],
        [
         "CUST069",
         "2024-01-21"
        ],
        [
         "CUST126",
         "2024-01-31"
        ],
        [
         "CUST120",
         "2024-06-21"
        ],
        [
         "CUST094",
         "2024-04-03"
        ],
        [
         "CUST071",
         "2024-02-21"
        ],
        [
         "CUST190",
         "2024-02-06"
        ],
        [
         "CUST075",
         "2024-04-30"
        ],
        [
         "CUST199",
         "2024-03-19"
        ],
        [
         "CUST060",
         "2024-01-10"
        ],
        [
         "CUST145",
         "2024-02-25"
        ],
        [
         "CUST058",
         "2024-06-20"
        ],
        [
         "CUST135",
         "2024-03-25"
        ],
        [
         "CUST173",
         "2024-02-19"
        ],
        [
         "CUST073",
         "2024-03-26"
        ],
        [
         "CUST152",
         "2024-02-14"
        ],
        [
         "CUST183",
         "2024-04-23"
        ],
        [
         "CUST166",
         "2024-02-03"
        ],
        [
         "CUST112",
         "2024-03-03"
        ],
        [
         "CUST045",
         "2024-01-29"
        ],
        [
         "CUST070",
         "2024-04-04"
        ],
        [
         "CUST008",
         "2024-01-24"
        ],
        [
         "CUST154",
         "2024-04-21"
        ],
        [
         "CUST194",
         "2024-04-10"
        ],
        [
         "CUST067",
         "2024-02-09"
        ],
        [
         "CUST104",
         "2024-01-04"
        ],
        [
         "CUST091",
         "2024-01-19"
        ],
        [
         "CUST046",
         "2024-01-28"
        ],
        [
         "CUST189",
         "2024-01-20"
        ],
        [
         "CUST088",
         "2024-03-05"
        ],
        [
         "CUST188",
         "2024-01-06"
        ],
        [
         "CUST123",
         "2024-03-13"
        ],
        [
         "CUST107",
         "2024-04-22"
        ],
        [
         "CUST033",
         "2024-02-13"
        ],
        [
         "CUST108",
         "2024-01-10"
        ],
        [
         "CUST110",
         "2024-02-08"
        ],
        [
         "CUST068",
         "2024-02-02"
        ],
        [
         "CUST027",
         "2024-03-21"
        ],
        [
         "CUST122",
         "2024-02-15"
        ],
        [
         "CUST047",
         "2024-05-08"
        ],
        [
         "CUST038",
         "2024-01-01"
        ],
        [
         "CUST162",
         "2024-01-07"
        ],
        [
         "CUST014",
         "2024-05-20"
        ],
        [
         "CUST191",
         "2024-04-03"
        ],
        [
         "CUST129",
         "2024-05-10"
        ],
        [
         "CUST016",
         "2024-01-22"
        ],
        [
         "CUST161",
         "2024-02-13"
        ],
        [
         "CUST140",
         "2024-02-25"
        ],
        [
         "CUST022",
         "2024-06-05"
        ],
        [
         "CUST048",
         "2024-04-20"
        ],
        [
         "CUST160",
         "2024-02-25"
        ],
        [
         "CUST101",
         "2024-01-10"
        ],
        [
         "CUST178",
         "2024-06-18"
        ],
        [
         "CUST164",
         "2024-05-15"
        ],
        [
         "CUST039",
         "2024-01-16"
        ],
        [
         "CUST044",
         "2024-06-02"
        ],
        [
         "CUST072",
         "2024-01-02"
        ],
        [
         "CUST052",
         "2024-04-02"
        ],
        [
         "CUST159",
         "2024-03-08"
        ],
        [
         "CUST124",
         "2024-03-04"
        ],
        [
         "CUST011",
         "2024-01-07"
        ],
        [
         "CUST195",
         "2024-04-08"
        ],
        [
         "CUST197",
         "2024-03-15"
        ],
        [
         "CUST055",
         "2024-02-03"
        ],
        [
         "CUST134",
         "2024-04-15"
        ],
        [
         "CUST128",
         "2024-06-22"
        ],
        [
         "CUST098",
         "2024-01-20"
        ],
        [
         "CUST096",
         "2024-02-29"
        ],
        [
         "CUST130",
         "2024-02-16"
        ],
        [
         "CUST007",
         "2024-02-02"
        ],
        [
         "CUST144",
         "2024-03-25"
        ],
        [
         "CUST049",
         "2024-03-12"
        ],
        [
         "CUST182",
         "2024-01-25"
        ],
        [
         "CUST099",
         "2024-01-30"
        ],
        [
         "CUST174",
         "2024-01-25"
        ],
        [
         "CUST148",
         "2024-03-23"
        ],
        [
         "CUST002",
         "2024-04-11"
        ],
        [
         "CUST083",
         "2024-01-23"
        ],
        [
         "CUST118",
         "2024-05-01"
        ],
        [
         "CUST179",
         "2024-01-18"
        ],
        [
         "CUST151",
         "2024-03-03"
        ],
        [
         "CUST062",
         "2024-01-22"
        ],
        [
         "CUST133",
         "2024-03-11"
        ],
        [
         "CUST026",
         "2024-02-14"
        ],
        [
         "CUST004",
         "2024-01-31"
        ],
        [
         "CUST111",
         "2024-02-22"
        ],
        [
         "CUST198",
         "2024-01-21"
        ],
        [
         "CUST084",
         "2024-04-24"
        ],
        [
         "CUST165",
         "2024-02-03"
        ],
        [
         "CUST024",
         "2024-03-07"
        ],
        [
         "CUST021",
         "2024-03-11"
        ],
        [
         "CUST121",
         "2024-01-18"
        ],
        [
         "CUST170",
         "2024-01-21"
        ],
        [
         "CUST061",
         "2024-01-27"
        ],
        [
         "CUST184",
         "2024-02-25"
        ],
        [
         "CUST003",
         "2024-01-14"
        ],
        [
         "CUST100",
         "2024-03-20"
        ],
        [
         "CUST089",
         "2024-01-03"
        ],
        [
         "CUST106",
         "2024-03-27"
        ],
        [
         "CUST019",
         "2024-01-20"
        ],
        [
         "CUST150",
         "2024-01-24"
        ],
        [
         "CUST177",
         "2024-02-20"
        ],
        [
         "CUST147",
         "2024-02-10"
        ],
        [
         "CUST176",
         "2024-04-05"
        ],
        [
         "CUST109",
         "2024-01-13"
        ],
        [
         "CUST087",
         "2024-01-25"
        ],
        [
         "CUST187",
         "2024-03-13"
        ],
        [
         "CUST132",
         "2024-05-03"
        ],
        [
         "CUST037",
         "2024-05-14"
        ],
        [
         "CUST137",
         "2024-01-02"
        ],
        [
         "CUST023",
         "2024-02-15"
        ],
        [
         "CUST113",
         "2024-02-04"
        ],
        [
         "CUST127",
         "2024-03-07"
        ],
        [
         "CUST186",
         "2024-02-03"
        ],
        [
         "CUST053",
         "2024-02-13"
        ],
        [
         "CUST080",
         "2024-04-13"
        ],
        [
         "CUST115",
         "2024-01-06"
        ],
        [
         "CUST163",
         "2024-02-04"
        ],
        [
         "CUST077",
         "2024-01-26"
        ],
        [
         "CUST093",
         "2024-02-18"
        ],
        [
         "CUST018",
         "2024-04-01"
        ],
        [
         "CUST105",
         "2024-02-23"
        ],
        [
         "CUST036",
         "2024-05-02"
        ],
        [
         "CUST032",
         "2024-02-02"
        ],
        [
         "CUST020",
         "2024-01-13"
        ],
        [
         "CUST155",
         "2024-05-06"
        ],
        [
         "CUST063",
         "2024-01-15"
        ],
        [
         "CUST095",
         "2024-01-07"
        ],
        [
         "CUST050",
         "2024-02-06"
        ],
        [
         "CUST042",
         "2024-04-07"
        ],
        [
         "CUST171",
         "2024-05-05"
        ],
        [
         "CUST056",
         "2024-04-29"
        ],
        [
         "CUST114",
         "2024-02-21"
        ],
        [
         "CUST090",
         "2024-01-15"
        ],
        [
         "CUST081",
         "2024-03-15"
        ],
        [
         "CUST051",
         "2024-02-15"
        ],
        [
         "CUST029",
         "2024-02-07"
        ],
        [
         "CUST172",
         "2024-01-25"
        ],
        [
         "CUST010",
         "2024-03-16"
        ],
        [
         "CUST043",
         "2024-02-06"
        ],
        [
         "CUST196",
         "2024-03-02"
        ],
        [
         "CUST192",
         "2024-01-02"
        ],
        [
         "CUST017",
         "2024-01-11"
        ]
       ],
       "datasetInfos": [],
       "dbfsResultPath": null,
       "isJsonSchema": true,
       "metadata": {},
       "overflow": false,
       "plotOptions": {
        "customPlotOptions": {},
        "displayType": "table",
        "pivotAggregation": null,
        "pivotColumns": null,
        "xColumns": null,
        "yColumns": null
       },
       "removedWidgets": [],
       "schema": [
        {
         "metadata": "{}",
         "name": "customer_id",
         "type": "\"string\""
        },
        {
         "metadata": "{}",
         "name": "first_purchase_date",
         "type": "\"date\""
        }
       ],
       "type": "table"
      }
     },
     "output_type": "display_data"
    }
   ],
   "source": [
    "# Step 1: First purchase date per customer\n",
    "first_purchase_df = spark.sql(\"\"\"\n",
    "    SELECT\n",
    "        customer_id,\n",
    "        MIN(order_date) AS first_purchase_date -- earliest order date per customer\n",
    "    FROM ecom_orders\n",
    "    GROUP BY customer_id\n",
    "\"\"\")\n",
    "\n",
    "# Creating a temp view to use in next steps\n",
    "first_purchase_df.createOrReplaceTempView(\"first_purchases\")\n",
    "\n",
    "display(first_purchase_df)\n"
   ]
  },
  {
   "cell_type": "markdown",
   "metadata": {
    "application/vnd.databricks.v1+cell": {
     "cellMetadata": {
      "byteLimit": 2048000,
      "rowLimit": 10000
     },
     "inputWidgets": {},
     "nuid": "5d3820da-43de-463f-8d98-12e340e6ff16",
     "showTitle": false,
     "tableResultSettingsMap": {},
     "title": ""
    }
   },
   "source": [
    "# Step 2: Calculate the Second Purchase Date\n",
    "# "
   ]
  },
  {
   "cell_type": "code",
   "execution_count": 0,
   "metadata": {
    "application/vnd.databricks.v1+cell": {
     "cellMetadata": {
      "byteLimit": 2048000,
      "implicitDf": true,
      "rowLimit": 10000
     },
     "inputWidgets": {},
     "nuid": "4c7e3f32-0426-4da0-8895-9215a2d1081b",
     "showTitle": false,
     "tableResultSettingsMap": {},
     "title": ""
    }
   },
   "outputs": [
    {
     "output_type": "display_data",
     "data": {
      "text/html": [
       "<style scoped>\n",
       "  .table-result-container {\n",
       "    max-height: 300px;\n",
       "    overflow: auto;\n",
       "  }\n",
       "  table, th, td {\n",
       "    border: 1px solid black;\n",
       "    border-collapse: collapse;\n",
       "  }\n",
       "  th, td {\n",
       "    padding: 5px;\n",
       "  }\n",
       "  th {\n",
       "    text-align: left;\n",
       "  }\n",
       "</style><div class='table-result-container'><table class='table-result'><thead style='background-color: white'><tr><th>customer_id</th><th>second_purchase_date</th></tr></thead><tbody><tr><td>CUST157</td><td>2024-02-04</td></tr><tr><td>CUST013</td><td>2024-06-23</td></tr><tr><td>CUST181</td><td>2024-02-11</td></tr><tr><td>CUST185</td><td>2024-03-26</td></tr><tr><td>CUST028</td><td>2024-07-28</td></tr><tr><td>CUST175</td><td>2024-05-30</td></tr><tr><td>CUST012</td><td>2024-03-04</td></tr><tr><td>CUST169</td><td>2024-03-14</td></tr><tr><td>CUST059</td><td>2024-03-12</td></tr><tr><td>CUST006</td><td>2024-03-31</td></tr><tr><td>CUST057</td><td>2024-05-01</td></tr><tr><td>CUST085</td><td>2024-05-02</td></tr><tr><td>CUST103</td><td>2024-02-24</td></tr><tr><td>CUST142</td><td>2024-05-30</td></tr><tr><td>CUST139</td><td>2024-04-25</td></tr><tr><td>CUST034</td><td>2024-03-13</td></tr><tr><td>CUST001</td><td>2024-06-02</td></tr><tr><td>CUST065</td><td>2024-05-30</td></tr><tr><td>CUST180</td><td>2024-05-12</td></tr><tr><td>CUST035</td><td>2024-06-20</td></tr><tr><td>CUST117</td><td>2024-07-12</td></tr><tr><td>CUST005</td><td>2024-03-25</td></tr><tr><td>CUST041</td><td>2024-06-16</td></tr><tr><td>CUST102</td><td>2024-06-08</td></tr><tr><td>CUST146</td><td>2024-01-25</td></tr><tr><td>CUST131</td><td>2024-03-21</td></tr><tr><td>CUST138</td><td>2024-04-25</td></tr><tr><td>CUST141</td><td>2024-04-02</td></tr><tr><td>CUST136</td><td>2024-05-21</td></tr><tr><td>CUST066</td><td>2024-06-26</td></tr><tr><td>CUST149</td><td>2024-04-07</td></tr><tr><td>CUST054</td><td>2024-05-15</td></tr><tr><td>CUST119</td><td>2024-03-20</td></tr><tr><td>CUST040</td><td>2024-03-01</td></tr><tr><td>CUST031</td><td>2024-06-26</td></tr><tr><td>CUST025</td><td>2024-02-29</td></tr><tr><td>CUST167</td><td>2024-02-20</td></tr><tr><td>CUST097</td><td>2024-04-11</td></tr><tr><td>CUST143</td><td>2024-04-21</td></tr><tr><td>CUST076</td><td>2024-02-04</td></tr><tr><td>CUST015</td><td>2024-06-05</td></tr><tr><td>CUST030</td><td>2024-01-27</td></tr><tr><td>CUST009</td><td>2024-07-16</td></tr><tr><td>CUST168</td><td>2024-05-15</td></tr><tr><td>CUST082</td><td>2024-05-20</td></tr><tr><td>CUST086</td><td>2024-03-16</td></tr><tr><td>CUST092</td><td>2024-05-03</td></tr><tr><td>CUST125</td><td>2024-06-19</td></tr><tr><td>CUST156</td><td>2024-06-20</td></tr><tr><td>CUST153</td><td>2024-06-08</td></tr><tr><td>CUST116</td><td>2024-03-20</td></tr><tr><td>CUST074</td><td>2024-10-22</td></tr><tr><td>CUST078</td><td>2024-05-03</td></tr><tr><td>CUST079</td><td>2024-05-26</td></tr><tr><td>CUST158</td><td>2024-06-29</td></tr><tr><td>CUST193</td><td>2024-06-22</td></tr><tr><td>CUST200</td><td>2024-02-14</td></tr><tr><td>CUST064</td><td>2024-07-17</td></tr><tr><td>CUST069</td><td>2024-01-23</td></tr><tr><td>CUST126</td><td>2024-04-16</td></tr><tr><td>CUST120</td><td>2024-08-17</td></tr><tr><td>CUST071</td><td>2024-04-09</td></tr><tr><td>CUST190</td><td>2024-06-20</td></tr><tr><td>CUST075</td><td>2024-06-22</td></tr><tr><td>CUST199</td><td>2024-04-22</td></tr><tr><td>CUST060</td><td>2024-03-24</td></tr><tr><td>CUST145</td><td>2024-04-27</td></tr><tr><td>CUST058</td><td>2024-07-23</td></tr><tr><td>CUST135</td><td>2024-03-27</td></tr><tr><td>CUST173</td><td>2024-03-23</td></tr><tr><td>CUST073</td><td>2024-05-02</td></tr><tr><td>CUST152</td><td>2024-06-07</td></tr><tr><td>CUST183</td><td>2024-06-08</td></tr><tr><td>CUST166</td><td>2024-05-14</td></tr><tr><td>CUST112</td><td>2024-03-19</td></tr><tr><td>CUST045</td><td>2024-02-11</td></tr><tr><td>CUST070</td><td>2024-04-15</td></tr><tr><td>CUST008</td><td>2024-05-31</td></tr><tr><td>CUST154</td><td>2024-05-10</td></tr><tr><td>CUST194</td><td>2024-04-21</td></tr><tr><td>CUST067</td><td>2024-03-25</td></tr><tr><td>CUST104</td><td>2024-01-23</td></tr><tr><td>CUST091</td><td>2024-01-31</td></tr><tr><td>CUST046</td><td>2024-02-18</td></tr><tr><td>CUST189</td><td>2024-02-07</td></tr><tr><td>CUST088</td><td>2024-04-17</td></tr><tr><td>CUST188</td><td>2024-05-11</td></tr><tr><td>CUST123</td><td>2024-05-20</td></tr><tr><td>CUST107</td><td>2024-10-11</td></tr><tr><td>CUST033</td><td>2024-04-13</td></tr><tr><td>CUST108</td><td>2024-05-19</td></tr><tr><td>CUST110</td><td>2024-02-09</td></tr><tr><td>CUST068</td><td>2024-04-12</td></tr><tr><td>CUST027</td><td>2024-04-27</td></tr><tr><td>CUST122</td><td>2024-03-08</td></tr><tr><td>CUST047</td><td>2024-05-24</td></tr><tr><td>CUST038</td><td>2024-03-27</td></tr><tr><td>CUST162</td><td>2024-03-09</td></tr><tr><td>CUST014</td><td>2024-08-13</td></tr><tr><td>CUST191</td><td>2024-04-27</td></tr><tr><td>CUST129</td><td>2024-05-26</td></tr><tr><td>CUST016</td><td>2024-03-11</td></tr><tr><td>CUST161</td><td>2024-04-21</td></tr><tr><td>CUST140</td><td>2024-04-14</td></tr><tr><td>CUST022</td><td>2024-08-01</td></tr><tr><td>CUST048</td><td>2024-06-28</td></tr><tr><td>CUST160</td><td>2024-03-12</td></tr><tr><td>CUST101</td><td>2024-01-13</td></tr><tr><td>CUST178</td><td>2024-07-14</td></tr><tr><td>CUST164</td><td>2024-06-21</td></tr><tr><td>CUST039</td><td>2024-02-17</td></tr><tr><td>CUST044</td><td>2024-07-17</td></tr><tr><td>CUST072</td><td>2024-02-07</td></tr><tr><td>CUST052</td><td>2024-05-19</td></tr><tr><td>CUST159</td><td>2024-04-08</td></tr><tr><td>CUST124</td><td>2024-04-29</td></tr><tr><td>CUST011</td><td>2024-02-03</td></tr><tr><td>CUST195</td><td>2024-04-23</td></tr><tr><td>CUST197</td><td>2024-05-12</td></tr><tr><td>CUST055</td><td>2024-02-27</td></tr><tr><td>CUST134</td><td>2024-04-24</td></tr><tr><td>CUST128</td><td>2024-07-07</td></tr><tr><td>CUST098</td><td>2024-01-30</td></tr><tr><td>CUST096</td><td>2024-03-14</td></tr><tr><td>CUST130</td><td>2024-06-24</td></tr><tr><td>CUST007</td><td>2024-03-04</td></tr><tr><td>CUST144</td><td>2024-03-27</td></tr><tr><td>CUST049</td><td>2024-04-30</td></tr><tr><td>CUST182</td><td>2024-04-01</td></tr><tr><td>CUST099</td><td>2024-06-20</td></tr><tr><td>CUST174</td><td>2024-02-05</td></tr><tr><td>CUST148</td><td>2024-07-21</td></tr><tr><td>CUST002</td><td>2024-05-24</td></tr><tr><td>CUST083</td><td>2024-02-17</td></tr><tr><td>CUST118</td><td>2024-05-13</td></tr><tr><td>CUST179</td><td>2024-02-04</td></tr><tr><td>CUST151</td><td>2024-04-08</td></tr><tr><td>CUST062</td><td>2024-02-18</td></tr><tr><td>CUST133</td><td>2024-03-12</td></tr><tr><td>CUST004</td><td>2024-02-24</td></tr><tr><td>CUST111</td><td>2024-03-21</td></tr><tr><td>CUST198</td><td>2024-02-29</td></tr><tr><td>CUST084</td><td>2024-05-18</td></tr><tr><td>CUST165</td><td>2024-03-22</td></tr><tr><td>CUST024</td><td>2024-05-18</td></tr><tr><td>CUST021</td><td>2024-03-16</td></tr><tr><td>CUST121</td><td>2024-01-19</td></tr><tr><td>CUST170</td><td>2024-02-05</td></tr><tr><td>CUST061</td><td>2024-03-25</td></tr><tr><td>CUST184</td><td>2024-04-02</td></tr><tr><td>CUST003</td><td>2024-05-28</td></tr><tr><td>CUST100</td><td>2024-05-05</td></tr><tr><td>CUST089</td><td>2024-02-28</td></tr><tr><td>CUST106</td><td>2024-04-05</td></tr><tr><td>CUST019</td><td>2024-02-04</td></tr><tr><td>CUST150</td><td>2024-02-01</td></tr><tr><td>CUST177</td><td>2024-03-18</td></tr><tr><td>CUST147</td><td>2024-03-23</td></tr><tr><td>CUST176</td><td>2024-05-23</td></tr><tr><td>CUST109</td><td>2024-03-12</td></tr><tr><td>CUST087</td><td>2024-06-18</td></tr><tr><td>CUST187</td><td>2024-05-28</td></tr><tr><td>CUST132</td><td>2024-06-15</td></tr><tr><td>CUST037</td><td>2024-06-14</td></tr><tr><td>CUST137</td><td>2024-02-18</td></tr><tr><td>CUST023</td><td>2024-09-15</td></tr><tr><td>CUST113</td><td>2024-03-23</td></tr><tr><td>CUST127</td><td>2024-03-26</td></tr><tr><td>CUST186</td><td>2024-02-21</td></tr><tr><td>CUST053</td><td>2024-03-07</td></tr><tr><td>CUST080</td><td>2024-05-12</td></tr><tr><td>CUST115</td><td>2024-02-01</td></tr><tr><td>CUST163</td><td>2024-04-30</td></tr><tr><td>CUST077</td><td>2024-05-31</td></tr><tr><td>CUST093</td><td>2024-04-27</td></tr><tr><td>CUST018</td><td>2024-04-30</td></tr><tr><td>CUST105</td><td>2024-03-13</td></tr><tr><td>CUST036</td><td>2024-06-20</td></tr><tr><td>CUST032</td><td>2024-05-13</td></tr><tr><td>CUST020</td><td>2024-05-04</td></tr><tr><td>CUST155</td><td>2024-06-15</td></tr><tr><td>CUST063</td><td>2024-04-19</td></tr><tr><td>CUST095</td><td>2024-01-19</td></tr><tr><td>CUST050</td><td>2024-02-27</td></tr><tr><td>CUST042</td><td>2024-05-27</td></tr><tr><td>CUST171</td><td>2024-06-28</td></tr><tr><td>CUST056</td><td>2024-05-01</td></tr><tr><td>CUST114</td><td>2024-03-30</td></tr><tr><td>CUST090</td><td>2024-03-31</td></tr><tr><td>CUST081</td><td>2024-04-28</td></tr><tr><td>CUST051</td><td>2024-04-08</td></tr><tr><td>CUST029</td><td>2024-03-06</td></tr><tr><td>CUST172</td><td>2024-03-25</td></tr><tr><td>CUST010</td><td>2024-04-20</td></tr><tr><td>CUST043</td><td>2024-04-27</td></tr><tr><td>CUST196</td><td>2024-06-24</td></tr><tr><td>CUST192</td><td>2024-01-24</td></tr><tr><td>CUST017</td><td>2024-02-28</td></tr></tbody></table></div>"
      ]
     },
     "metadata": {
      "application/vnd.databricks.v1+output": {
       "addedWidgets": {},
       "aggData": [],
       "aggError": "",
       "aggOverflow": false,
       "aggSchema": [],
       "aggSeriesLimitReached": false,
       "aggType": "",
       "arguments": {},
       "columnCustomDisplayInfos": {},
       "data": [
        [
         "CUST157",
         "2024-02-04"
        ],
        [
         "CUST013",
         "2024-06-23"
        ],
        [
         "CUST181",
         "2024-02-11"
        ],
        [
         "CUST185",
         "2024-03-26"
        ],
        [
         "CUST028",
         "2024-07-28"
        ],
        [
         "CUST175",
         "2024-05-30"
        ],
        [
         "CUST012",
         "2024-03-04"
        ],
        [
         "CUST169",
         "2024-03-14"
        ],
        [
         "CUST059",
         "2024-03-12"
        ],
        [
         "CUST006",
         "2024-03-31"
        ],
        [
         "CUST057",
         "2024-05-01"
        ],
        [
         "CUST085",
         "2024-05-02"
        ],
        [
         "CUST103",
         "2024-02-24"
        ],
        [
         "CUST142",
         "2024-05-30"
        ],
        [
         "CUST139",
         "2024-04-25"
        ],
        [
         "CUST034",
         "2024-03-13"
        ],
        [
         "CUST001",
         "2024-06-02"
        ],
        [
         "CUST065",
         "2024-05-30"
        ],
        [
         "CUST180",
         "2024-05-12"
        ],
        [
         "CUST035",
         "2024-06-20"
        ],
        [
         "CUST117",
         "2024-07-12"
        ],
        [
         "CUST005",
         "2024-03-25"
        ],
        [
         "CUST041",
         "2024-06-16"
        ],
        [
         "CUST102",
         "2024-06-08"
        ],
        [
         "CUST146",
         "2024-01-25"
        ],
        [
         "CUST131",
         "2024-03-21"
        ],
        [
         "CUST138",
         "2024-04-25"
        ],
        [
         "CUST141",
         "2024-04-02"
        ],
        [
         "CUST136",
         "2024-05-21"
        ],
        [
         "CUST066",
         "2024-06-26"
        ],
        [
         "CUST149",
         "2024-04-07"
        ],
        [
         "CUST054",
         "2024-05-15"
        ],
        [
         "CUST119",
         "2024-03-20"
        ],
        [
         "CUST040",
         "2024-03-01"
        ],
        [
         "CUST031",
         "2024-06-26"
        ],
        [
         "CUST025",
         "2024-02-29"
        ],
        [
         "CUST167",
         "2024-02-20"
        ],
        [
         "CUST097",
         "2024-04-11"
        ],
        [
         "CUST143",
         "2024-04-21"
        ],
        [
         "CUST076",
         "2024-02-04"
        ],
        [
         "CUST015",
         "2024-06-05"
        ],
        [
         "CUST030",
         "2024-01-27"
        ],
        [
         "CUST009",
         "2024-07-16"
        ],
        [
         "CUST168",
         "2024-05-15"
        ],
        [
         "CUST082",
         "2024-05-20"
        ],
        [
         "CUST086",
         "2024-03-16"
        ],
        [
         "CUST092",
         "2024-05-03"
        ],
        [
         "CUST125",
         "2024-06-19"
        ],
        [
         "CUST156",
         "2024-06-20"
        ],
        [
         "CUST153",
         "2024-06-08"
        ],
        [
         "CUST116",
         "2024-03-20"
        ],
        [
         "CUST074",
         "2024-10-22"
        ],
        [
         "CUST078",
         "2024-05-03"
        ],
        [
         "CUST079",
         "2024-05-26"
        ],
        [
         "CUST158",
         "2024-06-29"
        ],
        [
         "CUST193",
         "2024-06-22"
        ],
        [
         "CUST200",
         "2024-02-14"
        ],
        [
         "CUST064",
         "2024-07-17"
        ],
        [
         "CUST069",
         "2024-01-23"
        ],
        [
         "CUST126",
         "2024-04-16"
        ],
        [
         "CUST120",
         "2024-08-17"
        ],
        [
         "CUST071",
         "2024-04-09"
        ],
        [
         "CUST190",
         "2024-06-20"
        ],
        [
         "CUST075",
         "2024-06-22"
        ],
        [
         "CUST199",
         "2024-04-22"
        ],
        [
         "CUST060",
         "2024-03-24"
        ],
        [
         "CUST145",
         "2024-04-27"
        ],
        [
         "CUST058",
         "2024-07-23"
        ],
        [
         "CUST135",
         "2024-03-27"
        ],
        [
         "CUST173",
         "2024-03-23"
        ],
        [
         "CUST073",
         "2024-05-02"
        ],
        [
         "CUST152",
         "2024-06-07"
        ],
        [
         "CUST183",
         "2024-06-08"
        ],
        [
         "CUST166",
         "2024-05-14"
        ],
        [
         "CUST112",
         "2024-03-19"
        ],
        [
         "CUST045",
         "2024-02-11"
        ],
        [
         "CUST070",
         "2024-04-15"
        ],
        [
         "CUST008",
         "2024-05-31"
        ],
        [
         "CUST154",
         "2024-05-10"
        ],
        [
         "CUST194",
         "2024-04-21"
        ],
        [
         "CUST067",
         "2024-03-25"
        ],
        [
         "CUST104",
         "2024-01-23"
        ],
        [
         "CUST091",
         "2024-01-31"
        ],
        [
         "CUST046",
         "2024-02-18"
        ],
        [
         "CUST189",
         "2024-02-07"
        ],
        [
         "CUST088",
         "2024-04-17"
        ],
        [
         "CUST188",
         "2024-05-11"
        ],
        [
         "CUST123",
         "2024-05-20"
        ],
        [
         "CUST107",
         "2024-10-11"
        ],
        [
         "CUST033",
         "2024-04-13"
        ],
        [
         "CUST108",
         "2024-05-19"
        ],
        [
         "CUST110",
         "2024-02-09"
        ],
        [
         "CUST068",
         "2024-04-12"
        ],
        [
         "CUST027",
         "2024-04-27"
        ],
        [
         "CUST122",
         "2024-03-08"
        ],
        [
         "CUST047",
         "2024-05-24"
        ],
        [
         "CUST038",
         "2024-03-27"
        ],
        [
         "CUST162",
         "2024-03-09"
        ],
        [
         "CUST014",
         "2024-08-13"
        ],
        [
         "CUST191",
         "2024-04-27"
        ],
        [
         "CUST129",
         "2024-05-26"
        ],
        [
         "CUST016",
         "2024-03-11"
        ],
        [
         "CUST161",
         "2024-04-21"
        ],
        [
         "CUST140",
         "2024-04-14"
        ],
        [
         "CUST022",
         "2024-08-01"
        ],
        [
         "CUST048",
         "2024-06-28"
        ],
        [
         "CUST160",
         "2024-03-12"
        ],
        [
         "CUST101",
         "2024-01-13"
        ],
        [
         "CUST178",
         "2024-07-14"
        ],
        [
         "CUST164",
         "2024-06-21"
        ],
        [
         "CUST039",
         "2024-02-17"
        ],
        [
         "CUST044",
         "2024-07-17"
        ],
        [
         "CUST072",
         "2024-02-07"
        ],
        [
         "CUST052",
         "2024-05-19"
        ],
        [
         "CUST159",
         "2024-04-08"
        ],
        [
         "CUST124",
         "2024-04-29"
        ],
        [
         "CUST011",
         "2024-02-03"
        ],
        [
         "CUST195",
         "2024-04-23"
        ],
        [
         "CUST197",
         "2024-05-12"
        ],
        [
         "CUST055",
         "2024-02-27"
        ],
        [
         "CUST134",
         "2024-04-24"
        ],
        [
         "CUST128",
         "2024-07-07"
        ],
        [
         "CUST098",
         "2024-01-30"
        ],
        [
         "CUST096",
         "2024-03-14"
        ],
        [
         "CUST130",
         "2024-06-24"
        ],
        [
         "CUST007",
         "2024-03-04"
        ],
        [
         "CUST144",
         "2024-03-27"
        ],
        [
         "CUST049",
         "2024-04-30"
        ],
        [
         "CUST182",
         "2024-04-01"
        ],
        [
         "CUST099",
         "2024-06-20"
        ],
        [
         "CUST174",
         "2024-02-05"
        ],
        [
         "CUST148",
         "2024-07-21"
        ],
        [
         "CUST002",
         "2024-05-24"
        ],
        [
         "CUST083",
         "2024-02-17"
        ],
        [
         "CUST118",
         "2024-05-13"
        ],
        [
         "CUST179",
         "2024-02-04"
        ],
        [
         "CUST151",
         "2024-04-08"
        ],
        [
         "CUST062",
         "2024-02-18"
        ],
        [
         "CUST133",
         "2024-03-12"
        ],
        [
         "CUST004",
         "2024-02-24"
        ],
        [
         "CUST111",
         "2024-03-21"
        ],
        [
         "CUST198",
         "2024-02-29"
        ],
        [
         "CUST084",
         "2024-05-18"
        ],
        [
         "CUST165",
         "2024-03-22"
        ],
        [
         "CUST024",
         "2024-05-18"
        ],
        [
         "CUST021",
         "2024-03-16"
        ],
        [
         "CUST121",
         "2024-01-19"
        ],
        [
         "CUST170",
         "2024-02-05"
        ],
        [
         "CUST061",
         "2024-03-25"
        ],
        [
         "CUST184",
         "2024-04-02"
        ],
        [
         "CUST003",
         "2024-05-28"
        ],
        [
         "CUST100",
         "2024-05-05"
        ],
        [
         "CUST089",
         "2024-02-28"
        ],
        [
         "CUST106",
         "2024-04-05"
        ],
        [
         "CUST019",
         "2024-02-04"
        ],
        [
         "CUST150",
         "2024-02-01"
        ],
        [
         "CUST177",
         "2024-03-18"
        ],
        [
         "CUST147",
         "2024-03-23"
        ],
        [
         "CUST176",
         "2024-05-23"
        ],
        [
         "CUST109",
         "2024-03-12"
        ],
        [
         "CUST087",
         "2024-06-18"
        ],
        [
         "CUST187",
         "2024-05-28"
        ],
        [
         "CUST132",
         "2024-06-15"
        ],
        [
         "CUST037",
         "2024-06-14"
        ],
        [
         "CUST137",
         "2024-02-18"
        ],
        [
         "CUST023",
         "2024-09-15"
        ],
        [
         "CUST113",
         "2024-03-23"
        ],
        [
         "CUST127",
         "2024-03-26"
        ],
        [
         "CUST186",
         "2024-02-21"
        ],
        [
         "CUST053",
         "2024-03-07"
        ],
        [
         "CUST080",
         "2024-05-12"
        ],
        [
         "CUST115",
         "2024-02-01"
        ],
        [
         "CUST163",
         "2024-04-30"
        ],
        [
         "CUST077",
         "2024-05-31"
        ],
        [
         "CUST093",
         "2024-04-27"
        ],
        [
         "CUST018",
         "2024-04-30"
        ],
        [
         "CUST105",
         "2024-03-13"
        ],
        [
         "CUST036",
         "2024-06-20"
        ],
        [
         "CUST032",
         "2024-05-13"
        ],
        [
         "CUST020",
         "2024-05-04"
        ],
        [
         "CUST155",
         "2024-06-15"
        ],
        [
         "CUST063",
         "2024-04-19"
        ],
        [
         "CUST095",
         "2024-01-19"
        ],
        [
         "CUST050",
         "2024-02-27"
        ],
        [
         "CUST042",
         "2024-05-27"
        ],
        [
         "CUST171",
         "2024-06-28"
        ],
        [
         "CUST056",
         "2024-05-01"
        ],
        [
         "CUST114",
         "2024-03-30"
        ],
        [
         "CUST090",
         "2024-03-31"
        ],
        [
         "CUST081",
         "2024-04-28"
        ],
        [
         "CUST051",
         "2024-04-08"
        ],
        [
         "CUST029",
         "2024-03-06"
        ],
        [
         "CUST172",
         "2024-03-25"
        ],
        [
         "CUST010",
         "2024-04-20"
        ],
        [
         "CUST043",
         "2024-04-27"
        ],
        [
         "CUST196",
         "2024-06-24"
        ],
        [
         "CUST192",
         "2024-01-24"
        ],
        [
         "CUST017",
         "2024-02-28"
        ]
       ],
       "datasetInfos": [],
       "dbfsResultPath": null,
       "isJsonSchema": true,
       "metadata": {},
       "overflow": false,
       "plotOptions": {
        "customPlotOptions": {},
        "displayType": "table",
        "pivotAggregation": null,
        "pivotColumns": null,
        "xColumns": null,
        "yColumns": null
       },
       "removedWidgets": [],
       "schema": [
        {
         "metadata": "{}",
         "name": "customer_id",
         "type": "\"string\""
        },
        {
         "metadata": "{}",
         "name": "second_purchase_date",
         "type": "\"date\""
        }
       ],
       "type": "table"
      }
     },
     "output_type": "display_data"
    }
   ],
   "source": [
    "# Step 2: Second purchase date after first purchase\n",
    "second_purchase_df = spark.sql(\"\"\"\n",
    "    SELECT\n",
    "        o.customer_id,\n",
    "        MIN(o.order_date) AS second_purchase_date -- order date after the first purchase\n",
    "    FROM ecom_orders o\n",
    "    INNER JOIN first_purchases fp\n",
    "        ON o.customer_id = fp.customer_id\n",
    "    WHERE o.order_date > fp.first_purchase_date -- only after first purchase\n",
    "    GROUP BY o.customer_id\n",
    "\"\"\")\n",
    "\n",
    "# Save this for next join\n",
    "second_purchase_df.createOrReplaceTempView(\"second_purchases\")\n",
    "\n",
    "display(second_purchase_df)"
   ]
  },
  {
   "cell_type": "markdown",
   "metadata": {
    "application/vnd.databricks.v1+cell": {
     "cellMetadata": {
      "byteLimit": 2048000,
      "rowLimit": 10000
     },
     "inputWidgets": {},
     "nuid": "213ec05c-f45d-40d1-b21e-73d6106686be",
     "showTitle": false,
     "tableResultSettingsMap": {},
     "title": ""
    }
   },
   "source": [
    "# Step 3: Combining the Results and Calculating the Days Between Purchases\n"
   ]
  },
  {
   "cell_type": "code",
   "execution_count": 0,
   "metadata": {
    "application/vnd.databricks.v1+cell": {
     "cellMetadata": {
      "byteLimit": 2048000,
      "implicitDf": true,
      "rowLimit": 10000
     },
     "inputWidgets": {},
     "nuid": "42cda118-4e94-4027-8cbf-f05b5d3c743d",
     "showTitle": false,
     "tableResultSettingsMap": {},
     "title": ""
    }
   },
   "outputs": [],
   "source": [
    "\n",
    "# Step 3: Combining first + second purchase and calculate days between\n",
    "final_df = spark.sql(\"\"\"\n",
    "    SELECT\n",
    "        fp.customer_id,\n",
    "        fp.first_purchase_date,\n",
    "        sp.second_purchase_date,\n",
    "        DATEDIFF(sp.second_purchase_date, fp.first_purchase_date) AS days_between -- calculate # days between purchses\n",
    "    FROM first_purchases fp\n",
    "    LEFT JOIN second_purchases sp\n",
    "        ON fp.customer_id = sp.customer_id --using left join to only include customers with one purchase\n",
    "\"\"\")\n",
    "\n",
    "# Save as permanent table \n",
    "final_df.write.format(\"delta\").mode(\"overwrite\").saveAsTable(\"workspace.default_cohort_db.cohort_analysis\") \n"
   ]
  },
  {
   "cell_type": "markdown",
   "metadata": {
    "application/vnd.databricks.v1+cell": {
     "cellMetadata": {
      "byteLimit": 2048000,
      "rowLimit": 10000
     },
     "inputWidgets": {},
     "nuid": "405e0ab6-d420-416f-bdfd-a012d7b07a41",
     "showTitle": false,
     "tableResultSettingsMap": {},
     "title": ""
    }
   },
   "source": [
    "## Verify  Transformation:\n",
    "## "
   ]
  },
  {
   "cell_type": "code",
   "execution_count": 0,
   "metadata": {
    "application/vnd.databricks.v1+cell": {
     "cellMetadata": {
      "byteLimit": 2048000,
      "implicitDf": true,
      "rowLimit": 10000
     },
     "inputWidgets": {},
     "nuid": "b2f6a67c-bf0b-497f-b9e0-b5b28702c9a5",
     "showTitle": false,
     "tableResultSettingsMap": {},
     "title": ""
    }
   },
   "outputs": [
    {
     "output_type": "display_data",
     "data": {
      "text/html": [
       "<style scoped>\n",
       "  .table-result-container {\n",
       "    max-height: 300px;\n",
       "    overflow: auto;\n",
       "  }\n",
       "  table, th, td {\n",
       "    border: 1px solid black;\n",
       "    border-collapse: collapse;\n",
       "  }\n",
       "  th, td {\n",
       "    padding: 5px;\n",
       "  }\n",
       "  th {\n",
       "    text-align: left;\n",
       "  }\n",
       "</style><div class='table-result-container'><table class='table-result'><thead style='background-color: white'><tr><th>customer_id</th><th>first_purchase_date</th><th>second_purchase_date</th><th>days_between</th></tr></thead><tbody><tr><td>CUST157</td><td>2024-01-03</td><td>2024-02-04</td><td>32</td></tr><tr><td>CUST013</td><td>2024-04-30</td><td>2024-06-23</td><td>54</td></tr><tr><td>CUST181</td><td>2024-01-03</td><td>2024-02-11</td><td>39</td></tr><tr><td>CUST185</td><td>2024-03-04</td><td>2024-03-26</td><td>22</td></tr><tr><td>CUST028</td><td>2024-06-20</td><td>2024-07-28</td><td>38</td></tr><tr><td>CUST175</td><td>2024-05-05</td><td>2024-05-30</td><td>25</td></tr><tr><td>CUST012</td><td>2024-02-15</td><td>2024-03-04</td><td>18</td></tr><tr><td>CUST169</td><td>2024-02-05</td><td>2024-03-14</td><td>38</td></tr><tr><td>CUST059</td><td>2024-02-21</td><td>2024-03-12</td><td>20</td></tr><tr><td>CUST006</td><td>2024-01-18</td><td>2024-03-31</td><td>73</td></tr></tbody></table></div>"
      ]
     },
     "metadata": {
      "application/vnd.databricks.v1+output": {
       "addedWidgets": {},
       "aggData": [],
       "aggError": "",
       "aggOverflow": false,
       "aggSchema": [],
       "aggSeriesLimitReached": false,
       "aggType": "",
       "arguments": {},
       "columnCustomDisplayInfos": {},
       "data": [
        [
         "CUST157",
         "2024-01-03",
         "2024-02-04",
         32
        ],
        [
         "CUST013",
         "2024-04-30",
         "2024-06-23",
         54
        ],
        [
         "CUST181",
         "2024-01-03",
         "2024-02-11",
         39
        ],
        [
         "CUST185",
         "2024-03-04",
         "2024-03-26",
         22
        ],
        [
         "CUST028",
         "2024-06-20",
         "2024-07-28",
         38
        ],
        [
         "CUST175",
         "2024-05-05",
         "2024-05-30",
         25
        ],
        [
         "CUST012",
         "2024-02-15",
         "2024-03-04",
         18
        ],
        [
         "CUST169",
         "2024-02-05",
         "2024-03-14",
         38
        ],
        [
         "CUST059",
         "2024-02-21",
         "2024-03-12",
         20
        ],
        [
         "CUST006",
         "2024-01-18",
         "2024-03-31",
         73
        ]
       ],
       "datasetInfos": [
        {
         "name": "_sqldf",
         "schema": {
          "fields": [
           {
            "metadata": {
             "__CHAR_VARCHAR_TYPE_STRING": "varchar(65535)",
             "isTimestampNTZ": false,
             "scale": 0,
             "signed": false
            },
            "name": "customer_id",
            "nullable": true,
            "type": "string"
           },
           {
            "metadata": {},
            "name": "first_purchase_date",
            "nullable": true,
            "type": "date"
           },
           {
            "metadata": {},
            "name": "second_purchase_date",
            "nullable": true,
            "type": "date"
           },
           {
            "metadata": {},
            "name": "days_between",
            "nullable": true,
            "type": "integer"
           }
          ],
          "type": "struct"
         },
         "tableIdentifier": null,
         "typeStr": "pyspark.sql.connect.dataframe.DataFrame"
        }
       ],
       "dbfsResultPath": null,
       "isJsonSchema": true,
       "metadata": {
        "createTempViewForImplicitDf": true,
        "dataframeName": "_sqldf",
        "executionCount": 6
       },
       "overflow": false,
       "plotOptions": {
        "customPlotOptions": {},
        "displayType": "table",
        "pivotAggregation": null,
        "pivotColumns": null,
        "xColumns": null,
        "yColumns": null
       },
       "removedWidgets": [],
       "schema": [
        {
         "metadata": "{\"isTimestampNTZ\": false, \"__CHAR_VARCHAR_TYPE_STRING\": \"varchar(65535)\", \"signed\": false, \"scale\": 0}",
         "name": "customer_id",
         "type": "\"string\""
        },
        {
         "metadata": "{}",
         "name": "first_purchase_date",
         "type": "\"date\""
        },
        {
         "metadata": "{}",
         "name": "second_purchase_date",
         "type": "\"date\""
        },
        {
         "metadata": "{}",
         "name": "days_between",
         "type": "\"integer\""
        }
       ],
       "type": "table"
      }
     },
     "output_type": "display_data"
    }
   ],
   "source": [
    "%sql\n",
    "SELECT * FROM workspace.default_cohort_db.cohort_analysis LIMIT 10;"
   ]
  },
  {
   "cell_type": "markdown",
   "metadata": {
    "application/vnd.databricks.v1+cell": {
     "cellMetadata": {
      "byteLimit": 2048000,
      "rowLimit": 10000
     },
     "inputWidgets": {},
     "nuid": "dba029ae-ddf9-4a0e-8d02-e78c535041c5",
     "showTitle": false,
     "tableResultSettingsMap": {},
     "title": ""
    }
   },
   "source": [
    "#  Retention Rate by Cohort\n",
    "# \n",
    "Step 1: Create a Query to Compute Retention Rates. \n",
    "\n",
    "Write a query that calculates, for each customer (using the raw ecom_orders table), the first purchase date and then (if available) the date of their second order. \n",
    "Then, group customers into cohorts by truncating the first purchase date by month and compute the percentage of customers who placed a second order within 1, 2, and 3 months."
   ]
  },
  {
   "cell_type": "code",
   "execution_count": 0,
   "metadata": {
    "application/vnd.databricks.v1+cell": {
     "cellMetadata": {
      "byteLimit": 2048000,
      "implicitDf": true,
      "rowLimit": 10000
     },
     "collapsed": true,
     "inputWidgets": {},
     "nuid": "2dd27a48-00fc-4de1-9f3f-1a0faf574828",
     "showTitle": false,
     "tableResultSettingsMap": {},
     "title": ""
    }
   },
   "outputs": [
    {
     "output_type": "display_data",
     "data": {
      "text/html": [
       "<style scoped>\n",
       "  .table-result-container {\n",
       "    max-height: 300px;\n",
       "    overflow: auto;\n",
       "  }\n",
       "  table, th, td {\n",
       "    border: 1px solid black;\n",
       "    border-collapse: collapse;\n",
       "  }\n",
       "  th, td {\n",
       "    padding: 5px;\n",
       "  }\n",
       "  th {\n",
       "    text-align: left;\n",
       "  }\n",
       "</style><div class='table-result-container'><table class='table-result'><thead style='background-color: white'><tr><th>cohort_month</th><th>total_customers</th><th>retention_rate_1_month</th><th>retention_rate_2_months</th><th>retention_rate_3_months</th></tr></thead><tbody><tr><td>2024-01-01</td><td>66</td><td>37.9</td><td>60.6</td><td>77.3</td></tr><tr><td>2024-02-01</td><td>48</td><td>35.4</td><td>66.7</td><td>79.2</td></tr><tr><td>2024-03-01</td><td>33</td><td>33.3</td><td>72.7</td><td>87.9</td></tr><tr><td>2024-04-01</td><td>27</td><td>51.9</td><td>88.9</td><td>92.6</td></tr><tr><td>2024-05-01</td><td>16</td><td>56.3</td><td>93.8</td><td>100.0</td></tr><tr><td>2024-06-01</td><td>10</td><td>30.0</td><td>100.0</td><td>100.0</td></tr></tbody></table></div>"
      ]
     },
     "metadata": {
      "application/vnd.databricks.v1+output": {
       "addedWidgets": {},
       "aggData": [],
       "aggError": "",
       "aggOverflow": false,
       "aggSchema": [],
       "aggSeriesLimitReached": false,
       "aggType": "",
       "arguments": {},
       "columnCustomDisplayInfos": {},
       "data": [
        [
         "2024-01-01",
         66,
         "37.9",
         "60.6",
         "77.3"
        ],
        [
         "2024-02-01",
         48,
         "35.4",
         "66.7",
         "79.2"
        ],
        [
         "2024-03-01",
         33,
         "33.3",
         "72.7",
         "87.9"
        ],
        [
         "2024-04-01",
         27,
         "51.9",
         "88.9",
         "92.6"
        ],
        [
         "2024-05-01",
         16,
         "56.3",
         "93.8",
         "100.0"
        ],
        [
         "2024-06-01",
         10,
         "30.0",
         "100.0",
         "100.0"
        ]
       ],
       "datasetInfos": [],
       "dbfsResultPath": null,
       "isJsonSchema": true,
       "metadata": {},
       "overflow": false,
       "plotOptions": {
        "customPlotOptions": {},
        "displayType": "table",
        "pivotAggregation": null,
        "pivotColumns": null,
        "xColumns": null,
        "yColumns": null
       },
       "removedWidgets": [],
       "schema": [
        {
         "metadata": "{}",
         "name": "cohort_month",
         "type": "\"date\""
        },
        {
         "metadata": "{}",
         "name": "total_customers",
         "type": "\"long\""
        },
        {
         "metadata": "{}",
         "name": "retention_rate_1_month",
         "type": "\"decimal(26,1)\""
        },
        {
         "metadata": "{}",
         "name": "retention_rate_2_months",
         "type": "\"decimal(26,1)\""
        },
        {
         "metadata": "{}",
         "name": "retention_rate_3_months",
         "type": "\"decimal(26,1)\""
        }
       ],
       "type": "table"
      }
     },
     "output_type": "display_data"
    },
    {
     "output_type": "display_data",
     "data": {
      "text/plain": [
       "Databricks visualization. Run in Databricks to view."
      ]
     },
     "metadata": {
      "application/vnd.databricks.v1.subcommand+json": {
       "baseErrorDetails": null,
       "bindings": {},
       "collapsed": false,
       "command": "%python\n__backend_agg_display_orig = display\n__backend_agg_dfs = []\ndef __backend_agg_display_new(df):\n    __backend_agg_df_modules = [\"pandas.core.frame\", \"databricks.koalas.frame\", \"pyspark.sql.dataframe\", \"pyspark.pandas.frame\", \"pyspark.sql.connect.dataframe\"]\n    if (type(df).__module__ in __backend_agg_df_modules and type(df).__name__ == 'DataFrame') or isinstance(df, list):\n        __backend_agg_dfs.append(df)\n\ndisplay = __backend_agg_display_new\n\ndef __backend_agg_user_code_fn():\n    import base64\n    exec(base64.standard_b64decode(\"ZmluYWxfcmV0X2RmPXNwYXJrLnNxbCgiIiIKV0lUSCBjb2hvcnRzIEFTICgKICAgIFNFTEVDVAogICAgICAgIGN1c3RvbWVyX2lkLAogICAgICAgIENBU1QoREFURV9UUlVOQygnbW9udGgnLCBmaXJzdF9wdXJjaGFzZV9kYXRlKSBBUyBEQVRFKSBBUyBjb2hvcnRfbW9udGgsCiAgICAgICAgc2Vjb25kX3B1cmNoYXNlX2RhdGUsCiAgICAgICAgTU9OVEhTX0JFVFdFRU4oc2Vjb25kX3B1cmNoYXNlX2RhdGUsIGZpcnN0X3B1cmNoYXNlX2RhdGUpIEFTIG1vbnRoc19iZXR3ZWVuCiAgICBGUk9NIHdvcmtzcGFjZS5kZW1vLmNvaG9ydF9hbmFseXNpcwogICAgV0hFUkUgZmlyc3RfcHVyY2hhc2VfZGF0ZSBJUyBOT1QgTlVMTAopLAoKY29ob3J0X2FnZ3JlZ2F0ZXMgQVMgKAogICAgU0VMRUNUCiAgICAgICAgY29ob3J0X21vbnRoLAogICAgICAgIENPVU5UKCopIEFTIHRvdGFsX2N1c3RvbWVycywKICAgICAgICBDT1VOVF9JRihtb250aHNfYmV0d2VlbiA8PSAxKSBBUyBzZWNvbmRfd2l0aGluXzFfbW9udGgsCiAgICAgICAgQ09VTlRfSUYobW9udGhzX2JldHdlZW4gPD0gMikgQVMgc2Vjb25kX3dpdGhpbl8yX21vbnRocywKICAgICAgICBDT1VOVF9JRihtb250aHNfYmV0d2VlbiA8PSAzKSBBUyBzZWNvbmRfd2l0aGluXzNfbW9udGhzCiAgICBGUk9NIGNvaG9ydHMKICAgIEdST1VQIEJZIGNvaG9ydF9tb250aAopCgpTRUxFQ1QKICAgIGNvaG9ydF9tb250aCwKICAgIHRvdGFsX2N1c3RvbWVycywKICAgIFJPVU5EKDEwMC4wICogc2Vjb25kX3dpdGhpbl8xX21vbnRoIC8gdG90YWxfY3VzdG9tZXJzLCAxKSBBUyByZXRlbnRpb25fcmF0ZV8xX21vbnRoLAogICAgUk9VTkQoMTAwLjAgKiBzZWNvbmRfd2l0aGluXzJfbW9udGhzIC8gdG90YWxfY3VzdG9tZXJzLCAxKSBBUyByZXRlbnRpb25fcmF0ZV8yX21vbnRocywKICAgIFJPVU5EKDEwMC4wICogc2Vjb25kX3dpdGhpbl8zX21vbnRocyAvIHRvdGFsX2N1c3RvbWVycywgMSkgQVMgcmV0ZW50aW9uX3JhdGVfM19tb250aHMKRlJPTSBjb2hvcnRfYWdncmVnYXRlcwpPUkRFUiBCWSBjb2hvcnRfbW9udGgKIiIiKQpmaW5hbF9yZXRfZGYuZGlzcGxheSgpCiMgU2F2ZSBhcyBwZXJtYW5lbnQgdGFibGUKZmluYWxfcmV0X2RmLndyaXRlLmZvcm1hdCgiZGVsdGEiKS5tb2RlKCJvdmVyd3JpdGUiKS5zYXZlQXNUYWJsZSgid29ya3NwYWNlLmRlbW8ucmV0ZW50aW9uX3JhdGVfYnlfY29ob3J0IikK\").decode())\n\ntry:\n    # run user code\n    __backend_agg_user_code_fn()\n\n    #reset display function\n    display = __backend_agg_display_orig\n\n    if len(__backend_agg_dfs) > 0:\n        # create a temp view\n        if type(__backend_agg_dfs[0]).__module__ == \"databricks.koalas.frame\":\n            # koalas dataframe\n            __backend_agg_dfs[0].to_spark().createOrReplaceTempView(\"DatabricksView156df39\")\n        elif type(__backend_agg_dfs[0]).__module__ == \"pandas.core.frame\" or isinstance(__backend_agg_dfs[0], list):\n            # pandas dataframe\n            spark.createDataFrame(__backend_agg_dfs[0]).createOrReplaceTempView(\"DatabricksView156df39\")\n        else:\n            __backend_agg_dfs[0].createOrReplaceTempView(\"DatabricksView156df39\")\n        #run backend agg\n        display(spark.sql(\"\"\"WITH q AS (select * from DatabricksView156df39) SELECT DATE_TRUNC('MONTH',`cohort_month`) `column_e90d9a04139`,`retention_rate_1_month`,`retention_rate_2_months`,`retention_rate_3_months` FROM q\"\"\"))\n    else:\n        displayHTML(\"dataframe no longer exists. If you're using dataframe.display(), use display(dataframe) instead.\")\n\n\nfinally:\n    spark.sql(\"drop view if exists DatabricksView156df39\")\n    display = __backend_agg_display_orig\n    del __backend_agg_display_new\n    del __backend_agg_display_orig\n    del __backend_agg_dfs\n    del __backend_agg_user_code_fn\n\n",
       "commandTitle": "Retention Rate by Cohort",
       "commandType": "auto",
       "commandVersion": 0,
       "commentThread": [],
       "commentsVisible": false,
       "contentSha256Hex": null,
       "customPlotOptions": {
        "redashChart": [
         {
          "key": "type",
          "value": "CHART"
         },
         {
          "key": "options",
          "value": {
           "alignYAxesAtZero": true,
           "coefficient": 1,
           "columnConfigurationMap": {
            "x": {
             "column": "cohort_month",
             "id": "column_e90d9a04139",
             "transform": "MONTH_LEVEL"
            },
            "y": [
             {
              "column": "retention_rate_1_month",
              "id": "column_e90d9a04137"
             },
             {
              "column": "retention_rate_2_months",
              "id": "column_e90d9a04141"
             },
             {
              "column": "retention_rate_3_months",
              "id": "column_e90d9a04143"
             }
            ]
           },
           "dateTimeFormat": "YYYY-MM-DD HH:mm",
           "direction": {
            "type": "counterclockwise"
           },
           "error_y": {
            "type": "data",
            "visible": true
           },
           "globalSeriesType": "line",
           "hideXAxis": false,
           "isAggregationOn": false,
           "legend": {
            "traceorder": "normal"
           },
           "missingValuesAsZero": true,
           "numberFormat": "0,0.[00000]",
           "percentFormat": "0[.]00%",
           "series": {
            "error_y": {
             "type": "data",
             "visible": true
            },
            "stacking": ""
           },
           "seriesOptions": {
            "retention_rate_1_month": {
             "name": "RR 1 Month",
             "type": "line",
             "yAxis": 0
            },
            "retention_rate_2_months": {
             "name": "RR 2 Month",
             "type": "line",
             "yAxis": 0
            },
            "retention_rate_3_months": {
             "name": "RR 3 Month",
             "type": "line",
             "yAxis": 0
            }
           },
           "showDataLabels": true,
           "sizemode": "diameter",
           "sortX": true,
           "sortY": true,
           "swappedAxes": false,
           "textFormat": "",
           "useAggregationsUi": true,
           "valuesOptions": {},
           "version": 2,
           "xAxis": {
            "labels": {
             "enabled": true
            },
            "type": "-"
           },
           "yAxis": [
            {
             "title": {
              "text": "retention rate in %"
             },
             "type": "-"
            },
            {
             "opposite": true,
             "type": "-"
            }
           ]
          }
         }
        ]
       },
       "datasetPreviewNameToCmdIdMap": {},
       "diffDeletes": [],
       "diffInserts": [],
       "displayType": "redashChart",
       "error": null,
       "errorDetails": null,
       "errorSummary": null,
       "errorTraceType": null,
       "finishTime": 0,
       "globalVars": {},
       "guid": "",
       "height": "auto",
       "hideCommandCode": false,
       "hideCommandResult": false,
       "iPythonMetadata": null,
       "inputWidgets": {},
       "isLockedInExamMode": false,
       "latestUser": "a user",
       "latestUserId": null,
       "listResultMetadata": null,
       "metadata": {
        "byteLimit": 2048000,
        "rowLimit": 10000
       },
       "nuid": "b5bc4caa-d27e-49c9-82f7-9451a2c19904",
       "origId": 0,
       "parentHierarchy": [],
       "pivotAggregation": null,
       "pivotColumns": null,
       "position": 9.0,
       "resultDbfsErrorMessage": null,
       "resultDbfsStatus": "INLINED_IN_TREE",
       "results": null,
       "showCommandTitle": false,
       "startTime": 0,
       "state": "input",
       "streamStates": {},
       "subcommandOptions": {
        "queryPlan": {
         "selects": [
          {
           "alias": "column_e90d9a04139",
           "args": [
            {
             "column": "cohort_month",
             "type": "column"
            },
            {
             "string": "MONTH",
             "type": "string"
            }
           ],
           "function": "DATE_TRUNC",
           "type": "function"
          },
          {
           "column": "retention_rate_1_month",
           "type": "column"
          },
          {
           "column": "retention_rate_2_months",
           "type": "column"
          },
          {
           "column": "retention_rate_3_months",
           "type": "column"
          }
         ]
        }
       },
       "submitTime": 0,
       "subtype": "tableResultSubCmd.visualization",
       "tableResultIndex": 0,
       "tableResultSettingsMap": {},
       "useConsistentColors": false,
       "version": "CommandV1",
       "width": "auto",
       "workflows": [],
       "xColumns": null,
       "yColumns": null
      }
     },
     "output_type": "display_data"
    }
   ],
   "source": [
    "##old query using months between\n",
    "final_ret_df=spark.sql(\"\"\"\n",
    "WITH cohorts AS (\n",
    "    SELECT\n",
    "        customer_id,\n",
    "        CAST(DATE_TRUNC('month', first_purchase_date) AS DATE) AS cohort_month,\n",
    "        second_purchase_date,\n",
    "        MONTHS_BETWEEN(second_purchase_date, first_purchase_date) AS months_between\n",
    "    FROM cohort_analysis\n",
    "    WHERE first_purchase_date IS NOT NULL\n",
    "),\n",
    "\n",
    "cohort_aggregates AS (\n",
    "    SELECT\n",
    "        cohort_month,\n",
    "        COUNT(*) AS total_customers,\n",
    "        COUNT_IF(months_between <= 1) AS second_within_1_month,\n",
    "        COUNT_IF(months_between <= 2) AS second_within_2_months,\n",
    "        COUNT_IF(months_between <= 3) AS second_within_3_months\n",
    "    FROM cohorts\n",
    "    GROUP BY cohort_month\n",
    ")\n",
    "\n",
    "\n",
    "\n",
    "SELECT\n",
    "    cohort_month,\n",
    "    total_customers,\n",
    "    ROUND(100.0 * second_within_1_month / total_customers, 1) AS retention_rate_1_month,\n",
    "    ROUND(100.0 * second_within_2_months / total_customers, 1) AS retention_rate_2_months,\n",
    "    ROUND(100.0 * second_within_3_months / total_customers, 1) AS retention_rate_3_months\n",
    "FROM cohort_aggregates\n",
    "ORDER BY cohort_month\n",
    "\"\"\")\n",
    "final_ret_df.display()\n",
    "# Save as permanent table\n",
    "final_ret_df.write.format(\"delta\").mode(\"overwrite\").saveAsTable(\"workspace.default_cohort_db.retention_rate_by_cohort\")\n"
   ]
  },
  {
   "cell_type": "code",
   "execution_count": 0,
   "metadata": {
    "application/vnd.databricks.v1+cell": {
     "cellMetadata": {
      "byteLimit": 2048000,
      "rowLimit": 10000
     },
     "inputWidgets": {},
     "nuid": "dae0db7d-66a8-4110-b27a-42015e385dc0",
     "showTitle": false,
     "tableResultSettingsMap": {},
     "title": ""
    }
   },
   "outputs": [
    {
     "output_type": "display_data",
     "data": {
      "text/html": [
       "<style scoped>\n",
       "  .table-result-container {\n",
       "    max-height: 300px;\n",
       "    overflow: auto;\n",
       "  }\n",
       "  table, th, td {\n",
       "    border: 1px solid black;\n",
       "    border-collapse: collapse;\n",
       "  }\n",
       "  th, td {\n",
       "    padding: 5px;\n",
       "  }\n",
       "  th {\n",
       "    text-align: left;\n",
       "  }\n",
       "</style><div class='table-result-container'><table class='table-result'><thead style='background-color: white'><tr><th>cohort_month</th><th>total_customers</th><th>second_within_1_month</th><th>second_within_2_months</th><th>second_within_3_months</th><th>retention_rate_1_month</th><th>retention_rate_2_months</th><th>retention_rate_3_months</th></tr></thead><tbody><tr><td>2024-01-01</td><td>66</td><td>26</td><td>41</td><td>51</td><td>39.4</td><td>62.1</td><td>77.3</td></tr><tr><td>2024-02-01</td><td>48</td><td>17</td><td>32</td><td>38</td><td>35.4</td><td>66.7</td><td>79.2</td></tr><tr><td>2024-03-01</td><td>33</td><td>10</td><td>24</td><td>29</td><td>30.3</td><td>72.7</td><td>87.9</td></tr><tr><td>2024-04-01</td><td>27</td><td>14</td><td>24</td><td>25</td><td>51.9</td><td>88.9</td><td>92.6</td></tr><tr><td>2024-05-01</td><td>16</td><td>8</td><td>15</td><td>16</td><td>50.0</td><td>93.8</td><td>100.0</td></tr><tr><td>2024-06-01</td><td>10</td><td>3</td><td>10</td><td>10</td><td>30.0</td><td>100.0</td><td>100.0</td></tr></tbody></table></div>"
      ]
     },
     "metadata": {
      "application/vnd.databricks.v1+output": {
       "addedWidgets": {},
       "aggData": [],
       "aggError": "",
       "aggOverflow": false,
       "aggSchema": [],
       "aggSeriesLimitReached": false,
       "aggType": "",
       "arguments": {},
       "columnCustomDisplayInfos": {},
       "data": [
        [
         "2024-01-01",
         66,
         26,
         41,
         51,
         "39.4",
         "62.1",
         "77.3"
        ],
        [
         "2024-02-01",
         48,
         17,
         32,
         38,
         "35.4",
         "66.7",
         "79.2"
        ],
        [
         "2024-03-01",
         33,
         10,
         24,
         29,
         "30.3",
         "72.7",
         "87.9"
        ],
        [
         "2024-04-01",
         27,
         14,
         24,
         25,
         "51.9",
         "88.9",
         "92.6"
        ],
        [
         "2024-05-01",
         16,
         8,
         15,
         16,
         "50.0",
         "93.8",
         "100.0"
        ],
        [
         "2024-06-01",
         10,
         3,
         10,
         10,
         "30.0",
         "100.0",
         "100.0"
        ]
       ],
       "datasetInfos": [],
       "dbfsResultPath": null,
       "isJsonSchema": true,
       "metadata": {},
       "overflow": false,
       "plotOptions": {
        "customPlotOptions": {},
        "displayType": "table",
        "pivotAggregation": null,
        "pivotColumns": null,
        "xColumns": null,
        "yColumns": null
       },
       "removedWidgets": [],
       "schema": [
        {
         "metadata": "{}",
         "name": "cohort_month",
         "type": "\"date\""
        },
        {
         "metadata": "{}",
         "name": "total_customers",
         "type": "\"long\""
        },
        {
         "metadata": "{}",
         "name": "second_within_1_month",
         "type": "\"long\""
        },
        {
         "metadata": "{}",
         "name": "second_within_2_months",
         "type": "\"long\""
        },
        {
         "metadata": "{}",
         "name": "second_within_3_months",
         "type": "\"long\""
        },
        {
         "metadata": "{}",
         "name": "retention_rate_1_month",
         "type": "\"decimal(26,1)\""
        },
        {
         "metadata": "{}",
         "name": "retention_rate_2_months",
         "type": "\"decimal(26,1)\""
        },
        {
         "metadata": "{}",
         "name": "retention_rate_3_months",
         "type": "\"decimal(26,1)\""
        }
       ],
       "type": "table"
      }
     },
     "output_type": "display_data"
    },
    {
     "output_type": "display_data",
     "data": {
      "text/plain": [
       "Databricks visualization. Run in Databricks to view."
      ]
     },
     "metadata": {
      "application/vnd.databricks.v1.subcommand+json": {
       "baseErrorDetails": null,
       "bindings": {},
       "collapsed": false,
       "command": "%python\n__backend_agg_display_orig = display\n__backend_agg_dfs = []\ndef __backend_agg_display_new(df):\n    __backend_agg_df_modules = [\"pandas.core.frame\", \"databricks.koalas.frame\", \"pyspark.sql.dataframe\", \"pyspark.pandas.frame\", \"pyspark.sql.connect.dataframe\"]\n    if (type(df).__module__ in __backend_agg_df_modules and type(df).__name__ == 'DataFrame') or isinstance(df, list):\n        __backend_agg_dfs.append(df)\n\ndisplay = __backend_agg_display_new\n\ndef __backend_agg_user_code_fn():\n    import base64\n    exec(base64.standard_b64decode(\"ZmluYWxfcmV0X2RmID0gc3Bhcmsuc3FsKCIiIgpXSVRIIGZpcnN0X2FuZF9zZWNvbmRfb3JkZXJzIEFTICgKICAgIFNFTEVDVAogICAgICAgIGN1c3RvbWVyX2lkLAogICAgICAgIG9yZGVyX2RhdGUsCiAgICAgICAgUk9XX05VTUJFUigpIE9WRVIgKFBBUlRJVElPTiBCWSBjdXN0b21lcl9pZCBPUkRFUiBCWSBvcmRlcl9kYXRlKSBBUyBvcmRlcl9yYW5rCiAgICBGUk9NIGNvaG9ydF9iaWdxdWVyeV9hbmFseXNpc19jYXRhbG9nLmNvaG9ydF9kYi5lY29tX29yZGVycwopLAoKY3VzdG9tZXJfb3JkZXJzIEFTICgKICAgIFNFTEVDVAogICAgICAgIGN1c3RvbWVyX2lkLAogICAgICAgIE1JTihDQVNFIFdIRU4gb3JkZXJfcmFuayA9IDEgVEhFTiBvcmRlcl9kYXRlIEVORCkgQVMgZmlyc3RfcHVyY2hhc2VfZGF0ZSwKICAgICAgICBNSU4oQ0FTRSBXSEVOIG9yZGVyX3JhbmsgPSAyIFRIRU4gb3JkZXJfZGF0ZSBFTkQpIEFTIHNlY29uZF9wdXJjaGFzZV9kYXRlCiAgICBGUk9NIGZpcnN0X2FuZF9zZWNvbmRfb3JkZXJzCiAgICBHUk9VUCBCWSBjdXN0b21lcl9pZAopLAoKY29ob3J0cyBBUyAoCiAgICBTRUxFQ1QKICAgICAgICBjdXN0b21lcl9pZCwKICAgICAgICBEQVRFX1RSVU5DKCdtb250aCcsIGZpcnN0X3B1cmNoYXNlX2RhdGUpIEFTIGNvaG9ydF9tb250aCwKICAgICAgICBmaXJzdF9wdXJjaGFzZV9kYXRlLAogICAgICAgIHNlY29uZF9wdXJjaGFzZV9kYXRlLAogICAgICAgIERBVEVESUZGKHNlY29uZF9wdXJjaGFzZV9kYXRlLCBmaXJzdF9wdXJjaGFzZV9kYXRlKSBBUyBkYXlzX2JldHdlZW4KICAgIEZST00gY3VzdG9tZXJfb3JkZXJzCiAgICBXSEVSRSBmaXJzdF9wdXJjaGFzZV9kYXRlIElTIE5PVCBOVUxMCikKClNFTEVDVAogICAgY29ob3J0X21vbnRoLAogICAgQ09VTlQoKikgQVMgdG90YWxfY3VzdG9tZXJzLAogICAgU1VNKENBU0UgV0hFTiBzZWNvbmRfcHVyY2hhc2VfZGF0ZSBJUyBOT1QgTlVMTCBBTkQgZGF5c19iZXR3ZWVuIDw9IDMwIFRIRU4gMSBFTFNFIDAgRU5EKSBBUyBzZWNvbmRfd2l0aGluXzFfbW9udGgsCiAgICBTVU0oQ0FTRSBXSEVOIHNlY29uZF9wdXJjaGFzZV9kYXRlIElTIE5PVCBOVUxMIEFORCBkYXlzX2JldHdlZW4gPD0gNjAgVEhFTiAxIEVMU0UgMCBFTkQpIEFTIHNlY29uZF93aXRoaW5fMl9tb250aHMsCiAgICBTVU0oQ0FTRSBXSEVOIHNlY29uZF9wdXJjaGFzZV9kYXRlIElTIE5PVCBOVUxMIEFORCBkYXlzX2JldHdlZW4gPD0gOTAgVEhFTiAxIEVMU0UgMCBFTkQpIEFTIHNlY29uZF93aXRoaW5fM19tb250aHMsCiAgICBST1VORCgxMDAuMCAqIFNVTShDQVNFIFdIRU4gc2Vjb25kX3B1cmNoYXNlX2RhdGUgSVMgTk9UIE5VTEwgQU5EIGRheXNfYmV0d2VlbiA8PSAzMCBUSEVOIDEgRUxTRSAwIEVORCkgLyBDT1VOVCgqKSwgMSkgQVMgcmV0ZW50aW9uX3JhdGVfMV9tb250aCwKICAgIFJPVU5EKDEwMC4wICogU1VNKENBU0UgV0hFTiBzZWNvbmRfcHVyY2hhc2VfZGF0ZSBJUyBOT1QgTlVMTCBBTkQgZGF5c19iZXR3ZWVuIDw9IDYwIFRIRU4gMSBFTFNFIDAgRU5EKSAvIENPVU5UKCopLCAxKSBBUyByZXRlbnRpb25fcmF0ZV8yX21vbnRocywKICAgIFJPVU5EKDEwMC4wICogU1VNKENBU0UgV0hFTiBzZWNvbmRfcHVyY2hhc2VfZGF0ZSBJUyBOT1QgTlVMTCBBTkQgZGF5c19iZXR3ZWVuIDw9IDkwIFRIRU4gMSBFTFNFIDAgRU5EKSAvIENPVU5UKCopLCAxKSBBUyByZXRlbnRpb25fcmF0ZV8zX21vbnRocwpGUk9NIGNvaG9ydHMKR1JPVVAgQlkgY29ob3J0X21vbnRoCk9SREVSIEJZIGNvaG9ydF9tb250aAo7CgoKIiIiKQoKIyBTaG93IGluIG5vdGVib29rCmZpbmFsX3JldF9kZi5kaXNwbGF5KCkKCiMgU2F2ZSBhcyBwZXJtYW5lbnQgdGFibGUKCmZpbmFsX3JldF9kZi53cml0ZS5mb3JtYXQoImRlbHRhIikubW9kZSgib3ZlcndyaXRlIikuc2F2ZUFzVGFibGUoIndvcmtzcGFjZS5kZW1vLnJldGVudGlvbl9yYXRlX2J5X2NvaG9ydCIpCg==\").decode())\n\ntry:\n    # run user code\n    __backend_agg_user_code_fn()\n\n    #reset display function\n    display = __backend_agg_display_orig\n\n    if len(__backend_agg_dfs) > 0:\n        # create a temp view\n        if type(__backend_agg_dfs[0]).__module__ == \"databricks.koalas.frame\":\n            # koalas dataframe\n            __backend_agg_dfs[0].to_spark().createOrReplaceTempView(\"DatabricksView2f22bb3\")\n        elif type(__backend_agg_dfs[0]).__module__ == \"pandas.core.frame\" or isinstance(__backend_agg_dfs[0], list):\n            # pandas dataframe\n            spark.createDataFrame(__backend_agg_dfs[0]).createOrReplaceTempView(\"DatabricksView2f22bb3\")\n        else:\n            __backend_agg_dfs[0].createOrReplaceTempView(\"DatabricksView2f22bb3\")\n        #run backend agg\n        display(spark.sql(\"\"\"WITH q AS (select * from DatabricksView2f22bb3) SELECT `cohort_month`,`retention_rate_1_month`,`retention_rate_2_months`,`retention_rate_3_months` FROM q\"\"\"))\n    else:\n        displayHTML(\"dataframe no longer exists. If you're using dataframe.display(), use display(dataframe) instead.\")\n\n\nfinally:\n    spark.sql(\"drop view if exists DatabricksView2f22bb3\")\n    display = __backend_agg_display_orig\n    del __backend_agg_display_new\n    del __backend_agg_display_orig\n    del __backend_agg_dfs\n    del __backend_agg_user_code_fn\n\n",
       "commandTitle": "Retention Rate by Cohort",
       "commandType": "auto",
       "commandVersion": 0,
       "commentThread": [],
       "commentsVisible": false,
       "contentSha256Hex": null,
       "customPlotOptions": {
        "redashChart": [
         {
          "key": "type",
          "value": "CHART"
         },
         {
          "key": "options",
          "value": {
           "alignYAxesAtZero": true,
           "coefficient": 1,
           "columnConfigurationMap": {
            "x": {
             "column": "cohort_month",
             "id": "column_8abbbaf9146",
             "transform": "MONTH_LEVEL"
            },
            "y": [
             {
              "column": "retention_rate_1_month",
              "id": "column_8abbbaf9130"
             },
             {
              "column": "retention_rate_2_months",
              "id": "column_8abbbaf9133"
             },
             {
              "column": "retention_rate_3_months",
              "id": "column_8abbbaf9136"
             }
            ]
           },
           "dateTimeFormat": "DD/MM/YYYY HH:mm",
           "direction": {
            "type": "counterclockwise"
           },
           "error_y": {
            "type": "data",
            "visible": true
           },
           "globalSeriesType": "line",
           "hideXAxis": false,
           "isAggregationOn": false,
           "legend": {
            "traceorder": "normal"
           },
           "missingValuesAsZero": true,
           "numberFormat": "0,0.[00000]",
           "percentFormat": "0[.]00%",
           "series": {
            "error_y": {
             "type": "data",
             "visible": true
            },
            "percentValues": false,
            "stacking": null
           },
           "seriesOptions": {
            "retention_rate_1_month": {
             "name": "RR_1_month",
             "type": "line",
             "yAxis": 0
            },
            "retention_rate_2_months": {
             "name": "RR_2_month",
             "type": "line",
             "yAxis": 0
            },
            "retention_rate_3_months": {
             "name": "RR_3_month",
             "type": "line",
             "yAxis": 0
            }
           },
           "showDataLabels": true,
           "sizemode": "diameter",
           "sortX": true,
           "sortY": true,
           "swappedAxes": false,
           "textFormat": "",
           "useAggregationsUi": true,
           "valuesOptions": {},
           "version": 2,
           "xAxis": {
            "labels": {
             "enabled": true
            },
            "type": "-"
           },
           "yAxis": [
            {
             "title": {
              "text": "RR in %"
             },
             "type": "-"
            },
            {
             "opposite": true,
             "type": "-"
            }
           ]
          }
         }
        ]
       },
       "datasetPreviewNameToCmdIdMap": {},
       "diffDeletes": [],
       "diffInserts": [],
       "displayType": "redashChart",
       "error": null,
       "errorDetails": null,
       "errorSummary": null,
       "errorTraceType": null,
       "finishTime": 0,
       "globalVars": {},
       "guid": "",
       "height": "auto",
       "hideCommandCode": false,
       "hideCommandResult": false,
       "iPythonMetadata": null,
       "inputWidgets": {},
       "isLockedInExamMode": false,
       "latestUser": "a user",
       "latestUserId": null,
       "listResultMetadata": null,
       "metadata": {},
       "nuid": "5d708576-f9cb-40d0-806d-b50ffc68e3c4",
       "origId": 0,
       "parentHierarchy": [],
       "pivotAggregation": null,
       "pivotColumns": null,
       "position": 4.8125,
       "resultDbfsErrorMessage": null,
       "resultDbfsStatus": "INLINED_IN_TREE",
       "results": null,
       "showCommandTitle": false,
       "startTime": 0,
       "state": "input",
       "streamStates": {},
       "subcommandOptions": {
        "queryPlan": {
         "selects": [
          {
           "alias": "column_8abbbaf9146",
           "args": [
            {
             "column": "cohort_month",
             "type": "column"
            },
            {
             "string": "MONTH",
             "type": "string"
            }
           ],
           "function": "DATE_TRUNC",
           "type": "function"
          },
          {
           "column": "retention_rate_1_month",
           "type": "column"
          },
          {
           "column": "retention_rate_2_months",
           "type": "column"
          },
          {
           "column": "retention_rate_3_months",
           "type": "column"
          }
         ]
        }
       },
       "submitTime": 0,
       "subtype": "tableResultSubCmd.visualization",
       "tableResultIndex": 0,
       "tableResultSettingsMap": {},
       "useConsistentColors": false,
       "version": "CommandV1",
       "width": "auto",
       "workflows": [],
       "xColumns": null,
       "yColumns": null
      }
     },
     "output_type": "display_data"
    },
    {
     "output_type": "display_data",
     "data": {
      "text/plain": [
       "Databricks visualization. Run in Databricks to view."
      ]
     },
     "metadata": {
      "application/vnd.databricks.v1.subcommand+json": {
       "baseErrorDetails": {
        "addedWidgets": {},
        "arguments": {},
        "datasetInfos": [],
        "jupyterProps": {
         "ename": "AnalysisException",
         "evalue": "[DELTA_FAILED_TO_MERGE_FIELDS] Failed to merge fields 'cohort_month' and 'cohort_month'\n\nJVM stacktrace:\ncom.databricks.sql.transaction.tahoe.DeltaAnalysisException\n\tat com.databricks.sql.transaction.tahoe.schema.SchemaMergingUtils$.$anonfun$mergeDataTypes$1(SchemaMergingUtils.scala:215)\n\tat scala.collection.TraversableLike.$anonfun$map$1(TraversableLike.scala:286)\n\tat scala.collection.IndexedSeqOptimized.foreach(IndexedSeqOptimized.scala:36)\n\tat scala.collection.IndexedSeqOptimized.foreach$(IndexedSeqOptimized.scala:33)\n\tat scala.collection.mutable.ArrayOps$ofRef.foreach(ArrayOps.scala:198)\n\tat scala.collection.TraversableLike.map(TraversableLike.scala:286)\n\tat scala.collection.TraversableLike.map$(TraversableLike.scala:279)\n\tat scala.collection.mutable.ArrayOps$ofRef.map(ArrayOps.scala:198)\n\tat com.databricks.sql.transaction.tahoe.schema.SchemaMergingUtils$.merge$1(SchemaMergingUtils.scala:204)\n\tat com.databricks.sql.transaction.tahoe.schema.SchemaMergingUtils$.mergeDataTypes(SchemaMergingUtils.scala:308)\n\tat com.databricks.sql.transaction.tahoe.schema.SchemaMergingUtils$.mergeSchemas(SchemaMergingUtils.scala:169)\n\tat com.databricks.sql.transaction.tahoe.schema.ImplicitMetadataOperation$.mergeSchema(ImplicitMetadataOperation.scala:357)\n\tat com.databricks.sql.transaction.tahoe.schema.ImplicitMetadataOperation.updateMetadata(ImplicitMetadataOperation.scala:111)\n\tat com.databricks.sql.transaction.tahoe.schema.ImplicitMetadataOperation.updateMetadata$(ImplicitMetadataOperation.scala:91)\n\tat com.databricks.sql.transaction.tahoe.commands.WriteIntoDeltaEdge.updateMetadata(WriteIntoDeltaEdge.scala:111)\n\tat com.databricks.sql.transaction.tahoe.commands.WriteIntoDeltaEdge.writeAndReturnCommitDataAndMaterializationPlans(WriteIntoDeltaEdge.scala:313)\n\tat com.databricks.sql.transaction.tahoe.commands.WriteIntoDeltaEdge.writeAndReturnCommitData(WriteIntoDeltaEdge.scala:209)\n\tat com.databricks.sql.transaction.tahoe.commands.CreateDeltaTableCommand.doDeltaWrite$1(CreateDeltaTableCommand.scala:621)\n\tat com.databricks.sql.transaction.tahoe.commands.CreateDeltaTableCommand.handleCreateTableAsSelect(CreateDeltaTableCommand.scala:705)\n\tat com.databricks.sql.transaction.tahoe.commands.CreateDeltaTableCommand.$anonfun$handleCommit$1(CreateDeltaTableCommand.scala:390)\n\tat com.databricks.sql.transaction.tahoe.OptimisticTransaction$.withActive(OptimisticTransaction.scala:254)\n\tat com.databricks.sql.transaction.tahoe.commands.CreateDeltaTableCommand.handleCommit(CreateDeltaTableCommand.scala:371)\n\tat com.databricks.sql.transaction.tahoe.commands.CreateDeltaTableCommand.$anonfun$run$9(CreateDeltaTableCommand.scala:294)\n\tat org.apache.spark.sql.catalyst.SQLConfHelper.withSQLConf(SQLConfHelper.scala:75)\n\tat org.apache.spark.sql.catalyst.SQLConfHelper.withSQLConf$(SQLConfHelper.scala:38)\n\tat org.apache.spark.sql.catalyst.plans.QueryPlan.withSQLConf(QueryPlan.scala:56)\n\tat com.databricks.sql.transaction.tahoe.commands.CreateDeltaTableCommand.$anonfun$run$5(CreateDeltaTableCommand.scala:290)\n\tat com.databricks.sql.transaction.tahoe.metering.DeltaLogging.withOperationTypeTag(DeltaLogging.scala:325)\n\tat com.databricks.sql.transaction.tahoe.metering.DeltaLogging.withOperationTypeTag$(DeltaLogging.scala:312)\n\tat com.databricks.sql.transaction.tahoe.commands.CreateDeltaTableCommand.withOperationTypeTag(CreateDeltaTableCommand.scala:88)\n\tat com.databricks.sql.transaction.tahoe.metering.DeltaLogging.$anonfun$recordDeltaOperationInternal$2(DeltaLogging.scala:178)\n\tat com.databricks.spark.util.FrameProfiler$.record(FrameProfiler.scala:94)\n\tat com.databricks.sql.transaction.tahoe.metering.DeltaLogging.recordFrameProfile(DeltaLogging.scala:418)\n\tat com.databricks.sql.transaction.tahoe.metering.DeltaLogging.recordFrameProfile$(DeltaLogging.scala:416)\n\tat com.databricks.sql.transaction.tahoe.commands.CreateDeltaTableCommand.recordFrameProfile(CreateDeltaTableCommand.scala:88)\n\tat com.databricks.sql.transaction.tahoe.metering.DeltaLogging.$anonfun$recordDeltaOperationInternal$1(DeltaLogging.scala:177)\n\tat com.databricks.logging.UsageLogging.$anonfun$recordOperation$1(UsageLogging.scala:510)\n\tat com.databricks.logging.UsageLogging.executeThunkAndCaptureResultTags$1(UsageLogging.scala:616)\n\tat com.databricks.logging.UsageLogging.$anonfun$recordOperationWithResultTags$4(UsageLogging.scala:643)\n\tat com.databricks.logging.AttributionContextTracing.$anonfun$withAttributionContext$1(AttributionContextTracing.scala:49)\n\tat com.databricks.logging.AttributionContext$.$anonfun$withValue$1(AttributionContext.scala:293)\n\tat scala.util.DynamicVariable.withValue(DynamicVariable.scala:62)\n\tat com.databricks.logging.AttributionContext$.withValue(AttributionContext.scala:289)\n\tat com.databricks.logging.AttributionContextTracing.withAttributionContext(AttributionContextTracing.scala:47)\n\tat com.databricks.logging.AttributionContextTracing.withAttributionContext$(AttributionContextTracing.scala:44)\n\tat com.databricks.spark.util.PublicDBLogging.withAttributionContext(DatabricksSparkUsageLogger.scala:30)\n\tat com.databricks.logging.AttributionContextTracing.withAttributionTags(AttributionContextTracing.scala:96)\n\tat com.databricks.logging.AttributionContextTracing.withAttributionTags$(AttributionContextTracing.scala:77)\n\tat com.databricks.spark.util.PublicDBLogging.withAttributionTags(DatabricksSparkUsageLogger.scala:30)\n\tat com.databricks.logging.UsageLogging.recordOperationWithResultTags(UsageLogging.scala:611)\n\tat com.databricks.logging.UsageLogging.recordOperationWithResultTags$(UsageLogging.scala:519)\n\tat com.databricks.spark.util.PublicDBLogging.recordOperationWithResultTags(DatabricksSparkUsageLogger.scala:30)\n\tat com.databricks.logging.UsageLogging.recordOperation(UsageLogging.scala:511)\n\tat com.databricks.logging.UsageLogging.recordOperation$(UsageLogging.scala:475)\n\tat com.databricks.spark.util.PublicDBLogging.recordOperation(DatabricksSparkUsageLogger.scala:30)\n\tat com.databricks.spark.util.PublicDBLogging.recordOperation0(DatabricksSparkUsageLogger.scala:120)\n\tat com.databricks.spark.util.DatabricksSparkUsageLogger.recordOperation(DatabricksSparkUsageLogger.scala:210)\n\tat com.databricks.spark.util.UsageLogger.recordOperation(UsageLogger.scala:78)\n\tat com.databricks.spark.util.UsageLogger.recordOperation$(UsageLogger.scala:65)\n\tat com.databricks.spark.util.DatabricksSparkUsageLogger.recordOperation(DatabricksSparkUsageLogger.scala:169)\n\tat com.databricks.spark.util.UsageLogging.recordOperation(UsageLogger.scala:537)\n\tat com.databricks.spark.util.UsageLogging.recordOperation$(UsageLogger.scala:516)\n\tat com.databricks.sql.transaction.tahoe.commands.CreateDeltaTableCommand.recordOperation(CreateDeltaTableCommand.scala:88)\n\tat com.databricks.sql.transaction.tahoe.metering.DeltaLogging.recordDeltaOperationInternal(DeltaLogging.scala:176)\n\tat com.databricks.sql.transaction.tahoe.metering.DeltaLogging.recordDeltaOperation(DeltaLogging.scala:166)\n\tat com.databricks.sql.transaction.tahoe.metering.DeltaLogging.recordDeltaOperation$(DeltaLogging.scala:155)\n\tat com.databricks.sql.transaction.tahoe.commands.CreateDeltaTableCommand.recordDeltaOperation(CreateDeltaTableCommand.scala:88)\n\tat com.databricks.sql.transaction.tahoe.commands.CreateDeltaTableCommand.run(CreateDeltaTableCommand.scala:251)\n\tat com.databricks.sql.transaction.tahoe.catalog.DeltaCatalog.$anonfun$createDeltaTable$1(DeltaCatalog.scala:642)\n\tat com.databricks.spark.util.FrameProfiler$.record(FrameProfiler.scala:94)\n\tat com.databricks.sql.transaction.tahoe.metering.DeltaLogging.recordFrameProfile(DeltaLogging.scala:418)\n\tat com.databricks.sql.transaction.tahoe.metering.DeltaLogging.recordFrameProfile$(DeltaLogging.scala:416)\n\tat com.databricks.sql.transaction.tahoe.catalog.DeltaCatalog.recordFrameProfile(DeltaCatalog.scala:140)\n\tat com.databricks.sql.transaction.tahoe.catalog.DeltaCatalog.com$databricks$sql$transaction$tahoe$catalog$DeltaCatalog$$createDeltaTable(DeltaCatalog.scala:266)\n\tat com.databricks.sql.transaction.tahoe.catalog.DeltaCatalog$StagedDeltaTableV2.$anonfun$commitStagedChanges$1(DeltaCatalog.scala:1639)\n\tat com.databricks.spark.util.FrameProfiler$.record(FrameProfiler.scala:94)\n\tat com.databricks.sql.transaction.tahoe.metering.DeltaLogging.recordFrameProfile(DeltaLogging.scala:418)\n\tat com.databricks.sql.transaction.tahoe.metering.DeltaLogging.recordFrameProfile$(DeltaLogging.scala:416)\n\tat com.databricks.sql.transaction.tahoe.catalog.DeltaCatalog.recordFrameProfile(DeltaCatalog.scala:140)\n\tat com.databricks.sql.transaction.tahoe.catalog.DeltaCatalog$StagedDeltaTableV2.commitStagedChanges(DeltaCatalog.scala:1598)\n\tat org.apache.spark.sql.execution.datasources.v2.DataSourceV2Utils$.commitStagedChanges(DataSourceV2Utils.scala:314)\n\tat org.apache.spark.sql.execution.datasources.v2.V2CreateTableAsSelectBaseExec.$anonfun$writeToTable$6(WriteToDataSourceV2Exec.scala:812)\n\tat scala.runtime.java8.JFunction0$mcV$sp.apply(JFunction0$mcV$sp.java:23)\n\tat org.apache.spark.sql.execution.datasources.v2.WriteToDataSourceV2Exec$.handleConcurrentCreateExceptions(WriteToDataSourceV2Exec.scala:73)\n\tat org.apache.spark.sql.execution.datasources.v2.V2CreateTableAsSelectBaseExec.$anonfun$writeToTable$2(WriteToDataSourceV2Exec.scala:812)\n\tat org.apache.spark.util.Utils$.tryWithSafeFinallyAndFailureCallbacks(Utils.scala:1629)\n\tat org.apache.spark.sql.execution.datasources.v2.V2CreateTableAsSelectBaseExec.$anonfun$writeToTable$1(WriteToDataSourceV2Exec.scala:799)\n\tat com.databricks.spark.util.FrameProfiler$.record(FrameProfiler.scala:94)\n\tat org.apache.spark.sql.execution.datasources.v2.V2CreateTableAsSelectBaseExec.writeToTable(WriteToDataSourceV2Exec.scala:816)\n\tat org.apache.spark.sql.execution.datasources.v2.V2CreateTableAsSelectBaseExec.writeToTable$(WriteToDataSourceV2Exec.scala:791)\n\tat org.apache.spark.sql.execution.datasources.v2.AtomicReplaceTableAsSelectExec.writeToTable(WriteToDataSourceV2Exec.scala:262)\n\tat org.apache.spark.sql.execution.datasources.v2.AtomicReplaceTableAsSelectExec.run(WriteToDataSourceV2Exec.scala:325)\n\tat org.apache.spark.sql.execution.datasources.v2.V2CommandExec.$anonfun$result$2(V2CommandExec.scala:48)\n\tat org.apache.spark.sql.execution.SparkPlan.runCommandInAetherOrSpark(SparkPlan.scala:194)\n\tat org.apache.spark.sql.execution.datasources.v2.V2CommandExec.$anonfun$result$1(V2CommandExec.scala:48)\n\tat com.databricks.spark.util.FrameProfiler$.record(FrameProfiler.scala:94)\n\tat org.apache.spark.sql.execution.datasources.v2.V2CommandExec.result$lzycompute(V2CommandExec.scala:47)\n\tat org.apache.spark.sql.execution.datasources.v2.V2CommandExec.result(V2CommandExec.scala:45)\n\tat org.apache.spark.sql.execution.datasources.v2.V2CommandExec.executeCollect(V2CommandExec.scala:56)\n\tat org.apache.spark.sql.execution.QueryExecution.$anonfun$eagerlyExecuteCommands$5(QueryExecution.scala:450)\n\tat com.databricks.util.LexicalThreadLocal$Handle.runWith(LexicalThreadLocal.scala:63)\n\tat org.apache.spark.sql.execution.QueryExecution.$anonfun$eagerlyExecuteCommands$4(QueryExecution.scala:450)\n\tat org.apache.spark.sql.catalyst.QueryPlanningTracker$.withTracker(QueryPlanningTracker.scala:216)\n\tat org.apache.spark.sql.execution.QueryExecution.$anonfun$eagerlyExecuteCommands$3(QueryExecution.scala:449)\n\tat org.apache.spark.sql.execution.SQLExecution$.$anonfun$withNewExecutionId0$11(SQLExecution.scala:477)\n\tat com.databricks.sql.util.MemoryTrackerHelper.withMemoryTracking(MemoryTrackerHelper.scala:80)\n\tat org.apache.spark.sql.execution.SQLExecution$.$anonfun$withNewExecutionId0$10(SQLExecution.scala:413)\n\tat org.apache.spark.sql.execution.SQLExecution$.withSQLConfPropagated(SQLExecution.scala:776)\n\tat org.apache.spark.sql.execution.SQLExecution$.$anonfun$withNewExecutionId0$1(SQLExecution.scala:343)\n\tat org.apache.spark.sql.SparkSession.withActive(SparkSession.scala:1450)\n\tat org.apache.spark.sql.execution.SQLExecution$.withNewExecutionId0(SQLExecution.scala:212)\n\tat org.apache.spark.sql.execution.SQLExecution$.withNewExecutionId(SQLExecution.scala:713)\n\tat org.apache.spark.sql.execution.QueryExecution.$anonfun$eagerlyExecuteCommands$2(QueryExecution.scala:445)\n\tat org.apache.spark.sql.execution.QueryExecution$.withInternalError(QueryExecution.scala:1308)\n\tat org.apache.spark.sql.execution.QueryExecution.$anonfun$eagerlyExecuteCommands$1(QueryExecution.scala:441)\n\tat org.apache.spark.sql.execution.QueryExecution.withMVTagsIfNecessary(QueryExecution.scala:370)\n\tat org.apache.spark.sql.execution.QueryExecution.org$apache$spark$sql$execution$QueryExecution$$eagerlyExecute$1(QueryExecution.scala:439)\n\tat org.apache.spark.sql.execution.QueryExecution$$anonfun$$nestedInanonfun$eagerlyExecuteCommands$8$1.applyOrElse(QueryExecution.scala:503)\n\tat org.apache.spark.sql.execution.QueryExecution$$anonfun$$nestedInanonfun$eagerlyExecuteCommands$8$1.applyOrElse(QueryExecution.scala:498)\n\tat org.apache.spark.sql.catalyst.trees.TreeNode.$anonfun$transformDownWithPruning$1(TreeNode.scala:521)\n\tat org.apache.spark.sql.catalyst.trees.CurrentOrigin$.withOrigin(origin.scala:85)\n\tat org.apache.spark.sql.catalyst.trees.TreeNode.transformDownWithPruning(TreeNode.scala:521)\n\tat org.apache.spark.sql.catalyst.plans.logical.LogicalPlan.org$apache$spark$sql$catalyst$plans$logical$AnalysisHelper$$super$transformDownWithPruning(LogicalPlan.scala:42)\n\tat org.apache.spark.sql.catalyst.plans.logical.AnalysisHelper.transformDownWithPruning(AnalysisHelper.scala:361)\n\tat org.apache.spark.sql.catalyst.plans.logical.AnalysisHelper.transformDownWithPruning$(AnalysisHelper.scala:357)\n\tat org.apache.spark.sql.catalyst.plans.logical.LogicalPlan.transformDownWithPruning(LogicalPlan.scala:42)\n\tat org.apache.spark.sql.catalyst.plans.logical.LogicalPlan.transformDownWithPruning(LogicalPlan.scala:42)\n\tat org.apache.spark.sql.catalyst.trees.TreeNode.transformDown(TreeNode.scala:497)\n\tat org.apache.spark.sql.execution.QueryExecution.$anonfun$eagerlyExecuteCommands$8(QueryExecution.scala:498)\n\tat org.apache.spark.sql.catalyst.plans.logical.AnalysisHelper$.allowInvokingTransformsInAnalyzer(AnalysisHelper.scala:418)\n\tat org.apache.spark.sql.execution.QueryExecution.eagerlyExecuteCommands(QueryExecution.scala:498)\n\tat org.apache.spark.sql.execution.QueryExecution.$anonfun$lazyCommandExecuted$1(QueryExecution.scala:326)\n\tat scala.util.Try$.apply(Try.scala:213)\n\tat org.apache.spark.util.Utils$.doTryWithCallerStacktrace(Utils.scala:1684)\n\tat org.apache.spark.util.Utils$.getTryWithCallerStacktrace(Utils.scala:1745)\n\tat org.apache.spark.util.LazyTry.get(LazyTry.scala:58)\n\tat org.apache.spark.sql.execution.QueryExecution.commandExecuted(QueryExecution.scala:331)\n\tat org.apache.spark.sql.execution.QueryExecution.assertCommandExecuted(QueryExecution.scala:528)\n\tat org.apache.spark.sql.DataFrameWriter.runCommand(DataFrameWriter.scala:1164)\n\tat org.apache.spark.sql.DataFrameWriter.saveAsTable(DataFrameWriter.scala:845)\n\tat org.apache.spark.sql.DataFrameWriter.saveAsTable(DataFrameWriter.scala:749)\n\tat org.apache.spark.sql.connect.planner.SparkConnectPlanner.handleWriteOperation(SparkConnectPlanner.scala:3874)\n\tat org.apache.spark.sql.connect.planner.SparkConnectPlanner.process(SparkConnectPlanner.scala:3362)\n\tat org.apache.spark.sql.connect.execution.ExecuteThreadRunner.handleCommand(ExecuteThreadRunner.scala:413)\n\tat org.apache.spark.sql.connect.execution.ExecuteThreadRunner.$anonfun$executeInternal$1(ExecuteThreadRunner.scala:312)\n\tat org.apache.spark.sql.connect.execution.ExecuteThreadRunner.$anonfun$executeInternal$1$adapted(ExecuteThreadRunner.scala:233)\n\tat org.apache.spark.sql.connect.service.SessionHolder.$anonfun$withSession$2(SessionHolder.scala:464)\n\tat org.apache.spark.sql.SparkSession.withActive(SparkSession.scala:1450)\n\tat org.apache.spark.sql.connect.service.SessionHolder.$anonfun$withSession$1(SessionHolder.scala:464)\n\tat org.apache.spark.JobArtifactSet$.withActiveJobArtifactState(JobArtifactSet.scala:97)\n\tat org.apache.spark.sql.artifact.ArtifactManager.$anonfun$withResources$1(ArtifactManager.scala:90)\n\tat org.apache.spark.util.Utils$.withContextClassLoader(Utils.scala:241)\n\tat org.apache.spark.sql.artifact.ArtifactManager.withResources(ArtifactManager.scala:89)\n\tat org.apache.spark.sql.connect.service.SessionHolder.withSession(SessionHolder.scala:463)\n\tat org.apache.spark.sql.connect.execution.ExecuteThreadRunner.executeInternal(ExecuteThreadRunner.scala:233)\n\tat org.apache.spark.sql.connect.execution.ExecuteThreadRunner.org$apache$spark$sql$connect$execution$ExecuteThreadRunner$$execute(ExecuteThreadRunner.scala:139)\n\tat org.apache.spark.sql.connect.execution.ExecuteThreadRunner$ExecutionThread.$anonfun$run$2(ExecuteThreadRunner.scala:614)\n\tat scala.runtime.java8.JFunction0$mcV$sp.apply(JFunction0$mcV$sp.java:23)\n\tat com.databricks.unity.UCSEphemeralState$Handle.runWith(UCSEphemeralState.scala:51)\n\tat com.databricks.unity.HandleImpl.runWith(UCSHandle.scala:104)\n\tat com.databricks.unity.HandleImpl.$anonfun$runWithAndClose$1(UCSHandle.scala:109)\n\tat scala.util.Using$.resource(Using.scala:269)\n\tat com.databricks.unity.HandleImpl.runWithAndClose(UCSHandle.scala:108)\n\tat org.apache.spark.sql.connect.execution.ExecuteThreadRunner$ExecutionThread.run(ExecuteThreadRunner.scala:614)\nCaused by: com.databricks.sql.transaction.tahoe.DeltaAnalysisException: [DELTA_MERGE_INCOMPATIBLE_DATATYPE] Failed to merge incompatible data types DateType and TimestampType\n\tat com.databricks.sql.transaction.tahoe.schema.SchemaMergingUtils$.merge$1(SchemaMergingUtils.scala:304)\n\tat com.databricks.sql.transaction.tahoe.schema.SchemaMergingUtils$.$anonfun$mergeDataTypes$1(SchemaMergingUtils.scala:210)\n\tat scala.collection.TraversableLike.$anonfun$map$1(TraversableLike.scala:286)\n\tat scala.collection.IndexedSeqOptimized.foreach(IndexedSeqOptimized.scala:36)\n\tat scala.collection.IndexedSeqOptimized.foreach$(IndexedSeqOptimized.scala:33)\n\tat scala.collection.mutable.ArrayOps$ofRef.foreach(ArrayOps.scala:198)\n\tat scala.collection.TraversableLike.map(TraversableLike.scala:286)\n\tat scala.collection.TraversableLike.map$(TraversableLike.scala:279)\n\tat scala.collection.mutable.ArrayOps$ofRef.map(ArrayOps.scala:198)\n\tat com.databricks.sql.transaction.tahoe.schema.SchemaMergingUtils$.merge$1(SchemaMergingUtils.scala:204)\n\tat com.databricks.sql.transaction.tahoe.schema.SchemaMergingUtils$.mergeDataTypes(SchemaMergingUtils.scala:308)\n\tat com.databricks.sql.transaction.tahoe.schema.SchemaMergingUtils$.mergeSchemas(SchemaMergingUtils.scala:169)\n\tat com.databricks.sql.transaction.tahoe.schema.ImplicitMetadataOperation$.mergeSchema(ImplicitMetadataOperation.scala:357)\n\tat com.databricks.sql.transaction.tahoe.schema.ImplicitMetadataOperation.updateMetadata(ImplicitMetadataOperation.scala:111)\n\tat com.databricks.sql.transaction.tahoe.schema.ImplicitMetadataOperation.updateMetadata$(ImplicitMetadataOperation.scala:91)\n\tat com.databricks.sql.transaction.tahoe.commands.WriteIntoDeltaEdge.updateMetadata(WriteIntoDeltaEdge.scala:111)\n\tat com.databricks.sql.transaction.tahoe.commands.WriteIntoDeltaEdge.writeAndReturnCommitDataAndMaterializationPlans(WriteIntoDeltaEdge.scala:313)\n\tat com.databricks.sql.transaction.tahoe.commands.WriteIntoDeltaEdge.writeAndReturnCommitData(WriteIntoDeltaEdge.scala:209)\n\tat com.databricks.sql.transaction.tahoe.commands.CreateDeltaTableCommand.doDeltaWrite$1(CreateDeltaTableCommand.scala:621)\n\tat com.databricks.sql.transaction.tahoe.commands.CreateDeltaTableCommand.handleCreateTableAsSelect(CreateDeltaTableCommand.scala:705)\n\tat com.databricks.sql.transaction.tahoe.commands.CreateDeltaTableCommand.$anonfun$handleCommit$1(CreateDeltaTableCommand.scala:390)\n\tat com.databricks.sql.transaction.tahoe.OptimisticTransaction$.withActive(OptimisticTransaction.scala:254)\n\tat com.databricks.sql.transaction.tahoe.commands.CreateDeltaTableCommand.handleCommit(CreateDeltaTableCommand.scala:371)\n\tat com.databricks.sql.transaction.tahoe.commands.CreateDeltaTableCommand.$anonfun$run$9(CreateDeltaTableCommand.scala:294)\n\tat org.apache.spark.sql.catalyst.SQLConfHelper.withSQLConf(SQLConfHelper.scala:75)\n\tat org.apache.spark.sql.catalyst.SQLConfHelper.withSQLConf$(SQLConfHelper.scala:38)\n\tat org.apache.spark.sql.catalyst.plans.QueryPlan.withSQLConf(QueryPlan.scala:56)\n\tat com.databricks.sql.transaction.tahoe.commands.CreateDeltaTableCommand.$anonfun$run$5(CreateDeltaTableCommand.scala:290)\n\tat com.databricks.sql.transaction.tahoe.metering.DeltaLogging.withOperationTypeTag(DeltaLogging.scala:325)\n\tat com.databricks.sql.transaction.tahoe.metering.DeltaLogging.withOperationTypeTag$(DeltaLogging.scala:312)\n\tat com.databricks.sql.transaction.tahoe.commands.CreateDeltaTableCommand.withOperationTypeTag(CreateDeltaTableCommand.scala:88)\n\tat com.databricks.sql.transaction.tahoe.metering.DeltaLogging.$anonfun$recordDeltaOperationInternal$2(DeltaLogging.scala:178)\n\tat com.databricks.spark.util.FrameProfiler$.record(FrameProfiler.scala:94)\n\tat com.databricks.sql.transaction.tahoe.metering.DeltaLogging.recordFrameProfile(DeltaLogging.scala:418)\n\tat com.databricks.sql.transaction.tahoe.metering.DeltaLogging.recordFrameProfile$(DeltaLogging.scala:416)\n\tat com.databricks.sql.transaction.tahoe.commands.CreateDeltaTableCommand.recordFrameProfile(CreateDeltaTableCommand.scala:88)\n\tat com.databricks.sql.transaction.tahoe.metering.DeltaLogging.$anonfun$recordDeltaOperationInternal$1(DeltaLogging.scala:177)\n\tat com.databricks.logging.UsageLogging.$anonfun$recordOperation$1(UsageLogging.scala:510)\n\tat com.databricks.logging.UsageLogging.executeThunkAndCaptureResultTags$1(UsageLogging.scala:616)\n\tat com.databricks.logging.UsageLogging.$anonfun$recordOperationWithResultTags$4(UsageLogging.scala:643)\n\tat com.databricks.logging.AttributionContextTracing.$anonfun$withAttributionContext$1(AttributionContextTracing.scala:49)\n\tat com.databricks.logging.AttributionContext$.$anonfun$withValue$1(AttributionContext.scala:293)\n\tat scala.util.DynamicVariable.withValue(DynamicVariable.scala:62)\n\tat com.databricks.logging.AttributionContext$.withValue(AttributionContext.scala:289)\n\tat com.databricks.logging.AttributionContextTracing.withAttributionContext(AttributionContextTracing.scala:47)\n\tat com.databricks.logging.AttributionContextTracing.withAttributionContext$(AttributionContextTracing.scala:44)\n\tat com.databricks.spark.util.PublicDBLogging.withAttributionContext(DatabricksSparkUsageLogger.scala:30)\n\tat com.databricks.logging.AttributionContextTracing.withAttributionTags(AttributionContextTracing.scala:96)\n\tat com.databricks.logging.AttributionContextTracing.withAttributionTags$(AttributionContextTracing.scala:77)\n\tat com.databricks.spark.util.PublicDBLogging.withAttributionTags(DatabricksSparkUsageLogger.scala:30)\n\tat com.databricks.logging.UsageLogging.recordOperationWithResultTags(UsageLogging.scala:611)\n\tat com.databricks.logging.UsageLogging.recordOperationWithResultTags$(UsageLogging.scala:519)\n\tat com.databricks.spark.util.PublicDBLogging.recordOperationWithResultTags(DatabricksSparkUsageLogger.scala:30)\n\tat com.databricks.logging.UsageLogging.recordOperation(UsageLogging.scala:511)\n\tat com.databricks.logging.UsageLogging.recordOperation$(UsageLogging.scala:475)\n\tat com.databricks.spark.util.PublicDBLogging.recordOperation(DatabricksSparkUsageLogger.scala:30)\n\tat com.databricks.spark.util.PublicDBLogging.recordOperation0(DatabricksSparkUsageLogger.scala:120)\n\tat com.databricks.spark.util.DatabricksSparkUsageLogger.recordOperation(DatabricksSparkUsageLogger.scala:210)\n\tat com.databricks.spark.util.UsageLogger.recordOperation(UsageLogger.scala:78)\n\tat com.databricks.spark.util.UsageLogger.recordOperation$(UsageLogger.scala:65)\n\tat com.databricks.spark.util.DatabricksSparkUsageLogger.recordOperation(DatabricksSparkUsageLogger.scala:169)\n\tat com.databricks.spark.util.UsageLogging.recordOperation(UsageLogger.scala:537)\n\tat com.databricks.spark.util.UsageLogging.recordOperation$(UsageLogger.scala:516)\n\tat com.databricks.sql.transaction.tahoe.commands.CreateDeltaTableCommand.recordOperation(CreateDeltaTableCommand.scala:88)\n\tat com.databricks.sql.transaction.tahoe.metering.DeltaLogging.recordDeltaOperationInternal(DeltaLogging.scala:176)\n\tat com.databricks.sql.transaction.tahoe.metering.DeltaLogging.recordDeltaOperation(DeltaLogging.scala:166)\n\tat com.databricks.sql.transaction.tahoe.metering.DeltaLogging.recordDeltaOperation$(DeltaLogging.scala:155)\n\tat com.databricks.sql.transaction.tahoe.commands.CreateDeltaTableCommand.recordDeltaOperation(CreateDeltaTableCommand.scala:88)\n\tat com.databricks.sql.transaction.tahoe.commands.CreateDeltaTableCommand.run(CreateDeltaTableCommand.scala:251)\n\tat com.databricks.sql.transaction.tahoe.catalog.DeltaCatalog.$anonfun$createDeltaTable$1(DeltaCatalog.scala:642)\n\tat com.databricks.spark.util.FrameProfiler$.record(FrameProfiler.scala:94)\n\tat com.databricks.sql.transaction.tahoe.metering.DeltaLogging.recordFrameProfile(DeltaLogging.scala:418)\n\tat com.databricks.sql.transaction.tahoe.metering.DeltaLogging.recordFrameProfile$(DeltaLogging.scala:416)\n\tat com.databricks.sql.transaction.tahoe.catalog.DeltaCatalog.recordFrameProfile(DeltaCatalog.scala:140)\n\tat com.databricks.sql.transaction.tahoe.catalog.DeltaCatalog.com$databricks$sql$transaction$tahoe$catalog$DeltaCatalog$$createDeltaTable(DeltaCatalog.scala:266)\n\tat com.databricks.sql.transaction.tahoe.catalog.DeltaCatalog$StagedDeltaTableV2.$anonfun$commitStagedChanges$1(DeltaCatalog.scala:1639)\n\tat com.databricks.spark.util.FrameProfiler$.record(FrameProfiler.scala:94)\n\tat com.databricks.sql.transaction.tahoe.metering.DeltaLogging.recordFrameProfile(DeltaLogging.scala:418)\n\tat com.databricks.sql.transaction.tahoe.metering.DeltaLogging.recordFrameProfile$(DeltaLogging.scala:416)\n\tat com.databricks.sql.transaction.tahoe.catalog.DeltaCatalog.recordFrameProfile(DeltaCatalog.scala:140)\n\tat com.databricks.sql.transaction.tahoe.catalog.DeltaCatalog$StagedDeltaTableV2.commitStagedChanges(DeltaCatalog.scala:1598)\n\tat org.apache.spark.sql.execution.datasources.v2.DataSourceV2Utils$.commitStagedChanges(DataSourceV2Utils.scala:314)\n\tat org.apache.spark.sql.execution.datasources.v2.V2CreateTableAsSelectBaseExec.$anonfun$writeToTable$6(WriteToDataSourceV2Exec.scala:812)\n\tat scala.runtime.java8.JFunction0$mcV$sp.apply(JFunction0$mcV$sp.java:23)\n\tat org.apache.spark.sql.execution.datasources.v2.WriteToDataSourceV2Exec$.handleConcurrentCreateExceptions(WriteToDataSourceV2Exec.scala:73)\n\tat org.apache.spark.sql.execution.datasources.v2.V2CreateTableAsSelectBaseExec.$anonfun$writeToTable$2(WriteToDataSourceV2Exec.scala:812)\n\tat org.apache.spark.util.Utils$.tryWithSafeFinallyAndFailureCallbacks(Utils.scala:1629)\n\tat org.apache.spark.sql.execution.datasources.v2.V2CreateTableAsSelectBaseExec.$anonfun$writeToTable$1(WriteToDataSourceV2Exec.scala:799)\n\tat com.databricks.spark.util.FrameProfiler$.record(FrameProfiler.scala:94)\n\tat org.apache.spark.sql.execution.datasources.v2.V2CreateTableAsSelectBaseExec.writeToTable(WriteToDataSourceV2Exec.scala:816)\n\tat org.apache.spark.sql.execution.datasources.v2.V2CreateTableAsSelectBaseExec.writeToTable$(WriteToDataSourceV2Exec.scala:791)\n\tat org.apache.spark.sql.execution.datasources.v2.AtomicReplaceTableAsSelectExec.writeToTable(WriteToDataSourceV2Exec.scala:262)\n\tat org.apache.spark.sql.execution.datasources.v2.AtomicReplaceTableAsSelectExec.run(WriteToDataSourceV2Exec.scala:325)\n\tat org.apache.spark.sql.execution.datasources.v2.V2CommandExec.$anonfun$result$2(V2CommandExec.scala:48)\n\tat org.apache.spark.sql.execution.SparkPlan.runCommandInAetherOrSpark(SparkPlan.scala:194)\n\tat org.apache.spark.sql.execution.datasources.v2.V2CommandExec.$anonfun$result$1(V2CommandExec.scala:48)\n\tat com.databricks.spark.util.FrameProfiler$.record(FrameProfiler.scala:94)\n\tat org.apache.spark.sql.execution.datasources.v2.V2CommandExec.result$lzycompute(V2CommandExec.scala:47)\n\tat org.apache.spark.sql.execution.datasources.v2.V2CommandExec.result(V2CommandExec.scala:45)\n\tat org.apache.spark.sql.execution.datasources.v2.V2CommandExec.executeCollect(V2CommandExec.scala:56)\n\tat org.apache.spark.sql.execution.QueryExecution.$anonfun$eagerlyExecuteCommands$5(QueryExecution.scala:450)\n\tat com.databricks.util.LexicalThreadLocal$Handle.runWith(LexicalThreadLocal.scala:63)\n\tat org.apache.spark.sql.execution.QueryExecution.$anonfun$eagerlyExecuteCommands$4(QueryExecution.scala:450)\n\tat org.apache.spark.sql.catalyst.QueryPlanningTracker$.withTracker(QueryPlanningTracker.scala:216)\n\tat org.apache.spark.sql.execution.QueryExecution.$anonfun$eagerlyExecuteCommands$3(QueryExecution.scala:449)\n\tat org.apache.spark.sql.execution.SQLExecution$.$anonfun$withNewExecutionId0$11(SQLExecution.scala:477)\n\tat com.databricks.sql.util.MemoryTrackerHelper.withMemoryTracking(MemoryTrackerHelper.scala:80)\n\tat org.apache.spark.sql.execution.SQLExecution$.$anonfun$withNewExecutionId0$10(SQLExecution.scala:413)\n\tat org.apache.spark.sql.execution.SQLExecution$.withSQLConfPropagated(SQLExecution.scala:776)\n\tat org.apache.spark.sql.execution.SQLExecution$.$anonfun$withNewExecutionId0$1(SQLExecution.scala:343)\n\tat org.apache.spark.sql.SparkSession.withActive(SparkSession.scala:1450)\n\tat org.apache.spark.sql.execution.SQLExecution$.withNewExecutionId0(SQLExecution.scala:212)\n\tat org.apache.spark.sql.execution.SQLExecution$.withNewExecutionId(SQLExecution.scala:713)\n\tat org.apache.spark.sql.execution.QueryExecution.$anonfun$eagerlyExecuteCommands$2(QueryExecution.scala:445)\n\tat org.apache.spark.sql.execution.QueryExecution$.withInternalError(QueryExecution.scala:1308)\n\tat org.apache.spark.sql.execution.QueryExecution.$anonfun$eagerlyExecuteCommands$1(QueryExecution.scala:441)\n\tat org.apache.spark.sql.execution.QueryExecution.withMVTagsIfNecessary(QueryExecution.scala:370)\n\tat org.apache.spark.sql.execution.QueryExecution.org$apache$spark$sql$execution$QueryExecution$$eagerlyExecute$1(QueryExecution.scala:439)\n\tat org.apache.spark.sql.execution.QueryExecution$$anonfun$$nestedInanonfun$eagerlyExecuteCommands$8$1.applyOrElse(QueryExecution.scala:503)\n\tat org.apache.spark.sql.execution.QueryExecution$$anonfun$$nestedInanonfun$eagerlyExecuteCommands$8$1.applyOrElse(QueryExecution.scala:498)\n\tat org.apache.spark.sql.catalyst.trees.TreeNode.$anonfun$transformDownWithPruning$1(TreeNode.scala:521)\n\tat org.apache.spark.sql.catalyst.trees.CurrentOrigin$.withOrigin(origin.scala:85)\n\tat org.apache.spark.sql.catalyst.trees.TreeNode.transformDownWithPruning(TreeNode.scala:521)\n\tat org.apache.spark.sql.catalyst.plans.logical.LogicalPlan.org$apache$spark$sql$catalyst$plans$logical$AnalysisHelper$$super$transformDownWithPruning(LogicalPlan.scala:42)\n\tat org.apache.spark.sql.catalyst.plans.logical.AnalysisHelper.transformDownWithPruning(AnalysisHelper.scala:361)\n\tat org.apache.spark.sql.catalyst.plans.logical.AnalysisHelper.transformDownWithPruning$(AnalysisHelper.scala:357)\n\tat org.apache.spark.sql.catalyst.plans.logical.LogicalPlan.transformDownWithPruning(LogicalPlan.scala:42)\n\tat org.apache.spark.sql.catalyst.plans.logical.LogicalPlan.transformDownWithPruning(LogicalPlan.scala:42)\n\tat org.apache.spark.sql.catalyst.trees.TreeNode.transformDown(TreeNode.scala:497)\n\tat org.apache.spark.sql.execution.QueryExecution.$anonfun$eagerlyExecuteCommands$8(QueryExecution.scala:498)\n\tat org.apache.spark.sql.catalyst.plans.logical.AnalysisHelper$.allowInvokingTransformsInAnalyzer(AnalysisHelper.scala:418)\n\tat org.apache.spark.sql.execution.QueryExecution.eagerlyExecuteCommands(QueryExecution.scala:498)\n\tat org.apache.spark.sql.execution.QueryExecution.$anonfun$lazyCommandExecuted$1(QueryExecution.scala:326)\n\tat scala.util.Try$.apply(Try.scala:213)\n\tat org.apache.spark.util.Utils$.doTryWithCallerStacktrace(Utils.scala:1684)\n\tat org.apache.spark.util.LazyTry.tryT$lzycompute(LazyTry.scala:46)\n\tat org.apache.spark.util.LazyTry.tryT(LazyTry.scala:46)\n\tat org.apache.spark.util.LazyTry.get(LazyTry.scala:58)\n\tat org.apache.spark.sql.execution.QueryExecution.commandExecuted(QueryExecution.scala:331)\n\tat org.apache.spark.sql.execution.QueryExecution.assertCommandExecuted(QueryExecution.scala:528)\n\tat org.apache.spark.sql.DataFrameWriter.runCommand(DataFrameWriter.scala:1164)\n\tat org.apache.spark.sql.DataFrameWriter.saveAsTable(DataFrameWriter.scala:845)\n\tat org.apache.spark.sql.DataFrameWriter.saveAsTable(DataFrameWriter.scala:749)\n\tat org.apache.spark.sql.connect.planner.SparkConnectPlanner.handleWriteOperation(SparkConnectPlanner.scala:3874)\n\tat org.apache.spark.sql.connect.planner.SparkConnectPlanner.process(SparkConnectPlanner.scala:3362)\n\tat org.apache.spark.sql.connect.execution.ExecuteThreadRunner.handleCommand(ExecuteThreadRunner.scala:413)\n\tat org.apache.spark.sql.connect.execution.ExecuteThreadRunner.$anonfun$executeInternal$1(ExecuteThreadRunner.scala:312)\n\tat org.apache.spark.sql.connect.execution.ExecuteThreadRunner.$anonfun$executeInternal$1$adapted(ExecuteThreadRunner.scala:233)\n\tat org.apache.spark.sql.connect.service.SessionHolder.$anonfun$withSession$2(SessionHolder.scala:464)\n\tat org.apache.spark.sql.SparkSession.withActive(SparkSession.scala:1450)\n\tat org.apache.spark.sql.connect.service.SessionHolder.$anonfun$withSession$1(SessionHolder.scala:464)\n\tat org.apache.spark.JobArtifactSet$.withActiveJobArtifactState(JobArtifactSet.scala:97)\n\tat org.apache.spark.sql.artifact.ArtifactManager.$anonfun$withResources$1(ArtifactManager.scala:90)\n\tat org.apache.spark.util.Utils$.withContextClassLoader(Utils.scala:241)\n\tat org.apache.spark.sql.artifact.ArtifactManager.withResources(ArtifactManager.scala:89)\n\tat org.apache.spark.sql.connect.service.SessionHolder.withSession(SessionHolder.scala:463)\n\tat org.apache.spark.sql.connect.execution.ExecuteThreadRunner.executeInternal(ExecuteThreadRunner.scala:233)\n\tat org.apache.spark.sql.connect.execution.ExecuteThreadRunner.org$apache$spark$sql$connect$execution$ExecuteThreadRunner$$execute(ExecuteThreadRunner.scala:139)\n\tat org.apache.spark.sql.connect.execution.ExecuteThreadRunner$ExecutionThread.$anonfun$run$2(ExecuteThreadRunner.scala:614)\n\tat scala.runtime.java8.JFunction0$mcV$sp.apply(JFunction0$mcV$sp.java:23)\n\tat com.databricks.unity.UCSEphemeralState$Handle.runWith(UCSEphemeralState.scala:51)\n\tat com.databricks.unity.HandleImpl.runWith(UCSHandle.scala:104)\n\tat com.databricks.unity.HandleImpl.$anonfun$runWithAndClose$1(UCSHandle.scala:109)\n\tat scala.util.Using$.resource(Using.scala:269)\n\tat com.databricks.unity.HandleImpl.runWithAndClose(UCSHandle.scala:108)\n\tat org.apache.spark.sql.connect.execution.ExecuteThreadRunner$ExecutionThread.run(ExecuteThreadRunner.scala:614)"
        },
        "metadata": {},
        "removedWidgets": [],
        "sqlProps": {
         "errorClass": "DELTA_FAILED_TO_MERGE_FIELDS",
         "pysparkCallSite": "",
         "pysparkFragment": "",
         "pysparkSummary": null,
         "sqlState": "22005",
         "stackTrace": "com.databricks.sql.transaction.tahoe.DeltaAnalysisException\n\tat com.databricks.sql.transaction.tahoe.schema.SchemaMergingUtils$.$anonfun$mergeDataTypes$1(SchemaMergingUtils.scala:215)\n\tat scala.collection.TraversableLike.$anonfun$map$1(TraversableLike.scala:286)\n\tat scala.collection.IndexedSeqOptimized.foreach(IndexedSeqOptimized.scala:36)\n\tat scala.collection.IndexedSeqOptimized.foreach$(IndexedSeqOptimized.scala:33)\n\tat scala.collection.mutable.ArrayOps$ofRef.foreach(ArrayOps.scala:198)\n\tat scala.collection.TraversableLike.map(TraversableLike.scala:286)\n\tat scala.collection.TraversableLike.map$(TraversableLike.scala:279)\n\tat scala.collection.mutable.ArrayOps$ofRef.map(ArrayOps.scala:198)\n\tat com.databricks.sql.transaction.tahoe.schema.SchemaMergingUtils$.merge$1(SchemaMergingUtils.scala:204)\n\tat com.databricks.sql.transaction.tahoe.schema.SchemaMergingUtils$.mergeDataTypes(SchemaMergingUtils.scala:308)\n\tat com.databricks.sql.transaction.tahoe.schema.SchemaMergingUtils$.mergeSchemas(SchemaMergingUtils.scala:169)\n\tat com.databricks.sql.transaction.tahoe.schema.ImplicitMetadataOperation$.mergeSchema(ImplicitMetadataOperation.scala:357)\n\tat com.databricks.sql.transaction.tahoe.schema.ImplicitMetadataOperation.updateMetadata(ImplicitMetadataOperation.scala:111)\n\tat com.databricks.sql.transaction.tahoe.schema.ImplicitMetadataOperation.updateMetadata$(ImplicitMetadataOperation.scala:91)\n\tat com.databricks.sql.transaction.tahoe.commands.WriteIntoDeltaEdge.updateMetadata(WriteIntoDeltaEdge.scala:111)\n\tat com.databricks.sql.transaction.tahoe.commands.WriteIntoDeltaEdge.writeAndReturnCommitDataAndMaterializationPlans(WriteIntoDeltaEdge.scala:313)\n\tat com.databricks.sql.transaction.tahoe.commands.WriteIntoDeltaEdge.writeAndReturnCommitData(WriteIntoDeltaEdge.scala:209)\n\tat com.databricks.sql.transaction.tahoe.commands.CreateDeltaTableCommand.doDeltaWrite$1(CreateDeltaTableCommand.scala:621)\n\tat com.databricks.sql.transaction.tahoe.commands.CreateDeltaTableCommand.handleCreateTableAsSelect(CreateDeltaTableCommand.scala:705)\n\tat com.databricks.sql.transaction.tahoe.commands.CreateDeltaTableCommand.$anonfun$handleCommit$1(CreateDeltaTableCommand.scala:390)\n\tat com.databricks.sql.transaction.tahoe.OptimisticTransaction$.withActive(OptimisticTransaction.scala:254)\n\tat com.databricks.sql.transaction.tahoe.commands.CreateDeltaTableCommand.handleCommit(CreateDeltaTableCommand.scala:371)\n\tat com.databricks.sql.transaction.tahoe.commands.CreateDeltaTableCommand.$anonfun$run$9(CreateDeltaTableCommand.scala:294)\n\tat org.apache.spark.sql.catalyst.SQLConfHelper.withSQLConf(SQLConfHelper.scala:75)\n\tat org.apache.spark.sql.catalyst.SQLConfHelper.withSQLConf$(SQLConfHelper.scala:38)\n\tat org.apache.spark.sql.catalyst.plans.QueryPlan.withSQLConf(QueryPlan.scala:56)\n\tat com.databricks.sql.transaction.tahoe.commands.CreateDeltaTableCommand.$anonfun$run$5(CreateDeltaTableCommand.scala:290)\n\tat com.databricks.sql.transaction.tahoe.metering.DeltaLogging.withOperationTypeTag(DeltaLogging.scala:325)\n\tat com.databricks.sql.transaction.tahoe.metering.DeltaLogging.withOperationTypeTag$(DeltaLogging.scala:312)\n\tat com.databricks.sql.transaction.tahoe.commands.CreateDeltaTableCommand.withOperationTypeTag(CreateDeltaTableCommand.scala:88)\n\tat com.databricks.sql.transaction.tahoe.metering.DeltaLogging.$anonfun$recordDeltaOperationInternal$2(DeltaLogging.scala:178)\n\tat com.databricks.spark.util.FrameProfiler$.record(FrameProfiler.scala:94)\n\tat com.databricks.sql.transaction.tahoe.metering.DeltaLogging.recordFrameProfile(DeltaLogging.scala:418)\n\tat com.databricks.sql.transaction.tahoe.metering.DeltaLogging.recordFrameProfile$(DeltaLogging.scala:416)\n\tat com.databricks.sql.transaction.tahoe.commands.CreateDeltaTableCommand.recordFrameProfile(CreateDeltaTableCommand.scala:88)\n\tat com.databricks.sql.transaction.tahoe.metering.DeltaLogging.$anonfun$recordDeltaOperationInternal$1(DeltaLogging.scala:177)\n\tat com.databricks.logging.UsageLogging.$anonfun$recordOperation$1(UsageLogging.scala:510)\n\tat com.databricks.logging.UsageLogging.executeThunkAndCaptureResultTags$1(UsageLogging.scala:616)\n\tat com.databricks.logging.UsageLogging.$anonfun$recordOperationWithResultTags$4(UsageLogging.scala:643)\n\tat com.databricks.logging.AttributionContextTracing.$anonfun$withAttributionContext$1(AttributionContextTracing.scala:49)\n\tat com.databricks.logging.AttributionContext$.$anonfun$withValue$1(AttributionContext.scala:293)\n\tat scala.util.DynamicVariable.withValue(DynamicVariable.scala:62)\n\tat com.databricks.logging.AttributionContext$.withValue(AttributionContext.scala:289)\n\tat com.databricks.logging.AttributionContextTracing.withAttributionContext(AttributionContextTracing.scala:47)\n\tat com.databricks.logging.AttributionContextTracing.withAttributionContext$(AttributionContextTracing.scala:44)\n\tat com.databricks.spark.util.PublicDBLogging.withAttributionContext(DatabricksSparkUsageLogger.scala:30)\n\tat com.databricks.logging.AttributionContextTracing.withAttributionTags(AttributionContextTracing.scala:96)\n\tat com.databricks.logging.AttributionContextTracing.withAttributionTags$(AttributionContextTracing.scala:77)\n\tat com.databricks.spark.util.PublicDBLogging.withAttributionTags(DatabricksSparkUsageLogger.scala:30)\n\tat com.databricks.logging.UsageLogging.recordOperationWithResultTags(UsageLogging.scala:611)\n\tat com.databricks.logging.UsageLogging.recordOperationWithResultTags$(UsageLogging.scala:519)\n\tat com.databricks.spark.util.PublicDBLogging.recordOperationWithResultTags(DatabricksSparkUsageLogger.scala:30)\n\tat com.databricks.logging.UsageLogging.recordOperation(UsageLogging.scala:511)\n\tat com.databricks.logging.UsageLogging.recordOperation$(UsageLogging.scala:475)\n\tat com.databricks.spark.util.PublicDBLogging.recordOperation(DatabricksSparkUsageLogger.scala:30)\n\tat com.databricks.spark.util.PublicDBLogging.recordOperation0(DatabricksSparkUsageLogger.scala:120)\n\tat com.databricks.spark.util.DatabricksSparkUsageLogger.recordOperation(DatabricksSparkUsageLogger.scala:210)\n\tat com.databricks.spark.util.UsageLogger.recordOperation(UsageLogger.scala:78)\n\tat com.databricks.spark.util.UsageLogger.recordOperation$(UsageLogger.scala:65)\n\tat com.databricks.spark.util.DatabricksSparkUsageLogger.recordOperation(DatabricksSparkUsageLogger.scala:169)\n\tat com.databricks.spark.util.UsageLogging.recordOperation(UsageLogger.scala:537)\n\tat com.databricks.spark.util.UsageLogging.recordOperation$(UsageLogger.scala:516)\n\tat com.databricks.sql.transaction.tahoe.commands.CreateDeltaTableCommand.recordOperation(CreateDeltaTableCommand.scala:88)\n\tat com.databricks.sql.transaction.tahoe.metering.DeltaLogging.recordDeltaOperationInternal(DeltaLogging.scala:176)\n\tat com.databricks.sql.transaction.tahoe.metering.DeltaLogging.recordDeltaOperation(DeltaLogging.scala:166)\n\tat com.databricks.sql.transaction.tahoe.metering.DeltaLogging.recordDeltaOperation$(DeltaLogging.scala:155)\n\tat com.databricks.sql.transaction.tahoe.commands.CreateDeltaTableCommand.recordDeltaOperation(CreateDeltaTableCommand.scala:88)\n\tat com.databricks.sql.transaction.tahoe.commands.CreateDeltaTableCommand.run(CreateDeltaTableCommand.scala:251)\n\tat com.databricks.sql.transaction.tahoe.catalog.DeltaCatalog.$anonfun$createDeltaTable$1(DeltaCatalog.scala:642)\n\tat com.databricks.spark.util.FrameProfiler$.record(FrameProfiler.scala:94)\n\tat com.databricks.sql.transaction.tahoe.metering.DeltaLogging.recordFrameProfile(DeltaLogging.scala:418)\n\tat com.databricks.sql.transaction.tahoe.metering.DeltaLogging.recordFrameProfile$(DeltaLogging.scala:416)\n\tat com.databricks.sql.transaction.tahoe.catalog.DeltaCatalog.recordFrameProfile(DeltaCatalog.scala:140)\n\tat com.databricks.sql.transaction.tahoe.catalog.DeltaCatalog.com$databricks$sql$transaction$tahoe$catalog$DeltaCatalog$$createDeltaTable(DeltaCatalog.scala:266)\n\tat com.databricks.sql.transaction.tahoe.catalog.DeltaCatalog$StagedDeltaTableV2.$anonfun$commitStagedChanges$1(DeltaCatalog.scala:1639)\n\tat com.databricks.spark.util.FrameProfiler$.record(FrameProfiler.scala:94)\n\tat com.databricks.sql.transaction.tahoe.metering.DeltaLogging.recordFrameProfile(DeltaLogging.scala:418)\n\tat com.databricks.sql.transaction.tahoe.metering.DeltaLogging.recordFrameProfile$(DeltaLogging.scala:416)\n\tat com.databricks.sql.transaction.tahoe.catalog.DeltaCatalog.recordFrameProfile(DeltaCatalog.scala:140)\n\tat com.databricks.sql.transaction.tahoe.catalog.DeltaCatalog$StagedDeltaTableV2.commitStagedChanges(DeltaCatalog.scala:1598)\n\tat org.apache.spark.sql.execution.datasources.v2.DataSourceV2Utils$.commitStagedChanges(DataSourceV2Utils.scala:314)\n\tat org.apache.spark.sql.execution.datasources.v2.V2CreateTableAsSelectBaseExec.$anonfun$writeToTable$6(WriteToDataSourceV2Exec.scala:812)\n\tat scala.runtime.java8.JFunction0$mcV$sp.apply(JFunction0$mcV$sp.java:23)\n\tat org.apache.spark.sql.execution.datasources.v2.WriteToDataSourceV2Exec$.handleConcurrentCreateExceptions(WriteToDataSourceV2Exec.scala:73)\n\tat org.apache.spark.sql.execution.datasources.v2.V2CreateTableAsSelectBaseExec.$anonfun$writeToTable$2(WriteToDataSourceV2Exec.scala:812)\n\tat org.apache.spark.util.Utils$.tryWithSafeFinallyAndFailureCallbacks(Utils.scala:1629)\n\tat org.apache.spark.sql.execution.datasources.v2.V2CreateTableAsSelectBaseExec.$anonfun$writeToTable$1(WriteToDataSourceV2Exec.scala:799)\n\tat com.databricks.spark.util.FrameProfiler$.record(FrameProfiler.scala:94)\n\tat org.apache.spark.sql.execution.datasources.v2.V2CreateTableAsSelectBaseExec.writeToTable(WriteToDataSourceV2Exec.scala:816)\n\tat org.apache.spark.sql.execution.datasources.v2.V2CreateTableAsSelectBaseExec.writeToTable$(WriteToDataSourceV2Exec.scala:791)\n\tat org.apache.spark.sql.execution.datasources.v2.AtomicReplaceTableAsSelectExec.writeToTable(WriteToDataSourceV2Exec.scala:262)\n\tat org.apache.spark.sql.execution.datasources.v2.AtomicReplaceTableAsSelectExec.run(WriteToDataSourceV2Exec.scala:325)\n\tat org.apache.spark.sql.execution.datasources.v2.V2CommandExec.$anonfun$result$2(V2CommandExec.scala:48)\n\tat org.apache.spark.sql.execution.SparkPlan.runCommandInAetherOrSpark(SparkPlan.scala:194)\n\tat org.apache.spark.sql.execution.datasources.v2.V2CommandExec.$anonfun$result$1(V2CommandExec.scala:48)\n\tat com.databricks.spark.util.FrameProfiler$.record(FrameProfiler.scala:94)\n\tat org.apache.spark.sql.execution.datasources.v2.V2CommandExec.result$lzycompute(V2CommandExec.scala:47)\n\tat org.apache.spark.sql.execution.datasources.v2.V2CommandExec.result(V2CommandExec.scala:45)\n\tat org.apache.spark.sql.execution.datasources.v2.V2CommandExec.executeCollect(V2CommandExec.scala:56)\n\tat org.apache.spark.sql.execution.QueryExecution.$anonfun$eagerlyExecuteCommands$5(QueryExecution.scala:450)\n\tat com.databricks.util.LexicalThreadLocal$Handle.runWith(LexicalThreadLocal.scala:63)\n\tat org.apache.spark.sql.execution.QueryExecution.$anonfun$eagerlyExecuteCommands$4(QueryExecution.scala:450)\n\tat org.apache.spark.sql.catalyst.QueryPlanningTracker$.withTracker(QueryPlanningTracker.scala:216)\n\tat org.apache.spark.sql.execution.QueryExecution.$anonfun$eagerlyExecuteCommands$3(QueryExecution.scala:449)\n\tat org.apache.spark.sql.execution.SQLExecution$.$anonfun$withNewExecutionId0$11(SQLExecution.scala:477)\n\tat com.databricks.sql.util.MemoryTrackerHelper.withMemoryTracking(MemoryTrackerHelper.scala:80)\n\tat org.apache.spark.sql.execution.SQLExecution$.$anonfun$withNewExecutionId0$10(SQLExecution.scala:413)\n\tat org.apache.spark.sql.execution.SQLExecution$.withSQLConfPropagated(SQLExecution.scala:776)\n\tat org.apache.spark.sql.execution.SQLExecution$.$anonfun$withNewExecutionId0$1(SQLExecution.scala:343)\n\tat org.apache.spark.sql.SparkSession.withActive(SparkSession.scala:1450)\n\tat org.apache.spark.sql.execution.SQLExecution$.withNewExecutionId0(SQLExecution.scala:212)\n\tat org.apache.spark.sql.execution.SQLExecution$.withNewExecutionId(SQLExecution.scala:713)\n\tat org.apache.spark.sql.execution.QueryExecution.$anonfun$eagerlyExecuteCommands$2(QueryExecution.scala:445)\n\tat org.apache.spark.sql.execution.QueryExecution$.withInternalError(QueryExecution.scala:1308)\n\tat org.apache.spark.sql.execution.QueryExecution.$anonfun$eagerlyExecuteCommands$1(QueryExecution.scala:441)\n\tat org.apache.spark.sql.execution.QueryExecution.withMVTagsIfNecessary(QueryExecution.scala:370)\n\tat org.apache.spark.sql.execution.QueryExecution.org$apache$spark$sql$execution$QueryExecution$$eagerlyExecute$1(QueryExecution.scala:439)\n\tat org.apache.spark.sql.execution.QueryExecution$$anonfun$$nestedInanonfun$eagerlyExecuteCommands$8$1.applyOrElse(QueryExecution.scala:503)\n\tat org.apache.spark.sql.execution.QueryExecution$$anonfun$$nestedInanonfun$eagerlyExecuteCommands$8$1.applyOrElse(QueryExecution.scala:498)\n\tat org.apache.spark.sql.catalyst.trees.TreeNode.$anonfun$transformDownWithPruning$1(TreeNode.scala:521)\n\tat org.apache.spark.sql.catalyst.trees.CurrentOrigin$.withOrigin(origin.scala:85)\n\tat org.apache.spark.sql.catalyst.trees.TreeNode.transformDownWithPruning(TreeNode.scala:521)\n\tat org.apache.spark.sql.catalyst.plans.logical.LogicalPlan.org$apache$spark$sql$catalyst$plans$logical$AnalysisHelper$$super$transformDownWithPruning(LogicalPlan.scala:42)\n\tat org.apache.spark.sql.catalyst.plans.logical.AnalysisHelper.transformDownWithPruning(AnalysisHelper.scala:361)\n\tat org.apache.spark.sql.catalyst.plans.logical.AnalysisHelper.transformDownWithPruning$(AnalysisHelper.scala:357)\n\tat org.apache.spark.sql.catalyst.plans.logical.LogicalPlan.transformDownWithPruning(LogicalPlan.scala:42)\n\tat org.apache.spark.sql.catalyst.plans.logical.LogicalPlan.transformDownWithPruning(LogicalPlan.scala:42)\n\tat org.apache.spark.sql.catalyst.trees.TreeNode.transformDown(TreeNode.scala:497)\n\tat org.apache.spark.sql.execution.QueryExecution.$anonfun$eagerlyExecuteCommands$8(QueryExecution.scala:498)\n\tat org.apache.spark.sql.catalyst.plans.logical.AnalysisHelper$.allowInvokingTransformsInAnalyzer(AnalysisHelper.scala:418)\n\tat org.apache.spark.sql.execution.QueryExecution.eagerlyExecuteCommands(QueryExecution.scala:498)\n\tat org.apache.spark.sql.execution.QueryExecution.$anonfun$lazyCommandExecuted$1(QueryExecution.scala:326)\n\tat scala.util.Try$.apply(Try.scala:213)\n\tat org.apache.spark.util.Utils$.doTryWithCallerStacktrace(Utils.scala:1684)\n\tat org.apache.spark.util.Utils$.getTryWithCallerStacktrace(Utils.scala:1745)\n\tat org.apache.spark.util.LazyTry.get(LazyTry.scala:58)\n\tat org.apache.spark.sql.execution.QueryExecution.commandExecuted(QueryExecution.scala:331)\n\tat org.apache.spark.sql.execution.QueryExecution.assertCommandExecuted(QueryExecution.scala:528)\n\tat org.apache.spark.sql.DataFrameWriter.runCommand(DataFrameWriter.scala:1164)\n\tat org.apache.spark.sql.DataFrameWriter.saveAsTable(DataFrameWriter.scala:845)\n\tat org.apache.spark.sql.DataFrameWriter.saveAsTable(DataFrameWriter.scala:749)\n\tat org.apache.spark.sql.connect.planner.SparkConnectPlanner.handleWriteOperation(SparkConnectPlanner.scala:3874)\n\tat org.apache.spark.sql.connect.planner.SparkConnectPlanner.process(SparkConnectPlanner.scala:3362)\n\tat org.apache.spark.sql.connect.execution.ExecuteThreadRunner.handleCommand(ExecuteThreadRunner.scala:413)\n\tat org.apache.spark.sql.connect.execution.ExecuteThreadRunner.$anonfun$executeInternal$1(ExecuteThreadRunner.scala:312)\n\tat org.apache.spark.sql.connect.execution.ExecuteThreadRunner.$anonfun$executeInternal$1$adapted(ExecuteThreadRunner.scala:233)\n\tat org.apache.spark.sql.connect.service.SessionHolder.$anonfun$withSession$2(SessionHolder.scala:464)\n\tat org.apache.spark.sql.SparkSession.withActive(SparkSession.scala:1450)\n\tat org.apache.spark.sql.connect.service.SessionHolder.$anonfun$withSession$1(SessionHolder.scala:464)\n\tat org.apache.spark.JobArtifactSet$.withActiveJobArtifactState(JobArtifactSet.scala:97)\n\tat org.apache.spark.sql.artifact.ArtifactManager.$anonfun$withResources$1(ArtifactManager.scala:90)\n\tat org.apache.spark.util.Utils$.withContextClassLoader(Utils.scala:241)\n\tat org.apache.spark.sql.artifact.ArtifactManager.withResources(ArtifactManager.scala:89)\n\tat org.apache.spark.sql.connect.service.SessionHolder.withSession(SessionHolder.scala:463)\n\tat org.apache.spark.sql.connect.execution.ExecuteThreadRunner.executeInternal(ExecuteThreadRunner.scala:233)\n\tat org.apache.spark.sql.connect.execution.ExecuteThreadRunner.org$apache$spark$sql$connect$execution$ExecuteThreadRunner$$execute(ExecuteThreadRunner.scala:139)\n\tat org.apache.spark.sql.connect.execution.ExecuteThreadRunner$ExecutionThread.$anonfun$run$2(ExecuteThreadRunner.scala:614)\n\tat scala.runtime.java8.JFunction0$mcV$sp.apply(JFunction0$mcV$sp.java:23)\n\tat com.databricks.unity.UCSEphemeralState$Handle.runWith(UCSEphemeralState.scala:51)\n\tat com.databricks.unity.HandleImpl.runWith(UCSHandle.scala:104)\n\tat com.databricks.unity.HandleImpl.$anonfun$runWithAndClose$1(UCSHandle.scala:109)\n\tat scala.util.Using$.resource(Using.scala:269)\n\tat com.databricks.unity.HandleImpl.runWithAndClose(UCSHandle.scala:108)\n\tat org.apache.spark.sql.connect.execution.ExecuteThreadRunner$ExecutionThread.run(ExecuteThreadRunner.scala:614)\nCaused by: com.databricks.sql.transaction.tahoe.DeltaAnalysisException: [DELTA_MERGE_INCOMPATIBLE_DATATYPE] Failed to merge incompatible data types DateType and TimestampType\n\tat com.databricks.sql.transaction.tahoe.schema.SchemaMergingUtils$.merge$1(SchemaMergingUtils.scala:304)\n\tat com.databricks.sql.transaction.tahoe.schema.SchemaMergingUtils$.$anonfun$mergeDataTypes$1(SchemaMergingUtils.scala:210)\n\tat scala.collection.TraversableLike.$anonfun$map$1(TraversableLike.scala:286)\n\tat scala.collection.IndexedSeqOptimized.foreach(IndexedSeqOptimized.scala:36)\n\tat scala.collection.IndexedSeqOptimized.foreach$(IndexedSeqOptimized.scala:33)\n\tat scala.collection.mutable.ArrayOps$ofRef.foreach(ArrayOps.scala:198)\n\tat scala.collection.TraversableLike.map(TraversableLike.scala:286)\n\tat scala.collection.TraversableLike.map$(TraversableLike.scala:279)\n\tat scala.collection.mutable.ArrayOps$ofRef.map(ArrayOps.scala:198)\n\tat com.databricks.sql.transaction.tahoe.schema.SchemaMergingUtils$.merge$1(SchemaMergingUtils.scala:204)\n\tat com.databricks.sql.transaction.tahoe.schema.SchemaMergingUtils$.mergeDataTypes(SchemaMergingUtils.scala:308)\n\tat com.databricks.sql.transaction.tahoe.schema.SchemaMergingUtils$.mergeSchemas(SchemaMergingUtils.scala:169)\n\tat com.databricks.sql.transaction.tahoe.schema.ImplicitMetadataOperation$.mergeSchema(ImplicitMetadataOperation.scala:357)\n\tat com.databricks.sql.transaction.tahoe.schema.ImplicitMetadataOperation.updateMetadata(ImplicitMetadataOperation.scala:111)\n\tat com.databricks.sql.transaction.tahoe.schema.ImplicitMetadataOperation.updateMetadata$(ImplicitMetadataOperation.scala:91)\n\tat com.databricks.sql.transaction.tahoe.commands.WriteIntoDeltaEdge.updateMetadata(WriteIntoDeltaEdge.scala:111)\n\tat com.databricks.sql.transaction.tahoe.commands.WriteIntoDeltaEdge.writeAndReturnCommitDataAndMaterializationPlans(WriteIntoDeltaEdge.scala:313)\n\tat com.databricks.sql.transaction.tahoe.commands.WriteIntoDeltaEdge.writeAndReturnCommitData(WriteIntoDeltaEdge.scala:209)\n\tat com.databricks.sql.transaction.tahoe.commands.CreateDeltaTableCommand.doDeltaWrite$1(CreateDeltaTableCommand.scala:621)\n\tat com.databricks.sql.transaction.tahoe.commands.CreateDeltaTableCommand.handleCreateTableAsSelect(CreateDeltaTableCommand.scala:705)\n\tat com.databricks.sql.transaction.tahoe.commands.CreateDeltaTableCommand.$anonfun$handleCommit$1(CreateDeltaTableCommand.scala:390)\n\tat com.databricks.sql.transaction.tahoe.OptimisticTransaction$.withActive(OptimisticTransaction.scala:254)\n\tat com.databricks.sql.transaction.tahoe.commands.CreateDeltaTableCommand.handleCommit(CreateDeltaTableCommand.scala:371)\n\tat com.databricks.sql.transaction.tahoe.commands.CreateDeltaTableCommand.$anonfun$run$9(CreateDeltaTableCommand.scala:294)\n\tat org.apache.spark.sql.catalyst.SQLConfHelper.withSQLConf(SQLConfHelper.scala:75)\n\tat org.apache.spark.sql.catalyst.SQLConfHelper.withSQLConf$(SQLConfHelper.scala:38)\n\tat org.apache.spark.sql.catalyst.plans.QueryPlan.withSQLConf(QueryPlan.scala:56)\n\tat com.databricks.sql.transaction.tahoe.commands.CreateDeltaTableCommand.$anonfun$run$5(CreateDeltaTableCommand.scala:290)\n\tat com.databricks.sql.transaction.tahoe.metering.DeltaLogging.withOperationTypeTag(DeltaLogging.scala:325)\n\tat com.databricks.sql.transaction.tahoe.metering.DeltaLogging.withOperationTypeTag$(DeltaLogging.scala:312)\n\tat com.databricks.sql.transaction.tahoe.commands.CreateDeltaTableCommand.withOperationTypeTag(CreateDeltaTableCommand.scala:88)\n\tat com.databricks.sql.transaction.tahoe.metering.DeltaLogging.$anonfun$recordDeltaOperationInternal$2(DeltaLogging.scala:178)\n\tat com.databricks.spark.util.FrameProfiler$.record(FrameProfiler.scala:94)\n\tat com.databricks.sql.transaction.tahoe.metering.DeltaLogging.recordFrameProfile(DeltaLogging.scala:418)\n\tat com.databricks.sql.transaction.tahoe.metering.DeltaLogging.recordFrameProfile$(DeltaLogging.scala:416)\n\tat com.databricks.sql.transaction.tahoe.commands.CreateDeltaTableCommand.recordFrameProfile(CreateDeltaTableCommand.scala:88)\n\tat com.databricks.sql.transaction.tahoe.metering.DeltaLogging.$anonfun$recordDeltaOperationInternal$1(DeltaLogging.scala:177)\n\tat com.databricks.logging.UsageLogging.$anonfun$recordOperation$1(UsageLogging.scala:510)\n\tat com.databricks.logging.UsageLogging.executeThunkAndCaptureResultTags$1(UsageLogging.scala:616)\n\tat com.databricks.logging.UsageLogging.$anonfun$recordOperationWithResultTags$4(UsageLogging.scala:643)\n\tat com.databricks.logging.AttributionContextTracing.$anonfun$withAttributionContext$1(AttributionContextTracing.scala:49)\n\tat com.databricks.logging.AttributionContext$.$anonfun$withValue$1(AttributionContext.scala:293)\n\tat scala.util.DynamicVariable.withValue(DynamicVariable.scala:62)\n\tat com.databricks.logging.AttributionContext$.withValue(AttributionContext.scala:289)\n\tat com.databricks.logging.AttributionContextTracing.withAttributionContext(AttributionContextTracing.scala:47)\n\tat com.databricks.logging.AttributionContextTracing.withAttributionContext$(AttributionContextTracing.scala:44)\n\tat com.databricks.spark.util.PublicDBLogging.withAttributionContext(DatabricksSparkUsageLogger.scala:30)\n\tat com.databricks.logging.AttributionContextTracing.withAttributionTags(AttributionContextTracing.scala:96)\n\tat com.databricks.logging.AttributionContextTracing.withAttributionTags$(AttributionContextTracing.scala:77)\n\tat com.databricks.spark.util.PublicDBLogging.withAttributionTags(DatabricksSparkUsageLogger.scala:30)\n\tat com.databricks.logging.UsageLogging.recordOperationWithResultTags(UsageLogging.scala:611)\n\tat com.databricks.logging.UsageLogging.recordOperationWithResultTags$(UsageLogging.scala:519)\n\tat com.databricks.spark.util.PublicDBLogging.recordOperationWithResultTags(DatabricksSparkUsageLogger.scala:30)\n\tat com.databricks.logging.UsageLogging.recordOperation(UsageLogging.scala:511)\n\tat com.databricks.logging.UsageLogging.recordOperation$(UsageLogging.scala:475)\n\tat com.databricks.spark.util.PublicDBLogging.recordOperation(DatabricksSparkUsageLogger.scala:30)\n\tat com.databricks.spark.util.PublicDBLogging.recordOperation0(DatabricksSparkUsageLogger.scala:120)\n\tat com.databricks.spark.util.DatabricksSparkUsageLogger.recordOperation(DatabricksSparkUsageLogger.scala:210)\n\tat com.databricks.spark.util.UsageLogger.recordOperation(UsageLogger.scala:78)\n\tat com.databricks.spark.util.UsageLogger.recordOperation$(UsageLogger.scala:65)\n\tat com.databricks.spark.util.DatabricksSparkUsageLogger.recordOperation(DatabricksSparkUsageLogger.scala:169)\n\tat com.databricks.spark.util.UsageLogging.recordOperation(UsageLogger.scala:537)\n\tat com.databricks.spark.util.UsageLogging.recordOperation$(UsageLogger.scala:516)\n\tat com.databricks.sql.transaction.tahoe.commands.CreateDeltaTableCommand.recordOperation(CreateDeltaTableCommand.scala:88)\n\tat com.databricks.sql.transaction.tahoe.metering.DeltaLogging.recordDeltaOperationInternal(DeltaLogging.scala:176)\n\tat com.databricks.sql.transaction.tahoe.metering.DeltaLogging.recordDeltaOperation(DeltaLogging.scala:166)\n\tat com.databricks.sql.transaction.tahoe.metering.DeltaLogging.recordDeltaOperation$(DeltaLogging.scala:155)\n\tat com.databricks.sql.transaction.tahoe.commands.CreateDeltaTableCommand.recordDeltaOperation(CreateDeltaTableCommand.scala:88)\n\tat com.databricks.sql.transaction.tahoe.commands.CreateDeltaTableCommand.run(CreateDeltaTableCommand.scala:251)\n\tat com.databricks.sql.transaction.tahoe.catalog.DeltaCatalog.$anonfun$createDeltaTable$1(DeltaCatalog.scala:642)\n\tat com.databricks.spark.util.FrameProfiler$.record(FrameProfiler.scala:94)\n\tat com.databricks.sql.transaction.tahoe.metering.DeltaLogging.recordFrameProfile(DeltaLogging.scala:418)\n\tat com.databricks.sql.transaction.tahoe.metering.DeltaLogging.recordFrameProfile$(DeltaLogging.scala:416)\n\tat com.databricks.sql.transaction.tahoe.catalog.DeltaCatalog.recordFrameProfile(DeltaCatalog.scala:140)\n\tat com.databricks.sql.transaction.tahoe.catalog.DeltaCatalog.com$databricks$sql$transaction$tahoe$catalog$DeltaCatalog$$createDeltaTable(DeltaCatalog.scala:266)\n\tat com.databricks.sql.transaction.tahoe.catalog.DeltaCatalog$StagedDeltaTableV2.$anonfun$commitStagedChanges$1(DeltaCatalog.scala:1639)\n\tat com.databricks.spark.util.FrameProfiler$.record(FrameProfiler.scala:94)\n\tat com.databricks.sql.transaction.tahoe.metering.DeltaLogging.recordFrameProfile(DeltaLogging.scala:418)\n\tat com.databricks.sql.transaction.tahoe.metering.DeltaLogging.recordFrameProfile$(DeltaLogging.scala:416)\n\tat com.databricks.sql.transaction.tahoe.catalog.DeltaCatalog.recordFrameProfile(DeltaCatalog.scala:140)\n\tat com.databricks.sql.transaction.tahoe.catalog.DeltaCatalog$StagedDeltaTableV2.commitStagedChanges(DeltaCatalog.scala:1598)\n\tat org.apache.spark.sql.execution.datasources.v2.DataSourceV2Utils$.commitStagedChanges(DataSourceV2Utils.scala:314)\n\tat org.apache.spark.sql.execution.datasources.v2.V2CreateTableAsSelectBaseExec.$anonfun$writeToTable$6(WriteToDataSourceV2Exec.scala:812)\n\tat scala.runtime.java8.JFunction0$mcV$sp.apply(JFunction0$mcV$sp.java:23)\n\tat org.apache.spark.sql.execution.datasources.v2.WriteToDataSourceV2Exec$.handleConcurrentCreateExceptions(WriteToDataSourceV2Exec.scala:73)\n\tat org.apache.spark.sql.execution.datasources.v2.V2CreateTableAsSelectBaseExec.$anonfun$writeToTable$2(WriteToDataSourceV2Exec.scala:812)\n\tat org.apache.spark.util.Utils$.tryWithSafeFinallyAndFailureCallbacks(Utils.scala:1629)\n\tat org.apache.spark.sql.execution.datasources.v2.V2CreateTableAsSelectBaseExec.$anonfun$writeToTable$1(WriteToDataSourceV2Exec.scala:799)\n\tat com.databricks.spark.util.FrameProfiler$.record(FrameProfiler.scala:94)\n\tat org.apache.spark.sql.execution.datasources.v2.V2CreateTableAsSelectBaseExec.writeToTable(WriteToDataSourceV2Exec.scala:816)\n\tat org.apache.spark.sql.execution.datasources.v2.V2CreateTableAsSelectBaseExec.writeToTable$(WriteToDataSourceV2Exec.scala:791)\n\tat org.apache.spark.sql.execution.datasources.v2.AtomicReplaceTableAsSelectExec.writeToTable(WriteToDataSourceV2Exec.scala:262)\n\tat org.apache.spark.sql.execution.datasources.v2.AtomicReplaceTableAsSelectExec.run(WriteToDataSourceV2Exec.scala:325)\n\tat org.apache.spark.sql.execution.datasources.v2.V2CommandExec.$anonfun$result$2(V2CommandExec.scala:48)\n\tat org.apache.spark.sql.execution.SparkPlan.runCommandInAetherOrSpark(SparkPlan.scala:194)\n\tat org.apache.spark.sql.execution.datasources.v2.V2CommandExec.$anonfun$result$1(V2CommandExec.scala:48)\n\tat com.databricks.spark.util.FrameProfiler$.record(FrameProfiler.scala:94)\n\tat org.apache.spark.sql.execution.datasources.v2.V2CommandExec.result$lzycompute(V2CommandExec.scala:47)\n\tat org.apache.spark.sql.execution.datasources.v2.V2CommandExec.result(V2CommandExec.scala:45)\n\tat org.apache.spark.sql.execution.datasources.v2.V2CommandExec.executeCollect(V2CommandExec.scala:56)\n\tat org.apache.spark.sql.execution.QueryExecution.$anonfun$eagerlyExecuteCommands$5(QueryExecution.scala:450)\n\tat com.databricks.util.LexicalThreadLocal$Handle.runWith(LexicalThreadLocal.scala:63)\n\tat org.apache.spark.sql.execution.QueryExecution.$anonfun$eagerlyExecuteCommands$4(QueryExecution.scala:450)\n\tat org.apache.spark.sql.catalyst.QueryPlanningTracker$.withTracker(QueryPlanningTracker.scala:216)\n\tat org.apache.spark.sql.execution.QueryExecution.$anonfun$eagerlyExecuteCommands$3(QueryExecution.scala:449)\n\tat org.apache.spark.sql.execution.SQLExecution$.$anonfun$withNewExecutionId0$11(SQLExecution.scala:477)\n\tat com.databricks.sql.util.MemoryTrackerHelper.withMemoryTracking(MemoryTrackerHelper.scala:80)\n\tat org.apache.spark.sql.execution.SQLExecution$.$anonfun$withNewExecutionId0$10(SQLExecution.scala:413)\n\tat org.apache.spark.sql.execution.SQLExecution$.withSQLConfPropagated(SQLExecution.scala:776)\n\tat org.apache.spark.sql.execution.SQLExecution$.$anonfun$withNewExecutionId0$1(SQLExecution.scala:343)\n\tat org.apache.spark.sql.SparkSession.withActive(SparkSession.scala:1450)\n\tat org.apache.spark.sql.execution.SQLExecution$.withNewExecutionId0(SQLExecution.scala:212)\n\tat org.apache.spark.sql.execution.SQLExecution$.withNewExecutionId(SQLExecution.scala:713)\n\tat org.apache.spark.sql.execution.QueryExecution.$anonfun$eagerlyExecuteCommands$2(QueryExecution.scala:445)\n\tat org.apache.spark.sql.execution.QueryExecution$.withInternalError(QueryExecution.scala:1308)\n\tat org.apache.spark.sql.execution.QueryExecution.$anonfun$eagerlyExecuteCommands$1(QueryExecution.scala:441)\n\tat org.apache.spark.sql.execution.QueryExecution.withMVTagsIfNecessary(QueryExecution.scala:370)\n\tat org.apache.spark.sql.execution.QueryExecution.org$apache$spark$sql$execution$QueryExecution$$eagerlyExecute$1(QueryExecution.scala:439)\n\tat org.apache.spark.sql.execution.QueryExecution$$anonfun$$nestedInanonfun$eagerlyExecuteCommands$8$1.applyOrElse(QueryExecution.scala:503)\n\tat org.apache.spark.sql.execution.QueryExecution$$anonfun$$nestedInanonfun$eagerlyExecuteCommands$8$1.applyOrElse(QueryExecution.scala:498)\n\tat org.apache.spark.sql.catalyst.trees.TreeNode.$anonfun$transformDownWithPruning$1(TreeNode.scala:521)\n\tat org.apache.spark.sql.catalyst.trees.CurrentOrigin$.withOrigin(origin.scala:85)\n\tat org.apache.spark.sql.catalyst.trees.TreeNode.transformDownWithPruning(TreeNode.scala:521)\n\tat org.apache.spark.sql.catalyst.plans.logical.LogicalPlan.org$apache$spark$sql$catalyst$plans$logical$AnalysisHelper$$super$transformDownWithPruning(LogicalPlan.scala:42)\n\tat org.apache.spark.sql.catalyst.plans.logical.AnalysisHelper.transformDownWithPruning(AnalysisHelper.scala:361)\n\tat org.apache.spark.sql.catalyst.plans.logical.AnalysisHelper.transformDownWithPruning$(AnalysisHelper.scala:357)\n\tat org.apache.spark.sql.catalyst.plans.logical.LogicalPlan.transformDownWithPruning(LogicalPlan.scala:42)\n\tat org.apache.spark.sql.catalyst.plans.logical.LogicalPlan.transformDownWithPruning(LogicalPlan.scala:42)\n\tat org.apache.spark.sql.catalyst.trees.TreeNode.transformDown(TreeNode.scala:497)\n\tat org.apache.spark.sql.execution.QueryExecution.$anonfun$eagerlyExecuteCommands$8(QueryExecution.scala:498)\n\tat org.apache.spark.sql.catalyst.plans.logical.AnalysisHelper$.allowInvokingTransformsInAnalyzer(AnalysisHelper.scala:418)\n\tat org.apache.spark.sql.execution.QueryExecution.eagerlyExecuteCommands(QueryExecution.scala:498)\n\tat org.apache.spark.sql.execution.QueryExecution.$anonfun$lazyCommandExecuted$1(QueryExecution.scala:326)\n\tat scala.util.Try$.apply(Try.scala:213)\n\tat org.apache.spark.util.Utils$.doTryWithCallerStacktrace(Utils.scala:1684)\n\tat org.apache.spark.util.LazyTry.tryT$lzycompute(LazyTry.scala:46)\n\tat org.apache.spark.util.LazyTry.tryT(LazyTry.scala:46)\n\tat org.apache.spark.util.LazyTry.get(LazyTry.scala:58)\n\tat org.apache.spark.sql.execution.QueryExecution.commandExecuted(QueryExecution.scala:331)\n\tat org.apache.spark.sql.execution.QueryExecution.assertCommandExecuted(QueryExecution.scala:528)\n\tat org.apache.spark.sql.DataFrameWriter.runCommand(DataFrameWriter.scala:1164)\n\tat org.apache.spark.sql.DataFrameWriter.saveAsTable(DataFrameWriter.scala:845)\n\tat org.apache.spark.sql.DataFrameWriter.saveAsTable(DataFrameWriter.scala:749)\n\tat org.apache.spark.sql.connect.planner.SparkConnectPlanner.handleWriteOperation(SparkConnectPlanner.scala:3874)\n\tat org.apache.spark.sql.connect.planner.SparkConnectPlanner.process(SparkConnectPlanner.scala:3362)\n\tat org.apache.spark.sql.connect.execution.ExecuteThreadRunner.handleCommand(ExecuteThreadRunner.scala:413)\n\tat org.apache.spark.sql.connect.execution.ExecuteThreadRunner.$anonfun$executeInternal$1(ExecuteThreadRunner.scala:312)\n\tat org.apache.spark.sql.connect.execution.ExecuteThreadRunner.$anonfun$executeInternal$1$adapted(ExecuteThreadRunner.scala:233)\n\tat org.apache.spark.sql.connect.service.SessionHolder.$anonfun$withSession$2(SessionHolder.scala:464)\n\tat org.apache.spark.sql.SparkSession.withActive(SparkSession.scala:1450)\n\tat org.apache.spark.sql.connect.service.SessionHolder.$anonfun$withSession$1(SessionHolder.scala:464)\n\tat org.apache.spark.JobArtifactSet$.withActiveJobArtifactState(JobArtifactSet.scala:97)\n\tat org.apache.spark.sql.artifact.ArtifactManager.$anonfun$withResources$1(ArtifactManager.scala:90)\n\tat org.apache.spark.util.Utils$.withContextClassLoader(Utils.scala:241)\n\tat org.apache.spark.sql.artifact.ArtifactManager.withResources(ArtifactManager.scala:89)\n\tat org.apache.spark.sql.connect.service.SessionHolder.withSession(SessionHolder.scala:463)\n\tat org.apache.spark.sql.connect.execution.ExecuteThreadRunner.executeInternal(ExecuteThreadRunner.scala:233)\n\tat org.apache.spark.sql.connect.execution.ExecuteThreadRunner.org$apache$spark$sql$connect$execution$ExecuteThreadRunner$$execute(ExecuteThreadRunner.scala:139)\n\tat org.apache.spark.sql.connect.execution.ExecuteThreadRunner$ExecutionThread.$anonfun$run$2(ExecuteThreadRunner.scala:614)\n\tat scala.runtime.java8.JFunction0$mcV$sp.apply(JFunction0$mcV$sp.java:23)\n\tat com.databricks.unity.UCSEphemeralState$Handle.runWith(UCSEphemeralState.scala:51)\n\tat com.databricks.unity.HandleImpl.runWith(UCSHandle.scala:104)\n\tat com.databricks.unity.HandleImpl.$anonfun$runWithAndClose$1(UCSHandle.scala:109)\n\tat scala.util.Using$.resource(Using.scala:269)\n\tat com.databricks.unity.HandleImpl.runWithAndClose(UCSHandle.scala:108)\n\tat org.apache.spark.sql.connect.execution.ExecuteThreadRunner$ExecutionThread.run(ExecuteThreadRunner.scala:614)",
         "startIndex": null,
         "stopIndex": null
        },
        "stackFrames": [
         "\u001B[0;31m---------------------------------------------------------------------------\u001B[0m",
         "\u001B[0;31mAnalysisException\u001B[0m                         Traceback (most recent call last)",
         "File \u001B[0;32m<command-7443461647213113>, line 16\u001B[0m\n\u001B[1;32m     12\u001B[0m     exec(base64\u001B[38;5;241m.\u001B[39mstandard_b64decode(\u001B[38;5;124m\"\u001B[39m\u001B[38;5;124mZmluYWxfcmV0X2RmID0gc3Bhcmsuc3FsKCIiIgpXSVRIIGZpcnN0X2FuZF9zZWNvbmRfb3JkZXJzIEFTICgKICAgIFNFTEVDVAogICAgICAgIGN1c3RvbWVyX2lkLAogICAgICAgIG9yZGVyX2RhdGUsCiAgICAgICAgUk9XX05VTUJFUigpIE9WRVIgKFBBUlRJVElPTiBCWSBjdXN0b21lcl9pZCBPUkRFUiBCWSBvcmRlcl9kYXRlKSBBUyBvcmRlcl9yYW5rCiAgICBGUk9NIGNvaG9ydF9iaWdxdWVyeV9hbmFseXNpc19jYXRhbG9nLmNvaG9ydF9kYi5lY29tX29yZGVycwopLAoKY3VzdG9tZXJfb3JkZXJzIEFTICgKICAgIFNFTEVDVAogICAgICAgIGN1c3RvbWVyX2lkLAogICAgICAgIE1JTihDQVNFIFdIRU4gb3JkZXJfcmFuayA9IDEgVEhFTiBvcmRlcl9kYXRlIEVORCkgQVMgZmlyc3RfcHVyY2hhc2VfZGF0ZSwKICAgICAgICBNSU4oQ0FTRSBXSEVOIG9yZGVyX3JhbmsgPSAyIFRIRU4gb3JkZXJfZGF0ZSBFTkQpIEFTIHNlY29uZF9wdXJjaGFzZV9kYXRlCiAgICBGUk9NIGZpcnN0X2FuZF9zZWNvbmRfb3JkZXJzCiAgICBHUk9VUCBCWSBjdXN0b21lcl9pZAopLAoKY29ob3J0cyBBUyAoCiAgICBTRUxFQ1QKICAgICAgICBjdXN0b21lcl9pZCwKICAgICAgICBEQVRFX1RSVU5DKCdtb250aCcsIGZpcnN0X3B1cmNoYXNlX2RhdGUpIEFTIGNvaG9ydF9tb250aCwKICAgICAgICBmaXJzdF9wdXJjaGFzZV9kYXRlLAogICAgICAgIHNlY29uZF9wdXJjaGFzZV9kYXRlLAogICAgICAgIERBVEVESUZGKHNlY29uZF9wdXJjaGFzZV9kYXRlLCBmaXJzdF9wdXJjaGFzZV9kYXRlKSBBUyBkYXlzX2JldHdlZW4KICAgIEZST00gY3VzdG9tZXJfb3JkZXJzCiAgICBXSEVSRSBmaXJzdF9wdXJjaGFzZV9kYXRlIElTIE5PVCBOVUxMCikKClNFTEVDVAogICAgY29ob3J0X21vbnRoLAogICAgQ09VTlQoKikgQVMgdG90YWxfY3VzdG9tZXJzLAogICAgU1VNKENBU0UgV0hFTiBzZWNvbmRfcHVyY2hhc2VfZGF0ZSBJUyBOT1QgTlVMTCBBTkQgZGF5c19iZXR3ZWVuIDw9IDMwIFRIRU4gMSBFTFNFIDAgRU5EKSBBUyBzZWNvbmRfd2l0aGluXzFfbW9udGgsCiAgICBTVU0oQ0FTRSBXSEVOIHNlY29uZF9wdXJjaGFzZV9kYXRlIElTIE5PVCBOVUxMIEFORCBkYXlzX2JldHdlZW4gPD0gNjAgVEhFTiAxIEVMU0UgMCBFTkQpIEFTIHNlY29uZF93aXRoaW5fMl9tb250aHMsCiAgICBTVU0oQ0FTRSBXSEVOIHNlY29uZF9wdXJjaGFzZV9kYXRlIElTIE5PVCBOVUxMIEFORCBkYXlzX2JldHdlZW4gPD0gOTAgVEhFTiAxIEVMU0UgMCBFTkQpIEFTIHNlY29uZF93aXRoaW5fM19tb250aHMsCiAgICBST1VORCgxMDAuMCAqIFNVTShDQVNFIFdIRU4gc2Vjb25kX3B1cmNoYXNlX2RhdGUgSVMgTk9UIE5VTEwgQU5EIGRheXNfYmV0d2VlbiA8PSAzMCBUSEVOIDEgRUxTRSAwIEVORCkgLyBDT1VOVCgqKSwgMSkgQVMgcmV0ZW50aW9uX3JhdGVfMV9tb250aCwKICAgIFJPVU5EKDEwMC4wICogU1VNKENBU0UgV0hFTiBzZWNvbmRfcHVyY2hhc2VfZGF0ZSBJUyBOT1QgTlVMTCBBTkQgZGF5c19iZXR3ZWVuIDw9IDYwIFRIRU4gMSBFTFNFIDAgRU5EKSAvIENPVU5UKCopLCAxKSBBUyByZXRlbnRpb25fcmF0ZV8yX21vbnRocywKICAgIFJPVU5EKDEwMC4wICogU1VNKENBU0UgV0hFTiBzZWNvbmRfcHVyY2hhc2VfZGF0ZSBJUyBOT1QgTlVMTCBBTkQgZGF5c19iZXR3ZWVuIDw9IDkwIFRIRU4gMSBFTFNFIDAgRU5EKSAvIENPVU5UKCopLCAxKSBBUyByZXRlbnRpb25fcmF0ZV8zX21vbnRocwpGUk9NIGNvaG9ydHMKR1JPVVAgQlkgY29ob3J0X21vbnRoCk9SREVSIEJZIGNvaG9ydF9tb250aAo7CgoKIiIiKQoKIyBTaG93IGluIG5vdGVib29rCmZpbmFsX3JldF9kZi5kaXNwbGF5KCkKCiMgU2F2ZSBhcyBwZXJtYW5lbnQgdGFibGUKZmluYWxfcmV0X2RmLndyaXRlLmZvcm1hdCgiZGVsdGEiKS5tb2RlKCJvdmVyd3JpdGUiKS5zYXZlQXNUYWJsZSgid29ya3NwYWNlLmRlbW8ucmV0ZW50aW9uX3JhdGVfYnlfY29ob3J0IikK\u001B[39m\u001B[38;5;124m\"\u001B[39m)\u001B[38;5;241m.\u001B[39mdecode())\n\u001B[1;32m     14\u001B[0m \u001B[38;5;28;01mtry\u001B[39;00m:\n\u001B[1;32m     15\u001B[0m     \u001B[38;5;66;03m# run user code\u001B[39;00m\n\u001B[0;32m---> 16\u001B[0m     __backend_agg_user_code_fn()\n\u001B[1;32m     18\u001B[0m     \u001B[38;5;66;03m#reset display function\u001B[39;00m\n\u001B[1;32m     19\u001B[0m     display \u001B[38;5;241m=\u001B[39m __backend_agg_display_orig\n",
         "File \u001B[0;32m<command-7443461647213113>, line 12\u001B[0m, in \u001B[0;36m__backend_agg_user_code_fn\u001B[0;34m()\u001B[0m\n\u001B[1;32m     10\u001B[0m \u001B[38;5;28;01mdef\u001B[39;00m \u001B[38;5;21m__backend_agg_user_code_fn\u001B[39m():\n\u001B[1;32m     11\u001B[0m     \u001B[38;5;28;01mimport\u001B[39;00m \u001B[38;5;21;01mbase64\u001B[39;00m\n\u001B[0;32m---> 12\u001B[0m     exec(base64\u001B[38;5;241m.\u001B[39mstandard_b64decode(\u001B[38;5;124m\"\u001B[39m\u001B[38;5;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\u001B[39m\u001B[38;5;124m\"\u001B[39m)\u001B[38;5;241m.\u001B[39mdecode())\n",
         "File \u001B[0;32m<string>:51\u001B[0m\n",
         "File \u001B[0;32m/databricks/python/lib/python3.11/site-packages/pyspark/sql/connect/readwriter.py:713\u001B[0m, in \u001B[0;36mDataFrameWriter.saveAsTable\u001B[0;34m(self, name, format, mode, partitionBy, **options)\u001B[0m\n\u001B[1;32m    711\u001B[0m \u001B[38;5;28mself\u001B[39m\u001B[38;5;241m.\u001B[39m_write\u001B[38;5;241m.\u001B[39mtable_name \u001B[38;5;241m=\u001B[39m name\n\u001B[1;32m    712\u001B[0m \u001B[38;5;28mself\u001B[39m\u001B[38;5;241m.\u001B[39m_write\u001B[38;5;241m.\u001B[39mtable_save_method \u001B[38;5;241m=\u001B[39m \u001B[38;5;124m\"\u001B[39m\u001B[38;5;124msave_as_table\u001B[39m\u001B[38;5;124m\"\u001B[39m\n\u001B[0;32m--> 713\u001B[0m _, _, ei \u001B[38;5;241m=\u001B[39m \u001B[38;5;28mself\u001B[39m\u001B[38;5;241m.\u001B[39m_spark\u001B[38;5;241m.\u001B[39mclient\u001B[38;5;241m.\u001B[39mexecute_command(\n\u001B[1;32m    714\u001B[0m     \u001B[38;5;28mself\u001B[39m\u001B[38;5;241m.\u001B[39m_write\u001B[38;5;241m.\u001B[39mcommand(\u001B[38;5;28mself\u001B[39m\u001B[38;5;241m.\u001B[39m_spark\u001B[38;5;241m.\u001B[39mclient), \u001B[38;5;28mself\u001B[39m\u001B[38;5;241m.\u001B[39m_write\u001B[38;5;241m.\u001B[39mobservations\n\u001B[1;32m    715\u001B[0m )\n\u001B[1;32m    716\u001B[0m \u001B[38;5;28mself\u001B[39m\u001B[38;5;241m.\u001B[39m_callback(ei)\n",
         "File \u001B[0;32m/databricks/python/lib/python3.11/site-packages/pyspark/sql/connect/client/core.py:1297\u001B[0m, in \u001B[0;36mSparkConnectClient.execute_command\u001B[0;34m(self, command, observations, extra_request_metadata)\u001B[0m\n\u001B[1;32m   1295\u001B[0m     req\u001B[38;5;241m.\u001B[39muser_context\u001B[38;5;241m.\u001B[39muser_id \u001B[38;5;241m=\u001B[39m \u001B[38;5;28mself\u001B[39m\u001B[38;5;241m.\u001B[39m_user_id\n\u001B[1;32m   1296\u001B[0m req\u001B[38;5;241m.\u001B[39mplan\u001B[38;5;241m.\u001B[39mcommand\u001B[38;5;241m.\u001B[39mCopyFrom(command)\n\u001B[0;32m-> 1297\u001B[0m data, _, metrics, observed_metrics, properties \u001B[38;5;241m=\u001B[39m \u001B[38;5;28mself\u001B[39m\u001B[38;5;241m.\u001B[39m_execute_and_fetch(\n\u001B[1;32m   1298\u001B[0m     req, observations \u001B[38;5;129;01mor\u001B[39;00m {}, extra_request_metadata\n\u001B[1;32m   1299\u001B[0m )\n\u001B[1;32m   1300\u001B[0m \u001B[38;5;66;03m# Create a query execution object.\u001B[39;00m\n\u001B[1;32m   1301\u001B[0m ei \u001B[38;5;241m=\u001B[39m ExecutionInfo(metrics, observed_metrics)\n",
         "File \u001B[0;32m/databricks/python/lib/python3.11/site-packages/pyspark/sql/connect/client/core.py:1755\u001B[0m, in \u001B[0;36mSparkConnectClient._execute_and_fetch\u001B[0;34m(self, req, observations, extra_request_metadata, self_destruct)\u001B[0m\n\u001B[1;32m   1752\u001B[0m properties: Dict[\u001B[38;5;28mstr\u001B[39m, Any] \u001B[38;5;241m=\u001B[39m {}\n\u001B[1;32m   1754\u001B[0m \u001B[38;5;28;01mwith\u001B[39;00m Progress(handlers\u001B[38;5;241m=\u001B[39m\u001B[38;5;28mself\u001B[39m\u001B[38;5;241m.\u001B[39m_progress_handlers, operation_id\u001B[38;5;241m=\u001B[39mreq\u001B[38;5;241m.\u001B[39moperation_id) \u001B[38;5;28;01mas\u001B[39;00m progress:\n\u001B[0;32m-> 1755\u001B[0m     \u001B[38;5;28;01mfor\u001B[39;00m response \u001B[38;5;129;01min\u001B[39;00m \u001B[38;5;28mself\u001B[39m\u001B[38;5;241m.\u001B[39m_execute_and_fetch_as_iterator(\n\u001B[1;32m   1756\u001B[0m         req, observations, extra_request_metadata \u001B[38;5;129;01mor\u001B[39;00m [], progress\u001B[38;5;241m=\u001B[39mprogress\n\u001B[1;32m   1757\u001B[0m     ):\n\u001B[1;32m   1758\u001B[0m         \u001B[38;5;28;01mif\u001B[39;00m \u001B[38;5;28misinstance\u001B[39m(response, StructType):\n\u001B[1;32m   1759\u001B[0m             schema \u001B[38;5;241m=\u001B[39m response\n",
         "File \u001B[0;32m/databricks/python/lib/python3.11/site-packages/pyspark/sql/connect/client/core.py:1731\u001B[0m, in \u001B[0;36mSparkConnectClient._execute_and_fetch_as_iterator\u001B[0;34m(self, req, observations, extra_request_metadata, progress)\u001B[0m\n\u001B[1;32m   1729\u001B[0m     \u001B[38;5;28;01mraise\u001B[39;00m kb\n\u001B[1;32m   1730\u001B[0m \u001B[38;5;28;01mexcept\u001B[39;00m \u001B[38;5;167;01mException\u001B[39;00m \u001B[38;5;28;01mas\u001B[39;00m error:\n\u001B[0;32m-> 1731\u001B[0m     \u001B[38;5;28mself\u001B[39m\u001B[38;5;241m.\u001B[39m_handle_error(error)\n",
         "File \u001B[0;32m/databricks/python/lib/python3.11/site-packages/pyspark/sql/connect/client/core.py:2047\u001B[0m, in \u001B[0;36mSparkConnectClient._handle_error\u001B[0;34m(self, error)\u001B[0m\n\u001B[1;32m   2045\u001B[0m \u001B[38;5;28mself\u001B[39m\u001B[38;5;241m.\u001B[39mthread_local\u001B[38;5;241m.\u001B[39minside_error_handling \u001B[38;5;241m=\u001B[39m \u001B[38;5;28;01mTrue\u001B[39;00m\n\u001B[1;32m   2046\u001B[0m \u001B[38;5;28;01mif\u001B[39;00m \u001B[38;5;28misinstance\u001B[39m(error, grpc\u001B[38;5;241m.\u001B[39mRpcError):\n\u001B[0;32m-> 2047\u001B[0m     \u001B[38;5;28mself\u001B[39m\u001B[38;5;241m.\u001B[39m_handle_rpc_error(error)\n\u001B[1;32m   2048\u001B[0m \u001B[38;5;28;01melif\u001B[39;00m \u001B[38;5;28misinstance\u001B[39m(error, \u001B[38;5;167;01mValueError\u001B[39;00m):\n\u001B[1;32m   2049\u001B[0m     \u001B[38;5;28;01mif\u001B[39;00m \u001B[38;5;124m\"\u001B[39m\u001B[38;5;124mCannot invoke RPC\u001B[39m\u001B[38;5;124m\"\u001B[39m \u001B[38;5;129;01min\u001B[39;00m \u001B[38;5;28mstr\u001B[39m(error) \u001B[38;5;129;01mand\u001B[39;00m \u001B[38;5;124m\"\u001B[39m\u001B[38;5;124mclosed\u001B[39m\u001B[38;5;124m\"\u001B[39m \u001B[38;5;129;01min\u001B[39;00m \u001B[38;5;28mstr\u001B[39m(error):\n",
         "File \u001B[0;32m/databricks/python/lib/python3.11/site-packages/pyspark/sql/connect/client/core.py:2149\u001B[0m, in \u001B[0;36mSparkConnectClient._handle_rpc_error\u001B[0;34m(self, rpc_error)\u001B[0m\n\u001B[1;32m   2134\u001B[0m                 \u001B[38;5;28;01mraise\u001B[39;00m \u001B[38;5;167;01mException\u001B[39;00m(\n\u001B[1;32m   2135\u001B[0m                     \u001B[38;5;124m\"\u001B[39m\u001B[38;5;124mPython versions in the Spark Connect client and server are different. \u001B[39m\u001B[38;5;124m\"\u001B[39m\n\u001B[1;32m   2136\u001B[0m                     \u001B[38;5;124m\"\u001B[39m\u001B[38;5;124mTo execute user-defined functions, client and server should have the \u001B[39m\u001B[38;5;124m\"\u001B[39m\n\u001B[0;32m   (...)\u001B[0m\n\u001B[1;32m   2145\u001B[0m                     \u001B[38;5;124m\"\u001B[39m\u001B[38;5;124mhttps://docs.databricks.com/en/release-notes/serverless.html.\u001B[39m\u001B[38;5;124m\"\u001B[39m\n\u001B[1;32m   2146\u001B[0m                 )\n\u001B[1;32m   2147\u001B[0m             \u001B[38;5;66;03m# END-EDGE\u001B[39;00m\n\u001B[0;32m-> 2149\u001B[0m             \u001B[38;5;28;01mraise\u001B[39;00m convert_exception(\n\u001B[1;32m   2150\u001B[0m                 info,\n\u001B[1;32m   2151\u001B[0m                 status\u001B[38;5;241m.\u001B[39mmessage,\n\u001B[1;32m   2152\u001B[0m                 \u001B[38;5;28mself\u001B[39m\u001B[38;5;241m.\u001B[39m_fetch_enriched_error(info),\n\u001B[1;32m   2153\u001B[0m                 \u001B[38;5;28mself\u001B[39m\u001B[38;5;241m.\u001B[39m_display_server_stack_trace(),\n\u001B[1;32m   2154\u001B[0m             ) \u001B[38;5;28;01mfrom\u001B[39;00m \u001B[38;5;28;01mNone\u001B[39;00m\n\u001B[1;32m   2156\u001B[0m     \u001B[38;5;28;01mraise\u001B[39;00m SparkConnectGrpcException(status\u001B[38;5;241m.\u001B[39mmessage) \u001B[38;5;28;01mfrom\u001B[39;00m \u001B[38;5;28;01mNone\u001B[39;00m\n\u001B[1;32m   2157\u001B[0m \u001B[38;5;28;01melse\u001B[39;00m:\n",
         "\u001B[0;31mAnalysisException\u001B[0m: [DELTA_FAILED_TO_MERGE_FIELDS] Failed to merge fields 'cohort_month' and 'cohort_month'\n\nJVM stacktrace:\ncom.databricks.sql.transaction.tahoe.DeltaAnalysisException\n\tat com.databricks.sql.transaction.tahoe.schema.SchemaMergingUtils$.$anonfun$mergeDataTypes$1(SchemaMergingUtils.scala:215)\n\tat scala.collection.TraversableLike.$anonfun$map$1(TraversableLike.scala:286)\n\tat scala.collection.IndexedSeqOptimized.foreach(IndexedSeqOptimized.scala:36)\n\tat scala.collection.IndexedSeqOptimized.foreach$(IndexedSeqOptimized.scala:33)\n\tat scala.collection.mutable.ArrayOps$ofRef.foreach(ArrayOps.scala:198)\n\tat scala.collection.TraversableLike.map(TraversableLike.scala:286)\n\tat scala.collection.TraversableLike.map$(TraversableLike.scala:279)\n\tat scala.collection.mutable.ArrayOps$ofRef.map(ArrayOps.scala:198)\n\tat com.databricks.sql.transaction.tahoe.schema.SchemaMergingUtils$.merge$1(SchemaMergingUtils.scala:204)\n\tat com.databricks.sql.transaction.tahoe.schema.SchemaMergingUtils$.mergeDataTypes(SchemaMergingUtils.scala:308)\n\tat com.databricks.sql.transaction.tahoe.schema.SchemaMergingUtils$.mergeSchemas(SchemaMergingUtils.scala:169)\n\tat com.databricks.sql.transaction.tahoe.schema.ImplicitMetadataOperation$.mergeSchema(ImplicitMetadataOperation.scala:357)\n\tat com.databricks.sql.transaction.tahoe.schema.ImplicitMetadataOperation.updateMetadata(ImplicitMetadataOperation.scala:111)\n\tat com.databricks.sql.transaction.tahoe.schema.ImplicitMetadataOperation.updateMetadata$(ImplicitMetadataOperation.scala:91)\n\tat com.databricks.sql.transaction.tahoe.commands.WriteIntoDeltaEdge.updateMetadata(WriteIntoDeltaEdge.scala:111)\n\tat com.databricks.sql.transaction.tahoe.commands.WriteIntoDeltaEdge.writeAndReturnCommitDataAndMaterializationPlans(WriteIntoDeltaEdge.scala:313)\n\tat com.databricks.sql.transaction.tahoe.commands.WriteIntoDeltaEdge.writeAndReturnCommitData(WriteIntoDeltaEdge.scala:209)\n\tat com.databricks.sql.transaction.tahoe.commands.CreateDeltaTableCommand.doDeltaWrite$1(CreateDeltaTableCommand.scala:621)\n\tat com.databricks.sql.transaction.tahoe.commands.CreateDeltaTableCommand.handleCreateTableAsSelect(CreateDeltaTableCommand.scala:705)\n\tat com.databricks.sql.transaction.tahoe.commands.CreateDeltaTableCommand.$anonfun$handleCommit$1(CreateDeltaTableCommand.scala:390)\n\tat com.databricks.sql.transaction.tahoe.OptimisticTransaction$.withActive(OptimisticTransaction.scala:254)\n\tat com.databricks.sql.transaction.tahoe.commands.CreateDeltaTableCommand.handleCommit(CreateDeltaTableCommand.scala:371)\n\tat com.databricks.sql.transaction.tahoe.commands.CreateDeltaTableCommand.$anonfun$run$9(CreateDeltaTableCommand.scala:294)\n\tat org.apache.spark.sql.catalyst.SQLConfHelper.withSQLConf(SQLConfHelper.scala:75)\n\tat org.apache.spark.sql.catalyst.SQLConfHelper.withSQLConf$(SQLConfHelper.scala:38)\n\tat org.apache.spark.sql.catalyst.plans.QueryPlan.withSQLConf(QueryPlan.scala:56)\n\tat com.databricks.sql.transaction.tahoe.commands.CreateDeltaTableCommand.$anonfun$run$5(CreateDeltaTableCommand.scala:290)\n\tat com.databricks.sql.transaction.tahoe.metering.DeltaLogging.withOperationTypeTag(DeltaLogging.scala:325)\n\tat com.databricks.sql.transaction.tahoe.metering.DeltaLogging.withOperationTypeTag$(DeltaLogging.scala:312)\n\tat com.databricks.sql.transaction.tahoe.commands.CreateDeltaTableCommand.withOperationTypeTag(CreateDeltaTableCommand.scala:88)\n\tat com.databricks.sql.transaction.tahoe.metering.DeltaLogging.$anonfun$recordDeltaOperationInternal$2(DeltaLogging.scala:178)\n\tat com.databricks.spark.util.FrameProfiler$.record(FrameProfiler.scala:94)\n\tat com.databricks.sql.transaction.tahoe.metering.DeltaLogging.recordFrameProfile(DeltaLogging.scala:418)\n\tat com.databricks.sql.transaction.tahoe.metering.DeltaLogging.recordFrameProfile$(DeltaLogging.scala:416)\n\tat com.databricks.sql.transaction.tahoe.commands.CreateDeltaTableCommand.recordFrameProfile(CreateDeltaTableCommand.scala:88)\n\tat com.databricks.sql.transaction.tahoe.metering.DeltaLogging.$anonfun$recordDeltaOperationInternal$1(DeltaLogging.scala:177)\n\tat com.databricks.logging.UsageLogging.$anonfun$recordOperation$1(UsageLogging.scala:510)\n\tat com.databricks.logging.UsageLogging.executeThunkAndCaptureResultTags$1(UsageLogging.scala:616)\n\tat com.databricks.logging.UsageLogging.$anonfun$recordOperationWithResultTags$4(UsageLogging.scala:643)\n\tat com.databricks.logging.AttributionContextTracing.$anonfun$withAttributionContext$1(AttributionContextTracing.scala:49)\n\tat com.databricks.logging.AttributionContext$.$anonfun$withValue$1(AttributionContext.scala:293)\n\tat scala.util.DynamicVariable.withValue(DynamicVariable.scala:62)\n\tat com.databricks.logging.AttributionContext$.withValue(AttributionContext.scala:289)\n\tat com.databricks.logging.AttributionContextTracing.withAttributionContext(AttributionContextTracing.scala:47)\n\tat com.databricks.logging.AttributionContextTracing.withAttributionContext$(AttributionContextTracing.scala:44)\n\tat com.databricks.spark.util.PublicDBLogging.withAttributionContext(DatabricksSparkUsageLogger.scala:30)\n\tat com.databricks.logging.AttributionContextTracing.withAttributionTags(AttributionContextTracing.scala:96)\n\tat com.databricks.logging.AttributionContextTracing.withAttributionTags$(AttributionContextTracing.scala:77)\n\tat com.databricks.spark.util.PublicDBLogging.withAttributionTags(DatabricksSparkUsageLogger.scala:30)\n\tat com.databricks.logging.UsageLogging.recordOperationWithResultTags(UsageLogging.scala:611)\n\tat com.databricks.logging.UsageLogging.recordOperationWithResultTags$(UsageLogging.scala:519)\n\tat com.databricks.spark.util.PublicDBLogging.recordOperationWithResultTags(DatabricksSparkUsageLogger.scala:30)\n\tat com.databricks.logging.UsageLogging.recordOperation(UsageLogging.scala:511)\n\tat com.databricks.logging.UsageLogging.recordOperation$(UsageLogging.scala:475)\n\tat com.databricks.spark.util.PublicDBLogging.recordOperation(DatabricksSparkUsageLogger.scala:30)\n\tat com.databricks.spark.util.PublicDBLogging.recordOperation0(DatabricksSparkUsageLogger.scala:120)\n\tat com.databricks.spark.util.DatabricksSparkUsageLogger.recordOperation(DatabricksSparkUsageLogger.scala:210)\n\tat com.databricks.spark.util.UsageLogger.recordOperation(UsageLogger.scala:78)\n\tat com.databricks.spark.util.UsageLogger.recordOperation$(UsageLogger.scala:65)\n\tat com.databricks.spark.util.DatabricksSparkUsageLogger.recordOperation(DatabricksSparkUsageLogger.scala:169)\n\tat com.databricks.spark.util.UsageLogging.recordOperation(UsageLogger.scala:537)\n\tat com.databricks.spark.util.UsageLogging.recordOperation$(UsageLogger.scala:516)\n\tat com.databricks.sql.transaction.tahoe.commands.CreateDeltaTableCommand.recordOperation(CreateDeltaTableCommand.scala:88)\n\tat com.databricks.sql.transaction.tahoe.metering.DeltaLogging.recordDeltaOperationInternal(DeltaLogging.scala:176)\n\tat com.databricks.sql.transaction.tahoe.metering.DeltaLogging.recordDeltaOperation(DeltaLogging.scala:166)\n\tat com.databricks.sql.transaction.tahoe.metering.DeltaLogging.recordDeltaOperation$(DeltaLogging.scala:155)\n\tat com.databricks.sql.transaction.tahoe.commands.CreateDeltaTableCommand.recordDeltaOperation(CreateDeltaTableCommand.scala:88)\n\tat com.databricks.sql.transaction.tahoe.commands.CreateDeltaTableCommand.run(CreateDeltaTableCommand.scala:251)\n\tat com.databricks.sql.transaction.tahoe.catalog.DeltaCatalog.$anonfun$createDeltaTable$1(DeltaCatalog.scala:642)\n\tat com.databricks.spark.util.FrameProfiler$.record(FrameProfiler.scala:94)\n\tat com.databricks.sql.transaction.tahoe.metering.DeltaLogging.recordFrameProfile(DeltaLogging.scala:418)\n\tat com.databricks.sql.transaction.tahoe.metering.DeltaLogging.recordFrameProfile$(DeltaLogging.scala:416)\n\tat com.databricks.sql.transaction.tahoe.catalog.DeltaCatalog.recordFrameProfile(DeltaCatalog.scala:140)\n\tat com.databricks.sql.transaction.tahoe.catalog.DeltaCatalog.com$databricks$sql$transaction$tahoe$catalog$DeltaCatalog$$createDeltaTable(DeltaCatalog.scala:266)\n\tat com.databricks.sql.transaction.tahoe.catalog.DeltaCatalog$StagedDeltaTableV2.$anonfun$commitStagedChanges$1(DeltaCatalog.scala:1639)\n\tat com.databricks.spark.util.FrameProfiler$.record(FrameProfiler.scala:94)\n\tat com.databricks.sql.transaction.tahoe.metering.DeltaLogging.recordFrameProfile(DeltaLogging.scala:418)\n\tat com.databricks.sql.transaction.tahoe.metering.DeltaLogging.recordFrameProfile$(DeltaLogging.scala:416)\n\tat com.databricks.sql.transaction.tahoe.catalog.DeltaCatalog.recordFrameProfile(DeltaCatalog.scala:140)\n\tat com.databricks.sql.transaction.tahoe.catalog.DeltaCatalog$StagedDeltaTableV2.commitStagedChanges(DeltaCatalog.scala:1598)\n\tat org.apache.spark.sql.execution.datasources.v2.DataSourceV2Utils$.commitStagedChanges(DataSourceV2Utils.scala:314)\n\tat org.apache.spark.sql.execution.datasources.v2.V2CreateTableAsSelectBaseExec.$anonfun$writeToTable$6(WriteToDataSourceV2Exec.scala:812)\n\tat scala.runtime.java8.JFunction0$mcV$sp.apply(JFunction0$mcV$sp.java:23)\n\tat org.apache.spark.sql.execution.datasources.v2.WriteToDataSourceV2Exec$.handleConcurrentCreateExceptions(WriteToDataSourceV2Exec.scala:73)\n\tat org.apache.spark.sql.execution.datasources.v2.V2CreateTableAsSelectBaseExec.$anonfun$writeToTable$2(WriteToDataSourceV2Exec.scala:812)\n\tat org.apache.spark.util.Utils$.tryWithSafeFinallyAndFailureCallbacks(Utils.scala:1629)\n\tat org.apache.spark.sql.execution.datasources.v2.V2CreateTableAsSelectBaseExec.$anonfun$writeToTable$1(WriteToDataSourceV2Exec.scala:799)\n\tat com.databricks.spark.util.FrameProfiler$.record(FrameProfiler.scala:94)\n\tat org.apache.spark.sql.execution.datasources.v2.V2CreateTableAsSelectBaseExec.writeToTable(WriteToDataSourceV2Exec.scala:816)\n\tat org.apache.spark.sql.execution.datasources.v2.V2CreateTableAsSelectBaseExec.writeToTable$(WriteToDataSourceV2Exec.scala:791)\n\tat org.apache.spark.sql.execution.datasources.v2.AtomicReplaceTableAsSelectExec.writeToTable(WriteToDataSourceV2Exec.scala:262)\n\tat org.apache.spark.sql.execution.datasources.v2.AtomicReplaceTableAsSelectExec.run(WriteToDataSourceV2Exec.scala:325)\n\tat org.apache.spark.sql.execution.datasources.v2.V2CommandExec.$anonfun$result$2(V2CommandExec.scala:48)\n\tat org.apache.spark.sql.execution.SparkPlan.runCommandInAetherOrSpark(SparkPlan.scala:194)\n\tat org.apache.spark.sql.execution.datasources.v2.V2CommandExec.$anonfun$result$1(V2CommandExec.scala:48)\n\tat com.databricks.spark.util.FrameProfiler$.record(FrameProfiler.scala:94)\n\tat org.apache.spark.sql.execution.datasources.v2.V2CommandExec.result$lzycompute(V2CommandExec.scala:47)\n\tat org.apache.spark.sql.execution.datasources.v2.V2CommandExec.result(V2CommandExec.scala:45)\n\tat org.apache.spark.sql.execution.datasources.v2.V2CommandExec.executeCollect(V2CommandExec.scala:56)\n\tat org.apache.spark.sql.execution.QueryExecution.$anonfun$eagerlyExecuteCommands$5(QueryExecution.scala:450)\n\tat com.databricks.util.LexicalThreadLocal$Handle.runWith(LexicalThreadLocal.scala:63)\n\tat org.apache.spark.sql.execution.QueryExecution.$anonfun$eagerlyExecuteCommands$4(QueryExecution.scala:450)\n\tat org.apache.spark.sql.catalyst.QueryPlanningTracker$.withTracker(QueryPlanningTracker.scala:216)\n\tat org.apache.spark.sql.execution.QueryExecution.$anonfun$eagerlyExecuteCommands$3(QueryExecution.scala:449)\n\tat org.apache.spark.sql.execution.SQLExecution$.$anonfun$withNewExecutionId0$11(SQLExecution.scala:477)\n\tat com.databricks.sql.util.MemoryTrackerHelper.withMemoryTracking(MemoryTrackerHelper.scala:80)\n\tat org.apache.spark.sql.execution.SQLExecution$.$anonfun$withNewExecutionId0$10(SQLExecution.scala:413)\n\tat org.apache.spark.sql.execution.SQLExecution$.withSQLConfPropagated(SQLExecution.scala:776)\n\tat org.apache.spark.sql.execution.SQLExecution$.$anonfun$withNewExecutionId0$1(SQLExecution.scala:343)\n\tat org.apache.spark.sql.SparkSession.withActive(SparkSession.scala:1450)\n\tat org.apache.spark.sql.execution.SQLExecution$.withNewExecutionId0(SQLExecution.scala:212)\n\tat org.apache.spark.sql.execution.SQLExecution$.withNewExecutionId(SQLExecution.scala:713)\n\tat org.apache.spark.sql.execution.QueryExecution.$anonfun$eagerlyExecuteCommands$2(QueryExecution.scala:445)\n\tat org.apache.spark.sql.execution.QueryExecution$.withInternalError(QueryExecution.scala:1308)\n\tat org.apache.spark.sql.execution.QueryExecution.$anonfun$eagerlyExecuteCommands$1(QueryExecution.scala:441)\n\tat org.apache.spark.sql.execution.QueryExecution.withMVTagsIfNecessary(QueryExecution.scala:370)\n\tat org.apache.spark.sql.execution.QueryExecution.org$apache$spark$sql$execution$QueryExecution$$eagerlyExecute$1(QueryExecution.scala:439)\n\tat org.apache.spark.sql.execution.QueryExecution$$anonfun$$nestedInanonfun$eagerlyExecuteCommands$8$1.applyOrElse(QueryExecution.scala:503)\n\tat org.apache.spark.sql.execution.QueryExecution$$anonfun$$nestedInanonfun$eagerlyExecuteCommands$8$1.applyOrElse(QueryExecution.scala:498)\n\tat org.apache.spark.sql.catalyst.trees.TreeNode.$anonfun$transformDownWithPruning$1(TreeNode.scala:521)\n\tat org.apache.spark.sql.catalyst.trees.CurrentOrigin$.withOrigin(origin.scala:85)\n\tat org.apache.spark.sql.catalyst.trees.TreeNode.transformDownWithPruning(TreeNode.scala:521)\n\tat org.apache.spark.sql.catalyst.plans.logical.LogicalPlan.org$apache$spark$sql$catalyst$plans$logical$AnalysisHelper$$super$transformDownWithPruning(LogicalPlan.scala:42)\n\tat org.apache.spark.sql.catalyst.plans.logical.AnalysisHelper.transformDownWithPruning(AnalysisHelper.scala:361)\n\tat org.apache.spark.sql.catalyst.plans.logical.AnalysisHelper.transformDownWithPruning$(AnalysisHelper.scala:357)\n\tat org.apache.spark.sql.catalyst.plans.logical.LogicalPlan.transformDownWithPruning(LogicalPlan.scala:42)\n\tat org.apache.spark.sql.catalyst.plans.logical.LogicalPlan.transformDownWithPruning(LogicalPlan.scala:42)\n\tat org.apache.spark.sql.catalyst.trees.TreeNode.transformDown(TreeNode.scala:497)\n\tat org.apache.spark.sql.execution.QueryExecution.$anonfun$eagerlyExecuteCommands$8(QueryExecution.scala:498)\n\tat org.apache.spark.sql.catalyst.plans.logical.AnalysisHelper$.allowInvokingTransformsInAnalyzer(AnalysisHelper.scala:418)\n\tat org.apache.spark.sql.execution.QueryExecution.eagerlyExecuteCommands(QueryExecution.scala:498)\n\tat org.apache.spark.sql.execution.QueryExecution.$anonfun$lazyCommandExecuted$1(QueryExecution.scala:326)\n\tat scala.util.Try$.apply(Try.scala:213)\n\tat org.apache.spark.util.Utils$.doTryWithCallerStacktrace(Utils.scala:1684)\n\tat org.apache.spark.util.Utils$.getTryWithCallerStacktrace(Utils.scala:1745)\n\tat org.apache.spark.util.LazyTry.get(LazyTry.scala:58)\n\tat org.apache.spark.sql.execution.QueryExecution.commandExecuted(QueryExecution.scala:331)\n\tat org.apache.spark.sql.execution.QueryExecution.assertCommandExecuted(QueryExecution.scala:528)\n\tat org.apache.spark.sql.DataFrameWriter.runCommand(DataFrameWriter.scala:1164)\n\tat org.apache.spark.sql.DataFrameWriter.saveAsTable(DataFrameWriter.scala:845)\n\tat org.apache.spark.sql.DataFrameWriter.saveAsTable(DataFrameWriter.scala:749)\n\tat org.apache.spark.sql.connect.planner.SparkConnectPlanner.handleWriteOperation(SparkConnectPlanner.scala:3874)\n\tat org.apache.spark.sql.connect.planner.SparkConnectPlanner.process(SparkConnectPlanner.scala:3362)\n\tat org.apache.spark.sql.connect.execution.ExecuteThreadRunner.handleCommand(ExecuteThreadRunner.scala:413)\n\tat org.apache.spark.sql.connect.execution.ExecuteThreadRunner.$anonfun$executeInternal$1(ExecuteThreadRunner.scala:312)\n\tat org.apache.spark.sql.connect.execution.ExecuteThreadRunner.$anonfun$executeInternal$1$adapted(ExecuteThreadRunner.scala:233)\n\tat org.apache.spark.sql.connect.service.SessionHolder.$anonfun$withSession$2(SessionHolder.scala:464)\n\tat org.apache.spark.sql.SparkSession.withActive(SparkSession.scala:1450)\n\tat org.apache.spark.sql.connect.service.SessionHolder.$anonfun$withSession$1(SessionHolder.scala:464)\n\tat org.apache.spark.JobArtifactSet$.withActiveJobArtifactState(JobArtifactSet.scala:97)\n\tat org.apache.spark.sql.artifact.ArtifactManager.$anonfun$withResources$1(ArtifactManager.scala:90)\n\tat org.apache.spark.util.Utils$.withContextClassLoader(Utils.scala:241)\n\tat org.apache.spark.sql.artifact.ArtifactManager.withResources(ArtifactManager.scala:89)\n\tat org.apache.spark.sql.connect.service.SessionHolder.withSession(SessionHolder.scala:463)\n\tat org.apache.spark.sql.connect.execution.ExecuteThreadRunner.executeInternal(ExecuteThreadRunner.scala:233)\n\tat org.apache.spark.sql.connect.execution.ExecuteThreadRunner.org$apache$spark$sql$connect$execution$ExecuteThreadRunner$$execute(ExecuteThreadRunner.scala:139)\n\tat org.apache.spark.sql.connect.execution.ExecuteThreadRunner$ExecutionThread.$anonfun$run$2(ExecuteThreadRunner.scala:614)\n\tat scala.runtime.java8.JFunction0$mcV$sp.apply(JFunction0$mcV$sp.java:23)\n\tat com.databricks.unity.UCSEphemeralState$Handle.runWith(UCSEphemeralState.scala:51)\n\tat com.databricks.unity.HandleImpl.runWith(UCSHandle.scala:104)\n\tat com.databricks.unity.HandleImpl.$anonfun$runWithAndClose$1(UCSHandle.scala:109)\n\tat scala.util.Using$.resource(Using.scala:269)\n\tat com.databricks.unity.HandleImpl.runWithAndClose(UCSHandle.scala:108)\n\tat org.apache.spark.sql.connect.execution.ExecuteThreadRunner$ExecutionThread.run(ExecuteThreadRunner.scala:614)\nCaused by: com.databricks.sql.transaction.tahoe.DeltaAnalysisException: [DELTA_MERGE_INCOMPATIBLE_DATATYPE] Failed to merge incompatible data types DateType and TimestampType\n\tat com.databricks.sql.transaction.tahoe.schema.SchemaMergingUtils$.merge$1(SchemaMergingUtils.scala:304)\n\tat com.databricks.sql.transaction.tahoe.schema.SchemaMergingUtils$.$anonfun$mergeDataTypes$1(SchemaMergingUtils.scala:210)\n\tat scala.collection.TraversableLike.$anonfun$map$1(TraversableLike.scala:286)\n\tat scala.collection.IndexedSeqOptimized.foreach(IndexedSeqOptimized.scala:36)\n\tat scala.collection.IndexedSeqOptimized.foreach$(IndexedSeqOptimized.scala:33)\n\tat scala.collection.mutable.ArrayOps$ofRef.foreach(ArrayOps.scala:198)\n\tat scala.collection.TraversableLike.map(TraversableLike.scala:286)\n\tat scala.collection.TraversableLike.map$(TraversableLike.scala:279)\n\tat scala.collection.mutable.ArrayOps$ofRef.map(ArrayOps.scala:198)\n\tat com.databricks.sql.transaction.tahoe.schema.SchemaMergingUtils$.merge$1(SchemaMergingUtils.scala:204)\n\tat com.databricks.sql.transaction.tahoe.schema.SchemaMergingUtils$.mergeDataTypes(SchemaMergingUtils.scala:308)\n\tat com.databricks.sql.transaction.tahoe.schema.SchemaMergingUtils$.mergeSchemas(SchemaMergingUtils.scala:169)\n\tat com.databricks.sql.transaction.tahoe.schema.ImplicitMetadataOperation$.mergeSchema(ImplicitMetadataOperation.scala:357)\n\tat com.databricks.sql.transaction.tahoe.schema.ImplicitMetadataOperation.updateMetadata(ImplicitMetadataOperation.scala:111)\n\tat com.databricks.sql.transaction.tahoe.schema.ImplicitMetadataOperation.updateMetadata$(ImplicitMetadataOperation.scala:91)\n\tat com.databricks.sql.transaction.tahoe.commands.WriteIntoDeltaEdge.updateMetadata(WriteIntoDeltaEdge.scala:111)\n\tat com.databricks.sql.transaction.tahoe.commands.WriteIntoDeltaEdge.writeAndReturnCommitDataAndMaterializationPlans(WriteIntoDeltaEdge.scala:313)\n\tat com.databricks.sql.transaction.tahoe.commands.WriteIntoDeltaEdge.writeAndReturnCommitData(WriteIntoDeltaEdge.scala:209)\n\tat com.databricks.sql.transaction.tahoe.commands.CreateDeltaTableCommand.doDeltaWrite$1(CreateDeltaTableCommand.scala:621)\n\tat com.databricks.sql.transaction.tahoe.commands.CreateDeltaTableCommand.handleCreateTableAsSelect(CreateDeltaTableCommand.scala:705)\n\tat com.databricks.sql.transaction.tahoe.commands.CreateDeltaTableCommand.$anonfun$handleCommit$1(CreateDeltaTableCommand.scala:390)\n\tat com.databricks.sql.transaction.tahoe.OptimisticTransaction$.withActive(OptimisticTransaction.scala:254)\n\tat com.databricks.sql.transaction.tahoe.commands.CreateDeltaTableCommand.handleCommit(CreateDeltaTableCommand.scala:371)\n\tat com.databricks.sql.transaction.tahoe.commands.CreateDeltaTableCommand.$anonfun$run$9(CreateDeltaTableCommand.scala:294)\n\tat org.apache.spark.sql.catalyst.SQLConfHelper.withSQLConf(SQLConfHelper.scala:75)\n\tat org.apache.spark.sql.catalyst.SQLConfHelper.withSQLConf$(SQLConfHelper.scala:38)\n\tat org.apache.spark.sql.catalyst.plans.QueryPlan.withSQLConf(QueryPlan.scala:56)\n\tat com.databricks.sql.transaction.tahoe.commands.CreateDeltaTableCommand.$anonfun$run$5(CreateDeltaTableCommand.scala:290)\n\tat com.databricks.sql.transaction.tahoe.metering.DeltaLogging.withOperationTypeTag(DeltaLogging.scala:325)\n\tat com.databricks.sql.transaction.tahoe.metering.DeltaLogging.withOperationTypeTag$(DeltaLogging.scala:312)\n\tat com.databricks.sql.transaction.tahoe.commands.CreateDeltaTableCommand.withOperationTypeTag(CreateDeltaTableCommand.scala:88)\n\tat com.databricks.sql.transaction.tahoe.metering.DeltaLogging.$anonfun$recordDeltaOperationInternal$2(DeltaLogging.scala:178)\n\tat com.databricks.spark.util.FrameProfiler$.record(FrameProfiler.scala:94)\n\tat com.databricks.sql.transaction.tahoe.metering.DeltaLogging.recordFrameProfile(DeltaLogging.scala:418)\n\tat com.databricks.sql.transaction.tahoe.metering.DeltaLogging.recordFrameProfile$(DeltaLogging.scala:416)\n\tat com.databricks.sql.transaction.tahoe.commands.CreateDeltaTableCommand.recordFrameProfile(CreateDeltaTableCommand.scala:88)\n\tat com.databricks.sql.transaction.tahoe.metering.DeltaLogging.$anonfun$recordDeltaOperationInternal$1(DeltaLogging.scala:177)\n\tat com.databricks.logging.UsageLogging.$anonfun$recordOperation$1(UsageLogging.scala:510)\n\tat com.databricks.logging.UsageLogging.executeThunkAndCaptureResultTags$1(UsageLogging.scala:616)\n\tat com.databricks.logging.UsageLogging.$anonfun$recordOperationWithResultTags$4(UsageLogging.scala:643)\n\tat com.databricks.logging.AttributionContextTracing.$anonfun$withAttributionContext$1(AttributionContextTracing.scala:49)\n\tat com.databricks.logging.AttributionContext$.$anonfun$withValue$1(AttributionContext.scala:293)\n\tat scala.util.DynamicVariable.withValue(DynamicVariable.scala:62)\n\tat com.databricks.logging.AttributionContext$.withValue(AttributionContext.scala:289)\n\tat com.databricks.logging.AttributionContextTracing.withAttributionContext(AttributionContextTracing.scala:47)\n\tat com.databricks.logging.AttributionContextTracing.withAttributionContext$(AttributionContextTracing.scala:44)\n\tat com.databricks.spark.util.PublicDBLogging.withAttributionContext(DatabricksSparkUsageLogger.scala:30)\n\tat com.databricks.logging.AttributionContextTracing.withAttributionTags(AttributionContextTracing.scala:96)\n\tat com.databricks.logging.AttributionContextTracing.withAttributionTags$(AttributionContextTracing.scala:77)\n\tat com.databricks.spark.util.PublicDBLogging.withAttributionTags(DatabricksSparkUsageLogger.scala:30)\n\tat com.databricks.logging.UsageLogging.recordOperationWithResultTags(UsageLogging.scala:611)\n\tat com.databricks.logging.UsageLogging.recordOperationWithResultTags$(UsageLogging.scala:519)\n\tat com.databricks.spark.util.PublicDBLogging.recordOperationWithResultTags(DatabricksSparkUsageLogger.scala:30)\n\tat com.databricks.logging.UsageLogging.recordOperation(UsageLogging.scala:511)\n\tat com.databricks.logging.UsageLogging.recordOperation$(UsageLogging.scala:475)\n\tat com.databricks.spark.util.PublicDBLogging.recordOperation(DatabricksSparkUsageLogger.scala:30)\n\tat com.databricks.spark.util.PublicDBLogging.recordOperation0(DatabricksSparkUsageLogger.scala:120)\n\tat com.databricks.spark.util.DatabricksSparkUsageLogger.recordOperation(DatabricksSparkUsageLogger.scala:210)\n\tat com.databricks.spark.util.UsageLogger.recordOperation(UsageLogger.scala:78)\n\tat com.databricks.spark.util.UsageLogger.recordOperation$(UsageLogger.scala:65)\n\tat com.databricks.spark.util.DatabricksSparkUsageLogger.recordOperation(DatabricksSparkUsageLogger.scala:169)\n\tat com.databricks.spark.util.UsageLogging.recordOperation(UsageLogger.scala:537)\n\tat com.databricks.spark.util.UsageLogging.recordOperation$(UsageLogger.scala:516)\n\tat com.databricks.sql.transaction.tahoe.commands.CreateDeltaTableCommand.recordOperation(CreateDeltaTableCommand.scala:88)\n\tat com.databricks.sql.transaction.tahoe.metering.DeltaLogging.recordDeltaOperationInternal(DeltaLogging.scala:176)\n\tat com.databricks.sql.transaction.tahoe.metering.DeltaLogging.recordDeltaOperation(DeltaLogging.scala:166)\n\tat com.databricks.sql.transaction.tahoe.metering.DeltaLogging.recordDeltaOperation$(DeltaLogging.scala:155)\n\tat com.databricks.sql.transaction.tahoe.commands.CreateDeltaTableCommand.recordDeltaOperation(CreateDeltaTableCommand.scala:88)\n\tat com.databricks.sql.transaction.tahoe.commands.CreateDeltaTableCommand.run(CreateDeltaTableCommand.scala:251)\n\tat com.databricks.sql.transaction.tahoe.catalog.DeltaCatalog.$anonfun$createDeltaTable$1(DeltaCatalog.scala:642)\n\tat com.databricks.spark.util.FrameProfiler$.record(FrameProfiler.scala:94)\n\tat com.databricks.sql.transaction.tahoe.metering.DeltaLogging.recordFrameProfile(DeltaLogging.scala:418)\n\tat com.databricks.sql.transaction.tahoe.metering.DeltaLogging.recordFrameProfile$(DeltaLogging.scala:416)\n\tat com.databricks.sql.transaction.tahoe.catalog.DeltaCatalog.recordFrameProfile(DeltaCatalog.scala:140)\n\tat com.databricks.sql.transaction.tahoe.catalog.DeltaCatalog.com$databricks$sql$transaction$tahoe$catalog$DeltaCatalog$$createDeltaTable(DeltaCatalog.scala:266)\n\tat com.databricks.sql.transaction.tahoe.catalog.DeltaCatalog$StagedDeltaTableV2.$anonfun$commitStagedChanges$1(DeltaCatalog.scala:1639)\n\tat com.databricks.spark.util.FrameProfiler$.record(FrameProfiler.scala:94)\n\tat com.databricks.sql.transaction.tahoe.metering.DeltaLogging.recordFrameProfile(DeltaLogging.scala:418)\n\tat com.databricks.sql.transaction.tahoe.metering.DeltaLogging.recordFrameProfile$(DeltaLogging.scala:416)\n\tat com.databricks.sql.transaction.tahoe.catalog.DeltaCatalog.recordFrameProfile(DeltaCatalog.scala:140)\n\tat com.databricks.sql.transaction.tahoe.catalog.DeltaCatalog$StagedDeltaTableV2.commitStagedChanges(DeltaCatalog.scala:1598)\n\tat org.apache.spark.sql.execution.datasources.v2.DataSourceV2Utils$.commitStagedChanges(DataSourceV2Utils.scala:314)\n\tat org.apache.spark.sql.execution.datasources.v2.V2CreateTableAsSelectBaseExec.$anonfun$writeToTable$6(WriteToDataSourceV2Exec.scala:812)\n\tat scala.runtime.java8.JFunction0$mcV$sp.apply(JFunction0$mcV$sp.java:23)\n\tat org.apache.spark.sql.execution.datasources.v2.WriteToDataSourceV2Exec$.handleConcurrentCreateExceptions(WriteToDataSourceV2Exec.scala:73)\n\tat org.apache.spark.sql.execution.datasources.v2.V2CreateTableAsSelectBaseExec.$anonfun$writeToTable$2(WriteToDataSourceV2Exec.scala:812)\n\tat org.apache.spark.util.Utils$.tryWithSafeFinallyAndFailureCallbacks(Utils.scala:1629)\n\tat org.apache.spark.sql.execution.datasources.v2.V2CreateTableAsSelectBaseExec.$anonfun$writeToTable$1(WriteToDataSourceV2Exec.scala:799)\n\tat com.databricks.spark.util.FrameProfiler$.record(FrameProfiler.scala:94)\n\tat org.apache.spark.sql.execution.datasources.v2.V2CreateTableAsSelectBaseExec.writeToTable(WriteToDataSourceV2Exec.scala:816)\n\tat org.apache.spark.sql.execution.datasources.v2.V2CreateTableAsSelectBaseExec.writeToTable$(WriteToDataSourceV2Exec.scala:791)\n\tat org.apache.spark.sql.execution.datasources.v2.AtomicReplaceTableAsSelectExec.writeToTable(WriteToDataSourceV2Exec.scala:262)\n\tat org.apache.spark.sql.execution.datasources.v2.AtomicReplaceTableAsSelectExec.run(WriteToDataSourceV2Exec.scala:325)\n\tat org.apache.spark.sql.execution.datasources.v2.V2CommandExec.$anonfun$result$2(V2CommandExec.scala:48)\n\tat org.apache.spark.sql.execution.SparkPlan.runCommandInAetherOrSpark(SparkPlan.scala:194)\n\tat org.apache.spark.sql.execution.datasources.v2.V2CommandExec.$anonfun$result$1(V2CommandExec.scala:48)\n\tat com.databricks.spark.util.FrameProfiler$.record(FrameProfiler.scala:94)\n\tat org.apache.spark.sql.execution.datasources.v2.V2CommandExec.result$lzycompute(V2CommandExec.scala:47)\n\tat org.apache.spark.sql.execution.datasources.v2.V2CommandExec.result(V2CommandExec.scala:45)\n\tat org.apache.spark.sql.execution.datasources.v2.V2CommandExec.executeCollect(V2CommandExec.scala:56)\n\tat org.apache.spark.sql.execution.QueryExecution.$anonfun$eagerlyExecuteCommands$5(QueryExecution.scala:450)\n\tat com.databricks.util.LexicalThreadLocal$Handle.runWith(LexicalThreadLocal.scala:63)\n\tat org.apache.spark.sql.execution.QueryExecution.$anonfun$eagerlyExecuteCommands$4(QueryExecution.scala:450)\n\tat org.apache.spark.sql.catalyst.QueryPlanningTracker$.withTracker(QueryPlanningTracker.scala:216)\n\tat org.apache.spark.sql.execution.QueryExecution.$anonfun$eagerlyExecuteCommands$3(QueryExecution.scala:449)\n\tat org.apache.spark.sql.execution.SQLExecution$.$anonfun$withNewExecutionId0$11(SQLExecution.scala:477)\n\tat com.databricks.sql.util.MemoryTrackerHelper.withMemoryTracking(MemoryTrackerHelper.scala:80)\n\tat org.apache.spark.sql.execution.SQLExecution$.$anonfun$withNewExecutionId0$10(SQLExecution.scala:413)\n\tat org.apache.spark.sql.execution.SQLExecution$.withSQLConfPropagated(SQLExecution.scala:776)\n\tat org.apache.spark.sql.execution.SQLExecution$.$anonfun$withNewExecutionId0$1(SQLExecution.scala:343)\n\tat org.apache.spark.sql.SparkSession.withActive(SparkSession.scala:1450)\n\tat org.apache.spark.sql.execution.SQLExecution$.withNewExecutionId0(SQLExecution.scala:212)\n\tat org.apache.spark.sql.execution.SQLExecution$.withNewExecutionId(SQLExecution.scala:713)\n\tat org.apache.spark.sql.execution.QueryExecution.$anonfun$eagerlyExecuteCommands$2(QueryExecution.scala:445)\n\tat org.apache.spark.sql.execution.QueryExecution$.withInternalError(QueryExecution.scala:1308)\n\tat org.apache.spark.sql.execution.QueryExecution.$anonfun$eagerlyExecuteCommands$1(QueryExecution.scala:441)\n\tat org.apache.spark.sql.execution.QueryExecution.withMVTagsIfNecessary(QueryExecution.scala:370)\n\tat org.apache.spark.sql.execution.QueryExecution.org$apache$spark$sql$execution$QueryExecution$$eagerlyExecute$1(QueryExecution.scala:439)\n\tat org.apache.spark.sql.execution.QueryExecution$$anonfun$$nestedInanonfun$eagerlyExecuteCommands$8$1.applyOrElse(QueryExecution.scala:503)\n\tat org.apache.spark.sql.execution.QueryExecution$$anonfun$$nestedInanonfun$eagerlyExecuteCommands$8$1.applyOrElse(QueryExecution.scala:498)\n\tat org.apache.spark.sql.catalyst.trees.TreeNode.$anonfun$transformDownWithPruning$1(TreeNode.scala:521)\n\tat org.apache.spark.sql.catalyst.trees.CurrentOrigin$.withOrigin(origin.scala:85)\n\tat org.apache.spark.sql.catalyst.trees.TreeNode.transformDownWithPruning(TreeNode.scala:521)\n\tat org.apache.spark.sql.catalyst.plans.logical.LogicalPlan.org$apache$spark$sql$catalyst$plans$logical$AnalysisHelper$$super$transformDownWithPruning(LogicalPlan.scala:42)\n\tat org.apache.spark.sql.catalyst.plans.logical.AnalysisHelper.transformDownWithPruning(AnalysisHelper.scala:361)\n\tat org.apache.spark.sql.catalyst.plans.logical.AnalysisHelper.transformDownWithPruning$(AnalysisHelper.scala:357)\n\tat org.apache.spark.sql.catalyst.plans.logical.LogicalPlan.transformDownWithPruning(LogicalPlan.scala:42)\n\tat org.apache.spark.sql.catalyst.plans.logical.LogicalPlan.transformDownWithPruning(LogicalPlan.scala:42)\n\tat org.apache.spark.sql.catalyst.trees.TreeNode.transformDown(TreeNode.scala:497)\n\tat org.apache.spark.sql.execution.QueryExecution.$anonfun$eagerlyExecuteCommands$8(QueryExecution.scala:498)\n\tat org.apache.spark.sql.catalyst.plans.logical.AnalysisHelper$.allowInvokingTransformsInAnalyzer(AnalysisHelper.scala:418)\n\tat org.apache.spark.sql.execution.QueryExecution.eagerlyExecuteCommands(QueryExecution.scala:498)\n\tat org.apache.spark.sql.execution.QueryExecution.$anonfun$lazyCommandExecuted$1(QueryExecution.scala:326)\n\tat scala.util.Try$.apply(Try.scala:213)\n\tat org.apache.spark.util.Utils$.doTryWithCallerStacktrace(Utils.scala:1684)\n\tat org.apache.spark.util.LazyTry.tryT$lzycompute(LazyTry.scala:46)\n\tat org.apache.spark.util.LazyTry.tryT(LazyTry.scala:46)\n\tat org.apache.spark.util.LazyTry.get(LazyTry.scala:58)\n\tat org.apache.spark.sql.execution.QueryExecution.commandExecuted(QueryExecution.scala:331)\n\tat org.apache.spark.sql.execution.QueryExecution.assertCommandExecuted(QueryExecution.scala:528)\n\tat org.apache.spark.sql.DataFrameWriter.runCommand(DataFrameWriter.scala:1164)\n\tat org.apache.spark.sql.DataFrameWriter.saveAsTable(DataFrameWriter.scala:845)\n\tat org.apache.spark.sql.DataFrameWriter.saveAsTable(DataFrameWriter.scala:749)\n\tat org.apache.spark.sql.connect.planner.SparkConnectPlanner.handleWriteOperation(SparkConnectPlanner.scala:3874)\n\tat org.apache.spark.sql.connect.planner.SparkConnectPlanner.process(SparkConnectPlanner.scala:3362)\n\tat org.apache.spark.sql.connect.execution.ExecuteThreadRunner.handleCommand(ExecuteThreadRunner.scala:413)\n\tat org.apache.spark.sql.connect.execution.ExecuteThreadRunner.$anonfun$executeInternal$1(ExecuteThreadRunner.scala:312)\n\tat org.apache.spark.sql.connect.execution.ExecuteThreadRunner.$anonfun$executeInternal$1$adapted(ExecuteThreadRunner.scala:233)\n\tat org.apache.spark.sql.connect.service.SessionHolder.$anonfun$withSession$2(SessionHolder.scala:464)\n\tat org.apache.spark.sql.SparkSession.withActive(SparkSession.scala:1450)\n\tat org.apache.spark.sql.connect.service.SessionHolder.$anonfun$withSession$1(SessionHolder.scala:464)\n\tat org.apache.spark.JobArtifactSet$.withActiveJobArtifactState(JobArtifactSet.scala:97)\n\tat org.apache.spark.sql.artifact.ArtifactManager.$anonfun$withResources$1(ArtifactManager.scala:90)\n\tat org.apache.spark.util.Utils$.withContextClassLoader(Utils.scala:241)\n\tat org.apache.spark.sql.artifact.ArtifactManager.withResources(ArtifactManager.scala:89)\n\tat org.apache.spark.sql.connect.service.SessionHolder.withSession(SessionHolder.scala:463)\n\tat org.apache.spark.sql.connect.execution.ExecuteThreadRunner.executeInternal(ExecuteThreadRunner.scala:233)\n\tat org.apache.spark.sql.connect.execution.ExecuteThreadRunner.org$apache$spark$sql$connect$execution$ExecuteThreadRunner$$execute(ExecuteThreadRunner.scala:139)\n\tat org.apache.spark.sql.connect.execution.ExecuteThreadRunner$ExecutionThread.$anonfun$run$2(ExecuteThreadRunner.scala:614)\n\tat scala.runtime.java8.JFunction0$mcV$sp.apply(JFunction0$mcV$sp.java:23)\n\tat com.databricks.unity.UCSEphemeralState$Handle.runWith(UCSEphemeralState.scala:51)\n\tat com.databricks.unity.HandleImpl.runWith(UCSHandle.scala:104)\n\tat com.databricks.unity.HandleImpl.$anonfun$runWithAndClose$1(UCSHandle.scala:109)\n\tat scala.util.Using$.resource(Using.scala:269)\n\tat com.databricks.unity.HandleImpl.runWithAndClose(UCSHandle.scala:108)\n\tat org.apache.spark.sql.connect.execution.ExecuteThreadRunner$ExecutionThread.run(ExecuteThreadRunner.scala:614)"
        ],
        "type": "baseError"
       },
       "bindings": {},
       "collapsed": false,
       "command": "%python\n__backend_agg_display_orig = display\n__backend_agg_dfs = []\ndef __backend_agg_display_new(df):\n    __backend_agg_df_modules = [\"pandas.core.frame\", \"databricks.koalas.frame\", \"pyspark.sql.dataframe\", \"pyspark.pandas.frame\", \"pyspark.sql.connect.dataframe\"]\n    if (type(df).__module__ in __backend_agg_df_modules and type(df).__name__ == 'DataFrame') or isinstance(df, list):\n        __backend_agg_dfs.append(df)\n\ndisplay = __backend_agg_display_new\n\ndef __backend_agg_user_code_fn():\n    import base64\n    exec(base64.standard_b64decode(\"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\").decode())\n\ntry:\n    # run user code\n    __backend_agg_user_code_fn()\n\n    #reset display function\n    display = __backend_agg_display_orig\n\n    if len(__backend_agg_dfs) > 0:\n        # create a temp view\n        if type(__backend_agg_dfs[0]).__module__ == \"databricks.koalas.frame\":\n            # koalas dataframe\n            __backend_agg_dfs[0].to_spark().createOrReplaceTempView(\"DatabricksViewf6dab1a\")\n        elif type(__backend_agg_dfs[0]).__module__ == \"pandas.core.frame\" or isinstance(__backend_agg_dfs[0], list):\n            # pandas dataframe\n            spark.createDataFrame(__backend_agg_dfs[0]).createOrReplaceTempView(\"DatabricksViewf6dab1a\")\n        else:\n            __backend_agg_dfs[0].createOrReplaceTempView(\"DatabricksViewf6dab1a\")\n        #run backend agg\n        display(spark.sql(\"\"\"WITH q AS (select * from DatabricksViewf6dab1a) SELECT `cohort_month`,SUM(`second_within_1_month`) `column_8abbbaf9119`,SUM(`second_within_2_months`) `column_8abbbaf9122`,SUM(`second_within_3_months`) `column_8abbbaf9125` FROM q GROUP BY `cohort_month`\"\"\"))\n    else:\n        displayHTML(\"dataframe no longer exists. If you're using dataframe.display(), use display(dataframe) instead.\")\n\n\nfinally:\n    spark.sql(\"drop view if exists DatabricksViewf6dab1a\")\n    display = __backend_agg_display_orig\n    del __backend_agg_display_new\n    del __backend_agg_display_orig\n    del __backend_agg_dfs\n    del __backend_agg_user_code_fn\n\n",
       "commandTitle": "Count Customers sec Order",
       "commandType": "auto",
       "commandVersion": 0,
       "commentThread": [],
       "commentsVisible": false,
       "contentSha256Hex": null,
       "customPlotOptions": {
        "redashChart": [
         {
          "key": "type",
          "value": "CHART"
         },
         {
          "key": "options",
          "value": {
           "alignYAxesAtZero": true,
           "coefficient": 1,
           "columnConfigurationMap": {
            "x": {
             "column": "cohort_month",
             "id": "column_8abbbaf9149",
             "transform": "MONTH_LEVEL"
            },
            "y": [
             {
              "column": "second_within_1_month",
              "id": "column_8abbbaf9119"
             },
             {
              "column": "second_within_2_months",
              "id": "column_8abbbaf9122"
             },
             {
              "column": "second_within_3_months",
              "id": "column_8abbbaf9125"
             }
            ]
           },
           "dateTimeFormat": "DD/MM/YYYY HH:mm",
           "direction": {
            "type": "counterclockwise"
           },
           "error_y": {
            "type": "data",
            "visible": true
           },
           "globalSeriesType": "line",
           "hideXAxis": false,
           "isAggregationOn": false,
           "legend": {
            "traceorder": "normal"
           },
           "missingValuesAsZero": true,
           "numberFormat": "0,0.[00000]",
           "percentFormat": "0[.]00%",
           "series": {
            "error_y": {
             "type": "data",
             "visible": true
            },
            "stacking": null
           },
           "seriesOptions": {
            "second_within_1_month": {
             "name": "sec_within_1_month",
             "type": "line",
             "yAxis": 0
            },
            "second_within_2_months": {
             "name": "sec_within_2_months",
             "type": "line",
             "yAxis": 0
            },
            "second_within_3_months": {
             "name": "sec_within_3_months",
             "type": "line",
             "yAxis": 0
            }
           },
           "showDataLabels": true,
           "sizemode": "diameter",
           "sortX": true,
           "sortY": true,
           "swappedAxes": false,
           "textFormat": "",
           "useAggregationsUi": true,
           "valuesOptions": {},
           "version": 2,
           "xAxis": {
            "labels": {
             "enabled": true
            },
            "title": {
             "text": null
            },
            "type": "-"
           },
           "yAxis": [
            {
             "title": {
              "text": "customers_sec_order"
             },
             "type": "-"
            },
            {
             "opposite": true,
             "type": "-"
            }
           ]
          }
         }
        ]
       },
       "datasetPreviewNameToCmdIdMap": {},
       "diffDeletes": [],
       "diffInserts": [],
       "displayType": "redashChart",
       "error": null,
       "errorDetails": null,
       "errorSummary": null,
       "errorTraceType": null,
       "finishTime": 0,
       "globalVars": {},
       "guid": "",
       "height": "auto",
       "hideCommandCode": false,
       "hideCommandResult": false,
       "iPythonMetadata": null,
       "inputWidgets": {},
       "isLockedInExamMode": false,
       "latestUser": "a user",
       "latestUserId": null,
       "listResultMetadata": null,
       "metadata": {
        "byteLimit": 2048000,
        "rowLimit": 10000
       },
       "nuid": "cf135f52-b218-42fc-b50f-a47d2a62d1cf",
       "origId": 0,
       "parentHierarchy": [],
       "pivotAggregation": null,
       "pivotColumns": null,
       "position": 9.625,
       "resultDbfsErrorMessage": null,
       "resultDbfsStatus": "INLINED_IN_TREE",
       "results": null,
       "showCommandTitle": false,
       "startTime": 0,
       "state": "input",
       "streamStates": {},
       "subcommandOptions": {
        "queryPlan": {
         "selects": [
          {
           "alias": "column_8abbbaf9149",
           "args": [
            {
             "column": "cohort_month",
             "type": "column"
            },
            {
             "string": "MONTH",
             "type": "string"
            }
           ],
           "function": "DATE_TRUNC",
           "type": "function"
          },
          {
           "column": "second_within_1_month",
           "type": "column"
          },
          {
           "column": "second_within_2_months",
           "type": "column"
          },
          {
           "column": "second_within_3_months",
           "type": "column"
          }
         ]
        }
       },
       "submitTime": 0,
       "subtype": "tableResultSubCmd.visualization",
       "tableResultIndex": 0,
       "tableResultSettingsMap": {},
       "useConsistentColors": false,
       "version": "CommandV1",
       "width": "auto",
       "workflows": [],
       "xColumns": null,
       "yColumns": null
      }
     },
     "output_type": "display_data"
    }
   ],
   "source": [
    "final_ret_df = spark.sql(\"\"\"\n",
    "WITH first_and_second_orders AS (\n",
    "    SELECT\n",
    "        customer_id,\n",
    "        order_date,\n",
    "        --Assigns a sequential number to each order per customer based on the earliest order first.\n",
    "        --This is used to identify the first and second orders for each customer.\n",
    "        ROW_NUMBER() OVER (PARTITION BY customer_id ORDER BY order_date) AS order_rank \n",
    "    FROM ecom_orders\n",
    "),\n",
    "\n",
    "customer_orders AS (\n",
    "    SELECT\n",
    "        customer_id,\n",
    "        MIN(CASE WHEN order_rank = 1 THEN order_date END) AS first_purchase_date,\n",
    "        MIN(CASE WHEN order_rank = 2 THEN order_date END) AS second_purchase_date\n",
    "    FROM first_and_second_orders\n",
    "    GROUP BY customer_id\n",
    "),\n",
    "\n",
    "cohorts AS (\n",
    "    SELECT\n",
    "        customer_id,\n",
    "        CAST(DATE_TRUNC('month', first_purchase_date) AS DATE) AS cohort_month,\n",
    "        first_purchase_date,\n",
    "        second_purchase_date,\n",
    "        DATEDIFF(second_purchase_date, first_purchase_date) AS days_between\n",
    "    FROM customer_orders\n",
    "    WHERE first_purchase_date IS NOT NULL\n",
    ")\n",
    "\n",
    "SELECT\n",
    "    cohort_month,\n",
    "    COUNT(*) AS total_customers,\n",
    "    SUM(CASE WHEN second_purchase_date IS NOT NULL AND days_between <= 30 THEN 1 ELSE 0 END) AS second_within_1_month,\n",
    "    SUM(CASE WHEN second_purchase_date IS NOT NULL AND days_between <= 60 THEN 1 ELSE 0 END) AS second_within_2_months,\n",
    "    SUM(CASE WHEN second_purchase_date IS NOT NULL AND days_between <= 90 THEN 1 ELSE 0 END) AS second_within_3_months,\n",
    "    ROUND(100.0 * SUM(CASE WHEN second_purchase_date IS NOT NULL AND days_between <= 30 THEN 1 ELSE 0 END) / COUNT(*), 1) AS retention_rate_1_month,\n",
    "    ROUND(100.0 * SUM(CASE WHEN second_purchase_date IS NOT NULL AND days_between <= 60 THEN 1 ELSE 0 END) / COUNT(*), 1) AS retention_rate_2_months,\n",
    "    ROUND(100.0 * SUM(CASE WHEN second_purchase_date IS NOT NULL AND days_between <= 90 THEN 1 ELSE 0 END) / COUNT(*), 1) AS retention_rate_3_months\n",
    "FROM cohorts\n",
    "GROUP BY cohort_month\n",
    "ORDER BY cohort_month\n",
    ";\n",
    "\n",
    "\n",
    "\"\"\")\n",
    "\n",
    "# Show in notebook\n",
    "final_ret_df.display()\n",
    "\n",
    "# Save as permanent table\n",
    "\n",
    "spark.sql(\"DROP TABLE IF EXISTS workspace.default_cohort_db.retention_rate_by_cohort\")\n",
    "final_ret_df.write.format(\"delta\").saveAsTable(\"workspace.default_cohort_db.retention_rate_by_cohort\")\n"
   ]
  },
  {
   "cell_type": "code",
   "execution_count": 0,
   "metadata": {
    "application/vnd.databricks.v1+cell": {
     "cellMetadata": {
      "byteLimit": 2048000,
      "implicitDf": true,
      "rowLimit": 10000
     },
     "collapsed": true,
     "inputWidgets": {},
     "nuid": "8c9a07ee-83c3-4bda-bbd8-d2ba5e0a97b1",
     "showTitle": false,
     "tableResultSettingsMap": {},
     "title": ""
    }
   },
   "outputs": [
    {
     "output_type": "display_data",
     "data": {
      "text/html": [
       "<style scoped>\n",
       "  .table-result-container {\n",
       "    max-height: 300px;\n",
       "    overflow: auto;\n",
       "  }\n",
       "  table, th, td {\n",
       "    border: 1px solid black;\n",
       "    border-collapse: collapse;\n",
       "  }\n",
       "  th, td {\n",
       "    padding: 5px;\n",
       "  }\n",
       "  th {\n",
       "    text-align: left;\n",
       "  }\n",
       "</style><div class='table-result-container'><table class='table-result'><thead style='background-color: white'><tr><th>customer_id</th><th>num_orders</th></tr></thead><tbody><tr><td>CUST094</td><td>1</td></tr><tr><td>CUST026</td><td>1</td></tr></tbody></table></div>"
      ]
     },
     "metadata": {
      "application/vnd.databricks.v1+output": {
       "addedWidgets": {},
       "aggData": [],
       "aggError": "",
       "aggOverflow": false,
       "aggSchema": [],
       "aggSeriesLimitReached": false,
       "aggType": "",
       "arguments": {},
       "columnCustomDisplayInfos": {},
       "data": [
        [
         "CUST094",
         1
        ],
        [
         "CUST026",
         1
        ]
       ],
       "datasetInfos": [
        {
         "name": "_sqldf",
         "schema": {
          "fields": [
           {
            "metadata": {},
            "name": "customer_id",
            "nullable": true,
            "type": "string"
           },
           {
            "metadata": {},
            "name": "num_orders",
            "nullable": false,
            "type": "long"
           }
          ],
          "type": "struct"
         },
         "tableIdentifier": null,
         "typeStr": "pyspark.sql.connect.dataframe.DataFrame"
        }
       ],
       "dbfsResultPath": null,
       "isJsonSchema": true,
       "metadata": {
        "createTempViewForImplicitDf": true,
        "dataframeName": "_sqldf",
        "executionCount": 48
       },
       "overflow": false,
       "plotOptions": {
        "customPlotOptions": {},
        "displayType": "table",
        "pivotAggregation": null,
        "pivotColumns": null,
        "xColumns": null,
        "yColumns": null
       },
       "removedWidgets": [],
       "schema": [
        {
         "metadata": "{}",
         "name": "customer_id",
         "type": "\"string\""
        },
        {
         "metadata": "{}",
         "name": "num_orders",
         "type": "\"long\""
        }
       ],
       "type": "table"
      }
     },
     "output_type": "display_data"
    }
   ],
   "source": [
    "%sql\n",
    "SELECT customer_id, \n",
    "COUNT(DISTINCT order_id) AS num_orders\n",
    "FROM ecom_orders\n",
    "GROUP BY customer_id\n",
    "HAVING num_orders = 1\n"
   ]
  },
  {
   "cell_type": "code",
   "execution_count": 0,
   "metadata": {
    "application/vnd.databricks.v1+cell": {
     "cellMetadata": {
      "byteLimit": 2048000,
      "rowLimit": 10000
     },
     "collapsed": true,
     "inputWidgets": {},
     "nuid": "42eccc4d-463e-4a1b-94aa-d32ef63fa4da",
     "showTitle": false,
     "tableResultSettingsMap": {},
     "title": ""
    }
   },
   "outputs": [
    {
     "output_type": "display_data",
     "data": {
      "text/html": [
       "<style scoped>\n",
       "  .table-result-container {\n",
       "    max-height: 300px;\n",
       "    overflow: auto;\n",
       "  }\n",
       "  table, th, td {\n",
       "    border: 1px solid black;\n",
       "    border-collapse: collapse;\n",
       "  }\n",
       "  th, td {\n",
       "    padding: 5px;\n",
       "  }\n",
       "  th {\n",
       "    text-align: left;\n",
       "  }\n",
       "</style><div class='table-result-container'><table class='table-result'><thead style='background-color: white'><tr><th>one_order_customers</th></tr></thead><tbody><tr><td>2</td></tr></tbody></table></div>"
      ]
     },
     "metadata": {
      "application/vnd.databricks.v1+output": {
       "addedWidgets": {},
       "aggData": [],
       "aggError": "",
       "aggOverflow": false,
       "aggSchema": [],
       "aggSeriesLimitReached": false,
       "aggType": "",
       "arguments": {},
       "columnCustomDisplayInfos": {},
       "data": [
        [
         2
        ]
       ],
       "datasetInfos": [],
       "dbfsResultPath": null,
       "isJsonSchema": true,
       "metadata": {},
       "overflow": false,
       "plotOptions": {
        "customPlotOptions": {},
        "displayType": "table",
        "pivotAggregation": null,
        "pivotColumns": null,
        "xColumns": null,
        "yColumns": null
       },
       "removedWidgets": [],
       "schema": [
        {
         "metadata": "{}",
         "name": "one_order_customers",
         "type": "\"long\""
        }
       ],
       "type": "table"
      }
     },
     "output_type": "display_data"
    }
   ],
   "source": [
    "##Check for customers with only 1 order\n",
    "\n",
    "spark.sql(\"\"\"\n",
    "SELECT\n",
    "    COUNT(*) AS one_order_customers\n",
    "FROM (\n",
    "    SELECT customer_id, \n",
    "    COUNT(DISTINCT order_id) AS num_orders\n",
    "    FROM ecom_orders\n",
    "    GROUP BY customer_id\n",
    "    HAVING num_orders = 1\n",
    ")\n",
    "\"\"\").display()\n"
   ]
  },
  {
   "cell_type": "code",
   "execution_count": 0,
   "metadata": {
    "application/vnd.databricks.v1+cell": {
     "cellMetadata": {
      "byteLimit": 2048000,
      "rowLimit": 10000
     },
     "collapsed": true,
     "inputWidgets": {},
     "nuid": "55c2ac6f-f437-441a-a89b-2db327c4cd69",
     "showTitle": false,
     "tableResultSettingsMap": {},
     "title": ""
    }
   },
   "outputs": [
    {
     "output_type": "display_data",
     "data": {
      "text/html": [
       "<style scoped>\n",
       "  .table-result-container {\n",
       "    max-height: 300px;\n",
       "    overflow: auto;\n",
       "  }\n",
       "  table, th, td {\n",
       "    border: 1px solid black;\n",
       "    border-collapse: collapse;\n",
       "  }\n",
       "  th, td {\n",
       "    padding: 5px;\n",
       "  }\n",
       "  th {\n",
       "    text-align: left;\n",
       "  }\n",
       "</style><div class='table-result-container'><table class='table-result'><thead style='background-color: white'><tr><th>order_id</th><th>occurrences</th></tr></thead><tbody></tbody></table></div>"
      ]
     },
     "metadata": {
      "application/vnd.databricks.v1+output": {
       "addedWidgets": {},
       "aggData": [],
       "aggError": "",
       "aggOverflow": false,
       "aggSchema": [],
       "aggSeriesLimitReached": false,
       "aggType": "",
       "arguments": {},
       "columnCustomDisplayInfos": {},
       "data": [],
       "datasetInfos": [],
       "dbfsResultPath": null,
       "isJsonSchema": true,
       "metadata": {},
       "overflow": false,
       "plotOptions": {
        "customPlotOptions": {},
        "displayType": "table",
        "pivotAggregation": null,
        "pivotColumns": null,
        "xColumns": null,
        "yColumns": null
       },
       "removedWidgets": [],
       "schema": [
        {
         "metadata": "{}",
         "name": "order_id",
         "type": "\"string\""
        },
        {
         "metadata": "{}",
         "name": "occurrences",
         "type": "\"long\""
        }
       ],
       "type": "table"
      }
     },
     "output_type": "display_data"
    }
   ],
   "source": [
    "\n",
    "## Check for duplicate order_ids\n",
    "\n",
    "spark.sql(\"\"\"\n",
    "SELECT\n",
    "    order_id,\n",
    "    COUNT(*) AS occurrences\n",
    "FROM ecom_orders\n",
    "GROUP BY order_id\n",
    "HAVING COUNT(*) > 1\n",
    "ORDER BY occurrences DESC\n",
    "\"\"\").display()\n",
    "\n"
   ]
  },
  {
   "cell_type": "code",
   "execution_count": 0,
   "metadata": {
    "application/vnd.databricks.v1+cell": {
     "cellMetadata": {
      "byteLimit": 2048000,
      "implicitDf": true,
      "rowLimit": 10000
     },
     "collapsed": true,
     "inputWidgets": {},
     "nuid": "1c24fb4d-ebfb-4a45-b55f-6f370626c43c",
     "showTitle": false,
     "tableResultSettingsMap": {},
     "title": ""
    }
   },
   "outputs": [
    {
     "output_type": "display_data",
     "data": {
      "text/html": [
       "<style scoped>\n",
       "  .table-result-container {\n",
       "    max-height: 300px;\n",
       "    overflow: auto;\n",
       "  }\n",
       "  table, th, td {\n",
       "    border: 1px solid black;\n",
       "    border-collapse: collapse;\n",
       "  }\n",
       "  th, td {\n",
       "    padding: 5px;\n",
       "  }\n",
       "  th {\n",
       "    text-align: left;\n",
       "  }\n",
       "</style><div class='table-result-container'><table class='table-result'><thead style='background-color: white'><tr><th>customer_id</th><th>order_count</th><th>first_order</th></tr></thead><tbody><tr><td>CUST094</td><td>1</td><td>2024-04-03</td></tr><tr><td>CUST026</td><td>1</td><td>2024-02-14</td></tr></tbody></table></div>"
      ]
     },
     "metadata": {
      "application/vnd.databricks.v1+output": {
       "addedWidgets": {},
       "aggData": [],
       "aggError": "",
       "aggOverflow": false,
       "aggSchema": [],
       "aggSeriesLimitReached": false,
       "aggType": "",
       "arguments": {},
       "columnCustomDisplayInfos": {},
       "data": [
        [
         "CUST094",
         1,
         "2024-04-03"
        ],
        [
         "CUST026",
         1,
         "2024-02-14"
        ]
       ],
       "datasetInfos": [
        {
         "name": "_sqldf",
         "schema": {
          "fields": [
           {
            "metadata": {},
            "name": "customer_id",
            "nullable": true,
            "type": "string"
           },
           {
            "metadata": {},
            "name": "order_count",
            "nullable": false,
            "type": "long"
           },
           {
            "metadata": {},
            "name": "first_order",
            "nullable": true,
            "type": "date"
           }
          ],
          "type": "struct"
         },
         "tableIdentifier": null,
         "typeStr": "pyspark.sql.connect.dataframe.DataFrame"
        }
       ],
       "dbfsResultPath": null,
       "isJsonSchema": true,
       "metadata": {
        "createTempViewForImplicitDf": true,
        "dataframeName": "_sqldf",
        "executionCount": 51
       },
       "overflow": false,
       "plotOptions": {
        "customPlotOptions": {},
        "displayType": "table",
        "pivotAggregation": null,
        "pivotColumns": null,
        "xColumns": null,
        "yColumns": null
       },
       "removedWidgets": [],
       "schema": [
        {
         "metadata": "{}",
         "name": "customer_id",
         "type": "\"string\""
        },
        {
         "metadata": "{}",
         "name": "order_count",
         "type": "\"long\""
        },
        {
         "metadata": "{}",
         "name": "first_order",
         "type": "\"date\""
        }
       ],
       "type": "table"
      }
     },
     "output_type": "display_data"
    }
   ],
   "source": [
    "%sql\n",
    "SELECT\n",
    "  customer_id,\n",
    "  COUNT(DISTINCT order_id) AS order_count,\n",
    "  MIN(order_date) AS first_order\n",
    "FROM ecom_orders\n",
    "GROUP BY customer_id\n",
    "HAVING order_count = 1"
   ]
  },
  {
   "cell_type": "code",
   "execution_count": 0,
   "metadata": {
    "application/vnd.databricks.v1+cell": {
     "cellMetadata": {
      "byteLimit": 2048000,
      "implicitDf": true,
      "rowLimit": 10000
     },
     "collapsed": true,
     "inputWidgets": {},
     "nuid": "0a9bcc2c-17c1-4ad7-8a2f-1630e9444c26",
     "showTitle": false,
     "tableResultSettingsMap": {},
     "title": ""
    }
   },
   "outputs": [
    {
     "output_type": "display_data",
     "data": {
      "text/html": [
       "<style scoped>\n",
       "  .table-result-container {\n",
       "    max-height: 300px;\n",
       "    overflow: auto;\n",
       "  }\n",
       "  table, th, td {\n",
       "    border: 1px solid black;\n",
       "    border-collapse: collapse;\n",
       "  }\n",
       "  th, td {\n",
       "    padding: 5px;\n",
       "  }\n",
       "  th {\n",
       "    text-align: left;\n",
       "  }\n",
       "</style><div class='table-result-container'><table class='table-result'><thead style='background-color: white'><tr><th>cohort_month</th><th>COUNT(*)</th></tr></thead><tbody><tr><td>2024-02-01T00:00:00.000Z</td><td>1</td></tr><tr><td>2024-04-01T00:00:00.000Z</td><td>1</td></tr></tbody></table></div>"
      ]
     },
     "metadata": {
      "application/vnd.databricks.v1+output": {
       "addedWidgets": {},
       "aggData": [],
       "aggError": "",
       "aggOverflow": false,
       "aggSchema": [],
       "aggSeriesLimitReached": false,
       "aggType": "",
       "arguments": {},
       "columnCustomDisplayInfos": {},
       "data": [
        [
         "2024-02-01T00:00:00.000Z",
         1
        ],
        [
         "2024-04-01T00:00:00.000Z",
         1
        ]
       ],
       "datasetInfos": [
        {
         "name": "_sqldf",
         "schema": {
          "fields": [
           {
            "metadata": {},
            "name": "cohort_month",
            "nullable": true,
            "type": "timestamp"
           },
           {
            "metadata": {},
            "name": "COUNT(*)",
            "nullable": false,
            "type": "long"
           }
          ],
          "type": "struct"
         },
         "tableIdentifier": null,
         "typeStr": "pyspark.sql.connect.dataframe.DataFrame"
        }
       ],
       "dbfsResultPath": null,
       "isJsonSchema": true,
       "metadata": {
        "createTempViewForImplicitDf": true,
        "dataframeName": "_sqldf",
        "executionCount": 53
       },
       "overflow": false,
       "plotOptions": {
        "customPlotOptions": {},
        "displayType": "table",
        "pivotAggregation": null,
        "pivotColumns": null,
        "xColumns": null,
        "yColumns": null
       },
       "removedWidgets": [],
       "schema": [
        {
         "metadata": "{}",
         "name": "cohort_month",
         "type": "\"timestamp\""
        },
        {
         "metadata": "{}",
         "name": "COUNT(*)",
         "type": "\"long\""
        }
       ],
       "type": "table"
      }
     },
     "output_type": "display_data"
    }
   ],
   "source": [
    "%sql\n",
    "SELECT\n",
    "  DATE_TRUNC('month', DATE(first_order)) AS cohort_month,\n",
    "  COUNT(*)\n",
    "FROM (\n",
    " SELECT\n",
    "  customer_id,\n",
    "  COUNT(DISTINCT order_id) AS order_count,\n",
    "  MIN(order_date) AS first_order\n",
    "FROM ecom_orders\n",
    "GROUP BY customer_id\n",
    "HAVING order_count = 1\n",
    ")\n",
    "GROUP BY 1\n"
   ]
  },
  {
   "cell_type": "code",
   "execution_count": 0,
   "metadata": {
    "application/vnd.databricks.v1+cell": {
     "cellMetadata": {
      "byteLimit": 2048000,
      "implicitDf": true,
      "rowLimit": 10000
     },
     "collapsed": true,
     "inputWidgets": {},
     "nuid": "3797bc06-8137-441c-bf21-f22d85386d30",
     "showTitle": false,
     "tableResultSettingsMap": {},
     "title": ""
    }
   },
   "outputs": [
    {
     "output_type": "display_data",
     "data": {
      "text/html": [
       "<style scoped>\n",
       "  .table-result-container {\n",
       "    max-height: 300px;\n",
       "    overflow: auto;\n",
       "  }\n",
       "  table, th, td {\n",
       "    border: 1px solid black;\n",
       "    border-collapse: collapse;\n",
       "  }\n",
       "  th, td {\n",
       "    padding: 5px;\n",
       "  }\n",
       "  th {\n",
       "    text-align: left;\n",
       "  }\n",
       "</style><div class='table-result-container'><table class='table-result'><thead style='background-color: white'><tr><th>order_id</th><th>COUNT(*)</th></tr></thead><tbody></tbody></table></div>"
      ]
     },
     "metadata": {
      "application/vnd.databricks.v1+output": {
       "addedWidgets": {},
       "aggData": [],
       "aggError": "",
       "aggOverflow": false,
       "aggSchema": [],
       "aggSeriesLimitReached": false,
       "aggType": "",
       "arguments": {},
       "columnCustomDisplayInfos": {},
       "data": [],
       "datasetInfos": [
        {
         "name": "_sqldf",
         "schema": {
          "fields": [
           {
            "metadata": {},
            "name": "order_id",
            "nullable": true,
            "type": "string"
           },
           {
            "metadata": {},
            "name": "COUNT(*)",
            "nullable": false,
            "type": "long"
           }
          ],
          "type": "struct"
         },
         "tableIdentifier": null,
         "typeStr": "pyspark.sql.connect.dataframe.DataFrame"
        }
       ],
       "dbfsResultPath": null,
       "isJsonSchema": true,
       "metadata": {
        "createTempViewForImplicitDf": true,
        "dataframeName": "_sqldf",
        "executionCount": 52
       },
       "overflow": false,
       "plotOptions": {
        "customPlotOptions": {},
        "displayType": "table",
        "pivotAggregation": null,
        "pivotColumns": null,
        "xColumns": null,
        "yColumns": null
       },
       "removedWidgets": [],
       "schema": [
        {
         "metadata": "{}",
         "name": "order_id",
         "type": "\"string\""
        },
        {
         "metadata": "{}",
         "name": "COUNT(*)",
         "type": "\"long\""
        }
       ],
       "type": "table"
      }
     },
     "output_type": "display_data"
    }
   ],
   "source": [
    "%sql\n",
    "SELECT order_id, COUNT(*) \n",
    "FROM ecom_orders\n",
    "GROUP BY order_id\n",
    "HAVING COUNT(*) > 1\n",
    "LIMIT 10\n"
   ]
  },
  {
   "cell_type": "code",
   "execution_count": 0,
   "metadata": {
    "application/vnd.databricks.v1+cell": {
     "cellMetadata": {
      "byteLimit": 2048000,
      "implicitDf": true,
      "rowLimit": 10000
     },
     "collapsed": true,
     "inputWidgets": {},
     "nuid": "94a338ce-d54c-49ac-b1bf-f575cc05fa68",
     "showTitle": false,
     "tableResultSettingsMap": {},
     "title": ""
    }
   },
   "outputs": [
    {
     "output_type": "display_data",
     "data": {
      "text/html": [
       "<style scoped>\n",
       "  .table-result-container {\n",
       "    max-height: 300px;\n",
       "    overflow: auto;\n",
       "  }\n",
       "  table, th, td {\n",
       "    border: 1px solid black;\n",
       "    border-collapse: collapse;\n",
       "  }\n",
       "  th, td {\n",
       "    padding: 5px;\n",
       "  }\n",
       "  th {\n",
       "    text-align: left;\n",
       "  }\n",
       "</style><div class='table-result-container'><table class='table-result'><thead style='background-color: white'><tr><th>cohort_month</th><th>COUNT(*)</th></tr></thead><tbody><tr><td>2024-01-01T00:00:00.000Z</td><td>66</td></tr><tr><td>2024-02-01T00:00:00.000Z</td><td>48</td></tr><tr><td>2024-03-01T00:00:00.000Z</td><td>33</td></tr><tr><td>2024-04-01T00:00:00.000Z</td><td>27</td></tr><tr><td>2024-05-01T00:00:00.000Z</td><td>16</td></tr><tr><td>2024-06-01T00:00:00.000Z</td><td>10</td></tr></tbody></table></div>"
      ]
     },
     "metadata": {
      "application/vnd.databricks.v1+output": {
       "addedWidgets": {},
       "aggData": [],
       "aggError": "",
       "aggOverflow": false,
       "aggSchema": [],
       "aggSeriesLimitReached": false,
       "aggType": "",
       "arguments": {},
       "columnCustomDisplayInfos": {},
       "data": [
        [
         "2024-01-01T00:00:00.000Z",
         66
        ],
        [
         "2024-02-01T00:00:00.000Z",
         48
        ],
        [
         "2024-03-01T00:00:00.000Z",
         33
        ],
        [
         "2024-04-01T00:00:00.000Z",
         27
        ],
        [
         "2024-05-01T00:00:00.000Z",
         16
        ],
        [
         "2024-06-01T00:00:00.000Z",
         10
        ]
       ],
       "datasetInfos": [
        {
         "name": "_sqldf",
         "schema": {
          "fields": [
           {
            "metadata": {},
            "name": "cohort_month",
            "nullable": true,
            "type": "timestamp"
           },
           {
            "metadata": {},
            "name": "COUNT(*)",
            "nullable": false,
            "type": "long"
           }
          ],
          "type": "struct"
         },
         "tableIdentifier": null,
         "typeStr": "pyspark.sql.connect.dataframe.DataFrame"
        }
       ],
       "dbfsResultPath": null,
       "isJsonSchema": true,
       "metadata": {
        "createTempViewForImplicitDf": true,
        "dataframeName": "_sqldf",
        "executionCount": 54
       },
       "overflow": false,
       "plotOptions": {
        "customPlotOptions": {},
        "displayType": "table",
        "pivotAggregation": null,
        "pivotColumns": null,
        "xColumns": null,
        "yColumns": null
       },
       "removedWidgets": [],
       "schema": [
        {
         "metadata": "{}",
         "name": "cohort_month",
         "type": "\"timestamp\""
        },
        {
         "metadata": "{}",
         "name": "COUNT(*)",
         "type": "\"long\""
        }
       ],
       "type": "table"
      }
     },
     "output_type": "display_data"
    }
   ],
   "source": [
    "%sql\n",
    "WITH customer_orders AS (\n",
    "  SELECT\n",
    "    customer_id,\n",
    "    DATE_TRUNC('month', MIN(order_date)) AS cohort_month\n",
    "  FROM ecom_orders\n",
    "  GROUP BY customer_id\n",
    ")\n",
    "SELECT cohort_month, COUNT(*) FROM customer_orders GROUP BY 1 ORDER BY 1\n",
    "\n"
   ]
  },
  {
   "cell_type": "markdown",
   "metadata": {
    "application/vnd.databricks.v1+cell": {
     "cellMetadata": {},
     "inputWidgets": {},
     "nuid": "7d134558-8729-4f53-8698-89851a29b08d",
     "showTitle": false,
     "tableResultSettingsMap": {},
     "title": ""
    }
   },
   "source": [
    "# Repeat Purchase Rate by Cohort\n",
    "\n",
    "Step 1: Create a Query to Compute Repeat Purchase Rates. \n",
    "\n",
    "Write a query that calculates, for each customer, the first purchase date and total orders.  \n",
    "\n",
    "Then, group customers into monthly cohorts and compute the percentage of customers who placed at least a 2nd, 3rd, and 4th order."
   ]
  },
  {
   "cell_type": "code",
   "execution_count": 0,
   "metadata": {
    "application/vnd.databricks.v1+cell": {
     "cellMetadata": {
      "byteLimit": 2048000,
      "rowLimit": 10000
     },
     "inputWidgets": {},
     "nuid": "508ef8ce-6146-4f12-9871-d7167e442e8a",
     "showTitle": false,
     "tableResultSettingsMap": {},
     "title": ""
    }
   },
   "outputs": [
    {
     "output_type": "display_data",
     "data": {
      "text/html": [
       "<style scoped>\n",
       "  .table-result-container {\n",
       "    max-height: 300px;\n",
       "    overflow: auto;\n",
       "  }\n",
       "  table, th, td {\n",
       "    border: 1px solid black;\n",
       "    border-collapse: collapse;\n",
       "  }\n",
       "  th, td {\n",
       "    padding: 5px;\n",
       "  }\n",
       "  th {\n",
       "    text-align: left;\n",
       "  }\n",
       "</style><div class='table-result-container'><table class='table-result'><thead style='background-color: white'><tr><th>cohort_month</th><th>total_customers</th><th>repeat_rate_2_orders</th><th>repeat_rate_3_orders</th><th>repeat_rate_4_orders</th></tr></thead><tbody><tr><td>2024-01-01</td><td>66</td><td>100.0</td><td>98.5</td><td>83.3</td></tr><tr><td>2024-02-01</td><td>48</td><td>97.9</td><td>95.8</td><td>81.3</td></tr><tr><td>2024-03-01</td><td>33</td><td>100.0</td><td>93.9</td><td>81.8</td></tr><tr><td>2024-04-01</td><td>27</td><td>96.3</td><td>85.2</td><td>77.8</td></tr><tr><td>2024-05-01</td><td>16</td><td>100.0</td><td>93.8</td><td>68.8</td></tr><tr><td>2024-06-01</td><td>10</td><td>100.0</td><td>70.0</td><td>60.0</td></tr></tbody></table></div>"
      ]
     },
     "metadata": {
      "application/vnd.databricks.v1+output": {
       "addedWidgets": {},
       "aggData": [],
       "aggError": "",
       "aggOverflow": false,
       "aggSchema": [],
       "aggSeriesLimitReached": false,
       "aggType": "",
       "arguments": {},
       "columnCustomDisplayInfos": {},
       "data": [
        [
         "2024-01-01",
         66,
         "100.0",
         "98.5",
         "83.3"
        ],
        [
         "2024-02-01",
         48,
         "97.9",
         "95.8",
         "81.3"
        ],
        [
         "2024-03-01",
         33,
         "100.0",
         "93.9",
         "81.8"
        ],
        [
         "2024-04-01",
         27,
         "96.3",
         "85.2",
         "77.8"
        ],
        [
         "2024-05-01",
         16,
         "100.0",
         "93.8",
         "68.8"
        ],
        [
         "2024-06-01",
         10,
         "100.0",
         "70.0",
         "60.0"
        ]
       ],
       "datasetInfos": [],
       "dbfsResultPath": null,
       "isJsonSchema": true,
       "metadata": {},
       "overflow": false,
       "plotOptions": {
        "customPlotOptions": {},
        "displayType": "table",
        "pivotAggregation": null,
        "pivotColumns": null,
        "xColumns": null,
        "yColumns": null
       },
       "removedWidgets": [],
       "schema": [
        {
         "metadata": "{}",
         "name": "cohort_month",
         "type": "\"date\""
        },
        {
         "metadata": "{}",
         "name": "total_customers",
         "type": "\"long\""
        },
        {
         "metadata": "{}",
         "name": "repeat_rate_2_orders",
         "type": "\"decimal(26,1)\""
        },
        {
         "metadata": "{}",
         "name": "repeat_rate_3_orders",
         "type": "\"decimal(26,1)\""
        },
        {
         "metadata": "{}",
         "name": "repeat_rate_4_orders",
         "type": "\"decimal(26,1)\""
        }
       ],
       "type": "table"
      }
     },
     "output_type": "display_data"
    },
    {
     "output_type": "display_data",
     "data": {
      "text/plain": [
       "Databricks visualization. Run in Databricks to view."
      ]
     },
     "metadata": {
      "application/vnd.databricks.v1.subcommand+json": {
       "baseErrorDetails": null,
       "bindings": {},
       "collapsed": false,
       "command": "%python\n__backend_agg_display_orig = display\n__backend_agg_dfs = []\ndef __backend_agg_display_new(df):\n    __backend_agg_df_modules = [\"pandas.core.frame\", \"databricks.koalas.frame\", \"pyspark.sql.dataframe\", \"pyspark.pandas.frame\", \"pyspark.sql.connect.dataframe\"]\n    if (type(df).__module__ in __backend_agg_df_modules and type(df).__name__ == 'DataFrame') or isinstance(df, list):\n        __backend_agg_dfs.append(df)\n\ndisplay = __backend_agg_display_new\n\ndef __backend_agg_user_code_fn():\n    import base64\n    exec(base64.standard_b64decode(\"cmVwZWF0X3B1cmNoYXNlX2RmID0gc3Bhcmsuc3FsKCIiIgpXSVRIIGN1c3RvbWVyX29yZGVycyBBUyAoCiAgICBTRUxFQ1QKICAgICAgICBjdXN0b21lcl9pZCwKICAgICAgICBDQVNUKERBVEVfVFJVTkMoJ21vbnRoJywgTUlOKG9yZGVyX2RhdGUpKSBBUyBEQVRFKSBBUyBjb2hvcnRfbW9udGgsCiAgICAgICAgQ09VTlQoRElTVElOQ1Qgb3JkZXJfaWQpIEFTIHRvdGFsX29yZGVycwogICAgRlJPTSBjb2hvcnRfYmlncXVlcnlfYW5hbHlzaXNfY2F0YWxvZy5jb2hvcnRfZGIuZWNvbV9vcmRlcnMKICAgIEdST1VQIEJZIGN1c3RvbWVyX2lkCiksCgpjb2hvcnRfc3RhdHMgQVMgKAogICAgU0VMRUNUCiAgICAgICAgY29ob3J0X21vbnRoLAogICAgICAgIENPVU5UKCopIEFTIHRvdGFsX2N1c3RvbWVycywKICAgICAgICBDT1VOVF9JRih0b3RhbF9vcmRlcnMgPj0gMikgQVMgcmVwZWF0XzJfb3JkZXJzLAogICAgICAgIENPVU5UX0lGKHRvdGFsX29yZGVycyA+PSAzKSBBUyByZXBlYXRfM19vcmRlcnMsCiAgICAgICAgQ09VTlRfSUYodG90YWxfb3JkZXJzID49IDQpIEFTIHJlcGVhdF80X29yZGVycwogICAgRlJPTSBjdXN0b21lcl9vcmRlcnMKICAgIEdST1VQIEJZIGNvaG9ydF9tb250aAopCgpTRUxFQ1QKICAgIGNvaG9ydF9tb250aCwKICAgIHRvdGFsX2N1c3RvbWVycywKICAgIFJPVU5EKDEwMC4wICogcmVwZWF0XzJfb3JkZXJzIC8gdG90YWxfY3VzdG9tZXJzLCAxKSBBUyByZXBlYXRfcmF0ZV8yX29yZGVycywKICAgIFJPVU5EKDEwMC4wICogcmVwZWF0XzNfb3JkZXJzIC8gdG90YWxfY3VzdG9tZXJzLCAxKSBBUyByZXBlYXRfcmF0ZV8zX29yZGVycywKICAgIFJPVU5EKDEwMC4wICogcmVwZWF0XzRfb3JkZXJzIC8gdG90YWxfY3VzdG9tZXJzLCAxKSBBUyByZXBlYXRfcmF0ZV80X29yZGVycwpGUk9NIGNvaG9ydF9zdGF0cwpPUkRFUiBCWSBjb2hvcnRfbW9udGgKIiIiKQoKcmVwZWF0X3B1cmNoYXNlX2RmLmRpc3BsYXkoKQojIFNhdmUgYXMgcGVybWFuZW50IHRhYmxlCnJlcGVhdF9wdXJjaGFzZV9kZi53cml0ZS5mb3JtYXQoImRlbHRhIikubW9kZSgib3ZlcndyaXRlIikuc2F2ZUFzVGFibGUoIndvcmtzcGFjZS5kZW1vLnJlcGVhdF9wdXJjaGFzZV9yYXRlc19ieV9jb2hvcnQiKQo=\").decode())\n\ntry:\n    # run user code\n    __backend_agg_user_code_fn()\n\n    #reset display function\n    display = __backend_agg_display_orig\n\n    if len(__backend_agg_dfs) > 0:\n        # create a temp view\n        if type(__backend_agg_dfs[0]).__module__ == \"databricks.koalas.frame\":\n            # koalas dataframe\n            __backend_agg_dfs[0].to_spark().createOrReplaceTempView(\"DatabricksView1534193\")\n        elif type(__backend_agg_dfs[0]).__module__ == \"pandas.core.frame\" or isinstance(__backend_agg_dfs[0], list):\n            # pandas dataframe\n            spark.createDataFrame(__backend_agg_dfs[0]).createOrReplaceTempView(\"DatabricksView1534193\")\n        else:\n            __backend_agg_dfs[0].createOrReplaceTempView(\"DatabricksView1534193\")\n        #run backend agg\n        display(spark.sql(\"\"\"WITH q AS (select * from DatabricksView1534193) SELECT `cohort_month`,`repeat_rate_2_orders`,`repeat_rate_3_orders`,`repeat_rate_4_orders` FROM q\"\"\"))\n    else:\n        displayHTML(\"dataframe no longer exists. If you're using dataframe.display(), use display(dataframe) instead.\")\n\n\nfinally:\n    spark.sql(\"drop view if exists DatabricksView1534193\")\n    display = __backend_agg_display_orig\n    del __backend_agg_display_new\n    del __backend_agg_display_orig\n    del __backend_agg_dfs\n    del __backend_agg_user_code_fn\n\n",
       "commandTitle": "Repeat Purchase Rates by Cohort",
       "commandType": "auto",
       "commandVersion": 0,
       "commentThread": [],
       "commentsVisible": false,
       "contentSha256Hex": null,
       "customPlotOptions": {
        "redashChart": [
         {
          "key": "type",
          "value": "CHART"
         },
         {
          "key": "options",
          "value": {
           "alignYAxesAtZero": true,
           "coefficient": 1,
           "columnConfigurationMap": {
            "x": {
             "column": "cohort_month",
             "id": "column_e90d9a04153"
            },
            "y": [
             {
              "column": "repeat_rate_2_orders",
              "id": "column_e90d9a04156"
             },
             {
              "column": "repeat_rate_3_orders",
              "id": "column_e90d9a04159"
             },
             {
              "column": "repeat_rate_4_orders",
              "id": "column_e90d9a04162"
             }
            ]
           },
           "dateTimeFormat": "YYYY-MM-DD HH:mm",
           "direction": {
            "type": "counterclockwise"
           },
           "error_y": {
            "type": "data",
            "visible": true
           },
           "globalSeriesType": "line",
           "isAggregationOn": false,
           "legend": {
            "traceorder": "normal"
           },
           "missingValuesAsZero": true,
           "numberFormat": "0,0.[00000]",
           "percentFormat": "0[.]00%",
           "series": {
            "error_y": {
             "type": "data",
             "visible": true
            },
            "stacking": null
           },
           "seriesOptions": {
            "repeat_rate_2_orders": {
             "type": "line",
             "yAxis": 0
            },
            "repeat_rate_3_orders": {
             "type": "line",
             "yAxis": 0
            },
            "repeat_rate_4_orders": {
             "type": "line",
             "yAxis": 0
            }
           },
           "showDataLabels": true,
           "sizemode": "diameter",
           "sortX": true,
           "sortY": true,
           "swappedAxes": false,
           "textFormat": "",
           "useAggregationsUi": true,
           "valuesOptions": {},
           "version": 2,
           "xAxis": {
            "labels": {
             "enabled": true
            },
            "type": "-"
           },
           "yAxis": [
            {
             "title": {
              "text": "RPR %"
             },
             "type": "-"
            },
            {
             "opposite": true,
             "type": "-"
            }
           ]
          }
         }
        ]
       },
       "datasetPreviewNameToCmdIdMap": {},
       "diffDeletes": [],
       "diffInserts": [],
       "displayType": "redashChart",
       "error": null,
       "errorDetails": null,
       "errorSummary": null,
       "errorTraceType": null,
       "finishTime": 0,
       "globalVars": {},
       "guid": "",
       "height": "auto",
       "hideCommandCode": false,
       "hideCommandResult": false,
       "iPythonMetadata": null,
       "inputWidgets": {},
       "isLockedInExamMode": false,
       "latestUser": "a user",
       "latestUserId": null,
       "listResultMetadata": null,
       "metadata": {
        "byteLimit": 2048000,
        "rowLimit": 10000
       },
       "nuid": "66bcd33e-f4a9-4a54-bf18-3f8f4e2216e0",
       "origId": 0,
       "parentHierarchy": [],
       "pivotAggregation": null,
       "pivotColumns": null,
       "position": 10.0,
       "resultDbfsErrorMessage": null,
       "resultDbfsStatus": "INLINED_IN_TREE",
       "results": null,
       "showCommandTitle": false,
       "startTime": 0,
       "state": "input",
       "streamStates": {},
       "subcommandOptions": {
        "queryPlan": {
         "selects": [
          {
           "column": "cohort_month",
           "type": "column"
          },
          {
           "column": "repeat_rate_2_orders",
           "type": "column"
          },
          {
           "column": "repeat_rate_3_orders",
           "type": "column"
          },
          {
           "column": "repeat_rate_4_orders",
           "type": "column"
          }
         ]
        }
       },
       "submitTime": 0,
       "subtype": "tableResultSubCmd.visualization",
       "tableResultIndex": 0,
       "tableResultSettingsMap": {},
       "useConsistentColors": false,
       "version": "CommandV1",
       "width": "auto",
       "workflows": [],
       "xColumns": null,
       "yColumns": null
      }
     },
     "output_type": "display_data"
    }
   ],
   "source": [
    "repeat_purchase_df = spark.sql(\"\"\"\n",
    "WITH customer_orders AS (\n",
    "    SELECT\n",
    "        customer_id,\n",
    "        CAST(DATE_TRUNC('month', MIN(order_date)) AS DATE) AS cohort_month,\n",
    "        COUNT(DISTINCT order_id) AS total_orders\n",
    "    FROM ecom_orders\n",
    "    GROUP BY customer_id\n",
    "),\n",
    "\n",
    "cohort_stats AS (\n",
    "    SELECT\n",
    "        cohort_month,\n",
    "        COUNT(*) AS total_customers,\n",
    "        COUNT_IF(total_orders >= 2) AS repeat_2_orders,\n",
    "        COUNT_IF(total_orders >= 3) AS repeat_3_orders,\n",
    "        COUNT_IF(total_orders >= 4) AS repeat_4_orders\n",
    "    FROM customer_orders\n",
    "    GROUP BY cohort_month\n",
    ")\n",
    "\n",
    "SELECT\n",
    "    cohort_month,\n",
    "    total_customers,\n",
    "    ROUND(100.0 * repeat_2_orders / total_customers, 1) AS repeat_rate_2_orders,\n",
    "    ROUND(100.0 * repeat_3_orders / total_customers, 1) AS repeat_rate_3_orders,\n",
    "    ROUND(100.0 * repeat_4_orders / total_customers, 1) AS repeat_rate_4_orders\n",
    "FROM cohort_stats\n",
    "ORDER BY cohort_month\n",
    "\"\"\")\n",
    "\n",
    "repeat_purchase_df.display()\n",
    "# Save as permanent table\n",
    "repeat_purchase_df.write.format(\"delta\").mode(\"overwrite\").saveAsTable(\"workspace.default_cohort_db.repeat_purchase_rates_by_cohort\")\n"
   ]
  },
  {
   "cell_type": "markdown",
   "metadata": {
    "application/vnd.databricks.v1+cell": {
     "cellMetadata": {
      "byteLimit": 2048000,
      "rowLimit": 10000
     },
     "inputWidgets": {},
     "nuid": "f86e0a58-4f2c-4be3-8fbc-ae0078f33810",
     "showTitle": false,
     "tableResultSettingsMap": {},
     "title": ""
    }
   },
   "source": [
    "# **Cohort Size by Month**\n",
    "Step 1: Create a Query to Compute Cohort Size. \n",
    "\n",
    "Write a query to count the number of new customers (i.e., first orders) acquired in each month."
   ]
  },
  {
   "cell_type": "code",
   "execution_count": 0,
   "metadata": {
    "application/vnd.databricks.v1+cell": {
     "cellMetadata": {
      "byteLimit": 2048000,
      "rowLimit": 10000
     },
     "inputWidgets": {},
     "nuid": "e3fdcec4-5015-44ee-8534-9e3930538b03",
     "showTitle": false,
     "tableResultSettingsMap": {},
     "title": ""
    }
   },
   "outputs": [
    {
     "output_type": "display_data",
     "data": {
      "text/html": [
       "<style scoped>\n",
       "  .table-result-container {\n",
       "    max-height: 300px;\n",
       "    overflow: auto;\n",
       "  }\n",
       "  table, th, td {\n",
       "    border: 1px solid black;\n",
       "    border-collapse: collapse;\n",
       "  }\n",
       "  th, td {\n",
       "    padding: 5px;\n",
       "  }\n",
       "  th {\n",
       "    text-align: left;\n",
       "  }\n",
       "</style><div class='table-result-container'><table class='table-result'><thead style='background-color: white'><tr><th>cohort_month</th><th>new_customers</th></tr></thead><tbody><tr><td>2024-01-01</td><td>66</td></tr><tr><td>2024-02-01</td><td>48</td></tr><tr><td>2024-03-01</td><td>33</td></tr><tr><td>2024-04-01</td><td>27</td></tr><tr><td>2024-05-01</td><td>16</td></tr><tr><td>2024-06-01</td><td>10</td></tr></tbody></table></div>"
      ]
     },
     "metadata": {
      "application/vnd.databricks.v1+output": {
       "addedWidgets": {},
       "aggData": [],
       "aggError": "",
       "aggOverflow": false,
       "aggSchema": [],
       "aggSeriesLimitReached": false,
       "aggType": "",
       "arguments": {},
       "columnCustomDisplayInfos": {},
       "data": [
        [
         "2024-01-01",
         66
        ],
        [
         "2024-02-01",
         48
        ],
        [
         "2024-03-01",
         33
        ],
        [
         "2024-04-01",
         27
        ],
        [
         "2024-05-01",
         16
        ],
        [
         "2024-06-01",
         10
        ]
       ],
       "datasetInfos": [],
       "dbfsResultPath": null,
       "isJsonSchema": true,
       "metadata": {},
       "overflow": false,
       "plotOptions": {
        "customPlotOptions": {},
        "displayType": "table",
        "pivotAggregation": null,
        "pivotColumns": null,
        "xColumns": null,
        "yColumns": null
       },
       "removedWidgets": [],
       "schema": [
        {
         "metadata": "{}",
         "name": "cohort_month",
         "type": "\"date\""
        },
        {
         "metadata": "{}",
         "name": "new_customers",
         "type": "\"long\""
        }
       ],
       "type": "table"
      }
     },
     "output_type": "display_data"
    },
    {
     "output_type": "display_data",
     "data": {
      "text/plain": [
       "Databricks visualization. Run in Databricks to view."
      ]
     },
     "metadata": {
      "application/vnd.databricks.v1.subcommand+json": {
       "baseErrorDetails": {
        "addedWidgets": {},
        "arguments": {},
        "datasetInfos": [],
        "jupyterProps": {
         "ename": "RetriesExceeded",
         "evalue": "[RETRIES_EXCEEDED] The maximum number of retries has been exceeded."
        },
        "metadata": {},
        "removedWidgets": [],
        "sqlProps": {
         "errorClass": "RETRIES_EXCEEDED",
         "pysparkCallSite": "",
         "pysparkFragment": "",
         "pysparkSummary": null,
         "sqlState": null,
         "stackTrace": null,
         "startIndex": null,
         "stopIndex": null
        },
        "stackFrames": [
         "\u001B[0;31m---------------------------------------------------------------------------\u001B[0m",
         "\u001B[0;31m_MultiThreadedRendezvous\u001B[0m                  Traceback (most recent call last)",
         "File \u001B[0;32m/databricks/python/lib/python3.11/site-packages/pyspark/sql/connect/client/reattach.py:172\u001B[0m, in \u001B[0;36mExecutePlanResponseReattachableIterator._has_next\u001B[0;34m(self, is_last)\u001B[0m\n\u001B[1;32m    171\u001B[0m \u001B[38;5;28;01mtry\u001B[39;00m:\n\u001B[0;32m--> 172\u001B[0m     \u001B[38;5;28mself\u001B[39m\u001B[38;5;241m.\u001B[39m_current \u001B[38;5;241m=\u001B[39m \u001B[38;5;28mself\u001B[39m\u001B[38;5;241m.\u001B[39m_call_iter(\n\u001B[1;32m    173\u001B[0m         \u001B[38;5;28;01mlambda\u001B[39;00m: \u001B[38;5;28mnext\u001B[39m(\u001B[38;5;28mself\u001B[39m\u001B[38;5;241m.\u001B[39m_iterator)  \u001B[38;5;66;03m# type: ignore[arg-type]\u001B[39;00m\n\u001B[1;32m    174\u001B[0m     )\n\u001B[1;32m    175\u001B[0m \u001B[38;5;28;01mexcept\u001B[39;00m \u001B[38;5;167;01mStopIteration\u001B[39;00m:\n",
         "File \u001B[0;32m/databricks/python/lib/python3.11/site-packages/pyspark/sql/connect/client/reattach.py:297\u001B[0m, in \u001B[0;36mExecutePlanResponseReattachableIterator._call_iter\u001B[0;34m(self, iter_fun)\u001B[0m\n\u001B[1;32m    296\u001B[0m         \u001B[38;5;28mself\u001B[39m\u001B[38;5;241m.\u001B[39m_iterator \u001B[38;5;241m=\u001B[39m \u001B[38;5;28;01mNone\u001B[39;00m\n\u001B[0;32m--> 297\u001B[0m         \u001B[38;5;28;01mraise\u001B[39;00m e\n\u001B[1;32m    298\u001B[0m \u001B[38;5;28;01mexcept\u001B[39;00m \u001B[38;5;167;01mException\u001B[39;00m \u001B[38;5;28;01mas\u001B[39;00m e:\n\u001B[1;32m    299\u001B[0m     \u001B[38;5;66;03m# Remove the iterator, so that a new one will be created after retry.\u001B[39;00m\n",
         "File \u001B[0;32m/databricks/python/lib/python3.11/site-packages/pyspark/sql/connect/client/reattach.py:277\u001B[0m, in \u001B[0;36mExecutePlanResponseReattachableIterator._call_iter\u001B[0;34m(self, iter_fun)\u001B[0m\n\u001B[1;32m    276\u001B[0m \u001B[38;5;28;01mtry\u001B[39;00m:\n\u001B[0;32m--> 277\u001B[0m     \u001B[38;5;28;01mreturn\u001B[39;00m iter_fun()\n\u001B[1;32m    278\u001B[0m \u001B[38;5;28;01mexcept\u001B[39;00m grpc\u001B[38;5;241m.\u001B[39mRpcError \u001B[38;5;28;01mas\u001B[39;00m e:\n",
         "File \u001B[0;32m/databricks/python/lib/python3.11/site-packages/pyspark/sql/connect/client/reattach.py:173\u001B[0m, in \u001B[0;36mExecutePlanResponseReattachableIterator._has_next.<locals>.<lambda>\u001B[0;34m()\u001B[0m\n\u001B[1;32m    171\u001B[0m \u001B[38;5;28;01mtry\u001B[39;00m:\n\u001B[1;32m    172\u001B[0m     \u001B[38;5;28mself\u001B[39m\u001B[38;5;241m.\u001B[39m_current \u001B[38;5;241m=\u001B[39m \u001B[38;5;28mself\u001B[39m\u001B[38;5;241m.\u001B[39m_call_iter(\n\u001B[0;32m--> 173\u001B[0m         \u001B[38;5;28;01mlambda\u001B[39;00m: \u001B[38;5;28mnext\u001B[39m(\u001B[38;5;28mself\u001B[39m\u001B[38;5;241m.\u001B[39m_iterator)  \u001B[38;5;66;03m# type: ignore[arg-type]\u001B[39;00m\n\u001B[1;32m    174\u001B[0m     )\n\u001B[1;32m    175\u001B[0m \u001B[38;5;28;01mexcept\u001B[39;00m \u001B[38;5;167;01mStopIteration\u001B[39;00m:\n",
         "File \u001B[0;32m/databricks/python/lib/python3.11/site-packages/grpc/_channel.py:543\u001B[0m, in \u001B[0;36m_Rendezvous.__next__\u001B[0;34m(self)\u001B[0m\n\u001B[1;32m    542\u001B[0m \u001B[38;5;28;01mdef\u001B[39;00m \u001B[38;5;21m__next__\u001B[39m(\u001B[38;5;28mself\u001B[39m):\n\u001B[0;32m--> 543\u001B[0m     \u001B[38;5;28;01mreturn\u001B[39;00m \u001B[38;5;28mself\u001B[39m\u001B[38;5;241m.\u001B[39m_next()\n",
         "File \u001B[0;32m/databricks/python/lib/python3.11/site-packages/grpc/_channel.py:969\u001B[0m, in \u001B[0;36m_MultiThreadedRendezvous._next\u001B[0;34m(self)\u001B[0m\n\u001B[1;32m    968\u001B[0m \u001B[38;5;28;01melif\u001B[39;00m \u001B[38;5;28mself\u001B[39m\u001B[38;5;241m.\u001B[39m_state\u001B[38;5;241m.\u001B[39mcode \u001B[38;5;129;01mis\u001B[39;00m \u001B[38;5;129;01mnot\u001B[39;00m \u001B[38;5;28;01mNone\u001B[39;00m:\n\u001B[0;32m--> 969\u001B[0m     \u001B[38;5;28;01mraise\u001B[39;00m \u001B[38;5;28mself\u001B[39m\n",
         "\u001B[0;31m_MultiThreadedRendezvous\u001B[0m: <_MultiThreadedRendezvous of RPC that terminated with:\n\tstatus = StatusCode.UNAVAILABLE\n\tdetails = \"failed to connect to all addresses; last error: UNKNOWN: ipv4:127.0.0.1:7073: Failed to connect to remote host: Timeout occurred: FD Shutdown\"\n\tdebug_error_string = \"UNKNOWN:Error received from peer  {created_time:\"2025-07-09T06:45:01.641219938+00:00\", grpc_status:14, grpc_message:\"failed to connect to all addresses; last error: UNKNOWN: ipv4:127.0.0.1:7073: Failed to connect to remote host: Timeout occurred: FD Shutdown\"}\"\n>",
         "\nThe above exception was the direct cause of the following exception:\n",
         "\u001B[0;31mRetriesExceeded\u001B[0m                           Traceback (most recent call last)",
         "File \u001B[0;32m<command-8684286619032644>, line 16\u001B[0m\n\u001B[1;32m     14\u001B[0m \u001B[38;5;28;01mtry\u001B[39;00m:\n\u001B[1;32m     15\u001B[0m     \u001B[38;5;66;03m# run user code\u001B[39;00m\n\u001B[0;32m---> 16\u001B[0m     __backend_agg_user_code_fn()\n\u001B[1;32m     18\u001B[0m     \u001B[38;5;66;03m#reset display function\u001B[39;00m\n",
         "File \u001B[0;32m<command-8684286619032644>, line 12\u001B[0m, in \u001B[0;36m__backend_agg_user_code_fn\u001B[0;34m()\u001B[0m\n\u001B[1;32m     11\u001B[0m \u001B[38;5;28;01mimport\u001B[39;00m \u001B[38;5;21;01mbase64\u001B[39;00m\n\u001B[0;32m---> 12\u001B[0m exec(base64\u001B[38;5;241m.\u001B[39mstandard_b64decode(\u001B[38;5;124m\"\u001B[39m\u001B[38;5;124mIyBDb21wdXRlIENvaG9ydCBTaXplIGJ5IEZpcnN0IFB1cmNoYXNlIE1vbnRoCmNvaG9ydF9zaXplX2J5X21vbnRoX2RmID0gc3Bhcmsuc3FsKCIiIgpXSVRIIGZpcnN0X29yZGVycyBBUyAoCiAgICBTRUxFQ1QKICAgICAgICBjdXN0b21lcl9pZCwKICAgICAgICBNSU4ob3JkZXJfZGF0ZSkgQVMgZmlyc3RfcHVyY2hhc2VfZGF0ZQogICAgRlJPTSBjb2hvcnRfYmlncXVlcnlfYW5hbHlzaXNfY2F0YWxvZy5jb2hvcnRfZGIuZWNvbV9vcmRlcnMKICAgIEdST1VQIEJZIGN1c3RvbWVyX2lkCikKClNFTEVDVAogICAgQ2FzdChEQVRFX1RSVU5DKCdtb250aCcsIGZpcnN0X3B1cmNoYXNlX2RhdGUpIGFzIERhdGUpIEFTIGNvaG9ydF9tb250aCwKICAgIENPVU5UKCopIEFTIG5ld19jdXN0b21lcnMKRlJPTSBmaXJzdF9vcmRlcnMKR1JPVVAgQlkgREFURV9UUlVOQygnbW9udGgnLCBmaXJzdF9wdXJjaGFzZV9kYXRlKQpPUkRFUiBCWSBjb2hvcnRfbW9udGgKIiIiKQpkaXNwbGF5KGNvaG9ydF9zaXplX2J5X21vbnRoX2RmKQojIFNhdmUgYXMgcGVybWFuZW50IHRhYmxlCmNvaG9ydF9zaXplX2J5X21vbnRoX2RmLndyaXRlLmZvcm1hdCgiZGVsdGEiKS5tb2RlKCJvdmVyd3JpdGUiKS5zYXZlQXNUYWJsZSgid29ya3NwYWNlLmRlbW8uY29ob3J0X3NpemVfYnlfbW9udGgiKQo=\u001B[39m\u001B[38;5;124m\"\u001B[39m)\u001B[38;5;241m.\u001B[39mdecode())\n",
         "File \u001B[0;32m<string>:2\u001B[0m\n",
         "File \u001B[0;32m/databricks/python/lib/python3.11/site-packages/pyspark/sql/connect/session.py:736\u001B[0m, in \u001B[0;36mSparkSession.sql\u001B[0;34m(self, sqlQuery, args, **kwargs)\u001B[0m\n\u001B[1;32m    735\u001B[0m cmd \u001B[38;5;241m=\u001B[39m SQL(sqlQuery, _args, _named_args, _views)\n\u001B[0;32m--> 736\u001B[0m data, properties, ei \u001B[38;5;241m=\u001B[39m \u001B[38;5;28mself\u001B[39m\u001B[38;5;241m.\u001B[39mclient\u001B[38;5;241m.\u001B[39mexecute_command(cmd\u001B[38;5;241m.\u001B[39mcommand(\u001B[38;5;28mself\u001B[39m\u001B[38;5;241m.\u001B[39m_client))\n\u001B[1;32m    737\u001B[0m \u001B[38;5;28;01mif\u001B[39;00m \u001B[38;5;124m\"\u001B[39m\u001B[38;5;124msql_command_result\u001B[39m\u001B[38;5;124m\"\u001B[39m \u001B[38;5;129;01min\u001B[39;00m properties:\n",
         "File \u001B[0;32m/databricks/python/lib/python3.11/site-packages/pyspark/sql/connect/client/core.py:1297\u001B[0m, in \u001B[0;36mSparkConnectClient.execute_command\u001B[0;34m(self, command, observations, extra_request_metadata)\u001B[0m\n\u001B[1;32m   1296\u001B[0m req\u001B[38;5;241m.\u001B[39mplan\u001B[38;5;241m.\u001B[39mcommand\u001B[38;5;241m.\u001B[39mCopyFrom(command)\n\u001B[0;32m-> 1297\u001B[0m data, _, metrics, observed_metrics, properties \u001B[38;5;241m=\u001B[39m \u001B[38;5;28mself\u001B[39m\u001B[38;5;241m.\u001B[39m_execute_and_fetch(\n\u001B[1;32m   1298\u001B[0m     req, observations \u001B[38;5;129;01mor\u001B[39;00m {}, extra_request_metadata\n\u001B[1;32m   1299\u001B[0m )\n\u001B[1;32m   1300\u001B[0m \u001B[38;5;66;03m# Create a query execution object.\u001B[39;00m\n",
         "File \u001B[0;32m/databricks/python/lib/python3.11/site-packages/pyspark/sql/connect/client/core.py:1755\u001B[0m, in \u001B[0;36mSparkConnectClient._execute_and_fetch\u001B[0;34m(self, req, observations, extra_request_metadata, self_destruct)\u001B[0m\n\u001B[1;32m   1754\u001B[0m \u001B[38;5;28;01mwith\u001B[39;00m Progress(handlers\u001B[38;5;241m=\u001B[39m\u001B[38;5;28mself\u001B[39m\u001B[38;5;241m.\u001B[39m_progress_handlers, operation_id\u001B[38;5;241m=\u001B[39mreq\u001B[38;5;241m.\u001B[39moperation_id) \u001B[38;5;28;01mas\u001B[39;00m progress:\n\u001B[0;32m-> 1755\u001B[0m     \u001B[38;5;28;01mfor\u001B[39;00m response \u001B[38;5;129;01min\u001B[39;00m \u001B[38;5;28mself\u001B[39m\u001B[38;5;241m.\u001B[39m_execute_and_fetch_as_iterator(\n\u001B[1;32m   1756\u001B[0m         req, observations, extra_request_metadata \u001B[38;5;129;01mor\u001B[39;00m [], progress\u001B[38;5;241m=\u001B[39mprogress\n\u001B[1;32m   1757\u001B[0m     ):\n\u001B[1;32m   1758\u001B[0m         \u001B[38;5;28;01mif\u001B[39;00m \u001B[38;5;28misinstance\u001B[39m(response, StructType):\n",
         "File \u001B[0;32m/databricks/python/lib/python3.11/site-packages/pyspark/sql/connect/client/core.py:1731\u001B[0m, in \u001B[0;36mSparkConnectClient._execute_and_fetch_as_iterator\u001B[0;34m(self, req, observations, extra_request_metadata, progress)\u001B[0m\n\u001B[1;32m   1730\u001B[0m \u001B[38;5;28;01mexcept\u001B[39;00m \u001B[38;5;167;01mException\u001B[39;00m \u001B[38;5;28;01mas\u001B[39;00m error:\n\u001B[0;32m-> 1731\u001B[0m     \u001B[38;5;28mself\u001B[39m\u001B[38;5;241m.\u001B[39m_handle_error(error)\n",
         "File \u001B[0;32m/databricks/python/lib/python3.11/site-packages/pyspark/sql/connect/client/core.py:2053\u001B[0m, in \u001B[0;36mSparkConnectClient._handle_error\u001B[0;34m(self, error)\u001B[0m\n\u001B[1;32m   2050\u001B[0m             \u001B[38;5;28;01mraise\u001B[39;00m SparkConnectException(\n\u001B[1;32m   2051\u001B[0m                 error_class\u001B[38;5;241m=\u001B[39m\u001B[38;5;124m\"\u001B[39m\u001B[38;5;124mNO_ACTIVE_SESSION\u001B[39m\u001B[38;5;124m\"\u001B[39m, message_parameters\u001B[38;5;241m=\u001B[39m\u001B[38;5;28mdict\u001B[39m()\n\u001B[1;32m   2052\u001B[0m             ) \u001B[38;5;28;01mfrom\u001B[39;00m \u001B[38;5;28;01mNone\u001B[39;00m\n\u001B[0;32m-> 2053\u001B[0m     \u001B[38;5;28;01mraise\u001B[39;00m error\n\u001B[1;32m   2054\u001B[0m \u001B[38;5;28;01mfinally\u001B[39;00m:\n",
         "File \u001B[0;32m/databricks/python/lib/python3.11/site-packages/pyspark/sql/connect/client/core.py:1717\u001B[0m, in \u001B[0;36mSparkConnectClient._execute_and_fetch_as_iterator\u001B[0;34m(self, req, observations, extra_request_metadata, progress)\u001B[0m\n\u001B[1;32m   1710\u001B[0m generator \u001B[38;5;241m=\u001B[39m ExecutePlanResponseReattachableIterator(\n\u001B[1;32m   1711\u001B[0m     req,\n\u001B[1;32m   1712\u001B[0m     \u001B[38;5;28mself\u001B[39m\u001B[38;5;241m.\u001B[39m_stub,\n\u001B[0;32m   (...)\u001B[0m\n\u001B[1;32m   1715\u001B[0m     \u001B[38;5;28mself\u001B[39m\u001B[38;5;241m.\u001B[39m_send_release_until,\n\u001B[1;32m   1716\u001B[0m )\n\u001B[0;32m-> 1717\u001B[0m \u001B[38;5;28;01mfor\u001B[39;00m b \u001B[38;5;129;01min\u001B[39;00m generator:\n\u001B[1;32m   1718\u001B[0m     \u001B[38;5;28;01myield from\u001B[39;00m handle_response(b)\n",
         "File \u001B[0;32m<frozen _collections_abc>:330\u001B[0m, in \u001B[0;36m__next__\u001B[0;34m(self)\u001B[0m\n",
         "File \u001B[0;32m/databricks/python/lib/python3.11/site-packages/pyspark/sql/connect/client/reattach.py:139\u001B[0m, in \u001B[0;36mExecutePlanResponseReattachableIterator.send\u001B[0;34m(self, value)\u001B[0m\n\u001B[1;32m    137\u001B[0m \u001B[38;5;28;01mdef\u001B[39;00m \u001B[38;5;21msend\u001B[39m(\u001B[38;5;28mself\u001B[39m, value: Any) \u001B[38;5;241m-\u001B[39m\u001B[38;5;241m>\u001B[39m pb2\u001B[38;5;241m.\u001B[39mExecutePlanResponse:\n\u001B[1;32m    138\u001B[0m     \u001B[38;5;66;03m# will trigger reattach in case the stream completed without result_complete\u001B[39;00m\n\u001B[0;32m--> 139\u001B[0m     \u001B[38;5;28;01mif\u001B[39;00m \u001B[38;5;129;01mnot\u001B[39;00m \u001B[38;5;28mself\u001B[39m\u001B[38;5;241m.\u001B[39m_has_next():\n\u001B[1;32m    140\u001B[0m         \u001B[38;5;28;01mraise\u001B[39;00m \u001B[38;5;167;01mStopIteration\u001B[39;00m()\n",
         "File \u001B[0;32m/databricks/python/lib/python3.11/site-packages/pyspark/sql/connect/client/reattach.py:200\u001B[0m, in \u001B[0;36mExecutePlanResponseReattachableIterator._has_next\u001B[0;34m(self, is_last)\u001B[0m\n\u001B[1;32m    199\u001B[0m     \u001B[38;5;28mself\u001B[39m\u001B[38;5;241m.\u001B[39m_release_all()\n\u001B[0;32m--> 200\u001B[0m     \u001B[38;5;28;01mraise\u001B[39;00m e\n\u001B[1;32m    201\u001B[0m \u001B[38;5;28;01mreturn\u001B[39;00m \u001B[38;5;28;01mFalse\u001B[39;00m\n",
         "File \u001B[0;32m/databricks/python/lib/python3.11/site-packages/pyspark/sql/connect/client/reattach.py:168\u001B[0m, in \u001B[0;36mExecutePlanResponseReattachableIterator._has_next\u001B[0;34m(self, is_last)\u001B[0m\n\u001B[1;32m    167\u001B[0m \u001B[38;5;28;01mtry\u001B[39;00m:\n\u001B[0;32m--> 168\u001B[0m     \u001B[38;5;28;01mfor\u001B[39;00m attempt \u001B[38;5;129;01min\u001B[39;00m \u001B[38;5;28mself\u001B[39m\u001B[38;5;241m.\u001B[39m_retrying():\n\u001B[1;32m    169\u001B[0m         \u001B[38;5;28;01mwith\u001B[39;00m attempt:\n",
         "File \u001B[0;32m/databricks/python/lib/python3.11/site-packages/pyspark/sql/connect/client/retries.py:295\u001B[0m, in \u001B[0;36mRetrying.__iter__\u001B[0;34m(self)\u001B[0m\n\u001B[1;32m    294\u001B[0m \u001B[38;5;28;01mwhile\u001B[39;00m \u001B[38;5;129;01mnot\u001B[39;00m \u001B[38;5;28mself\u001B[39m\u001B[38;5;241m.\u001B[39m_done:\n\u001B[0;32m--> 295\u001B[0m     \u001B[38;5;28mself\u001B[39m\u001B[38;5;241m.\u001B[39m_wait()\n\u001B[1;32m    296\u001B[0m     \u001B[38;5;28;01myield\u001B[39;00m AttemptManager(\u001B[38;5;28mself\u001B[39m)\n",
         "File \u001B[0;32m/databricks/python/lib/python3.11/site-packages/pyspark/sql/connect/client/retries.py:280\u001B[0m, in \u001B[0;36mRetrying._wait\u001B[0;34m(self)\u001B[0m\n\u001B[1;32m    279\u001B[0m logger\u001B[38;5;241m.\u001B[39mdebug(\u001B[38;5;124mf\u001B[39m\u001B[38;5;124m\"\u001B[39m\u001B[38;5;124mGiven up on retrying. error: \u001B[39m\u001B[38;5;132;01m{\u001B[39;00m\u001B[38;5;28mrepr\u001B[39m(exception)\u001B[38;5;132;01m}\u001B[39;00m\u001B[38;5;124m\"\u001B[39m)\n\u001B[0;32m--> 280\u001B[0m \u001B[38;5;28;01mraise\u001B[39;00m RetriesExceeded(error_class\u001B[38;5;241m=\u001B[39m\u001B[38;5;124m\"\u001B[39m\u001B[38;5;124mRETRIES_EXCEEDED\u001B[39m\u001B[38;5;124m\"\u001B[39m, message_parameters\u001B[38;5;241m=\u001B[39m{}) \u001B[38;5;28;01mfrom\u001B[39;00m \u001B[38;5;21;01mexception\u001B[39;00m\n",
         "\u001B[0;31mRetriesExceeded\u001B[0m: [RETRIES_EXCEEDED] The maximum number of retries has been exceeded.",
         "\nDuring handling of the above exception, another exception occurred:\n",
         "\u001B[0;31m_MultiThreadedRendezvous\u001B[0m                  Traceback (most recent call last)",
         "File \u001B[0;32m/databricks/python/lib/python3.11/site-packages/pyspark/sql/connect/client/reattach.py:172\u001B[0m, in \u001B[0;36mExecutePlanResponseReattachableIterator._has_next\u001B[0;34m(self, is_last)\u001B[0m\n\u001B[1;32m    171\u001B[0m \u001B[38;5;28;01mtry\u001B[39;00m:\n\u001B[0;32m--> 172\u001B[0m     \u001B[38;5;28mself\u001B[39m\u001B[38;5;241m.\u001B[39m_current \u001B[38;5;241m=\u001B[39m \u001B[38;5;28mself\u001B[39m\u001B[38;5;241m.\u001B[39m_call_iter(\n\u001B[1;32m    173\u001B[0m         \u001B[38;5;28;01mlambda\u001B[39;00m: \u001B[38;5;28mnext\u001B[39m(\u001B[38;5;28mself\u001B[39m\u001B[38;5;241m.\u001B[39m_iterator)  \u001B[38;5;66;03m# type: ignore[arg-type]\u001B[39;00m\n\u001B[1;32m    174\u001B[0m     )\n\u001B[1;32m    175\u001B[0m \u001B[38;5;28;01mexcept\u001B[39;00m \u001B[38;5;167;01mStopIteration\u001B[39;00m:\n",
         "File \u001B[0;32m/databricks/python/lib/python3.11/site-packages/pyspark/sql/connect/client/reattach.py:297\u001B[0m, in \u001B[0;36mExecutePlanResponseReattachableIterator._call_iter\u001B[0;34m(self, iter_fun)\u001B[0m\n\u001B[1;32m    296\u001B[0m         \u001B[38;5;28mself\u001B[39m\u001B[38;5;241m.\u001B[39m_iterator \u001B[38;5;241m=\u001B[39m \u001B[38;5;28;01mNone\u001B[39;00m\n\u001B[0;32m--> 297\u001B[0m         \u001B[38;5;28;01mraise\u001B[39;00m e\n\u001B[1;32m    298\u001B[0m \u001B[38;5;28;01mexcept\u001B[39;00m \u001B[38;5;167;01mException\u001B[39;00m \u001B[38;5;28;01mas\u001B[39;00m e:\n\u001B[1;32m    299\u001B[0m     \u001B[38;5;66;03m# Remove the iterator, so that a new one will be created after retry.\u001B[39;00m\n",
         "File \u001B[0;32m/databricks/python/lib/python3.11/site-packages/pyspark/sql/connect/client/reattach.py:277\u001B[0m, in \u001B[0;36mExecutePlanResponseReattachableIterator._call_iter\u001B[0;34m(self, iter_fun)\u001B[0m\n\u001B[1;32m    276\u001B[0m \u001B[38;5;28;01mtry\u001B[39;00m:\n\u001B[0;32m--> 277\u001B[0m     \u001B[38;5;28;01mreturn\u001B[39;00m iter_fun()\n\u001B[1;32m    278\u001B[0m \u001B[38;5;28;01mexcept\u001B[39;00m grpc\u001B[38;5;241m.\u001B[39mRpcError \u001B[38;5;28;01mas\u001B[39;00m e:\n",
         "File \u001B[0;32m/databricks/python/lib/python3.11/site-packages/pyspark/sql/connect/client/reattach.py:173\u001B[0m, in \u001B[0;36mExecutePlanResponseReattachableIterator._has_next.<locals>.<lambda>\u001B[0;34m()\u001B[0m\n\u001B[1;32m    171\u001B[0m \u001B[38;5;28;01mtry\u001B[39;00m:\n\u001B[1;32m    172\u001B[0m     \u001B[38;5;28mself\u001B[39m\u001B[38;5;241m.\u001B[39m_current \u001B[38;5;241m=\u001B[39m \u001B[38;5;28mself\u001B[39m\u001B[38;5;241m.\u001B[39m_call_iter(\n\u001B[0;32m--> 173\u001B[0m         \u001B[38;5;28;01mlambda\u001B[39;00m: \u001B[38;5;28mnext\u001B[39m(\u001B[38;5;28mself\u001B[39m\u001B[38;5;241m.\u001B[39m_iterator)  \u001B[38;5;66;03m# type: ignore[arg-type]\u001B[39;00m\n\u001B[1;32m    174\u001B[0m     )\n\u001B[1;32m    175\u001B[0m \u001B[38;5;28;01mexcept\u001B[39;00m \u001B[38;5;167;01mStopIteration\u001B[39;00m:\n",
         "File \u001B[0;32m/databricks/python/lib/python3.11/site-packages/grpc/_channel.py:543\u001B[0m, in \u001B[0;36m_Rendezvous.__next__\u001B[0;34m(self)\u001B[0m\n\u001B[1;32m    542\u001B[0m \u001B[38;5;28;01mdef\u001B[39;00m \u001B[38;5;21m__next__\u001B[39m(\u001B[38;5;28mself\u001B[39m):\n\u001B[0;32m--> 543\u001B[0m     \u001B[38;5;28;01mreturn\u001B[39;00m \u001B[38;5;28mself\u001B[39m\u001B[38;5;241m.\u001B[39m_next()\n",
         "File \u001B[0;32m/databricks/python/lib/python3.11/site-packages/grpc/_channel.py:969\u001B[0m, in \u001B[0;36m_MultiThreadedRendezvous._next\u001B[0;34m(self)\u001B[0m\n\u001B[1;32m    968\u001B[0m \u001B[38;5;28;01melif\u001B[39;00m \u001B[38;5;28mself\u001B[39m\u001B[38;5;241m.\u001B[39m_state\u001B[38;5;241m.\u001B[39mcode \u001B[38;5;129;01mis\u001B[39;00m \u001B[38;5;129;01mnot\u001B[39;00m \u001B[38;5;28;01mNone\u001B[39;00m:\n\u001B[0;32m--> 969\u001B[0m     \u001B[38;5;28;01mraise\u001B[39;00m \u001B[38;5;28mself\u001B[39m\n",
         "\u001B[0;31m_MultiThreadedRendezvous\u001B[0m: <_MultiThreadedRendezvous of RPC that terminated with:\n\tstatus = StatusCode.UNAVAILABLE\n\tdetails = \"failed to connect to all addresses; last error: UNKNOWN: ipv4:127.0.0.1:7073: Failed to connect to remote host: Timeout occurred: FD Shutdown\"\n\tdebug_error_string = \"UNKNOWN:Error received from peer  {created_time:\"2025-07-09T06:45:28.9633202+00:00\", grpc_status:14, grpc_message:\"failed to connect to all addresses; last error: UNKNOWN: ipv4:127.0.0.1:7073: Failed to connect to remote host: Timeout occurred: FD Shutdown\"}\"\n>",
         "\nThe above exception was the direct cause of the following exception:\n",
         "\u001B[0;31mRetriesExceeded\u001B[0m                           Traceback (most recent call last)",
         "File \u001B[0;32m<command-8684286619032644>, line 38\u001B[0m\n\u001B[1;32m     34\u001B[0m         displayHTML(\u001B[38;5;124m\"\u001B[39m\u001B[38;5;124mdataframe no longer exists. If you\u001B[39m\u001B[38;5;124m'\u001B[39m\u001B[38;5;124mre using dataframe.display(), use display(dataframe) instead.\u001B[39m\u001B[38;5;124m\"\u001B[39m)\n\u001B[1;32m     37\u001B[0m \u001B[38;5;28;01mfinally\u001B[39;00m:\n\u001B[0;32m---> 38\u001B[0m     spark\u001B[38;5;241m.\u001B[39msql(\u001B[38;5;124m\"\u001B[39m\u001B[38;5;124mdrop view if exists DatabricksView41d6dd0\u001B[39m\u001B[38;5;124m\"\u001B[39m)\n\u001B[1;32m     39\u001B[0m     display \u001B[38;5;241m=\u001B[39m __backend_agg_display_orig\n\u001B[1;32m     40\u001B[0m     \u001B[38;5;28;01mdel\u001B[39;00m __backend_agg_display_new\n",
         "File \u001B[0;32m/databricks/python/lib/python3.11/site-packages/pyspark/sql/connect/session.py:736\u001B[0m, in \u001B[0;36mSparkSession.sql\u001B[0;34m(self, sqlQuery, args, **kwargs)\u001B[0m\n\u001B[1;32m    733\u001B[0m         _views\u001B[38;5;241m.\u001B[39mappend(SubqueryAlias(df\u001B[38;5;241m.\u001B[39m_plan, name))\n\u001B[1;32m    735\u001B[0m cmd \u001B[38;5;241m=\u001B[39m SQL(sqlQuery, _args, _named_args, _views)\n\u001B[0;32m--> 736\u001B[0m data, properties, ei \u001B[38;5;241m=\u001B[39m \u001B[38;5;28mself\u001B[39m\u001B[38;5;241m.\u001B[39mclient\u001B[38;5;241m.\u001B[39mexecute_command(cmd\u001B[38;5;241m.\u001B[39mcommand(\u001B[38;5;28mself\u001B[39m\u001B[38;5;241m.\u001B[39m_client))\n\u001B[1;32m    737\u001B[0m \u001B[38;5;28;01mif\u001B[39;00m \u001B[38;5;124m\"\u001B[39m\u001B[38;5;124msql_command_result\u001B[39m\u001B[38;5;124m\"\u001B[39m \u001B[38;5;129;01min\u001B[39;00m properties:\n\u001B[1;32m    738\u001B[0m     df \u001B[38;5;241m=\u001B[39m DataFrame(CachedRelation(properties[\u001B[38;5;124m\"\u001B[39m\u001B[38;5;124msql_command_result\u001B[39m\u001B[38;5;124m\"\u001B[39m]), \u001B[38;5;28mself\u001B[39m)\n",
         "File \u001B[0;32m/databricks/python/lib/python3.11/site-packages/pyspark/sql/connect/client/core.py:1297\u001B[0m, in \u001B[0;36mSparkConnectClient.execute_command\u001B[0;34m(self, command, observations, extra_request_metadata)\u001B[0m\n\u001B[1;32m   1295\u001B[0m     req\u001B[38;5;241m.\u001B[39muser_context\u001B[38;5;241m.\u001B[39muser_id \u001B[38;5;241m=\u001B[39m \u001B[38;5;28mself\u001B[39m\u001B[38;5;241m.\u001B[39m_user_id\n\u001B[1;32m   1296\u001B[0m req\u001B[38;5;241m.\u001B[39mplan\u001B[38;5;241m.\u001B[39mcommand\u001B[38;5;241m.\u001B[39mCopyFrom(command)\n\u001B[0;32m-> 1297\u001B[0m data, _, metrics, observed_metrics, properties \u001B[38;5;241m=\u001B[39m \u001B[38;5;28mself\u001B[39m\u001B[38;5;241m.\u001B[39m_execute_and_fetch(\n\u001B[1;32m   1298\u001B[0m     req, observations \u001B[38;5;129;01mor\u001B[39;00m {}, extra_request_metadata\n\u001B[1;32m   1299\u001B[0m )\n\u001B[1;32m   1300\u001B[0m \u001B[38;5;66;03m# Create a query execution object.\u001B[39;00m\n\u001B[1;32m   1301\u001B[0m ei \u001B[38;5;241m=\u001B[39m ExecutionInfo(metrics, observed_metrics)\n",
         "File \u001B[0;32m/databricks/python/lib/python3.11/site-packages/pyspark/sql/connect/client/core.py:1755\u001B[0m, in \u001B[0;36mSparkConnectClient._execute_and_fetch\u001B[0;34m(self, req, observations, extra_request_metadata, self_destruct)\u001B[0m\n\u001B[1;32m   1752\u001B[0m properties: Dict[\u001B[38;5;28mstr\u001B[39m, Any] \u001B[38;5;241m=\u001B[39m {}\n\u001B[1;32m   1754\u001B[0m \u001B[38;5;28;01mwith\u001B[39;00m Progress(handlers\u001B[38;5;241m=\u001B[39m\u001B[38;5;28mself\u001B[39m\u001B[38;5;241m.\u001B[39m_progress_handlers, operation_id\u001B[38;5;241m=\u001B[39mreq\u001B[38;5;241m.\u001B[39moperation_id) \u001B[38;5;28;01mas\u001B[39;00m progress:\n\u001B[0;32m-> 1755\u001B[0m     \u001B[38;5;28;01mfor\u001B[39;00m response \u001B[38;5;129;01min\u001B[39;00m \u001B[38;5;28mself\u001B[39m\u001B[38;5;241m.\u001B[39m_execute_and_fetch_as_iterator(\n\u001B[1;32m   1756\u001B[0m         req, observations, extra_request_metadata \u001B[38;5;129;01mor\u001B[39;00m [], progress\u001B[38;5;241m=\u001B[39mprogress\n\u001B[1;32m   1757\u001B[0m     ):\n\u001B[1;32m   1758\u001B[0m         \u001B[38;5;28;01mif\u001B[39;00m \u001B[38;5;28misinstance\u001B[39m(response, StructType):\n\u001B[1;32m   1759\u001B[0m             schema \u001B[38;5;241m=\u001B[39m response\n",
         "File \u001B[0;32m/databricks/python/lib/python3.11/site-packages/pyspark/sql/connect/client/core.py:1731\u001B[0m, in \u001B[0;36mSparkConnectClient._execute_and_fetch_as_iterator\u001B[0;34m(self, req, observations, extra_request_metadata, progress)\u001B[0m\n\u001B[1;32m   1729\u001B[0m     \u001B[38;5;28;01mraise\u001B[39;00m kb\n\u001B[1;32m   1730\u001B[0m \u001B[38;5;28;01mexcept\u001B[39;00m \u001B[38;5;167;01mException\u001B[39;00m \u001B[38;5;28;01mas\u001B[39;00m error:\n\u001B[0;32m-> 1731\u001B[0m     \u001B[38;5;28mself\u001B[39m\u001B[38;5;241m.\u001B[39m_handle_error(error)\n",
         "File \u001B[0;32m/databricks/python/lib/python3.11/site-packages/pyspark/sql/connect/client/core.py:2053\u001B[0m, in \u001B[0;36mSparkConnectClient._handle_error\u001B[0;34m(self, error)\u001B[0m\n\u001B[1;32m   2049\u001B[0m         \u001B[38;5;28;01mif\u001B[39;00m \u001B[38;5;124m\"\u001B[39m\u001B[38;5;124mCannot invoke RPC\u001B[39m\u001B[38;5;124m\"\u001B[39m \u001B[38;5;129;01min\u001B[39;00m \u001B[38;5;28mstr\u001B[39m(error) \u001B[38;5;129;01mand\u001B[39;00m \u001B[38;5;124m\"\u001B[39m\u001B[38;5;124mclosed\u001B[39m\u001B[38;5;124m\"\u001B[39m \u001B[38;5;129;01min\u001B[39;00m \u001B[38;5;28mstr\u001B[39m(error):\n\u001B[1;32m   2050\u001B[0m             \u001B[38;5;28;01mraise\u001B[39;00m SparkConnectException(\n\u001B[1;32m   2051\u001B[0m                 error_class\u001B[38;5;241m=\u001B[39m\u001B[38;5;124m\"\u001B[39m\u001B[38;5;124mNO_ACTIVE_SESSION\u001B[39m\u001B[38;5;124m\"\u001B[39m, message_parameters\u001B[38;5;241m=\u001B[39m\u001B[38;5;28mdict\u001B[39m()\n\u001B[1;32m   2052\u001B[0m             ) \u001B[38;5;28;01mfrom\u001B[39;00m \u001B[38;5;28;01mNone\u001B[39;00m\n\u001B[0;32m-> 2053\u001B[0m     \u001B[38;5;28;01mraise\u001B[39;00m error\n\u001B[1;32m   2054\u001B[0m \u001B[38;5;28;01mfinally\u001B[39;00m:\n\u001B[1;32m   2055\u001B[0m     \u001B[38;5;28mself\u001B[39m\u001B[38;5;241m.\u001B[39mthread_local\u001B[38;5;241m.\u001B[39minside_error_handling \u001B[38;5;241m=\u001B[39m \u001B[38;5;28;01mFalse\u001B[39;00m\n",
         "File \u001B[0;32m/databricks/python/lib/python3.11/site-packages/pyspark/sql/connect/client/core.py:1717\u001B[0m, in \u001B[0;36mSparkConnectClient._execute_and_fetch_as_iterator\u001B[0;34m(self, req, observations, extra_request_metadata, progress)\u001B[0m\n\u001B[1;32m   1708\u001B[0m \u001B[38;5;28;01mif\u001B[39;00m \u001B[38;5;28mself\u001B[39m\u001B[38;5;241m.\u001B[39m_use_reattachable_execute:\n\u001B[1;32m   1709\u001B[0m     \u001B[38;5;66;03m# Don't use retryHandler - own retry handling is inside.\u001B[39;00m\n\u001B[1;32m   1710\u001B[0m     generator \u001B[38;5;241m=\u001B[39m ExecutePlanResponseReattachableIterator(\n\u001B[1;32m   1711\u001B[0m         req,\n\u001B[1;32m   1712\u001B[0m         \u001B[38;5;28mself\u001B[39m\u001B[38;5;241m.\u001B[39m_stub,\n\u001B[0;32m   (...)\u001B[0m\n\u001B[1;32m   1715\u001B[0m         \u001B[38;5;28mself\u001B[39m\u001B[38;5;241m.\u001B[39m_send_release_until,\n\u001B[1;32m   1716\u001B[0m     )\n\u001B[0;32m-> 1717\u001B[0m     \u001B[38;5;28;01mfor\u001B[39;00m b \u001B[38;5;129;01min\u001B[39;00m generator:\n\u001B[1;32m   1718\u001B[0m         \u001B[38;5;28;01myield from\u001B[39;00m handle_response(b)\n\u001B[1;32m   1719\u001B[0m \u001B[38;5;28;01melse\u001B[39;00m:\n",
         "File \u001B[0;32m<frozen _collections_abc>:330\u001B[0m, in \u001B[0;36m__next__\u001B[0;34m(self)\u001B[0m\n",
         "File \u001B[0;32m/databricks/python/lib/python3.11/site-packages/pyspark/sql/connect/client/reattach.py:139\u001B[0m, in \u001B[0;36mExecutePlanResponseReattachableIterator.send\u001B[0;34m(self, value)\u001B[0m\n\u001B[1;32m    137\u001B[0m \u001B[38;5;28;01mdef\u001B[39;00m \u001B[38;5;21msend\u001B[39m(\u001B[38;5;28mself\u001B[39m, value: Any) \u001B[38;5;241m-\u001B[39m\u001B[38;5;241m>\u001B[39m pb2\u001B[38;5;241m.\u001B[39mExecutePlanResponse:\n\u001B[1;32m    138\u001B[0m     \u001B[38;5;66;03m# will trigger reattach in case the stream completed without result_complete\u001B[39;00m\n\u001B[0;32m--> 139\u001B[0m     \u001B[38;5;28;01mif\u001B[39;00m \u001B[38;5;129;01mnot\u001B[39;00m \u001B[38;5;28mself\u001B[39m\u001B[38;5;241m.\u001B[39m_has_next():\n\u001B[1;32m    140\u001B[0m         \u001B[38;5;28;01mraise\u001B[39;00m \u001B[38;5;167;01mStopIteration\u001B[39;00m()\n\u001B[1;32m    142\u001B[0m     ret \u001B[38;5;241m=\u001B[39m \u001B[38;5;28mself\u001B[39m\u001B[38;5;241m.\u001B[39m_current\n",
         "File \u001B[0;32m/databricks/python/lib/python3.11/site-packages/pyspark/sql/connect/client/reattach.py:200\u001B[0m, in \u001B[0;36mExecutePlanResponseReattachableIterator._has_next\u001B[0;34m(self, is_last)\u001B[0m\n\u001B[1;32m    198\u001B[0m \u001B[38;5;28;01mexcept\u001B[39;00m \u001B[38;5;167;01mException\u001B[39;00m \u001B[38;5;28;01mas\u001B[39;00m e:\n\u001B[1;32m    199\u001B[0m     \u001B[38;5;28mself\u001B[39m\u001B[38;5;241m.\u001B[39m_release_all()\n\u001B[0;32m--> 200\u001B[0m     \u001B[38;5;28;01mraise\u001B[39;00m e\n\u001B[1;32m    201\u001B[0m \u001B[38;5;28;01mreturn\u001B[39;00m \u001B[38;5;28;01mFalse\u001B[39;00m\n",
         "File \u001B[0;32m/databricks/python/lib/python3.11/site-packages/pyspark/sql/connect/client/reattach.py:168\u001B[0m, in \u001B[0;36mExecutePlanResponseReattachableIterator._has_next\u001B[0;34m(self, is_last)\u001B[0m\n\u001B[1;32m    166\u001B[0m result_complete \u001B[38;5;241m=\u001B[39m \u001B[38;5;28mself\u001B[39m\u001B[38;5;241m.\u001B[39m_result_complete \u001B[38;5;129;01mor\u001B[39;00m is_last\n\u001B[1;32m    167\u001B[0m \u001B[38;5;28;01mtry\u001B[39;00m:\n\u001B[0;32m--> 168\u001B[0m     \u001B[38;5;28;01mfor\u001B[39;00m attempt \u001B[38;5;129;01min\u001B[39;00m \u001B[38;5;28mself\u001B[39m\u001B[38;5;241m.\u001B[39m_retrying():\n\u001B[1;32m    169\u001B[0m         \u001B[38;5;28;01mwith\u001B[39;00m attempt:\n\u001B[1;32m    170\u001B[0m             \u001B[38;5;28;01mif\u001B[39;00m \u001B[38;5;28mself\u001B[39m\u001B[38;5;241m.\u001B[39m_current \u001B[38;5;129;01mis\u001B[39;00m \u001B[38;5;28;01mNone\u001B[39;00m:\n",
         "File \u001B[0;32m/databricks/python/lib/python3.11/site-packages/pyspark/sql/connect/client/retries.py:295\u001B[0m, in \u001B[0;36mRetrying.__iter__\u001B[0;34m(self)\u001B[0m\n\u001B[1;32m    292\u001B[0m \u001B[38;5;28;01myield\u001B[39;00m AttemptManager(\u001B[38;5;28mself\u001B[39m)\n\u001B[1;32m    294\u001B[0m \u001B[38;5;28;01mwhile\u001B[39;00m \u001B[38;5;129;01mnot\u001B[39;00m \u001B[38;5;28mself\u001B[39m\u001B[38;5;241m.\u001B[39m_done:\n\u001B[0;32m--> 295\u001B[0m     \u001B[38;5;28mself\u001B[39m\u001B[38;5;241m.\u001B[39m_wait()\n\u001B[1;32m    296\u001B[0m     \u001B[38;5;28;01myield\u001B[39;00m AttemptManager(\u001B[38;5;28mself\u001B[39m)\n",
         "File \u001B[0;32m/databricks/python/lib/python3.11/site-packages/pyspark/sql/connect/client/retries.py:280\u001B[0m, in \u001B[0;36mRetrying._wait\u001B[0;34m(self)\u001B[0m\n\u001B[1;32m    278\u001B[0m \u001B[38;5;66;03m# Exceeded retries\u001B[39;00m\n\u001B[1;32m    279\u001B[0m logger\u001B[38;5;241m.\u001B[39mdebug(\u001B[38;5;124mf\u001B[39m\u001B[38;5;124m\"\u001B[39m\u001B[38;5;124mGiven up on retrying. error: \u001B[39m\u001B[38;5;132;01m{\u001B[39;00m\u001B[38;5;28mrepr\u001B[39m(exception)\u001B[38;5;132;01m}\u001B[39;00m\u001B[38;5;124m\"\u001B[39m)\n\u001B[0;32m--> 280\u001B[0m \u001B[38;5;28;01mraise\u001B[39;00m RetriesExceeded(error_class\u001B[38;5;241m=\u001B[39m\u001B[38;5;124m\"\u001B[39m\u001B[38;5;124mRETRIES_EXCEEDED\u001B[39m\u001B[38;5;124m\"\u001B[39m, message_parameters\u001B[38;5;241m=\u001B[39m{}) \u001B[38;5;28;01mfrom\u001B[39;00m \u001B[38;5;21;01mexception\u001B[39;00m\n",
         "\u001B[0;31mRetriesExceeded\u001B[0m: [RETRIES_EXCEEDED] The maximum number of retries has been exceeded."
        ],
        "type": "baseError"
       },
       "bindings": {},
       "collapsed": false,
       "command": "%python\n__backend_agg_display_orig = display\n__backend_agg_dfs = []\ndef __backend_agg_display_new(df):\n    __backend_agg_df_modules = [\"pandas.core.frame\", \"databricks.koalas.frame\", \"pyspark.sql.dataframe\", \"pyspark.pandas.frame\", \"pyspark.sql.connect.dataframe\"]\n    if (type(df).__module__ in __backend_agg_df_modules and type(df).__name__ == 'DataFrame') or isinstance(df, list):\n        __backend_agg_dfs.append(df)\n\ndisplay = __backend_agg_display_new\n\ndef __backend_agg_user_code_fn():\n    import base64\n    exec(base64.standard_b64decode(\"IyBDb21wdXRlIENvaG9ydCBTaXplIGJ5IEZpcnN0IFB1cmNoYXNlIE1vbnRoCmNvaG9ydF9zaXplX2J5X21vbnRoX2RmID0gc3Bhcmsuc3FsKCIiIgpXSVRIIGZpcnN0X29yZGVycyBBUyAoCiAgICBTRUxFQ1QKICAgICAgICBjdXN0b21lcl9pZCwKICAgICAgICBNSU4ob3JkZXJfZGF0ZSkgQVMgZmlyc3RfcHVyY2hhc2VfZGF0ZQogICAgRlJPTSBjb2hvcnRfYmlncXVlcnlfYW5hbHlzaXNfY2F0YWxvZy5jb2hvcnRfZGIuZWNvbV9vcmRlcnMKICAgIEdST1VQIEJZIGN1c3RvbWVyX2lkCikKClNFTEVDVAogICAgQ2FzdChEQVRFX1RSVU5DKCdtb250aCcsIGZpcnN0X3B1cmNoYXNlX2RhdGUpIGFzIERhdGUpIEFTIGNvaG9ydF9tb250aCwKICAgIENPVU5UKCopIEFTIG5ld19jdXN0b21lcnMKRlJPTSBmaXJzdF9vcmRlcnMKR1JPVVAgQlkgREFURV9UUlVOQygnbW9udGgnLCBmaXJzdF9wdXJjaGFzZV9kYXRlKQpPUkRFUiBCWSBjb2hvcnRfbW9udGgKIiIiKQpkaXNwbGF5KGNvaG9ydF9zaXplX2J5X21vbnRoX2RmKQojIFNhdmUgYXMgcGVybWFuZW50IHRhYmxlCmNvaG9ydF9zaXplX2J5X21vbnRoX2RmLndyaXRlLmZvcm1hdCgiZGVsdGEiKS5tb2RlKCJvdmVyd3JpdGUiKS5zYXZlQXNUYWJsZSgid29ya3NwYWNlLmRlbW8uY29ob3J0X3NpemVfYnlfbW9udGgiKQo=\").decode())\n\ntry:\n    # run user code\n    __backend_agg_user_code_fn()\n\n    #reset display function\n    display = __backend_agg_display_orig\n\n    if len(__backend_agg_dfs) > 0:\n        # create a temp view\n        if type(__backend_agg_dfs[0]).__module__ == \"databricks.koalas.frame\":\n            # koalas dataframe\n            __backend_agg_dfs[0].to_spark().createOrReplaceTempView(\"DatabricksViewc1ab617\")\n        elif type(__backend_agg_dfs[0]).__module__ == \"pandas.core.frame\" or isinstance(__backend_agg_dfs[0], list):\n            # pandas dataframe\n            spark.createDataFrame(__backend_agg_dfs[0]).createOrReplaceTempView(\"DatabricksViewc1ab617\")\n        else:\n            __backend_agg_dfs[0].createOrReplaceTempView(\"DatabricksViewc1ab617\")\n        #run backend agg\n        display(spark.sql(\"\"\"WITH q AS (select * from DatabricksViewc1ab617) SELECT `cohort_month`,SUM(`new_customers`) `column_e90d9a04168` FROM q GROUP BY `cohort_month`\"\"\"))\n    else:\n        displayHTML(\"dataframe no longer exists. If you're using dataframe.display(), use display(dataframe) instead.\")\n\n\nfinally:\n    spark.sql(\"drop view if exists DatabricksViewc1ab617\")\n    display = __backend_agg_display_orig\n    del __backend_agg_display_new\n    del __backend_agg_display_orig\n    del __backend_agg_dfs\n    del __backend_agg_user_code_fn\n\n",
       "commandTitle": "Cohort Size by Month",
       "commandType": "auto",
       "commandVersion": 0,
       "commentThread": [],
       "commentsVisible": false,
       "contentSha256Hex": null,
       "customPlotOptions": {
        "redashChart": [
         {
          "key": "type",
          "value": "CHART"
         },
         {
          "key": "options",
          "value": {
           "alignYAxesAtZero": true,
           "coefficient": 1,
           "columnConfigurationMap": {
            "x": {
             "column": "cohort_month",
             "id": "column_e90d9a04167"
            },
            "y": [
             {
              "column": "new_customers",
              "id": "column_e90d9a04168",
              "transform": "SUM"
             }
            ]
           },
           "dateTimeFormat": "YYYY-MM-DD HH:mm",
           "direction": {
            "type": "counterclockwise"
           },
           "error_y": {
            "type": "data",
            "visible": true
           },
           "globalSeriesType": "column",
           "isAggregationOn": true,
           "legend": {
            "traceorder": "normal"
           },
           "missingValuesAsZero": true,
           "numberFormat": "0,0.[00000]",
           "percentFormat": "0[.]00%",
           "series": {
            "error_y": {
             "type": "data",
             "visible": true
            },
            "stacking": null
           },
           "seriesOptions": {
            "column_e90d9a04168": {
             "name": "new_customers",
             "type": "column",
             "yAxis": 0
            }
           },
           "showDataLabels": true,
           "sizemode": "diameter",
           "sortX": true,
           "sortY": true,
           "swappedAxes": false,
           "textFormat": "",
           "useAggregationsUi": true,
           "valuesOptions": {},
           "version": 2,
           "xAxis": {
            "labels": {
             "enabled": true
            },
            "type": "-"
           },
           "yAxis": [
            {
             "title": {
              "text": "new_customers (cohort_size)"
             },
             "type": "-"
            },
            {
             "opposite": true,
             "type": "-"
            }
           ]
          }
         }
        ]
       },
       "datasetPreviewNameToCmdIdMap": {},
       "diffDeletes": [],
       "diffInserts": [],
       "displayType": "redashChart",
       "error": null,
       "errorDetails": null,
       "errorSummary": null,
       "errorTraceType": null,
       "finishTime": 0,
       "globalVars": {},
       "guid": "",
       "height": "auto",
       "hideCommandCode": false,
       "hideCommandResult": false,
       "iPythonMetadata": null,
       "inputWidgets": {},
       "isLockedInExamMode": false,
       "latestUser": "a user",
       "latestUserId": null,
       "listResultMetadata": null,
       "metadata": {
        "byteLimit": 2048000,
        "rowLimit": 10000
       },
       "nuid": "ce714e14-5313-48b4-a542-43c5c9eb31bd",
       "origId": 0,
       "parentHierarchy": [],
       "pivotAggregation": null,
       "pivotColumns": null,
       "position": 11.0,
       "resultDbfsErrorMessage": null,
       "resultDbfsStatus": "INLINED_IN_TREE",
       "results": null,
       "showCommandTitle": false,
       "startTime": 0,
       "state": "input",
       "streamStates": {},
       "subcommandOptions": {
        "queryPlan": {
         "groups": [
          {
           "column": "cohort_month",
           "type": "column"
          }
         ],
         "selects": [
          {
           "column": "cohort_month",
           "type": "column"
          },
          {
           "alias": "column_e90d9a04168",
           "args": [
            {
             "column": "new_customers",
             "type": "column"
            }
           ],
           "function": "SUM",
           "type": "function"
          }
         ]
        }
       },
       "submitTime": 0,
       "subtype": "tableResultSubCmd.visualization",
       "tableResultIndex": 0,
       "tableResultSettingsMap": {},
       "useConsistentColors": false,
       "version": "CommandV1",
       "width": "auto",
       "workflows": [],
       "xColumns": null,
       "yColumns": null
      }
     },
     "output_type": "display_data"
    }
   ],
   "source": [
    "# Compute Cohort Size by First Purchase Month\n",
    "cohort_size_by_month_df = spark.sql(\"\"\"\n",
    "WITH first_orders AS (\n",
    "    SELECT\n",
    "        customer_id,\n",
    "        MIN(order_date) AS first_purchase_date\n",
    "    FROM ecom_orders\n",
    "    GROUP BY customer_id\n",
    ")\n",
    "\n",
    "SELECT\n",
    "    Cast(DATE_TRUNC('month', first_purchase_date) as Date) AS cohort_month,\n",
    "    COUNT(*) AS new_customers\n",
    "FROM first_orders\n",
    "GROUP BY DATE_TRUNC('month', first_purchase_date)\n",
    "ORDER BY cohort_month\n",
    "\"\"\")\n",
    "display(cohort_size_by_month_df)\n",
    "# Save as permanent table\n",
    "cohort_size_by_month_df.write.format(\"delta\").mode(\"overwrite\").saveAsTable(\"workspace.default_cohort_db.cohort_size_by_month\")\n"
   ]
  },
  {
   "cell_type": "code",
   "execution_count": 0,
   "metadata": {
    "application/vnd.databricks.v1+cell": {
     "cellMetadata": {
      "byteLimit": 2048000,
      "rowLimit": 10000
     },
     "collapsed": true,
     "inputWidgets": {},
     "nuid": "ebf3894a-de68-400e-a0f6-08f89165f9df",
     "showTitle": false,
     "tableResultSettingsMap": {},
     "title": ""
    }
   },
   "outputs": [
    {
     "output_type": "display_data",
     "data": {
      "text/html": [
       "<style scoped>\n",
       "  .table-result-container {\n",
       "    max-height: 300px;\n",
       "    overflow: auto;\n",
       "  }\n",
       "  table, th, td {\n",
       "    border: 1px solid black;\n",
       "    border-collapse: collapse;\n",
       "  }\n",
       "  th, td {\n",
       "    padding: 5px;\n",
       "  }\n",
       "  th {\n",
       "    text-align: left;\n",
       "  }\n",
       "</style><div class='table-result-container'><table class='table-result'><thead style='background-color: white'><tr><th>cohort_month</th><th>total_customers</th><th>repeat_rate_2_orders</th><th>repeat_rate_3_orders</th><th>repeat_rate_4_orders</th></tr></thead><tbody><tr><td>2024-01-01</td><td>66</td><td>100.0</td><td>98.5</td><td>83.3</td></tr><tr><td>2024-02-01</td><td>48</td><td>97.9</td><td>95.8</td><td>81.3</td></tr><tr><td>2024-03-01</td><td>33</td><td>100.0</td><td>93.9</td><td>81.8</td></tr><tr><td>2024-04-01</td><td>27</td><td>96.3</td><td>85.2</td><td>77.8</td></tr><tr><td>2024-05-01</td><td>16</td><td>100.0</td><td>93.8</td><td>68.8</td></tr><tr><td>2024-06-01</td><td>10</td><td>100.0</td><td>70.0</td><td>60.0</td></tr></tbody></table></div>"
      ]
     },
     "metadata": {
      "application/vnd.databricks.v1+output": {
       "addedWidgets": {},
       "aggData": [],
       "aggError": "",
       "aggOverflow": false,
       "aggSchema": [],
       "aggSeriesLimitReached": false,
       "aggType": "",
       "arguments": {},
       "columnCustomDisplayInfos": {},
       "data": [
        [
         "2024-01-01",
         66,
         "100.0",
         "98.5",
         "83.3"
        ],
        [
         "2024-02-01",
         48,
         "97.9",
         "95.8",
         "81.3"
        ],
        [
         "2024-03-01",
         33,
         "100.0",
         "93.9",
         "81.8"
        ],
        [
         "2024-04-01",
         27,
         "96.3",
         "85.2",
         "77.8"
        ],
        [
         "2024-05-01",
         16,
         "100.0",
         "93.8",
         "68.8"
        ],
        [
         "2024-06-01",
         10,
         "100.0",
         "70.0",
         "60.0"
        ]
       ],
       "datasetInfos": [],
       "dbfsResultPath": null,
       "isJsonSchema": true,
       "metadata": {},
       "overflow": false,
       "plotOptions": {
        "customPlotOptions": {},
        "displayType": "table",
        "pivotAggregation": null,
        "pivotColumns": null,
        "xColumns": null,
        "yColumns": null
       },
       "removedWidgets": [],
       "schema": [
        {
         "metadata": "{}",
         "name": "cohort_month",
         "type": "\"date\""
        },
        {
         "metadata": "{}",
         "name": "total_customers",
         "type": "\"long\""
        },
        {
         "metadata": "{}",
         "name": "repeat_rate_2_orders",
         "type": "\"decimal(26,1)\""
        },
        {
         "metadata": "{}",
         "name": "repeat_rate_3_orders",
         "type": "\"decimal(26,1)\""
        },
        {
         "metadata": "{}",
         "name": "repeat_rate_4_orders",
         "type": "\"decimal(26,1)\""
        }
       ],
       "type": "table"
      }
     },
     "output_type": "display_data"
    }
   ],
   "source": [
    "repeat_purchase_df = spark.sql(\"\"\"\n",
    "-- Step 1: Deduplicate orders at customer + order_id level\n",
    "WITH deduped_orders AS (\n",
    "    SELECT\n",
    "        customer_id,\n",
    "        order_id,\n",
    "        MIN(order_date) AS order_date  -- in case of duplicates, pick earliest\n",
    "    FROM ecom_orders\n",
    "    GROUP BY customer_id, order_id\n",
    "),\n",
    "\n",
    "-- Step 2: Get first order month + count total orders\n",
    "customer_orders AS (\n",
    "    SELECT\n",
    "        customer_id,\n",
    "        CAST(DATE_TRUNC('month', MIN(order_date)) AS DATE) AS cohort_month,\n",
    "        COUNT(*) AS total_orders  -- no need for DISTINCT anymore\n",
    "    FROM deduped_orders\n",
    "    GROUP BY customer_id\n",
    "),\n",
    "\n",
    "-- Step 3: Aggregate repeat purchase stats by cohort\n",
    "cohort_stats AS (\n",
    "    SELECT\n",
    "        cohort_month,\n",
    "        COUNT(*) AS total_customers,\n",
    "        COUNT_IF(total_orders >= 2) AS repeat_2_orders,\n",
    "        COUNT_IF(total_orders >= 3) AS repeat_3_orders,\n",
    "        COUNT_IF(total_orders >= 4) AS repeat_4_orders\n",
    "    FROM customer_orders\n",
    "    GROUP BY cohort_month\n",
    ")\n",
    "\n",
    "-- Step 4: Final results\n",
    "SELECT\n",
    "    cohort_month,\n",
    "    total_customers,\n",
    "    ROUND(100.0 * repeat_2_orders / total_customers, 1) AS repeat_rate_2_orders,\n",
    "    ROUND(100.0 * repeat_3_orders / total_customers, 1) AS repeat_rate_3_orders,\n",
    "    ROUND(100.0 * repeat_4_orders / total_customers, 1) AS repeat_rate_4_orders\n",
    "FROM cohort_stats\n",
    "ORDER BY cohort_month\n",
    "\"\"\")\n",
    "\n",
    "# Display results\n",
    "repeat_purchase_df.display()\n",
    "\n",
    "# Save as a Delta table\n",
    "repeat_purchase_df.write.format(\"delta\").mode(\"overwrite\").saveAsTable(\"workspace.default_cohort_db.repeat_purchase_rates_by_cohort_deduped\")\n"
   ]
  },
  {
   "cell_type": "code",
   "execution_count": 0,
   "metadata": {
    "application/vnd.databricks.v1+cell": {
     "cellMetadata": {
      "byteLimit": 2048000,
      "rowLimit": 10000
     },
     "collapsed": true,
     "inputWidgets": {},
     "nuid": "d3e944e4-f3d7-4907-b013-695bc454b138",
     "showTitle": false,
     "tableResultSettingsMap": {},
     "title": ""
    }
   },
   "outputs": [
    {
     "output_type": "display_data",
     "data": {
      "text/html": [
       "<style scoped>\n",
       "  .table-result-container {\n",
       "    max-height: 300px;\n",
       "    overflow: auto;\n",
       "  }\n",
       "  table, th, td {\n",
       "    border: 1px solid black;\n",
       "    border-collapse: collapse;\n",
       "  }\n",
       "  th, td {\n",
       "    padding: 5px;\n",
       "  }\n",
       "  th {\n",
       "    text-align: left;\n",
       "  }\n",
       "</style><div class='table-result-container'><table class='table-result'><thead style='background-color: white'><tr><th>cohort_month</th><th>total_customers</th><th>retention_rate_1_month</th><th>retention_rate_2_months</th><th>retention_rate_3_months</th></tr></thead><tbody><tr><td>2024-01-01</td><td>66</td><td>37.9</td><td>60.6</td><td>77.3</td></tr><tr><td>2024-02-01</td><td>48</td><td>35.4</td><td>66.7</td><td>79.2</td></tr><tr><td>2024-03-01</td><td>33</td><td>33.3</td><td>72.7</td><td>87.9</td></tr><tr><td>2024-04-01</td><td>27</td><td>51.9</td><td>88.9</td><td>92.6</td></tr><tr><td>2024-05-01</td><td>16</td><td>56.3</td><td>93.8</td><td>100.0</td></tr><tr><td>2024-06-01</td><td>10</td><td>30.0</td><td>100.0</td><td>100.0</td></tr></tbody></table></div>"
      ]
     },
     "metadata": {
      "application/vnd.databricks.v1+output": {
       "addedWidgets": {},
       "aggData": [],
       "aggError": "",
       "aggOverflow": false,
       "aggSchema": [],
       "aggSeriesLimitReached": false,
       "aggType": "",
       "arguments": {},
       "columnCustomDisplayInfos": {},
       "data": [
        [
         "2024-01-01",
         66,
         "37.9",
         "60.6",
         "77.3"
        ],
        [
         "2024-02-01",
         48,
         "35.4",
         "66.7",
         "79.2"
        ],
        [
         "2024-03-01",
         33,
         "33.3",
         "72.7",
         "87.9"
        ],
        [
         "2024-04-01",
         27,
         "51.9",
         "88.9",
         "92.6"
        ],
        [
         "2024-05-01",
         16,
         "56.3",
         "93.8",
         "100.0"
        ],
        [
         "2024-06-01",
         10,
         "30.0",
         "100.0",
         "100.0"
        ]
       ],
       "datasetInfos": [],
       "dbfsResultPath": null,
       "isJsonSchema": true,
       "metadata": {},
       "overflow": false,
       "plotOptions": {
        "customPlotOptions": {},
        "displayType": "table",
        "pivotAggregation": null,
        "pivotColumns": null,
        "xColumns": null,
        "yColumns": null
       },
       "removedWidgets": [],
       "schema": [
        {
         "metadata": "{}",
         "name": "cohort_month",
         "type": "\"date\""
        },
        {
         "metadata": "{}",
         "name": "total_customers",
         "type": "\"long\""
        },
        {
         "metadata": "{}",
         "name": "retention_rate_1_month",
         "type": "\"decimal(26,1)\""
        },
        {
         "metadata": "{}",
         "name": "retention_rate_2_months",
         "type": "\"decimal(26,1)\""
        },
        {
         "metadata": "{}",
         "name": "retention_rate_3_months",
         "type": "\"decimal(26,1)\""
        }
       ],
       "type": "table"
      }
     },
     "output_type": "display_data"
    }
   ],
   "source": [
    "final_ret_df=spark.sql(\"\"\"\n",
    "WITH cohorts AS (\n",
    "    SELECT\n",
    "        customer_id,\n",
    "        CAST(DATE_TRUNC('month', first_purchase_date) AS DATE) AS cohort_month,\n",
    "        second_purchase_date,\n",
    "        MONTHS_BETWEEN(second_purchase_date, first_purchase_date) AS months_between\n",
    "    FROM workspace.default_cohort_db.cohort_analysis\n",
    "    WHERE first_purchase_date IS NOT NULL\n",
    "),\n",
    "\n",
    "cohort_aggregates AS (\n",
    "    SELECT\n",
    "        cohort_month,\n",
    "        COUNT(*) AS total_customers,\n",
    "        COUNT_IF(months_between <= 1) AS second_within_1_month,\n",
    "        COUNT_IF(months_between <= 2) AS second_within_2_months,\n",
    "        COUNT_IF(months_between <= 3) AS second_within_3_months\n",
    "    FROM cohorts\n",
    "    GROUP BY cohort_month\n",
    ")\n",
    "\n",
    "SELECT\n",
    "    cohort_month,\n",
    "    total_customers,\n",
    "    ROUND(100.0 * second_within_1_month / total_customers, 1) AS retention_rate_1_month,\n",
    "    ROUND(100.0 * second_within_2_months / total_customers, 1) AS retention_rate_2_months,\n",
    "    ROUND(100.0 * second_within_3_months / total_customers, 1) AS retention_rate_3_months\n",
    "FROM cohort_aggregates\n",
    "ORDER BY cohort_month\n",
    "\"\"\")\n",
    "final_ret_df.display()\n",
    "# Save as permanent table\n",
    "##final_ret_df.write.format(\"delta\").mode(\"overwrite\").saveAsTable(\"workspace.demo.retention_rate_by_cohort\")\n"
   ]
  },
  {
   "cell_type": "markdown",
   "metadata": {
    "application/vnd.databricks.v1+cell": {
     "cellMetadata": {},
     "inputWidgets": {},
     "nuid": "7c58d4dd-d8b3-4957-91ec-9e290c27ce36",
     "showTitle": false,
     "tableResultSettingsMap": {},
     "title": ""
    }
   },
   "source": [
    "**Observations**. \n",
    "\n",
    "**1. Declining acquisition**. \n",
    "\n",
    "Fewer new customers each month, from 66 in January down to 10 in June, and no new customers until the end of the year\n",
    "\n",
    "Maybe a drop in acquisition, which could be seasonal, strategic, or an issue (e.g. reduced marketing spend or fewer leads).\n",
    "\n",
    "**2. Improving retention**. \n",
    "Even though acquisition is shrinking, retention is getting better:\n",
    "\n",
    "**Jan 2024:**   \n",
    "Only 39.4% of customers returned within 1 month.\n",
    "\n",
    "**Apr–May 2024**: Over 50% return within 1 month.\n",
    "\n",
    "In **May/June 2024**, almost all customers return within 2–3 months.\n",
    "\n",
    "**3. March vs. May cohorts:**. \n",
    "\n",
    "**March** had low early retention (30.3%) but very high later retention (87.9%)\n",
    "\n",
    "**May** had smaller volume (16 customers) but perfect 3-month retention (100%)\n",
    "\n"
   ]
  },
  {
   "cell_type": "markdown",
   "metadata": {
    "application/vnd.databricks.v1+cell": {
     "cellMetadata": {},
     "inputWidgets": {},
     "nuid": "4f7ac56e-a704-406e-8692-aa2ebea737f3",
     "showTitle": false,
     "tableResultSettingsMap": {},
     "title": ""
    }
   },
   "source": [
    "\n",
    "**Interpretation and Conclusions**. \n",
    "\n",
    "- Quality of customers is improving, even if volume is dropping.\n",
    "\n",
    "- Retention is climbing steadily, especially long-term.\n",
    " \n",
    "- If the goal is growth, the shrinking cohort sizes could become a problem, even if LTV per customer is rising.\n",
    " \n",
    "- Segment further by acquisition channel, product, or location to see what’s driving strong retention in Apr–Jun."
   ]
  },
  {
   "cell_type": "code",
   "execution_count": 0,
   "metadata": {
    "application/vnd.databricks.v1+cell": {
     "cellMetadata": {},
     "inputWidgets": {},
     "nuid": "3d845e69-0611-46d5-801d-39d776f07789",
     "showTitle": false,
     "tableResultSettingsMap": {},
     "title": ""
    }
   },
   "outputs": [],
   "source": []
  }
 ],
 "metadata": {
  "application/vnd.databricks.v1+notebook": {
   "computePreferences": null,
   "dashboards": [
    {
     "elements": [
      {
       "dashboardResultIndex": 0,
       "elementNUID": "2dd27a48-00fc-4de1-9f3f-1a0faf574828",
       "elementType": "command",
       "guid": "473abc5b-099b-412d-a9fb-f1b26133464a",
       "options": null,
       "position": {
        "height": 6,
        "width": 12,
        "x": 0,
        "y": 0,
        "z": null
       },
       "resultIndex": null
      }
     ],
     "globalVars": {},
     "guid": "",
     "layoutOption": {
      "grid": true,
      "stack": true
     },
     "nuid": "ff7dbf23-51a5-444f-8129-6536607a688a",
     "origId": 4533907432259489,
     "title": "Untitled",
     "version": "DashboardViewV1",
     "width": 1024
    },
    {
     "elements": [
      {
       "dashboardResultIndex": null,
       "elementNUID": "ce714e14-5313-48b4-a542-43c5c9eb31bd",
       "elementType": "command",
       "guid": "595a5043-ac8b-46f4-a978-6bb1c32b594c",
       "options": null,
       "position": {
        "height": 6,
        "width": 18,
        "x": 0,
        "y": 14,
        "z": null
       },
       "resultIndex": null
      },
      {
       "dashboardResultIndex": null,
       "elementNUID": "b5bc4caa-d27e-49c9-82f7-9451a2c19904",
       "elementType": "command",
       "guid": "6f8ddf02-fd50-4ce4-8326-947e561af9fa",
       "options": null,
       "position": {
        "height": 8,
        "width": 18,
        "x": 0,
        "y": 0,
        "z": null
       },
       "resultIndex": null
      },
      {
       "dashboardResultIndex": null,
       "elementNUID": "66bcd33e-f4a9-4a54-bf18-3f8f4e2216e0",
       "elementType": "command",
       "guid": "a8a7c895-2d9c-40f7-b1b6-b67d0ef5fd39",
       "options": null,
       "position": {
        "height": 6,
        "width": 18,
        "x": 0,
        "y": 20,
        "z": null
       },
       "resultIndex": null
      },
      {
       "dashboardResultIndex": null,
       "elementNUID": "5d708576-f9cb-40d0-806d-b50ffc68e3c4",
       "elementType": "command",
       "guid": "ae4ed4e2-85ad-4ad6-99e1-e4de53b0c409",
       "options": null,
       "position": {
        "height": 6,
        "width": 12,
        "x": 0,
        "y": 8,
        "z": null
       },
       "resultIndex": null
      }
     ],
     "globalVars": {},
     "guid": "",
     "layoutOption": {
      "grid": true,
      "stack": true
     },
     "nuid": "1c3ee018-cb43-4dba-ae7d-ee975658ae66",
     "origId": 8684286619032646,
     "title": "E-Commerce Cohort Dashboard",
     "version": "DashboardViewV1",
     "width": 1440
    }
   ],
   "environmentMetadata": {
    "base_environment": "",
    "environment_version": "2"
   },
   "inputWidgetPreferences": null,
   "language": "python",
   "notebookMetadata": {
    "mostRecentlyExecutedCommandWithImplicitDF": {
     "commandId": 7746921390699295,
     "dataframes": [
      "_sqldf"
     ]
    },
    "pythonIndentUnit": 4
   },
   "notebookName": "Cohort_Analysis",
   "widgets": {}
  },
  "language_info": {
   "name": "python"
  }
 },
 "nbformat": 4,
 "nbformat_minor": 0
}